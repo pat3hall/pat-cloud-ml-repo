{
 "cells": [
  {
   "cell_type": "code",
   "execution_count": 1,
   "id": "ad4d89e1",
   "metadata": {},
   "outputs": [
    {
     "name": "stdout",
     "output_type": "stream",
     "text": [
      "{'modelScores': [{'modelVersion': {'modelId': 'dojo_fraud_detection_model', 'modelType': 'ONLINE_FRAUD_INSIGHTS', 'modelVersionNumber': '1.0'}, 'scores': {'dojo_fraud_detection_model_insightscore': 160.0}}], 'ruleResults': [{'ruleId': 'lowriskrule', 'outcomes': ['low_risk']}], 'externalModelOutputs': [], 'ResponseMetadata': {'RequestId': '6525552c-3c06-4617-8ce5-2a4a864ed0ae', 'HTTPStatusCode': 200, 'HTTPHeaders': {'date': 'Wed, 25 Sep 2024 19:01:13 GMT', 'content-type': 'application/x-amz-json-1.1', 'content-length': '288', 'connection': 'keep-alive', 'x-amzn-requestid': '6525552c-3c06-4617-8ce5-2a4a864ed0ae'}, 'RetryAttempts': 0}}\n"
     ]
    }
   ],
   "source": [
    "import boto3\n",
    "import uuid\n",
    "\n",
    "ENTITY_TYPE    = \"dojoentity\"\n",
    "EVENT_TYPE     = \"dojo-event\" \n",
    "\n",
    "DETECTOR_NAME = \"dojodetector\"\n",
    "DETECTOR_VERSION  = \"1\"\n",
    "\n",
    "eventId = uuid.uuid1()\n",
    "\n",
    "fraudDetector = boto3.client('frauddetector')\n",
    "\n",
    "response = fraudDetector.get_event_prediction(\n",
    "detectorId = DETECTOR_NAME,\n",
    "eventId = str(eventId),\n",
    "eventTypeName = EVENT_TYPE,\n",
    "eventTimestamp = '2020-07-13T23:18:21Z',\n",
    "entities = [{'entityType':ENTITY_TYPE, 'entityId':str(eventId.int)}],\n",
    "eventVariables = { 'email_address' : 'johndoe@exampledomain.com', 'ip_address' : '192.10.10.24'})\n",
    "\n",
    "print(response)"
   ]
  },
  {
   "cell_type": "code",
   "execution_count": null,
   "id": "e4aceb61",
   "metadata": {},
   "outputs": [],
   "source": []
  }
 ],
 "metadata": {
  "kernelspec": {
   "display_name": "conda_python3",
   "language": "python",
   "name": "conda_python3"
  },
  "language_info": {
   "codemirror_mode": {
    "name": "ipython",
    "version": 3
   },
   "file_extension": ".py",
   "mimetype": "text/x-python",
   "name": "python",
   "nbconvert_exporter": "python",
   "pygments_lexer": "ipython3",
   "version": "3.10.14"
  }
 },
 "nbformat": 4,
 "nbformat_minor": 5
}
