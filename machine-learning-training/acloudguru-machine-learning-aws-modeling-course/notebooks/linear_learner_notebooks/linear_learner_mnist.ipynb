{
 "cells": [
  {
   "cell_type": "markdown",
   "id": "attached-emergency",
   "metadata": {
    "tags": []
   },
   "source": [
    "# An Introduction to Linear Learner with MNIST\n"
   ]
  },
  {
   "cell_type": "markdown",
   "id": "4385e1b8",
   "metadata": {},
   "source": [
    "---\n",
    "\n",
    "This notebook's CI test result for us-west-2 is as follows. CI test results in other regions can be found at the end of the notebook. \n",
    "\n",
    "![This us-west-2 badge failed to load. Check your device's internet connectivity, otherwise the service is currently unavailable](https://prod.us-west-2.tcx-beacon.docs.aws.dev/sagemaker-nb/us-west-2/aws_sagemaker_studio|sagemaker_algorithms|linear_learner_mnist|linear_learner_mnist.ipynb)\n",
    "\n",
    "---"
   ]
  },
  {
   "cell_type": "markdown",
   "id": "14e0b74c",
   "metadata": {
    "tags": []
   },
   "source": [
    "_**Making a Binary Prediction of Whether a Handwritten Digit is a 0**_\n",
    "\n",
    "1. [Introduction](#Introduction)\n",
    "2. [Prerequisites and Preprocessing](#Prequisites-and-Preprocessing)\n",
    "  1. [Permissions and environment variables](#Permissions-and-environment-variables)\n",
    "  2. [Data ingestion](#Data-ingestion)\n",
    "  3. [Data inspection](#Data-inspection)\n",
    "  4. [Data conversion](#Data-conversion)\n",
    "3. [Training the linear model](#Training-the-linear-model)\n",
    "4. [Set up hosting for the model](#Set-up-hosting-for-the-model)\n",
    "5. [Validate the model for use](#Validate-the-model-for-use)\n"
   ]
  },
  {
   "cell_type": "markdown",
   "id": "republican-behavior",
   "metadata": {
    "tags": []
   },
   "source": [
    "## Introduction\n",
    "\n",
    "Welcome to our example introducing Amazon SageMaker's Linear Learner Algorithm!  Today, we're analyzing the [MNIST](https://en.wikipedia.org/wiki/MNIST_database) dataset which consists of images of handwritten digits, from zero to nine.  We'll use the individual pixel values from each 28 x 28 grayscale image to predict a yes or no label of whether the digit is a 0 or some other digit (1, 2, 3, ... 9).\n",
    "\n",
    "The method that we'll use is a linear binary classifier.  Linear models are supervised learning algorithms used for solving either classification or regression problems.  As input, the model is given labeled examples ( **`x`**, `y`). **`x`** is a high dimensional vector and `y` is a numeric label.  Since we are doing binary classification, the algorithm expects the label to be either 0 or 1 (but Amazon SageMaker Linear Learner also supports regression on continuous values of `y`).  The algorithm learns a linear function, or linear threshold function for classification, mapping the vector **`x`** to an approximation of the label `y`.\n",
    "\n",
    "Amazon SageMaker's Linear Learner algorithm extends upon typical linear models by training many models in parallel, in a computationally efficient manner.  Each model has a different set of hyperparameters, and then the algorithm finds the set that optimizes a specific criteria.  This can provide substantially more accurate models than typical linear algorithms at the same, or lower, cost.\n",
    "\n",
    "To get started, we need to set up the environment with a few prerequisite steps, for permissions, configurations, and so on."
   ]
  },
  {
   "cell_type": "markdown",
   "id": "suburban-surgeon",
   "metadata": {
    "tags": []
   },
   "source": [
    "## Prequisites and Preprocessing\n",
    "\n",
    "The notebook works with *Data Science* kernel in SageMaker Studio.\n",
    "\n",
    "### Permissions and environment variables\n",
    "\n",
    "_This notebook was created and tested on an ml.m4.xlarge notebook instance._\n",
    "\n",
    "Let's start by specifying:\n",
    "\n",
    "- The S3 bucket and prefix that you want to use for training and model data.  This should be within the same region as the Notebook Instance, training, and hosting.\n",
    "- The IAM role arn used to give training and hosting access to your data. See the documentation for how to create these.  Note, if more than one role is required for notebook instances, training, and/or hosting, please replace the boto regexp with a the appropriate full IAM role arn string(s)."
   ]
  },
  {
   "cell_type": "code",
   "execution_count": 1,
   "id": "e6989a26",
   "metadata": {},
   "outputs": [
    {
     "name": "stdout",
     "output_type": "stream",
     "text": [
      "Requirement already satisfied: sagemaker in /home/ec2-user/anaconda3/envs/python3/lib/python3.10/site-packages (2.237.0)\n",
      "Requirement already satisfied: attrs<24,>=23.1.0 in /home/ec2-user/anaconda3/envs/python3/lib/python3.10/site-packages (from sagemaker) (23.2.0)\n",
      "Requirement already satisfied: boto3<2.0,>=1.35.75 in /home/ec2-user/anaconda3/envs/python3/lib/python3.10/site-packages (from sagemaker) (1.35.76)\n",
      "Requirement already satisfied: cloudpickle==2.2.1 in /home/ec2-user/anaconda3/envs/python3/lib/python3.10/site-packages (from sagemaker) (2.2.1)\n",
      "Requirement already satisfied: docker in /home/ec2-user/anaconda3/envs/python3/lib/python3.10/site-packages (from sagemaker) (7.1.0)\n",
      "Requirement already satisfied: fastapi in /home/ec2-user/anaconda3/envs/python3/lib/python3.10/site-packages (from sagemaker) (0.115.6)\n",
      "Requirement already satisfied: google-pasta in /home/ec2-user/anaconda3/envs/python3/lib/python3.10/site-packages (from sagemaker) (0.2.0)\n",
      "Requirement already satisfied: importlib-metadata<7.0,>=1.4.0 in /home/ec2-user/anaconda3/envs/python3/lib/python3.10/site-packages (from sagemaker) (6.11.0)\n",
      "Requirement already satisfied: jsonschema in /home/ec2-user/anaconda3/envs/python3/lib/python3.10/site-packages (from sagemaker) (4.23.0)\n",
      "Requirement already satisfied: numpy<2.0,>=1.9.0 in /home/ec2-user/anaconda3/envs/python3/lib/python3.10/site-packages (from sagemaker) (1.26.4)\n",
      "Requirement already satisfied: omegaconf<2.3,>=2.2 in /home/ec2-user/anaconda3/envs/python3/lib/python3.10/site-packages (from sagemaker) (2.2.3)\n",
      "Requirement already satisfied: packaging>=20.0 in /home/ec2-user/anaconda3/envs/python3/lib/python3.10/site-packages (from sagemaker) (21.3)\n",
      "Requirement already satisfied: pandas in /home/ec2-user/anaconda3/envs/python3/lib/python3.10/site-packages (from sagemaker) (1.5.3)\n",
      "Requirement already satisfied: pathos in /home/ec2-user/anaconda3/envs/python3/lib/python3.10/site-packages (from sagemaker) (0.3.3)\n",
      "Requirement already satisfied: platformdirs in /home/ec2-user/anaconda3/envs/python3/lib/python3.10/site-packages (from sagemaker) (4.3.6)\n",
      "Requirement already satisfied: protobuf<5.0,>=3.12 in /home/ec2-user/anaconda3/envs/python3/lib/python3.10/site-packages (from sagemaker) (4.25.5)\n",
      "Requirement already satisfied: psutil in /home/ec2-user/anaconda3/envs/python3/lib/python3.10/site-packages (from sagemaker) (6.1.0)\n",
      "Requirement already satisfied: pyyaml~=6.0 in /home/ec2-user/anaconda3/envs/python3/lib/python3.10/site-packages (from sagemaker) (6.0.2)\n",
      "Requirement already satisfied: requests in /home/ec2-user/anaconda3/envs/python3/lib/python3.10/site-packages (from sagemaker) (2.32.3)\n",
      "Requirement already satisfied: sagemaker-core<2.0.0,>=1.0.17 in /home/ec2-user/anaconda3/envs/python3/lib/python3.10/site-packages (from sagemaker) (1.0.17)\n",
      "Requirement already satisfied: schema in /home/ec2-user/anaconda3/envs/python3/lib/python3.10/site-packages (from sagemaker) (0.7.7)\n",
      "Requirement already satisfied: smdebug-rulesconfig==1.0.1 in /home/ec2-user/anaconda3/envs/python3/lib/python3.10/site-packages (from sagemaker) (1.0.1)\n",
      "Requirement already satisfied: tblib<4,>=1.7.0 in /home/ec2-user/anaconda3/envs/python3/lib/python3.10/site-packages (from sagemaker) (3.0.0)\n",
      "Requirement already satisfied: tqdm in /home/ec2-user/anaconda3/envs/python3/lib/python3.10/site-packages (from sagemaker) (4.67.0)\n",
      "Requirement already satisfied: urllib3<3.0.0,>=1.26.8 in /home/ec2-user/anaconda3/envs/python3/lib/python3.10/site-packages (from sagemaker) (2.2.3)\n",
      "Requirement already satisfied: uvicorn in /home/ec2-user/anaconda3/envs/python3/lib/python3.10/site-packages (from sagemaker) (0.32.1)\n",
      "Requirement already satisfied: botocore<1.36.0,>=1.35.76 in /home/ec2-user/anaconda3/envs/python3/lib/python3.10/site-packages (from boto3<2.0,>=1.35.75->sagemaker) (1.35.76)\n",
      "Requirement already satisfied: jmespath<2.0.0,>=0.7.1 in /home/ec2-user/anaconda3/envs/python3/lib/python3.10/site-packages (from boto3<2.0,>=1.35.75->sagemaker) (1.0.1)\n",
      "Requirement already satisfied: s3transfer<0.11.0,>=0.10.0 in /home/ec2-user/anaconda3/envs/python3/lib/python3.10/site-packages (from boto3<2.0,>=1.35.75->sagemaker) (0.10.3)\n",
      "Requirement already satisfied: zipp>=0.5 in /home/ec2-user/anaconda3/envs/python3/lib/python3.10/site-packages (from importlib-metadata<7.0,>=1.4.0->sagemaker) (3.21.0)\n",
      "Requirement already satisfied: antlr4-python3-runtime==4.9.* in /home/ec2-user/anaconda3/envs/python3/lib/python3.10/site-packages (from omegaconf<2.3,>=2.2->sagemaker) (4.9.3)\n",
      "Requirement already satisfied: pyparsing!=3.0.5,>=2.0.2 in /home/ec2-user/anaconda3/envs/python3/lib/python3.10/site-packages (from packaging>=20.0->sagemaker) (3.2.0)\n",
      "Requirement already satisfied: pydantic<3.0.0,>=2.0.0 in /home/ec2-user/anaconda3/envs/python3/lib/python3.10/site-packages (from sagemaker-core<2.0.0,>=1.0.17->sagemaker) (2.10.3)\n",
      "Requirement already satisfied: rich<14.0.0,>=13.0.0 in /home/ec2-user/anaconda3/envs/python3/lib/python3.10/site-packages (from sagemaker-core<2.0.0,>=1.0.17->sagemaker) (13.9.4)\n",
      "Requirement already satisfied: mock<5.0,>4.0 in /home/ec2-user/anaconda3/envs/python3/lib/python3.10/site-packages (from sagemaker-core<2.0.0,>=1.0.17->sagemaker) (4.0.3)\n",
      "Requirement already satisfied: jsonschema-specifications>=2023.03.6 in /home/ec2-user/anaconda3/envs/python3/lib/python3.10/site-packages (from jsonschema->sagemaker) (2024.10.1)\n",
      "Requirement already satisfied: referencing>=0.28.4 in /home/ec2-user/anaconda3/envs/python3/lib/python3.10/site-packages (from jsonschema->sagemaker) (0.35.1)\n",
      "Requirement already satisfied: rpds-py>=0.7.1 in /home/ec2-user/anaconda3/envs/python3/lib/python3.10/site-packages (from jsonschema->sagemaker) (0.21.0)\n",
      "Requirement already satisfied: charset-normalizer<4,>=2 in /home/ec2-user/anaconda3/envs/python3/lib/python3.10/site-packages (from requests->sagemaker) (3.4.0)\n",
      "Requirement already satisfied: idna<4,>=2.5 in /home/ec2-user/anaconda3/envs/python3/lib/python3.10/site-packages (from requests->sagemaker) (3.10)\n",
      "Requirement already satisfied: certifi>=2017.4.17 in /home/ec2-user/anaconda3/envs/python3/lib/python3.10/site-packages (from requests->sagemaker) (2024.8.30)\n",
      "Requirement already satisfied: starlette<0.42.0,>=0.40.0 in /home/ec2-user/anaconda3/envs/python3/lib/python3.10/site-packages (from fastapi->sagemaker) (0.41.3)\n",
      "Requirement already satisfied: typing-extensions>=4.8.0 in /home/ec2-user/anaconda3/envs/python3/lib/python3.10/site-packages (from fastapi->sagemaker) (4.12.2)\n",
      "Requirement already satisfied: six in /home/ec2-user/anaconda3/envs/python3/lib/python3.10/site-packages (from google-pasta->sagemaker) (1.16.0)\n",
      "Requirement already satisfied: python-dateutil>=2.8.1 in /home/ec2-user/anaconda3/envs/python3/lib/python3.10/site-packages (from pandas->sagemaker) (2.9.0)\n",
      "Requirement already satisfied: pytz>=2020.1 in /home/ec2-user/anaconda3/envs/python3/lib/python3.10/site-packages (from pandas->sagemaker) (2024.2)\n",
      "Requirement already satisfied: ppft>=1.7.6.9 in /home/ec2-user/anaconda3/envs/python3/lib/python3.10/site-packages (from pathos->sagemaker) (1.7.6.9)\n",
      "Requirement already satisfied: dill>=0.3.9 in /home/ec2-user/anaconda3/envs/python3/lib/python3.10/site-packages (from pathos->sagemaker) (0.3.9)\n",
      "Requirement already satisfied: pox>=0.3.5 in /home/ec2-user/anaconda3/envs/python3/lib/python3.10/site-packages (from pathos->sagemaker) (0.3.5)\n",
      "Requirement already satisfied: multiprocess>=0.70.17 in /home/ec2-user/anaconda3/envs/python3/lib/python3.10/site-packages (from pathos->sagemaker) (0.70.17)\n",
      "Requirement already satisfied: click>=7.0 in /home/ec2-user/anaconda3/envs/python3/lib/python3.10/site-packages (from uvicorn->sagemaker) (8.1.7)\n",
      "Requirement already satisfied: h11>=0.8 in /home/ec2-user/anaconda3/envs/python3/lib/python3.10/site-packages (from uvicorn->sagemaker) (0.14.0)\n",
      "Requirement already satisfied: annotated-types>=0.6.0 in /home/ec2-user/anaconda3/envs/python3/lib/python3.10/site-packages (from pydantic<3.0.0,>=2.0.0->sagemaker-core<2.0.0,>=1.0.17->sagemaker) (0.7.0)\n",
      "Requirement already satisfied: pydantic-core==2.27.1 in /home/ec2-user/anaconda3/envs/python3/lib/python3.10/site-packages (from pydantic<3.0.0,>=2.0.0->sagemaker-core<2.0.0,>=1.0.17->sagemaker) (2.27.1)\n",
      "Requirement already satisfied: markdown-it-py>=2.2.0 in /home/ec2-user/anaconda3/envs/python3/lib/python3.10/site-packages (from rich<14.0.0,>=13.0.0->sagemaker-core<2.0.0,>=1.0.17->sagemaker) (3.0.0)\n",
      "Requirement already satisfied: pygments<3.0.0,>=2.13.0 in /home/ec2-user/anaconda3/envs/python3/lib/python3.10/site-packages (from rich<14.0.0,>=13.0.0->sagemaker-core<2.0.0,>=1.0.17->sagemaker) (2.18.0)\n",
      "Requirement already satisfied: anyio<5,>=3.4.0 in /home/ec2-user/anaconda3/envs/python3/lib/python3.10/site-packages (from starlette<0.42.0,>=0.40.0->fastapi->sagemaker) (4.6.2.post1)\n",
      "Requirement already satisfied: sniffio>=1.1 in /home/ec2-user/anaconda3/envs/python3/lib/python3.10/site-packages (from anyio<5,>=3.4.0->starlette<0.42.0,>=0.40.0->fastapi->sagemaker) (1.3.1)\n",
      "Requirement already satisfied: exceptiongroup>=1.0.2 in /home/ec2-user/anaconda3/envs/python3/lib/python3.10/site-packages (from anyio<5,>=3.4.0->starlette<0.42.0,>=0.40.0->fastapi->sagemaker) (1.2.2)\n",
      "Requirement already satisfied: mdurl~=0.1 in /home/ec2-user/anaconda3/envs/python3/lib/python3.10/site-packages (from markdown-it-py>=2.2.0->rich<14.0.0,>=13.0.0->sagemaker-core<2.0.0,>=1.0.17->sagemaker) (0.1.2)\n"
     ]
    }
   ],
   "source": [
    "! pip install --upgrade sagemaker"
   ]
  },
  {
   "cell_type": "code",
   "execution_count": 27,
   "id": "friendly-discretion",
   "metadata": {
    "execution": {},
    "isConfigCell": true,
    "tags": [
     "parameters"
    ]
   },
   "outputs": [
    {
     "name": "stdout",
     "output_type": "stream",
     "text": [
      "region: us-east-2\n",
      "role: arn:aws:iam::012345678901:role/service-role/AmazonSageMakerServiceCatalogProductsUseRole\n"
     ]
    }
   ],
   "source": [
    "import sagemaker\n",
    "\n",
    "#bucket = sagemaker.Session().default_bucket()\n",
    "bucket = \"pat-demo-bkt-e2\"\n",
    "prefix = \"sagemaker/DEMO-linear-mnist\"\n",
    "\n",
    "# Define IAM role\n",
    "import boto3\n",
    "import re\n",
    "from sagemaker import get_execution_role\n",
    "\n",
    "sess = sagemaker.Session()\n",
    "region = boto3.Session().region_name\n",
    "print(f\"region: {region}\")\n",
    "\n",
    "role = get_execution_role()\n",
    "print (f\"role: {role}\")\n",
    "\n",
    "# S3 bucket where the original mnist data is downloaded and stored.\n",
    "# downloaded_data_bucket = f\"sagemaker-example-files-prod-{region}\"\n",
    "# downloaded_data_prefix = \"datasets/image/MNIST\""
   ]
  },
  {
   "cell_type": "markdown",
   "id": "comic-monaco",
   "metadata": {
    "tags": []
   },
   "source": [
    "### Data ingestion\n",
    "\n",
    "Next, we read the dataset from an online URL into memory, for preprocessing prior to training. This processing could be done *in situ* by Amazon Athena, Apache Spark in Amazon EMR, Amazon Redshift, etc., assuming the dataset is present in the appropriate location. Then, the next step would be to transfer the data to S3 for use in training. For small datasets, such as this one, reading into memory isn't onerous, though it would be for larger datasets."
   ]
  },
  {
   "cell_type": "code",
   "execution_count": 28,
   "id": "billion-samoa",
   "metadata": {
    "execution": {},
    "tags": []
   },
   "outputs": [
    {
     "name": "stdout",
     "output_type": "stream",
     "text": [
      "CPU times: user 745 ms, sys: 338 ms, total: 1.08 s\n",
      "Wall time: 1.83 s\n"
     ]
    }
   ],
   "source": [
    "%%time\n",
    "import pickle, gzip, numpy, urllib.request, json\n",
    "\n",
    "fobj = (\n",
    "    boto3.client(\"s3\")\n",
    "    .get_object(\n",
    "        Bucket=f\"sagemaker-example-files-prod-{boto3.session.Session().region_name}\",\n",
    "        Key=\"datasets/image/MNIST/mnist.pkl.gz\",\n",
    "    )[\"Body\"]\n",
    "    .read()\n",
    ")\n",
    "\n",
    "with open(\"mnist.pkl.gz\", \"wb\") as f:\n",
    "    f.write(fobj)\n",
    "\n",
    "# Load the dataset\n",
    "with gzip.open(\"mnist.pkl.gz\", \"rb\") as f:\n",
    "    train_set, valid_set, test_set = pickle.load(f, encoding=\"latin1\")"
   ]
  },
  {
   "cell_type": "markdown",
   "id": "northern-buyer",
   "metadata": {
    "tags": []
   },
   "source": [
    "### Data inspection\n",
    "\n",
    "Once the dataset is imported, it's typical as part of the machine learning process to inspect the data, understand the distributions, and determine what type(s) of preprocessing might be needed. You can perform those tasks right here in the notebook. As an example, let's go ahead and look at one of the digits that is part of the dataset."
   ]
  },
  {
   "cell_type": "code",
   "execution_count": 29,
   "id": "perfect-zambia",
   "metadata": {
    "execution": {},
    "tags": []
   },
   "outputs": [
    {
     "data": {
      "image/png": "[encoded data removed]",
      "text/plain": [
       "<Figure size 200x1000 with 1 Axes>"
      ]
     },
     "metadata": {},
     "output_type": "display_data"
    }
   ],
   "source": [
    "%matplotlib inline\n",
    "import matplotlib.pyplot as plt\n",
    "\n",
    "plt.rcParams[\"figure.figsize\"] = (2, 10)\n",
    "\n",
    "\n",
    "def show_digit(img, caption=\"\", subplot=None):\n",
    "    if subplot == None:\n",
    "        _, (subplot) = plt.subplots(1, 1)\n",
    "    imgr = img.reshape((28, 28))\n",
    "    subplot.axis(\"off\")\n",
    "    subplot.imshow(imgr, cmap=\"gray\")\n",
    "    plt.title(caption)\n",
    "\n",
    "\n",
    "show_digit(train_set[0][30], \"This is a {}\".format(train_set[1][30]))"
   ]
  },
  {
   "cell_type": "markdown",
   "id": "split-desperate",
   "metadata": {
    "tags": []
   },
   "source": [
    "### Data conversion\n",
    "\n",
    "Since algorithms have particular input and output requirements, converting the dataset is also part of the process that a data scientist goes through prior to initiating training. In this particular case, the Amazon SageMaker implementation of Linear Learner takes recordIO-wrapped protobuf, where the data we have today is a pickle-ized numpy array on disk.\n",
    "\n",
    "Most of the conversion effort is handled by the Amazon SageMaker Python SDK, imported as `sagemaker` below."
   ]
  },
  {
   "cell_type": "code",
   "execution_count": 30,
   "id": "spoken-apparatus",
   "metadata": {
    "tags": []
   },
   "outputs": [
    {
     "data": {
      "text/plain": [
       "0"
      ]
     },
     "execution_count": 30,
     "metadata": {},
     "output_type": "execute_result"
    }
   ],
   "source": [
    "import io\n",
    "import numpy as np\n",
    "import sagemaker.amazon.common as smac\n",
    "\n",
    "vectors = np.array([t.tolist() for t in train_set[0]]).astype(\"float32\")\n",
    "labels = np.where(np.array([t.tolist() for t in train_set[1]]) == 0, 1, 0).astype(\"float32\")\n",
    "\n",
    "buf = io.BytesIO()\n",
    "smac.write_numpy_to_dense_tensor(buf, vectors, labels)\n",
    "buf.seek(0)"
   ]
  },
  {
   "cell_type": "markdown",
   "id": "27817e04",
   "metadata": {},
   "source": [
    "MINST dataset: 50000 images at 28 x 28 pixel per image\n",
    "labels: for image of '0', label[i] = 1, else 0"
   ]
  },
  {
   "cell_type": "code",
   "execution_count": 31,
   "id": "9b423361",
   "metadata": {},
   "outputs": [
    {
     "data": {
      "text/plain": [
       "39200000"
      ]
     },
     "execution_count": 31,
     "metadata": {},
     "output_type": "execute_result"
    }
   ],
   "source": [
    "vectors.size"
   ]
  },
  {
   "cell_type": "code",
   "execution_count": 12,
   "id": "2cc025ae",
   "metadata": {},
   "outputs": [
    {
     "data": {
      "image/png": "[encoded data removed]",
      "text/plain": [
       "<Figure size 200x1000 with 1 Axes>"
      ]
     },
     "metadata": {},
     "output_type": "display_data"
    }
   ],
   "source": [
    "show_digit(train_set[0][21], \"This is a {}\".format(train_set[1][21]))"
   ]
  },
  {
   "cell_type": "markdown",
   "id": "champion-depth",
   "metadata": {
    "tags": []
   },
   "source": [
    "## Upload training data\n",
    "Now that we've created our recordIO-wrapped protobuf, we'll need to upload it to S3, so that Amazon SageMaker training can use it."
   ]
  },
  {
   "cell_type": "code",
   "execution_count": 32,
   "id": "electronic-spirit",
   "metadata": {
    "scrolled": true,
    "tags": []
   },
   "outputs": [
    {
     "name": "stdout",
     "output_type": "stream",
     "text": [
      "uploaded training data location: s3://pat-demo-bkt-e2/sagemaker/DEMO-linear-mnist/train/recordio-pb-data\n"
     ]
    }
   ],
   "source": [
    "import boto3\n",
    "import os\n",
    "\n",
    "key = \"recordio-pb-data\"\n",
    "boto3.resource(\"s3\").Bucket(bucket).Object(os.path.join(prefix, \"train\", key)).upload_fileobj(buf)\n",
    "s3_train_data = \"s3://{}/{}/train/{}\".format(bucket, prefix, key)\n",
    "print(\"uploaded training data location: {}\".format(s3_train_data))"
   ]
  },
  {
   "cell_type": "code",
   "execution_count": 24,
   "id": "922be160",
   "metadata": {},
   "outputs": [
    {
     "name": "stdout",
     "output_type": "stream",
     "text": [
      "training data dir: s3://pat-demo-bkt1/sagemaker/DEMO-linear-mnist/train/\n"
     ]
    }
   ],
   "source": []
  },
  {
   "cell_type": "markdown",
   "id": "central-acrylic",
   "metadata": {
    "tags": []
   },
   "source": [
    "Let's also setup an output S3 location for the model artifact that will be output as the result of training with the algorithm."
   ]
  },
  {
   "cell_type": "code",
   "execution_count": 33,
   "id": "considered-culture",
   "metadata": {
    "tags": []
   },
   "outputs": [
    {
     "name": "stdout",
     "output_type": "stream",
     "text": [
      "training artifacts will be uploaded to: s3://pat-demo-bkt-e2/sagemaker/DEMO-linear-mnist/output\n"
     ]
    }
   ],
   "source": [
    "output_location = \"s3://{}/{}/output\".format(bucket, prefix)\n",
    "print(\"training artifacts will be uploaded to: {}\".format(output_location))"
   ]
  },
  {
   "cell_type": "markdown",
   "id": "regional-reply",
   "metadata": {
    "tags": []
   },
   "source": [
    "## Training the linear model\n",
    "\n",
    "Once we have the data preprocessed and available in the correct format for training, the next step is to actually train the model using the data. Since this data is relatively small, it isn't meant to show off the performance of the Linear Learner training algorithm, although we have tested it on multi-terabyte datasets.\n",
    "\n",
    "Again, we'll use the Amazon SageMaker Python SDK to kick off training, and monitor status until it is completed.  In this example that takes between 7 and 11 minutes.  Despite the dataset being small, provisioning hardware and loading the algorithm container take time upfront.\n",
    "\n",
    "First, let's specify our containers.  Since we want this notebook to run in all 4 of Amazon SageMaker's regions, we'll create a small lookup.  More details on algorithm containers can be found in [AWS documentation](https://docs-aws.amazon.com/sagemaker/latest/dg/sagemaker-algo-docker-registry-paths.html)."
   ]
  },
  {
   "cell_type": "code",
   "execution_count": 34,
   "id": "metric-steel",
   "metadata": {
    "tags": []
   },
   "outputs": [
    {
     "data": {
      "text/html": [
       "<pre style=\"white-space:pre;overflow-x:auto;line-height:normal;font-family:Menlo,'DejaVu Sans Mono',consolas,'Courier New',monospace\"><span style=\"color: #7fbfbf; text-decoration-color: #7fbfbf\">[12/12/24 01:44:21] </span><span style=\"color: #0069ff; text-decoration-color: #0069ff; font-weight: bold\">INFO    </span> Same images used for training and inference. Defaulting to image     <a href=\"file:///home/ec2-user/anaconda3/envs/python3/lib/python3.10/site-packages/sagemaker/image_uris.py\" target=\"_blank\"><span style=\"color: #7f7f7f; text-decoration-color: #7f7f7f\">image_uris.py</span></a><span style=\"color: #7f7f7f; text-decoration-color: #7f7f7f\">:</span><a href=\"file:///home/ec2-user/anaconda3/envs/python3/lib/python3.10/site-packages/sagemaker/image_uris.py#387\" target=\"_blank\"><span style=\"color: #7f7f7f; text-decoration-color: #7f7f7f\">387</span></a>\n",
       "<span style=\"color: #7fbfbf; text-decoration-color: #7fbfbf\">                    </span>         scope: inference.                                                    <span style=\"color: #7f7f7f; text-decoration-color: #7f7f7f\">                 </span>\n",
       "</pre>\n"
      ],
      "text/plain": [
       "\u001b[2;36m[12/12/24 01:44:21]\u001b[0m\u001b[2;36m \u001b[0m\u001b[1;38;2;0;105;255mINFO    \u001b[0m Same images used for training and inference. Defaulting to image     \u001b]8;id=721413;file:///home/ec2-user/anaconda3/envs/python3/lib/python3.10/site-packages/sagemaker/image_uris.py\u001b\\\u001b[2mimage_uris.py\u001b[0m\u001b]8;;\u001b\\\u001b[2m:\u001b[0m\u001b]8;id=916679;file:///home/ec2-user/anaconda3/envs/python3/lib/python3.10/site-packages/sagemaker/image_uris.py#387\u001b\\\u001b[2m387\u001b[0m\u001b]8;;\u001b\\\n",
       "\u001b[2;36m                    \u001b[0m         scope: inference.                                                    \u001b[2m                 \u001b[0m\n"
      ]
     },
     "metadata": {},
     "output_type": "display_data"
    },
    {
     "data": {
      "text/html": [
       "<pre style=\"white-space:pre;overflow-x:auto;line-height:normal;font-family:Menlo,'DejaVu Sans Mono',consolas,'Courier New',monospace\"><span style=\"color: #7fbfbf; text-decoration-color: #7fbfbf\">                    </span><span style=\"color: #0069ff; text-decoration-color: #0069ff; font-weight: bold\">INFO    </span> Ignoring unnecessary instance type: <span style=\"color: #e100e1; text-decoration-color: #e100e1; font-style: italic\">None</span>.                            <a href=\"file:///home/ec2-user/anaconda3/envs/python3/lib/python3.10/site-packages/sagemaker/image_uris.py\" target=\"_blank\"><span style=\"color: #7f7f7f; text-decoration-color: #7f7f7f\">image_uris.py</span></a><span style=\"color: #7f7f7f; text-decoration-color: #7f7f7f\">:</span><a href=\"file:///home/ec2-user/anaconda3/envs/python3/lib/python3.10/site-packages/sagemaker/image_uris.py#524\" target=\"_blank\"><span style=\"color: #7f7f7f; text-decoration-color: #7f7f7f\">524</span></a>\n",
       "</pre>\n"
      ],
      "text/plain": [
       "\u001b[2;36m                   \u001b[0m\u001b[2;36m \u001b[0m\u001b[1;38;2;0;105;255mINFO    \u001b[0m Ignoring unnecessary instance type: \u001b[3;38;2;225;0;225mNone\u001b[0m.                            \u001b]8;id=350538;file:///home/ec2-user/anaconda3/envs/python3/lib/python3.10/site-packages/sagemaker/image_uris.py\u001b\\\u001b[2mimage_uris.py\u001b[0m\u001b]8;;\u001b\\\u001b[2m:\u001b[0m\u001b]8;id=47701;file:///home/ec2-user/anaconda3/envs/python3/lib/python3.10/site-packages/sagemaker/image_uris.py#524\u001b\\\u001b[2m524\u001b[0m\u001b]8;;\u001b\\\n"
      ]
     },
     "metadata": {},
     "output_type": "display_data"
    }
   ],
   "source": [
    "from sagemaker.image_uris import retrieve\n",
    "\n",
    "container = retrieve(\"linear-learner\", boto3.Session().region_name)"
   ]
  },
  {
   "cell_type": "code",
   "execution_count": 35,
   "id": "c41b35bc",
   "metadata": {},
   "outputs": [
    {
     "data": {
      "text/html": [
       "<pre style=\"white-space:pre;overflow-x:auto;line-height:normal;font-family:Menlo,'DejaVu Sans Mono',consolas,'Courier New',monospace\"><span style=\"color: #7fbfbf; text-decoration-color: #7fbfbf\">[12/12/24 01:44:34] </span><span style=\"color: #0069ff; text-decoration-color: #0069ff; font-weight: bold\">INFO    </span> Found credentials from IAM Role:                                   <a href=\"file:///home/ec2-user/anaconda3/envs/python3/lib/python3.10/site-packages/botocore/credentials.py\" target=\"_blank\"><span style=\"color: #7f7f7f; text-decoration-color: #7f7f7f\">credentials.py</span></a><span style=\"color: #7f7f7f; text-decoration-color: #7f7f7f\">:</span><a href=\"file:///home/ec2-user/anaconda3/envs/python3/lib/python3.10/site-packages/botocore/credentials.py#1075\" target=\"_blank\"><span style=\"color: #7f7f7f; text-decoration-color: #7f7f7f\">1075</span></a>\n",
       "<span style=\"color: #7fbfbf; text-decoration-color: #7fbfbf\">                    </span>         BaseNotebookInstanceEc2InstanceRole                                <span style=\"color: #7f7f7f; text-decoration-color: #7f7f7f\">                   </span>\n",
       "</pre>\n"
      ],
      "text/plain": [
       "\u001b[2;36m[12/12/24 01:44:34]\u001b[0m\u001b[2;36m \u001b[0m\u001b[1;38;2;0;105;255mINFO    \u001b[0m Found credentials from IAM Role:                                   \u001b]8;id=134514;file:///home/ec2-user/anaconda3/envs/python3/lib/python3.10/site-packages/botocore/credentials.py\u001b\\\u001b[2mcredentials.py\u001b[0m\u001b]8;;\u001b\\\u001b[2m:\u001b[0m\u001b]8;id=462251;file:///home/ec2-user/anaconda3/envs/python3/lib/python3.10/site-packages/botocore/credentials.py#1075\u001b\\\u001b[2m1075\u001b[0m\u001b]8;;\u001b\\\n",
       "\u001b[2;36m                    \u001b[0m         BaseNotebookInstanceEc2InstanceRole                                \u001b[2m                   \u001b[0m\n"
      ]
     },
     "metadata": {},
     "output_type": "display_data"
    },
    {
     "name": "stdout",
     "output_type": "stream",
     "text": [
      "sagemaker/DEMO-linear-mnist/train/recordio-pb-data\n"
     ]
    }
   ],
   "source": [
    "session = boto3.Session()\n",
    "s3 = session.resource('s3')\n",
    "\n",
    "my_bucket = s3.Bucket(bucket)\n",
    "\n",
    "for my_bucket_object in my_bucket.objects.all():\n",
    "    print(my_bucket_object.key)"
   ]
  },
  {
   "cell_type": "markdown",
   "id": "indie-airport",
   "metadata": {
    "tags": []
   },
   "source": [
    "Next we'll kick off the base estimator, making sure to pass in the necessary hyperparameters.  Notice:\n",
    "- `feature_dim` is set to 784, which is the number of pixels in each 28 x 28 image.\n",
    "- `predictor_type` is set to 'binary_classifier' since we are trying to predict whether the image is or is not a 0.\n",
    "- `mini_batch_size` is set to 200.  This value can be tuned for relatively minor improvements in fit and speed, but selecting a reasonable value relative to the dataset is appropriate in most cases."
   ]
  },
  {
   "cell_type": "code",
   "execution_count": 36,
   "id": "imported-explorer",
   "metadata": {
    "jupyter": {
     "outputs_hidden": true
    },
    "tags": []
   },
   "outputs": [
    {
     "data": {
      "text/html": [
       "<pre style=\"white-space:pre;overflow-x:auto;line-height:normal;font-family:Menlo,'DejaVu Sans Mono',consolas,'Courier New',monospace\"><span style=\"color: #7fbfbf; text-decoration-color: #7fbfbf\">[12/12/24 01:44:35] </span><span style=\"color: #d7af00; text-decoration-color: #d7af00; font-weight: bold\">WARNING </span> train_instance_count has been renamed in sagemaker&gt;=<span style=\"color: #008080; text-decoration-color: #008080; font-weight: bold\">2</span>.              <a href=\"file:///home/ec2-user/anaconda3/envs/python3/lib/python3.10/site-packages/sagemaker/deprecations.py\" target=\"_blank\"><span style=\"color: #7f7f7f; text-decoration-color: #7f7f7f\">deprecations.py</span></a><span style=\"color: #7f7f7f; text-decoration-color: #7f7f7f\">:</span><a href=\"file:///home/ec2-user/anaconda3/envs/python3/lib/python3.10/site-packages/sagemaker/deprecations.py#34\" target=\"_blank\"><span style=\"color: #7f7f7f; text-decoration-color: #7f7f7f\">34</span></a>\n",
       "<span style=\"color: #7fbfbf; text-decoration-color: #7fbfbf\">                    </span>         See: <span style=\"color: #0069ff; text-decoration-color: #0069ff; text-decoration: underline\">https://sagemaker.readthedocs.io/en/stable/v2.html</span> for         <span style=\"color: #7f7f7f; text-decoration-color: #7f7f7f\">                  </span>\n",
       "<span style=\"color: #7fbfbf; text-decoration-color: #7fbfbf\">                    </span>         details.                                                            <span style=\"color: #7f7f7f; text-decoration-color: #7f7f7f\">                  </span>\n",
       "</pre>\n"
      ],
      "text/plain": [
       "\u001b[2;36m[12/12/24 01:44:35]\u001b[0m\u001b[2;36m \u001b[0m\u001b[1;38;2;215;175;0mWARNING \u001b[0m train_instance_count has been renamed in sagemaker>=\u001b[1;36m2\u001b[0m.              \u001b]8;id=21397;file:///home/ec2-user/anaconda3/envs/python3/lib/python3.10/site-packages/sagemaker/deprecations.py\u001b\\\u001b[2mdeprecations.py\u001b[0m\u001b]8;;\u001b\\\u001b[2m:\u001b[0m\u001b]8;id=313983;file:///home/ec2-user/anaconda3/envs/python3/lib/python3.10/site-packages/sagemaker/deprecations.py#34\u001b\\\u001b[2m34\u001b[0m\u001b]8;;\u001b\\\n",
       "\u001b[2;36m                    \u001b[0m         See: \u001b[4;38;2;0;105;255mhttps://sagemaker.readthedocs.io/en/stable/v2.html\u001b[0m for         \u001b[2m                  \u001b[0m\n",
       "\u001b[2;36m                    \u001b[0m         details.                                                            \u001b[2m                  \u001b[0m\n"
      ]
     },
     "metadata": {},
     "output_type": "display_data"
    },
    {
     "data": {
      "text/html": [
       "<pre style=\"white-space:pre;overflow-x:auto;line-height:normal;font-family:Menlo,'DejaVu Sans Mono',consolas,'Courier New',monospace\"><span style=\"color: #7fbfbf; text-decoration-color: #7fbfbf\">                    </span><span style=\"color: #d7af00; text-decoration-color: #d7af00; font-weight: bold\">WARNING </span> train_instance_type has been renamed in sagemaker&gt;=<span style=\"color: #008080; text-decoration-color: #008080; font-weight: bold\">2</span>.               <a href=\"file:///home/ec2-user/anaconda3/envs/python3/lib/python3.10/site-packages/sagemaker/deprecations.py\" target=\"_blank\"><span style=\"color: #7f7f7f; text-decoration-color: #7f7f7f\">deprecations.py</span></a><span style=\"color: #7f7f7f; text-decoration-color: #7f7f7f\">:</span><a href=\"file:///home/ec2-user/anaconda3/envs/python3/lib/python3.10/site-packages/sagemaker/deprecations.py#34\" target=\"_blank\"><span style=\"color: #7f7f7f; text-decoration-color: #7f7f7f\">34</span></a>\n",
       "<span style=\"color: #7fbfbf; text-decoration-color: #7fbfbf\">                    </span>         See: <span style=\"color: #0069ff; text-decoration-color: #0069ff; text-decoration: underline\">https://sagemaker.readthedocs.io/en/stable/v2.html</span> for         <span style=\"color: #7f7f7f; text-decoration-color: #7f7f7f\">                  </span>\n",
       "<span style=\"color: #7fbfbf; text-decoration-color: #7fbfbf\">                    </span>         details.                                                            <span style=\"color: #7f7f7f; text-decoration-color: #7f7f7f\">                  </span>\n",
       "</pre>\n"
      ],
      "text/plain": [
       "\u001b[2;36m                   \u001b[0m\u001b[2;36m \u001b[0m\u001b[1;38;2;215;175;0mWARNING \u001b[0m train_instance_type has been renamed in sagemaker>=\u001b[1;36m2\u001b[0m.               \u001b]8;id=124184;file:///home/ec2-user/anaconda3/envs/python3/lib/python3.10/site-packages/sagemaker/deprecations.py\u001b\\\u001b[2mdeprecations.py\u001b[0m\u001b]8;;\u001b\\\u001b[2m:\u001b[0m\u001b]8;id=779735;file:///home/ec2-user/anaconda3/envs/python3/lib/python3.10/site-packages/sagemaker/deprecations.py#34\u001b\\\u001b[2m34\u001b[0m\u001b]8;;\u001b\\\n",
       "\u001b[2;36m                    \u001b[0m         See: \u001b[4;38;2;0;105;255mhttps://sagemaker.readthedocs.io/en/stable/v2.html\u001b[0m for         \u001b[2m                  \u001b[0m\n",
       "\u001b[2;36m                    \u001b[0m         details.                                                            \u001b[2m                  \u001b[0m\n"
      ]
     },
     "metadata": {},
     "output_type": "display_data"
    },
    {
     "data": {
      "text/html": [
       "<pre style=\"white-space:pre;overflow-x:auto;line-height:normal;font-family:Menlo,'DejaVu Sans Mono',consolas,'Courier New',monospace\"><span style=\"color: #7fbfbf; text-decoration-color: #7fbfbf\">                    </span><span style=\"color: #0069ff; text-decoration-color: #0069ff; font-weight: bold\">INFO    </span> SageMaker Python SDK will collect telemetry to help us better  <a href=\"file:///home/ec2-user/anaconda3/envs/python3/lib/python3.10/site-packages/sagemaker/telemetry/telemetry_logging.py\" target=\"_blank\"><span style=\"color: #7f7f7f; text-decoration-color: #7f7f7f\">telemetry_logging.py</span></a><span style=\"color: #7f7f7f; text-decoration-color: #7f7f7f\">:</span><a href=\"file:///home/ec2-user/anaconda3/envs/python3/lib/python3.10/site-packages/sagemaker/telemetry/telemetry_logging.py#90\" target=\"_blank\"><span style=\"color: #7f7f7f; text-decoration-color: #7f7f7f\">90</span></a>\n",
       "<span style=\"color: #7fbfbf; text-decoration-color: #7fbfbf\">                    </span>         understand our user's needs, diagnose issues, and deliver      <span style=\"color: #7f7f7f; text-decoration-color: #7f7f7f\">                       </span>\n",
       "<span style=\"color: #7fbfbf; text-decoration-color: #7fbfbf\">                    </span>         additional features.                                           <span style=\"color: #7f7f7f; text-decoration-color: #7f7f7f\">                       </span>\n",
       "<span style=\"color: #7fbfbf; text-decoration-color: #7fbfbf\">                    </span>         To opt out of telemetry, please disable via TelemetryOptOut    <span style=\"color: #7f7f7f; text-decoration-color: #7f7f7f\">                       </span>\n",
       "<span style=\"color: #7fbfbf; text-decoration-color: #7fbfbf\">                    </span>         parameter in SDK defaults config. For more information, refer  <span style=\"color: #7f7f7f; text-decoration-color: #7f7f7f\">                       </span>\n",
       "<span style=\"color: #7fbfbf; text-decoration-color: #7fbfbf\">                    </span>         to                                                             <span style=\"color: #7f7f7f; text-decoration-color: #7f7f7f\">                       </span>\n",
       "<span style=\"color: #7fbfbf; text-decoration-color: #7fbfbf\">                    </span>         <span style=\"color: #0069ff; text-decoration-color: #0069ff; text-decoration: underline\">https://sagemaker.readthedocs.io/en/stable/overview.html#confi</span> <span style=\"color: #7f7f7f; text-decoration-color: #7f7f7f\">                       </span>\n",
       "<span style=\"color: #7fbfbf; text-decoration-color: #7fbfbf\">                    </span>         <span style=\"color: #0069ff; text-decoration-color: #0069ff; text-decoration: underline\">guring-and-using-defaults-with-the-sagemaker-python-sdk.</span>       <span style=\"color: #7f7f7f; text-decoration-color: #7f7f7f\">                       </span>\n",
       "</pre>\n"
      ],
      "text/plain": [
       "\u001b[2;36m                   \u001b[0m\u001b[2;36m \u001b[0m\u001b[1;38;2;0;105;255mINFO    \u001b[0m SageMaker Python SDK will collect telemetry to help us better  \u001b]8;id=505233;file:///home/ec2-user/anaconda3/envs/python3/lib/python3.10/site-packages/sagemaker/telemetry/telemetry_logging.py\u001b\\\u001b[2mtelemetry_logging.py\u001b[0m\u001b]8;;\u001b\\\u001b[2m:\u001b[0m\u001b]8;id=761253;file:///home/ec2-user/anaconda3/envs/python3/lib/python3.10/site-packages/sagemaker/telemetry/telemetry_logging.py#90\u001b\\\u001b[2m90\u001b[0m\u001b]8;;\u001b\\\n",
       "\u001b[2;36m                    \u001b[0m         understand our user's needs, diagnose issues, and deliver      \u001b[2m                       \u001b[0m\n",
       "\u001b[2;36m                    \u001b[0m         additional features.                                           \u001b[2m                       \u001b[0m\n",
       "\u001b[2;36m                    \u001b[0m         To opt out of telemetry, please disable via TelemetryOptOut    \u001b[2m                       \u001b[0m\n",
       "\u001b[2;36m                    \u001b[0m         parameter in SDK defaults config. For more information, refer  \u001b[2m                       \u001b[0m\n",
       "\u001b[2;36m                    \u001b[0m         to                                                             \u001b[2m                       \u001b[0m\n",
       "\u001b[2;36m                    \u001b[0m         \u001b[4;38;2;0;105;255mhttps://sagemaker.readthedocs.io/en/stable/overview.html#confi\u001b[0m \u001b[2m                       \u001b[0m\n",
       "\u001b[2;36m                    \u001b[0m         \u001b[4;38;2;0;105;255mguring-and-using-defaults-with-the-sagemaker-python-sdk.\u001b[0m       \u001b[2m                       \u001b[0m\n"
      ]
     },
     "metadata": {},
     "output_type": "display_data"
    },
    {
     "data": {
      "text/html": [
       "<pre style=\"white-space:pre;overflow-x:auto;line-height:normal;font-family:Menlo,'DejaVu Sans Mono',consolas,'Courier New',monospace\"><span style=\"color: #7fbfbf; text-decoration-color: #7fbfbf\">                    </span><span style=\"color: #0069ff; text-decoration-color: #0069ff; font-weight: bold\">INFO    </span> Creating training-job with name:                                       <a href=\"file:///home/ec2-user/anaconda3/envs/python3/lib/python3.10/site-packages/sagemaker/session.py\" target=\"_blank\"><span style=\"color: #7f7f7f; text-decoration-color: #7f7f7f\">session.py</span></a><span style=\"color: #7f7f7f; text-decoration-color: #7f7f7f\">:</span><a href=\"file:///home/ec2-user/anaconda3/envs/python3/lib/python3.10/site-packages/sagemaker/session.py#1042\" target=\"_blank\"><span style=\"color: #7f7f7f; text-decoration-color: #7f7f7f\">1042</span></a>\n",
       "<span style=\"color: #7fbfbf; text-decoration-color: #7fbfbf\">                    </span>         linear-learner-<span style=\"color: #008080; text-decoration-color: #008080; font-weight: bold\">2024</span>-12-12-01-44-35-350                                 <span style=\"color: #7f7f7f; text-decoration-color: #7f7f7f\">               </span>\n",
       "</pre>\n"
      ],
      "text/plain": [
       "\u001b[2;36m                   \u001b[0m\u001b[2;36m \u001b[0m\u001b[1;38;2;0;105;255mINFO    \u001b[0m Creating training-job with name:                                       \u001b]8;id=604910;file:///home/ec2-user/anaconda3/envs/python3/lib/python3.10/site-packages/sagemaker/session.py\u001b\\\u001b[2msession.py\u001b[0m\u001b]8;;\u001b\\\u001b[2m:\u001b[0m\u001b]8;id=421667;file:///home/ec2-user/anaconda3/envs/python3/lib/python3.10/site-packages/sagemaker/session.py#1042\u001b\\\u001b[2m1042\u001b[0m\u001b]8;;\u001b\\\n",
       "\u001b[2;36m                    \u001b[0m         linear-learner-\u001b[1;36m2024\u001b[0m-12-12-01-44-35-350                                 \u001b[2m               \u001b[0m\n"
      ]
     },
     "metadata": {},
     "output_type": "display_data"
    },
    {
     "name": "stdout",
     "output_type": "stream",
     "text": [
      "2024-12-12 01:44:37 Starting - Starting the training job...\n",
      "2024-12-12 01:45:09 Downloading - Downloading input data......\n",
      "2024-12-12 01:45:44 Downloading - Downloading the training image......\n",
      "2024-12-12 01:47:11 Training - Training image download completed. Training in progress...\u001b[34mDocker entrypoint called with argument(s): train\u001b[0m\n",
      "\u001b[34mRunning default environment configuration script\u001b[0m\n",
      "\u001b[34m[12/12/2024 01:47:20 INFO 140422536124224] Reading default configuration from /opt/amazon/lib/python3.8/site-packages/algorithm/resources/default-input.json: {'mini_batch_size': '1000', 'epochs': '15', 'feature_dim': 'auto', 'use_bias': 'true', 'binary_classifier_model_selection_criteria': 'accuracy', 'f_beta': '1.0', 'target_recall': '0.8', 'target_precision': '0.8', 'num_models': 'auto', 'num_calibration_samples': '10000000', 'init_method': 'uniform', 'init_scale': '0.07', 'init_sigma': '0.01', 'init_bias': '0.0', 'optimizer': 'auto', 'loss': 'auto', 'margin': '1.0', 'quantile': '0.5', 'loss_insensitivity': '0.01', 'huber_delta': '1.0', 'num_classes': '1', 'accuracy_top_k': '3', 'wd': 'auto', 'l1': 'auto', 'momentum': 'auto', 'learning_rate': 'auto', 'beta_1': 'auto', 'beta_2': 'auto', 'bias_lr_mult': 'auto', 'bias_wd_mult': 'auto', 'use_lr_scheduler': 'true', 'lr_scheduler_step': 'auto', 'lr_scheduler_factor': 'auto', 'lr_scheduler_minimum_lr': 'auto', 'positive_example_weight_mult': '1.0', 'balance_multiclass_weights': 'false', 'normalize_data': 'true', 'normalize_label': 'auto', 'unbias_data': 'auto', 'unbias_label': 'auto', 'num_point_for_scaler': '10000', '_kvstore': 'auto', '_num_gpus': 'auto', '_num_kv_servers': 'auto', '_log_level': 'info', '_tuning_objective_metric': '', 'early_stopping_patience': '3', 'early_stopping_tolerance': '0.001', '_enable_profiler': 'false'}\u001b[0m\n",
      "\u001b[34m[12/12/2024 01:47:20 INFO 140422536124224] Merging with provided configuration from /opt/ml/input/config/hyperparameters.json: {'feature_dim': '784', 'mini_batch_size': '200', 'predictor_type': 'binary_classifier'}\u001b[0m\n",
      "\u001b[34m[12/12/2024 01:47:20 INFO 140422536124224] Final configuration: {'mini_batch_size': '200', 'epochs': '15', 'feature_dim': '784', 'use_bias': 'true', 'binary_classifier_model_selection_criteria': 'accuracy', 'f_beta': '1.0', 'target_recall': '0.8', 'target_precision': '0.8', 'num_models': 'auto', 'num_calibration_samples': '10000000', 'init_method': 'uniform', 'init_scale': '0.07', 'init_sigma': '0.01', 'init_bias': '0.0', 'optimizer': 'auto', 'loss': 'auto', 'margin': '1.0', 'quantile': '0.5', 'loss_insensitivity': '0.01', 'huber_delta': '1.0', 'num_classes': '1', 'accuracy_top_k': '3', 'wd': 'auto', 'l1': 'auto', 'momentum': 'auto', 'learning_rate': 'auto', 'beta_1': 'auto', 'beta_2': 'auto', 'bias_lr_mult': 'auto', 'bias_wd_mult': 'auto', 'use_lr_scheduler': 'true', 'lr_scheduler_step': 'auto', 'lr_scheduler_factor': 'auto', 'lr_scheduler_minimum_lr': 'auto', 'positive_example_weight_mult': '1.0', 'balance_multiclass_weights': 'false', 'normalize_data': 'true', 'normalize_label': 'auto', 'unbias_data': 'auto', 'unbias_label': 'auto', 'num_point_for_scaler': '10000', '_kvstore': 'auto', '_num_gpus': 'auto', '_num_kv_servers': 'auto', '_log_level': 'info', '_tuning_objective_metric': '', 'early_stopping_patience': '3', 'early_stopping_tolerance': '0.001', '_enable_profiler': 'false', 'predictor_type': 'binary_classifier'}\u001b[0m\n",
      "\u001b[34m/opt/amazon/lib/python3.8/site-packages/mxnet/model.py:97: SyntaxWarning: \"is\" with a literal. Did you mean \"==\"?\n",
      "  if num_device is 1 and 'dist' not in kvstore:\u001b[0m\n",
      "\u001b[34m/opt/amazon/lib/python3.8/site-packages/scipy/optimize/_shgo.py:495: SyntaxWarning: \"is\" with a literal. Did you mean \"==\"?\n",
      "  if cons['type'] is 'ineq':\u001b[0m\n",
      "\u001b[34m/opt/amazon/lib/python3.8/site-packages/scipy/optimize/_shgo.py:743: SyntaxWarning: \"is not\" with a literal. Did you mean \"!=\"?\n",
      "  if len(self.X_min) is not 0:\u001b[0m\n",
      "\u001b[34m[12/12/2024 01:47:23 WARNING 140422536124224] Loggers have already been setup.\u001b[0m\n",
      "\u001b[34m[12/12/2024 01:47:23 INFO 140422536124224] Final configuration: {'mini_batch_size': '200', 'epochs': '15', 'feature_dim': '784', 'use_bias': 'true', 'binary_classifier_model_selection_criteria': 'accuracy', 'f_beta': '1.0', 'target_recall': '0.8', 'target_precision': '0.8', 'num_models': 'auto', 'num_calibration_samples': '10000000', 'init_method': 'uniform', 'init_scale': '0.07', 'init_sigma': '0.01', 'init_bias': '0.0', 'optimizer': 'auto', 'loss': 'auto', 'margin': '1.0', 'quantile': '0.5', 'loss_insensitivity': '0.01', 'huber_delta': '1.0', 'num_classes': '1', 'accuracy_top_k': '3', 'wd': 'auto', 'l1': 'auto', 'momentum': 'auto', 'learning_rate': 'auto', 'beta_1': 'auto', 'beta_2': 'auto', 'bias_lr_mult': 'auto', 'bias_wd_mult': 'auto', 'use_lr_scheduler': 'true', 'lr_scheduler_step': 'auto', 'lr_scheduler_factor': 'auto', 'lr_scheduler_minimum_lr': 'auto', 'positive_example_weight_mult': '1.0', 'balance_multiclass_weights': 'false', 'normalize_data': 'true', 'normalize_label': 'auto', 'unbias_data': 'auto', 'unbias_label': 'auto', 'num_point_for_scaler': '10000', '_kvstore': 'auto', '_num_gpus': 'auto', '_num_kv_servers': 'auto', '_log_level': 'info', '_tuning_objective_metric': '', 'early_stopping_patience': '3', 'early_stopping_tolerance': '0.001', '_enable_profiler': 'false', 'predictor_type': 'binary_classifier'}\u001b[0m\n",
      "\u001b[34m[12/12/2024 01:47:23 WARNING 140422536124224] Loggers have already been setup.\u001b[0m\n",
      "\u001b[34mProcess 7 is a worker.\u001b[0m\n",
      "\u001b[34m[12/12/2024 01:47:23 INFO 140422536124224] Using default worker.\u001b[0m\n",
      "\u001b[34m[12/12/2024 01:47:23 INFO 140422536124224] Checkpoint loading and saving are disabled.\u001b[0m\n",
      "\u001b[34m[2024-12-12 01:47:23.427] [tensorio] [info] epoch_stats={\"data_pipeline\": \"/opt/ml/input/data/train\", \"epoch\": 0, \"duration\": 27, \"num_examples\": 1, \"num_bytes\": 636800}\u001b[0m\n",
      "\u001b[34m[12/12/2024 01:47:23 INFO 140422536124224] Create Store: local\u001b[0m\n",
      "\u001b[34m[2024-12-12 01:47:23.726] [tensorio] [info] epoch_stats={\"data_pipeline\": \"/opt/ml/input/data/train\", \"epoch\": 1, \"duration\": 298, \"num_examples\": 51, \"num_bytes\": 32476800}\u001b[0m\n",
      "\u001b[34m[12/12/2024 01:47:23 INFO 140422536124224] Scaler algorithm parameters\n",
      " <algorithm.scaler.ScalerAlgorithmStable object at 0x7fb61b0ed850>\u001b[0m\n",
      "\u001b[34m[12/12/2024 01:47:23 INFO 140422536124224] Scaling model computed with parameters:\n",
      " {'stdev_label': None, 'stdev_weight': \u001b[0m\n",
      "\u001b[34m[1.00000000e+00 1.00000000e+00 1.00000000e+00 1.00000000e+00\n",
      " 1.00000000e+00 1.00000000e+00 1.00000000e+00 1.00000000e+00\n",
      " 1.00000000e+00 1.00000000e+00 1.00000000e+00 1.00000000e+00\n",
      " 1.00000000e+00 1.00000000e+00 1.00000000e+00 1.00000000e+00\n",
      " 1.00000000e+00 1.00000000e+00 1.00000000e+00 1.00000000e+00\n",
      " 1.00000000e+00 1.00000000e+00 1.00000000e+00 1.00000000e+00\n",
      " 1.00000000e+00 1.00000000e+00 1.00000000e+00 1.00000000e+00\n",
      " 1.00000000e+00 1.00000000e+00 1.00000000e+00 1.00000000e+00\n",
      " 1.00000000e+00 1.00000000e+00 1.00000000e+00 3.94492550e-03\n",
      " 1.04610855e-02 1.33176269e-02 1.02671087e-02 1.89491250e-02\n",
      " 1.65359322e-02 1.81397479e-02 1.77312214e-02 1.80720985e-02\n",
      " 2.26263870e-02 1.72949098e-02 1.77441761e-02 1.38624832e-02\n",
      " 1.54940551e-02 9.07990150e-03 7.73912016e-03 7.61912158e-03\n",
      " 1.00000000e+00 1.00000000e+00 1.00000000e+00 1.00000000e+00\n",
      " 1.00000000e+00 1.00000000e+00 1.00000000e+00 1.00000000e+00\n",
      " 2.24319263e-03 4.84585791e-04 1.97246275e-03 4.55508707e-03\n",
      " 2.29639579e-02 3.39448415e-02 4.29402180e-02 5.23685887e-02\n",
      " 6.82234913e-02 7.98171237e-02 8.88206214e-02 1.01305366e-01\n",
      " 1.15898423e-01 1.12989835e-01 9.80169475e-02 8.25162008e-02\n",
      " 5.89759052e-02 4.34567295e-02 2.49874219e-02 1.34935491e-02\n",
      " 4.03929362e-03 1.00000000e+00 1.00000000e+00 1.00000000e+00\n",
      " 1.00000000e+00 1.00000000e+00 1.00000000e+00 1.00000000e+00\n",
      " 3.77784553e-03 1.69358458e-02 2.65588202e-02 3.42243798e-02\n",
      " 5.25780693e-02 6.86879233e-02 9.47839096e-02 1.18634902e-01\n",
      " 1.40737429e-01 1.66125149e-01 1.85117915e-01 2.01920375e-01\n",
      " 2.06296414e-01 1.97139218e-01 1.73980132e-01 1.44603163e-01\n",
      " 1.06258735e-01 7.99237639e-02 5.08462936e-02 2.65238583e-02\n",
      " 1.36450613e-02 1.00000000e+00 1.00000000e+00 1.00000000e+00\n",
      " 1.00000000e+00 1.00000000e+00 1.00000000e+00 3.20059783e-03\n",
      " 1.45901926e-02 3.13075073e-02 4.58937474e-02 7.50448108e-02\n",
      " 1.05263487e-01 1.42169774e-01 1.86635748e-01 2.27824897e-01\n",
      " 2.65833706e-01 3.00070584e-01 3.25894147e-01 3.41829926e-01\n",
      " 3.42463762e-01 3.27946275e-01 3.03464592e-01 2.60635525e-01\n",
      " 2.05971986e-01 1.55582175e-01 1.13750860e-01 7.58975968e-02\n",
      " 4.29635681e-02 1.47907427e-02 3.48081696e-04 1.00000000e+00\n",
      " 1.00000000e+00 1.00000000e+00 2.93935696e-03 1.51115656e-02\u001b[0m\n",
      "\u001b[34m/opt/amazon/python3.8/lib/python3.8/subprocess.py:848: RuntimeWarning: line buffering (buffering=1) isn't supported in binary mode, the default buffer size will be used\n",
      "  self.stdout = io.open(c2pread, 'rb', bufsize)\n",
      " 3.29358652e-02 6.57071769e-02 9.60143283e-02 1.35235637e-01\n",
      " 1.82123125e-01 2.31933147e-01 2.83096194e-01 3.29145193e-01\n",
      " 3.67008448e-01 3.99231106e-01 4.17853862e-01 4.24342513e-01\n",
      " 4.26379174e-01 4.17568326e-01 3.94363761e-01 3.55644882e-01\n",
      " 3.03377479e-01 2.44013295e-01 1.83915734e-01 1.32495791e-01\n",
      " 8.74551907e-02 4.33507822e-02 1.33556416e-02 6.96163392e-04\n",
      " 1.00000000e+00 1.00000000e+00 7.76072918e-03 2.76757479e-02\n",
      " 5.67227043e-02 9.11811665e-02 1.34879202e-01 1.90676540e-01\n",
      " 2.46868506e-01 3.02129209e-01 3.53216469e-01 3.92389953e-01\n",
      " 4.16605562e-01 4.31067705e-01 4.37365025e-01 4.41249490e-01\n",
      " 4.39440429e-01 4.39221919e-01 4.30656374e-01 4.07722294e-01\n",
      " 3.61761272e-01 3.06319296e-01 2.40859449e-01 1.77256167e-01\n",
      " 1.22995712e-01 7.14610592e-02 3.02156471e-02 1.18679544e-02\n",
      " 1.81776099e-03 9.33173113e-03 1.80900171e-02 4.36167121e-02\n",
      " 7.67053217e-02 1.23607144e-01 1.74079359e-01 2.33128011e-01\n",
      " 2.93940902e-01 3.50558162e-01 3.93199652e-01 4.15627837e-01\n",
      " 4.25236702e-01 4.29629087e-01 4.30348128e-01 4.29715633e-01\n",
      " 4.31071222e-01 4.32865858e-01 4.31941420e-01 4.24364537e-01\n",
      " 3.96579325e-01 3.47653896e-01 2.81905383e-01 2.12364540e-01\n",
      " 1.46784306e-01 9.10512730e-02 4.09692377e-02 1.10720564e-02\n",
      " 7.38706766e-03 1.69502832e-02 2.96603944e-02 5.78092076e-02\n",
      " 1.05509877e-01 1.51767865e-01 2.06245676e-01 2.70226508e-01\n",
      " 3.32466841e-01 3.85342121e-01 4.15692836e-01 4.29783225e-01\n",
      " 4.34012383e-01 4.35559571e-01 4.35787708e-01 4.32419538e-01\n",
      " 4.32698786e-01 4.35421079e-01 4.36579973e-01 4.31350917e-01\n",
      " 4.15372491e-01 3.69549870e-01 3.01578254e-01 2.22329885e-01\n",
      " 1.49137840e-01 9.14694145e-02 3.23920399e-02 8.82186554e-03\n",
      " 1.19894824e-03 1.90961286e-02 3.56134474e-02 6.87012076e-02\n",
      " 1.13878332e-01 1.67845502e-01 2.28681266e-01 2.96960264e-01\n",
      " 3.59889030e-01 4.04147655e-01 4.27901119e-01 4.35145408e-01\n",
      " 4.36418921e-01 4.31494981e-01 4.27002698e-01 4.22120482e-01\n",
      " 4.27684844e-01 4.33761090e-01 4.34772104e-01 4.32158500e-01\n",
      " 4.15939212e-01 3.72851223e-01 3.00387651e-01 2.07922608e-01\n",
      " 1.28391027e-01 6.42759129e-02 2.19067242e-02 5.73158218e-03\n",
      " 1.00000000e+00 2.01530941e-02 3.94741297e-02 6.93644360e-02\n",
      " 1.13405839e-01 1.70645282e-01 2.35999882e-01 3.05523038e-01\n",
      " 3.72269690e-01 4.12820429e-01 4.31253672e-01 4.33602810e-01\n",
      " 4.23717797e-01 4.09735233e-01 4.04385388e-01 4.11280185e-01\n",
      " 4.22015309e-01 4.29675877e-01 4.30581391e-01 4.30687040e-01\n",
      " 4.07417446e-01 3.59438032e-01 2.84420550e-01 1.92011282e-01\n",
      " 1.09981179e-01 4.64483313e-02 1.58791281e-02 2.04981444e-03\n",
      " 1.00000000e+00 1.04851592e-02 3.80173847e-02 6.77681640e-02\n",
      " 1.07945666e-01 1.71286166e-01 2.40526810e-01 3.16523194e-01\n",
      " 3.82934034e-01 4.19950128e-01 4.31718022e-01 4.27304059e-01\n",
      " 4.09066856e-01 3.94010305e-01 4.01941001e-01 4.14808959e-01\n",
      " 4.21882480e-01 4.28273916e-01 4.29794133e-01 4.26058590e-01\n",
      " 3.91682118e-01 3.35908264e-01 2.68548399e-01 1.87748045e-01\n",
      " 1.04305372e-01 4.02241386e-02 2.12533344e-02 1.08292082e-03\n",
      " 1.00000000e+00 1.00112176e-02 2.82707363e-02 5.37265576e-02\n",
      " 9.87592936e-02 1.71164855e-01 2.50810295e-01 3.33866268e-01\n",
      " 3.94889355e-01 4.24917608e-01 4.31839973e-01 4.25715894e-01\n",
      " 4.08126831e-01 4.02041048e-01 4.21552151e-01 4.30972755e-01\n",
      " 4.29834664e-01 4.32951361e-01 4.35623735e-01 4.18909818e-01\n",
      " 3.77192348e-01 3.21708620e-01 2.62223452e-01 1.94190100e-01\n",
      " 1.12322643e-01 3.89801674e-02 1.99374650e-02 3.71287018e-03\n",
      " 1.00000000e+00 9.86280106e-03 1.81496162e-02 3.92598845e-02\n",
      " 9.34294462e-02 1.76559284e-01 2.69591689e-01 3.51013362e-01\n",
      " 4.02812719e-01 4.27507520e-01 4.32988375e-01 4.23787117e-01\n",
      " 4.16044772e-01 4.23496246e-01 4.43873614e-01 4.37031209e-01\n",
      " 4.29811329e-01 4.35970992e-01 4.35601205e-01 4.11843717e-01\n",
      " 3.69036704e-01 3.19448829e-01 2.65287995e-01 2.01888576e-01\n",
      " 1.20717429e-01 4.04090285e-02 7.50047434e-03 1.00000000e+00\n",
      " 1.00000000e+00 4.67976369e-03 9.96531639e-03 3.44210491e-02\n",
      " 9.45271328e-02 1.90941051e-01 2.84894913e-01 3.61630678e-01\n",
      " 4.07279700e-01 4.27376866e-01 4.29911733e-01 4.23774391e-01\n",
      " 4.22459662e-01 4.35994923e-01 4.43703175e-01 4.27118272e-01\n",
      " 4.26644385e-01 4.38567311e-01 4.34852242e-01 4.10224825e-01\n",
      " 3.73937458e-01 3.24929148e-01 2.68227905e-01 2.05017433e-01\n",
      " 1.22506626e-01 4.50176559e-02 7.62108993e-03 1.00000000e+00\n",
      " 1.00000000e+00 2.32054386e-04 9.20575298e-03 3.74859497e-02\n",
      " 1.00403078e-01 2.08951607e-01 2.98761904e-01 3.63920152e-01\n",
      " 4.05923426e-01 4.26199824e-01 4.26035821e-01 4.22738880e-01\n",
      " 4.27782774e-01 4.38919425e-01 4.38770294e-01 4.24572170e-01\n",
      " 4.33793157e-01 4.40616667e-01 4.30870563e-01 4.08146024e-01\n",
      " 3.76872540e-01 3.28658342e-01 2.71661043e-01 2.04069793e-01\n",
      " 1.23419538e-01 4.75159809e-02 1.87039636e-02 2.32054386e-04\n",
      " 1.00000000e+00 3.55816842e-03 1.46121653e-02 4.30633724e-02\n",
      " 1.16337217e-01 2.23566353e-01 3.06311727e-01 3.64136040e-01\n",
      " 3.98461193e-01 4.14042771e-01 4.14940715e-01 4.18315828e-01\n",
      " 4.31104004e-01 4.42299932e-01 4.39964354e-01 4.33156490e-01\n",
      " 4.37774807e-01 4.34804469e-01 4.26190317e-01 4.09637958e-01\n",
      " 3.79669040e-01 3.29323441e-01 2.66756743e-01 1.96854621e-01\n",
      " 1.22142516e-01 5.29063754e-02 2.36502886e-02 4.25433216e-04\n",
      " 1.00000000e+00 2.75275926e-03 2.19910592e-02 5.58153689e-02\n",
      " 1.35455310e-01 2.38594130e-01 3.09096992e-01 3.59269977e-01\n",
      " 3.87636125e-01 3.99718255e-01 4.03454840e-01 4.12936360e-01\n",
      " 4.24752861e-01 4.33075130e-01 4.37052727e-01 4.37283844e-01\n",
      " 4.35459405e-01 4.29879934e-01 4.24114525e-01 4.09037948e-01\n",
      " 3.77857178e-01 3.26454788e-01 2.58835465e-01 1.87275320e-01\n",
      " 1.21168144e-01 6.50033727e-02 2.86698006e-02 3.63503420e-03\n",
      " 1.00000000e+00 6.96163275e-04 2.49386393e-02 7.23880157e-02\n",
      " 1.58358768e-01 2.51288056e-01 3.17836136e-01 3.60069126e-01\n",
      " 3.79850537e-01 3.91518563e-01 4.01267678e-01 4.09322888e-01\n",
      " 4.14236486e-01 4.26342309e-01 4.34745014e-01 4.33905691e-01\n",
      " 4.30959105e-01 4.31691229e-01 4.28531677e-01 4.09231365e-01\n",
      " 3.69187117e-01 3.15112293e-01 2.44048655e-01 1.71371251e-01\n",
      " 1.10449135e-01 5.60242236e-02 1.53466230e-02 6.76992768e-03\n",
      " 1.00000000e+00 1.00000000e+00 3.05887461e-02 8.80458131e-02\n",
      " 1.71716914e-01 2.62007117e-01 3.30397874e-01 3.69256526e-01\n",
      " 3.89117181e-01 4.01139468e-01 4.13360953e-01 4.20257658e-01\n",
      " 4.22717273e-01 4.31972921e-01 4.35091466e-01 4.33622122e-01\n",
      " 4.31084007e-01 4.34083730e-01 4.26372021e-01 3.97604764e-01\n",
      " 3.52505296e-01 2.89563209e-01 2.18649939e-01 1.49916708e-01\n",
      " 9.37407240e-02 4.48708124e-02 1.23545434e-02 4.28988039e-03\n",
      " 1.00000000e+00 1.50835409e-03 3.47997397e-02 9.18959305e-02\n",
      " 1.69907510e-01 2.56383538e-01 3.31546009e-01 3.78374457e-01\n",
      " 4.03178424e-01 4.17098701e-01 4.26328897e-01 4.31362152e-01\n",
      " 4.33458388e-01 4.35984612e-01 4.35091168e-01 4.35326993e-01\n",
      " 4.35005218e-01 4.31360275e-01 4.13945585e-01 3.78624141e-01\n",
      " 3.21096003e-01 2.52549678e-01 1.85978875e-01 1.25768527e-01\n",
      " 7.87079036e-02 3.45092155e-02 1.39352623e-02 1.93378725e-03\n",
      " 1.00000000e+00 2.78465310e-03 3.22530977e-02 7.88924918e-02\n",
      " 1.44034386e-01 2.30809659e-01 3.14300448e-01 3.74641836e-01\n",
      " 4.07947451e-01 4.27144140e-01 4.35362130e-01 4.33135808e-01\n",
      " 4.34356421e-01 4.31999445e-01 4.34135765e-01 4.35558110e-01\n",
      " 4.28441972e-01 4.14655238e-01 3.84276271e-01 3.32879990e-01\n",
      " 2.70405531e-01 2.07401454e-01 1.49886608e-01 9.68566611e-02\n",
      " 6.16969466e-02 2.89664306e-02 1.14726946e-02 1.00000000e+00\n",
      " 1.00000000e+00 1.00000000e+00 2.16943659e-02 5.37078306e-02\n",
      " 1.02763742e-01 1.73823819e-01 2.57987916e-01 3.33273381e-01\n",
      " 3.89094591e-01 4.21987742e-01 4.38015908e-01 4.42052513e-01\n",
      " 4.38766658e-01 4.37678665e-01 4.38338399e-01 4.32226747e-01\n",
      " 4.11157072e-01 3.78847182e-01 3.30883265e-01 2.71805763e-01\n",
      " 2.11537763e-01 1.60093278e-01 1.13874733e-01 7.19486699e-02\n",
      " 4.39616479e-02 2.10775882e-02 6.10366603e-03 1.00000000e+00\n",
      " 1.00000000e+00 1.00000000e+00 5.77727053e-03 2.51513571e-02\n",
      " 6.01222143e-02 1.08414136e-01 1.74756184e-01 2.49787211e-01\n",
      " 3.23381543e-01 3.76828671e-01 4.10625458e-01 4.28288579e-01\n",
      " 4.30554032e-01 4.25631940e-01 4.18370575e-01 3.93252224e-01\n",
      " 3.55806261e-01 3.05945784e-01 2.52188265e-01 2.03128546e-01\n",
      " 1.57345042e-01 1.15941033e-01 7.96129629e-02 5.03237098e-02\n",
      " 1.66886058e-02 3.65128578e-03 3.24876350e-03 1.00000000e+00\n",
      " 1.00000000e+00 1.00000000e+00 1.00000000e+00 1.63300186e-02\n",
      " 3.99022102e-02 6.71634078e-02 1.07849061e-01 1.58636972e-01\n",
      " 2.14336604e-01 2.74235785e-01 3.19748670e-01 3.44148219e-01\n",
      " 3.49004447e-01 3.46731484e-01 3.29878896e-01 2.94327945e-01\n",
      " 2.59320974e-01 2.18367904e-01 1.79865524e-01 1.45078033e-01\n",
      " 1.16880730e-01 8.47071484e-02 5.53058349e-02 3.47583294e-02\n",
      " 1.50805498e-02 1.35365094e-03 1.00000000e+00 1.00000000e+00\n",
      " 1.00000000e+00 1.00000000e+00 1.00000000e+00 2.45967391e-03\n",
      " 1.70110669e-02 4.11987118e-02 6.91738352e-02 1.01292245e-01\n",
      " 1.44580290e-01 1.82481498e-01 2.12960392e-01 2.19844192e-01\n",
      " 2.22073749e-01 2.21406013e-01 2.08605841e-01 1.86790422e-01\n",
      " 1.71107888e-01 1.48116753e-01 1.21893883e-01 1.00215897e-01\n",
      " 7.93611184e-02 5.65856993e-02 3.35968845e-02 2.18519438e-02\n",
      " 5.58676105e-03 1.00000000e+00 1.00000000e+00 1.00000000e+00\n",
      " 1.00000000e+00 1.00000000e+00 1.00000000e+00 1.46967848e-03\n",
      " 1.05320141e-02 2.14112904e-02 4.39937375e-02 6.59096837e-02\n",
      " 9.34475884e-02 1.14821352e-01 1.27970278e-01 1.30696684e-01\n",
      " 1.26551583e-01 1.26627609e-01 1.26468301e-01 1.06794536e-01\n",
      " 9.68687087e-02 8.43336359e-02 7.16911405e-02 5.94058782e-02\n",
      " 4.67881113e-02 3.16491798e-02 1.87638719e-02 7.71086058e-03\n",
      " 1.00000000e+00 1.00000000e+00 1.00000000e+00 1.00000000e+00\n",
      " 1.00000000e+00 1.00000000e+00 1.00000000e+00 1.00000000e+00\n",
      " 1.00000000e+00 6.84560649e-03 1.00246007e-02 1.74784493e-02\n",
      " 2.19308790e-02 2.16455013e-02 2.81812716e-02 3.65256816e-02\n",
      " 4.40249480e-02 4.45496589e-02 4.55292128e-02 3.93585563e-02\n",
      " 3.22563127e-02 2.38721371e-02 2.29482837e-02 1.43505000e-02\n",
      " 1.28365206e-02 8.07273109e-03 7.92295765e-03 1.00000000e+00\n",
      " 1.00000000e+00 1.00000000e+00 1.00000000e+00 1.00000000e+00]\u001b[0m\n",
      "\u001b[34m<NDArray 784 @cpu(0)>, 'mean_label': None, 'mean_weight': \u001b[0m\n",
      "\u001b[34m[0.00000000e+00 0.00000000e+00 0.00000000e+00 0.00000000e+00\n",
      " 0.00000000e+00 0.00000000e+00 0.00000000e+00 0.00000000e+00\n",
      " 0.00000000e+00 0.00000000e+00 0.00000000e+00 0.00000000e+00\n",
      " 0.00000000e+00 0.00000000e+00 0.00000000e+00 0.00000000e+00\n",
      " 0.00000000e+00 0.00000000e+00 0.00000000e+00 0.00000000e+00\n",
      " 0.00000000e+00 0.00000000e+00 0.00000000e+00 0.00000000e+00\n",
      " 0.00000000e+00 0.00000000e+00 0.00000000e+00 0.00000000e+00\n",
      " 0.00000000e+00 0.00000000e+00 0.00000000e+00 0.00000000e+00\n",
      " 0.00000000e+00 0.00000000e+00 0.00000000e+00 3.90625028e-05\n",
      " 1.32889123e-04 2.12545914e-04 2.20588292e-04 4.37346840e-04\n",
      " 4.09773231e-04 4.72962623e-04 4.15517774e-04 5.31939266e-04\n",
      " 6.38020982e-04 4.27389663e-04 3.56923905e-04 3.15946672e-04\n",
      " 3.02159897e-04 1.42080273e-04 1.08379281e-04 7.54442444e-05\n",
      " 0.00000000e+00 0.00000000e+00 0.00000000e+00 0.00000000e+00\n",
      " 0.00000000e+00 0.00000000e+00 0.00000000e+00 0.00000000e+00\n",
      " 2.22120143e-05 6.51041682e-06 1.95312514e-05 1.03017774e-04\n",
      " 7.32230430e-04 1.57130824e-03 2.47051148e-03 3.84382624e-03\n",
      " 6.16153423e-03 8.27282388e-03 1.08363954e-02 1.39410989e-02\n",
      " 1.73958354e-02 1.66976880e-02 1.28461989e-02 8.66957568e-03\n",
      " 4.60631074e-03 2.31617643e-03 9.10692499e-04 2.82245717e-04\n",
      " 5.93596778e-05 0.00000000e+00 0.00000000e+00 0.00000000e+00\n",
      " 0.00000000e+00 0.00000000e+00 0.00000000e+00 0.00000000e+00\n",
      " 4.82536743e-05 4.38112766e-04 9.07628739e-04 1.66743260e-03\n",
      " 3.62936594e-03 6.43727044e-03 1.21074598e-02 1.88530199e-02\n",
      " 2.66567096e-02 3.65372300e-02 4.59099337e-02 5.50080538e-02\n",
      " 5.73376231e-02 5.18887974e-02 4.03002501e-02 2.76489742e-02\n",
      " 1.52611826e-02 8.10087286e-03 3.67302471e-03 1.11711072e-03\n",
      " 3.91773909e-04 0.00000000e+00 0.00000000e+00 0.00000000e+00\n",
      " 0.00000000e+00 0.00000000e+00 0.00000000e+00 4.48069877e-05\n",
      " 3.41222534e-04 1.71568606e-03 3.50030605e-03 8.14491417e-03\n",
      " 1.56544875e-02 2.86845118e-02 4.83670309e-02 7.23407120e-02\n",
      " 1.01020999e-01 1.33289650e-01 1.62758857e-01 1.81522310e-01\n",
      " 1.83595344e-01 1.66121781e-01 1.35376498e-01 9.75677967e-02\n",
      " 5.99628538e-02 3.41015644e-02 1.84110757e-02 8.35784432e-03\n",
      " 2.97602639e-03 4.69132967e-04 3.44669206e-06 0.00000000e+00\n",
      " 0.00000000e+00 0.00000000e+00 2.91053893e-05 3.81433871e-04\n",
      " 1.75551476e-03 5.74257039e-03 1.25919124e-02 2.49088537e-02\n",
      " 4.51240875e-02 7.51478225e-02 1.15662917e-01 1.63785979e-01\n",
      " 2.17636332e-01 2.78250545e-01 3.28077555e-01 3.55426341e-01\n",
      " 3.54569584e-01 3.26203197e-01 2.71575481e-01 2.04266593e-01\n",
      " 1.37503117e-01 8.55721459e-02 4.86711077e-02 2.50899959e-02\n",
      " 1.13591421e-02 3.13763833e-03 4.08241438e-04 6.89338503e-06\n",
      " 0.00000000e+00 0.00000000e+00 1.27910535e-04 1.17225817e-03\n",
      " 4.43704007e-03 1.12787224e-02 2.50107199e-02 4.93233055e-02\n",
      " 8.46358016e-02 1.33169040e-01 1.96388662e-01 2.64108837e-01\n",
      " 3.33429158e-01 4.03901666e-01 4.60013002e-01 4.86333936e-01\n",
      " 4.79071230e-01 4.41563368e-01 3.81979197e-01 3.01045179e-01\n",
      " 2.11790368e-01 1.39361590e-01 8.36182684e-02 4.40996476e-02\n",
      " 2.17700712e-02 7.55936047e-03 1.46790745e-03 2.66544113e-04\n",
      " 1.79993876e-05 1.64292273e-04 4.95174667e-04 2.76692701e-03\n",
      " 8.63549486e-03 2.04936378e-02 4.16942388e-02 7.59351924e-02\n",
      " 1.28435969e-01 1.97459787e-01 2.75440365e-01 3.52621377e-01\n",
      " 4.23433721e-01 4.82485831e-01 5.17372906e-01 5.28684556e-01\n",
      " 5.20964563e-01 4.98504639e-01 4.51166153e-01 3.74432474e-01\n",
      " 2.80243129e-01 1.89844146e-01 1.15545332e-01 6.26642853e-02\n",
      " 3.01079992e-02 1.19734202e-02 2.55744485e-03 2.16375629e-04\n",
      " 7.31464388e-05 3.79519071e-04 1.17455551e-03 4.91115265e-03\n",
      " 1.47813242e-02 3.07169110e-02 5.83739318e-02 1.04968227e-01\n",
      " 1.70094207e-01 2.52433330e-01 3.39439034e-01 4.15227443e-01\n",
      " 4.66429293e-01 4.86376077e-01 4.85968858e-01 4.78029579e-01\n",
      " 4.78621274e-01 4.82984066e-01 4.66659456e-01 4.05716091e-01\n",
      " 3.17226261e-01 2.20420867e-01 1.33341417e-01 6.87564835e-02\n",
      " 3.04760262e-02 1.17689194e-02 1.78806693e-03 1.41314362e-04\n",
      " 1.18719363e-05 5.61044726e-04 1.90295628e-03 6.23506308e-03\n",
      " 1.71511248e-02 3.74770202e-02 7.15031177e-02 1.26650587e-01\n",
      " 2.02949598e-01 2.94427514e-01 3.79658788e-01 4.32254910e-01\n",
      " 4.38242137e-01 4.15262312e-01 3.93862665e-01 3.87077212e-01\n",
      " 4.06341642e-01 4.39446598e-01 4.44381922e-01 4.01194066e-01\n",
      " 3.18853021e-01 2.19575286e-01 1.30831435e-01 6.14755712e-02\n",
      " 2.33264416e-02 6.70764316e-03 8.67800205e-04 7.88909238e-05\n",
      " 0.00000000e+00 5.25811862e-04 2.00367649e-03 6.22357521e-03\n",
      " 1.70232039e-02 3.90058272e-02 7.54829273e-02 1.36563689e-01\n",
      " 2.24274233e-01 3.16170424e-01 3.88575464e-01 4.07194078e-01\n",
      " 3.71892601e-01 3.31032872e-01 3.14777911e-01 3.29337537e-01\n",
      " 3.65734577e-01 4.14378464e-01 4.22445983e-01 3.82889181e-01\n",
      " 2.95634151e-01 1.97893709e-01 1.14763714e-01 5.18550836e-02\n",
      " 1.68543253e-02 3.42869200e-03 4.43091325e-04 2.02971787e-05\n",
      " 0.00000000e+00 2.07184479e-04 1.94431690e-03 5.79695264e-03\n",
      " 1.55070489e-02 3.86274494e-02 7.87140131e-02 1.48641601e-01\n",
      " 2.41823688e-01 3.33093256e-01 3.86814862e-01 3.75730783e-01\n",
      " 3.25647891e-01 2.93674231e-01 2.95394480e-01 3.27838182e-01\n",
      " 3.76086175e-01 4.22431856e-01 4.14441288e-01 3.60018104e-01\n",
      " 2.64072478e-01 1.69874787e-01 9.94791612e-02 4.76409346e-02\n",
      " 1.53029282e-02 2.47587333e-03 6.41084567e-04 1.07230408e-05\n",
      " 0.00000000e+00 1.35186885e-04 1.09183521e-03 3.96254519e-03\n",
      " 1.31809143e-02 3.91624533e-02 8.78136382e-02 1.66480169e-01\n",
      " 2.61925936e-01 3.49522948e-01 3.84906143e-01 3.62014413e-01\n",
      " 3.17119747e-01 3.07949215e-01 3.40878874e-01 3.86790723e-01\n",
      " 4.38486993e-01 4.57743973e-01 4.20700818e-01 3.38735342e-01\n",
      " 2.38151044e-01 1.52724415e-01 9.33498070e-02 4.89954762e-02\n",
      " 1.73000898e-02 2.29702820e-03 5.73299709e-04 3.67647008e-05\n",
      " 0.00000000e+00 1.09145214e-04 4.70664818e-04 2.36251554e-03\n",
      " 1.21591613e-02 4.23525535e-02 1.01402044e-01 1.85072735e-01\n",
      " 2.78429031e-01 3.58133405e-01 3.83456230e-01 3.63861024e-01\n",
      " 3.43767256e-01 3.75709593e-01 4.27707583e-01 4.77439970e-01\n",
      " 5.08730531e-01 4.91583139e-01 4.22190994e-01 3.21526974e-01\n",
      " 2.25145176e-01 1.49216115e-01 9.45909917e-02 5.30058965e-02\n",
      " 1.96327381e-02 2.45787320e-03 1.63909339e-04 0.00000000e+00\n",
      " 0.00000000e+00 4.63388387e-05 1.23314967e-04 1.82559795e-03\n",
      " 1.24268550e-02 5.01930043e-02 1.13691024e-01 1.98525205e-01\n",
      " 2.87391603e-01 3.53973240e-01 3.77128184e-01 3.71904790e-01\n",
      " 3.87973756e-01 4.50541943e-01 5.05334973e-01 5.47347963e-01\n",
      " 5.45139909e-01 5.03177166e-01 4.16105539e-01 3.13716203e-01\n",
      " 2.25746006e-01 1.54364645e-01 9.82486829e-02 5.54687455e-02\n",
      " 2.02895179e-02 2.71369447e-03 1.53569243e-04 0.00000000e+00\n",
      " 0.00000000e+00 2.29779380e-06 1.29059437e-04 2.10937555e-03\n",
      " 1.44427847e-02 5.94948679e-02 1.24456182e-01 2.03150302e-01\n",
      " 2.82244265e-01 3.39428633e-01 3.61441463e-01 3.73201638e-01\n",
      " 4.13510561e-01 4.79015738e-01 5.25484145e-01 5.51089644e-01\n",
      " 5.29901445e-01 4.84033346e-01 3.98011208e-01 3.07428747e-01\n",
      " 2.29727298e-01 1.59011200e-01 1.01290599e-01 5.55250607e-02\n",
      " 2.09635403e-02 3.30805802e-03 6.07383670e-04 2.29779380e-06\n",
      " 0.00000000e+00 3.52328461e-05 3.56541073e-04 2.86688097e-03\n",
      " 1.92647092e-02 6.81977794e-02 1.32639065e-01 2.02236533e-01\n",
      " 2.66284138e-01 3.10493231e-01 3.30831468e-01 3.53237182e-01\n",
      " 3.96811783e-01 4.52369422e-01 5.01086891e-01 5.13104260e-01\n",
      " 4.88676906e-01 4.44411755e-01 3.77638668e-01 3.06069881e-01\n",
      " 2.33306155e-01 1.60425469e-01 9.89686847e-02 5.22671677e-02\n",
      " 2.06602290e-02 4.22526104e-03 8.13419116e-04 4.21262212e-06\n",
      " 0.00000000e+00 2.91053966e-05 6.36489014e-04 4.48491052e-03\n",
      " 2.55284961e-02 7.75854066e-02 1.36625275e-01 1.97816685e-01\n",
      " 2.47107103e-01 2.77965337e-01 2.96399385e-01 3.19282353e-01\n",
      " 3.50133717e-01 4.02653247e-01 4.52548563e-01 4.65458453e-01\n",
      " 4.49672937e-01 4.15680856e-01 3.64384174e-01 3.02985251e-01\n",
      " 2.30487153e-01 1.56144321e-01 9.35650393e-02 4.72882167e-02\n",
      " 2.03730091e-02 5.83065255e-03 1.16766256e-03 4.28921630e-05\n",
      " 0.00000000e+00 6.89338322e-06 9.94562171e-04 7.52182771e-03\n",
      " 3.35301757e-02 8.56223106e-02 1.45067796e-01 1.99473783e-01\n",
      " 2.35507846e-01 2.61963904e-01 2.82924294e-01 2.99275845e-01\n",
      " 3.24255556e-01 3.79102319e-01 4.27750945e-01 4.45426702e-01\n",
      " 4.39175487e-01 4.13512558e-01 3.66264582e-01 2.98041195e-01\n",
      " 2.16834426e-01 1.43233776e-01 8.28910097e-02 4.05553095e-02\n",
      " 1.69791672e-02 4.69975406e-03 5.36534877e-04 1.08379281e-04\n",
      " 0.00000000e+00 0.00000000e+00 1.47863047e-03 1.05024530e-02\n",
      " 3.88499498e-02 9.34677348e-02 1.57761589e-01 2.12396592e-01\n",
      " 2.50571787e-01 2.80267268e-01 3.06436479e-01 3.22650909e-01\n",
      " 3.54604751e-01 4.07702595e-01 4.49304849e-01 4.61061954e-01\n",
      " 4.51730251e-01 4.17679965e-01 3.57743561e-01 2.75059015e-01\n",
      " 1.91341892e-01 1.19954430e-01 6.51554689e-02 3.06713358e-02\n",
      " 1.24111539e-02 3.04534379e-03 2.64246366e-04 5.66789349e-05\n",
      " 0.00000000e+00 1.49356611e-05 1.80798105e-03 1.13239149e-02\n",
      " 3.78412306e-02 8.95664990e-02 1.60410985e-01 2.24792436e-01\n",
      " 2.76505113e-01 3.20614636e-01 3.55537355e-01 3.83608669e-01\n",
      " 4.24673319e-01 4.70654905e-01 4.94765192e-01 4.90774363e-01\n",
      " 4.57127720e-01 3.98746967e-01 3.19976181e-01 2.32536376e-01\n",
      " 1.52743593e-01 8.96327496e-02 4.66409959e-02 2.18301974e-02\n",
      " 8.79289117e-03 1.87768089e-03 2.77267158e-04 1.91482868e-05\n",
      " 0.00000000e+00 2.75735292e-05 1.44454686e-03 8.61136615e-03\n",
      " 2.81575508e-02 7.28680342e-02 1.42569661e-01 2.17411548e-01\n",
      " 2.84816533e-01 3.49293470e-01 4.02283698e-01 4.48456973e-01\n",
      " 4.89529699e-01 5.18406332e-01 5.15267789e-01 4.79520887e-01\n",
      " 4.16718781e-01 3.33896667e-01 2.47254178e-01 1.69138685e-01\n",
      " 1.05075076e-01 5.93033880e-02 3.05147059e-02 1.32747395e-02\n",
      " 5.40058129e-03 1.18336384e-03 1.95695480e-04 0.00000000e+00\n",
      " 0.00000000e+00 0.00000000e+00 6.89721142e-04 4.46806056e-03\n",
      " 1.50172366e-02 4.30227481e-02 9.59244817e-02 1.68278575e-01\n",
      " 2.48389974e-01 3.26328903e-01 3.99626195e-01 4.50407475e-01\n",
      " 4.80903089e-01 4.85644221e-01 4.57765013e-01 4.01768148e-01\n",
      " 3.22133869e-01 2.39229485e-01 1.66479781e-01 1.05612762e-01\n",
      " 6.22487776e-02 3.48900855e-02 1.77856963e-02 7.40387524e-03\n",
      " 2.83203134e-03 7.15762726e-04 8.99969309e-05 0.00000000e+00\n",
      " 0.00000000e+00 0.00000000e+00 8.34865205e-05 1.21553300e-03\n",
      " 5.77895157e-03 1.76428445e-02 4.55882400e-02 9.32050496e-02\n",
      " 1.61846310e-01 2.38669991e-01 3.12052697e-01 3.65406603e-01\n",
      " 3.85710388e-01 3.74680609e-01 3.38445187e-01 2.77131677e-01\n",
      " 2.06985682e-01 1.43368244e-01 9.18692499e-02 5.69282286e-02\n",
      " 3.30288820e-02 1.80342402e-02 8.76416918e-03 3.63855646e-03\n",
      " 6.64828462e-04 6.77849384e-05 3.21691114e-05 0.00000000e+00\n",
      " 0.00000000e+00 0.00000000e+00 0.00000000e+00 4.98621317e-04\n",
      " 2.30277330e-03 6.36450620e-03 1.66011825e-02 3.54247056e-02\n",
      " 6.55170009e-02 1.07647046e-01 1.51787311e-01 1.81880772e-01\n",
      " 1.92358285e-01 1.88761488e-01 1.67838186e-01 1.32023245e-01\n",
      " 9.76650640e-02 6.70833588e-02 4.43386212e-02 2.78511792e-02\n",
      " 1.74919553e-02 9.28232633e-03 4.24862234e-03 1.78461999e-03\n",
      " 3.79519042e-04 1.34037991e-05 0.00000000e+00 0.00000000e+00\n",
      " 0.00000000e+00 0.00000000e+00 0.00000000e+00 3.40839506e-05\n",
      " 5.13556937e-04 2.46017147e-03 6.41352683e-03 1.37603404e-02\n",
      " 2.69841459e-02 4.30097245e-02 5.83812110e-02 6.39866665e-02\n",
      " 6.54944107e-02 6.55058995e-02 5.88855632e-02 4.75118682e-02\n",
      " 3.88442092e-02 2.87913624e-02 1.97437946e-02 1.30062811e-02\n",
      " 8.11121147e-03 4.20726184e-03 1.75666343e-03 7.11933186e-04\n",
      " 1.27527572e-04 0.00000000e+00 0.00000000e+00 0.00000000e+00\n",
      " 0.00000000e+00 0.00000000e+00 0.00000000e+00 1.45526928e-05\n",
      " 1.65824138e-04 7.04656937e-04 2.70641805e-03 5.82452444e-03\n",
      " 1.14096981e-02 1.67432539e-02 2.12630220e-02 2.22717579e-02\n",
      " 2.14824583e-02 2.16463711e-02 2.10447311e-02 1.60512403e-02\n",
      " 1.24433218e-02 9.48874373e-03 6.86351024e-03 4.50291065e-03\n",
      " 2.64667580e-03 1.34420977e-03 5.23513998e-04 1.37867624e-04\n",
      " 0.00000000e+00 0.00000000e+00 0.00000000e+00 0.00000000e+00\n",
      " 0.00000000e+00 0.00000000e+00 0.00000000e+00 0.00000000e+00\n",
      " 0.00000000e+00 6.77849312e-05 1.59696734e-04 4.05177765e-04\n",
      " 5.83639659e-04 6.18489634e-04 1.12515315e-03 1.73866400e-03\n",
      " 2.49387301e-03 2.61565554e-03 2.74969381e-03 2.16490543e-03\n",
      " 1.54028763e-03 9.95710841e-04 7.60186929e-04 3.86795378e-04\n",
      " 2.17141554e-04 1.32123183e-04 1.29059437e-04 0.00000000e+00\n",
      " 0.00000000e+00 0.00000000e+00 0.00000000e+00 0.00000000e+00]\u001b[0m\n",
      "\u001b[34m<NDArray 784 @cpu(0)>}\u001b[0m\n",
      "\u001b[34m[12/12/2024 01:47:23 INFO 140422536124224] nvidia-smi: took 0.039 seconds to run.\u001b[0m\n",
      "\u001b[34m[12/12/2024 01:47:23 INFO 140422536124224] nvidia-smi identified 0 GPUs.\u001b[0m\n",
      "\u001b[34m[12/12/2024 01:47:23 INFO 140422536124224] Number of GPUs being used: 0\u001b[0m\n",
      "\u001b[34m#metrics {\"StartTime\": 1733968043.8362885, \"EndTime\": 1733968043.836319, \"Dimensions\": {\"Algorithm\": \"Linear Learner\", \"Host\": \"algo-1\", \"Operation\": \"training\", \"Meta\": \"init_train_data_iter\"}, \"Metrics\": {\"Total Records Seen\": {\"sum\": 10400.0, \"count\": 1, \"min\": 10400, \"max\": 10400}, \"Total Batches Seen\": {\"sum\": 52.0, \"count\": 1, \"min\": 52, \"max\": 52}, \"Max Records Seen Between Resets\": {\"sum\": 10200.0, \"count\": 1, \"min\": 10200, \"max\": 10200}, \"Max Batches Seen Between Resets\": {\"sum\": 51.0, \"count\": 1, \"min\": 51, \"max\": 51}, \"Reset Count\": {\"sum\": 2.0, \"count\": 1, \"min\": 2, \"max\": 2}, \"Number of Records Since Last Reset\": {\"sum\": 0.0, \"count\": 1, \"min\": 0, \"max\": 0}, \"Number of Batches Since Last Reset\": {\"sum\": 0.0, \"count\": 1, \"min\": 0, \"max\": 0}}}\u001b[0m\n",
      "\u001b[34m[2024-12-12 01:47:28.625] [tensorio] [info] epoch_stats={\"data_pipeline\": \"/opt/ml/input/data/train\", \"epoch\": 3, \"duration\": 4789, \"num_examples\": 250, \"num_bytes\": 159200000}\u001b[0m\n",
      "\u001b[34m#metrics {\"StartTime\": 1733968048.6257424, \"EndTime\": 1733968048.6258395, \"Dimensions\": {\"Algorithm\": \"Linear Learner\", \"Host\": \"algo-1\", \"Operation\": \"training\", \"epoch\": 0, \"model\": 0}, \"Metrics\": {\"train_binary_classification_cross_entropy_objective\": {\"sum\": 0.13601245830535888, \"count\": 1, \"min\": 0.13601245830535888, \"max\": 0.13601245830535888}}}\u001b[0m\n",
      "\u001b[34m#metrics {\"StartTime\": 1733968048.6259077, \"EndTime\": 1733968048.6259208, \"Dimensions\": {\"Algorithm\": \"Linear Learner\", \"Host\": \"algo-1\", \"Operation\": \"training\", \"epoch\": 0, \"model\": 1}, \"Metrics\": {\"train_binary_classification_cross_entropy_objective\": {\"sum\": 0.1339173860168457, \"count\": 1, \"min\": 0.1339173860168457, \"max\": 0.1339173860168457}}}\u001b[0m\n",
      "\u001b[34m#metrics {\"StartTime\": 1733968048.6259632, \"EndTime\": 1733968048.6259742, \"Dimensions\": {\"Algorithm\": \"Linear Learner\", \"Host\": \"algo-1\", \"Operation\": \"training\", \"epoch\": 0, \"model\": 2}, \"Metrics\": {\"train_binary_classification_cross_entropy_objective\": {\"sum\": 0.13343331678390502, \"count\": 1, \"min\": 0.13343331678390502, \"max\": 0.13343331678390502}}}\u001b[0m\n",
      "\u001b[34m#metrics {\"StartTime\": 1733968048.6260068, \"EndTime\": 1733968048.6260166, \"Dimensions\": {\"Algorithm\": \"Linear Learner\", \"Host\": \"algo-1\", \"Operation\": \"training\", \"epoch\": 0, \"model\": 3}, \"Metrics\": {\"train_binary_classification_cross_entropy_objective\": {\"sum\": 0.13469792325973512, \"count\": 1, \"min\": 0.13469792325973512, \"max\": 0.13469792325973512}}}\u001b[0m\n",
      "\u001b[34m#metrics {\"StartTime\": 1733968048.6260493, \"EndTime\": 1733968048.626059, \"Dimensions\": {\"Algorithm\": \"Linear Learner\", \"Host\": \"algo-1\", \"Operation\": \"training\", \"epoch\": 0, \"model\": 4}, \"Metrics\": {\"train_binary_classification_cross_entropy_objective\": {\"sum\": 0.1835616677302122, \"count\": 1, \"min\": 0.1835616677302122, \"max\": 0.1835616677302122}}}\u001b[0m\n",
      "\u001b[34m#metrics {\"StartTime\": 1733968048.6260831, \"EndTime\": 1733968048.6260917, \"Dimensions\": {\"Algorithm\": \"Linear Learner\", \"Host\": \"algo-1\", \"Operation\": \"training\", \"epoch\": 0, \"model\": 5}, \"Metrics\": {\"train_binary_classification_cross_entropy_objective\": {\"sum\": 0.1986246542159468, \"count\": 1, \"min\": 0.1986246542159468, \"max\": 0.1986246542159468}}}\u001b[0m\n",
      "\u001b[34m#metrics {\"StartTime\": 1733968048.626118, \"EndTime\": 1733968048.6261253, \"Dimensions\": {\"Algorithm\": \"Linear Learner\", \"Host\": \"algo-1\", \"Operation\": \"training\", \"epoch\": 0, \"model\": 6}, \"Metrics\": {\"train_binary_classification_cross_entropy_objective\": {\"sum\": 0.18718150935992597, \"count\": 1, \"min\": 0.18718150935992597, \"max\": 0.18718150935992597}}}\u001b[0m\n",
      "\u001b[34m#metrics {\"StartTime\": 1733968048.6261542, \"EndTime\": 1733968048.6261632, \"Dimensions\": {\"Algorithm\": \"Linear Learner\", \"Host\": \"algo-1\", \"Operation\": \"training\", \"epoch\": 0, \"model\": 7}, \"Metrics\": {\"train_binary_classification_cross_entropy_objective\": {\"sum\": 0.19651478447927162, \"count\": 1, \"min\": 0.19651478447927162, \"max\": 0.19651478447927162}}}\u001b[0m\n",
      "\u001b[34m#metrics {\"StartTime\": 1733968048.6261938, \"EndTime\": 1733968048.6262026, \"Dimensions\": {\"Algorithm\": \"Linear Learner\", \"Host\": \"algo-1\", \"Operation\": \"training\", \"epoch\": 0, \"model\": 8}, \"Metrics\": {\"train_binary_classification_cross_entropy_objective\": {\"sum\": 0.13511297475814818, \"count\": 1, \"min\": 0.13511297475814818, \"max\": 0.13511297475814818}}}\u001b[0m\n",
      "\u001b[34m#metrics {\"StartTime\": 1733968048.6262355, \"EndTime\": 1733968048.6262436, \"Dimensions\": {\"Algorithm\": \"Linear Learner\", \"Host\": \"algo-1\", \"Operation\": \"training\", \"epoch\": 0, \"model\": 9}, \"Metrics\": {\"train_binary_classification_cross_entropy_objective\": {\"sum\": 0.13200088909149169, \"count\": 1, \"min\": 0.13200088909149169, \"max\": 0.13200088909149169}}}\u001b[0m\n",
      "\u001b[34m#metrics {\"StartTime\": 1733968048.6262774, \"EndTime\": 1733968048.6262872, \"Dimensions\": {\"Algorithm\": \"Linear Learner\", \"Host\": \"algo-1\", \"Operation\": \"training\", \"epoch\": 0, \"model\": 10}, \"Metrics\": {\"train_binary_classification_cross_entropy_objective\": {\"sum\": 0.13114209729194642, \"count\": 1, \"min\": 0.13114209729194642, \"max\": 0.13114209729194642}}}\u001b[0m\n",
      "\u001b[34m#metrics {\"StartTime\": 1733968048.6263185, \"EndTime\": 1733968048.626327, \"Dimensions\": {\"Algorithm\": \"Linear Learner\", \"Host\": \"algo-1\", \"Operation\": \"training\", \"epoch\": 0, \"model\": 11}, \"Metrics\": {\"train_binary_classification_cross_entropy_objective\": {\"sum\": 0.1316321087551117, \"count\": 1, \"min\": 0.1316321087551117, \"max\": 0.1316321087551117}}}\u001b[0m\n",
      "\u001b[34m#metrics {\"StartTime\": 1733968048.6263525, \"EndTime\": 1733968048.626359, \"Dimensions\": {\"Algorithm\": \"Linear Learner\", \"Host\": \"algo-1\", \"Operation\": \"training\", \"epoch\": 0, \"model\": 12}, \"Metrics\": {\"train_binary_classification_cross_entropy_objective\": {\"sum\": 0.13802010006308554, \"count\": 1, \"min\": 0.13802010006308554, \"max\": 0.13802010006308554}}}\u001b[0m\n",
      "\u001b[34m#metrics {\"StartTime\": 1733968048.6263952, \"EndTime\": 1733968048.6264038, \"Dimensions\": {\"Algorithm\": \"Linear Learner\", \"Host\": \"algo-1\", \"Operation\": \"training\", \"epoch\": 0, \"model\": 13}, \"Metrics\": {\"train_binary_classification_cross_entropy_objective\": {\"sum\": 0.15543329360984265, \"count\": 1, \"min\": 0.15543329360984265, \"max\": 0.15543329360984265}}}\u001b[0m\n",
      "\u001b[34m#metrics {\"StartTime\": 1733968048.6264277, \"EndTime\": 1733968048.6264348, \"Dimensions\": {\"Algorithm\": \"Linear Learner\", \"Host\": \"algo-1\", \"Operation\": \"training\", \"epoch\": 0, \"model\": 14}, \"Metrics\": {\"train_binary_classification_cross_entropy_objective\": {\"sum\": 0.14144959698319434, \"count\": 1, \"min\": 0.14144959698319434, \"max\": 0.14144959698319434}}}\u001b[0m\n",
      "\u001b[34m#metrics {\"StartTime\": 1733968048.6264594, \"EndTime\": 1733968048.6264668, \"Dimensions\": {\"Algorithm\": \"Linear Learner\", \"Host\": \"algo-1\", \"Operation\": \"training\", \"epoch\": 0, \"model\": 15}, \"Metrics\": {\"train_binary_classification_cross_entropy_objective\": {\"sum\": 0.15132120890438558, \"count\": 1, \"min\": 0.15132120890438558, \"max\": 0.15132120890438558}}}\u001b[0m\n",
      "\u001b[34m#metrics {\"StartTime\": 1733968048.6264975, \"EndTime\": 1733968048.6265056, \"Dimensions\": {\"Algorithm\": \"Linear Learner\", \"Host\": \"algo-1\", \"Operation\": \"training\", \"epoch\": 0, \"model\": 16}, \"Metrics\": {\"train_binary_classification_cross_entropy_objective\": {\"sum\": 0.15907261028289796, \"count\": 1, \"min\": 0.15907261028289796, \"max\": 0.15907261028289796}}}\u001b[0m\n",
      "\u001b[34m#metrics {\"StartTime\": 1733968048.6265333, \"EndTime\": 1733968048.6265407, \"Dimensions\": {\"Algorithm\": \"Linear Learner\", \"Host\": \"algo-1\", \"Operation\": \"training\", \"epoch\": 0, \"model\": 17}, \"Metrics\": {\"train_binary_classification_cross_entropy_objective\": {\"sum\": 0.1544796887397766, \"count\": 1, \"min\": 0.1544796887397766, \"max\": 0.1544796887397766}}}\u001b[0m\n",
      "\u001b[34m#metrics {\"StartTime\": 1733968048.6265697, \"EndTime\": 1733968048.6265779, \"Dimensions\": {\"Algorithm\": \"Linear Learner\", \"Host\": \"algo-1\", \"Operation\": \"training\", \"epoch\": 0, \"model\": 18}, \"Metrics\": {\"train_binary_classification_cross_entropy_objective\": {\"sum\": 0.1556040065574646, \"count\": 1, \"min\": 0.1556040065574646, \"max\": 0.1556040065574646}}}\u001b[0m\n",
      "\u001b[34m#metrics {\"StartTime\": 1733968048.6266124, \"EndTime\": 1733968048.6266208, \"Dimensions\": {\"Algorithm\": \"Linear Learner\", \"Host\": \"algo-1\", \"Operation\": \"training\", \"epoch\": 0, \"model\": 19}, \"Metrics\": {\"train_binary_classification_cross_entropy_objective\": {\"sum\": 0.155760298538208, \"count\": 1, \"min\": 0.155760298538208, \"max\": 0.155760298538208}}}\u001b[0m\n",
      "\u001b[34m#metrics {\"StartTime\": 1733968048.6266546, \"EndTime\": 1733968048.6266637, \"Dimensions\": {\"Algorithm\": \"Linear Learner\", \"Host\": \"algo-1\", \"Operation\": \"training\", \"epoch\": 0, \"model\": 20}, \"Metrics\": {\"train_binary_classification_cross_entropy_objective\": {\"sum\": 0.15993022289276124, \"count\": 1, \"min\": 0.15993022289276124, \"max\": 0.15993022289276124}}}\u001b[0m\n",
      "\u001b[34m#metrics {\"StartTime\": 1733968048.6266959, \"EndTime\": 1733968048.6267047, \"Dimensions\": {\"Algorithm\": \"Linear Learner\", \"Host\": \"algo-1\", \"Operation\": \"training\", \"epoch\": 0, \"model\": 21}, \"Metrics\": {\"train_binary_classification_cross_entropy_objective\": {\"sum\": 0.1627838395690918, \"count\": 1, \"min\": 0.1627838395690918, \"max\": 0.1627838395690918}}}\u001b[0m\n",
      "\u001b[34m#metrics {\"StartTime\": 1733968048.6267374, \"EndTime\": 1733968048.626747, \"Dimensions\": {\"Algorithm\": \"Linear Learner\", \"Host\": \"algo-1\", \"Operation\": \"training\", \"epoch\": 0, \"model\": 22}, \"Metrics\": {\"train_binary_classification_cross_entropy_objective\": {\"sum\": 0.16384555492401123, \"count\": 1, \"min\": 0.16384555492401123, \"max\": 0.16384555492401123}}}\u001b[0m\n",
      "\u001b[34m#metrics {\"StartTime\": 1733968048.626782, \"EndTime\": 1733968048.626791, \"Dimensions\": {\"Algorithm\": \"Linear Learner\", \"Host\": \"algo-1\", \"Operation\": \"training\", \"epoch\": 0, \"model\": 23}, \"Metrics\": {\"train_binary_classification_cross_entropy_objective\": {\"sum\": 0.16884661577224733, \"count\": 1, \"min\": 0.16884661577224733, \"max\": 0.16884661577224733}}}\u001b[0m\n",
      "\u001b[34m#metrics {\"StartTime\": 1733968048.6268256, \"EndTime\": 1733968048.6268349, \"Dimensions\": {\"Algorithm\": \"Linear Learner\", \"Host\": \"algo-1\", \"Operation\": \"training\", \"epoch\": 0, \"model\": 24}, \"Metrics\": {\"train_binary_classification_cross_entropy_objective\": {\"sum\": 0.332652490234375, \"count\": 1, \"min\": 0.332652490234375, \"max\": 0.332652490234375}}}\u001b[0m\n",
      "\u001b[34m#metrics {\"StartTime\": 1733968048.6268697, \"EndTime\": 1733968048.6268783, \"Dimensions\": {\"Algorithm\": \"Linear Learner\", \"Host\": \"algo-1\", \"Operation\": \"training\", \"epoch\": 0, \"model\": 25}, \"Metrics\": {\"train_binary_classification_cross_entropy_objective\": {\"sum\": 0.33218759544372556, \"count\": 1, \"min\": 0.33218759544372556, \"max\": 0.33218759544372556}}}\u001b[0m\n",
      "\u001b[34m#metrics {\"StartTime\": 1733968048.6269093, \"EndTime\": 1733968048.6269171, \"Dimensions\": {\"Algorithm\": \"Linear Learner\", \"Host\": \"algo-1\", \"Operation\": \"training\", \"epoch\": 0, \"model\": 26}, \"Metrics\": {\"train_binary_classification_cross_entropy_objective\": {\"sum\": 0.3338672378540039, \"count\": 1, \"min\": 0.3338672378540039, \"max\": 0.3338672378540039}}}\u001b[0m\n",
      "\u001b[34m#metrics {\"StartTime\": 1733968048.6269493, \"EndTime\": 1733968048.626957, \"Dimensions\": {\"Algorithm\": \"Linear Learner\", \"Host\": \"algo-1\", \"Operation\": \"training\", \"epoch\": 0, \"model\": 27}, \"Metrics\": {\"train_binary_classification_cross_entropy_objective\": {\"sum\": 0.3318760410308838, \"count\": 1, \"min\": 0.3318760410308838, \"max\": 0.3318760410308838}}}\u001b[0m\n",
      "\u001b[34m#metrics {\"StartTime\": 1733968048.6269865, \"EndTime\": 1733968048.6269948, \"Dimensions\": {\"Algorithm\": \"Linear Learner\", \"Host\": \"algo-1\", \"Operation\": \"training\", \"epoch\": 0, \"model\": 28}, \"Metrics\": {\"train_binary_classification_cross_entropy_objective\": {\"sum\": 0.3189338005065918, \"count\": 1, \"min\": 0.3189338005065918, \"max\": 0.3189338005065918}}}\u001b[0m\n",
      "\u001b[34m#metrics {\"StartTime\": 1733968048.6270244, \"EndTime\": 1733968048.6270325, \"Dimensions\": {\"Algorithm\": \"Linear Learner\", \"Host\": \"algo-1\", \"Operation\": \"training\", \"epoch\": 0, \"model\": 29}, \"Metrics\": {\"train_binary_classification_cross_entropy_objective\": {\"sum\": 0.319676448135376, \"count\": 1, \"min\": 0.319676448135376, \"max\": 0.319676448135376}}}\u001b[0m\n",
      "\u001b[34m#metrics {\"StartTime\": 1733968048.6270616, \"EndTime\": 1733968048.6270695, \"Dimensions\": {\"Algorithm\": \"Linear Learner\", \"Host\": \"algo-1\", \"Operation\": \"training\", \"epoch\": 0, \"model\": 30}, \"Metrics\": {\"train_binary_classification_cross_entropy_objective\": {\"sum\": 0.31735560150146486, \"count\": 1, \"min\": 0.31735560150146486, \"max\": 0.31735560150146486}}}\u001b[0m\n",
      "\u001b[34m#metrics {\"StartTime\": 1733968048.627097, \"EndTime\": 1733968048.6271052, \"Dimensions\": {\"Algorithm\": \"Linear Learner\", \"Host\": \"algo-1\", \"Operation\": \"training\", \"epoch\": 0, \"model\": 31}, \"Metrics\": {\"train_binary_classification_cross_entropy_objective\": {\"sum\": 0.3182295166015625, \"count\": 1, \"min\": 0.3182295166015625, \"max\": 0.3182295166015625}}}\u001b[0m\n",
      "\u001b[34m[12/12/2024 01:47:28 INFO 140422536124224] #quality_metric: host=algo-1, epoch=0, train binary_classification_cross_entropy_objective <loss>=0.13601245830535888\u001b[0m\n",
      "\u001b[34m[12/12/2024 01:47:28 INFO 140422536124224] #early_stopping_criteria_metric: host=algo-1, epoch=0, criteria=binary_classification_cross_entropy_objective, value=0.13114209729194642\u001b[0m\n",
      "\u001b[34m[12/12/2024 01:47:28 INFO 140422536124224] Epoch 0: Loss improved. Updating best model\u001b[0m\n",
      "\u001b[34m[12/12/2024 01:47:28 INFO 140422536124224] Saving model for epoch: 0\u001b[0m\n",
      "\u001b[34m[12/12/2024 01:47:28 INFO 140422536124224] Saved checkpoint to \"/tmp/tmpke1jy01u/mx-mod-0000.params\"\u001b[0m\n",
      "\u001b[34m[12/12/2024 01:47:28 INFO 140422536124224] #progress_metric: host=algo-1, completed 6.666666666666667 % of epochs\u001b[0m\n",
      "\u001b[34m#metrics {\"StartTime\": 1733968043.8365302, \"EndTime\": 1733968048.6367362, \"Dimensions\": {\"Algorithm\": \"Linear Learner\", \"Host\": \"algo-1\", \"Operation\": \"training\", \"epoch\": 0, \"Meta\": \"training_data_iter\"}, \"Metrics\": {\"Total Records Seen\": {\"sum\": 60400.0, \"count\": 1, \"min\": 60400, \"max\": 60400}, \"Total Batches Seen\": {\"sum\": 302.0, \"count\": 1, \"min\": 302, \"max\": 302}, \"Max Records Seen Between Resets\": {\"sum\": 50000.0, \"count\": 1, \"min\": 50000, \"max\": 50000}, \"Max Batches Seen Between Resets\": {\"sum\": 250.0, \"count\": 1, \"min\": 250, \"max\": 250}, \"Reset Count\": {\"sum\": 3.0, \"count\": 1, \"min\": 3, \"max\": 3}, \"Number of Records Since Last Reset\": {\"sum\": 50000.0, \"count\": 1, \"min\": 50000, \"max\": 50000}, \"Number of Batches Since Last Reset\": {\"sum\": 250.0, \"count\": 1, \"min\": 250, \"max\": 250}}}\u001b[0m\n",
      "\u001b[34m[12/12/2024 01:47:28 INFO 140422536124224] #throughput_metric: host=algo-1, train throughput=10415.981775687404 records/second\u001b[0m\n",
      "\u001b[34m[2024-12-12 01:47:33.464] [tensorio] [info] epoch_stats={\"data_pipeline\": \"/opt/ml/input/data/train\", \"epoch\": 5, \"duration\": 4827, \"num_examples\": 250, \"num_bytes\": 159200000}\u001b[0m\n",
      "\u001b[34m#metrics {\"StartTime\": 1733968053.464633, \"EndTime\": 1733968053.4647002, \"Dimensions\": {\"Algorithm\": \"Linear Learner\", \"Host\": \"algo-1\", \"Operation\": \"training\", \"epoch\": 1, \"model\": 0}, \"Metrics\": {\"train_binary_classification_cross_entropy_objective\": {\"sum\": 0.039508256464004514, \"count\": 1, \"min\": 0.039508256464004514, \"max\": 0.039508256464004514}}}\u001b[0m\n",
      "\u001b[34m#metrics {\"StartTime\": 1733968053.4647675, \"EndTime\": 1733968053.46478, \"Dimensions\": {\"Algorithm\": \"Linear Learner\", \"Host\": \"algo-1\", \"Operation\": \"training\", \"epoch\": 1, \"model\": 1}, \"Metrics\": {\"train_binary_classification_cross_entropy_objective\": {\"sum\": 0.03718879582643509, \"count\": 1, \"min\": 0.03718879582643509, \"max\": 0.03718879582643509}}}\u001b[0m\n",
      "\u001b[34m#metrics {\"StartTime\": 1733968053.4648137, \"EndTime\": 1733968053.4648228, \"Dimensions\": {\"Algorithm\": \"Linear Learner\", \"Host\": \"algo-1\", \"Operation\": \"training\", \"epoch\": 1, \"model\": 2}, \"Metrics\": {\"train_binary_classification_cross_entropy_objective\": {\"sum\": 0.0394974626326561, \"count\": 1, \"min\": 0.0394974626326561, \"max\": 0.0394974626326561}}}\u001b[0m\n",
      "\u001b[34m#metrics {\"StartTime\": 1733968053.4648497, \"EndTime\": 1733968053.4648592, \"Dimensions\": {\"Algorithm\": \"Linear Learner\", \"Host\": \"algo-1\", \"Operation\": \"training\", \"epoch\": 1, \"model\": 3}, \"Metrics\": {\"train_binary_classification_cross_entropy_objective\": {\"sum\": 0.03694312445163727, \"count\": 1, \"min\": 0.03694312445163727, \"max\": 0.03694312445163727}}}\u001b[0m\n",
      "\u001b[34m#metrics {\"StartTime\": 1733968053.4648857, \"EndTime\": 1733968053.464892, \"Dimensions\": {\"Algorithm\": \"Linear Learner\", \"Host\": \"algo-1\", \"Operation\": \"training\", \"epoch\": 1, \"model\": 4}, \"Metrics\": {\"train_binary_classification_cross_entropy_objective\": {\"sum\": 0.09658778093048778, \"count\": 1, \"min\": 0.09658778093048778, \"max\": 0.09658778093048778}}}\u001b[0m\n",
      "\u001b[34m#metrics {\"StartTime\": 1733968053.4649081, \"EndTime\": 1733968053.4649127, \"Dimensions\": {\"Algorithm\": \"Linear Learner\", \"Host\": \"algo-1\", \"Operation\": \"training\", \"epoch\": 1, \"model\": 5}, \"Metrics\": {\"train_binary_classification_cross_entropy_objective\": {\"sum\": 0.12176442123818823, \"count\": 1, \"min\": 0.12176442123818823, \"max\": 0.12176442123818823}}}\u001b[0m\n",
      "\u001b[34m#metrics {\"StartTime\": 1733968053.4649277, \"EndTime\": 1733968053.4649324, \"Dimensions\": {\"Algorithm\": \"Linear Learner\", \"Host\": \"algo-1\", \"Operation\": \"training\", \"epoch\": 1, \"model\": 6}, \"Metrics\": {\"train_binary_classification_cross_entropy_objective\": {\"sum\": 0.0944225756936724, \"count\": 1, \"min\": 0.0944225756936724, \"max\": 0.0944225756936724}}}\u001b[0m\n",
      "\u001b[34m#metrics {\"StartTime\": 1733968053.464951, \"EndTime\": 1733968053.464958, \"Dimensions\": {\"Algorithm\": \"Linear Learner\", \"Host\": \"algo-1\", \"Operation\": \"training\", \"epoch\": 1, \"model\": 7}, \"Metrics\": {\"train_binary_classification_cross_entropy_objective\": {\"sum\": 0.12462514723513742, \"count\": 1, \"min\": 0.12462514723513742, \"max\": 0.12462514723513742}}}\u001b[0m\n",
      "\u001b[34m#metrics {\"StartTime\": 1733968053.464989, \"EndTime\": 1733968053.4649963, \"Dimensions\": {\"Algorithm\": \"Linear Learner\", \"Host\": \"algo-1\", \"Operation\": \"training\", \"epoch\": 1, \"model\": 8}, \"Metrics\": {\"train_binary_classification_cross_entropy_objective\": {\"sum\": 0.03977077572345734, \"count\": 1, \"min\": 0.03977077572345734, \"max\": 0.03977077572345734}}}\u001b[0m\n",
      "\u001b[34m#metrics {\"StartTime\": 1733968053.4650254, \"EndTime\": 1733968053.4650335, \"Dimensions\": {\"Algorithm\": \"Linear Learner\", \"Host\": \"algo-1\", \"Operation\": \"training\", \"epoch\": 1, \"model\": 9}, \"Metrics\": {\"train_binary_classification_cross_entropy_objective\": {\"sum\": 0.03887222484111786, \"count\": 1, \"min\": 0.03887222484111786, \"max\": 0.03887222484111786}}}\u001b[0m\n",
      "\u001b[34m#metrics {\"StartTime\": 1733968053.4650614, \"EndTime\": 1733968053.4650695, \"Dimensions\": {\"Algorithm\": \"Linear Learner\", \"Host\": \"algo-1\", \"Operation\": \"training\", \"epoch\": 1, \"model\": 10}, \"Metrics\": {\"train_binary_classification_cross_entropy_objective\": {\"sum\": 0.04006563522338867, \"count\": 1, \"min\": 0.04006563522338867, \"max\": 0.04006563522338867}}}\u001b[0m\n",
      "\u001b[34m#metrics {\"StartTime\": 1733968053.465101, \"EndTime\": 1733968053.4651093, \"Dimensions\": {\"Algorithm\": \"Linear Learner\", \"Host\": \"algo-1\", \"Operation\": \"training\", \"epoch\": 1, \"model\": 11}, \"Metrics\": {\"train_binary_classification_cross_entropy_objective\": {\"sum\": 0.03824115242958069, \"count\": 1, \"min\": 0.03824115242958069, \"max\": 0.03824115242958069}}}\u001b[0m\n",
      "\u001b[34m#metrics {\"StartTime\": 1733968053.4651394, \"EndTime\": 1733968053.4651482, \"Dimensions\": {\"Algorithm\": \"Linear Learner\", \"Host\": \"algo-1\", \"Operation\": \"training\", \"epoch\": 1, \"model\": 12}, \"Metrics\": {\"train_binary_classification_cross_entropy_objective\": {\"sum\": 0.08932492526888848, \"count\": 1, \"min\": 0.08932492526888848, \"max\": 0.08932492526888848}}}\u001b[0m\n",
      "\u001b[34m#metrics {\"StartTime\": 1733968053.465179, \"EndTime\": 1733968053.4651868, \"Dimensions\": {\"Algorithm\": \"Linear Learner\", \"Host\": \"algo-1\", \"Operation\": \"training\", \"epoch\": 1, \"model\": 13}, \"Metrics\": {\"train_binary_classification_cross_entropy_objective\": {\"sum\": 0.11819746522367, \"count\": 1, \"min\": 0.11819746522367, \"max\": 0.11819746522367}}}\u001b[0m\n",
      "\u001b[34m#metrics {\"StartTime\": 1733968053.4652138, \"EndTime\": 1733968053.465221, \"Dimensions\": {\"Algorithm\": \"Linear Learner\", \"Host\": \"algo-1\", \"Operation\": \"training\", \"epoch\": 1, \"model\": 14}, \"Metrics\": {\"train_binary_classification_cross_entropy_objective\": {\"sum\": 0.09912617056369781, \"count\": 1, \"min\": 0.09912617056369781, \"max\": 0.09912617056369781}}}\u001b[0m\n",
      "\u001b[34m#metrics {\"StartTime\": 1733968053.4652483, \"EndTime\": 1733968053.4652557, \"Dimensions\": {\"Algorithm\": \"Linear Learner\", \"Host\": \"algo-1\", \"Operation\": \"training\", \"epoch\": 1, \"model\": 15}, \"Metrics\": {\"train_binary_classification_cross_entropy_objective\": {\"sum\": 0.12645209238052368, \"count\": 1, \"min\": 0.12645209238052368, \"max\": 0.12645209238052368}}}\u001b[0m\n",
      "\u001b[34m#metrics {\"StartTime\": 1733968053.4652882, \"EndTime\": 1733968053.4652972, \"Dimensions\": {\"Algorithm\": \"Linear Learner\", \"Host\": \"algo-1\", \"Operation\": \"training\", \"epoch\": 1, \"model\": 16}, \"Metrics\": {\"train_binary_classification_cross_entropy_objective\": {\"sum\": 0.10804369569778442, \"count\": 1, \"min\": 0.10804369569778442, \"max\": 0.10804369569778442}}}\u001b[0m\n",
      "\u001b[34m#metrics {\"StartTime\": 1733968053.46533, \"EndTime\": 1733968053.4653392, \"Dimensions\": {\"Algorithm\": \"Linear Learner\", \"Host\": \"algo-1\", \"Operation\": \"training\", \"epoch\": 1, \"model\": 17}, \"Metrics\": {\"train_binary_classification_cross_entropy_objective\": {\"sum\": 0.10849044315338134, \"count\": 1, \"min\": 0.10849044315338134, \"max\": 0.10849044315338134}}}\u001b[0m\n",
      "\u001b[34m#metrics {\"StartTime\": 1733968053.465899, \"EndTime\": 1733968053.465914, \"Dimensions\": {\"Algorithm\": \"Linear Learner\", \"Host\": \"algo-1\", \"Operation\": \"training\", \"epoch\": 1, \"model\": 18}, \"Metrics\": {\"train_binary_classification_cross_entropy_objective\": {\"sum\": 0.10815295370101928, \"count\": 1, \"min\": 0.10815295370101928, \"max\": 0.10815295370101928}}}\u001b[0m\n",
      "\u001b[34m#metrics {\"StartTime\": 1733968053.4659517, \"EndTime\": 1733968053.46596, \"Dimensions\": {\"Algorithm\": \"Linear Learner\", \"Host\": \"algo-1\", \"Operation\": \"training\", \"epoch\": 1, \"model\": 19}, \"Metrics\": {\"train_binary_classification_cross_entropy_objective\": {\"sum\": 0.10850780220031739, \"count\": 1, \"min\": 0.10850780220031739, \"max\": 0.10850780220031739}}}\u001b[0m\n",
      "\u001b[34m#metrics {\"StartTime\": 1733968053.4659889, \"EndTime\": 1733968053.4659975, \"Dimensions\": {\"Algorithm\": \"Linear Learner\", \"Host\": \"algo-1\", \"Operation\": \"training\", \"epoch\": 1, \"model\": 20}, \"Metrics\": {\"train_binary_classification_cross_entropy_objective\": {\"sum\": 0.13319448875427245, \"count\": 1, \"min\": 0.13319448875427245, \"max\": 0.13319448875427245}}}\u001b[0m\n",
      "\u001b[34m#metrics {\"StartTime\": 1733968053.4660246, \"EndTime\": 1733968053.4660327, \"Dimensions\": {\"Algorithm\": \"Linear Learner\", \"Host\": \"algo-1\", \"Operation\": \"training\", \"epoch\": 1, \"model\": 21}, \"Metrics\": {\"train_binary_classification_cross_entropy_objective\": {\"sum\": 0.15092348148345947, \"count\": 1, \"min\": 0.15092348148345947, \"max\": 0.15092348148345947}}}\u001b[0m\n",
      "\u001b[34m#metrics {\"StartTime\": 1733968053.466057, \"EndTime\": 1733968053.466065, \"Dimensions\": {\"Algorithm\": \"Linear Learner\", \"Host\": \"algo-1\", \"Operation\": \"training\", \"epoch\": 1, \"model\": 22}, \"Metrics\": {\"train_binary_classification_cross_entropy_objective\": {\"sum\": 0.13128709436416627, \"count\": 1, \"min\": 0.13128709436416627, \"max\": 0.13128709436416627}}}\u001b[0m\n",
      "\u001b[34m#metrics {\"StartTime\": 1733968053.4660916, \"EndTime\": 1733968053.4661002, \"Dimensions\": {\"Algorithm\": \"Linear Learner\", \"Host\": \"algo-1\", \"Operation\": \"training\", \"epoch\": 1, \"model\": 23}, \"Metrics\": {\"train_binary_classification_cross_entropy_objective\": {\"sum\": 0.14752464656829833, \"count\": 1, \"min\": 0.14752464656829833, \"max\": 0.14752464656829833}}}\u001b[0m\n",
      "\u001b[34m#metrics {\"StartTime\": 1733968053.466127, \"EndTime\": 1733968053.4661348, \"Dimensions\": {\"Algorithm\": \"Linear Learner\", \"Host\": \"algo-1\", \"Operation\": \"training\", \"epoch\": 1, \"model\": 24}, \"Metrics\": {\"train_binary_classification_cross_entropy_objective\": {\"sum\": 0.30644669357299803, \"count\": 1, \"min\": 0.30644669357299803, \"max\": 0.30644669357299803}}}\u001b[0m\n",
      "\u001b[34m#metrics {\"StartTime\": 1733968053.4661613, \"EndTime\": 1733968053.4661684, \"Dimensions\": {\"Algorithm\": \"Linear Learner\", \"Host\": \"algo-1\", \"Operation\": \"training\", \"epoch\": 1, \"model\": 25}, \"Metrics\": {\"train_binary_classification_cross_entropy_objective\": {\"sum\": 0.3064574040222168, \"count\": 1, \"min\": 0.3064574040222168, \"max\": 0.3064574040222168}}}\u001b[0m\n",
      "\u001b[34m#metrics {\"StartTime\": 1733968053.4661908, \"EndTime\": 1733968053.466198, \"Dimensions\": {\"Algorithm\": \"Linear Learner\", \"Host\": \"algo-1\", \"Operation\": \"training\", \"epoch\": 1, \"model\": 26}, \"Metrics\": {\"train_binary_classification_cross_entropy_objective\": {\"sum\": 0.30640142738342285, \"count\": 1, \"min\": 0.30640142738342285, \"max\": 0.30640142738342285}}}\u001b[0m\n",
      "\u001b[34m#metrics {\"StartTime\": 1733968053.466224, \"EndTime\": 1733968053.466232, \"Dimensions\": {\"Algorithm\": \"Linear Learner\", \"Host\": \"algo-1\", \"Operation\": \"training\", \"epoch\": 1, \"model\": 27}, \"Metrics\": {\"train_binary_classification_cross_entropy_objective\": {\"sum\": 0.3064325436401367, \"count\": 1, \"min\": 0.3064325436401367, \"max\": 0.3064325436401367}}}\u001b[0m\n",
      "\u001b[34m#metrics {\"StartTime\": 1733968053.4662602, \"EndTime\": 1733968053.4662678, \"Dimensions\": {\"Algorithm\": \"Linear Learner\", \"Host\": \"algo-1\", \"Operation\": \"training\", \"epoch\": 1, \"model\": 28}, \"Metrics\": {\"train_binary_classification_cross_entropy_objective\": {\"sum\": 0.3083432795715332, \"count\": 1, \"min\": 0.3083432795715332, \"max\": 0.3083432795715332}}}\u001b[0m\n",
      "\u001b[34m#metrics {\"StartTime\": 1733968053.4662921, \"EndTime\": 1733968053.4663007, \"Dimensions\": {\"Algorithm\": \"Linear Learner\", \"Host\": \"algo-1\", \"Operation\": \"training\", \"epoch\": 1, \"model\": 29}, \"Metrics\": {\"train_binary_classification_cross_entropy_objective\": {\"sum\": 0.3094398107910156, \"count\": 1, \"min\": 0.3094398107910156, \"max\": 0.3094398107910156}}}\u001b[0m\n",
      "\u001b[34m#metrics {\"StartTime\": 1733968053.4663277, \"EndTime\": 1733968053.4663365, \"Dimensions\": {\"Algorithm\": \"Linear Learner\", \"Host\": \"algo-1\", \"Operation\": \"training\", \"epoch\": 1, \"model\": 30}, \"Metrics\": {\"train_binary_classification_cross_entropy_objective\": {\"sum\": 0.31002676597595213, \"count\": 1, \"min\": 0.31002676597595213, \"max\": 0.31002676597595213}}}\u001b[0m\n",
      "\u001b[34m#metrics {\"StartTime\": 1733968053.4663625, \"EndTime\": 1733968053.4663706, \"Dimensions\": {\"Algorithm\": \"Linear Learner\", \"Host\": \"algo-1\", \"Operation\": \"training\", \"epoch\": 1, \"model\": 31}, \"Metrics\": {\"train_binary_classification_cross_entropy_objective\": {\"sum\": 0.30973311164855954, \"count\": 1, \"min\": 0.30973311164855954, \"max\": 0.30973311164855954}}}\u001b[0m\n",
      "\u001b[34m[12/12/2024 01:47:33 INFO 140422536124224] #quality_metric: host=algo-1, epoch=1, train binary_classification_cross_entropy_objective <loss>=0.039508256464004514\u001b[0m\n",
      "\u001b[34m[12/12/2024 01:47:33 INFO 140422536124224] #early_stopping_criteria_metric: host=algo-1, epoch=1, criteria=binary_classification_cross_entropy_objective, value=0.03694312445163727\u001b[0m\n",
      "\u001b[34m[12/12/2024 01:47:33 INFO 140422536124224] Epoch 1: Loss improved. Updating best model\u001b[0m\n",
      "\u001b[34m[12/12/2024 01:47:33 INFO 140422536124224] Saving model for epoch: 1\u001b[0m\n",
      "\u001b[34m[12/12/2024 01:47:33 INFO 140422536124224] Saved checkpoint to \"/tmp/tmpk1p9t85x/mx-mod-0000.params\"\u001b[0m\n",
      "\u001b[34m[12/12/2024 01:47:33 INFO 140422536124224] #progress_metric: host=algo-1, completed 13.333333333333334 % of epochs\u001b[0m\n",
      "\u001b[34m#metrics {\"StartTime\": 1733968048.6374164, \"EndTime\": 1733968053.4726512, \"Dimensions\": {\"Algorithm\": \"Linear Learner\", \"Host\": \"algo-1\", \"Operation\": \"training\", \"epoch\": 1, \"Meta\": \"training_data_iter\"}, \"Metrics\": {\"Total Records Seen\": {\"sum\": 110400.0, \"count\": 1, \"min\": 110400, \"max\": 110400}, \"Total Batches Seen\": {\"sum\": 552.0, \"count\": 1, \"min\": 552, \"max\": 552}, \"Max Records Seen Between Resets\": {\"sum\": 50000.0, \"count\": 1, \"min\": 50000, \"max\": 50000}, \"Max Batches Seen Between Resets\": {\"sum\": 250.0, \"count\": 1, \"min\": 250, \"max\": 250}, \"Reset Count\": {\"sum\": 4.0, \"count\": 1, \"min\": 4, \"max\": 4}, \"Number of Records Since Last Reset\": {\"sum\": 50000.0, \"count\": 1, \"min\": 50000, \"max\": 50000}, \"Number of Batches Since Last Reset\": {\"sum\": 250.0, \"count\": 1, \"min\": 250, \"max\": 250}}}\u001b[0m\n",
      "\u001b[34m[12/12/2024 01:47:33 INFO 140422536124224] #throughput_metric: host=algo-1, train throughput=10340.52525469279 records/second\u001b[0m\n",
      "\u001b[34m[2024-12-12 01:47:38.200] [tensorio] [info] epoch_stats={\"data_pipeline\": \"/opt/ml/input/data/train\", \"epoch\": 7, \"duration\": 4727, \"num_examples\": 250, \"num_bytes\": 159200000}\u001b[0m\n",
      "\u001b[34m#metrics {\"StartTime\": 1733968058.20091, \"EndTime\": 1733968058.2009723, \"Dimensions\": {\"Algorithm\": \"Linear Learner\", \"Host\": \"algo-1\", \"Operation\": \"training\", \"epoch\": 2, \"model\": 0}, \"Metrics\": {\"train_binary_classification_cross_entropy_objective\": {\"sum\": 0.03211880851268768, \"count\": 1, \"min\": 0.03211880851268768, \"max\": 0.03211880851268768}}}\u001b[0m\n",
      "\u001b[34m#metrics {\"StartTime\": 1733968058.2010417, \"EndTime\": 1733968058.2010565, \"Dimensions\": {\"Algorithm\": \"Linear Learner\", \"Host\": \"algo-1\", \"Operation\": \"training\", \"epoch\": 2, \"model\": 1}, \"Metrics\": {\"train_binary_classification_cross_entropy_objective\": {\"sum\": 0.03084811170101166, \"count\": 1, \"min\": 0.03084811170101166, \"max\": 0.03084811170101166}}}\u001b[0m\n",
      "\u001b[34m#metrics {\"StartTime\": 1733968058.2010915, \"EndTime\": 1733968058.2011008, \"Dimensions\": {\"Algorithm\": \"Linear Learner\", \"Host\": \"algo-1\", \"Operation\": \"training\", \"epoch\": 2, \"model\": 2}, \"Metrics\": {\"train_binary_classification_cross_entropy_objective\": {\"sum\": 0.032101217167377474, \"count\": 1, \"min\": 0.032101217167377474, \"max\": 0.032101217167377474}}}\u001b[0m\n",
      "\u001b[34m#metrics {\"StartTime\": 1733968058.201134, \"EndTime\": 1733968058.2011428, \"Dimensions\": {\"Algorithm\": \"Linear Learner\", \"Host\": \"algo-1\", \"Operation\": \"training\", \"epoch\": 2, \"model\": 3}, \"Metrics\": {\"train_binary_classification_cross_entropy_objective\": {\"sum\": 0.03072658412218094, \"count\": 1, \"min\": 0.03072658412218094, \"max\": 0.03072658412218094}}}\u001b[0m\n",
      "\u001b[34m#metrics {\"StartTime\": 1733968058.2011776, \"EndTime\": 1733968058.201187, \"Dimensions\": {\"Algorithm\": \"Linear Learner\", \"Host\": \"algo-1\", \"Operation\": \"training\", \"epoch\": 2, \"model\": 4}, \"Metrics\": {\"train_binary_classification_cross_entropy_objective\": {\"sum\": 0.08229743313185056, \"count\": 1, \"min\": 0.08229743313185056, \"max\": 0.08229743313185056}}}\u001b[0m\n",
      "\u001b[34m#metrics {\"StartTime\": 1733968058.201218, \"EndTime\": 1733968058.2012253, \"Dimensions\": {\"Algorithm\": \"Linear Learner\", \"Host\": \"algo-1\", \"Operation\": \"training\", \"epoch\": 2, \"model\": 5}, \"Metrics\": {\"train_binary_classification_cross_entropy_objective\": {\"sum\": 0.12362301726697768, \"count\": 1, \"min\": 0.12362301726697768, \"max\": 0.12362301726697768}}}\u001b[0m\n",
      "\u001b[34m#metrics {\"StartTime\": 1733968058.2012477, \"EndTime\": 1733968058.2012541, \"Dimensions\": {\"Algorithm\": \"Linear Learner\", \"Host\": \"algo-1\", \"Operation\": \"training\", \"epoch\": 2, \"model\": 6}, \"Metrics\": {\"train_binary_classification_cross_entropy_objective\": {\"sum\": 0.08398049739360912, \"count\": 1, \"min\": 0.08398049739360912, \"max\": 0.08398049739360912}}}\u001b[0m\n",
      "\u001b[34m#metrics {\"StartTime\": 1733968058.201276, \"EndTime\": 1733968058.2012827, \"Dimensions\": {\"Algorithm\": \"Linear Learner\", \"Host\": \"algo-1\", \"Operation\": \"training\", \"epoch\": 2, \"model\": 7}, \"Metrics\": {\"train_binary_classification_cross_entropy_objective\": {\"sum\": 0.11545073601033015, \"count\": 1, \"min\": 0.11545073601033015, \"max\": 0.11545073601033015}}}\u001b[0m\n",
      "\u001b[34m#metrics {\"StartTime\": 1733968058.2013137, \"EndTime\": 1733968058.201321, \"Dimensions\": {\"Algorithm\": \"Linear Learner\", \"Host\": \"algo-1\", \"Operation\": \"training\", \"epoch\": 2, \"model\": 8}, \"Metrics\": {\"train_binary_classification_cross_entropy_objective\": {\"sum\": 0.03403089747428894, \"count\": 1, \"min\": 0.03403089747428894, \"max\": 0.03403089747428894}}}\u001b[0m\n",
      "\u001b[34m#metrics {\"StartTime\": 1733968058.2013485, \"EndTime\": 1733968058.2013562, \"Dimensions\": {\"Algorithm\": \"Linear Learner\", \"Host\": \"algo-1\", \"Operation\": \"training\", \"epoch\": 2, \"model\": 9}, \"Metrics\": {\"train_binary_classification_cross_entropy_objective\": {\"sum\": 0.03323359547615051, \"count\": 1, \"min\": 0.03323359547615051, \"max\": 0.03323359547615051}}}\u001b[0m\n",
      "\u001b[34m#metrics {\"StartTime\": 1733968058.201387, \"EndTime\": 1733968058.2013955, \"Dimensions\": {\"Algorithm\": \"Linear Learner\", \"Host\": \"algo-1\", \"Operation\": \"training\", \"epoch\": 2, \"model\": 10}, \"Metrics\": {\"train_binary_classification_cross_entropy_objective\": {\"sum\": 0.03396252694129944, \"count\": 1, \"min\": 0.03396252694129944, \"max\": 0.03396252694129944}}}\u001b[0m\n",
      "\u001b[34m#metrics {\"StartTime\": 1733968058.2014248, \"EndTime\": 1733968058.201434, \"Dimensions\": {\"Algorithm\": \"Linear Learner\", \"Host\": \"algo-1\", \"Operation\": \"training\", \"epoch\": 2, \"model\": 11}, \"Metrics\": {\"train_binary_classification_cross_entropy_objective\": {\"sum\": 0.03334729847431183, \"count\": 1, \"min\": 0.03334729847431183, \"max\": 0.03334729847431183}}}\u001b[0m\n",
      "\u001b[34m#metrics {\"StartTime\": 1733968058.201466, \"EndTime\": 1733968058.2014747, \"Dimensions\": {\"Algorithm\": \"Linear Learner\", \"Host\": \"algo-1\", \"Operation\": \"training\", \"epoch\": 2, \"model\": 12}, \"Metrics\": {\"train_binary_classification_cross_entropy_objective\": {\"sum\": 0.07130920598268509, \"count\": 1, \"min\": 0.07130920598268509, \"max\": 0.07130920598268509}}}\u001b[0m\n",
      "\u001b[34m#metrics {\"StartTime\": 1733968058.2015102, \"EndTime\": 1733968058.2015197, \"Dimensions\": {\"Algorithm\": \"Linear Learner\", \"Host\": \"algo-1\", \"Operation\": \"training\", \"epoch\": 2, \"model\": 13}, \"Metrics\": {\"train_binary_classification_cross_entropy_objective\": {\"sum\": 0.12257918819189072, \"count\": 1, \"min\": 0.12257918819189072, \"max\": 0.12257918819189072}}}\u001b[0m\n",
      "\u001b[34m#metrics {\"StartTime\": 1733968058.2015538, \"EndTime\": 1733968058.2015638, \"Dimensions\": {\"Algorithm\": \"Linear Learner\", \"Host\": \"algo-1\", \"Operation\": \"training\", \"epoch\": 2, \"model\": 14}, \"Metrics\": {\"train_binary_classification_cross_entropy_objective\": {\"sum\": 0.07550911728024483, \"count\": 1, \"min\": 0.07550911728024483, \"max\": 0.07550911728024483}}}\u001b[0m\n",
      "\u001b[34m#metrics {\"StartTime\": 1733968058.201595, \"EndTime\": 1733968058.2016032, \"Dimensions\": {\"Algorithm\": \"Linear Learner\", \"Host\": \"algo-1\", \"Operation\": \"training\", \"epoch\": 2, \"model\": 15}, \"Metrics\": {\"train_binary_classification_cross_entropy_objective\": {\"sum\": 0.12857357102870942, \"count\": 1, \"min\": 0.12857357102870942, \"max\": 0.12857357102870942}}}\u001b[0m\n",
      "\u001b[34m#metrics {\"StartTime\": 1733968058.201635, \"EndTime\": 1733968058.2016437, \"Dimensions\": {\"Algorithm\": \"Linear Learner\", \"Host\": \"algo-1\", \"Operation\": \"training\", \"epoch\": 2, \"model\": 16}, \"Metrics\": {\"train_binary_classification_cross_entropy_objective\": {\"sum\": 0.10765367704391479, \"count\": 1, \"min\": 0.10765367704391479, \"max\": 0.10765367704391479}}}\u001b[0m\n",
      "\u001b[34m#metrics {\"StartTime\": 1733968058.201679, \"EndTime\": 1733968058.2016888, \"Dimensions\": {\"Algorithm\": \"Linear Learner\", \"Host\": \"algo-1\", \"Operation\": \"training\", \"epoch\": 2, \"model\": 17}, \"Metrics\": {\"train_binary_classification_cross_entropy_objective\": {\"sum\": 0.10847010330200195, \"count\": 1, \"min\": 0.10847010330200195, \"max\": 0.10847010330200195}}}\u001b[0m\n",
      "\u001b[34m#metrics {\"StartTime\": 1733968058.2017245, \"EndTime\": 1733968058.2017336, \"Dimensions\": {\"Algorithm\": \"Linear Learner\", \"Host\": \"algo-1\", \"Operation\": \"training\", \"epoch\": 2, \"model\": 18}, \"Metrics\": {\"train_binary_classification_cross_entropy_objective\": {\"sum\": 0.10773727561950684, \"count\": 1, \"min\": 0.10773727561950684, \"max\": 0.10773727561950684}}}\u001b[0m\n",
      "\u001b[34m#metrics {\"StartTime\": 1733968058.20177, \"EndTime\": 1733968058.20178, \"Dimensions\": {\"Algorithm\": \"Linear Learner\", \"Host\": \"algo-1\", \"Operation\": \"training\", \"epoch\": 2, \"model\": 19}, \"Metrics\": {\"train_binary_classification_cross_entropy_objective\": {\"sum\": 0.1084934241104126, \"count\": 1, \"min\": 0.1084934241104126, \"max\": 0.1084934241104126}}}\u001b[0m\n",
      "\u001b[34m#metrics {\"StartTime\": 1733968058.2018144, \"EndTime\": 1733968058.201824, \"Dimensions\": {\"Algorithm\": \"Linear Learner\", \"Host\": \"algo-1\", \"Operation\": \"training\", \"epoch\": 2, \"model\": 20}, \"Metrics\": {\"train_binary_classification_cross_entropy_objective\": {\"sum\": 0.1260256102180481, \"count\": 1, \"min\": 0.1260256102180481, \"max\": 0.1260256102180481}}}\u001b[0m\n",
      "\u001b[34m#metrics {\"StartTime\": 1733968058.201857, \"EndTime\": 1733968058.201865, \"Dimensions\": {\"Algorithm\": \"Linear Learner\", \"Host\": \"algo-1\", \"Operation\": \"training\", \"epoch\": 2, \"model\": 21}, \"Metrics\": {\"train_binary_classification_cross_entropy_objective\": {\"sum\": 0.150543741607666, \"count\": 1, \"min\": 0.150543741607666, \"max\": 0.150543741607666}}}\u001b[0m\n",
      "\u001b[34m#metrics {\"StartTime\": 1733968058.2018957, \"EndTime\": 1733968058.2019033, \"Dimensions\": {\"Algorithm\": \"Linear Learner\", \"Host\": \"algo-1\", \"Operation\": \"training\", \"epoch\": 2, \"model\": 22}, \"Metrics\": {\"train_binary_classification_cross_entropy_objective\": {\"sum\": 0.1260727473640442, \"count\": 1, \"min\": 0.1260727473640442, \"max\": 0.1260727473640442}}}\u001b[0m\n",
      "\u001b[34m#metrics {\"StartTime\": 1733968058.2019308, \"EndTime\": 1733968058.201939, \"Dimensions\": {\"Algorithm\": \"Linear Learner\", \"Host\": \"algo-1\", \"Operation\": \"training\", \"epoch\": 2, \"model\": 23}, \"Metrics\": {\"train_binary_classification_cross_entropy_objective\": {\"sum\": 0.14943598592758178, \"count\": 1, \"min\": 0.14943598592758178, \"max\": 0.14943598592758178}}}\u001b[0m\n",
      "\u001b[34m#metrics {\"StartTime\": 1733968058.2019649, \"EndTime\": 1733968058.2019725, \"Dimensions\": {\"Algorithm\": \"Linear Learner\", \"Host\": \"algo-1\", \"Operation\": \"training\", \"epoch\": 2, \"model\": 24}, \"Metrics\": {\"train_binary_classification_cross_entropy_objective\": {\"sum\": 0.3064460682678223, \"count\": 1, \"min\": 0.3064460682678223, \"max\": 0.3064460682678223}}}\u001b[0m\n",
      "\u001b[34m#metrics {\"StartTime\": 1733968058.2020037, \"EndTime\": 1733968058.2020113, \"Dimensions\": {\"Algorithm\": \"Linear Learner\", \"Host\": \"algo-1\", \"Operation\": \"training\", \"epoch\": 2, \"model\": 25}, \"Metrics\": {\"train_binary_classification_cross_entropy_objective\": {\"sum\": 0.3064851319122314, \"count\": 1, \"min\": 0.3064851319122314, \"max\": 0.3064851319122314}}}\u001b[0m\n",
      "\u001b[34m#metrics {\"StartTime\": 1733968058.2020867, \"EndTime\": 1733968058.2020996, \"Dimensions\": {\"Algorithm\": \"Linear Learner\", \"Host\": \"algo-1\", \"Operation\": \"training\", \"epoch\": 2, \"model\": 26}, \"Metrics\": {\"train_binary_classification_cross_entropy_objective\": {\"sum\": 0.30640371543884276, \"count\": 1, \"min\": 0.30640371543884276, \"max\": 0.30640371543884276}}}\u001b[0m\n",
      "\u001b[34m#metrics {\"StartTime\": 1733968058.2021382, \"EndTime\": 1733968058.2021472, \"Dimensions\": {\"Algorithm\": \"Linear Learner\", \"Host\": \"algo-1\", \"Operation\": \"training\", \"epoch\": 2, \"model\": 27}, \"Metrics\": {\"train_binary_classification_cross_entropy_objective\": {\"sum\": 0.3064663356781006, \"count\": 1, \"min\": 0.3064663356781006, \"max\": 0.3064663356781006}}}\u001b[0m\n",
      "\u001b[34m#metrics {\"StartTime\": 1733968058.2021775, \"EndTime\": 1733968058.2021859, \"Dimensions\": {\"Algorithm\": \"Linear Learner\", \"Host\": \"algo-1\", \"Operation\": \"training\", \"epoch\": 2, \"model\": 28}, \"Metrics\": {\"train_binary_classification_cross_entropy_objective\": {\"sum\": 0.3088462431335449, \"count\": 1, \"min\": 0.3088462431335449, \"max\": 0.3088462431335449}}}\u001b[0m\n",
      "\u001b[34m#metrics {\"StartTime\": 1733968058.2022157, \"EndTime\": 1733968058.2022238, \"Dimensions\": {\"Algorithm\": \"Linear Learner\", \"Host\": \"algo-1\", \"Operation\": \"training\", \"epoch\": 2, \"model\": 29}, \"Metrics\": {\"train_binary_classification_cross_entropy_objective\": {\"sum\": 0.3095548558807373, \"count\": 1, \"min\": 0.3095548558807373, \"max\": 0.3095548558807373}}}\u001b[0m\n",
      "\u001b[34m#metrics {\"StartTime\": 1733968058.2022517, \"EndTime\": 1733968058.2022603, \"Dimensions\": {\"Algorithm\": \"Linear Learner\", \"Host\": \"algo-1\", \"Operation\": \"training\", \"epoch\": 2, \"model\": 30}, \"Metrics\": {\"train_binary_classification_cross_entropy_objective\": {\"sum\": 0.30848528594970703, \"count\": 1, \"min\": 0.30848528594970703, \"max\": 0.30848528594970703}}}\u001b[0m\n",
      "\u001b[34m#metrics {\"StartTime\": 1733968058.2022927, \"EndTime\": 1733968058.2023013, \"Dimensions\": {\"Algorithm\": \"Linear Learner\", \"Host\": \"algo-1\", \"Operation\": \"training\", \"epoch\": 2, \"model\": 31}, \"Metrics\": {\"train_binary_classification_cross_entropy_objective\": {\"sum\": 0.309613507232666, \"count\": 1, \"min\": 0.309613507232666, \"max\": 0.309613507232666}}}\u001b[0m\n",
      "\u001b[34m[12/12/2024 01:47:38 INFO 140422536124224] #quality_metric: host=algo-1, epoch=2, train binary_classification_cross_entropy_objective <loss>=0.03211880851268768\u001b[0m\n",
      "\u001b[34m[12/12/2024 01:47:38 INFO 140422536124224] #early_stopping_criteria_metric: host=algo-1, epoch=2, criteria=binary_classification_cross_entropy_objective, value=0.03072658412218094\u001b[0m\n",
      "\u001b[34m[12/12/2024 01:47:38 INFO 140422536124224] Epoch 2: Loss improved. Updating best model\u001b[0m\n",
      "\u001b[34m[12/12/2024 01:47:38 INFO 140422536124224] Saving model for epoch: 2\u001b[0m\n",
      "\u001b[34m[12/12/2024 01:47:38 INFO 140422536124224] Saved checkpoint to \"/tmp/tmpcyczw349/mx-mod-0000.params\"\u001b[0m\n",
      "\u001b[34m[12/12/2024 01:47:38 INFO 140422536124224] #progress_metric: host=algo-1, completed 20.0 % of epochs\u001b[0m\n",
      "\u001b[34m#metrics {\"StartTime\": 1733968053.4736006, \"EndTime\": 1733968058.2088277, \"Dimensions\": {\"Algorithm\": \"Linear Learner\", \"Host\": \"algo-1\", \"Operation\": \"training\", \"epoch\": 2, \"Meta\": \"training_data_iter\"}, \"Metrics\": {\"Total Records Seen\": {\"sum\": 160400.0, \"count\": 1, \"min\": 160400, \"max\": 160400}, \"Total Batches Seen\": {\"sum\": 802.0, \"count\": 1, \"min\": 802, \"max\": 802}, \"Max Records Seen Between Resets\": {\"sum\": 50000.0, \"count\": 1, \"min\": 50000, \"max\": 50000}, \"Max Batches Seen Between Resets\": {\"sum\": 250.0, \"count\": 1, \"min\": 250, \"max\": 250}, \"Reset Count\": {\"sum\": 5.0, \"count\": 1, \"min\": 5, \"max\": 5}, \"Number of Records Since Last Reset\": {\"sum\": 50000.0, \"count\": 1, \"min\": 50000, \"max\": 50000}, \"Number of Batches Since Last Reset\": {\"sum\": 250.0, \"count\": 1, \"min\": 250, \"max\": 250}}}\u001b[0m\n",
      "\u001b[34m[12/12/2024 01:47:38 INFO 140422536124224] #throughput_metric: host=algo-1, train throughput=10558.805287035448 records/second\u001b[0m\n",
      "\u001b[34m[2024-12-12 01:47:42.797] [tensorio] [info] epoch_stats={\"data_pipeline\": \"/opt/ml/input/data/train\", \"epoch\": 9, \"duration\": 4588, \"num_examples\": 250, \"num_bytes\": 159200000}\u001b[0m\n",
      "\u001b[34m#metrics {\"StartTime\": 1733968062.797955, \"EndTime\": 1733968062.798012, \"Dimensions\": {\"Algorithm\": \"Linear Learner\", \"Host\": \"algo-1\", \"Operation\": \"training\", \"epoch\": 3, \"model\": 0}, \"Metrics\": {\"train_binary_classification_cross_entropy_objective\": {\"sum\": 0.02922982458472252, \"count\": 1, \"min\": 0.02922982458472252, \"max\": 0.02922982458472252}}}\u001b[0m\n",
      "\u001b[34m#metrics {\"StartTime\": 1733968062.7980762, \"EndTime\": 1733968062.7980888, \"Dimensions\": {\"Algorithm\": \"Linear Learner\", \"Host\": \"algo-1\", \"Operation\": \"training\", \"epoch\": 3, \"model\": 1}, \"Metrics\": {\"train_binary_classification_cross_entropy_objective\": {\"sum\": 0.02834384692788124, \"count\": 1, \"min\": 0.02834384692788124, \"max\": 0.02834384692788124}}}\u001b[0m\n",
      "\u001b[34m#metrics {\"StartTime\": 1733968062.7981203, \"EndTime\": 1733968062.79813, \"Dimensions\": {\"Algorithm\": \"Linear Learner\", \"Host\": \"algo-1\", \"Operation\": \"training\", \"epoch\": 3, \"model\": 2}, \"Metrics\": {\"train_binary_classification_cross_entropy_objective\": {\"sum\": 0.02905749149799347, \"count\": 1, \"min\": 0.02905749149799347, \"max\": 0.02905749149799347}}}\u001b[0m\n",
      "\u001b[34m#metrics {\"StartTime\": 1733968062.7981596, \"EndTime\": 1733968062.7981687, \"Dimensions\": {\"Algorithm\": \"Linear Learner\", \"Host\": \"algo-1\", \"Operation\": \"training\", \"epoch\": 3, \"model\": 3}, \"Metrics\": {\"train_binary_classification_cross_entropy_objective\": {\"sum\": 0.028287336407899856, \"count\": 1, \"min\": 0.028287336407899856, \"max\": 0.028287336407899856}}}\u001b[0m\n",
      "\u001b[34m#metrics {\"StartTime\": 1733968062.798198, \"EndTime\": 1733968062.7982054, \"Dimensions\": {\"Algorithm\": \"Linear Learner\", \"Host\": \"algo-1\", \"Operation\": \"training\", \"epoch\": 3, \"model\": 4}, \"Metrics\": {\"train_binary_classification_cross_entropy_objective\": {\"sum\": 0.06860432717291522, \"count\": 1, \"min\": 0.06860432717291522, \"max\": 0.06860432717291522}}}\u001b[0m\n",
      "\u001b[34m#metrics {\"StartTime\": 1733968062.7982283, \"EndTime\": 1733968062.7982352, \"Dimensions\": {\"Algorithm\": \"Linear Learner\", \"Host\": \"algo-1\", \"Operation\": \"training\", \"epoch\": 3, \"model\": 5}, \"Metrics\": {\"train_binary_classification_cross_entropy_objective\": {\"sum\": 0.13110415196614286, \"count\": 1, \"min\": 0.13110415196614286, \"max\": 0.13110415196614286}}}\u001b[0m\n",
      "\u001b[34m#metrics {\"StartTime\": 1733968062.7982602, \"EndTime\": 1733968062.7982676, \"Dimensions\": {\"Algorithm\": \"Linear Learner\", \"Host\": \"algo-1\", \"Operation\": \"training\", \"epoch\": 3, \"model\": 6}, \"Metrics\": {\"train_binary_classification_cross_entropy_objective\": {\"sum\": 0.06994388268559938, \"count\": 1, \"min\": 0.06994388268559938, \"max\": 0.06994388268559938}}}\u001b[0m\n",
      "\u001b[34m#metrics {\"StartTime\": 1733968062.7982936, \"EndTime\": 1733968062.798302, \"Dimensions\": {\"Algorithm\": \"Linear Learner\", \"Host\": \"algo-1\", \"Operation\": \"training\", \"epoch\": 3, \"model\": 7}, \"Metrics\": {\"train_binary_classification_cross_entropy_objective\": {\"sum\": 0.12975461052617934, \"count\": 1, \"min\": 0.12975461052617934, \"max\": 0.12975461052617934}}}\u001b[0m\n",
      "\u001b[34m#metrics {\"StartTime\": 1733968062.7983289, \"EndTime\": 1733968062.798337, \"Dimensions\": {\"Algorithm\": \"Linear Learner\", \"Host\": \"algo-1\", \"Operation\": \"training\", \"epoch\": 3, \"model\": 8}, \"Metrics\": {\"train_binary_classification_cross_entropy_objective\": {\"sum\": 0.03190428654193878, \"count\": 1, \"min\": 0.03190428654193878, \"max\": 0.03190428654193878}}}\u001b[0m\n",
      "\u001b[34m#metrics {\"StartTime\": 1733968062.7983656, \"EndTime\": 1733968062.7983744, \"Dimensions\": {\"Algorithm\": \"Linear Learner\", \"Host\": \"algo-1\", \"Operation\": \"training\", \"epoch\": 3, \"model\": 9}, \"Metrics\": {\"train_binary_classification_cross_entropy_objective\": {\"sum\": 0.03172267335176468, \"count\": 1, \"min\": 0.03172267335176468, \"max\": 0.03172267335176468}}}\u001b[0m\n",
      "\u001b[34m#metrics {\"StartTime\": 1733968062.798398, \"EndTime\": 1733968062.7984066, \"Dimensions\": {\"Algorithm\": \"Linear Learner\", \"Host\": \"algo-1\", \"Operation\": \"training\", \"epoch\": 3, \"model\": 10}, \"Metrics\": {\"train_binary_classification_cross_entropy_objective\": {\"sum\": 0.031855016412734985, \"count\": 1, \"min\": 0.031855016412734985, \"max\": 0.031855016412734985}}}\u001b[0m\n",
      "\u001b[34m#metrics {\"StartTime\": 1733968062.7984302, \"EndTime\": 1733968062.798438, \"Dimensions\": {\"Algorithm\": \"Linear Learner\", \"Host\": \"algo-1\", \"Operation\": \"training\", \"epoch\": 3, \"model\": 11}, \"Metrics\": {\"train_binary_classification_cross_entropy_objective\": {\"sum\": 0.03193851977825165, \"count\": 1, \"min\": 0.03193851977825165, \"max\": 0.03193851977825165}}}\u001b[0m\n",
      "\u001b[34m#metrics {\"StartTime\": 1733968062.7984624, \"EndTime\": 1733968062.7984707, \"Dimensions\": {\"Algorithm\": \"Linear Learner\", \"Host\": \"algo-1\", \"Operation\": \"training\", \"epoch\": 3, \"model\": 12}, \"Metrics\": {\"train_binary_classification_cross_entropy_objective\": {\"sum\": 0.063772580601573, \"count\": 1, \"min\": 0.063772580601573, \"max\": 0.063772580601573}}}\u001b[0m\n",
      "\u001b[34m#metrics {\"StartTime\": 1733968062.7984972, \"EndTime\": 1733968062.7985053, \"Dimensions\": {\"Algorithm\": \"Linear Learner\", \"Host\": \"algo-1\", \"Operation\": \"training\", \"epoch\": 3, \"model\": 13}, \"Metrics\": {\"train_binary_classification_cross_entropy_objective\": {\"sum\": 0.1092619345484674, \"count\": 1, \"min\": 0.1092619345484674, \"max\": 0.1092619345484674}}}\u001b[0m\n",
      "\u001b[34m#metrics {\"StartTime\": 1733968062.7985322, \"EndTime\": 1733968062.7985413, \"Dimensions\": {\"Algorithm\": \"Linear Learner\", \"Host\": \"algo-1\", \"Operation\": \"training\", \"epoch\": 3, \"model\": 14}, \"Metrics\": {\"train_binary_classification_cross_entropy_objective\": {\"sum\": 0.060853169530034064, \"count\": 1, \"min\": 0.060853169530034064, \"max\": 0.060853169530034064}}}\u001b[0m\n",
      "\u001b[34m#metrics {\"StartTime\": 1733968062.7985706, \"EndTime\": 1733968062.798578, \"Dimensions\": {\"Algorithm\": \"Linear Learner\", \"Host\": \"algo-1\", \"Operation\": \"training\", \"epoch\": 3, \"model\": 15}, \"Metrics\": {\"train_binary_classification_cross_entropy_objective\": {\"sum\": 0.1274410348433256, \"count\": 1, \"min\": 0.1274410348433256, \"max\": 0.1274410348433256}}}\u001b[0m\n",
      "\u001b[34m#metrics {\"StartTime\": 1733968062.7986012, \"EndTime\": 1733968062.798608, \"Dimensions\": {\"Algorithm\": \"Linear Learner\", \"Host\": \"algo-1\", \"Operation\": \"training\", \"epoch\": 3, \"model\": 16}, \"Metrics\": {\"train_binary_classification_cross_entropy_objective\": {\"sum\": 0.10732564205169677, \"count\": 1, \"min\": 0.10732564205169677, \"max\": 0.10732564205169677}}}\u001b[0m\n",
      "\u001b[34m#metrics {\"StartTime\": 1733968062.7986321, \"EndTime\": 1733968062.79864, \"Dimensions\": {\"Algorithm\": \"Linear Learner\", \"Host\": \"algo-1\", \"Operation\": \"training\", \"epoch\": 3, \"model\": 17}, \"Metrics\": {\"train_binary_classification_cross_entropy_objective\": {\"sum\": 0.10847812314987183, \"count\": 1, \"min\": 0.10847812314987183, \"max\": 0.10847812314987183}}}\u001b[0m\n",
      "\u001b[34m#metrics {\"StartTime\": 1733968062.7986672, \"EndTime\": 1733968062.7986755, \"Dimensions\": {\"Algorithm\": \"Linear Learner\", \"Host\": \"algo-1\", \"Operation\": \"training\", \"epoch\": 3, \"model\": 18}, \"Metrics\": {\"train_binary_classification_cross_entropy_objective\": {\"sum\": 0.1073713782119751, \"count\": 1, \"min\": 0.1073713782119751, \"max\": 0.1073713782119751}}}\u001b[0m\n",
      "\u001b[34m#metrics {\"StartTime\": 1733968062.7986996, \"EndTime\": 1733968062.7987084, \"Dimensions\": {\"Algorithm\": \"Linear Learner\", \"Host\": \"algo-1\", \"Operation\": \"training\", \"epoch\": 3, \"model\": 19}, \"Metrics\": {\"train_binary_classification_cross_entropy_objective\": {\"sum\": 0.10850099576950073, \"count\": 1, \"min\": 0.10850099576950073, \"max\": 0.10850099576950073}}}\u001b[0m\n",
      "\u001b[34m#metrics {\"StartTime\": 1733968062.7987313, \"EndTime\": 1733968062.7987392, \"Dimensions\": {\"Algorithm\": \"Linear Learner\", \"Host\": \"algo-1\", \"Operation\": \"training\", \"epoch\": 3, \"model\": 20}, \"Metrics\": {\"train_binary_classification_cross_entropy_objective\": {\"sum\": 0.12178947151184082, \"count\": 1, \"min\": 0.12178947151184082, \"max\": 0.12178947151184082}}}\u001b[0m\n",
      "\u001b[34m#metrics {\"StartTime\": 1733968062.7987638, \"EndTime\": 1733968062.7987716, \"Dimensions\": {\"Algorithm\": \"Linear Learner\", \"Host\": \"algo-1\", \"Operation\": \"training\", \"epoch\": 3, \"model\": 21}, \"Metrics\": {\"train_binary_classification_cross_entropy_objective\": {\"sum\": 0.14759048404693603, \"count\": 1, \"min\": 0.14759048404693603, \"max\": 0.14759048404693603}}}\u001b[0m\n",
      "\u001b[34m#metrics {\"StartTime\": 1733968062.798802, \"EndTime\": 1733968062.7988112, \"Dimensions\": {\"Algorithm\": \"Linear Learner\", \"Host\": \"algo-1\", \"Operation\": \"training\", \"epoch\": 3, \"model\": 22}, \"Metrics\": {\"train_binary_classification_cross_entropy_objective\": {\"sum\": 0.12173141838073731, \"count\": 1, \"min\": 0.12173141838073731, \"max\": 0.12173141838073731}}}\u001b[0m\n",
      "\u001b[34m#metrics {\"StartTime\": 1733968062.7988377, \"EndTime\": 1733968062.7988458, \"Dimensions\": {\"Algorithm\": \"Linear Learner\", \"Host\": \"algo-1\", \"Operation\": \"training\", \"epoch\": 3, \"model\": 23}, \"Metrics\": {\"train_binary_classification_cross_entropy_objective\": {\"sum\": 0.1465599387359619, \"count\": 1, \"min\": 0.1465599387359619, \"max\": 0.1465599387359619}}}\u001b[0m\n",
      "\u001b[34m#metrics {\"StartTime\": 1733968062.7988698, \"EndTime\": 1733968062.7988768, \"Dimensions\": {\"Algorithm\": \"Linear Learner\", \"Host\": \"algo-1\", \"Operation\": \"training\", \"epoch\": 3, \"model\": 24}, \"Metrics\": {\"train_binary_classification_cross_entropy_objective\": {\"sum\": 0.3064276396942139, \"count\": 1, \"min\": 0.3064276396942139, \"max\": 0.3064276396942139}}}\u001b[0m\n",
      "\u001b[34m#metrics {\"StartTime\": 1733968062.7989004, \"EndTime\": 1733968062.798909, \"Dimensions\": {\"Algorithm\": \"Linear Learner\", \"Host\": \"algo-1\", \"Operation\": \"training\", \"epoch\": 3, \"model\": 25}, \"Metrics\": {\"train_binary_classification_cross_entropy_objective\": {\"sum\": 0.3065139965057373, \"count\": 1, \"min\": 0.3065139965057373, \"max\": 0.3065139965057373}}}\u001b[0m\n",
      "\u001b[34m#metrics {\"StartTime\": 1733968062.7989335, \"EndTime\": 1733968062.7989428, \"Dimensions\": {\"Algorithm\": \"Linear Learner\", \"Host\": \"algo-1\", \"Operation\": \"training\", \"epoch\": 3, \"model\": 26}, \"Metrics\": {\"train_binary_classification_cross_entropy_objective\": {\"sum\": 0.306405343170166, \"count\": 1, \"min\": 0.306405343170166, \"max\": 0.306405343170166}}}\u001b[0m\n",
      "\u001b[34m#metrics {\"StartTime\": 1733968062.7989678, \"EndTime\": 1733968062.7989762, \"Dimensions\": {\"Algorithm\": \"Linear Learner\", \"Host\": \"algo-1\", \"Operation\": \"training\", \"epoch\": 3, \"model\": 27}, \"Metrics\": {\"train_binary_classification_cross_entropy_objective\": {\"sum\": 0.3064989499664307, \"count\": 1, \"min\": 0.3064989499664307, \"max\": 0.3064989499664307}}}\u001b[0m\n",
      "\u001b[34m#metrics {\"StartTime\": 1733968062.7990003, \"EndTime\": 1733968062.799008, \"Dimensions\": {\"Algorithm\": \"Linear Learner\", \"Host\": \"algo-1\", \"Operation\": \"training\", \"epoch\": 3, \"model\": 28}, \"Metrics\": {\"train_binary_classification_cross_entropy_objective\": {\"sum\": 0.30799703231811526, \"count\": 1, \"min\": 0.30799703231811526, \"max\": 0.30799703231811526}}}\u001b[0m\n",
      "\u001b[34m#metrics {\"StartTime\": 1733968062.7990322, \"EndTime\": 1733968062.7990396, \"Dimensions\": {\"Algorithm\": \"Linear Learner\", \"Host\": \"algo-1\", \"Operation\": \"training\", \"epoch\": 3, \"model\": 29}, \"Metrics\": {\"train_binary_classification_cross_entropy_objective\": {\"sum\": 0.3101338363647461, \"count\": 1, \"min\": 0.3101338363647461, \"max\": 0.3101338363647461}}}\u001b[0m\n",
      "\u001b[34m#metrics {\"StartTime\": 1733968062.7990658, \"EndTime\": 1733968062.7990737, \"Dimensions\": {\"Algorithm\": \"Linear Learner\", \"Host\": \"algo-1\", \"Operation\": \"training\", \"epoch\": 3, \"model\": 30}, \"Metrics\": {\"train_binary_classification_cross_entropy_objective\": {\"sum\": 0.3084996887207031, \"count\": 1, \"min\": 0.3084996887207031, \"max\": 0.3084996887207031}}}\u001b[0m\n",
      "\u001b[34m#metrics {\"StartTime\": 1733968062.7991004, \"EndTime\": 1733968062.7991095, \"Dimensions\": {\"Algorithm\": \"Linear Learner\", \"Host\": \"algo-1\", \"Operation\": \"training\", \"epoch\": 3, \"model\": 31}, \"Metrics\": {\"train_binary_classification_cross_entropy_objective\": {\"sum\": 0.3096573703765869, \"count\": 1, \"min\": 0.3096573703765869, \"max\": 0.3096573703765869}}}\u001b[0m\n",
      "\u001b[34m[12/12/2024 01:47:42 INFO 140422536124224] #quality_metric: host=algo-1, epoch=3, train binary_classification_cross_entropy_objective <loss>=0.02922982458472252\u001b[0m\n",
      "\u001b[34m[12/12/2024 01:47:42 INFO 140422536124224] #early_stopping_criteria_metric: host=algo-1, epoch=3, criteria=binary_classification_cross_entropy_objective, value=0.028287336407899856\u001b[0m\n",
      "\u001b[34m[12/12/2024 01:47:42 INFO 140422536124224] Epoch 3: Loss improved. Updating best model\u001b[0m\n",
      "\u001b[34m[12/12/2024 01:47:42 INFO 140422536124224] Saving model for epoch: 3\u001b[0m\n",
      "\u001b[34m[12/12/2024 01:47:42 INFO 140422536124224] Saved checkpoint to \"/tmp/tmpdga43fdx/mx-mod-0000.params\"\u001b[0m\n",
      "\u001b[34m[12/12/2024 01:47:42 INFO 140422536124224] #progress_metric: host=algo-1, completed 26.666666666666668 % of epochs\u001b[0m\n",
      "\u001b[34m#metrics {\"StartTime\": 1733968058.2097826, \"EndTime\": 1733968062.8052251, \"Dimensions\": {\"Algorithm\": \"Linear Learner\", \"Host\": \"algo-1\", \"Operation\": \"training\", \"epoch\": 3, \"Meta\": \"training_data_iter\"}, \"Metrics\": {\"Total Records Seen\": {\"sum\": 210400.0, \"count\": 1, \"min\": 210400, \"max\": 210400}, \"Total Batches Seen\": {\"sum\": 1052.0, \"count\": 1, \"min\": 1052, \"max\": 1052}, \"Max Records Seen Between Resets\": {\"sum\": 50000.0, \"count\": 1, \"min\": 50000, \"max\": 50000}, \"Max Batches Seen Between Resets\": {\"sum\": 250.0, \"count\": 1, \"min\": 250, \"max\": 250}, \"Reset Count\": {\"sum\": 6.0, \"count\": 1, \"min\": 6, \"max\": 6}, \"Number of Records Since Last Reset\": {\"sum\": 50000.0, \"count\": 1, \"min\": 50000, \"max\": 50000}, \"Number of Batches Since Last Reset\": {\"sum\": 250.0, \"count\": 1, \"min\": 250, \"max\": 250}}}\u001b[0m\n",
      "\u001b[34m[12/12/2024 01:47:42 INFO 140422536124224] #throughput_metric: host=algo-1, train throughput=10879.996679688513 records/second\u001b[0m\n",
      "\u001b[34m[2024-12-12 01:47:47.239] [tensorio] [info] epoch_stats={\"data_pipeline\": \"/opt/ml/input/data/train\", \"epoch\": 11, \"duration\": 4433, \"num_examples\": 250, \"num_bytes\": 159200000}\u001b[0m\n",
      "\u001b[34m#metrics {\"StartTime\": 1733968067.2400126, \"EndTime\": 1733968067.2400708, \"Dimensions\": {\"Algorithm\": \"Linear Learner\", \"Host\": \"algo-1\", \"Operation\": \"training\", \"epoch\": 4, \"model\": 0}, \"Metrics\": {\"train_binary_classification_cross_entropy_objective\": {\"sum\": 0.027582718749046324, \"count\": 1, \"min\": 0.027582718749046324, \"max\": 0.027582718749046324}}}\u001b[0m\n",
      "\u001b[34m#metrics {\"StartTime\": 1733968067.2401369, \"EndTime\": 1733968067.240149, \"Dimensions\": {\"Algorithm\": \"Linear Learner\", \"Host\": \"algo-1\", \"Operation\": \"training\", \"epoch\": 4, \"model\": 1}, \"Metrics\": {\"train_binary_classification_cross_entropy_objective\": {\"sum\": 0.02703313249707222, \"count\": 1, \"min\": 0.02703313249707222, \"max\": 0.02703313249707222}}}\u001b[0m\n",
      "\u001b[34m#metrics {\"StartTime\": 1733968067.2402024, \"EndTime\": 1733968067.2402132, \"Dimensions\": {\"Algorithm\": \"Linear Learner\", \"Host\": \"algo-1\", \"Operation\": \"training\", \"epoch\": 4, \"model\": 2}, \"Metrics\": {\"train_binary_classification_cross_entropy_objective\": {\"sum\": 0.027466045610904693, \"count\": 1, \"min\": 0.027466045610904693, \"max\": 0.027466045610904693}}}\u001b[0m\n",
      "\u001b[34m#metrics {\"StartTime\": 1733968067.24024, \"EndTime\": 1733968067.2402482, \"Dimensions\": {\"Algorithm\": \"Linear Learner\", \"Host\": \"algo-1\", \"Operation\": \"training\", \"epoch\": 4, \"model\": 3}, \"Metrics\": {\"train_binary_classification_cross_entropy_objective\": {\"sum\": 0.027028971717357634, \"count\": 1, \"min\": 0.027028971717357634, \"max\": 0.027028971717357634}}}\u001b[0m\n",
      "\u001b[34m#metrics {\"StartTime\": 1733968067.2402744, \"EndTime\": 1733968067.2402825, \"Dimensions\": {\"Algorithm\": \"Linear Learner\", \"Host\": \"algo-1\", \"Operation\": \"training\", \"epoch\": 4, \"model\": 4}, \"Metrics\": {\"train_binary_classification_cross_entropy_objective\": {\"sum\": 0.05773518460427993, \"count\": 1, \"min\": 0.05773518460427993, \"max\": 0.05773518460427993}}}\u001b[0m\n",
      "\u001b[34m#metrics {\"StartTime\": 1733968067.2403088, \"EndTime\": 1733968067.240317, \"Dimensions\": {\"Algorithm\": \"Linear Learner\", \"Host\": \"algo-1\", \"Operation\": \"training\", \"epoch\": 4, \"model\": 5}, \"Metrics\": {\"train_binary_classification_cross_entropy_objective\": {\"sum\": 0.12445192683643727, \"count\": 1, \"min\": 0.12445192683643727, \"max\": 0.12445192683643727}}}\u001b[0m\n",
      "\u001b[34m#metrics {\"StartTime\": 1733968067.2403479, \"EndTime\": 1733968067.2403574, \"Dimensions\": {\"Algorithm\": \"Linear Learner\", \"Host\": \"algo-1\", \"Operation\": \"training\", \"epoch\": 4, \"model\": 6}, \"Metrics\": {\"train_binary_classification_cross_entropy_objective\": {\"sum\": 0.06048622105163726, \"count\": 1, \"min\": 0.06048622105163726, \"max\": 0.06048622105163726}}}\u001b[0m\n",
      "\u001b[34m#metrics {\"StartTime\": 1733968067.2403812, \"EndTime\": 1733968067.24039, \"Dimensions\": {\"Algorithm\": \"Linear Learner\", \"Host\": \"algo-1\", \"Operation\": \"training\", \"epoch\": 4, \"model\": 7}, \"Metrics\": {\"train_binary_classification_cross_entropy_objective\": {\"sum\": 0.11282218320532336, \"count\": 1, \"min\": 0.11282218320532336, \"max\": 0.11282218320532336}}}\u001b[0m\n",
      "\u001b[34m#metrics {\"StartTime\": 1733968067.2404137, \"EndTime\": 1733968067.2404225, \"Dimensions\": {\"Algorithm\": \"Linear Learner\", \"Host\": \"algo-1\", \"Operation\": \"training\", \"epoch\": 4, \"model\": 8}, \"Metrics\": {\"train_binary_classification_cross_entropy_objective\": {\"sum\": 0.03077622759103775, \"count\": 1, \"min\": 0.03077622759103775, \"max\": 0.03077622759103775}}}\u001b[0m\n",
      "\u001b[34m#metrics {\"StartTime\": 1733968067.240451, \"EndTime\": 1733968067.24046, \"Dimensions\": {\"Algorithm\": \"Linear Learner\", \"Host\": \"algo-1\", \"Operation\": \"training\", \"epoch\": 4, \"model\": 9}, \"Metrics\": {\"train_binary_classification_cross_entropy_objective\": {\"sum\": 0.031141992979049682, \"count\": 1, \"min\": 0.031141992979049682, \"max\": 0.031141992979049682}}}\u001b[0m\n",
      "\u001b[34m#metrics {\"StartTime\": 1733968067.2404857, \"EndTime\": 1733968067.2404943, \"Dimensions\": {\"Algorithm\": \"Linear Learner\", \"Host\": \"algo-1\", \"Operation\": \"training\", \"epoch\": 4, \"model\": 10}, \"Metrics\": {\"train_binary_classification_cross_entropy_objective\": {\"sum\": 0.030749254689216615, \"count\": 1, \"min\": 0.030749254689216615, \"max\": 0.030749254689216615}}}\u001b[0m\n",
      "\u001b[34m#metrics {\"StartTime\": 1733968067.2405171, \"EndTime\": 1733968067.240526, \"Dimensions\": {\"Algorithm\": \"Linear Learner\", \"Host\": \"algo-1\", \"Operation\": \"training\", \"epoch\": 4, \"model\": 11}, \"Metrics\": {\"train_binary_classification_cross_entropy_objective\": {\"sum\": 0.03118614330291748, \"count\": 1, \"min\": 0.03118614330291748, \"max\": 0.03118614330291748}}}\u001b[0m\n",
      "\u001b[34m#metrics {\"StartTime\": 1733968067.2405496, \"EndTime\": 1733968067.2405577, \"Dimensions\": {\"Algorithm\": \"Linear Learner\", \"Host\": \"algo-1\", \"Operation\": \"training\", \"epoch\": 4, \"model\": 12}, \"Metrics\": {\"train_binary_classification_cross_entropy_objective\": {\"sum\": 0.05425437896847725, \"count\": 1, \"min\": 0.05425437896847725, \"max\": 0.05425437896847725}}}\u001b[0m\n",
      "\u001b[34m#metrics {\"StartTime\": 1733968067.240587, \"EndTime\": 1733968067.2405958, \"Dimensions\": {\"Algorithm\": \"Linear Learner\", \"Host\": \"algo-1\", \"Operation\": \"training\", \"epoch\": 4, \"model\": 13}, \"Metrics\": {\"train_binary_classification_cross_entropy_objective\": {\"sum\": 0.12062253970980644, \"count\": 1, \"min\": 0.12062253970980644, \"max\": 0.12062253970980644}}}\u001b[0m\n",
      "\u001b[34m#metrics {\"StartTime\": 1733968067.240623, \"EndTime\": 1733968067.240632, \"Dimensions\": {\"Algorithm\": \"Linear Learner\", \"Host\": \"algo-1\", \"Operation\": \"training\", \"epoch\": 4, \"model\": 14}, \"Metrics\": {\"train_binary_classification_cross_entropy_objective\": {\"sum\": 0.054180973658561705, \"count\": 1, \"min\": 0.054180973658561705, \"max\": 0.054180973658561705}}}\u001b[0m\n",
      "\u001b[34m#metrics {\"StartTime\": 1733968067.240654, \"EndTime\": 1733968067.240663, \"Dimensions\": {\"Algorithm\": \"Linear Learner\", \"Host\": \"algo-1\", \"Operation\": \"training\", \"epoch\": 4, \"model\": 15}, \"Metrics\": {\"train_binary_classification_cross_entropy_objective\": {\"sum\": 0.1016212238367647, \"count\": 1, \"min\": 0.1016212238367647, \"max\": 0.1016212238367647}}}\u001b[0m\n",
      "\u001b[34m#metrics {\"StartTime\": 1733968067.240691, \"EndTime\": 1733968067.2406995, \"Dimensions\": {\"Algorithm\": \"Linear Learner\", \"Host\": \"algo-1\", \"Operation\": \"training\", \"epoch\": 4, \"model\": 16}, \"Metrics\": {\"train_binary_classification_cross_entropy_objective\": {\"sum\": 0.10706559881210327, \"count\": 1, \"min\": 0.10706559881210327, \"max\": 0.10706559881210327}}}\u001b[0m\n",
      "\u001b[34m#metrics {\"StartTime\": 1733968067.2407262, \"EndTime\": 1733968067.2407331, \"Dimensions\": {\"Algorithm\": \"Linear Learner\", \"Host\": \"algo-1\", \"Operation\": \"training\", \"epoch\": 4, \"model\": 17}, \"Metrics\": {\"train_binary_classification_cross_entropy_objective\": {\"sum\": 0.1084690834236145, \"count\": 1, \"min\": 0.1084690834236145, \"max\": 0.1084690834236145}}}\u001b[0m\n",
      "\u001b[34m#metrics {\"StartTime\": 1733968067.2407558, \"EndTime\": 1733968067.2407632, \"Dimensions\": {\"Algorithm\": \"Linear Learner\", \"Host\": \"algo-1\", \"Operation\": \"training\", \"epoch\": 4, \"model\": 18}, \"Metrics\": {\"train_binary_classification_cross_entropy_objective\": {\"sum\": 0.10708488094329834, \"count\": 1, \"min\": 0.10708488094329834, \"max\": 0.10708488094329834}}}\u001b[0m\n",
      "\u001b[34m#metrics {\"StartTime\": 1733968067.2407956, \"EndTime\": 1733968067.240803, \"Dimensions\": {\"Algorithm\": \"Linear Learner\", \"Host\": \"algo-1\", \"Operation\": \"training\", \"epoch\": 4, \"model\": 19}, \"Metrics\": {\"train_binary_classification_cross_entropy_objective\": {\"sum\": 0.10849139308929444, \"count\": 1, \"min\": 0.10849139308929444, \"max\": 0.10849139308929444}}}\u001b[0m\n",
      "\u001b[34m#metrics {\"StartTime\": 1733968067.2408292, \"EndTime\": 1733968067.2408369, \"Dimensions\": {\"Algorithm\": \"Linear Learner\", \"Host\": \"algo-1\", \"Operation\": \"training\", \"epoch\": 4, \"model\": 20}, \"Metrics\": {\"train_binary_classification_cross_entropy_objective\": {\"sum\": 0.11991187744140624, \"count\": 1, \"min\": 0.11991187744140624, \"max\": 0.11991187744140624}}}\u001b[0m\n",
      "\u001b[34m#metrics {\"StartTime\": 1733968067.2408626, \"EndTime\": 1733968067.2408714, \"Dimensions\": {\"Algorithm\": \"Linear Learner\", \"Host\": \"algo-1\", \"Operation\": \"training\", \"epoch\": 4, \"model\": 21}, \"Metrics\": {\"train_binary_classification_cross_entropy_objective\": {\"sum\": 0.14913959238052368, \"count\": 1, \"min\": 0.14913959238052368, \"max\": 0.14913959238052368}}}\u001b[0m\n",
      "\u001b[34m#metrics {\"StartTime\": 1733968067.2408938, \"EndTime\": 1733968067.2409022, \"Dimensions\": {\"Algorithm\": \"Linear Learner\", \"Host\": \"algo-1\", \"Operation\": \"training\", \"epoch\": 4, \"model\": 22}, \"Metrics\": {\"train_binary_classification_cross_entropy_objective\": {\"sum\": 0.11951114469528198, \"count\": 1, \"min\": 0.11951114469528198, \"max\": 0.11951114469528198}}}\u001b[0m\n",
      "\u001b[34m#metrics {\"StartTime\": 1733968067.2409291, \"EndTime\": 1733968067.240937, \"Dimensions\": {\"Algorithm\": \"Linear Learner\", \"Host\": \"algo-1\", \"Operation\": \"training\", \"epoch\": 4, \"model\": 23}, \"Metrics\": {\"train_binary_classification_cross_entropy_objective\": {\"sum\": 0.146779278049469, \"count\": 1, \"min\": 0.146779278049469, \"max\": 0.146779278049469}}}\u001b[0m\n",
      "\u001b[34m#metrics {\"StartTime\": 1733968067.2409637, \"EndTime\": 1733968067.2409713, \"Dimensions\": {\"Algorithm\": \"Linear Learner\", \"Host\": \"algo-1\", \"Operation\": \"training\", \"epoch\": 4, \"model\": 24}, \"Metrics\": {\"train_binary_classification_cross_entropy_objective\": {\"sum\": 0.30641409408569337, \"count\": 1, \"min\": 0.30641409408569337, \"max\": 0.30641409408569337}}}\u001b[0m\n",
      "\u001b[34m#metrics {\"StartTime\": 1733968067.2409985, \"EndTime\": 1733968067.2410064, \"Dimensions\": {\"Algorithm\": \"Linear Learner\", \"Host\": \"algo-1\", \"Operation\": \"training\", \"epoch\": 4, \"model\": 25}, \"Metrics\": {\"train_binary_classification_cross_entropy_objective\": {\"sum\": 0.3065548038482666, \"count\": 1, \"min\": 0.3065548038482666, \"max\": 0.3065548038482666}}}\u001b[0m\n",
      "\u001b[34m#metrics {\"StartTime\": 1733968067.2410376, \"EndTime\": 1733968067.241045, \"Dimensions\": {\"Algorithm\": \"Linear Learner\", \"Host\": \"algo-1\", \"Operation\": \"training\", \"epoch\": 4, \"model\": 26}, \"Metrics\": {\"train_binary_classification_cross_entropy_objective\": {\"sum\": 0.3063970802307129, \"count\": 1, \"min\": 0.3063970802307129, \"max\": 0.3063970802307129}}}\u001b[0m\n",
      "\u001b[34m#metrics {\"StartTime\": 1733968067.2410717, \"EndTime\": 1733968067.2410798, \"Dimensions\": {\"Algorithm\": \"Linear Learner\", \"Host\": \"algo-1\", \"Operation\": \"training\", \"epoch\": 4, \"model\": 27}, \"Metrics\": {\"train_binary_classification_cross_entropy_objective\": {\"sum\": 0.306529888381958, \"count\": 1, \"min\": 0.306529888381958, \"max\": 0.306529888381958}}}\u001b[0m\n",
      "\u001b[34m#metrics {\"StartTime\": 1733968067.241106, \"EndTime\": 1733968067.2411141, \"Dimensions\": {\"Algorithm\": \"Linear Learner\", \"Host\": \"algo-1\", \"Operation\": \"training\", \"epoch\": 4, \"model\": 28}, \"Metrics\": {\"train_binary_classification_cross_entropy_objective\": {\"sum\": 0.3073026959228516, \"count\": 1, \"min\": 0.3073026959228516, \"max\": 0.3073026959228516}}}\u001b[0m\n",
      "\u001b[34m#metrics {\"StartTime\": 1733968067.2411447, \"EndTime\": 1733968067.241153, \"Dimensions\": {\"Algorithm\": \"Linear Learner\", \"Host\": \"algo-1\", \"Operation\": \"training\", \"epoch\": 4, \"model\": 29}, \"Metrics\": {\"train_binary_classification_cross_entropy_objective\": {\"sum\": 0.3098162889099121, \"count\": 1, \"min\": 0.3098162889099121, \"max\": 0.3098162889099121}}}\u001b[0m\n",
      "\u001b[34m#metrics {\"StartTime\": 1733968067.2411802, \"EndTime\": 1733968067.2411888, \"Dimensions\": {\"Algorithm\": \"Linear Learner\", \"Host\": \"algo-1\", \"Operation\": \"training\", \"epoch\": 4, \"model\": 30}, \"Metrics\": {\"train_binary_classification_cross_entropy_objective\": {\"sum\": 0.30734090850830076, \"count\": 1, \"min\": 0.30734090850830076, \"max\": 0.30734090850830076}}}\u001b[0m\n",
      "\u001b[34m#metrics {\"StartTime\": 1733968067.2412117, \"EndTime\": 1733968067.2412202, \"Dimensions\": {\"Algorithm\": \"Linear Learner\", \"Host\": \"algo-1\", \"Operation\": \"training\", \"epoch\": 4, \"model\": 31}, \"Metrics\": {\"train_binary_classification_cross_entropy_objective\": {\"sum\": 0.3105081169891357, \"count\": 1, \"min\": 0.3105081169891357, \"max\": 0.3105081169891357}}}\u001b[0m\n",
      "\u001b[34m[12/12/2024 01:47:47 INFO 140422536124224] #quality_metric: host=algo-1, epoch=4, train binary_classification_cross_entropy_objective <loss>=0.027582718749046324\u001b[0m\n",
      "\u001b[34m[12/12/2024 01:47:47 INFO 140422536124224] #early_stopping_criteria_metric: host=algo-1, epoch=4, criteria=binary_classification_cross_entropy_objective, value=0.027028971717357634\u001b[0m\n",
      "\u001b[34m[12/12/2024 01:47:47 INFO 140422536124224] Epoch 4: Loss improved. Updating best model\u001b[0m\n",
      "\u001b[34m[12/12/2024 01:47:47 INFO 140422536124224] Saving model for epoch: 4\u001b[0m\n",
      "\u001b[34m[12/12/2024 01:47:47 INFO 140422536124224] Saved checkpoint to \"/tmp/tmpq0w6vo1y/mx-mod-0000.params\"\u001b[0m\n",
      "\u001b[34m[12/12/2024 01:47:47 INFO 140422536124224] #progress_metric: host=algo-1, completed 33.333333333333336 % of epochs\u001b[0m\n",
      "\u001b[34m#metrics {\"StartTime\": 1733968062.8060265, \"EndTime\": 1733968067.2476912, \"Dimensions\": {\"Algorithm\": \"Linear Learner\", \"Host\": \"algo-1\", \"Operation\": \"training\", \"epoch\": 4, \"Meta\": \"training_data_iter\"}, \"Metrics\": {\"Total Records Seen\": {\"sum\": 260400.0, \"count\": 1, \"min\": 260400, \"max\": 260400}, \"Total Batches Seen\": {\"sum\": 1302.0, \"count\": 1, \"min\": 1302, \"max\": 1302}, \"Max Records Seen Between Resets\": {\"sum\": 50000.0, \"count\": 1, \"min\": 50000, \"max\": 50000}, \"Max Batches Seen Between Resets\": {\"sum\": 250.0, \"count\": 1, \"min\": 250, \"max\": 250}, \"Reset Count\": {\"sum\": 7.0, \"count\": 1, \"min\": 7, \"max\": 7}, \"Number of Records Since Last Reset\": {\"sum\": 50000.0, \"count\": 1, \"min\": 50000, \"max\": 50000}, \"Number of Batches Since Last Reset\": {\"sum\": 250.0, \"count\": 1, \"min\": 250, \"max\": 250}}}\u001b[0m\n",
      "\u001b[34m[12/12/2024 01:47:47 INFO 140422536124224] #throughput_metric: host=algo-1, train throughput=11256.761484633997 records/second\u001b[0m\n",
      "\u001b[34m[2024-12-12 01:47:51.859] [tensorio] [info] epoch_stats={\"data_pipeline\": \"/opt/ml/input/data/train\", \"epoch\": 13, \"duration\": 4610, \"num_examples\": 250, \"num_bytes\": 159200000}\u001b[0m\n",
      "\u001b[34m#metrics {\"StartTime\": 1733968071.8597643, \"EndTime\": 1733968071.8598292, \"Dimensions\": {\"Algorithm\": \"Linear Learner\", \"Host\": \"algo-1\", \"Operation\": \"training\", \"epoch\": 5, \"model\": 0}, \"Metrics\": {\"train_binary_classification_cross_entropy_objective\": {\"sum\": 0.026496554704904557, \"count\": 1, \"min\": 0.026496554704904557, \"max\": 0.026496554704904557}}}\u001b[0m\n",
      "\u001b[34m#metrics {\"StartTime\": 1733968071.8598917, \"EndTime\": 1733968071.859913, \"Dimensions\": {\"Algorithm\": \"Linear Learner\", \"Host\": \"algo-1\", \"Operation\": \"training\", \"epoch\": 5, \"model\": 1}, \"Metrics\": {\"train_binary_classification_cross_entropy_objective\": {\"sum\": 0.02621827291250229, \"count\": 1, \"min\": 0.02621827291250229, \"max\": 0.02621827291250229}}}\u001b[0m\n",
      "\u001b[34m#metrics {\"StartTime\": 1733968071.859944, \"EndTime\": 1733968071.8599532, \"Dimensions\": {\"Algorithm\": \"Linear Learner\", \"Host\": \"algo-1\", \"Operation\": \"training\", \"epoch\": 5, \"model\": 2}, \"Metrics\": {\"train_binary_classification_cross_entropy_objective\": {\"sum\": 0.026392429883480072, \"count\": 1, \"min\": 0.026392429883480072, \"max\": 0.026392429883480072}}}\u001b[0m\n",
      "\u001b[34m#metrics {\"StartTime\": 1733968071.8599844, \"EndTime\": 1733968071.859992, \"Dimensions\": {\"Algorithm\": \"Linear Learner\", \"Host\": \"algo-1\", \"Operation\": \"training\", \"epoch\": 5, \"model\": 3}, \"Metrics\": {\"train_binary_classification_cross_entropy_objective\": {\"sum\": 0.026243630576729775, \"count\": 1, \"min\": 0.026243630576729775, \"max\": 0.026243630576729775}}}\u001b[0m\n",
      "\u001b[34m#metrics {\"StartTime\": 1733968071.8600183, \"EndTime\": 1733968071.8600256, \"Dimensions\": {\"Algorithm\": \"Linear Learner\", \"Host\": \"algo-1\", \"Operation\": \"training\", \"epoch\": 5, \"model\": 4}, \"Metrics\": {\"train_binary_classification_cross_entropy_objective\": {\"sum\": 0.049671917600579325, \"count\": 1, \"min\": 0.049671917600579325, \"max\": 0.049671917600579325}}}\u001b[0m\n",
      "\u001b[34m#metrics {\"StartTime\": 1733968071.860051, \"EndTime\": 1733968071.860059, \"Dimensions\": {\"Algorithm\": \"Linear Learner\", \"Host\": \"algo-1\", \"Operation\": \"training\", \"epoch\": 5, \"model\": 5}, \"Metrics\": {\"train_binary_classification_cross_entropy_objective\": {\"sum\": 0.11648345871802114, \"count\": 1, \"min\": 0.11648345871802114, \"max\": 0.11648345871802114}}}\u001b[0m\n",
      "\u001b[34m#metrics {\"StartTime\": 1733968071.860085, \"EndTime\": 1733968071.8600924, \"Dimensions\": {\"Algorithm\": \"Linear Learner\", \"Host\": \"algo-1\", \"Operation\": \"training\", \"epoch\": 5, \"model\": 6}, \"Metrics\": {\"train_binary_classification_cross_entropy_objective\": {\"sum\": 0.05025229083745973, \"count\": 1, \"min\": 0.05025229083745973, \"max\": 0.05025229083745973}}}\u001b[0m\n",
      "\u001b[34m#metrics {\"StartTime\": 1733968071.8601189, \"EndTime\": 1733968071.8601255, \"Dimensions\": {\"Algorithm\": \"Linear Learner\", \"Host\": \"algo-1\", \"Operation\": \"training\", \"epoch\": 5, \"model\": 7}, \"Metrics\": {\"train_binary_classification_cross_entropy_objective\": {\"sum\": 0.12667222916303925, \"count\": 1, \"min\": 0.12667222916303925, \"max\": 0.12667222916303925}}}\u001b[0m\n",
      "\u001b[34m#metrics {\"StartTime\": 1733968071.8601513, \"EndTime\": 1733968071.8601592, \"Dimensions\": {\"Algorithm\": \"Linear Learner\", \"Host\": \"algo-1\", \"Operation\": \"training\", \"epoch\": 5, \"model\": 8}, \"Metrics\": {\"train_binary_classification_cross_entropy_objective\": {\"sum\": 0.03006578190803528, \"count\": 1, \"min\": 0.03006578190803528, \"max\": 0.03006578190803528}}}\u001b[0m\n",
      "\u001b[34m#metrics {\"StartTime\": 1733968071.8602057, \"EndTime\": 1733968071.8602142, \"Dimensions\": {\"Algorithm\": \"Linear Learner\", \"Host\": \"algo-1\", \"Operation\": \"training\", \"epoch\": 5, \"model\": 9}, \"Metrics\": {\"train_binary_classification_cross_entropy_objective\": {\"sum\": 0.030902579624652864, \"count\": 1, \"min\": 0.030902579624652864, \"max\": 0.030902579624652864}}}\u001b[0m\n",
      "\u001b[34m#metrics {\"StartTime\": 1733968071.8602436, \"EndTime\": 1733968071.8602514, \"Dimensions\": {\"Algorithm\": \"Linear Learner\", \"Host\": \"algo-1\", \"Operation\": \"training\", \"epoch\": 5, \"model\": 10}, \"Metrics\": {\"train_binary_classification_cross_entropy_objective\": {\"sum\": 0.030049059767723083, \"count\": 1, \"min\": 0.030049059767723083, \"max\": 0.030049059767723083}}}\u001b[0m\n",
      "\u001b[34m#metrics {\"StartTime\": 1733968071.8602784, \"EndTime\": 1733968071.8602862, \"Dimensions\": {\"Algorithm\": \"Linear Learner\", \"Host\": \"algo-1\", \"Operation\": \"training\", \"epoch\": 5, \"model\": 11}, \"Metrics\": {\"train_binary_classification_cross_entropy_objective\": {\"sum\": 0.030908889648914337, \"count\": 1, \"min\": 0.030908889648914337, \"max\": 0.030908889648914337}}}\u001b[0m\n",
      "\u001b[34m#metrics {\"StartTime\": 1733968071.8603148, \"EndTime\": 1733968071.8603234, \"Dimensions\": {\"Algorithm\": \"Linear Learner\", \"Host\": \"algo-1\", \"Operation\": \"training\", \"epoch\": 5, \"model\": 12}, \"Metrics\": {\"train_binary_classification_cross_entropy_objective\": {\"sum\": 0.046974390902519224, \"count\": 1, \"min\": 0.046974390902519224, \"max\": 0.046974390902519224}}}\u001b[0m\n",
      "\u001b[34m#metrics {\"StartTime\": 1733968071.8603504, \"EndTime\": 1733968071.860359, \"Dimensions\": {\"Algorithm\": \"Linear Learner\", \"Host\": \"algo-1\", \"Operation\": \"training\", \"epoch\": 5, \"model\": 13}, \"Metrics\": {\"train_binary_classification_cross_entropy_objective\": {\"sum\": 0.11051139517568052, \"count\": 1, \"min\": 0.11051139517568052, \"max\": 0.11051139517568052}}}\u001b[0m\n",
      "\u001b[34m#metrics {\"StartTime\": 1733968071.8603911, \"EndTime\": 1733968071.8604, \"Dimensions\": {\"Algorithm\": \"Linear Learner\", \"Host\": \"algo-1\", \"Operation\": \"training\", \"epoch\": 5, \"model\": 14}, \"Metrics\": {\"train_binary_classification_cross_entropy_objective\": {\"sum\": 0.04868166410446167, \"count\": 1, \"min\": 0.04868166410446167, \"max\": 0.04868166410446167}}}\u001b[0m\n",
      "\u001b[34m#metrics {\"StartTime\": 1733968071.8604295, \"EndTime\": 1733968071.8604374, \"Dimensions\": {\"Algorithm\": \"Linear Learner\", \"Host\": \"algo-1\", \"Operation\": \"training\", \"epoch\": 5, \"model\": 15}, \"Metrics\": {\"train_binary_classification_cross_entropy_objective\": {\"sum\": 0.11457938180685043, \"count\": 1, \"min\": 0.11457938180685043, \"max\": 0.11457938180685043}}}\u001b[0m\n",
      "\u001b[34m#metrics {\"StartTime\": 1733968071.8604617, \"EndTime\": 1733968071.8604693, \"Dimensions\": {\"Algorithm\": \"Linear Learner\", \"Host\": \"algo-1\", \"Operation\": \"training\", \"epoch\": 5, \"model\": 16}, \"Metrics\": {\"train_binary_classification_cross_entropy_objective\": {\"sum\": 0.10689618900299072, \"count\": 1, \"min\": 0.10689618900299072, \"max\": 0.10689618900299072}}}\u001b[0m\n",
      "\u001b[34m#metrics {\"StartTime\": 1733968071.8604958, \"EndTime\": 1733968071.8605042, \"Dimensions\": {\"Algorithm\": \"Linear Learner\", \"Host\": \"algo-1\", \"Operation\": \"training\", \"epoch\": 5, \"model\": 17}, \"Metrics\": {\"train_binary_classification_cross_entropy_objective\": {\"sum\": 0.10847136072158814, \"count\": 1, \"min\": 0.10847136072158814, \"max\": 0.10847136072158814}}}\u001b[0m\n",
      "\u001b[34m#metrics {\"StartTime\": 1733968071.8605378, \"EndTime\": 1733968071.8605466, \"Dimensions\": {\"Algorithm\": \"Linear Learner\", \"Host\": \"algo-1\", \"Operation\": \"training\", \"epoch\": 5, \"model\": 18}, \"Metrics\": {\"train_binary_classification_cross_entropy_objective\": {\"sum\": 0.10690570621490479, \"count\": 1, \"min\": 0.10690570621490479, \"max\": 0.10690570621490479}}}\u001b[0m\n",
      "\u001b[34m#metrics {\"StartTime\": 1733968071.8605707, \"EndTime\": 1733968071.8605778, \"Dimensions\": {\"Algorithm\": \"Linear Learner\", \"Host\": \"algo-1\", \"Operation\": \"training\", \"epoch\": 5, \"model\": 19}, \"Metrics\": {\"train_binary_classification_cross_entropy_objective\": {\"sum\": 0.10849071676254272, \"count\": 1, \"min\": 0.10849071676254272, \"max\": 0.10849071676254272}}}\u001b[0m\n",
      "\u001b[34m#metrics {\"StartTime\": 1733968071.8605998, \"EndTime\": 1733968071.8606079, \"Dimensions\": {\"Algorithm\": \"Linear Learner\", \"Host\": \"algo-1\", \"Operation\": \"training\", \"epoch\": 5, \"model\": 20}, \"Metrics\": {\"train_binary_classification_cross_entropy_objective\": {\"sum\": 0.1155019003868103, \"count\": 1, \"min\": 0.1155019003868103, \"max\": 0.1155019003868103}}}\u001b[0m\n",
      "\u001b[34m#metrics {\"StartTime\": 1733968071.8606353, \"EndTime\": 1733968071.8606431, \"Dimensions\": {\"Algorithm\": \"Linear Learner\", \"Host\": \"algo-1\", \"Operation\": \"training\", \"epoch\": 5, \"model\": 21}, \"Metrics\": {\"train_binary_classification_cross_entropy_objective\": {\"sum\": 0.14679979669570922, \"count\": 1, \"min\": 0.14679979669570922, \"max\": 0.14679979669570922}}}\u001b[0m\n",
      "\u001b[34m#metrics {\"StartTime\": 1733968071.860671, \"EndTime\": 1733968071.8606791, \"Dimensions\": {\"Algorithm\": \"Linear Learner\", \"Host\": \"algo-1\", \"Operation\": \"training\", \"epoch\": 5, \"model\": 22}, \"Metrics\": {\"train_binary_classification_cross_entropy_objective\": {\"sum\": 0.11522084661483764, \"count\": 1, \"min\": 0.11522084661483764, \"max\": 0.11522084661483764}}}\u001b[0m\n",
      "\u001b[34m#metrics {\"StartTime\": 1733968071.8607025, \"EndTime\": 1733968071.8607097, \"Dimensions\": {\"Algorithm\": \"Linear Learner\", \"Host\": \"algo-1\", \"Operation\": \"training\", \"epoch\": 5, \"model\": 23}, \"Metrics\": {\"train_binary_classification_cross_entropy_objective\": {\"sum\": 0.14466629640579223, \"count\": 1, \"min\": 0.14466629640579223, \"max\": 0.14466629640579223}}}\u001b[0m\n",
      "\u001b[34m#metrics {\"StartTime\": 1733968071.86074, \"EndTime\": 1733968071.860748, \"Dimensions\": {\"Algorithm\": \"Linear Learner\", \"Host\": \"algo-1\", \"Operation\": \"training\", \"epoch\": 5, \"model\": 24}, \"Metrics\": {\"train_binary_classification_cross_entropy_objective\": {\"sum\": 0.30640544898986816, \"count\": 1, \"min\": 0.30640544898986816, \"max\": 0.30640544898986816}}}\u001b[0m\n",
      "\u001b[34m#metrics {\"StartTime\": 1733968071.8608048, \"EndTime\": 1733968071.860814, \"Dimensions\": {\"Algorithm\": \"Linear Learner\", \"Host\": \"algo-1\", \"Operation\": \"training\", \"epoch\": 5, \"model\": 25}, \"Metrics\": {\"train_binary_classification_cross_entropy_objective\": {\"sum\": 0.3065768605041504, \"count\": 1, \"min\": 0.3065768605041504, \"max\": 0.3065768605041504}}}\u001b[0m\n",
      "\u001b[34m#metrics {\"StartTime\": 1733968071.8608441, \"EndTime\": 1733968071.8608525, \"Dimensions\": {\"Algorithm\": \"Linear Learner\", \"Host\": \"algo-1\", \"Operation\": \"training\", \"epoch\": 5, \"model\": 26}, \"Metrics\": {\"train_binary_classification_cross_entropy_objective\": {\"sum\": 0.30640013236999514, \"count\": 1, \"min\": 0.30640013236999514, \"max\": 0.30640013236999514}}}\u001b[0m\n",
      "\u001b[34m#metrics {\"StartTime\": 1733968071.8608792, \"EndTime\": 1733968071.8608868, \"Dimensions\": {\"Algorithm\": \"Linear Learner\", \"Host\": \"algo-1\", \"Operation\": \"training\", \"epoch\": 5, \"model\": 27}, \"Metrics\": {\"train_binary_classification_cross_entropy_objective\": {\"sum\": 0.3065722133636475, \"count\": 1, \"min\": 0.3065722133636475, \"max\": 0.3065722133636475}}}\u001b[0m\n",
      "\u001b[34m#metrics {\"StartTime\": 1733968071.8609176, \"EndTime\": 1733968071.8609264, \"Dimensions\": {\"Algorithm\": \"Linear Learner\", \"Host\": \"algo-1\", \"Operation\": \"training\", \"epoch\": 5, \"model\": 28}, \"Metrics\": {\"train_binary_classification_cross_entropy_objective\": {\"sum\": 0.30706502922058104, \"count\": 1, \"min\": 0.30706502922058104, \"max\": 0.30706502922058104}}}\u001b[0m\n",
      "\u001b[34m#metrics {\"StartTime\": 1733968071.8609545, \"EndTime\": 1733968071.860963, \"Dimensions\": {\"Algorithm\": \"Linear Learner\", \"Host\": \"algo-1\", \"Operation\": \"training\", \"epoch\": 5, \"model\": 29}, \"Metrics\": {\"train_binary_classification_cross_entropy_objective\": {\"sum\": 0.31023088859558107, \"count\": 1, \"min\": 0.31023088859558107, \"max\": 0.31023088859558107}}}\u001b[0m\n",
      "\u001b[34m#metrics {\"StartTime\": 1733968071.8609917, \"EndTime\": 1733968071.8610005, \"Dimensions\": {\"Algorithm\": \"Linear Learner\", \"Host\": \"algo-1\", \"Operation\": \"training\", \"epoch\": 5, \"model\": 30}, \"Metrics\": {\"train_binary_classification_cross_entropy_objective\": {\"sum\": 0.30709562088012693, \"count\": 1, \"min\": 0.30709562088012693, \"max\": 0.30709562088012693}}}\u001b[0m\n",
      "\u001b[34m#metrics {\"StartTime\": 1733968071.8610299, \"EndTime\": 1733968071.8610387, \"Dimensions\": {\"Algorithm\": \"Linear Learner\", \"Host\": \"algo-1\", \"Operation\": \"training\", \"epoch\": 5, \"model\": 31}, \"Metrics\": {\"train_binary_classification_cross_entropy_objective\": {\"sum\": 0.31002089668273924, \"count\": 1, \"min\": 0.31002089668273924, \"max\": 0.31002089668273924}}}\u001b[0m\n",
      "\u001b[34m[12/12/2024 01:47:51 INFO 140422536124224] #quality_metric: host=algo-1, epoch=5, train binary_classification_cross_entropy_objective <loss>=0.026496554704904557\u001b[0m\n",
      "\u001b[34m[12/12/2024 01:47:51 INFO 140422536124224] #early_stopping_criteria_metric: host=algo-1, epoch=5, criteria=binary_classification_cross_entropy_objective, value=0.02621827291250229\u001b[0m\n",
      "\u001b[34m[12/12/2024 01:47:51 INFO 140422536124224] Epoch 5: Loss improved. Updating best model\u001b[0m\n",
      "\u001b[34m[12/12/2024 01:47:51 INFO 140422536124224] Saving model for epoch: 5\u001b[0m\n",
      "\u001b[34m[12/12/2024 01:47:51 INFO 140422536124224] Saved checkpoint to \"/tmp/tmpdexsrajp/mx-mod-0000.params\"\u001b[0m\n",
      "\u001b[34m[12/12/2024 01:47:51 INFO 140422536124224] #progress_metric: host=algo-1, completed 40.0 % of epochs\u001b[0m\n",
      "\u001b[34m#metrics {\"StartTime\": 1733968067.248786, \"EndTime\": 1733968071.8673618, \"Dimensions\": {\"Algorithm\": \"Linear Learner\", \"Host\": \"algo-1\", \"Operation\": \"training\", \"epoch\": 5, \"Meta\": \"training_data_iter\"}, \"Metrics\": {\"Total Records Seen\": {\"sum\": 310400.0, \"count\": 1, \"min\": 310400, \"max\": 310400}, \"Total Batches Seen\": {\"sum\": 1552.0, \"count\": 1, \"min\": 1552, \"max\": 1552}, \"Max Records Seen Between Resets\": {\"sum\": 50000.0, \"count\": 1, \"min\": 50000, \"max\": 50000}, \"Max Batches Seen Between Resets\": {\"sum\": 250.0, \"count\": 1, \"min\": 250, \"max\": 250}, \"Reset Count\": {\"sum\": 8.0, \"count\": 1, \"min\": 8, \"max\": 8}, \"Number of Records Since Last Reset\": {\"sum\": 50000.0, \"count\": 1, \"min\": 50000, \"max\": 50000}, \"Number of Batches Since Last Reset\": {\"sum\": 250.0, \"count\": 1, \"min\": 250, \"max\": 250}}}\u001b[0m\n",
      "\u001b[34m[12/12/2024 01:47:51 INFO 140422536124224] #throughput_metric: host=algo-1, train throughput=10825.609998525202 records/second\u001b[0m\n",
      "\u001b[34m[2024-12-12 01:47:56.394] [tensorio] [info] epoch_stats={\"data_pipeline\": \"/opt/ml/input/data/train\", \"epoch\": 15, \"duration\": 4526, \"num_examples\": 250, \"num_bytes\": 159200000}\u001b[0m\n",
      "\u001b[34m#metrics {\"StartTime\": 1733968076.394372, \"EndTime\": 1733968076.394427, \"Dimensions\": {\"Algorithm\": \"Linear Learner\", \"Host\": \"algo-1\", \"Operation\": \"training\", \"epoch\": 6, \"model\": 0}, \"Metrics\": {\"train_binary_classification_cross_entropy_objective\": {\"sum\": 0.025697499811649323, \"count\": 1, \"min\": 0.025697499811649323, \"max\": 0.025697499811649323}}}\u001b[0m\n",
      "\u001b[34m#metrics {\"StartTime\": 1733968076.3944888, \"EndTime\": 1733968076.394499, \"Dimensions\": {\"Algorithm\": \"Linear Learner\", \"Host\": \"algo-1\", \"Operation\": \"training\", \"epoch\": 6, \"model\": 1}, \"Metrics\": {\"train_binary_classification_cross_entropy_objective\": {\"sum\": 0.02566842764377594, \"count\": 1, \"min\": 0.02566842764377594, \"max\": 0.02566842764377594}}}\u001b[0m\n",
      "\u001b[34m#metrics {\"StartTime\": 1733968076.3945453, \"EndTime\": 1733968076.3945568, \"Dimensions\": {\"Algorithm\": \"Linear Learner\", \"Host\": \"algo-1\", \"Operation\": \"training\", \"epoch\": 6, \"model\": 2}, \"Metrics\": {\"train_binary_classification_cross_entropy_objective\": {\"sum\": 0.0256019191300869, \"count\": 1, \"min\": 0.0256019191300869, \"max\": 0.0256019191300869}}}\u001b[0m\n",
      "\u001b[34m#metrics {\"StartTime\": 1733968076.394602, \"EndTime\": 1733968076.394611, \"Dimensions\": {\"Algorithm\": \"Linear Learner\", \"Host\": \"algo-1\", \"Operation\": \"training\", \"epoch\": 6, \"model\": 3}, \"Metrics\": {\"train_binary_classification_cross_entropy_objective\": {\"sum\": 0.025693541923761366, \"count\": 1, \"min\": 0.025693541923761366, \"max\": 0.025693541923761366}}}\u001b[0m\n",
      "\u001b[34m#metrics {\"StartTime\": 1733968076.394636, \"EndTime\": 1733968076.3946426, \"Dimensions\": {\"Algorithm\": \"Linear Learner\", \"Host\": \"algo-1\", \"Operation\": \"training\", \"epoch\": 6, \"model\": 4}, \"Metrics\": {\"train_binary_classification_cross_entropy_objective\": {\"sum\": 0.043915011750333945, \"count\": 1, \"min\": 0.043915011750333945, \"max\": 0.043915011750333945}}}\u001b[0m\n",
      "\u001b[34m#metrics {\"StartTime\": 1733968076.3946662, \"EndTime\": 1733968076.3946733, \"Dimensions\": {\"Algorithm\": \"Linear Learner\", \"Host\": \"algo-1\", \"Operation\": \"training\", \"epoch\": 6, \"model\": 5}, \"Metrics\": {\"train_binary_classification_cross_entropy_objective\": {\"sum\": 0.12451137664384532, \"count\": 1, \"min\": 0.12451137664384532, \"max\": 0.12451137664384532}}}\u001b[0m\n",
      "\u001b[34m#metrics {\"StartTime\": 1733968076.3947008, \"EndTime\": 1733968076.3947086, \"Dimensions\": {\"Algorithm\": \"Linear Learner\", \"Host\": \"algo-1\", \"Operation\": \"training\", \"epoch\": 6, \"model\": 6}, \"Metrics\": {\"train_binary_classification_cross_entropy_objective\": {\"sum\": 0.045931085315970704, \"count\": 1, \"min\": 0.045931085315970704, \"max\": 0.045931085315970704}}}\u001b[0m\n",
      "\u001b[34m#metrics {\"StartTime\": 1733968076.394735, \"EndTime\": 1733968076.3947427, \"Dimensions\": {\"Algorithm\": \"Linear Learner\", \"Host\": \"algo-1\", \"Operation\": \"training\", \"epoch\": 6, \"model\": 7}, \"Metrics\": {\"train_binary_classification_cross_entropy_objective\": {\"sum\": 0.12406302993880043, \"count\": 1, \"min\": 0.12406302993880043, \"max\": 0.12406302993880043}}}\u001b[0m\n",
      "\u001b[34m#metrics {\"StartTime\": 1733968076.394766, \"EndTime\": 1733968076.394773, \"Dimensions\": {\"Algorithm\": \"Linear Learner\", \"Host\": \"algo-1\", \"Operation\": \"training\", \"epoch\": 6, \"model\": 8}, \"Metrics\": {\"train_binary_classification_cross_entropy_objective\": {\"sum\": 0.02956720220565796, \"count\": 1, \"min\": 0.02956720220565796, \"max\": 0.02956720220565796}}}\u001b[0m\n",
      "\u001b[34m#metrics {\"StartTime\": 1733968076.3947954, \"EndTime\": 1733968076.3948023, \"Dimensions\": {\"Algorithm\": \"Linear Learner\", \"Host\": \"algo-1\", \"Operation\": \"training\", \"epoch\": 6, \"model\": 9}, \"Metrics\": {\"train_binary_classification_cross_entropy_objective\": {\"sum\": 0.030827374663352967, \"count\": 1, \"min\": 0.030827374663352967, \"max\": 0.030827374663352967}}}\u001b[0m\n",
      "\u001b[34m#metrics {\"StartTime\": 1733968076.394826, \"EndTime\": 1733968076.3948338, \"Dimensions\": {\"Algorithm\": \"Linear Learner\", \"Host\": \"algo-1\", \"Operation\": \"training\", \"epoch\": 6, \"model\": 10}, \"Metrics\": {\"train_binary_classification_cross_entropy_objective\": {\"sum\": 0.029553778977394102, \"count\": 1, \"min\": 0.029553778977394102, \"max\": 0.029553778977394102}}}\u001b[0m\n",
      "\u001b[34m#metrics {\"StartTime\": 1733968076.3948615, \"EndTime\": 1733968076.394869, \"Dimensions\": {\"Algorithm\": \"Linear Learner\", \"Host\": \"algo-1\", \"Operation\": \"training\", \"epoch\": 6, \"model\": 11}, \"Metrics\": {\"train_binary_classification_cross_entropy_objective\": {\"sum\": 0.030849190165996552, \"count\": 1, \"min\": 0.030849190165996552, \"max\": 0.030849190165996552}}}\u001b[0m\n",
      "\u001b[34m#metrics {\"StartTime\": 1733968076.3948956, \"EndTime\": 1733968076.3949037, \"Dimensions\": {\"Algorithm\": \"Linear Learner\", \"Host\": \"algo-1\", \"Operation\": \"training\", \"epoch\": 6, \"model\": 12}, \"Metrics\": {\"train_binary_classification_cross_entropy_objective\": {\"sum\": 0.04332217694997788, \"count\": 1, \"min\": 0.04332217694997788, \"max\": 0.04332217694997788}}}\u001b[0m\n",
      "\u001b[34m#metrics {\"StartTime\": 1733968076.3949323, \"EndTime\": 1733968076.3949406, \"Dimensions\": {\"Algorithm\": \"Linear Learner\", \"Host\": \"algo-1\", \"Operation\": \"training\", \"epoch\": 6, \"model\": 13}, \"Metrics\": {\"train_binary_classification_cross_entropy_objective\": {\"sum\": 0.11312801992312074, \"count\": 1, \"min\": 0.11312801992312074, \"max\": 0.11312801992312074}}}\u001b[0m\n",
      "\u001b[34m#metrics {\"StartTime\": 1733968076.394969, \"EndTime\": 1733968076.394977, \"Dimensions\": {\"Algorithm\": \"Linear Learner\", \"Host\": \"algo-1\", \"Operation\": \"training\", \"epoch\": 6, \"model\": 14}, \"Metrics\": {\"train_binary_classification_cross_entropy_objective\": {\"sum\": 0.04401889481663704, \"count\": 1, \"min\": 0.04401889481663704, \"max\": 0.04401889481663704}}}\u001b[0m\n",
      "\u001b[34m#metrics {\"StartTime\": 1733968076.3950028, \"EndTime\": 1733968076.3950107, \"Dimensions\": {\"Algorithm\": \"Linear Learner\", \"Host\": \"algo-1\", \"Operation\": \"training\", \"epoch\": 6, \"model\": 15}, \"Metrics\": {\"train_binary_classification_cross_entropy_objective\": {\"sum\": 0.11225440192595124, \"count\": 1, \"min\": 0.11225440192595124, \"max\": 0.11225440192595124}}}\u001b[0m\n",
      "\u001b[34m#metrics {\"StartTime\": 1733968076.395038, \"EndTime\": 1733968076.3950465, \"Dimensions\": {\"Algorithm\": \"Linear Learner\", \"Host\": \"algo-1\", \"Operation\": \"training\", \"epoch\": 6, \"model\": 16}, \"Metrics\": {\"train_binary_classification_cross_entropy_objective\": {\"sum\": 0.10677606828689575, \"count\": 1, \"min\": 0.10677606828689575, \"max\": 0.10677606828689575}}}\u001b[0m\n",
      "\u001b[34m#metrics {\"StartTime\": 1733968076.3950737, \"EndTime\": 1733968076.3951042, \"Dimensions\": {\"Algorithm\": \"Linear Learner\", \"Host\": \"algo-1\", \"Operation\": \"training\", \"epoch\": 6, \"model\": 17}, \"Metrics\": {\"train_binary_classification_cross_entropy_objective\": {\"sum\": 0.10845903335571289, \"count\": 1, \"min\": 0.10845903335571289, \"max\": 0.10845903335571289}}}\u001b[0m\n",
      "\u001b[34m#metrics {\"StartTime\": 1733968076.3951335, \"EndTime\": 1733968076.395141, \"Dimensions\": {\"Algorithm\": \"Linear Learner\", \"Host\": \"algo-1\", \"Operation\": \"training\", \"epoch\": 6, \"model\": 18}, \"Metrics\": {\"train_binary_classification_cross_entropy_objective\": {\"sum\": 0.10678184215545654, \"count\": 1, \"min\": 0.10678184215545654, \"max\": 0.10678184215545654}}}\u001b[0m\n",
      "\u001b[34m#metrics {\"StartTime\": 1733968076.3951678, \"EndTime\": 1733968076.395175, \"Dimensions\": {\"Algorithm\": \"Linear Learner\", \"Host\": \"algo-1\", \"Operation\": \"training\", \"epoch\": 6, \"model\": 19}, \"Metrics\": {\"train_binary_classification_cross_entropy_objective\": {\"sum\": 0.10847724285125733, \"count\": 1, \"min\": 0.10847724285125733, \"max\": 0.10847724285125733}}}\u001b[0m\n",
      "\u001b[34m#metrics {\"StartTime\": 1733968076.3952003, \"EndTime\": 1733968076.3952074, \"Dimensions\": {\"Algorithm\": \"Linear Learner\", \"Host\": \"algo-1\", \"Operation\": \"training\", \"epoch\": 6, \"model\": 20}, \"Metrics\": {\"train_binary_classification_cross_entropy_objective\": {\"sum\": 0.11451337665557862, \"count\": 1, \"min\": 0.11451337665557862, \"max\": 0.11451337665557862}}}\u001b[0m\n",
      "\u001b[34m#metrics {\"StartTime\": 1733968076.3952327, \"EndTime\": 1733968076.3952403, \"Dimensions\": {\"Algorithm\": \"Linear Learner\", \"Host\": \"algo-1\", \"Operation\": \"training\", \"epoch\": 6, \"model\": 21}, \"Metrics\": {\"train_binary_classification_cross_entropy_objective\": {\"sum\": 0.14581022495269774, \"count\": 1, \"min\": 0.14581022495269774, \"max\": 0.14581022495269774}}}\u001b[0m\n",
      "\u001b[34m#metrics {\"StartTime\": 1733968076.3952668, \"EndTime\": 1733968076.3952744, \"Dimensions\": {\"Algorithm\": \"Linear Learner\", \"Host\": \"algo-1\", \"Operation\": \"training\", \"epoch\": 6, \"model\": 22}, \"Metrics\": {\"train_binary_classification_cross_entropy_objective\": {\"sum\": 0.11456109693527222, \"count\": 1, \"min\": 0.11456109693527222, \"max\": 0.11456109693527222}}}\u001b[0m\n",
      "\u001b[34m#metrics {\"StartTime\": 1733968076.3953006, \"EndTime\": 1733968076.395308, \"Dimensions\": {\"Algorithm\": \"Linear Learner\", \"Host\": \"algo-1\", \"Operation\": \"training\", \"epoch\": 6, \"model\": 23}, \"Metrics\": {\"train_binary_classification_cross_entropy_objective\": {\"sum\": 0.1457286421585083, \"count\": 1, \"min\": 0.1457286421585083, \"max\": 0.1457286421585083}}}\u001b[0m\n",
      "\u001b[34m#metrics {\"StartTime\": 1733968076.3953357, \"EndTime\": 1733968076.3953435, \"Dimensions\": {\"Algorithm\": \"Linear Learner\", \"Host\": \"algo-1\", \"Operation\": \"training\", \"epoch\": 6, \"model\": 24}, \"Metrics\": {\"train_binary_classification_cross_entropy_objective\": {\"sum\": 0.3063990409851074, \"count\": 1, \"min\": 0.3063990409851074, \"max\": 0.3063990409851074}}}\u001b[0m\n",
      "\u001b[34m#metrics {\"StartTime\": 1733968076.395375, \"EndTime\": 1733968076.395383, \"Dimensions\": {\"Algorithm\": \"Linear Learner\", \"Host\": \"algo-1\", \"Operation\": \"training\", \"epoch\": 6, \"model\": 25}, \"Metrics\": {\"train_binary_classification_cross_entropy_objective\": {\"sum\": 0.30659189712524415, \"count\": 1, \"min\": 0.30659189712524415, \"max\": 0.30659189712524415}}}\u001b[0m\n",
      "\u001b[34m#metrics {\"StartTime\": 1733968076.3954186, \"EndTime\": 1733968076.3954265, \"Dimensions\": {\"Algorithm\": \"Linear Learner\", \"Host\": \"algo-1\", \"Operation\": \"training\", \"epoch\": 6, \"model\": 26}, \"Metrics\": {\"train_binary_classification_cross_entropy_objective\": {\"sum\": 0.3064181965637207, \"count\": 1, \"min\": 0.3064181965637207, \"max\": 0.3064181965637207}}}\u001b[0m\n",
      "\u001b[34m#metrics {\"StartTime\": 1733968076.3954535, \"EndTime\": 1733968076.3954608, \"Dimensions\": {\"Algorithm\": \"Linear Learner\", \"Host\": \"algo-1\", \"Operation\": \"training\", \"epoch\": 6, \"model\": 27}, \"Metrics\": {\"train_binary_classification_cross_entropy_objective\": {\"sum\": 0.30659449279785156, \"count\": 1, \"min\": 0.30659449279785156, \"max\": 0.30659449279785156}}}\u001b[0m\n",
      "\u001b[34m#metrics {\"StartTime\": 1733968076.395487, \"EndTime\": 1733968076.3954945, \"Dimensions\": {\"Algorithm\": \"Linear Learner\", \"Host\": \"algo-1\", \"Operation\": \"training\", \"epoch\": 6, \"model\": 28}, \"Metrics\": {\"train_binary_classification_cross_entropy_objective\": {\"sum\": 0.30689871269226077, \"count\": 1, \"min\": 0.30689871269226077, \"max\": 0.30689871269226077}}}\u001b[0m\n",
      "\u001b[34m#metrics {\"StartTime\": 1733968076.3955204, \"EndTime\": 1733968076.3955274, \"Dimensions\": {\"Algorithm\": \"Linear Learner\", \"Host\": \"algo-1\", \"Operation\": \"training\", \"epoch\": 6, \"model\": 29}, \"Metrics\": {\"train_binary_classification_cross_entropy_objective\": {\"sum\": 0.31038164405822755, \"count\": 1, \"min\": 0.31038164405822755, \"max\": 0.31038164405822755}}}\u001b[0m\n",
      "\u001b[34m#metrics {\"StartTime\": 1733968076.3955534, \"EndTime\": 1733968076.3955607, \"Dimensions\": {\"Algorithm\": \"Linear Learner\", \"Host\": \"algo-1\", \"Operation\": \"training\", \"epoch\": 6, \"model\": 30}, \"Metrics\": {\"train_binary_classification_cross_entropy_objective\": {\"sum\": 0.30692799926757813, \"count\": 1, \"min\": 0.30692799926757813, \"max\": 0.30692799926757813}}}\u001b[0m\n",
      "\u001b[34m#metrics {\"StartTime\": 1733968076.395587, \"EndTime\": 1733968076.3955944, \"Dimensions\": {\"Algorithm\": \"Linear Learner\", \"Host\": \"algo-1\", \"Operation\": \"training\", \"epoch\": 6, \"model\": 31}, \"Metrics\": {\"train_binary_classification_cross_entropy_objective\": {\"sum\": 0.3101877229309082, \"count\": 1, \"min\": 0.3101877229309082, \"max\": 0.3101877229309082}}}\u001b[0m\n",
      "\u001b[34m[12/12/2024 01:47:56 INFO 140422536124224] #quality_metric: host=algo-1, epoch=6, train binary_classification_cross_entropy_objective <loss>=0.025697499811649323\u001b[0m\n",
      "\u001b[34m[12/12/2024 01:47:56 INFO 140422536124224] #early_stopping_criteria_metric: host=algo-1, epoch=6, criteria=binary_classification_cross_entropy_objective, value=0.0256019191300869\u001b[0m\n",
      "\u001b[34m[12/12/2024 01:47:56 INFO 140422536124224] Epoch 6: Loss improved. Updating best model\u001b[0m\n",
      "\u001b[34m[12/12/2024 01:47:56 INFO 140422536124224] Saving model for epoch: 6\u001b[0m\n",
      "\u001b[34m[12/12/2024 01:47:56 INFO 140422536124224] Saved checkpoint to \"/tmp/tmpp47u2dr8/mx-mod-0000.params\"\u001b[0m\n",
      "\u001b[34m[12/12/2024 01:47:56 INFO 140422536124224] #progress_metric: host=algo-1, completed 46.666666666666664 % of epochs\u001b[0m\n",
      "\u001b[34m#metrics {\"StartTime\": 1733968071.868206, \"EndTime\": 1733968076.4022312, \"Dimensions\": {\"Algorithm\": \"Linear Learner\", \"Host\": \"algo-1\", \"Operation\": \"training\", \"epoch\": 6, \"Meta\": \"training_data_iter\"}, \"Metrics\": {\"Total Records Seen\": {\"sum\": 360400.0, \"count\": 1, \"min\": 360400, \"max\": 360400}, \"Total Batches Seen\": {\"sum\": 1802.0, \"count\": 1, \"min\": 1802, \"max\": 1802}, \"Max Records Seen Between Resets\": {\"sum\": 50000.0, \"count\": 1, \"min\": 50000, \"max\": 50000}, \"Max Batches Seen Between Resets\": {\"sum\": 250.0, \"count\": 1, \"min\": 250, \"max\": 250}, \"Reset Count\": {\"sum\": 9.0, \"count\": 1, \"min\": 9, \"max\": 9}, \"Number of Records Since Last Reset\": {\"sum\": 50000.0, \"count\": 1, \"min\": 50000, \"max\": 50000}, \"Number of Batches Since Last Reset\": {\"sum\": 250.0, \"count\": 1, \"min\": 250, \"max\": 250}}}\u001b[0m\n",
      "\u001b[34m[12/12/2024 01:47:56 INFO 140422536124224] #throughput_metric: host=algo-1, train throughput=11027.458537500053 records/second\u001b[0m\n",
      "\u001b[34m[2024-12-12 01:48:01.024] [tensorio] [info] epoch_stats={\"data_pipeline\": \"/opt/ml/input/data/train\", \"epoch\": 17, \"duration\": 4621, \"num_examples\": 250, \"num_bytes\": 159200000}\u001b[0m\n",
      "\u001b[34m#metrics {\"StartTime\": 1733968081.0245395, \"EndTime\": 1733968081.0245953, \"Dimensions\": {\"Algorithm\": \"Linear Learner\", \"Host\": \"algo-1\", \"Operation\": \"training\", \"epoch\": 7, \"model\": 0}, \"Metrics\": {\"train_binary_classification_cross_entropy_objective\": {\"sum\": 0.0250884270465374, \"count\": 1, \"min\": 0.0250884270465374, \"max\": 0.0250884270465374}}}\u001b[0m\n",
      "\u001b[34m#metrics {\"StartTime\": 1733968081.0246563, \"EndTime\": 1733968081.0246675, \"Dimensions\": {\"Algorithm\": \"Linear Learner\", \"Host\": \"algo-1\", \"Operation\": \"training\", \"epoch\": 7, \"model\": 1}, \"Metrics\": {\"train_binary_classification_cross_entropy_objective\": {\"sum\": 0.025264898480176927, \"count\": 1, \"min\": 0.025264898480176927, \"max\": 0.025264898480176927}}}\u001b[0m\n",
      "\u001b[34m#metrics {\"StartTime\": 1733968081.0246906, \"EndTime\": 1733968081.024697, \"Dimensions\": {\"Algorithm\": \"Linear Learner\", \"Host\": \"algo-1\", \"Operation\": \"training\", \"epoch\": 7, \"model\": 2}, \"Metrics\": {\"train_binary_classification_cross_entropy_objective\": {\"sum\": 0.024997447547912596, \"count\": 1, \"min\": 0.024997447547912596, \"max\": 0.024997447547912596}}}\u001b[0m\n",
      "\u001b[34m#metrics {\"StartTime\": 1733968081.024717, \"EndTime\": 1733968081.0247226, \"Dimensions\": {\"Algorithm\": \"Linear Learner\", \"Host\": \"algo-1\", \"Operation\": \"training\", \"epoch\": 7, \"model\": 3}, \"Metrics\": {\"train_binary_classification_cross_entropy_objective\": {\"sum\": 0.025282478566765784, \"count\": 1, \"min\": 0.025282478566765784, \"max\": 0.025282478566765784}}}\u001b[0m\n",
      "\u001b[34m#metrics {\"StartTime\": 1733968081.0247416, \"EndTime\": 1733968081.024747, \"Dimensions\": {\"Algorithm\": \"Linear Learner\", \"Host\": \"algo-1\", \"Operation\": \"training\", \"epoch\": 7, \"model\": 4}, \"Metrics\": {\"train_binary_classification_cross_entropy_objective\": {\"sum\": 0.03955212418952957, \"count\": 1, \"min\": 0.03955212418952957, \"max\": 0.03955212418952957}}}\u001b[0m\n",
      "\u001b[34m#metrics {\"StartTime\": 1733968081.0247676, \"EndTime\": 1733968081.0247731, \"Dimensions\": {\"Algorithm\": \"Linear Learner\", \"Host\": \"algo-1\", \"Operation\": \"training\", \"epoch\": 7, \"model\": 5}, \"Metrics\": {\"train_binary_classification_cross_entropy_objective\": {\"sum\": 0.11596728208679816, \"count\": 1, \"min\": 0.11596728208679816, \"max\": 0.11596728208679816}}}\u001b[0m\n",
      "\u001b[34m#metrics {\"StartTime\": 1733968081.0247972, \"EndTime\": 1733968081.0248044, \"Dimensions\": {\"Algorithm\": \"Linear Learner\", \"Host\": \"algo-1\", \"Operation\": \"training\", \"epoch\": 7, \"model\": 6}, \"Metrics\": {\"train_binary_classification_cross_entropy_objective\": {\"sum\": 0.04022211308519356, \"count\": 1, \"min\": 0.04022211308519356, \"max\": 0.04022211308519356}}}\u001b[0m\n",
      "\u001b[34m#metrics {\"StartTime\": 1733968081.0248232, \"EndTime\": 1733968081.024829, \"Dimensions\": {\"Algorithm\": \"Linear Learner\", \"Host\": \"algo-1\", \"Operation\": \"training\", \"epoch\": 7, \"model\": 7}, \"Metrics\": {\"train_binary_classification_cross_entropy_objective\": {\"sum\": 0.11465483576447524, \"count\": 1, \"min\": 0.11465483576447524, \"max\": 0.11465483576447524}}}\u001b[0m\n",
      "\u001b[34m#metrics {\"StartTime\": 1733968081.0248468, \"EndTime\": 1733968081.024852, \"Dimensions\": {\"Algorithm\": \"Linear Learner\", \"Host\": \"algo-1\", \"Operation\": \"training\", \"epoch\": 7, \"model\": 8}, \"Metrics\": {\"train_binary_classification_cross_entropy_objective\": {\"sum\": 0.029193104708194733, \"count\": 1, \"min\": 0.029193104708194733, \"max\": 0.029193104708194733}}}\u001b[0m\n",
      "\u001b[34m#metrics {\"StartTime\": 1733968081.02487, \"EndTime\": 1733968081.024875, \"Dimensions\": {\"Algorithm\": \"Linear Learner\", \"Host\": \"algo-1\", \"Operation\": \"training\", \"epoch\": 7, \"model\": 9}, \"Metrics\": {\"train_binary_classification_cross_entropy_objective\": {\"sum\": 0.03072754652380943, \"count\": 1, \"min\": 0.03072754652380943, \"max\": 0.03072754652380943}}}\u001b[0m\n",
      "\u001b[34m#metrics {\"StartTime\": 1733968081.024893, \"EndTime\": 1733968081.024898, \"Dimensions\": {\"Algorithm\": \"Linear Learner\", \"Host\": \"algo-1\", \"Operation\": \"training\", \"epoch\": 7, \"model\": 10}, \"Metrics\": {\"train_binary_classification_cross_entropy_objective\": {\"sum\": 0.029181198861598968, \"count\": 1, \"min\": 0.029181198861598968, \"max\": 0.029181198861598968}}}\u001b[0m\n",
      "\u001b[34m#metrics {\"StartTime\": 1733968081.0249162, \"EndTime\": 1733968081.0249214, \"Dimensions\": {\"Algorithm\": \"Linear Learner\", \"Host\": \"algo-1\", \"Operation\": \"training\", \"epoch\": 7, \"model\": 11}, \"Metrics\": {\"train_binary_classification_cross_entropy_objective\": {\"sum\": 0.030758838943243026, \"count\": 1, \"min\": 0.030758838943243026, \"max\": 0.030758838943243026}}}\u001b[0m\n",
      "\u001b[34m#metrics {\"StartTime\": 1733968081.024939, \"EndTime\": 1733968081.0249443, \"Dimensions\": {\"Algorithm\": \"Linear Learner\", \"Host\": \"algo-1\", \"Operation\": \"training\", \"epoch\": 7, \"model\": 12}, \"Metrics\": {\"train_binary_classification_cross_entropy_objective\": {\"sum\": 0.04115247302651406, \"count\": 1, \"min\": 0.04115247302651406, \"max\": 0.04115247302651406}}}\u001b[0m\n",
      "\u001b[34m#metrics {\"StartTime\": 1733968081.0249622, \"EndTime\": 1733968081.0249674, \"Dimensions\": {\"Algorithm\": \"Linear Learner\", \"Host\": \"algo-1\", \"Operation\": \"training\", \"epoch\": 7, \"model\": 13}, \"Metrics\": {\"train_binary_classification_cross_entropy_objective\": {\"sum\": 0.11364151660675183, \"count\": 1, \"min\": 0.11364151660675183, \"max\": 0.11364151660675183}}}\u001b[0m\n",
      "\u001b[34m#metrics {\"StartTime\": 1733968081.024988, \"EndTime\": 1733968081.024993, \"Dimensions\": {\"Algorithm\": \"Linear Learner\", \"Host\": \"algo-1\", \"Operation\": \"training\", \"epoch\": 7, \"model\": 14}, \"Metrics\": {\"train_binary_classification_cross_entropy_objective\": {\"sum\": 0.03978541183948517, \"count\": 1, \"min\": 0.03978541183948517, \"max\": 0.03978541183948517}}}\u001b[0m\n",
      "\u001b[34m#metrics {\"StartTime\": 1733968081.025013, \"EndTime\": 1733968081.0250182, \"Dimensions\": {\"Algorithm\": \"Linear Learner\", \"Host\": \"algo-1\", \"Operation\": \"training\", \"epoch\": 7, \"model\": 15}, \"Metrics\": {\"train_binary_classification_cross_entropy_objective\": {\"sum\": 0.10897521570324897, \"count\": 1, \"min\": 0.10897521570324897, \"max\": 0.10897521570324897}}}\u001b[0m\n",
      "\u001b[34m#metrics {\"StartTime\": 1733968081.0250382, \"EndTime\": 1733968081.0250437, \"Dimensions\": {\"Algorithm\": \"Linear Learner\", \"Host\": \"algo-1\", \"Operation\": \"training\", \"epoch\": 7, \"model\": 16}, \"Metrics\": {\"train_binary_classification_cross_entropy_objective\": {\"sum\": 0.10667942029953002, \"count\": 1, \"min\": 0.10667942029953002, \"max\": 0.10667942029953002}}}\u001b[0m\n",
      "\u001b[34m#metrics {\"StartTime\": 1733968081.025067, \"EndTime\": 1733968081.0250723, \"Dimensions\": {\"Algorithm\": \"Linear Learner\", \"Host\": \"algo-1\", \"Operation\": \"training\", \"epoch\": 7, \"model\": 17}, \"Metrics\": {\"train_binary_classification_cross_entropy_objective\": {\"sum\": 0.10846015972137452, \"count\": 1, \"min\": 0.10846015972137452, \"max\": 0.10846015972137452}}}\u001b[0m\n",
      "\u001b[34m#metrics {\"StartTime\": 1733968081.025092, \"EndTime\": 1733968081.025097, \"Dimensions\": {\"Algorithm\": \"Linear Learner\", \"Host\": \"algo-1\", \"Operation\": \"training\", \"epoch\": 7, \"model\": 18}, \"Metrics\": {\"train_binary_classification_cross_entropy_objective\": {\"sum\": 0.1066827339553833, \"count\": 1, \"min\": 0.1066827339553833, \"max\": 0.1066827339553833}}}\u001b[0m\n",
      "\u001b[34m#metrics {\"StartTime\": 1733968081.0251172, \"EndTime\": 1733968081.0251226, \"Dimensions\": {\"Algorithm\": \"Linear Learner\", \"Host\": \"algo-1\", \"Operation\": \"training\", \"epoch\": 7, \"model\": 19}, \"Metrics\": {\"train_binary_classification_cross_entropy_objective\": {\"sum\": 0.1084739459991455, \"count\": 1, \"min\": 0.1084739459991455, \"max\": 0.1084739459991455}}}\u001b[0m\n",
      "\u001b[34m#metrics {\"StartTime\": 1733968081.0251405, \"EndTime\": 1733968081.0251455, \"Dimensions\": {\"Algorithm\": \"Linear Learner\", \"Host\": \"algo-1\", \"Operation\": \"training\", \"epoch\": 7, \"model\": 20}, \"Metrics\": {\"train_binary_classification_cross_entropy_objective\": {\"sum\": 0.11281262308120728, \"count\": 1, \"min\": 0.11281262308120728, \"max\": 0.11281262308120728}}}\u001b[0m\n",
      "\u001b[34m#metrics {\"StartTime\": 1733968081.0251675, \"EndTime\": 1733968081.0251727, \"Dimensions\": {\"Algorithm\": \"Linear Learner\", \"Host\": \"algo-1\", \"Operation\": \"training\", \"epoch\": 7, \"model\": 21}, \"Metrics\": {\"train_binary_classification_cross_entropy_objective\": {\"sum\": 0.14352136089324952, \"count\": 1, \"min\": 0.14352136089324952, \"max\": 0.14352136089324952}}}\u001b[0m\n",
      "\u001b[34m#metrics {\"StartTime\": 1733968081.0251927, \"EndTime\": 1733968081.025198, \"Dimensions\": {\"Algorithm\": \"Linear Learner\", \"Host\": \"algo-1\", \"Operation\": \"training\", \"epoch\": 7, \"model\": 22}, \"Metrics\": {\"train_binary_classification_cross_entropy_objective\": {\"sum\": 0.11282680337905884, \"count\": 1, \"min\": 0.11282680337905884, \"max\": 0.11282680337905884}}}\u001b[0m\n",
      "\u001b[34m#metrics {\"StartTime\": 1733968081.0252163, \"EndTime\": 1733968081.025221, \"Dimensions\": {\"Algorithm\": \"Linear Learner\", \"Host\": \"algo-1\", \"Operation\": \"training\", \"epoch\": 7, \"model\": 23}, \"Metrics\": {\"train_binary_classification_cross_entropy_objective\": {\"sum\": 0.14395779582977294, \"count\": 1, \"min\": 0.14395779582977294, \"max\": 0.14395779582977294}}}\u001b[0m\n",
      "\u001b[34m#metrics {\"StartTime\": 1733968081.0252411, \"EndTime\": 1733968081.0252461, \"Dimensions\": {\"Algorithm\": \"Linear Learner\", \"Host\": \"algo-1\", \"Operation\": \"training\", \"epoch\": 7, \"model\": 24}, \"Metrics\": {\"train_binary_classification_cross_entropy_objective\": {\"sum\": 0.30639562019348143, \"count\": 1, \"min\": 0.30639562019348143, \"max\": 0.30639562019348143}}}\u001b[0m\n",
      "\u001b[34m#metrics {\"StartTime\": 1733968081.0252635, \"EndTime\": 1733968081.0252688, \"Dimensions\": {\"Algorithm\": \"Linear Learner\", \"Host\": \"algo-1\", \"Operation\": \"training\", \"epoch\": 7, \"model\": 25}, \"Metrics\": {\"train_binary_classification_cross_entropy_objective\": {\"sum\": 0.30660206764221193, \"count\": 1, \"min\": 0.30660206764221193, \"max\": 0.30660206764221193}}}\u001b[0m\n",
      "\u001b[34m#metrics {\"StartTime\": 1733968081.0252867, \"EndTime\": 1733968081.0252917, \"Dimensions\": {\"Algorithm\": \"Linear Learner\", \"Host\": \"algo-1\", \"Operation\": \"training\", \"epoch\": 7, \"model\": 26}, \"Metrics\": {\"train_binary_classification_cross_entropy_objective\": {\"sum\": 0.30639025848388673, \"count\": 1, \"min\": 0.30639025848388673, \"max\": 0.30639025848388673}}}\u001b[0m\n",
      "\u001b[34m#metrics {\"StartTime\": 1733968081.0253115, \"EndTime\": 1733968081.025317, \"Dimensions\": {\"Algorithm\": \"Linear Learner\", \"Host\": \"algo-1\", \"Operation\": \"training\", \"epoch\": 7, \"model\": 27}, \"Metrics\": {\"train_binary_classification_cross_entropy_objective\": {\"sum\": 0.30661418182373046, \"count\": 1, \"min\": 0.30661418182373046, \"max\": 0.30661418182373046}}}\u001b[0m\n",
      "\u001b[34m#metrics {\"StartTime\": 1733968081.025339, \"EndTime\": 1733968081.0253444, \"Dimensions\": {\"Algorithm\": \"Linear Learner\", \"Host\": \"algo-1\", \"Operation\": \"training\", \"epoch\": 7, \"model\": 28}, \"Metrics\": {\"train_binary_classification_cross_entropy_objective\": {\"sum\": 0.3068599535369873, \"count\": 1, \"min\": 0.3068599535369873, \"max\": 0.3068599535369873}}}\u001b[0m\n",
      "\u001b[34m#metrics {\"StartTime\": 1733968081.0253623, \"EndTime\": 1733968081.0253673, \"Dimensions\": {\"Algorithm\": \"Linear Learner\", \"Host\": \"algo-1\", \"Operation\": \"training\", \"epoch\": 7, \"model\": 29}, \"Metrics\": {\"train_binary_classification_cross_entropy_objective\": {\"sum\": 0.3103704203033447, \"count\": 1, \"min\": 0.3103704203033447, \"max\": 0.3103704203033447}}}\u001b[0m\n",
      "\u001b[34m#metrics {\"StartTime\": 1733968081.0253854, \"EndTime\": 1733968081.0253906, \"Dimensions\": {\"Algorithm\": \"Linear Learner\", \"Host\": \"algo-1\", \"Operation\": \"training\", \"epoch\": 7, \"model\": 30}, \"Metrics\": {\"train_binary_classification_cross_entropy_objective\": {\"sum\": 0.30686481239318847, \"count\": 1, \"min\": 0.30686481239318847, \"max\": 0.30686481239318847}}}\u001b[0m\n",
      "\u001b[34m#metrics {\"StartTime\": 1733968081.0254107, \"EndTime\": 1733968081.0254157, \"Dimensions\": {\"Algorithm\": \"Linear Learner\", \"Host\": \"algo-1\", \"Operation\": \"training\", \"epoch\": 7, \"model\": 31}, \"Metrics\": {\"train_binary_classification_cross_entropy_objective\": {\"sum\": 0.31064299201965334, \"count\": 1, \"min\": 0.31064299201965334, \"max\": 0.31064299201965334}}}\u001b[0m\n",
      "\u001b[34m[12/12/2024 01:48:01 INFO 140422536124224] #quality_metric: host=algo-1, epoch=7, train binary_classification_cross_entropy_objective <loss>=0.0250884270465374\u001b[0m\n",
      "\u001b[34m[12/12/2024 01:48:01 INFO 140422536124224] #early_stopping_criteria_metric: host=algo-1, epoch=7, criteria=binary_classification_cross_entropy_objective, value=0.024997447547912596\u001b[0m\n",
      "\u001b[34m[12/12/2024 01:48:01 INFO 140422536124224] Epoch 7: Loss improved. Updating best model\u001b[0m\n",
      "\u001b[34m[12/12/2024 01:48:01 INFO 140422536124224] Saving model for epoch: 7\u001b[0m\n",
      "\u001b[34m[12/12/2024 01:48:01 INFO 140422536124224] Saved checkpoint to \"/tmp/tmp8m6vf8ua/mx-mod-0000.params\"\u001b[0m\n",
      "\u001b[34m[12/12/2024 01:48:01 INFO 140422536124224] #progress_metric: host=algo-1, completed 53.333333333333336 % of epochs\u001b[0m\n",
      "\u001b[34m#metrics {\"StartTime\": 1733968076.403316, \"EndTime\": 1733968081.0319946, \"Dimensions\": {\"Algorithm\": \"Linear Learner\", \"Host\": \"algo-1\", \"Operation\": \"training\", \"epoch\": 7, \"Meta\": \"training_data_iter\"}, \"Metrics\": {\"Total Records Seen\": {\"sum\": 410400.0, \"count\": 1, \"min\": 410400, \"max\": 410400}, \"Total Batches Seen\": {\"sum\": 2052.0, \"count\": 1, \"min\": 2052, \"max\": 2052}, \"Max Records Seen Between Resets\": {\"sum\": 50000.0, \"count\": 1, \"min\": 50000, \"max\": 50000}, \"Max Batches Seen Between Resets\": {\"sum\": 250.0, \"count\": 1, \"min\": 250, \"max\": 250}, \"Reset Count\": {\"sum\": 10.0, \"count\": 1, \"min\": 10, \"max\": 10}, \"Number of Records Since Last Reset\": {\"sum\": 50000.0, \"count\": 1, \"min\": 50000, \"max\": 50000}, \"Number of Batches Since Last Reset\": {\"sum\": 250.0, \"count\": 1, \"min\": 250, \"max\": 250}}}\u001b[0m\n",
      "\u001b[34m[12/12/2024 01:48:01 INFO 140422536124224] #throughput_metric: host=algo-1, train throughput=10801.999888845845 records/second\u001b[0m\n",
      "\u001b[34m[2024-12-12 01:48:05.946] [tensorio] [info] epoch_stats={\"data_pipeline\": \"/opt/ml/input/data/train\", \"epoch\": 19, \"duration\": 4913, \"num_examples\": 250, \"num_bytes\": 159200000}\u001b[0m\n",
      "\u001b[34m#metrics {\"StartTime\": 1733968085.9469812, \"EndTime\": 1733968085.9470377, \"Dimensions\": {\"Algorithm\": \"Linear Learner\", \"Host\": \"algo-1\", \"Operation\": \"training\", \"epoch\": 8, \"model\": 0}, \"Metrics\": {\"train_binary_classification_cross_entropy_objective\": {\"sum\": 0.024615101890563963, \"count\": 1, \"min\": 0.024615101890563963, \"max\": 0.024615101890563963}}}\u001b[0m\n",
      "\u001b[34m#metrics {\"StartTime\": 1733968085.9471, \"EndTime\": 1733968085.9471097, \"Dimensions\": {\"Algorithm\": \"Linear Learner\", \"Host\": \"algo-1\", \"Operation\": \"training\", \"epoch\": 8, \"model\": 1}, \"Metrics\": {\"train_binary_classification_cross_entropy_objective\": {\"sum\": 0.02493679293870926, \"count\": 1, \"min\": 0.02493679293870926, \"max\": 0.02493679293870926}}}\u001b[0m\n",
      "\u001b[34m#metrics {\"StartTime\": 1733968085.947138, \"EndTime\": 1733968085.9471445, \"Dimensions\": {\"Algorithm\": \"Linear Learner\", \"Host\": \"algo-1\", \"Operation\": \"training\", \"epoch\": 8, \"model\": 2}, \"Metrics\": {\"train_binary_classification_cross_entropy_objective\": {\"sum\": 0.024526824375391006, \"count\": 1, \"min\": 0.024526824375391006, \"max\": 0.024526824375391006}}}\u001b[0m\n",
      "\u001b[34m#metrics {\"StartTime\": 1733968085.9471648, \"EndTime\": 1733968085.9471705, \"Dimensions\": {\"Algorithm\": \"Linear Learner\", \"Host\": \"algo-1\", \"Operation\": \"training\", \"epoch\": 8, \"model\": 3}, \"Metrics\": {\"train_binary_classification_cross_entropy_objective\": {\"sum\": 0.024951169747114182, \"count\": 1, \"min\": 0.024951169747114182, \"max\": 0.024951169747114182}}}\u001b[0m\n",
      "\u001b[34m#metrics {\"StartTime\": 1733968085.9471896, \"EndTime\": 1733968085.947195, \"Dimensions\": {\"Algorithm\": \"Linear Learner\", \"Host\": \"algo-1\", \"Operation\": \"training\", \"epoch\": 8, \"model\": 4}, \"Metrics\": {\"train_binary_classification_cross_entropy_objective\": {\"sum\": 0.035886637346819045, \"count\": 1, \"min\": 0.035886637346819045, \"max\": 0.035886637346819045}}}\u001b[0m\n",
      "\u001b[34m#metrics {\"StartTime\": 1733968085.9472158, \"EndTime\": 1733968085.9472213, \"Dimensions\": {\"Algorithm\": \"Linear Learner\", \"Host\": \"algo-1\", \"Operation\": \"training\", \"epoch\": 8, \"model\": 5}, \"Metrics\": {\"train_binary_classification_cross_entropy_objective\": {\"sum\": 0.1152223633716807, \"count\": 1, \"min\": 0.1152223633716807, \"max\": 0.1152223633716807}}}\u001b[0m\n",
      "\u001b[34m#metrics {\"StartTime\": 1733968085.947242, \"EndTime\": 1733968085.9472473, \"Dimensions\": {\"Algorithm\": \"Linear Learner\", \"Host\": \"algo-1\", \"Operation\": \"training\", \"epoch\": 8, \"model\": 6}, \"Metrics\": {\"train_binary_classification_cross_entropy_objective\": {\"sum\": 0.036165399329978976, \"count\": 1, \"min\": 0.036165399329978976, \"max\": 0.036165399329978976}}}\u001b[0m\n",
      "\u001b[34m#metrics {\"StartTime\": 1733968085.9472709, \"EndTime\": 1733968085.9472766, \"Dimensions\": {\"Algorithm\": \"Linear Learner\", \"Host\": \"algo-1\", \"Operation\": \"training\", \"epoch\": 8, \"model\": 7}, \"Metrics\": {\"train_binary_classification_cross_entropy_objective\": {\"sum\": 0.12102061631276223, \"count\": 1, \"min\": 0.12102061631276223, \"max\": 0.12102061631276223}}}\u001b[0m\n",
      "\u001b[34m#metrics {\"StartTime\": 1733968085.9472988, \"EndTime\": 1733968085.9473042, \"Dimensions\": {\"Algorithm\": \"Linear Learner\", \"Host\": \"algo-1\", \"Operation\": \"training\", \"epoch\": 8, \"model\": 8}, \"Metrics\": {\"train_binary_classification_cross_entropy_objective\": {\"sum\": 0.028903113343715668, \"count\": 1, \"min\": 0.028903113343715668, \"max\": 0.028903113343715668}}}\u001b[0m\n",
      "\u001b[34m#metrics {\"StartTime\": 1733968085.9473245, \"EndTime\": 1733968085.94733, \"Dimensions\": {\"Algorithm\": \"Linear Learner\", \"Host\": \"algo-1\", \"Operation\": \"training\", \"epoch\": 8, \"model\": 9}, \"Metrics\": {\"train_binary_classification_cross_entropy_objective\": {\"sum\": 0.030683526210784913, \"count\": 1, \"min\": 0.030683526210784913, \"max\": 0.030683526210784913}}}\u001b[0m\n",
      "\u001b[34m#metrics {\"StartTime\": 1733968085.9473526, \"EndTime\": 1733968085.947358, \"Dimensions\": {\"Algorithm\": \"Linear Learner\", \"Host\": \"algo-1\", \"Operation\": \"training\", \"epoch\": 8, \"model\": 10}, \"Metrics\": {\"train_binary_classification_cross_entropy_objective\": {\"sum\": 0.028892299697399138, \"count\": 1, \"min\": 0.028892299697399138, \"max\": 0.028892299697399138}}}\u001b[0m\n",
      "\u001b[34m#metrics {\"StartTime\": 1733968085.9473789, \"EndTime\": 1733968085.9473844, \"Dimensions\": {\"Algorithm\": \"Linear Learner\", \"Host\": \"algo-1\", \"Operation\": \"training\", \"epoch\": 8, \"model\": 11}, \"Metrics\": {\"train_binary_classification_cross_entropy_objective\": {\"sum\": 0.03122419986844063, \"count\": 1, \"min\": 0.03122419986844063, \"max\": 0.03122419986844063}}}\u001b[0m\n",
      "\u001b[34m#metrics {\"StartTime\": 1733968085.9474063, \"EndTime\": 1733968085.9474118, \"Dimensions\": {\"Algorithm\": \"Linear Learner\", \"Host\": \"algo-1\", \"Operation\": \"training\", \"epoch\": 8, \"model\": 12}, \"Metrics\": {\"train_binary_classification_cross_entropy_objective\": {\"sum\": 0.037099671626091006, \"count\": 1, \"min\": 0.037099671626091006, \"max\": 0.037099671626091006}}}\u001b[0m\n",
      "\u001b[34m#metrics {\"StartTime\": 1733968085.9474342, \"EndTime\": 1733968085.9474397, \"Dimensions\": {\"Algorithm\": \"Linear Learner\", \"Host\": \"algo-1\", \"Operation\": \"training\", \"epoch\": 8, \"model\": 13}, \"Metrics\": {\"train_binary_classification_cross_entropy_objective\": {\"sum\": 0.11482188167266548, \"count\": 1, \"min\": 0.11482188167266548, \"max\": 0.11482188167266548}}}\u001b[0m\n",
      "\u001b[34m#metrics {\"StartTime\": 1733968085.9474583, \"EndTime\": 1733968085.9474635, \"Dimensions\": {\"Algorithm\": \"Linear Learner\", \"Host\": \"algo-1\", \"Operation\": \"training\", \"epoch\": 8, \"model\": 14}, \"Metrics\": {\"train_binary_classification_cross_entropy_objective\": {\"sum\": 0.03786817694664001, \"count\": 1, \"min\": 0.03786817694664001, \"max\": 0.03786817694664001}}}\u001b[0m\n",
      "\u001b[34m#metrics {\"StartTime\": 1733968085.9474857, \"EndTime\": 1733968085.9474912, \"Dimensions\": {\"Algorithm\": \"Linear Learner\", \"Host\": \"algo-1\", \"Operation\": \"training\", \"epoch\": 8, \"model\": 15}, \"Metrics\": {\"train_binary_classification_cross_entropy_objective\": {\"sum\": 0.10019576729685069, \"count\": 1, \"min\": 0.10019576729685069, \"max\": 0.10019576729685069}}}\u001b[0m\n",
      "\u001b[34m#metrics {\"StartTime\": 1733968085.9475138, \"EndTime\": 1733968085.9475195, \"Dimensions\": {\"Algorithm\": \"Linear Learner\", \"Host\": \"algo-1\", \"Operation\": \"training\", \"epoch\": 8, \"model\": 16}, \"Metrics\": {\"train_binary_classification_cross_entropy_objective\": {\"sum\": 0.10659939929962159, \"count\": 1, \"min\": 0.10659939929962159, \"max\": 0.10659939929962159}}}\u001b[0m\n",
      "\u001b[34m#metrics {\"StartTime\": 1733968085.947542, \"EndTime\": 1733968085.9475474, \"Dimensions\": {\"Algorithm\": \"Linear Learner\", \"Host\": \"algo-1\", \"Operation\": \"training\", \"epoch\": 8, \"model\": 17}, \"Metrics\": {\"train_binary_classification_cross_entropy_objective\": {\"sum\": 0.10844557981491089, \"count\": 1, \"min\": 0.10844557981491089, \"max\": 0.10844557981491089}}}\u001b[0m\n",
      "\u001b[34m#metrics {\"StartTime\": 1733968085.9475696, \"EndTime\": 1733968085.947575, \"Dimensions\": {\"Algorithm\": \"Linear Learner\", \"Host\": \"algo-1\", \"Operation\": \"training\", \"epoch\": 8, \"model\": 18}, \"Metrics\": {\"train_binary_classification_cross_entropy_objective\": {\"sum\": 0.10660128931045532, \"count\": 1, \"min\": 0.10660128931045532, \"max\": 0.10660128931045532}}}\u001b[0m\n",
      "\u001b[34m#metrics {\"StartTime\": 1733968085.9475954, \"EndTime\": 1733968085.9476006, \"Dimensions\": {\"Algorithm\": \"Linear Learner\", \"Host\": \"algo-1\", \"Operation\": \"training\", \"epoch\": 8, \"model\": 19}, \"Metrics\": {\"train_binary_classification_cross_entropy_objective\": {\"sum\": 0.10845719041824341, \"count\": 1, \"min\": 0.10845719041824341, \"max\": 0.10845719041824341}}}\u001b[0m\n",
      "\u001b[34m#metrics {\"StartTime\": 1733968085.9476233, \"EndTime\": 1733968085.9476285, \"Dimensions\": {\"Algorithm\": \"Linear Learner\", \"Host\": \"algo-1\", \"Operation\": \"training\", \"epoch\": 8, \"model\": 20}, \"Metrics\": {\"train_binary_classification_cross_entropy_objective\": {\"sum\": 0.11109509344100953, \"count\": 1, \"min\": 0.11109509344100953, \"max\": 0.11109509344100953}}}\u001b[0m\n",
      "\u001b[34m#metrics {\"StartTime\": 1733968085.947651, \"EndTime\": 1733968085.9476562, \"Dimensions\": {\"Algorithm\": \"Linear Learner\", \"Host\": \"algo-1\", \"Operation\": \"training\", \"epoch\": 8, \"model\": 21}, \"Metrics\": {\"train_binary_classification_cross_entropy_objective\": {\"sum\": 0.14177077175140382, \"count\": 1, \"min\": 0.14177077175140382, \"max\": 0.14177077175140382}}}\u001b[0m\n",
      "\u001b[34m#metrics {\"StartTime\": 1733968085.9476788, \"EndTime\": 1733968085.947684, \"Dimensions\": {\"Algorithm\": \"Linear Learner\", \"Host\": \"algo-1\", \"Operation\": \"training\", \"epoch\": 8, \"model\": 22}, \"Metrics\": {\"train_binary_classification_cross_entropy_objective\": {\"sum\": 0.11110075304031372, \"count\": 1, \"min\": 0.11110075304031372, \"max\": 0.11110075304031372}}}\u001b[0m\n",
      "\u001b[34m#metrics {\"StartTime\": 1733968085.9477043, \"EndTime\": 1733968085.9477098, \"Dimensions\": {\"Algorithm\": \"Linear Learner\", \"Host\": \"algo-1\", \"Operation\": \"training\", \"epoch\": 8, \"model\": 23}, \"Metrics\": {\"train_binary_classification_cross_entropy_objective\": {\"sum\": 0.14231472660064698, \"count\": 1, \"min\": 0.14231472660064698, \"max\": 0.14231472660064698}}}\u001b[0m\n",
      "\u001b[34m#metrics {\"StartTime\": 1733968085.9477322, \"EndTime\": 1733968085.9477377, \"Dimensions\": {\"Algorithm\": \"Linear Learner\", \"Host\": \"algo-1\", \"Operation\": \"training\", \"epoch\": 8, \"model\": 24}, \"Metrics\": {\"train_binary_classification_cross_entropy_objective\": {\"sum\": 0.3063924828338623, \"count\": 1, \"min\": 0.3063924828338623, \"max\": 0.3063924828338623}}}\u001b[0m\n",
      "\u001b[34m#metrics {\"StartTime\": 1733968085.9477599, \"EndTime\": 1733968085.9477654, \"Dimensions\": {\"Algorithm\": \"Linear Learner\", \"Host\": \"algo-1\", \"Operation\": \"training\", \"epoch\": 8, \"model\": 25}, \"Metrics\": {\"train_binary_classification_cross_entropy_objective\": {\"sum\": 0.3066135501098633, \"count\": 1, \"min\": 0.3066135501098633, \"max\": 0.3066135501098633}}}\u001b[0m\n",
      "\u001b[34m#metrics {\"StartTime\": 1733968085.9477875, \"EndTime\": 1733968085.947793, \"Dimensions\": {\"Algorithm\": \"Linear Learner\", \"Host\": \"algo-1\", \"Operation\": \"training\", \"epoch\": 8, \"model\": 26}, \"Metrics\": {\"train_binary_classification_cross_entropy_objective\": {\"sum\": 0.30638993217468263, \"count\": 1, \"min\": 0.30638993217468263, \"max\": 0.30638993217468263}}}\u001b[0m\n",
      "\u001b[34m#metrics {\"StartTime\": 1733968085.9478152, \"EndTime\": 1733968085.9478204, \"Dimensions\": {\"Algorithm\": \"Linear Learner\", \"Host\": \"algo-1\", \"Operation\": \"training\", \"epoch\": 8, \"model\": 27}, \"Metrics\": {\"train_binary_classification_cross_entropy_objective\": {\"sum\": 0.3066251584625244, \"count\": 1, \"min\": 0.3066251584625244, \"max\": 0.3066251584625244}}}\u001b[0m\n",
      "\u001b[34m#metrics {\"StartTime\": 1733968085.9478512, \"EndTime\": 1733968085.9478579, \"Dimensions\": {\"Algorithm\": \"Linear Learner\", \"Host\": \"algo-1\", \"Operation\": \"training\", \"epoch\": 8, \"model\": 28}, \"Metrics\": {\"train_binary_classification_cross_entropy_objective\": {\"sum\": 0.30694106132507326, \"count\": 1, \"min\": 0.30694106132507326, \"max\": 0.30694106132507326}}}\u001b[0m\n",
      "\u001b[34m#metrics {\"StartTime\": 1733968085.9478781, \"EndTime\": 1733968085.9478824, \"Dimensions\": {\"Algorithm\": \"Linear Learner\", \"Host\": \"algo-1\", \"Operation\": \"training\", \"epoch\": 8, \"model\": 29}, \"Metrics\": {\"train_binary_classification_cross_entropy_objective\": {\"sum\": 0.31078469635009764, \"count\": 1, \"min\": 0.31078469635009764, \"max\": 0.31078469635009764}}}\u001b[0m\n",
      "\u001b[34m#metrics {\"StartTime\": 1733968085.9479053, \"EndTime\": 1733968085.9479098, \"Dimensions\": {\"Algorithm\": \"Linear Learner\", \"Host\": \"algo-1\", \"Operation\": \"training\", \"epoch\": 8, \"model\": 30}, \"Metrics\": {\"train_binary_classification_cross_entropy_objective\": {\"sum\": 0.3067189395904541, \"count\": 1, \"min\": 0.3067189395904541, \"max\": 0.3067189395904541}}}\u001b[0m\n",
      "\u001b[34m#metrics {\"StartTime\": 1733968085.947925, \"EndTime\": 1733968085.9479294, \"Dimensions\": {\"Algorithm\": \"Linear Learner\", \"Host\": \"algo-1\", \"Operation\": \"training\", \"epoch\": 8, \"model\": 31}, \"Metrics\": {\"train_binary_classification_cross_entropy_objective\": {\"sum\": 0.3104484938049316, \"count\": 1, \"min\": 0.3104484938049316, \"max\": 0.3104484938049316}}}\u001b[0m\n",
      "\u001b[34m[12/12/2024 01:48:05 INFO 140422536124224] #quality_metric: host=algo-1, epoch=8, train binary_classification_cross_entropy_objective <loss>=0.024615101890563963\u001b[0m\n",
      "\u001b[34m[12/12/2024 01:48:05 INFO 140422536124224] #early_stopping_criteria_metric: host=algo-1, epoch=8, criteria=binary_classification_cross_entropy_objective, value=0.024526824375391006\u001b[0m\n",
      "\u001b[34m[12/12/2024 01:48:05 INFO 140422536124224] Epoch 8: Loss improved. Updating best model\u001b[0m\n",
      "\u001b[34m[12/12/2024 01:48:05 INFO 140422536124224] Saving model for epoch: 8\u001b[0m\n",
      "\u001b[34m[12/12/2024 01:48:05 INFO 140422536124224] Saved checkpoint to \"/tmp/tmpfhkvw040/mx-mod-0000.params\"\u001b[0m\n",
      "\u001b[34m[12/12/2024 01:48:05 INFO 140422536124224] #progress_metric: host=algo-1, completed 60.0 % of epochs\u001b[0m\n",
      "\u001b[34m#metrics {\"StartTime\": 1733968081.032915, \"EndTime\": 1733968085.9545486, \"Dimensions\": {\"Algorithm\": \"Linear Learner\", \"Host\": \"algo-1\", \"Operation\": \"training\", \"epoch\": 8, \"Meta\": \"training_data_iter\"}, \"Metrics\": {\"Total Records Seen\": {\"sum\": 460400.0, \"count\": 1, \"min\": 460400, \"max\": 460400}, \"Total Batches Seen\": {\"sum\": 2302.0, \"count\": 1, \"min\": 2302, \"max\": 2302}, \"Max Records Seen Between Resets\": {\"sum\": 50000.0, \"count\": 1, \"min\": 50000, \"max\": 50000}, \"Max Batches Seen Between Resets\": {\"sum\": 250.0, \"count\": 1, \"min\": 250, \"max\": 250}, \"Reset Count\": {\"sum\": 11.0, \"count\": 1, \"min\": 11, \"max\": 11}, \"Number of Records Since Last Reset\": {\"sum\": 50000.0, \"count\": 1, \"min\": 50000, \"max\": 50000}, \"Number of Batches Since Last Reset\": {\"sum\": 250.0, \"count\": 1, \"min\": 250, \"max\": 250}}}\u001b[0m\n",
      "\u001b[34m[12/12/2024 01:48:05 INFO 140422536124224] #throughput_metric: host=algo-1, train throughput=10159.036743158782 records/second\u001b[0m\n",
      "\u001b[34m[2024-12-12 01:48:10.355] [tensorio] [info] epoch_stats={\"data_pipeline\": \"/opt/ml/input/data/train\", \"epoch\": 21, \"duration\": 4400, \"num_examples\": 250, \"num_bytes\": 159200000}\u001b[0m\n",
      "\u001b[34m#metrics {\"StartTime\": 1733968090.3559878, \"EndTime\": 1733968090.3560438, \"Dimensions\": {\"Algorithm\": \"Linear Learner\", \"Host\": \"algo-1\", \"Operation\": \"training\", \"epoch\": 9, \"model\": 0}, \"Metrics\": {\"train_binary_classification_cross_entropy_objective\": {\"sum\": 0.02424533452630043, \"count\": 1, \"min\": 0.02424533452630043, \"max\": 0.02424533452630043}}}\u001b[0m\n",
      "\u001b[34m#metrics {\"StartTime\": 1733968090.3560996, \"EndTime\": 1733968090.3561122, \"Dimensions\": {\"Algorithm\": \"Linear Learner\", \"Host\": \"algo-1\", \"Operation\": \"training\", \"epoch\": 9, \"model\": 1}, \"Metrics\": {\"train_binary_classification_cross_entropy_objective\": {\"sum\": 0.02466901820242405, \"count\": 1, \"min\": 0.02466901820242405, \"max\": 0.02466901820242405}}}\u001b[0m\n",
      "\u001b[34m#metrics {\"StartTime\": 1733968090.3561442, \"EndTime\": 1733968090.3561525, \"Dimensions\": {\"Algorithm\": \"Linear Learner\", \"Host\": \"algo-1\", \"Operation\": \"training\", \"epoch\": 9, \"model\": 2}, \"Metrics\": {\"train_binary_classification_cross_entropy_objective\": {\"sum\": 0.02415791973233223, \"count\": 1, \"min\": 0.02415791973233223, \"max\": 0.02415791973233223}}}\u001b[0m\n",
      "\u001b[34m#metrics {\"StartTime\": 1733968090.3562033, \"EndTime\": 1733968090.356213, \"Dimensions\": {\"Algorithm\": \"Linear Learner\", \"Host\": \"algo-1\", \"Operation\": \"training\", \"epoch\": 9, \"model\": 3}, \"Metrics\": {\"train_binary_classification_cross_entropy_objective\": {\"sum\": 0.02467908138692379, \"count\": 1, \"min\": 0.02467908138692379, \"max\": 0.02467908138692379}}}\u001b[0m\n",
      "\u001b[34m#metrics {\"StartTime\": 1733968090.3562415, \"EndTime\": 1733968090.3562498, \"Dimensions\": {\"Algorithm\": \"Linear Learner\", \"Host\": \"algo-1\", \"Operation\": \"training\", \"epoch\": 9, \"model\": 4}, \"Metrics\": {\"train_binary_classification_cross_entropy_objective\": {\"sum\": 0.03235092096868902, \"count\": 1, \"min\": 0.03235092096868902, \"max\": 0.03235092096868902}}}\u001b[0m\n",
      "\u001b[34m#metrics {\"StartTime\": 1733968090.3562775, \"EndTime\": 1733968090.356286, \"Dimensions\": {\"Algorithm\": \"Linear Learner\", \"Host\": \"algo-1\", \"Operation\": \"training\", \"epoch\": 9, \"model\": 5}, \"Metrics\": {\"train_binary_classification_cross_entropy_objective\": {\"sum\": 0.12251160642255295, \"count\": 1, \"min\": 0.12251160642255295, \"max\": 0.12251160642255295}}}\u001b[0m\n",
      "\u001b[34m#metrics {\"StartTime\": 1733968090.3563118, \"EndTime\": 1733968090.3563194, \"Dimensions\": {\"Algorithm\": \"Linear Learner\", \"Host\": \"algo-1\", \"Operation\": \"training\", \"epoch\": 9, \"model\": 6}, \"Metrics\": {\"train_binary_classification_cross_entropy_objective\": {\"sum\": 0.03263869398907758, \"count\": 1, \"min\": 0.03263869398907758, \"max\": 0.03263869398907758}}}\u001b[0m\n",
      "\u001b[34m#metrics {\"StartTime\": 1733968090.3563497, \"EndTime\": 1733968090.3563573, \"Dimensions\": {\"Algorithm\": \"Linear Learner\", \"Host\": \"algo-1\", \"Operation\": \"training\", \"epoch\": 9, \"model\": 7}, \"Metrics\": {\"train_binary_classification_cross_entropy_objective\": {\"sum\": 0.11933635426021272, \"count\": 1, \"min\": 0.11933635426021272, \"max\": 0.11933635426021272}}}\u001b[0m\n",
      "\u001b[34m#metrics {\"StartTime\": 1733968090.3563833, \"EndTime\": 1733968090.3563914, \"Dimensions\": {\"Algorithm\": \"Linear Learner\", \"Host\": \"algo-1\", \"Operation\": \"training\", \"epoch\": 9, \"model\": 8}, \"Metrics\": {\"train_binary_classification_cross_entropy_objective\": {\"sum\": 0.02867429233312607, \"count\": 1, \"min\": 0.02867429233312607, \"max\": 0.02867429233312607}}}\u001b[0m\n",
      "\u001b[34m#metrics {\"StartTime\": 1733968090.3564222, \"EndTime\": 1733968090.3564305, \"Dimensions\": {\"Algorithm\": \"Linear Learner\", \"Host\": \"algo-1\", \"Operation\": \"training\", \"epoch\": 9, \"model\": 9}, \"Metrics\": {\"train_binary_classification_cross_entropy_objective\": {\"sum\": 0.030690347485542297, \"count\": 1, \"min\": 0.030690347485542297, \"max\": 0.030690347485542297}}}\u001b[0m\n",
      "\u001b[34m#metrics {\"StartTime\": 1733968090.3564599, \"EndTime\": 1733968090.356469, \"Dimensions\": {\"Algorithm\": \"Linear Learner\", \"Host\": \"algo-1\", \"Operation\": \"training\", \"epoch\": 9, \"model\": 10}, \"Metrics\": {\"train_binary_classification_cross_entropy_objective\": {\"sum\": 0.0286642910861969, \"count\": 1, \"min\": 0.0286642910861969, \"max\": 0.0286642910861969}}}\u001b[0m\n",
      "\u001b[34m#metrics {\"StartTime\": 1733968090.3564978, \"EndTime\": 1733968090.3565054, \"Dimensions\": {\"Algorithm\": \"Linear Learner\", \"Host\": \"algo-1\", \"Operation\": \"training\", \"epoch\": 9, \"model\": 11}, \"Metrics\": {\"train_binary_classification_cross_entropy_objective\": {\"sum\": 0.03114253427147865, \"count\": 1, \"min\": 0.03114253427147865, \"max\": 0.03114253427147865}}}\u001b[0m\n",
      "\u001b[34m#metrics {\"StartTime\": 1733968090.3565328, \"EndTime\": 1733968090.3565404, \"Dimensions\": {\"Algorithm\": \"Linear Learner\", \"Host\": \"algo-1\", \"Operation\": \"training\", \"epoch\": 9, \"model\": 12}, \"Metrics\": {\"train_binary_classification_cross_entropy_objective\": {\"sum\": 0.03505292434453964, \"count\": 1, \"min\": 0.03505292434453964, \"max\": 0.03505292434453964}}}\u001b[0m\n",
      "\u001b[34m#metrics {\"StartTime\": 1733968090.3565652, \"EndTime\": 1733968090.3565729, \"Dimensions\": {\"Algorithm\": \"Linear Learner\", \"Host\": \"algo-1\", \"Operation\": \"training\", \"epoch\": 9, \"model\": 13}, \"Metrics\": {\"train_binary_classification_cross_entropy_objective\": {\"sum\": 0.10961656204760074, \"count\": 1, \"min\": 0.10961656204760074, \"max\": 0.10961656204760074}}}\u001b[0m\n",
      "\u001b[34m#metrics {\"StartTime\": 1733968090.356599, \"EndTime\": 1733968090.356607, \"Dimensions\": {\"Algorithm\": \"Linear Learner\", \"Host\": \"algo-1\", \"Operation\": \"training\", \"epoch\": 9, \"model\": 14}, \"Metrics\": {\"train_binary_classification_cross_entropy_objective\": {\"sum\": 0.03424057167649269, \"count\": 1, \"min\": 0.03424057167649269, \"max\": 0.03424057167649269}}}\u001b[0m\n",
      "\u001b[34m#metrics {\"StartTime\": 1733968090.3566349, \"EndTime\": 1733968090.356642, \"Dimensions\": {\"Algorithm\": \"Linear Learner\", \"Host\": \"algo-1\", \"Operation\": \"training\", \"epoch\": 9, \"model\": 15}, \"Metrics\": {\"train_binary_classification_cross_entropy_objective\": {\"sum\": 0.1020395835159719, \"count\": 1, \"min\": 0.1020395835159719, \"max\": 0.1020395835159719}}}\u001b[0m\n",
      "\u001b[34m#metrics {\"StartTime\": 1733968090.3566694, \"EndTime\": 1733968090.356677, \"Dimensions\": {\"Algorithm\": \"Linear Learner\", \"Host\": \"algo-1\", \"Operation\": \"training\", \"epoch\": 9, \"model\": 16}, \"Metrics\": {\"train_binary_classification_cross_entropy_objective\": {\"sum\": 0.10653475971221923, \"count\": 1, \"min\": 0.10653475971221923, \"max\": 0.10653475971221923}}}\u001b[0m\n",
      "\u001b[34m#metrics {\"StartTime\": 1733968090.3567019, \"EndTime\": 1733968090.35671, \"Dimensions\": {\"Algorithm\": \"Linear Learner\", \"Host\": \"algo-1\", \"Operation\": \"training\", \"epoch\": 9, \"model\": 17}, \"Metrics\": {\"train_binary_classification_cross_entropy_objective\": {\"sum\": 0.10844292499542237, \"count\": 1, \"min\": 0.10844292499542237, \"max\": 0.10844292499542237}}}\u001b[0m\n",
      "\u001b[34m#metrics {\"StartTime\": 1733968090.3567376, \"EndTime\": 1733968090.3567467, \"Dimensions\": {\"Algorithm\": \"Linear Learner\", \"Host\": \"algo-1\", \"Operation\": \"training\", \"epoch\": 9, \"model\": 18}, \"Metrics\": {\"train_binary_classification_cross_entropy_objective\": {\"sum\": 0.10653605718612671, \"count\": 1, \"min\": 0.10653605718612671, \"max\": 0.10653605718612671}}}\u001b[0m\n",
      "\u001b[34m#metrics {\"StartTime\": 1733968090.3567743, \"EndTime\": 1733968090.3567822, \"Dimensions\": {\"Algorithm\": \"Linear Learner\", \"Host\": \"algo-1\", \"Operation\": \"training\", \"epoch\": 9, \"model\": 19}, \"Metrics\": {\"train_binary_classification_cross_entropy_objective\": {\"sum\": 0.10845113838195801, \"count\": 1, \"min\": 0.10845113838195801, \"max\": 0.10845113838195801}}}\u001b[0m\n",
      "\u001b[34m#metrics {\"StartTime\": 1733968090.356806, \"EndTime\": 1733968090.3568134, \"Dimensions\": {\"Algorithm\": \"Linear Learner\", \"Host\": \"algo-1\", \"Operation\": \"training\", \"epoch\": 9, \"model\": 20}, \"Metrics\": {\"train_binary_classification_cross_entropy_objective\": {\"sum\": 0.10969134561538696, \"count\": 1, \"min\": 0.10969134561538696, \"max\": 0.10969134561538696}}}\u001b[0m\n",
      "\u001b[34m#metrics {\"StartTime\": 1733968090.356844, \"EndTime\": 1733968090.356853, \"Dimensions\": {\"Algorithm\": \"Linear Learner\", \"Host\": \"algo-1\", \"Operation\": \"training\", \"epoch\": 9, \"model\": 21}, \"Metrics\": {\"train_binary_classification_cross_entropy_objective\": {\"sum\": 0.13998233627319337, \"count\": 1, \"min\": 0.13998233627319337, \"max\": 0.13998233627319337}}}\u001b[0m\n",
      "\u001b[34m#metrics {\"StartTime\": 1733968090.3568826, \"EndTime\": 1733968090.3568912, \"Dimensions\": {\"Algorithm\": \"Linear Learner\", \"Host\": \"algo-1\", \"Operation\": \"training\", \"epoch\": 9, \"model\": 22}, \"Metrics\": {\"train_binary_classification_cross_entropy_objective\": {\"sum\": 0.10969359865188599, \"count\": 1, \"min\": 0.10969359865188599, \"max\": 0.10969359865188599}}}\u001b[0m\n",
      "\u001b[34m#metrics {\"StartTime\": 1733968090.3569183, \"EndTime\": 1733968090.3569264, \"Dimensions\": {\"Algorithm\": \"Linear Learner\", \"Host\": \"algo-1\", \"Operation\": \"training\", \"epoch\": 9, \"model\": 23}, \"Metrics\": {\"train_binary_classification_cross_entropy_objective\": {\"sum\": 0.14061233642578125, \"count\": 1, \"min\": 0.14061233642578125, \"max\": 0.14061233642578125}}}\u001b[0m\n",
      "\u001b[34m#metrics {\"StartTime\": 1733968090.3569515, \"EndTime\": 1733968090.3569584, \"Dimensions\": {\"Algorithm\": \"Linear Learner\", \"Host\": \"algo-1\", \"Operation\": \"training\", \"epoch\": 9, \"model\": 24}, \"Metrics\": {\"train_binary_classification_cross_entropy_objective\": {\"sum\": 0.30639146644592286, \"count\": 1, \"min\": 0.30639146644592286, \"max\": 0.30639146644592286}}}\u001b[0m\n",
      "\u001b[34m#metrics {\"StartTime\": 1733968090.3569813, \"EndTime\": 1733968090.3569884, \"Dimensions\": {\"Algorithm\": \"Linear Learner\", \"Host\": \"algo-1\", \"Operation\": \"training\", \"epoch\": 9, \"model\": 25}, \"Metrics\": {\"train_binary_classification_cross_entropy_objective\": {\"sum\": 0.30663086013793944, \"count\": 1, \"min\": 0.30663086013793944, \"max\": 0.30663086013793944}}}\u001b[0m\n",
      "\u001b[34m#metrics {\"StartTime\": 1733968090.357013, \"EndTime\": 1733968090.3570206, \"Dimensions\": {\"Algorithm\": \"Linear Learner\", \"Host\": \"algo-1\", \"Operation\": \"training\", \"epoch\": 9, \"model\": 26}, \"Metrics\": {\"train_binary_classification_cross_entropy_objective\": {\"sum\": 0.30639212188720705, \"count\": 1, \"min\": 0.30639212188720705, \"max\": 0.30639212188720705}}}\u001b[0m\n",
      "\u001b[34m#metrics {\"StartTime\": 1733968090.3570457, \"EndTime\": 1733968090.3570533, \"Dimensions\": {\"Algorithm\": \"Linear Learner\", \"Host\": \"algo-1\", \"Operation\": \"training\", \"epoch\": 9, \"model\": 27}, \"Metrics\": {\"train_binary_classification_cross_entropy_objective\": {\"sum\": 0.30663404067993166, \"count\": 1, \"min\": 0.30663404067993166, \"max\": 0.30663404067993166}}}\u001b[0m\n",
      "\u001b[34m#metrics {\"StartTime\": 1733968090.3570778, \"EndTime\": 1733968090.3570855, \"Dimensions\": {\"Algorithm\": \"Linear Learner\", \"Host\": \"algo-1\", \"Operation\": \"training\", \"epoch\": 9, \"model\": 28}, \"Metrics\": {\"train_binary_classification_cross_entropy_objective\": {\"sum\": 0.30667850646972655, \"count\": 1, \"min\": 0.30667850646972655, \"max\": 0.30667850646972655}}}\u001b[0m\n",
      "\u001b[34m#metrics {\"StartTime\": 1733968090.3571172, \"EndTime\": 1733968090.3571265, \"Dimensions\": {\"Algorithm\": \"Linear Learner\", \"Host\": \"algo-1\", \"Operation\": \"training\", \"epoch\": 9, \"model\": 29}, \"Metrics\": {\"train_binary_classification_cross_entropy_objective\": {\"sum\": 0.31024442344665526, \"count\": 1, \"min\": 0.31024442344665526, \"max\": 0.31024442344665526}}}\u001b[0m\n",
      "\u001b[34m#metrics {\"StartTime\": 1733968090.3571484, \"EndTime\": 1733968090.3571556, \"Dimensions\": {\"Algorithm\": \"Linear Learner\", \"Host\": \"algo-1\", \"Operation\": \"training\", \"epoch\": 9, \"model\": 30}, \"Metrics\": {\"train_binary_classification_cross_entropy_objective\": {\"sum\": 0.3066097925567627, \"count\": 1, \"min\": 0.3066097925567627, \"max\": 0.3066097925567627}}}\u001b[0m\n",
      "\u001b[34m#metrics {\"StartTime\": 1733968090.3571854, \"EndTime\": 1733968090.3571932, \"Dimensions\": {\"Algorithm\": \"Linear Learner\", \"Host\": \"algo-1\", \"Operation\": \"training\", \"epoch\": 9, \"model\": 31}, \"Metrics\": {\"train_binary_classification_cross_entropy_objective\": {\"sum\": 0.310190485458374, \"count\": 1, \"min\": 0.310190485458374, \"max\": 0.310190485458374}}}\u001b[0m\n",
      "\u001b[34m[12/12/2024 01:48:10 INFO 140422536124224] #quality_metric: host=algo-1, epoch=9, train binary_classification_cross_entropy_objective <loss>=0.02424533452630043\u001b[0m\n",
      "\u001b[34m[12/12/2024 01:48:10 INFO 140422536124224] #early_stopping_criteria_metric: host=algo-1, epoch=9, criteria=binary_classification_cross_entropy_objective, value=0.02415791973233223\u001b[0m\n",
      "\u001b[34m[12/12/2024 01:48:10 INFO 140422536124224] Epoch 9: Loss improved. Updating best model\u001b[0m\n",
      "\u001b[34m[12/12/2024 01:48:10 INFO 140422536124224] Saving model for epoch: 9\u001b[0m\n",
      "\u001b[34m[12/12/2024 01:48:10 INFO 140422536124224] Saved checkpoint to \"/tmp/tmp2dgs4237/mx-mod-0000.params\"\u001b[0m\n",
      "\u001b[34m[12/12/2024 01:48:10 INFO 140422536124224] #progress_metric: host=algo-1, completed 66.66666666666667 % of epochs\u001b[0m\n",
      "\u001b[34m#metrics {\"StartTime\": 1733968085.9557824, \"EndTime\": 1733968090.363545, \"Dimensions\": {\"Algorithm\": \"Linear Learner\", \"Host\": \"algo-1\", \"Operation\": \"training\", \"epoch\": 9, \"Meta\": \"training_data_iter\"}, \"Metrics\": {\"Total Records Seen\": {\"sum\": 510400.0, \"count\": 1, \"min\": 510400, \"max\": 510400}, \"Total Batches Seen\": {\"sum\": 2552.0, \"count\": 1, \"min\": 2552, \"max\": 2552}, \"Max Records Seen Between Resets\": {\"sum\": 50000.0, \"count\": 1, \"min\": 50000, \"max\": 50000}, \"Max Batches Seen Between Resets\": {\"sum\": 250.0, \"count\": 1, \"min\": 250, \"max\": 250}, \"Reset Count\": {\"sum\": 12.0, \"count\": 1, \"min\": 12, \"max\": 12}, \"Number of Records Since Last Reset\": {\"sum\": 50000.0, \"count\": 1, \"min\": 50000, \"max\": 50000}, \"Number of Batches Since Last Reset\": {\"sum\": 250.0, \"count\": 1, \"min\": 250, \"max\": 250}}}\u001b[0m\n",
      "\u001b[34m[12/12/2024 01:48:10 INFO 140422536124224] #throughput_metric: host=algo-1, train throughput=11343.340965148285 records/second\u001b[0m\n",
      "\u001b[34m[2024-12-12 01:48:15.059] [tensorio] [info] epoch_stats={\"data_pipeline\": \"/opt/ml/input/data/train\", \"epoch\": 23, \"duration\": 4694, \"num_examples\": 250, \"num_bytes\": 159200000}\u001b[0m\n",
      "\u001b[34m#metrics {\"StartTime\": 1733968095.0593643, \"EndTime\": 1733968095.059431, \"Dimensions\": {\"Algorithm\": \"Linear Learner\", \"Host\": \"algo-1\", \"Operation\": \"training\", \"epoch\": 10, \"model\": 0}, \"Metrics\": {\"train_binary_classification_cross_entropy_objective\": {\"sum\": 0.023956085686683656, \"count\": 1, \"min\": 0.023956085686683656, \"max\": 0.023956085686683656}}}\u001b[0m\n",
      "\u001b[34m#metrics {\"StartTime\": 1733968095.0594902, \"EndTime\": 1733968095.0595033, \"Dimensions\": {\"Algorithm\": \"Linear Learner\", \"Host\": \"algo-1\", \"Operation\": \"training\", \"epoch\": 10, \"model\": 1}, \"Metrics\": {\"train_binary_classification_cross_entropy_objective\": {\"sum\": 0.024433011038899423, \"count\": 1, \"min\": 0.024433011038899423, \"max\": 0.024433011038899423}}}\u001b[0m\n",
      "\u001b[34m#metrics {\"StartTime\": 1733968095.059534, \"EndTime\": 1733968095.059543, \"Dimensions\": {\"Algorithm\": \"Linear Learner\", \"Host\": \"algo-1\", \"Operation\": \"training\", \"epoch\": 10, \"model\": 2}, \"Metrics\": {\"train_binary_classification_cross_entropy_objective\": {\"sum\": 0.023868596309423448, \"count\": 1, \"min\": 0.023868596309423448, \"max\": 0.023868596309423448}}}\u001b[0m\n",
      "\u001b[34m#metrics {\"StartTime\": 1733968095.0595782, \"EndTime\": 1733968095.0595863, \"Dimensions\": {\"Algorithm\": \"Linear Learner\", \"Host\": \"algo-1\", \"Operation\": \"training\", \"epoch\": 10, \"model\": 3}, \"Metrics\": {\"train_binary_classification_cross_entropy_objective\": {\"sum\": 0.024439129493236542, \"count\": 1, \"min\": 0.024439129493236542, \"max\": 0.024439129493236542}}}\u001b[0m\n",
      "\u001b[34m#metrics {\"StartTime\": 1733968095.0596185, \"EndTime\": 1733968095.0596268, \"Dimensions\": {\"Algorithm\": \"Linear Learner\", \"Host\": \"algo-1\", \"Operation\": \"training\", \"epoch\": 10, \"model\": 4}, \"Metrics\": {\"train_binary_classification_cross_entropy_objective\": {\"sum\": 0.029747094849795104, \"count\": 1, \"min\": 0.029747094849795104, \"max\": 0.029747094849795104}}}\u001b[0m\n",
      "\u001b[34m#metrics {\"StartTime\": 1733968095.0596578, \"EndTime\": 1733968095.0596662, \"Dimensions\": {\"Algorithm\": \"Linear Learner\", \"Host\": \"algo-1\", \"Operation\": \"training\", \"epoch\": 10, \"model\": 5}, \"Metrics\": {\"train_binary_classification_cross_entropy_objective\": {\"sum\": 0.11037042272790978, \"count\": 1, \"min\": 0.11037042272790978, \"max\": 0.11037042272790978}}}\u001b[0m\n",
      "\u001b[34m#metrics {\"StartTime\": 1733968095.0596936, \"EndTime\": 1733968095.0597007, \"Dimensions\": {\"Algorithm\": \"Linear Learner\", \"Host\": \"algo-1\", \"Operation\": \"training\", \"epoch\": 10, \"model\": 6}, \"Metrics\": {\"train_binary_classification_cross_entropy_objective\": {\"sum\": 0.02998946633486077, \"count\": 1, \"min\": 0.02998946633486077, \"max\": 0.02998946633486077}}}\u001b[0m\n",
      "\u001b[34m#metrics {\"StartTime\": 1733968095.059731, \"EndTime\": 1733968095.0597384, \"Dimensions\": {\"Algorithm\": \"Linear Learner\", \"Host\": \"algo-1\", \"Operation\": \"training\", \"epoch\": 10, \"model\": 7}, \"Metrics\": {\"train_binary_classification_cross_entropy_objective\": {\"sum\": 0.11801456712327897, \"count\": 1, \"min\": 0.11801456712327897, \"max\": 0.11801456712327897}}}\u001b[0m\n",
      "\u001b[34m#metrics {\"StartTime\": 1733968095.059777, \"EndTime\": 1733968095.059785, \"Dimensions\": {\"Algorithm\": \"Linear Learner\", \"Host\": \"algo-1\", \"Operation\": \"training\", \"epoch\": 10, \"model\": 8}, \"Metrics\": {\"train_binary_classification_cross_entropy_objective\": {\"sum\": 0.02849136100053787, \"count\": 1, \"min\": 0.02849136100053787, \"max\": 0.02849136100053787}}}\u001b[0m\n",
      "\u001b[34m#metrics {\"StartTime\": 1733968095.0598178, \"EndTime\": 1733968095.0598264, \"Dimensions\": {\"Algorithm\": \"Linear Learner\", \"Host\": \"algo-1\", \"Operation\": \"training\", \"epoch\": 10, \"model\": 9}, \"Metrics\": {\"train_binary_classification_cross_entropy_objective\": {\"sum\": 0.030822167068719864, \"count\": 1, \"min\": 0.030822167068719864, \"max\": 0.030822167068719864}}}\u001b[0m\n",
      "\u001b[34m#metrics {\"StartTime\": 1733968095.0598593, \"EndTime\": 1733968095.0598683, \"Dimensions\": {\"Algorithm\": \"Linear Learner\", \"Host\": \"algo-1\", \"Operation\": \"training\", \"epoch\": 10, \"model\": 10}, \"Metrics\": {\"train_binary_classification_cross_entropy_objective\": {\"sum\": 0.02848201979637146, \"count\": 1, \"min\": 0.02848201979637146, \"max\": 0.02848201979637146}}}\u001b[0m\n",
      "\u001b[34m#metrics {\"StartTime\": 1733968095.0599074, \"EndTime\": 1733968095.0599163, \"Dimensions\": {\"Algorithm\": \"Linear Learner\", \"Host\": \"algo-1\", \"Operation\": \"training\", \"epoch\": 10, \"model\": 11}, \"Metrics\": {\"train_binary_classification_cross_entropy_objective\": {\"sum\": 0.030749801957607268, \"count\": 1, \"min\": 0.030749801957607268, \"max\": 0.030749801957607268}}}\u001b[0m\n",
      "\u001b[34m#metrics {\"StartTime\": 1733968095.0599468, \"EndTime\": 1733968095.0599554, \"Dimensions\": {\"Algorithm\": \"Linear Learner\", \"Host\": \"algo-1\", \"Operation\": \"training\", \"epoch\": 10, \"model\": 12}, \"Metrics\": {\"train_binary_classification_cross_entropy_objective\": {\"sum\": 0.0333510468518734, \"count\": 1, \"min\": 0.0333510468518734, \"max\": 0.0333510468518734}}}\u001b[0m\n",
      "\u001b[34m#metrics {\"StartTime\": 1733968095.0599825, \"EndTime\": 1733968095.0599906, \"Dimensions\": {\"Algorithm\": \"Linear Learner\", \"Host\": \"algo-1\", \"Operation\": \"training\", \"epoch\": 10, \"model\": 13}, \"Metrics\": {\"train_binary_classification_cross_entropy_objective\": {\"sum\": 0.11819122995734214, \"count\": 1, \"min\": 0.11819122995734214, \"max\": 0.11819122995734214}}}\u001b[0m\n",
      "\u001b[34m#metrics {\"StartTime\": 1733968095.0600188, \"EndTime\": 1733968095.0600266, \"Dimensions\": {\"Algorithm\": \"Linear Learner\", \"Host\": \"algo-1\", \"Operation\": \"training\", \"epoch\": 10, \"model\": 14}, \"Metrics\": {\"train_binary_classification_cross_entropy_objective\": {\"sum\": 0.03304329728484154, \"count\": 1, \"min\": 0.03304329728484154, \"max\": 0.03304329728484154}}}\u001b[0m\n",
      "\u001b[34m#metrics {\"StartTime\": 1733968095.0600598, \"EndTime\": 1733968095.0600681, \"Dimensions\": {\"Algorithm\": \"Linear Learner\", \"Host\": \"algo-1\", \"Operation\": \"training\", \"epoch\": 10, \"model\": 15}, \"Metrics\": {\"train_binary_classification_cross_entropy_objective\": {\"sum\": 0.10436807028114796, \"count\": 1, \"min\": 0.10436807028114796, \"max\": 0.10436807028114796}}}\u001b[0m\n",
      "\u001b[34m#metrics {\"StartTime\": 1733968095.0600991, \"EndTime\": 1733968095.060107, \"Dimensions\": {\"Algorithm\": \"Linear Learner\", \"Host\": \"algo-1\", \"Operation\": \"training\", \"epoch\": 10, \"model\": 16}, \"Metrics\": {\"train_binary_classification_cross_entropy_objective\": {\"sum\": 0.10648049484252929, \"count\": 1, \"min\": 0.10648049484252929, \"max\": 0.10648049484252929}}}\u001b[0m\n",
      "\u001b[34m#metrics {\"StartTime\": 1733968095.060138, \"EndTime\": 1733968095.0601466, \"Dimensions\": {\"Algorithm\": \"Linear Learner\", \"Host\": \"algo-1\", \"Operation\": \"training\", \"epoch\": 10, \"model\": 17}, \"Metrics\": {\"train_binary_classification_cross_entropy_objective\": {\"sum\": 0.10842516305923462, \"count\": 1, \"min\": 0.10842516305923462, \"max\": 0.10842516305923462}}}\u001b[0m\n",
      "\u001b[34m#metrics {\"StartTime\": 1733968095.0601974, \"EndTime\": 1733968095.0602076, \"Dimensions\": {\"Algorithm\": \"Linear Learner\", \"Host\": \"algo-1\", \"Operation\": \"training\", \"epoch\": 10, \"model\": 18}, \"Metrics\": {\"train_binary_classification_cross_entropy_objective\": {\"sum\": 0.10648136878967285, \"count\": 1, \"min\": 0.10648136878967285, \"max\": 0.10648136878967285}}}\u001b[0m\n",
      "\u001b[34m#metrics {\"StartTime\": 1733968095.0602374, \"EndTime\": 1733968095.060246, \"Dimensions\": {\"Algorithm\": \"Linear Learner\", \"Host\": \"algo-1\", \"Operation\": \"training\", \"epoch\": 10, \"model\": 19}, \"Metrics\": {\"train_binary_classification_cross_entropy_objective\": {\"sum\": 0.10842968435287476, \"count\": 1, \"min\": 0.10842968435287476, \"max\": 0.10842968435287476}}}\u001b[0m\n",
      "\u001b[34m#metrics {\"StartTime\": 1733968095.0602713, \"EndTime\": 1733968095.0602791, \"Dimensions\": {\"Algorithm\": \"Linear Learner\", \"Host\": \"algo-1\", \"Operation\": \"training\", \"epoch\": 10, \"model\": 20}, \"Metrics\": {\"train_binary_classification_cross_entropy_objective\": {\"sum\": 0.10886398759841918, \"count\": 1, \"min\": 0.10886398759841918, \"max\": 0.10886398759841918}}}\u001b[0m\n",
      "\u001b[34m#metrics {\"StartTime\": 1733968095.060306, \"EndTime\": 1733968095.0603144, \"Dimensions\": {\"Algorithm\": \"Linear Learner\", \"Host\": \"algo-1\", \"Operation\": \"training\", \"epoch\": 10, \"model\": 21}, \"Metrics\": {\"train_binary_classification_cross_entropy_objective\": {\"sum\": 0.13835800964355469, \"count\": 1, \"min\": 0.13835800964355469, \"max\": 0.13835800964355469}}}\u001b[0m\n",
      "\u001b[34m#metrics {\"StartTime\": 1733968095.0603464, \"EndTime\": 1733968095.0603638, \"Dimensions\": {\"Algorithm\": \"Linear Learner\", \"Host\": \"algo-1\", \"Operation\": \"training\", \"epoch\": 10, \"model\": 22}, \"Metrics\": {\"train_binary_classification_cross_entropy_objective\": {\"sum\": 0.10886959754943848, \"count\": 1, \"min\": 0.10886959754943848, \"max\": 0.10886959754943848}}}\u001b[0m\n",
      "\u001b[34m#metrics {\"StartTime\": 1733968095.0603955, \"EndTime\": 1733968095.0604045, \"Dimensions\": {\"Algorithm\": \"Linear Learner\", \"Host\": \"algo-1\", \"Operation\": \"training\", \"epoch\": 10, \"model\": 23}, \"Metrics\": {\"train_binary_classification_cross_entropy_objective\": {\"sum\": 0.13860364442825318, \"count\": 1, \"min\": 0.13860364442825318, \"max\": 0.13860364442825318}}}\u001b[0m\n",
      "\u001b[34m#metrics {\"StartTime\": 1733968095.060432, \"EndTime\": 1733968095.0604398, \"Dimensions\": {\"Algorithm\": \"Linear Learner\", \"Host\": \"algo-1\", \"Operation\": \"training\", \"epoch\": 10, \"model\": 24}, \"Metrics\": {\"train_binary_classification_cross_entropy_objective\": {\"sum\": 0.30639514678955077, \"count\": 1, \"min\": 0.30639514678955077, \"max\": 0.30639514678955077}}}\u001b[0m\n",
      "\u001b[34m#metrics {\"StartTime\": 1733968095.0604684, \"EndTime\": 1733968095.0604768, \"Dimensions\": {\"Algorithm\": \"Linear Learner\", \"Host\": \"algo-1\", \"Operation\": \"training\", \"epoch\": 10, \"model\": 25}, \"Metrics\": {\"train_binary_classification_cross_entropy_objective\": {\"sum\": 0.3066429542541504, \"count\": 1, \"min\": 0.3066429542541504, \"max\": 0.3066429542541504}}}\u001b[0m\n",
      "\u001b[34m#metrics {\"StartTime\": 1733968095.060505, \"EndTime\": 1733968095.0605133, \"Dimensions\": {\"Algorithm\": \"Linear Learner\", \"Host\": \"algo-1\", \"Operation\": \"training\", \"epoch\": 10, \"model\": 26}, \"Metrics\": {\"train_binary_classification_cross_entropy_objective\": {\"sum\": 0.3063973841094971, \"count\": 1, \"min\": 0.3063973841094971, \"max\": 0.3063973841094971}}}\u001b[0m\n",
      "\u001b[34m#metrics {\"StartTime\": 1733968095.0605478, \"EndTime\": 1733968095.0605567, \"Dimensions\": {\"Algorithm\": \"Linear Learner\", \"Host\": \"algo-1\", \"Operation\": \"training\", \"epoch\": 10, \"model\": 27}, \"Metrics\": {\"train_binary_classification_cross_entropy_objective\": {\"sum\": 0.30663955780029295, \"count\": 1, \"min\": 0.30663955780029295, \"max\": 0.30663955780029295}}}\u001b[0m\n",
      "\u001b[34m#metrics {\"StartTime\": 1733968095.0605862, \"EndTime\": 1733968095.0605953, \"Dimensions\": {\"Algorithm\": \"Linear Learner\", \"Host\": \"algo-1\", \"Operation\": \"training\", \"epoch\": 10, \"model\": 28}, \"Metrics\": {\"train_binary_classification_cross_entropy_objective\": {\"sum\": 0.3066192700958252, \"count\": 1, \"min\": 0.3066192700958252, \"max\": 0.3066192700958252}}}\u001b[0m\n",
      "\u001b[34m#metrics {\"StartTime\": 1733968095.0606291, \"EndTime\": 1733968095.0606377, \"Dimensions\": {\"Algorithm\": \"Linear Learner\", \"Host\": \"algo-1\", \"Operation\": \"training\", \"epoch\": 10, \"model\": 29}, \"Metrics\": {\"train_binary_classification_cross_entropy_objective\": {\"sum\": 0.31033463356018065, \"count\": 1, \"min\": 0.31033463356018065, \"max\": 0.31033463356018065}}}\u001b[0m\n",
      "\u001b[34m#metrics {\"StartTime\": 1733968095.060667, \"EndTime\": 1733968095.0606751, \"Dimensions\": {\"Algorithm\": \"Linear Learner\", \"Host\": \"algo-1\", \"Operation\": \"training\", \"epoch\": 10, \"model\": 30}, \"Metrics\": {\"train_binary_classification_cross_entropy_objective\": {\"sum\": 0.3066483250427246, \"count\": 1, \"min\": 0.3066483250427246, \"max\": 0.3066483250427246}}}\u001b[0m\n",
      "\u001b[34m#metrics {\"StartTime\": 1733968095.0607076, \"EndTime\": 1733968095.0607166, \"Dimensions\": {\"Algorithm\": \"Linear Learner\", \"Host\": \"algo-1\", \"Operation\": \"training\", \"epoch\": 10, \"model\": 31}, \"Metrics\": {\"train_binary_classification_cross_entropy_objective\": {\"sum\": 0.310697218170166, \"count\": 1, \"min\": 0.310697218170166, \"max\": 0.310697218170166}}}\u001b[0m\n",
      "\u001b[34m[12/12/2024 01:48:15 INFO 140422536124224] #quality_metric: host=algo-1, epoch=10, train binary_classification_cross_entropy_objective <loss>=0.023956085686683656\u001b[0m\n",
      "\u001b[34m[12/12/2024 01:48:15 INFO 140422536124224] #early_stopping_criteria_metric: host=algo-1, epoch=10, criteria=binary_classification_cross_entropy_objective, value=0.023868596309423448\u001b[0m\n",
      "\u001b[34m[12/12/2024 01:48:15 INFO 140422536124224] Epoch 10: Loss improved. Updating best model\u001b[0m\n",
      "\u001b[34m[12/12/2024 01:48:15 INFO 140422536124224] Saving model for epoch: 10\u001b[0m\n",
      "\u001b[34m[12/12/2024 01:48:15 INFO 140422536124224] Saved checkpoint to \"/tmp/tmp7fuqyenc/mx-mod-0000.params\"\u001b[0m\n",
      "\u001b[34m[12/12/2024 01:48:15 INFO 140422536124224] #progress_metric: host=algo-1, completed 73.33333333333333 % of epochs\u001b[0m\n",
      "\u001b[34m#metrics {\"StartTime\": 1733968090.3646674, \"EndTime\": 1733968095.0665312, \"Dimensions\": {\"Algorithm\": \"Linear Learner\", \"Host\": \"algo-1\", \"Operation\": \"training\", \"epoch\": 10, \"Meta\": \"training_data_iter\"}, \"Metrics\": {\"Total Records Seen\": {\"sum\": 560400.0, \"count\": 1, \"min\": 560400, \"max\": 560400}, \"Total Batches Seen\": {\"sum\": 2802.0, \"count\": 1, \"min\": 2802, \"max\": 2802}, \"Max Records Seen Between Resets\": {\"sum\": 50000.0, \"count\": 1, \"min\": 50000, \"max\": 50000}, \"Max Batches Seen Between Resets\": {\"sum\": 250.0, \"count\": 1, \"min\": 250, \"max\": 250}, \"Reset Count\": {\"sum\": 13.0, \"count\": 1, \"min\": 13, \"max\": 13}, \"Number of Records Since Last Reset\": {\"sum\": 50000.0, \"count\": 1, \"min\": 50000, \"max\": 50000}, \"Number of Batches Since Last Reset\": {\"sum\": 250.0, \"count\": 1, \"min\": 250, \"max\": 250}}}\u001b[0m\n",
      "\u001b[34m[12/12/2024 01:48:15 INFO 140422536124224] #throughput_metric: host=algo-1, train throughput=10633.85611909218 records/second\u001b[0m\n",
      "\u001b[34m[2024-12-12 01:48:19.732] [tensorio] [info] epoch_stats={\"data_pipeline\": \"/opt/ml/input/data/train\", \"epoch\": 25, \"duration\": 4665, \"num_examples\": 250, \"num_bytes\": 159200000}\u001b[0m\n",
      "\u001b[34m#metrics {\"StartTime\": 1733968099.7325983, \"EndTime\": 1733968099.7326632, \"Dimensions\": {\"Algorithm\": \"Linear Learner\", \"Host\": \"algo-1\", \"Operation\": \"training\", \"epoch\": 11, \"model\": 0}, \"Metrics\": {\"train_binary_classification_cross_entropy_objective\": {\"sum\": 0.023728811749219893, \"count\": 1, \"min\": 0.023728811749219893, \"max\": 0.023728811749219893}}}\u001b[0m\n",
      "\u001b[34m#metrics {\"StartTime\": 1733968099.7327275, \"EndTime\": 1733968099.7327414, \"Dimensions\": {\"Algorithm\": \"Linear Learner\", \"Host\": \"algo-1\", \"Operation\": \"training\", \"epoch\": 11, \"model\": 1}, \"Metrics\": {\"train_binary_classification_cross_entropy_objective\": {\"sum\": 0.024227503904998303, \"count\": 1, \"min\": 0.024227503904998303, \"max\": 0.024227503904998303}}}\u001b[0m\n",
      "\u001b[34m#metrics {\"StartTime\": 1733968099.732778, \"EndTime\": 1733968099.7327876, \"Dimensions\": {\"Algorithm\": \"Linear Learner\", \"Host\": \"algo-1\", \"Operation\": \"training\", \"epoch\": 11, \"model\": 2}, \"Metrics\": {\"train_binary_classification_cross_entropy_objective\": {\"sum\": 0.02364126256108284, \"count\": 1, \"min\": 0.02364126256108284, \"max\": 0.02364126256108284}}}\u001b[0m\n",
      "\u001b[34m#metrics {\"StartTime\": 1733968099.7328126, \"EndTime\": 1733968099.7328217, \"Dimensions\": {\"Algorithm\": \"Linear Learner\", \"Host\": \"algo-1\", \"Operation\": \"training\", \"epoch\": 11, \"model\": 3}, \"Metrics\": {\"train_binary_classification_cross_entropy_objective\": {\"sum\": 0.024230357253551483, \"count\": 1, \"min\": 0.024230357253551483, \"max\": 0.024230357253551483}}}\u001b[0m\n",
      "\u001b[34m#metrics {\"StartTime\": 1733968099.7328444, \"EndTime\": 1733968099.7333734, \"Dimensions\": {\"Algorithm\": \"Linear Learner\", \"Host\": \"algo-1\", \"Operation\": \"training\", \"epoch\": 11, \"model\": 4}, \"Metrics\": {\"train_binary_classification_cross_entropy_objective\": {\"sum\": 0.027782788234669713, \"count\": 1, \"min\": 0.027782788234669713, \"max\": 0.027782788234669713}}}\u001b[0m\n",
      "\u001b[34m#metrics {\"StartTime\": 1733968099.7334223, \"EndTime\": 1733968099.7334344, \"Dimensions\": {\"Algorithm\": \"Linear Learner\", \"Host\": \"algo-1\", \"Operation\": \"training\", \"epoch\": 11, \"model\": 5}, \"Metrics\": {\"train_binary_classification_cross_entropy_objective\": {\"sum\": 0.1121324970822247, \"count\": 1, \"min\": 0.1121324970822247, \"max\": 0.1121324970822247}}}\u001b[0m\n",
      "\u001b[34m#metrics {\"StartTime\": 1733968099.7334654, \"EndTime\": 1733968099.7334735, \"Dimensions\": {\"Algorithm\": \"Linear Learner\", \"Host\": \"algo-1\", \"Operation\": \"training\", \"epoch\": 11, \"model\": 6}, \"Metrics\": {\"train_binary_classification_cross_entropy_objective\": {\"sum\": 0.02794685408014804, \"count\": 1, \"min\": 0.02794685408014804, \"max\": 0.02794685408014804}}}\u001b[0m\n",
      "\u001b[34m#metrics {\"StartTime\": 1733968099.7335002, \"EndTime\": 1733968099.7335079, \"Dimensions\": {\"Algorithm\": \"Linear Learner\", \"Host\": \"algo-1\", \"Operation\": \"training\", \"epoch\": 11, \"model\": 7}, \"Metrics\": {\"train_binary_classification_cross_entropy_objective\": {\"sum\": 0.10616709014006029, \"count\": 1, \"min\": 0.10616709014006029, \"max\": 0.10616709014006029}}}\u001b[0m\n",
      "\u001b[34m#metrics {\"StartTime\": 1733968099.7335353, \"EndTime\": 1733968099.7335436, \"Dimensions\": {\"Algorithm\": \"Linear Learner\", \"Host\": \"algo-1\", \"Operation\": \"training\", \"epoch\": 11, \"model\": 8}, \"Metrics\": {\"train_binary_classification_cross_entropy_objective\": {\"sum\": 0.02834424831151962, \"count\": 1, \"min\": 0.02834424831151962, \"max\": 0.02834424831151962}}}\u001b[0m\n",
      "\u001b[34m#metrics {\"StartTime\": 1733968099.7335718, \"EndTime\": 1733968099.7335796, \"Dimensions\": {\"Algorithm\": \"Linear Learner\", \"Host\": \"algo-1\", \"Operation\": \"training\", \"epoch\": 11, \"model\": 9}, \"Metrics\": {\"train_binary_classification_cross_entropy_objective\": {\"sum\": 0.030605741666555403, \"count\": 1, \"min\": 0.030605741666555403, \"max\": 0.030605741666555403}}}\u001b[0m\n",
      "\u001b[34m#metrics {\"StartTime\": 1733968099.7336042, \"EndTime\": 1733968099.7336128, \"Dimensions\": {\"Algorithm\": \"Linear Learner\", \"Host\": \"algo-1\", \"Operation\": \"training\", \"epoch\": 11, \"model\": 10}, \"Metrics\": {\"train_binary_classification_cross_entropy_objective\": {\"sum\": 0.028335451412200927, \"count\": 1, \"min\": 0.028335451412200927, \"max\": 0.028335451412200927}}}\u001b[0m\n",
      "\u001b[34m#metrics {\"StartTime\": 1733968099.7336407, \"EndTime\": 1733968099.7336493, \"Dimensions\": {\"Algorithm\": \"Linear Learner\", \"Host\": \"algo-1\", \"Operation\": \"training\", \"epoch\": 11, \"model\": 11}, \"Metrics\": {\"train_binary_classification_cross_entropy_objective\": {\"sum\": 0.0305861714220047, \"count\": 1, \"min\": 0.0305861714220047, \"max\": 0.0305861714220047}}}\u001b[0m\n",
      "\u001b[34m#metrics {\"StartTime\": 1733968099.7336721, \"EndTime\": 1733968099.733679, \"Dimensions\": {\"Algorithm\": \"Linear Learner\", \"Host\": \"algo-1\", \"Operation\": \"training\", \"epoch\": 11, \"model\": 12}, \"Metrics\": {\"train_binary_classification_cross_entropy_objective\": {\"sum\": 0.03185904496669769, \"count\": 1, \"min\": 0.03185904496669769, \"max\": 0.03185904496669769}}}\u001b[0m\n",
      "\u001b[34m#metrics {\"StartTime\": 1733968099.7337017, \"EndTime\": 1733968099.7337096, \"Dimensions\": {\"Algorithm\": \"Linear Learner\", \"Host\": \"algo-1\", \"Operation\": \"training\", \"epoch\": 11, \"model\": 13}, \"Metrics\": {\"train_binary_classification_cross_entropy_objective\": {\"sum\": 0.11223066522344947, \"count\": 1, \"min\": 0.11223066522344947, \"max\": 0.11223066522344947}}}\u001b[0m\n",
      "\u001b[34m#metrics {\"StartTime\": 1733968099.7337344, \"EndTime\": 1733968099.7337422, \"Dimensions\": {\"Algorithm\": \"Linear Learner\", \"Host\": \"algo-1\", \"Operation\": \"training\", \"epoch\": 11, \"model\": 14}, \"Metrics\": {\"train_binary_classification_cross_entropy_objective\": {\"sum\": 0.0316694483089447, \"count\": 1, \"min\": 0.0316694483089447, \"max\": 0.0316694483089447}}}\u001b[0m\n",
      "\u001b[34m#metrics {\"StartTime\": 1733968099.733769, \"EndTime\": 1733968099.7337768, \"Dimensions\": {\"Algorithm\": \"Linear Learner\", \"Host\": \"algo-1\", \"Operation\": \"training\", \"epoch\": 11, \"model\": 15}, \"Metrics\": {\"train_binary_classification_cross_entropy_objective\": {\"sum\": 0.10497556419663132, \"count\": 1, \"min\": 0.10497556419663132, \"max\": 0.10497556419663132}}}\u001b[0m\n",
      "\u001b[34m#metrics {\"StartTime\": 1733968099.7338037, \"EndTime\": 1733968099.7338119, \"Dimensions\": {\"Algorithm\": \"Linear Learner\", \"Host\": \"algo-1\", \"Operation\": \"training\", \"epoch\": 11, \"model\": 16}, \"Metrics\": {\"train_binary_classification_cross_entropy_objective\": {\"sum\": 0.10643229551315307, \"count\": 1, \"min\": 0.10643229551315307, \"max\": 0.10643229551315307}}}\u001b[0m\n",
      "\u001b[34m#metrics {\"StartTime\": 1733968099.7338371, \"EndTime\": 1733968099.733845, \"Dimensions\": {\"Algorithm\": \"Linear Learner\", \"Host\": \"algo-1\", \"Operation\": \"training\", \"epoch\": 11, \"model\": 17}, \"Metrics\": {\"train_binary_classification_cross_entropy_objective\": {\"sum\": 0.10841778673171996, \"count\": 1, \"min\": 0.10841778673171996, \"max\": 0.10841778673171996}}}\u001b[0m\n",
      "\u001b[34m#metrics {\"StartTime\": 1733968099.7338686, \"EndTime\": 1733968099.7338765, \"Dimensions\": {\"Algorithm\": \"Linear Learner\", \"Host\": \"algo-1\", \"Operation\": \"training\", \"epoch\": 11, \"model\": 18}, \"Metrics\": {\"train_binary_classification_cross_entropy_objective\": {\"sum\": 0.10643269708633422, \"count\": 1, \"min\": 0.10643269708633422, \"max\": 0.10643269708633422}}}\u001b[0m\n",
      "\u001b[34m#metrics {\"StartTime\": 1733968099.7339017, \"EndTime\": 1733968099.7339103, \"Dimensions\": {\"Algorithm\": \"Linear Learner\", \"Host\": \"algo-1\", \"Operation\": \"training\", \"epoch\": 11, \"model\": 19}, \"Metrics\": {\"train_binary_classification_cross_entropy_objective\": {\"sum\": 0.10841948301315307, \"count\": 1, \"min\": 0.10841948301315307, \"max\": 0.10841948301315307}}}\u001b[0m\n",
      "\u001b[34m#metrics {\"StartTime\": 1733968099.7339368, \"EndTime\": 1733968099.733946, \"Dimensions\": {\"Algorithm\": \"Linear Learner\", \"Host\": \"algo-1\", \"Operation\": \"training\", \"epoch\": 11, \"model\": 20}, \"Metrics\": {\"train_binary_classification_cross_entropy_objective\": {\"sum\": 0.10856592992782593, \"count\": 1, \"min\": 0.10856592992782593, \"max\": 0.10856592992782593}}}\u001b[0m\n",
      "\u001b[34m#metrics {\"StartTime\": 1733968099.733971, \"EndTime\": 1733968099.7339783, \"Dimensions\": {\"Algorithm\": \"Linear Learner\", \"Host\": \"algo-1\", \"Operation\": \"training\", \"epoch\": 11, \"model\": 21}, \"Metrics\": {\"train_binary_classification_cross_entropy_objective\": {\"sum\": 0.13695338737487792, \"count\": 1, \"min\": 0.13695338737487792, \"max\": 0.13695338737487792}}}\u001b[0m\n",
      "\u001b[34m#metrics {\"StartTime\": 1733968099.7340038, \"EndTime\": 1733968099.734012, \"Dimensions\": {\"Algorithm\": \"Linear Learner\", \"Host\": \"algo-1\", \"Operation\": \"training\", \"epoch\": 11, \"model\": 22}, \"Metrics\": {\"train_binary_classification_cross_entropy_objective\": {\"sum\": 0.10856633008956909, \"count\": 1, \"min\": 0.10856633008956909, \"max\": 0.10856633008956909}}}\u001b[0m\n",
      "\u001b[34m#metrics {\"StartTime\": 1733968099.7340388, \"EndTime\": 1733968099.7340465, \"Dimensions\": {\"Algorithm\": \"Linear Learner\", \"Host\": \"algo-1\", \"Operation\": \"training\", \"epoch\": 11, \"model\": 23}, \"Metrics\": {\"train_binary_classification_cross_entropy_objective\": {\"sum\": 0.13756914613723756, \"count\": 1, \"min\": 0.13756914613723756, \"max\": 0.13756914613723756}}}\u001b[0m\n",
      "\u001b[34m#metrics {\"StartTime\": 1733968099.7340739, \"EndTime\": 1733968099.7340817, \"Dimensions\": {\"Algorithm\": \"Linear Learner\", \"Host\": \"algo-1\", \"Operation\": \"training\", \"epoch\": 11, \"model\": 24}, \"Metrics\": {\"train_binary_classification_cross_entropy_objective\": {\"sum\": 0.3064022551727295, \"count\": 1, \"min\": 0.3064022551727295, \"max\": 0.3064022551727295}}}\u001b[0m\n",
      "\u001b[34m#metrics {\"StartTime\": 1733968099.7341092, \"EndTime\": 1733968099.7341168, \"Dimensions\": {\"Algorithm\": \"Linear Learner\", \"Host\": \"algo-1\", \"Operation\": \"training\", \"epoch\": 11, \"model\": 25}, \"Metrics\": {\"train_binary_classification_cross_entropy_objective\": {\"sum\": 0.30665448234558107, \"count\": 1, \"min\": 0.30665448234558107, \"max\": 0.30665448234558107}}}\u001b[0m\n",
      "\u001b[34m#metrics {\"StartTime\": 1733968099.7341435, \"EndTime\": 1733968099.7341511, \"Dimensions\": {\"Algorithm\": \"Linear Learner\", \"Host\": \"algo-1\", \"Operation\": \"training\", \"epoch\": 11, \"model\": 26}, \"Metrics\": {\"train_binary_classification_cross_entropy_objective\": {\"sum\": 0.30640547256469725, \"count\": 1, \"min\": 0.30640547256469725, \"max\": 0.30640547256469725}}}\u001b[0m\n",
      "\u001b[34m#metrics {\"StartTime\": 1733968099.7341776, \"EndTime\": 1733968099.7341855, \"Dimensions\": {\"Algorithm\": \"Linear Learner\", \"Host\": \"algo-1\", \"Operation\": \"training\", \"epoch\": 11, \"model\": 27}, \"Metrics\": {\"train_binary_classification_cross_entropy_objective\": {\"sum\": 0.30665046844482424, \"count\": 1, \"min\": 0.30665046844482424, \"max\": 0.30665046844482424}}}\u001b[0m\n",
      "\u001b[34m#metrics {\"StartTime\": 1733968099.7342117, \"EndTime\": 1733968099.7342203, \"Dimensions\": {\"Algorithm\": \"Linear Learner\", \"Host\": \"algo-1\", \"Operation\": \"training\", \"epoch\": 11, \"model\": 28}, \"Metrics\": {\"train_binary_classification_cross_entropy_objective\": {\"sum\": 0.3066986587524414, \"count\": 1, \"min\": 0.3066986587524414, \"max\": 0.3066986587524414}}}\u001b[0m\n",
      "\u001b[34m#metrics {\"StartTime\": 1733968099.7342474, \"EndTime\": 1733968099.7342553, \"Dimensions\": {\"Algorithm\": \"Linear Learner\", \"Host\": \"algo-1\", \"Operation\": \"training\", \"epoch\": 11, \"model\": 29}, \"Metrics\": {\"train_binary_classification_cross_entropy_objective\": {\"sum\": 0.31038862243652343, \"count\": 1, \"min\": 0.31038862243652343, \"max\": 0.31038862243652343}}}\u001b[0m\n",
      "\u001b[34m#metrics {\"StartTime\": 1733968099.7342825, \"EndTime\": 1733968099.7342904, \"Dimensions\": {\"Algorithm\": \"Linear Learner\", \"Host\": \"algo-1\", \"Operation\": \"training\", \"epoch\": 11, \"model\": 30}, \"Metrics\": {\"train_binary_classification_cross_entropy_objective\": {\"sum\": 0.30672221542358397, \"count\": 1, \"min\": 0.30672221542358397, \"max\": 0.30672221542358397}}}\u001b[0m\n",
      "\u001b[34m#metrics {\"StartTime\": 1733968099.7343173, \"EndTime\": 1733968099.7343256, \"Dimensions\": {\"Algorithm\": \"Linear Learner\", \"Host\": \"algo-1\", \"Operation\": \"training\", \"epoch\": 11, \"model\": 31}, \"Metrics\": {\"train_binary_classification_cross_entropy_objective\": {\"sum\": 0.31034557342529295, \"count\": 1, \"min\": 0.31034557342529295, \"max\": 0.31034557342529295}}}\u001b[0m\n",
      "\u001b[34m[12/12/2024 01:48:19 INFO 140422536124224] #quality_metric: host=algo-1, epoch=11, train binary_classification_cross_entropy_objective <loss>=0.023728811749219893\u001b[0m\n",
      "\u001b[34m[12/12/2024 01:48:19 INFO 140422536124224] #early_stopping_criteria_metric: host=algo-1, epoch=11, criteria=binary_classification_cross_entropy_objective, value=0.02364126256108284\u001b[0m\n",
      "\u001b[34m[12/12/2024 01:48:19 INFO 140422536124224] Epoch 11: Loss improved. Updating best model\u001b[0m\n",
      "\u001b[34m[12/12/2024 01:48:19 INFO 140422536124224] Saving model for epoch: 11\u001b[0m\n",
      "\u001b[34m[12/12/2024 01:48:19 INFO 140422536124224] Saved checkpoint to \"/tmp/tmpbs2mg0s2/mx-mod-0000.params\"\u001b[0m\n",
      "\u001b[34m[12/12/2024 01:48:19 INFO 140422536124224] #progress_metric: host=algo-1, completed 80.0 % of epochs\u001b[0m\n",
      "\u001b[34m#metrics {\"StartTime\": 1733968095.067354, \"EndTime\": 1733968099.7401402, \"Dimensions\": {\"Algorithm\": \"Linear Learner\", \"Host\": \"algo-1\", \"Operation\": \"training\", \"epoch\": 11, \"Meta\": \"training_data_iter\"}, \"Metrics\": {\"Total Records Seen\": {\"sum\": 610400.0, \"count\": 1, \"min\": 610400, \"max\": 610400}, \"Total Batches Seen\": {\"sum\": 3052.0, \"count\": 1, \"min\": 3052, \"max\": 3052}, \"Max Records Seen Between Resets\": {\"sum\": 50000.0, \"count\": 1, \"min\": 50000, \"max\": 50000}, \"Max Batches Seen Between Resets\": {\"sum\": 250.0, \"count\": 1, \"min\": 250, \"max\": 250}, \"Reset Count\": {\"sum\": 14.0, \"count\": 1, \"min\": 14, \"max\": 14}, \"Number of Records Since Last Reset\": {\"sum\": 50000.0, \"count\": 1, \"min\": 50000, \"max\": 50000}, \"Number of Batches Since Last Reset\": {\"sum\": 250.0, \"count\": 1, \"min\": 250, \"max\": 250}}}\u001b[0m\n",
      "\u001b[34m[12/12/2024 01:48:19 INFO 140422536124224] #throughput_metric: host=algo-1, train throughput=10699.970193278376 records/second\u001b[0m\n",
      "\u001b[34m[2024-12-12 01:48:24.315] [tensorio] [info] epoch_stats={\"data_pipeline\": \"/opt/ml/input/data/train\", \"epoch\": 27, \"duration\": 4574, \"num_examples\": 250, \"num_bytes\": 159200000}\u001b[0m\n",
      "\u001b[34m#metrics {\"StartTime\": 1733968104.315293, \"EndTime\": 1733968104.3159523, \"Dimensions\": {\"Algorithm\": \"Linear Learner\", \"Host\": \"algo-1\", \"Operation\": \"training\", \"epoch\": 12, \"model\": 0}, \"Metrics\": {\"train_binary_classification_cross_entropy_objective\": {\"sum\": 0.023549256660342216, \"count\": 1, \"min\": 0.023549256660342216, \"max\": 0.023549256660342216}}}\u001b[0m\n",
      "\u001b[34m#metrics {\"StartTime\": 1733968104.3160312, \"EndTime\": 1733968104.3160434, \"Dimensions\": {\"Algorithm\": \"Linear Learner\", \"Host\": \"algo-1\", \"Operation\": \"training\", \"epoch\": 12, \"model\": 1}, \"Metrics\": {\"train_binary_classification_cross_entropy_objective\": {\"sum\": 0.024035938788056373, \"count\": 1, \"min\": 0.024035938788056373, \"max\": 0.024035938788056373}}}\u001b[0m\n",
      "\u001b[34m#metrics {\"StartTime\": 1733968104.3160756, \"EndTime\": 1733968104.3160841, \"Dimensions\": {\"Algorithm\": \"Linear Learner\", \"Host\": \"algo-1\", \"Operation\": \"training\", \"epoch\": 12, \"model\": 2}, \"Metrics\": {\"train_binary_classification_cross_entropy_objective\": {\"sum\": 0.023461840275526048, \"count\": 1, \"min\": 0.023461840275526048, \"max\": 0.023461840275526048}}}\u001b[0m\n",
      "\u001b[34m#metrics {\"StartTime\": 1733968104.3161082, \"EndTime\": 1733968104.3161151, \"Dimensions\": {\"Algorithm\": \"Linear Learner\", \"Host\": \"algo-1\", \"Operation\": \"training\", \"epoch\": 12, \"model\": 3}, \"Metrics\": {\"train_binary_classification_cross_entropy_objective\": {\"sum\": 0.024036190090179443, \"count\": 1, \"min\": 0.024036190090179443, \"max\": 0.024036190090179443}}}\u001b[0m\n",
      "\u001b[34m#metrics {\"StartTime\": 1733968104.3161397, \"EndTime\": 1733968104.3161476, \"Dimensions\": {\"Algorithm\": \"Linear Learner\", \"Host\": \"algo-1\", \"Operation\": \"training\", \"epoch\": 12, \"model\": 4}, \"Metrics\": {\"train_binary_classification_cross_entropy_objective\": {\"sum\": 0.02628304170491174, \"count\": 1, \"min\": 0.02628304170491174, \"max\": 0.02628304170491174}}}\u001b[0m\n",
      "\u001b[34m#metrics {\"StartTime\": 1733968104.3161943, \"EndTime\": 1733968104.3162038, \"Dimensions\": {\"Algorithm\": \"Linear Learner\", \"Host\": \"algo-1\", \"Operation\": \"training\", \"epoch\": 12, \"model\": 5}, \"Metrics\": {\"train_binary_classification_cross_entropy_objective\": {\"sum\": 0.11752182728101587, \"count\": 1, \"min\": 0.11752182728101587, \"max\": 0.11752182728101587}}}\u001b[0m\n",
      "\u001b[34m#metrics {\"StartTime\": 1733968104.31623, \"EndTime\": 1733968104.316236, \"Dimensions\": {\"Algorithm\": \"Linear Learner\", \"Host\": \"algo-1\", \"Operation\": \"training\", \"epoch\": 12, \"model\": 6}, \"Metrics\": {\"train_binary_classification_cross_entropy_objective\": {\"sum\": 0.02642268075523898, \"count\": 1, \"min\": 0.02642268075523898, \"max\": 0.02642268075523898}}}\u001b[0m\n",
      "\u001b[34m#metrics {\"StartTime\": 1733968104.3162513, \"EndTime\": 1733968104.3162565, \"Dimensions\": {\"Algorithm\": \"Linear Learner\", \"Host\": \"algo-1\", \"Operation\": \"training\", \"epoch\": 12, \"model\": 7}, \"Metrics\": {\"train_binary_classification_cross_entropy_objective\": {\"sum\": 0.10101923471219619, \"count\": 1, \"min\": 0.10101923471219619, \"max\": 0.10101923471219619}}}\u001b[0m\n",
      "\u001b[34m#metrics {\"StartTime\": 1733968104.3162823, \"EndTime\": 1733968104.31629, \"Dimensions\": {\"Algorithm\": \"Linear Learner\", \"Host\": \"algo-1\", \"Operation\": \"training\", \"epoch\": 12, \"model\": 8}, \"Metrics\": {\"train_binary_classification_cross_entropy_objective\": {\"sum\": 0.028226007764339447, \"count\": 1, \"min\": 0.028226007764339447, \"max\": 0.028226007764339447}}}\u001b[0m\n",
      "\u001b[34m#metrics {\"StartTime\": 1733968104.3163095, \"EndTime\": 1733968104.3163145, \"Dimensions\": {\"Algorithm\": \"Linear Learner\", \"Host\": \"algo-1\", \"Operation\": \"training\", \"epoch\": 12, \"model\": 9}, \"Metrics\": {\"train_binary_classification_cross_entropy_objective\": {\"sum\": 0.030666470627784728, \"count\": 1, \"min\": 0.030666470627784728, \"max\": 0.030666470627784728}}}\u001b[0m\n",
      "\u001b[34m#metrics {\"StartTime\": 1733968104.3163316, \"EndTime\": 1733968104.3163378, \"Dimensions\": {\"Algorithm\": \"Linear Learner\", \"Host\": \"algo-1\", \"Operation\": \"training\", \"epoch\": 12, \"model\": 10}, \"Metrics\": {\"train_binary_classification_cross_entropy_objective\": {\"sum\": 0.028217674347162245, \"count\": 1, \"min\": 0.028217674347162245, \"max\": 0.028217674347162245}}}\u001b[0m\n",
      "\u001b[34m#metrics {\"StartTime\": 1733968104.3163629, \"EndTime\": 1733968104.3163698, \"Dimensions\": {\"Algorithm\": \"Linear Learner\", \"Host\": \"algo-1\", \"Operation\": \"training\", \"epoch\": 12, \"model\": 11}, \"Metrics\": {\"train_binary_classification_cross_entropy_objective\": {\"sum\": 0.03065296498775482, \"count\": 1, \"min\": 0.03065296498775482, \"max\": 0.03065296498775482}}}\u001b[0m\n",
      "\u001b[34m#metrics {\"StartTime\": 1733968104.3163917, \"EndTime\": 1733968104.316399, \"Dimensions\": {\"Algorithm\": \"Linear Learner\", \"Host\": \"algo-1\", \"Operation\": \"training\", \"epoch\": 12, \"model\": 12}, \"Metrics\": {\"train_binary_classification_cross_entropy_objective\": {\"sum\": 0.0309925137090683, \"count\": 1, \"min\": 0.0309925137090683, \"max\": 0.0309925137090683}}}\u001b[0m\n",
      "\u001b[34m#metrics {\"StartTime\": 1733968104.316421, \"EndTime\": 1733968104.316429, \"Dimensions\": {\"Algorithm\": \"Linear Learner\", \"Host\": \"algo-1\", \"Operation\": \"training\", \"epoch\": 12, \"model\": 13}, \"Metrics\": {\"train_binary_classification_cross_entropy_objective\": {\"sum\": 0.09907626544862985, \"count\": 1, \"min\": 0.09907626544862985, \"max\": 0.09907626544862985}}}\u001b[0m\n",
      "\u001b[34m#metrics {\"StartTime\": 1733968104.3164558, \"EndTime\": 1733968104.3164637, \"Dimensions\": {\"Algorithm\": \"Linear Learner\", \"Host\": \"algo-1\", \"Operation\": \"training\", \"epoch\": 12, \"model\": 14}, \"Metrics\": {\"train_binary_classification_cross_entropy_objective\": {\"sum\": 0.030985277664661408, \"count\": 1, \"min\": 0.030985277664661408, \"max\": 0.030985277664661408}}}\u001b[0m\n",
      "\u001b[34m#metrics {\"StartTime\": 1733968104.3164923, \"EndTime\": 1733968104.3165004, \"Dimensions\": {\"Algorithm\": \"Linear Learner\", \"Host\": \"algo-1\", \"Operation\": \"training\", \"epoch\": 12, \"model\": 15}, \"Metrics\": {\"train_binary_classification_cross_entropy_objective\": {\"sum\": 0.1074360440479964, \"count\": 1, \"min\": 0.1074360440479964, \"max\": 0.1074360440479964}}}\u001b[0m\n",
      "\u001b[34m#metrics {\"StartTime\": 1733968104.3165243, \"EndTime\": 1733968104.3165295, \"Dimensions\": {\"Algorithm\": \"Linear Learner\", \"Host\": \"algo-1\", \"Operation\": \"training\", \"epoch\": 12, \"model\": 16}, \"Metrics\": {\"train_binary_classification_cross_entropy_objective\": {\"sum\": 0.10639108991622925, \"count\": 1, \"min\": 0.10639108991622925, \"max\": 0.10639108991622925}}}\u001b[0m\n",
      "\u001b[34m#metrics {\"StartTime\": 1733968104.3165445, \"EndTime\": 1733968104.316549, \"Dimensions\": {\"Algorithm\": \"Linear Learner\", \"Host\": \"algo-1\", \"Operation\": \"training\", \"epoch\": 12, \"model\": 17}, \"Metrics\": {\"train_binary_classification_cross_entropy_objective\": {\"sum\": 0.10839509922027588, \"count\": 1, \"min\": 0.10839509922027588, \"max\": 0.10839509922027588}}}\u001b[0m\n",
      "\u001b[34m#metrics {\"StartTime\": 1733968104.3165634, \"EndTime\": 1733968104.316568, \"Dimensions\": {\"Algorithm\": \"Linear Learner\", \"Host\": \"algo-1\", \"Operation\": \"training\", \"epoch\": 12, \"model\": 18}, \"Metrics\": {\"train_binary_classification_cross_entropy_objective\": {\"sum\": 0.10639124071121216, \"count\": 1, \"min\": 0.10639124071121216, \"max\": 0.10639124071121216}}}\u001b[0m\n",
      "\u001b[34m#metrics {\"StartTime\": 1733968104.3165822, \"EndTime\": 1733968104.3165867, \"Dimensions\": {\"Algorithm\": \"Linear Learner\", \"Host\": \"algo-1\", \"Operation\": \"training\", \"epoch\": 12, \"model\": 19}, \"Metrics\": {\"train_binary_classification_cross_entropy_objective\": {\"sum\": 0.10839475952148438, \"count\": 1, \"min\": 0.10839475952148438, \"max\": 0.10839475952148438}}}\u001b[0m\n",
      "\u001b[34m#metrics {\"StartTime\": 1733968104.3166146, \"EndTime\": 1733968104.3166223, \"Dimensions\": {\"Algorithm\": \"Linear Learner\", \"Host\": \"algo-1\", \"Operation\": \"training\", \"epoch\": 12, \"model\": 20}, \"Metrics\": {\"train_binary_classification_cross_entropy_objective\": {\"sum\": 0.10846756483078003, \"count\": 1, \"min\": 0.10846756483078003, \"max\": 0.10846756483078003}}}\u001b[0m\n",
      "\u001b[34m#metrics {\"StartTime\": 1733968104.3166487, \"EndTime\": 1733968104.3166568, \"Dimensions\": {\"Algorithm\": \"Linear Learner\", \"Host\": \"algo-1\", \"Operation\": \"training\", \"epoch\": 12, \"model\": 21}, \"Metrics\": {\"train_binary_classification_cross_entropy_objective\": {\"sum\": 0.13578201528549194, \"count\": 1, \"min\": 0.13578201528549194, \"max\": 0.13578201528549194}}}\u001b[0m\n",
      "\u001b[34m#metrics {\"StartTime\": 1733968104.3166788, \"EndTime\": 1733968104.3166869, \"Dimensions\": {\"Algorithm\": \"Linear Learner\", \"Host\": \"algo-1\", \"Operation\": \"training\", \"epoch\": 12, \"model\": 22}, \"Metrics\": {\"train_binary_classification_cross_entropy_objective\": {\"sum\": 0.10846618246078492, \"count\": 1, \"min\": 0.10846618246078492, \"max\": 0.10846618246078492}}}\u001b[0m\n",
      "\u001b[34m#metrics {\"StartTime\": 1733968104.3167095, \"EndTime\": 1733968104.3167176, \"Dimensions\": {\"Algorithm\": \"Linear Learner\", \"Host\": \"algo-1\", \"Operation\": \"training\", \"epoch\": 12, \"model\": 23}, \"Metrics\": {\"train_binary_classification_cross_entropy_objective\": {\"sum\": 0.13578577339172362, \"count\": 1, \"min\": 0.13578577339172362, \"max\": 0.13578577339172362}}}\u001b[0m\n",
      "\u001b[34m#metrics {\"StartTime\": 1733968104.3167467, \"EndTime\": 1733968104.3167555, \"Dimensions\": {\"Algorithm\": \"Linear Learner\", \"Host\": \"algo-1\", \"Operation\": \"training\", \"epoch\": 12, \"model\": 24}, \"Metrics\": {\"train_binary_classification_cross_entropy_objective\": {\"sum\": 0.30641328086853026, \"count\": 1, \"min\": 0.30641328086853026, \"max\": 0.30641328086853026}}}\u001b[0m\n",
      "\u001b[34m#metrics {\"StartTime\": 1733968104.3167796, \"EndTime\": 1733968104.316788, \"Dimensions\": {\"Algorithm\": \"Linear Learner\", \"Host\": \"algo-1\", \"Operation\": \"training\", \"epoch\": 12, \"model\": 25}, \"Metrics\": {\"train_binary_classification_cross_entropy_objective\": {\"sum\": 0.30666125007629397, \"count\": 1, \"min\": 0.30666125007629397, \"max\": 0.30666125007629397}}}\u001b[0m\n",
      "\u001b[34m#metrics {\"StartTime\": 1733968104.3168113, \"EndTime\": 1733968104.31682, \"Dimensions\": {\"Algorithm\": \"Linear Learner\", \"Host\": \"algo-1\", \"Operation\": \"training\", \"epoch\": 12, \"model\": 26}, \"Metrics\": {\"train_binary_classification_cross_entropy_objective\": {\"sum\": 0.3064160470581055, \"count\": 1, \"min\": 0.3064160470581055, \"max\": 0.3064160470581055}}}\u001b[0m\n",
      "\u001b[34m#metrics {\"StartTime\": 1733968104.3168433, \"EndTime\": 1733968104.3168507, \"Dimensions\": {\"Algorithm\": \"Linear Learner\", \"Host\": \"algo-1\", \"Operation\": \"training\", \"epoch\": 12, \"model\": 27}, \"Metrics\": {\"train_binary_classification_cross_entropy_objective\": {\"sum\": 0.30665993957519533, \"count\": 1, \"min\": 0.30665993957519533, \"max\": 0.30665993957519533}}}\u001b[0m\n",
      "\u001b[34m#metrics {\"StartTime\": 1733968104.3168805, \"EndTime\": 1733968104.3168893, \"Dimensions\": {\"Algorithm\": \"Linear Learner\", \"Host\": \"algo-1\", \"Operation\": \"training\", \"epoch\": 12, \"model\": 28}, \"Metrics\": {\"train_binary_classification_cross_entropy_objective\": {\"sum\": 0.30668489517211917, \"count\": 1, \"min\": 0.30668489517211917, \"max\": 0.30668489517211917}}}\u001b[0m\n",
      "\u001b[34m#metrics {\"StartTime\": 1733968104.316912, \"EndTime\": 1733968104.3169203, \"Dimensions\": {\"Algorithm\": \"Linear Learner\", \"Host\": \"algo-1\", \"Operation\": \"training\", \"epoch\": 12, \"model\": 29}, \"Metrics\": {\"train_binary_classification_cross_entropy_objective\": {\"sum\": 0.3111329860687256, \"count\": 1, \"min\": 0.3111329860687256, \"max\": 0.3111329860687256}}}\u001b[0m\n",
      "\u001b[34m#metrics {\"StartTime\": 1733968104.3169425, \"EndTime\": 1733968104.3169491, \"Dimensions\": {\"Algorithm\": \"Linear Learner\", \"Host\": \"algo-1\", \"Operation\": \"training\", \"epoch\": 12, \"model\": 30}, \"Metrics\": {\"train_binary_classification_cross_entropy_objective\": {\"sum\": 0.3067019535064697, \"count\": 1, \"min\": 0.3067019535064697, \"max\": 0.3067019535064697}}}\u001b[0m\n",
      "\u001b[34m#metrics {\"StartTime\": 1733968104.3169718, \"EndTime\": 1733968104.316979, \"Dimensions\": {\"Algorithm\": \"Linear Learner\", \"Host\": \"algo-1\", \"Operation\": \"training\", \"epoch\": 12, \"model\": 31}, \"Metrics\": {\"train_binary_classification_cross_entropy_objective\": {\"sum\": 0.3107213582611084, \"count\": 1, \"min\": 0.3107213582611084, \"max\": 0.3107213582611084}}}\u001b[0m\n",
      "\u001b[34m[12/12/2024 01:48:24 INFO 140422536124224] #quality_metric: host=algo-1, epoch=12, train binary_classification_cross_entropy_objective <loss>=0.023549256660342216\u001b[0m\n",
      "\u001b[34m[12/12/2024 01:48:24 INFO 140422536124224] #early_stopping_criteria_metric: host=algo-1, epoch=12, criteria=binary_classification_cross_entropy_objective, value=0.023461840275526048\u001b[0m\n",
      "\u001b[34m[12/12/2024 01:48:24 INFO 140422536124224] Epoch 12: Loss improved. Updating best model\u001b[0m\n",
      "\u001b[34m[12/12/2024 01:48:24 INFO 140422536124224] Saving model for epoch: 12\u001b[0m\n",
      "\u001b[34m[12/12/2024 01:48:24 INFO 140422536124224] Saved checkpoint to \"/tmp/tmpce4nvptb/mx-mod-0000.params\"\u001b[0m\n",
      "\u001b[34m[12/12/2024 01:48:24 INFO 140422536124224] #progress_metric: host=algo-1, completed 86.66666666666667 % of epochs\u001b[0m\n",
      "\u001b[34m#metrics {\"StartTime\": 1733968099.7403905, \"EndTime\": 1733968104.323308, \"Dimensions\": {\"Algorithm\": \"Linear Learner\", \"Host\": \"algo-1\", \"Operation\": \"training\", \"epoch\": 12, \"Meta\": \"training_data_iter\"}, \"Metrics\": {\"Total Records Seen\": {\"sum\": 660400.0, \"count\": 1, \"min\": 660400, \"max\": 660400}, \"Total Batches Seen\": {\"sum\": 3302.0, \"count\": 1, \"min\": 3302, \"max\": 3302}, \"Max Records Seen Between Resets\": {\"sum\": 50000.0, \"count\": 1, \"min\": 50000, \"max\": 50000}, \"Max Batches Seen Between Resets\": {\"sum\": 250.0, \"count\": 1, \"min\": 250, \"max\": 250}, \"Reset Count\": {\"sum\": 15.0, \"count\": 1, \"min\": 15, \"max\": 15}, \"Number of Records Since Last Reset\": {\"sum\": 50000.0, \"count\": 1, \"min\": 50000, \"max\": 50000}, \"Number of Batches Since Last Reset\": {\"sum\": 250.0, \"count\": 1, \"min\": 250, \"max\": 250}}}\u001b[0m\n",
      "\u001b[34m[12/12/2024 01:48:24 INFO 140422536124224] #throughput_metric: host=algo-1, train throughput=10909.870865519759 records/second\u001b[0m\n",
      "\n",
      "2024-12-12 01:48:36 Uploading - Uploading generated training model\u001b[34m[2024-12-12 01:48:28.897] [tensorio] [info] epoch_stats={\"data_pipeline\": \"/opt/ml/input/data/train\", \"epoch\": 29, \"duration\": 4572, \"num_examples\": 250, \"num_bytes\": 159200000}\u001b[0m\n",
      "\u001b[34m#metrics {\"StartTime\": 1733968108.897061, \"EndTime\": 1733968108.8972785, \"Dimensions\": {\"Algorithm\": \"Linear Learner\", \"Host\": \"algo-1\", \"Operation\": \"training\", \"epoch\": 13, \"model\": 0}, \"Metrics\": {\"train_binary_classification_cross_entropy_objective\": {\"sum\": 0.023406916101574898, \"count\": 1, \"min\": 0.023406916101574898, \"max\": 0.023406916101574898}}}\u001b[0m\n",
      "\u001b[34m#metrics {\"StartTime\": 1733968108.8973472, \"EndTime\": 1733968108.8973603, \"Dimensions\": {\"Algorithm\": \"Linear Learner\", \"Host\": \"algo-1\", \"Operation\": \"training\", \"epoch\": 13, \"model\": 1}, \"Metrics\": {\"train_binary_classification_cross_entropy_objective\": {\"sum\": 0.023864012894630433, \"count\": 1, \"min\": 0.023864012894630433, \"max\": 0.023864012894630433}}}\u001b[0m\n",
      "\u001b[34m#metrics {\"StartTime\": 1733968108.8973951, \"EndTime\": 1733968108.8974037, \"Dimensions\": {\"Algorithm\": \"Linear Learner\", \"Host\": \"algo-1\", \"Operation\": \"training\", \"epoch\": 13, \"model\": 2}, \"Metrics\": {\"train_binary_classification_cross_entropy_objective\": {\"sum\": 0.023319725594520568, \"count\": 1, \"min\": 0.023319725594520568, \"max\": 0.023319725594520568}}}\u001b[0m\n",
      "\u001b[34m#metrics {\"StartTime\": 1733968108.8974326, \"EndTime\": 1733968108.897441, \"Dimensions\": {\"Algorithm\": \"Linear Learner\", \"Host\": \"algo-1\", \"Operation\": \"training\", \"epoch\": 13, \"model\": 3}, \"Metrics\": {\"train_binary_classification_cross_entropy_objective\": {\"sum\": 0.023862272922992707, \"count\": 1, \"min\": 0.023862272922992707, \"max\": 0.023862272922992707}}}\u001b[0m\n",
      "\u001b[34m#metrics {\"StartTime\": 1733968108.897472, \"EndTime\": 1733968108.897482, \"Dimensions\": {\"Algorithm\": \"Linear Learner\", \"Host\": \"algo-1\", \"Operation\": \"training\", \"epoch\": 13, \"model\": 4}, \"Metrics\": {\"train_binary_classification_cross_entropy_objective\": {\"sum\": 0.025128677899949253, \"count\": 1, \"min\": 0.025128677899949253, \"max\": 0.025128677899949253}}}\u001b[0m\n",
      "\u001b[34m#metrics {\"StartTime\": 1733968108.897513, \"EndTime\": 1733968108.8975208, \"Dimensions\": {\"Algorithm\": \"Linear Learner\", \"Host\": \"algo-1\", \"Operation\": \"training\", \"epoch\": 13, \"model\": 5}, \"Metrics\": {\"train_binary_classification_cross_entropy_objective\": {\"sum\": 0.10291287500825169, \"count\": 1, \"min\": 0.10291287500825169, \"max\": 0.10291287500825169}}}\u001b[0m\n",
      "\u001b[34m#metrics {\"StartTime\": 1733968108.8975546, \"EndTime\": 1733968108.8975644, \"Dimensions\": {\"Algorithm\": \"Linear Learner\", \"Host\": \"algo-1\", \"Operation\": \"training\", \"epoch\": 13, \"model\": 6}, \"Metrics\": {\"train_binary_classification_cross_entropy_objective\": {\"sum\": 0.025244278418198228, \"count\": 1, \"min\": 0.025244278418198228, \"max\": 0.025244278418198228}}}\u001b[0m\n",
      "\u001b[34m#metrics {\"StartTime\": 1733968108.8975883, \"EndTime\": 1733968108.8975961, \"Dimensions\": {\"Algorithm\": \"Linear Learner\", \"Host\": \"algo-1\", \"Operation\": \"training\", \"epoch\": 13, \"model\": 7}, \"Metrics\": {\"train_binary_classification_cross_entropy_objective\": {\"sum\": 0.1030205462050475, \"count\": 1, \"min\": 0.1030205462050475, \"max\": 0.1030205462050475}}}\u001b[0m\n",
      "\u001b[34m#metrics {\"StartTime\": 1733968108.8976235, \"EndTime\": 1733968108.8976312, \"Dimensions\": {\"Algorithm\": \"Linear Learner\", \"Host\": \"algo-1\", \"Operation\": \"training\", \"epoch\": 13, \"model\": 8}, \"Metrics\": {\"train_binary_classification_cross_entropy_objective\": {\"sum\": 0.028131307857036592, \"count\": 1, \"min\": 0.028131307857036592, \"max\": 0.028131307857036592}}}\u001b[0m\n",
      "\u001b[34m#metrics {\"StartTime\": 1733968108.897663, \"EndTime\": 1733968108.8976722, \"Dimensions\": {\"Algorithm\": \"Linear Learner\", \"Host\": \"algo-1\", \"Operation\": \"training\", \"epoch\": 13, \"model\": 9}, \"Metrics\": {\"train_binary_classification_cross_entropy_objective\": {\"sum\": 0.03080367552280426, \"count\": 1, \"min\": 0.03080367552280426, \"max\": 0.03080367552280426}}}\u001b[0m\n",
      "\u001b[34m#metrics {\"StartTime\": 1733968108.897695, \"EndTime\": 1733968108.8977032, \"Dimensions\": {\"Algorithm\": \"Linear Learner\", \"Host\": \"algo-1\", \"Operation\": \"training\", \"epoch\": 13, \"model\": 10}, \"Metrics\": {\"train_binary_classification_cross_entropy_objective\": {\"sum\": 0.028123373551368715, \"count\": 1, \"min\": 0.028123373551368715, \"max\": 0.028123373551368715}}}\u001b[0m\n",
      "\u001b[34m#metrics {\"StartTime\": 1733968108.8977323, \"EndTime\": 1733968108.8977406, \"Dimensions\": {\"Algorithm\": \"Linear Learner\", \"Host\": \"algo-1\", \"Operation\": \"training\", \"epoch\": 13, \"model\": 11}, \"Metrics\": {\"train_binary_classification_cross_entropy_objective\": {\"sum\": 0.03052022264957428, \"count\": 1, \"min\": 0.03052022264957428, \"max\": 0.03052022264957428}}}\u001b[0m\n",
      "\u001b[34m#metrics {\"StartTime\": 1733968108.8977706, \"EndTime\": 1733968108.8977792, \"Dimensions\": {\"Algorithm\": \"Linear Learner\", \"Host\": \"algo-1\", \"Operation\": \"training\", \"epoch\": 13, \"model\": 12}, \"Metrics\": {\"train_binary_classification_cross_entropy_objective\": {\"sum\": 0.03035607159614563, \"count\": 1, \"min\": 0.03035607159614563, \"max\": 0.03035607159614563}}}\u001b[0m\n",
      "\u001b[34m#metrics {\"StartTime\": 1733968108.8978124, \"EndTime\": 1733968108.8978212, \"Dimensions\": {\"Algorithm\": \"Linear Learner\", \"Host\": \"algo-1\", \"Operation\": \"training\", \"epoch\": 13, \"model\": 13}, \"Metrics\": {\"train_binary_classification_cross_entropy_objective\": {\"sum\": 0.10051314721848816, \"count\": 1, \"min\": 0.10051314721848816, \"max\": 0.10051314721848816}}}\u001b[0m\n",
      "\u001b[34m#metrics {\"StartTime\": 1733968108.8983474, \"EndTime\": 1733968108.8983586, \"Dimensions\": {\"Algorithm\": \"Linear Learner\", \"Host\": \"algo-1\", \"Operation\": \"training\", \"epoch\": 13, \"model\": 14}, \"Metrics\": {\"train_binary_classification_cross_entropy_objective\": {\"sum\": 0.0304171821641922, \"count\": 1, \"min\": 0.0304171821641922, \"max\": 0.0304171821641922}}}\u001b[0m\n",
      "\u001b[34m#metrics {\"StartTime\": 1733968108.8983915, \"EndTime\": 1733968108.8984, \"Dimensions\": {\"Algorithm\": \"Linear Learner\", \"Host\": \"algo-1\", \"Operation\": \"training\", \"epoch\": 13, \"model\": 15}, \"Metrics\": {\"train_binary_classification_cross_entropy_objective\": {\"sum\": 0.10374782715409994, \"count\": 1, \"min\": 0.10374782715409994, \"max\": 0.10374782715409994}}}\u001b[0m\n",
      "\u001b[34m#metrics {\"StartTime\": 1733968108.8984284, \"EndTime\": 1733968108.8984373, \"Dimensions\": {\"Algorithm\": \"Linear Learner\", \"Host\": \"algo-1\", \"Operation\": \"training\", \"epoch\": 13, \"model\": 16}, \"Metrics\": {\"train_binary_classification_cross_entropy_objective\": {\"sum\": 0.10635879182815552, \"count\": 1, \"min\": 0.10635879182815552, \"max\": 0.10635879182815552}}}\u001b[0m\n",
      "\u001b[34m#metrics {\"StartTime\": 1733968108.8984601, \"EndTime\": 1733968108.898468, \"Dimensions\": {\"Algorithm\": \"Linear Learner\", \"Host\": \"algo-1\", \"Operation\": \"training\", \"epoch\": 13, \"model\": 17}, \"Metrics\": {\"train_binary_classification_cross_entropy_objective\": {\"sum\": 0.10838126710891724, \"count\": 1, \"min\": 0.10838126710891724, \"max\": 0.10838126710891724}}}\u001b[0m\n",
      "\u001b[34m#metrics {\"StartTime\": 1733968108.8984928, \"EndTime\": 1733968108.8985002, \"Dimensions\": {\"Algorithm\": \"Linear Learner\", \"Host\": \"algo-1\", \"Operation\": \"training\", \"epoch\": 13, \"model\": 18}, \"Metrics\": {\"train_binary_classification_cross_entropy_objective\": {\"sum\": 0.10635871921539307, \"count\": 1, \"min\": 0.10635871921539307, \"max\": 0.10635871921539307}}}\u001b[0m\n",
      "\u001b[34m#metrics {\"StartTime\": 1733968108.8985229, \"EndTime\": 1733968108.8985298, \"Dimensions\": {\"Algorithm\": \"Linear Learner\", \"Host\": \"algo-1\", \"Operation\": \"training\", \"epoch\": 13, \"model\": 19}, \"Metrics\": {\"train_binary_classification_cross_entropy_objective\": {\"sum\": 0.10838034988403321, \"count\": 1, \"min\": 0.10838034988403321, \"max\": 0.10838034988403321}}}\u001b[0m\n",
      "\u001b[34m#metrics {\"StartTime\": 1733968108.898553, \"EndTime\": 1733968108.8985608, \"Dimensions\": {\"Algorithm\": \"Linear Learner\", \"Host\": \"algo-1\", \"Operation\": \"training\", \"epoch\": 13, \"model\": 20}, \"Metrics\": {\"train_binary_classification_cross_entropy_objective\": {\"sum\": 0.10815831270217896, \"count\": 1, \"min\": 0.10815831270217896, \"max\": 0.10815831270217896}}}\u001b[0m\n",
      "\u001b[34m#metrics {\"StartTime\": 1733968108.8985863, \"EndTime\": 1733968108.8985944, \"Dimensions\": {\"Algorithm\": \"Linear Learner\", \"Host\": \"algo-1\", \"Operation\": \"training\", \"epoch\": 13, \"model\": 21}, \"Metrics\": {\"train_binary_classification_cross_entropy_objective\": {\"sum\": 0.1346602953529358, \"count\": 1, \"min\": 0.1346602953529358, \"max\": 0.1346602953529358}}}\u001b[0m\n",
      "\u001b[34m#metrics {\"StartTime\": 1733968108.8986244, \"EndTime\": 1733968108.8986328, \"Dimensions\": {\"Algorithm\": \"Linear Learner\", \"Host\": \"algo-1\", \"Operation\": \"training\", \"epoch\": 13, \"model\": 22}, \"Metrics\": {\"train_binary_classification_cross_entropy_objective\": {\"sum\": 0.10815793848037719, \"count\": 1, \"min\": 0.10815793848037719, \"max\": 0.10815793848037719}}}\u001b[0m\n",
      "\u001b[34m#metrics {\"StartTime\": 1733968108.8986578, \"EndTime\": 1733968108.8986654, \"Dimensions\": {\"Algorithm\": \"Linear Learner\", \"Host\": \"algo-1\", \"Operation\": \"training\", \"epoch\": 13, \"model\": 23}, \"Metrics\": {\"train_binary_classification_cross_entropy_objective\": {\"sum\": 0.13472810707092286, \"count\": 1, \"min\": 0.13472810707092286, \"max\": 0.13472810707092286}}}\u001b[0m\n",
      "\u001b[34m#metrics {\"StartTime\": 1733968108.8986905, \"EndTime\": 1733968108.8986983, \"Dimensions\": {\"Algorithm\": \"Linear Learner\", \"Host\": \"algo-1\", \"Operation\": \"training\", \"epoch\": 13, \"model\": 24}, \"Metrics\": {\"train_binary_classification_cross_entropy_objective\": {\"sum\": 0.30642420234680173, \"count\": 1, \"min\": 0.30642420234680173, \"max\": 0.30642420234680173}}}\u001b[0m\n",
      "\u001b[34m#metrics {\"StartTime\": 1733968108.8987243, \"EndTime\": 1733968108.8987322, \"Dimensions\": {\"Algorithm\": \"Linear Learner\", \"Host\": \"algo-1\", \"Operation\": \"training\", \"epoch\": 13, \"model\": 25}, \"Metrics\": {\"train_binary_classification_cross_entropy_objective\": {\"sum\": 0.3066676334381104, \"count\": 1, \"min\": 0.3066676334381104, \"max\": 0.3066676334381104}}}\u001b[0m\n",
      "\u001b[34m#metrics {\"StartTime\": 1733968108.8987598, \"EndTime\": 1733968108.8987677, \"Dimensions\": {\"Algorithm\": \"Linear Learner\", \"Host\": \"algo-1\", \"Operation\": \"training\", \"epoch\": 13, \"model\": 26}, \"Metrics\": {\"train_binary_classification_cross_entropy_objective\": {\"sum\": 0.3064267781829834, \"count\": 1, \"min\": 0.3064267781829834, \"max\": 0.3064267781829834}}}\u001b[0m\n",
      "\u001b[34m#metrics {\"StartTime\": 1733968108.8987932, \"EndTime\": 1733968108.898801, \"Dimensions\": {\"Algorithm\": \"Linear Learner\", \"Host\": \"algo-1\", \"Operation\": \"training\", \"epoch\": 13, \"model\": 27}, \"Metrics\": {\"train_binary_classification_cross_entropy_objective\": {\"sum\": 0.30666849319458006, \"count\": 1, \"min\": 0.30666849319458006, \"max\": 0.30666849319458006}}}\u001b[0m\n",
      "\u001b[34m#metrics {\"StartTime\": 1733968108.8988318, \"EndTime\": 1733968108.8988397, \"Dimensions\": {\"Algorithm\": \"Linear Learner\", \"Host\": \"algo-1\", \"Operation\": \"training\", \"epoch\": 13, \"model\": 28}, \"Metrics\": {\"train_binary_classification_cross_entropy_objective\": {\"sum\": 0.3066397552490234, \"count\": 1, \"min\": 0.3066397552490234, \"max\": 0.3066397552490234}}}\u001b[0m\n",
      "\u001b[34m#metrics {\"StartTime\": 1733968108.8988657, \"EndTime\": 1733968108.8988736, \"Dimensions\": {\"Algorithm\": \"Linear Learner\", \"Host\": \"algo-1\", \"Operation\": \"training\", \"epoch\": 13, \"model\": 29}, \"Metrics\": {\"train_binary_classification_cross_entropy_objective\": {\"sum\": 0.3104842092132568, \"count\": 1, \"min\": 0.3104842092132568, \"max\": 0.3104842092132568}}}\u001b[0m\n",
      "\u001b[34m#metrics {\"StartTime\": 1733968108.8988984, \"EndTime\": 1733968108.8989062, \"Dimensions\": {\"Algorithm\": \"Linear Learner\", \"Host\": \"algo-1\", \"Operation\": \"training\", \"epoch\": 13, \"model\": 30}, \"Metrics\": {\"train_binary_classification_cross_entropy_objective\": {\"sum\": 0.3066470618438721, \"count\": 1, \"min\": 0.3066470618438721, \"max\": 0.3066470618438721}}}\u001b[0m\n",
      "\u001b[34m#metrics {\"StartTime\": 1733968108.898932, \"EndTime\": 1733968108.8989398, \"Dimensions\": {\"Algorithm\": \"Linear Learner\", \"Host\": \"algo-1\", \"Operation\": \"training\", \"epoch\": 13, \"model\": 31}, \"Metrics\": {\"train_binary_classification_cross_entropy_objective\": {\"sum\": 0.31054391120910646, \"count\": 1, \"min\": 0.31054391120910646, \"max\": 0.31054391120910646}}}\u001b[0m\n",
      "\u001b[34m[12/12/2024 01:48:28 INFO 140422536124224] #quality_metric: host=algo-1, epoch=13, train binary_classification_cross_entropy_objective <loss>=0.023406916101574898\u001b[0m\n",
      "\u001b[34m[12/12/2024 01:48:28 INFO 140422536124224] #early_stopping_criteria_metric: host=algo-1, epoch=13, criteria=binary_classification_cross_entropy_objective, value=0.023319725594520568\u001b[0m\n",
      "\u001b[34m[12/12/2024 01:48:28 INFO 140422536124224] Epoch 13: Loss improved. Updating best model\u001b[0m\n",
      "\u001b[34m[12/12/2024 01:48:28 INFO 140422536124224] Saving model for epoch: 13\u001b[0m\n",
      "\u001b[34m[12/12/2024 01:48:28 INFO 140422536124224] Saved checkpoint to \"/tmp/tmp6np6_0ab/mx-mod-0000.params\"\u001b[0m\n",
      "\u001b[34m[12/12/2024 01:48:28 INFO 140422536124224] #progress_metric: host=algo-1, completed 93.33333333333333 % of epochs\u001b[0m\n",
      "\u001b[34m#metrics {\"StartTime\": 1733968104.3242345, \"EndTime\": 1733968108.9050312, \"Dimensions\": {\"Algorithm\": \"Linear Learner\", \"Host\": \"algo-1\", \"Operation\": \"training\", \"epoch\": 13, \"Meta\": \"training_data_iter\"}, \"Metrics\": {\"Total Records Seen\": {\"sum\": 710400.0, \"count\": 1, \"min\": 710400, \"max\": 710400}, \"Total Batches Seen\": {\"sum\": 3552.0, \"count\": 1, \"min\": 3552, \"max\": 3552}, \"Max Records Seen Between Resets\": {\"sum\": 50000.0, \"count\": 1, \"min\": 50000, \"max\": 50000}, \"Max Batches Seen Between Resets\": {\"sum\": 250.0, \"count\": 1, \"min\": 250, \"max\": 250}, \"Reset Count\": {\"sum\": 16.0, \"count\": 1, \"min\": 16, \"max\": 16}, \"Number of Records Since Last Reset\": {\"sum\": 50000.0, \"count\": 1, \"min\": 50000, \"max\": 50000}, \"Number of Batches Since Last Reset\": {\"sum\": 250.0, \"count\": 1, \"min\": 250, \"max\": 250}}}\u001b[0m\n",
      "\u001b[34m[12/12/2024 01:48:28 INFO 140422536124224] #throughput_metric: host=algo-1, train throughput=10914.889239599637 records/second\u001b[0m\n",
      "\u001b[34m[2024-12-12 01:48:33.605] [tensorio] [info] epoch_stats={\"data_pipeline\": \"/opt/ml/input/data/train\", \"epoch\": 31, \"duration\": 4700, \"num_examples\": 250, \"num_bytes\": 159200000}\u001b[0m\n",
      "\u001b[34m#metrics {\"StartTime\": 1733968113.6057246, \"EndTime\": 1733968113.6057844, \"Dimensions\": {\"Algorithm\": \"Linear Learner\", \"Host\": \"algo-1\", \"Operation\": \"training\", \"epoch\": 14, \"model\": 0}, \"Metrics\": {\"train_binary_classification_cross_entropy_objective\": {\"sum\": 0.02329390869140625, \"count\": 1, \"min\": 0.02329390869140625, \"max\": 0.02329390869140625}}}\u001b[0m\n",
      "\u001b[34m#metrics {\"StartTime\": 1733968113.605841, \"EndTime\": 1733968113.6058505, \"Dimensions\": {\"Algorithm\": \"Linear Learner\", \"Host\": \"algo-1\", \"Operation\": \"training\", \"epoch\": 14, \"model\": 1}, \"Metrics\": {\"train_binary_classification_cross_entropy_objective\": {\"sum\": 0.023698881302475928, \"count\": 1, \"min\": 0.023698881302475928, \"max\": 0.023698881302475928}}}\u001b[0m\n",
      "\u001b[34m#metrics {\"StartTime\": 1733968113.6058803, \"EndTime\": 1733968113.6058888, \"Dimensions\": {\"Algorithm\": \"Linear Learner\", \"Host\": \"algo-1\", \"Operation\": \"training\", \"epoch\": 14, \"model\": 2}, \"Metrics\": {\"train_binary_classification_cross_entropy_objective\": {\"sum\": 0.023206966727375985, \"count\": 1, \"min\": 0.023206966727375985, \"max\": 0.023206966727375985}}}\u001b[0m\n",
      "\u001b[34m#metrics {\"StartTime\": 1733968113.605915, \"EndTime\": 1733968113.6059222, \"Dimensions\": {\"Algorithm\": \"Linear Learner\", \"Host\": \"algo-1\", \"Operation\": \"training\", \"epoch\": 14, \"model\": 3}, \"Metrics\": {\"train_binary_classification_cross_entropy_objective\": {\"sum\": 0.023695824701189996, \"count\": 1, \"min\": 0.023695824701189996, \"max\": 0.023695824701189996}}}\u001b[0m\n",
      "\u001b[34m#metrics {\"StartTime\": 1733968113.6059508, \"EndTime\": 1733968113.6059582, \"Dimensions\": {\"Algorithm\": \"Linear Learner\", \"Host\": \"algo-1\", \"Operation\": \"training\", \"epoch\": 14, \"model\": 4}, \"Metrics\": {\"train_binary_classification_cross_entropy_objective\": {\"sum\": 0.024181823436021804, \"count\": 1, \"min\": 0.024181823436021804, \"max\": 0.024181823436021804}}}\u001b[0m\n",
      "\u001b[34m#metrics {\"StartTime\": 1733968113.6059859, \"EndTime\": 1733968113.6059926, \"Dimensions\": {\"Algorithm\": \"Linear Learner\", \"Host\": \"algo-1\", \"Operation\": \"training\", \"epoch\": 14, \"model\": 5}, \"Metrics\": {\"train_binary_classification_cross_entropy_objective\": {\"sum\": 0.10518710236816685, \"count\": 1, \"min\": 0.10518710236816685, \"max\": 0.10518710236816685}}}\u001b[0m\n",
      "\u001b[34m#metrics {\"StartTime\": 1733968113.606021, \"EndTime\": 1733968113.6060283, \"Dimensions\": {\"Algorithm\": \"Linear Learner\", \"Host\": \"algo-1\", \"Operation\": \"training\", \"epoch\": 14, \"model\": 6}, \"Metrics\": {\"train_binary_classification_cross_entropy_objective\": {\"sum\": 0.02428799484997988, \"count\": 1, \"min\": 0.02428799484997988, \"max\": 0.02428799484997988}}}\u001b[0m\n",
      "\u001b[34m#metrics {\"StartTime\": 1733968113.606058, \"EndTime\": 1733968113.606065, \"Dimensions\": {\"Algorithm\": \"Linear Learner\", \"Host\": \"algo-1\", \"Operation\": \"training\", \"epoch\": 14, \"model\": 7}, \"Metrics\": {\"train_binary_classification_cross_entropy_objective\": {\"sum\": 0.11025507721814687, \"count\": 1, \"min\": 0.11025507721814687, \"max\": 0.11025507721814687}}}\u001b[0m\n",
      "\u001b[34m#metrics {\"StartTime\": 1733968113.6060941, \"EndTime\": 1733968113.6061013, \"Dimensions\": {\"Algorithm\": \"Linear Learner\", \"Host\": \"algo-1\", \"Operation\": \"training\", \"epoch\": 14, \"model\": 8}, \"Metrics\": {\"train_binary_classification_cross_entropy_objective\": {\"sum\": 0.02805575300693512, \"count\": 1, \"min\": 0.02805575300693512, \"max\": 0.02805575300693512}}}\u001b[0m\n",
      "\u001b[34m#metrics {\"StartTime\": 1733968113.6061292, \"EndTime\": 1733968113.6061373, \"Dimensions\": {\"Algorithm\": \"Linear Learner\", \"Host\": \"algo-1\", \"Operation\": \"training\", \"epoch\": 14, \"model\": 9}, \"Metrics\": {\"train_binary_classification_cross_entropy_objective\": {\"sum\": 0.03053512310743332, \"count\": 1, \"min\": 0.03053512310743332, \"max\": 0.03053512310743332}}}\u001b[0m\n",
      "\u001b[34m#metrics {\"StartTime\": 1733968113.6061635, \"EndTime\": 1733968113.6061704, \"Dimensions\": {\"Algorithm\": \"Linear Learner\", \"Host\": \"algo-1\", \"Operation\": \"training\", \"epoch\": 14, \"model\": 10}, \"Metrics\": {\"train_binary_classification_cross_entropy_objective\": {\"sum\": 0.028048167794942857, \"count\": 1, \"min\": 0.028048167794942857, \"max\": 0.028048167794942857}}}\u001b[0m\n",
      "\u001b[34m#metrics {\"StartTime\": 1733968113.6062026, \"EndTime\": 1733968113.6062114, \"Dimensions\": {\"Algorithm\": \"Linear Learner\", \"Host\": \"algo-1\", \"Operation\": \"training\", \"epoch\": 14, \"model\": 11}, \"Metrics\": {\"train_binary_classification_cross_entropy_objective\": {\"sum\": 0.0304699545276165, \"count\": 1, \"min\": 0.0304699545276165, \"max\": 0.0304699545276165}}}\u001b[0m\n",
      "\u001b[34m#metrics {\"StartTime\": 1733968113.6062434, \"EndTime\": 1733968113.6062522, \"Dimensions\": {\"Algorithm\": \"Linear Learner\", \"Host\": \"algo-1\", \"Operation\": \"training\", \"epoch\": 14, \"model\": 12}, \"Metrics\": {\"train_binary_classification_cross_entropy_objective\": {\"sum\": 0.02989346876502037, \"count\": 1, \"min\": 0.02989346876502037, \"max\": 0.02989346876502037}}}\u001b[0m\n",
      "\u001b[34m#metrics {\"StartTime\": 1733968113.606282, \"EndTime\": 1733968113.6062899, \"Dimensions\": {\"Algorithm\": \"Linear Learner\", \"Host\": \"algo-1\", \"Operation\": \"training\", \"epoch\": 14, \"model\": 13}, \"Metrics\": {\"train_binary_classification_cross_entropy_objective\": {\"sum\": 0.09403211945846676, \"count\": 1, \"min\": 0.09403211945846676, \"max\": 0.09403211945846676}}}\u001b[0m\n",
      "\u001b[34m#metrics {\"StartTime\": 1733968113.6063156, \"EndTime\": 1733968113.6063242, \"Dimensions\": {\"Algorithm\": \"Linear Learner\", \"Host\": \"algo-1\", \"Operation\": \"training\", \"epoch\": 14, \"model\": 14}, \"Metrics\": {\"train_binary_classification_cross_entropy_objective\": {\"sum\": 0.02995171746611595, \"count\": 1, \"min\": 0.02995171746611595, \"max\": 0.02995171746611595}}}\u001b[0m\n",
      "\u001b[34m#metrics {\"StartTime\": 1733968113.6063528, \"EndTime\": 1733968113.6063614, \"Dimensions\": {\"Algorithm\": \"Linear Learner\", \"Host\": \"algo-1\", \"Operation\": \"training\", \"epoch\": 14, \"model\": 15}, \"Metrics\": {\"train_binary_classification_cross_entropy_objective\": {\"sum\": 0.10114980012528599, \"count\": 1, \"min\": 0.10114980012528599, \"max\": 0.10114980012528599}}}\u001b[0m\n",
      "\u001b[34m#metrics {\"StartTime\": 1733968113.6063905, \"EndTime\": 1733968113.6063986, \"Dimensions\": {\"Algorithm\": \"Linear Learner\", \"Host\": \"algo-1\", \"Operation\": \"training\", \"epoch\": 14, \"model\": 16}, \"Metrics\": {\"train_binary_classification_cross_entropy_objective\": {\"sum\": 0.10633155996322632, \"count\": 1, \"min\": 0.10633155996322632, \"max\": 0.10633155996322632}}}\u001b[0m\n",
      "\u001b[34m#metrics {\"StartTime\": 1733968113.6064296, \"EndTime\": 1733968113.6064382, \"Dimensions\": {\"Algorithm\": \"Linear Learner\", \"Host\": \"algo-1\", \"Operation\": \"training\", \"epoch\": 14, \"model\": 17}, \"Metrics\": {\"train_binary_classification_cross_entropy_objective\": {\"sum\": 0.1083525839805603, \"count\": 1, \"min\": 0.1083525839805603, \"max\": 0.1083525839805603}}}\u001b[0m\n",
      "\u001b[34m#metrics {\"StartTime\": 1733968113.6064675, \"EndTime\": 1733968113.606475, \"Dimensions\": {\"Algorithm\": \"Linear Learner\", \"Host\": \"algo-1\", \"Operation\": \"training\", \"epoch\": 14, \"model\": 18}, \"Metrics\": {\"train_binary_classification_cross_entropy_objective\": {\"sum\": 0.10633151165008545, \"count\": 1, \"min\": 0.10633151165008545, \"max\": 0.10633151165008545}}}\u001b[0m\n",
      "\u001b[34m#metrics {\"StartTime\": 1733968113.6065023, \"EndTime\": 1733968113.6065109, \"Dimensions\": {\"Algorithm\": \"Linear Learner\", \"Host\": \"algo-1\", \"Operation\": \"training\", \"epoch\": 14, \"model\": 19}, \"Metrics\": {\"train_binary_classification_cross_entropy_objective\": {\"sum\": 0.1083516830444336, \"count\": 1, \"min\": 0.1083516830444336, \"max\": 0.1083516830444336}}}\u001b[0m\n",
      "\u001b[34m#metrics {\"StartTime\": 1733968113.6065426, \"EndTime\": 1733968113.6065514, \"Dimensions\": {\"Algorithm\": \"Linear Learner\", \"Host\": \"algo-1\", \"Operation\": \"training\", \"epoch\": 14, \"model\": 20}, \"Metrics\": {\"train_binary_classification_cross_entropy_objective\": {\"sum\": 0.10775000303268432, \"count\": 1, \"min\": 0.10775000303268432, \"max\": 0.10775000303268432}}}\u001b[0m\n",
      "\u001b[34m#metrics {\"StartTime\": 1733968113.6065845, \"EndTime\": 1733968113.6065936, \"Dimensions\": {\"Algorithm\": \"Linear Learner\", \"Host\": \"algo-1\", \"Operation\": \"training\", \"epoch\": 14, \"model\": 21}, \"Metrics\": {\"train_binary_classification_cross_entropy_objective\": {\"sum\": 0.133682815284729, \"count\": 1, \"min\": 0.133682815284729, \"max\": 0.133682815284729}}}\u001b[0m\n",
      "\u001b[34m#metrics {\"StartTime\": 1733968113.6066234, \"EndTime\": 1733968113.6066325, \"Dimensions\": {\"Algorithm\": \"Linear Learner\", \"Host\": \"algo-1\", \"Operation\": \"training\", \"epoch\": 14, \"model\": 22}, \"Metrics\": {\"train_binary_classification_cross_entropy_objective\": {\"sum\": 0.10774965665817261, \"count\": 1, \"min\": 0.10774965665817261, \"max\": 0.10774965665817261}}}\u001b[0m\n",
      "\u001b[34m#metrics {\"StartTime\": 1733968113.6066582, \"EndTime\": 1733968113.6066663, \"Dimensions\": {\"Algorithm\": \"Linear Learner\", \"Host\": \"algo-1\", \"Operation\": \"training\", \"epoch\": 14, \"model\": 23}, \"Metrics\": {\"train_binary_classification_cross_entropy_objective\": {\"sum\": 0.13343427572250366, \"count\": 1, \"min\": 0.13343427572250366, \"max\": 0.13343427572250366}}}\u001b[0m\n",
      "\u001b[34m#metrics {\"StartTime\": 1733968113.6066995, \"EndTime\": 1733968113.606708, \"Dimensions\": {\"Algorithm\": \"Linear Learner\", \"Host\": \"algo-1\", \"Operation\": \"training\", \"epoch\": 14, \"model\": 24}, \"Metrics\": {\"train_binary_classification_cross_entropy_objective\": {\"sum\": 0.306432028427124, \"count\": 1, \"min\": 0.306432028427124, \"max\": 0.306432028427124}}}\u001b[0m\n",
      "\u001b[34m#metrics {\"StartTime\": 1733968113.6067374, \"EndTime\": 1733968113.6067455, \"Dimensions\": {\"Algorithm\": \"Linear Learner\", \"Host\": \"algo-1\", \"Operation\": \"training\", \"epoch\": 14, \"model\": 25}, \"Metrics\": {\"train_binary_classification_cross_entropy_objective\": {\"sum\": 0.3066678131103516, \"count\": 1, \"min\": 0.3066678131103516, \"max\": 0.3066678131103516}}}\u001b[0m\n",
      "\u001b[34m#metrics {\"StartTime\": 1733968113.6067767, \"EndTime\": 1733968113.606786, \"Dimensions\": {\"Algorithm\": \"Linear Learner\", \"Host\": \"algo-1\", \"Operation\": \"training\", \"epoch\": 14, \"model\": 26}, \"Metrics\": {\"train_binary_classification_cross_entropy_objective\": {\"sum\": 0.30643440124511717, \"count\": 1, \"min\": 0.30643440124511717, \"max\": 0.30643440124511717}}}\u001b[0m\n",
      "\u001b[34m#metrics {\"StartTime\": 1733968113.6068149, \"EndTime\": 1733968113.6068237, \"Dimensions\": {\"Algorithm\": \"Linear Learner\", \"Host\": \"algo-1\", \"Operation\": \"training\", \"epoch\": 14, \"model\": 27}, \"Metrics\": {\"train_binary_classification_cross_entropy_objective\": {\"sum\": 0.3066702348327637, \"count\": 1, \"min\": 0.3066702348327637, \"max\": 0.3066702348327637}}}\u001b[0m\n",
      "\u001b[34m#metrics {\"StartTime\": 1733968113.6068568, \"EndTime\": 1733968113.606866, \"Dimensions\": {\"Algorithm\": \"Linear Learner\", \"Host\": \"algo-1\", \"Operation\": \"training\", \"epoch\": 14, \"model\": 28}, \"Metrics\": {\"train_binary_classification_cross_entropy_objective\": {\"sum\": 0.3065863659667969, \"count\": 1, \"min\": 0.3065863659667969, \"max\": 0.3065863659667969}}}\u001b[0m\n",
      "\u001b[34m#metrics {\"StartTime\": 1733968113.606899, \"EndTime\": 1733968113.6069076, \"Dimensions\": {\"Algorithm\": \"Linear Learner\", \"Host\": \"algo-1\", \"Operation\": \"training\", \"epoch\": 14, \"model\": 29}, \"Metrics\": {\"train_binary_classification_cross_entropy_objective\": {\"sum\": 0.31023108055114745, \"count\": 1, \"min\": 0.31023108055114745, \"max\": 0.31023108055114745}}}\u001b[0m\n",
      "\u001b[34m#metrics {\"StartTime\": 1733968113.6069417, \"EndTime\": 1733968113.6069515, \"Dimensions\": {\"Algorithm\": \"Linear Learner\", \"Host\": \"algo-1\", \"Operation\": \"training\", \"epoch\": 14, \"model\": 30}, \"Metrics\": {\"train_binary_classification_cross_entropy_objective\": {\"sum\": 0.3065865332794189, \"count\": 1, \"min\": 0.3065865332794189, \"max\": 0.3065865332794189}}}\u001b[0m\n",
      "\u001b[34m#metrics {\"StartTime\": 1733968113.606986, \"EndTime\": 1733968113.6069944, \"Dimensions\": {\"Algorithm\": \"Linear Learner\", \"Host\": \"algo-1\", \"Operation\": \"training\", \"epoch\": 14, \"model\": 31}, \"Metrics\": {\"train_binary_classification_cross_entropy_objective\": {\"sum\": 0.3102198090362549, \"count\": 1, \"min\": 0.3102198090362549, \"max\": 0.3102198090362549}}}\u001b[0m\n",
      "\u001b[34m[12/12/2024 01:48:33 INFO 140422536124224] #quality_metric: host=algo-1, epoch=14, train binary_classification_cross_entropy_objective <loss>=0.02329390869140625\u001b[0m\n",
      "\u001b[34m[12/12/2024 01:48:33 INFO 140422536124224] #early_stopping_criteria_metric: host=algo-1, epoch=14, criteria=binary_classification_cross_entropy_objective, value=0.023206966727375985\u001b[0m\n",
      "\u001b[34m[12/12/2024 01:48:33 INFO 140422536124224] Epoch 14: Loss improved. Updating best model\u001b[0m\n",
      "\u001b[34m[12/12/2024 01:48:33 INFO 140422536124224] Saving model for epoch: 14\u001b[0m\n",
      "\u001b[34m[12/12/2024 01:48:33 INFO 140422536124224] Saved checkpoint to \"/tmp/tmpyxev8qby/mx-mod-0000.params\"\u001b[0m\n",
      "\u001b[34m[12/12/2024 01:48:33 INFO 140422536124224] #progress_metric: host=algo-1, completed 100.0 % of epochs\u001b[0m\n",
      "\u001b[34m#metrics {\"StartTime\": 1733968108.9052408, \"EndTime\": 1733968113.6136565, \"Dimensions\": {\"Algorithm\": \"Linear Learner\", \"Host\": \"algo-1\", \"Operation\": \"training\", \"epoch\": 14, \"Meta\": \"training_data_iter\"}, \"Metrics\": {\"Total Records Seen\": {\"sum\": 760400.0, \"count\": 1, \"min\": 760400, \"max\": 760400}, \"Total Batches Seen\": {\"sum\": 3802.0, \"count\": 1, \"min\": 3802, \"max\": 3802}, \"Max Records Seen Between Resets\": {\"sum\": 50000.0, \"count\": 1, \"min\": 50000, \"max\": 50000}, \"Max Batches Seen Between Resets\": {\"sum\": 250.0, \"count\": 1, \"min\": 250, \"max\": 250}, \"Reset Count\": {\"sum\": 17.0, \"count\": 1, \"min\": 17, \"max\": 17}, \"Number of Records Since Last Reset\": {\"sum\": 50000.0, \"count\": 1, \"min\": 50000, \"max\": 50000}, \"Number of Batches Since Last Reset\": {\"sum\": 250.0, \"count\": 1, \"min\": 250, \"max\": 250}}}\u001b[0m\n",
      "\u001b[34m[12/12/2024 01:48:33 INFO 140422536124224] #throughput_metric: host=algo-1, train throughput=10619.03150008393 records/second\u001b[0m\n",
      "\u001b[34m[12/12/2024 01:48:33 WARNING 140422536124224] wait_for_all_workers will not sync workers since the kv store is not running distributed\u001b[0m\n",
      "\u001b[34m[12/12/2024 01:48:33 WARNING 140422536124224] wait_for_all_workers will not sync workers since the kv store is not running distributed\u001b[0m\n",
      "\u001b[34m[2024-12-12 01:48:33.618] [tensorio] [info] epoch_stats={\"data_pipeline\": \"/opt/ml/input/data/train\", \"epoch\": 33, \"duration\": 3, \"num_examples\": 1, \"num_bytes\": 636800}\u001b[0m\n",
      "\u001b[34m[2024-12-12 01:48:34.020] [tensorio] [info] epoch_stats={\"data_pipeline\": \"/opt/ml/input/data/train\", \"epoch\": 36, \"duration\": 400, \"num_examples\": 250, \"num_bytes\": 159200000}\u001b[0m\n",
      "\u001b[34m[2024-12-12 01:48:34.561] [tensorio] [info] epoch_stats={\"data_pipeline\": \"/opt/ml/input/data/train\", \"epoch\": 38, \"duration\": 515, \"num_examples\": 250, \"num_bytes\": 159200000}\u001b[0m\n",
      "\u001b[34m[12/12/2024 01:48:34 INFO 140422536124224] #train_score (algo-1) : ('binary_classification_cross_entropy_objective', 0.022990932850837708)\u001b[0m\n",
      "\u001b[34m[12/12/2024 01:48:34 INFO 140422536124224] #train_score (algo-1) : ('binary_classification_accuracy', 0.99318)\u001b[0m\n",
      "\u001b[34m[12/12/2024 01:48:34 INFO 140422536124224] #train_score (algo-1) : ('binary_f_1.000', 0.9652714125674712)\u001b[0m\n",
      "\u001b[34m[12/12/2024 01:48:34 INFO 140422536124224] #train_score (algo-1) : ('precision', 0.9697155719255167)\u001b[0m\n",
      "\u001b[34m[12/12/2024 01:48:34 INFO 140422536124224] #train_score (algo-1) : ('recall', 0.9608678021086781)\u001b[0m\n",
      "\u001b[34m[12/12/2024 01:48:34 INFO 140422536124224] #train_score (algo-1) : ('roc_auc_score', 0.9981874735418288)\u001b[0m\n",
      "\u001b[34m[12/12/2024 01:48:34 INFO 140422536124224] #train_score (algo-1) : ('binary_balanced_accuracy', 0.5001331321558534)\u001b[0m\n",
      "\u001b[34m[12/12/2024 01:48:34 INFO 140422536124224] #train_score (algo-1) : ('binary_log_loss', 0.6618292527149036)\u001b[0m\n",
      "\u001b[34m[12/12/2024 01:48:34 INFO 140422536124224] #quality_metric: host=algo-1, train binary_classification_cross_entropy_objective <loss>=0.022990932850837708\u001b[0m\n",
      "\u001b[34m[12/12/2024 01:48:34 INFO 140422536124224] #quality_metric: host=algo-1, train binary_classification_accuracy <score>=0.99318\u001b[0m\n",
      "\u001b[34m[12/12/2024 01:48:34 INFO 140422536124224] #quality_metric: host=algo-1, train binary_f_1.000 <score>=0.9652714125674712\u001b[0m\n",
      "\u001b[34m[12/12/2024 01:48:34 INFO 140422536124224] #quality_metric: host=algo-1, train precision <score>=0.9697155719255167\u001b[0m\n",
      "\u001b[34m[12/12/2024 01:48:34 INFO 140422536124224] #quality_metric: host=algo-1, train recall <score>=0.9608678021086781\u001b[0m\n",
      "\u001b[34m[12/12/2024 01:48:34 INFO 140422536124224] #quality_metric: host=algo-1, train roc_auc_score <score>=0.9981874735418288\u001b[0m\n",
      "\u001b[34m[12/12/2024 01:48:34 INFO 140422536124224] #quality_metric: host=algo-1, train binary_balanced_accuracy <score>=0.5001331321558534\u001b[0m\n",
      "\u001b[34m[12/12/2024 01:48:34 INFO 140422536124224] #quality_metric: host=algo-1, train binary_log_loss <score>=0.6618292527149036\u001b[0m\n",
      "\u001b[34m[12/12/2024 01:48:34 INFO 140422536124224] Best model found for hyperparameters: {\"optimizer\": \"adam\", \"learning_rate\": 0.005, \"wd\": 0.0001, \"l1\": 0.0, \"lr_scheduler_step\": 10, \"lr_scheduler_factor\": 0.99, \"lr_scheduler_minimum_lr\": 0.0001}\u001b[0m\n",
      "\u001b[34m[12/12/2024 01:48:34 INFO 140422536124224] Saved checkpoint to \"/tmp/tmptllbw41i/mx-mod-0000.params\"\u001b[0m\n",
      "\u001b[34m[12/12/2024 01:48:34 INFO 140422536124224] Test data is not provided.\u001b[0m\n",
      "\u001b[34m#metrics {\"StartTime\": 1733968043.399496, \"EndTime\": 1733968114.6284914, \"Dimensions\": {\"Algorithm\": \"Linear Learner\", \"Host\": \"algo-1\", \"Operation\": \"training\"}, \"Metrics\": {\"initialize.time\": {\"sum\": 424.75199699401855, \"count\": 1, \"min\": 424.75199699401855, \"max\": 424.75199699401855}, \"epochs\": {\"sum\": 15.0, \"count\": 1, \"min\": 15, \"max\": 15}, \"check_early_stopping.time\": {\"sum\": 11.094093322753906, \"count\": 15, \"min\": 0.6163120269775391, \"max\": 1.1954307556152344}, \"update.time\": {\"sum\": 69734.72261428833, \"count\": 15, \"min\": 4405.891895294189, \"max\": 4919.638872146606}, \"finalize.time\": {\"sum\": 1009.7568035125732, \"count\": 1, \"min\": 1009.7568035125732, \"max\": 1009.7568035125732}, \"setuptime\": {\"sum\": 1.7673969268798828, \"count\": 1, \"min\": 1.7673969268798828, \"max\": 1.7673969268798828}, \"totaltime\": {\"sum\": 71317.93069839478, \"count\": 1, \"min\": 71317.93069839478, \"max\": 71317.93069839478}}}\u001b[0m\n",
      "\n",
      "2024-12-12 01:48:49 Completed - Training job completed\n",
      "Training seconds: 220\n",
      "Billable seconds: 220\n"
     ]
    }
   ],
   "source": [
    "import boto3\n",
    "\n",
    "sess = sagemaker.Session()\n",
    "\n",
    "linear = sagemaker.estimator.Estimator(\n",
    "    container,\n",
    "    role,\n",
    "    train_instance_count=1,\n",
    "    train_instance_type=\"ml.c4.xlarge\",\n",
    "    output_path=output_location,\n",
    "    sagemaker_session=sess,\n",
    ")\n",
    "linear.set_hyperparameters(feature_dim=784, predictor_type=\"binary_classifier\", mini_batch_size=200)\n",
    "\n",
    "linear.fit({\"train\": s3_train_data})"
   ]
  },
  {
   "cell_type": "markdown",
   "id": "pacific-desire",
   "metadata": {
    "tags": []
   },
   "source": [
    "## Set up hosting for the model\n",
    "Now that we've trained our model, we can deploy it behind an Amazon SageMaker real-time hosted endpoint.  This will allow out to make predictions (or inference) from the model dyanamically.\n",
    "\n",
    "_Note, Amazon SageMaker allows you the flexibility of importing models trained elsewhere, as well as the choice of not importing models if the target of model creation is AWS Lambda, AWS Greengrass, Amazon Redshift, Amazon Athena, or other deployment target._"
   ]
  },
  {
   "cell_type": "code",
   "execution_count": 37,
   "id": "jewish-dallas",
   "metadata": {
    "tags": []
   },
   "outputs": [
    {
     "data": {
      "text/html": [
       "<pre style=\"white-space:pre;overflow-x:auto;line-height:normal;font-family:Menlo,'DejaVu Sans Mono',consolas,'Courier New',monospace\"><span style=\"color: #7fbfbf; text-decoration-color: #7fbfbf\">[12/12/24 01:52:03] </span><span style=\"color: #0069ff; text-decoration-color: #0069ff; font-weight: bold\">INFO    </span> Creating model with name: linear-learner-<span style=\"color: #008080; text-decoration-color: #008080; font-weight: bold\">2024</span>-12-12-01-52-03-241       <a href=\"file:///home/ec2-user/anaconda3/envs/python3/lib/python3.10/site-packages/sagemaker/session.py\" target=\"_blank\"><span style=\"color: #7f7f7f; text-decoration-color: #7f7f7f\">session.py</span></a><span style=\"color: #7f7f7f; text-decoration-color: #7f7f7f\">:</span><a href=\"file:///home/ec2-user/anaconda3/envs/python3/lib/python3.10/site-packages/sagemaker/session.py#4094\" target=\"_blank\"><span style=\"color: #7f7f7f; text-decoration-color: #7f7f7f\">4094</span></a>\n",
       "</pre>\n"
      ],
      "text/plain": [
       "\u001b[2;36m[12/12/24 01:52:03]\u001b[0m\u001b[2;36m \u001b[0m\u001b[1;38;2;0;105;255mINFO    \u001b[0m Creating model with name: linear-learner-\u001b[1;36m2024\u001b[0m-12-12-01-52-03-241       \u001b]8;id=748067;file:///home/ec2-user/anaconda3/envs/python3/lib/python3.10/site-packages/sagemaker/session.py\u001b\\\u001b[2msession.py\u001b[0m\u001b]8;;\u001b\\\u001b[2m:\u001b[0m\u001b]8;id=307410;file:///home/ec2-user/anaconda3/envs/python3/lib/python3.10/site-packages/sagemaker/session.py#4094\u001b\\\u001b[2m4094\u001b[0m\u001b]8;;\u001b\\\n"
      ]
     },
     "metadata": {},
     "output_type": "display_data"
    },
    {
     "data": {
      "text/html": [
       "<pre style=\"white-space:pre;overflow-x:auto;line-height:normal;font-family:Menlo,'DejaVu Sans Mono',consolas,'Courier New',monospace\"><span style=\"color: #7fbfbf; text-decoration-color: #7fbfbf\">                    </span><span style=\"color: #0069ff; text-decoration-color: #0069ff; font-weight: bold\">INFO    </span> Creating endpoint-config with name                                     <a href=\"file:///home/ec2-user/anaconda3/envs/python3/lib/python3.10/site-packages/sagemaker/session.py\" target=\"_blank\"><span style=\"color: #7f7f7f; text-decoration-color: #7f7f7f\">session.py</span></a><span style=\"color: #7f7f7f; text-decoration-color: #7f7f7f\">:</span><a href=\"file:///home/ec2-user/anaconda3/envs/python3/lib/python3.10/site-packages/sagemaker/session.py#5889\" target=\"_blank\"><span style=\"color: #7f7f7f; text-decoration-color: #7f7f7f\">5889</span></a>\n",
       "<span style=\"color: #7fbfbf; text-decoration-color: #7fbfbf\">                    </span>         linear-learner-<span style=\"color: #008080; text-decoration-color: #008080; font-weight: bold\">2024</span>-12-12-01-52-03-241                                 <span style=\"color: #7f7f7f; text-decoration-color: #7f7f7f\">               </span>\n",
       "</pre>\n"
      ],
      "text/plain": [
       "\u001b[2;36m                   \u001b[0m\u001b[2;36m \u001b[0m\u001b[1;38;2;0;105;255mINFO    \u001b[0m Creating endpoint-config with name                                     \u001b]8;id=807337;file:///home/ec2-user/anaconda3/envs/python3/lib/python3.10/site-packages/sagemaker/session.py\u001b\\\u001b[2msession.py\u001b[0m\u001b]8;;\u001b\\\u001b[2m:\u001b[0m\u001b]8;id=208308;file:///home/ec2-user/anaconda3/envs/python3/lib/python3.10/site-packages/sagemaker/session.py#5889\u001b\\\u001b[2m5889\u001b[0m\u001b]8;;\u001b\\\n",
       "\u001b[2;36m                    \u001b[0m         linear-learner-\u001b[1;36m2024\u001b[0m-12-12-01-52-03-241                                 \u001b[2m               \u001b[0m\n"
      ]
     },
     "metadata": {},
     "output_type": "display_data"
    },
    {
     "data": {
      "text/html": [
       "<pre style=\"white-space:pre;overflow-x:auto;line-height:normal;font-family:Menlo,'DejaVu Sans Mono',consolas,'Courier New',monospace\"><span style=\"color: #7fbfbf; text-decoration-color: #7fbfbf\">[12/12/24 01:52:04] </span><span style=\"color: #0069ff; text-decoration-color: #0069ff; font-weight: bold\">INFO    </span> Creating endpoint with name linear-learner-<span style=\"color: #008080; text-decoration-color: #008080; font-weight: bold\">2024</span>-12-12-01-52-03-241     <a href=\"file:///home/ec2-user/anaconda3/envs/python3/lib/python3.10/site-packages/sagemaker/session.py\" target=\"_blank\"><span style=\"color: #7f7f7f; text-decoration-color: #7f7f7f\">session.py</span></a><span style=\"color: #7f7f7f; text-decoration-color: #7f7f7f\">:</span><a href=\"file:///home/ec2-user/anaconda3/envs/python3/lib/python3.10/site-packages/sagemaker/session.py#4711\" target=\"_blank\"><span style=\"color: #7f7f7f; text-decoration-color: #7f7f7f\">4711</span></a>\n",
       "</pre>\n"
      ],
      "text/plain": [
       "\u001b[2;36m[12/12/24 01:52:04]\u001b[0m\u001b[2;36m \u001b[0m\u001b[1;38;2;0;105;255mINFO    \u001b[0m Creating endpoint with name linear-learner-\u001b[1;36m2024\u001b[0m-12-12-01-52-03-241     \u001b]8;id=399149;file:///home/ec2-user/anaconda3/envs/python3/lib/python3.10/site-packages/sagemaker/session.py\u001b\\\u001b[2msession.py\u001b[0m\u001b]8;;\u001b\\\u001b[2m:\u001b[0m\u001b]8;id=418968;file:///home/ec2-user/anaconda3/envs/python3/lib/python3.10/site-packages/sagemaker/session.py#4711\u001b\\\u001b[2m4711\u001b[0m\u001b]8;;\u001b\\\n"
      ]
     },
     "metadata": {},
     "output_type": "display_data"
    },
    {
     "name": "stdout",
     "output_type": "stream",
     "text": [
      "-------!"
     ]
    }
   ],
   "source": [
    "from sagemaker.serializers import CSVSerializer\n",
    "from sagemaker.deserializers import JSONDeserializer\n",
    "\n",
    "linear_predictor = linear.deploy(\n",
    "    initial_instance_count=1,\n",
    "    instance_type=\"ml.m4.xlarge\",\n",
    "    serializer=CSVSerializer(),\n",
    "    deserializer=JSONDeserializer(),\n",
    ")"
   ]
  },
  {
   "cell_type": "markdown",
   "id": "administrative-singing",
   "metadata": {
    "tags": []
   },
   "source": [
    "## Validate the model for use\n",
    "Finally, we can now validate the model for use.  We can pass HTTP POST requests to the endpoint to get back predictions.  To make this easier, we'll again use the Amazon SageMaker Python SDK and specify how to serialize requests and deserialize responses that are specific to the algorithm."
   ]
  },
  {
   "cell_type": "markdown",
   "id": "linear-module",
   "metadata": {
    "tags": []
   },
   "source": [
    "Now let's try getting a prediction for a single record."
   ]
  },
  {
   "cell_type": "code",
   "execution_count": 38,
   "id": "south-sperm",
   "metadata": {
    "tags": []
   },
   "outputs": [
    {
     "name": "stdout",
     "output_type": "stream",
     "text": [
      "{'predictions': [{'score': 3.780501245387313e-08, 'predicted_label': 0}]}\n"
     ]
    }
   ],
   "source": [
    "result = linear_predictor.predict(train_set[0][30:31])\n",
    "print(result)"
   ]
  },
  {
   "cell_type": "markdown",
   "id": "linear-player",
   "metadata": {
    "tags": []
   },
   "source": [
    "OK, a single prediction works.  We see that for one record our endpoint returned some JSON which contains `predictions`, including the `score` and `predicted_label`.  In this case, `score` will be a continuous value between [0, 1] representing the probability we think the digit is a 0 or not.  `predicted_label` will take a value of either `0` or `1` where (somewhat counterintuitively) `1` denotes that we predict the image is a 0, while `0` denotes that we are predicting the image is not of a 0.\n",
    "\n",
    "Let's do a whole batch of images and evaluate our predictive accuracy."
   ]
  },
  {
   "cell_type": "code",
   "execution_count": 39,
   "id": "documentary-qatar",
   "metadata": {
    "tags": []
   },
   "outputs": [],
   "source": [
    "import numpy as np\n",
    "\n",
    "predictions = []\n",
    "for array in np.array_split(test_set[0], 100):\n",
    "    result = linear_predictor.predict(array)\n",
    "    predictions += [r[\"predicted_label\"] for r in result[\"predictions\"]]\n",
    "\n",
    "predictions = np.array(predictions)"
   ]
  },
  {
   "cell_type": "code",
   "execution_count": 40,
   "id": "above-driver",
   "metadata": {
    "tags": []
   },
   "outputs": [
    {
     "data": {
      "text/html": [
       "<div>\n",
       "<style scoped>\n",
       "    .dataframe tbody tr th:only-of-type {\n",
       "        vertical-align: middle;\n",
       "    }\n",
       "\n",
       "    .dataframe tbody tr th {\n",
       "        vertical-align: top;\n",
       "    }\n",
       "\n",
       "    .dataframe thead th {\n",
       "        text-align: right;\n",
       "    }\n",
       "</style>\n",
       "<table border=\"1\" class=\"dataframe\">\n",
       "  <thead>\n",
       "    <tr style=\"text-align: right;\">\n",
       "      <th>predictions</th>\n",
       "      <th>0</th>\n",
       "      <th>1</th>\n",
       "    </tr>\n",
       "    <tr>\n",
       "      <th>actuals</th>\n",
       "      <th></th>\n",
       "      <th></th>\n",
       "    </tr>\n",
       "  </thead>\n",
       "  <tbody>\n",
       "    <tr>\n",
       "      <th>0</th>\n",
       "      <td>8973</td>\n",
       "      <td>47</td>\n",
       "    </tr>\n",
       "    <tr>\n",
       "      <th>1</th>\n",
       "      <td>37</td>\n",
       "      <td>943</td>\n",
       "    </tr>\n",
       "  </tbody>\n",
       "</table>\n",
       "</div>"
      ],
      "text/plain": [
       "predictions     0    1\n",
       "actuals               \n",
       "0            8973   47\n",
       "1              37  943"
      ]
     },
     "execution_count": 40,
     "metadata": {},
     "output_type": "execute_result"
    }
   ],
   "source": [
    "import pandas as pd\n",
    "\n",
    "pd.crosstab(\n",
    "    np.where(test_set[1] == 0, 1, 0), predictions, rownames=[\"actuals\"], colnames=[\"predictions\"]\n",
    ")"
   ]
  },
  {
   "cell_type": "markdown",
   "id": "sufficient-myrtle",
   "metadata": {
    "tags": []
   },
   "source": [
    "As we can see from the confusion matrix above, we predict 931 images of 0 correctly, while we predict 44 images as 0s that aren't, and miss predicting 49 images of 0."
   ]
  },
  {
   "cell_type": "markdown",
   "id": "hydraulic-aerospace",
   "metadata": {
    "tags": []
   },
   "source": [
    "### (Optional) Delete the Endpoint\n",
    "\n",
    "If you're ready to be done with this notebook, please run the delete_endpoint line in the cell below.  This will remove the hosted endpoint you created and avoid any charges from a stray instance being left on."
   ]
  },
  {
   "cell_type": "code",
   "execution_count": 41,
   "id": "billion-occasions",
   "metadata": {
    "tags": []
   },
   "outputs": [
    {
     "data": {
      "text/html": [
       "<pre style=\"white-space:pre;overflow-x:auto;line-height:normal;font-family:Menlo,'DejaVu Sans Mono',consolas,'Courier New',monospace\"><span style=\"color: #7fbfbf; text-decoration-color: #7fbfbf\">[12/12/24 02:05:45] </span><span style=\"color: #d7af00; text-decoration-color: #d7af00; font-weight: bold\">WARNING </span> The endpoint attribute has been renamed in sagemaker&gt;=<span style=\"color: #008080; text-decoration-color: #008080; font-weight: bold\">2</span>.            <a href=\"file:///home/ec2-user/anaconda3/envs/python3/lib/python3.10/site-packages/sagemaker/deprecations.py\" target=\"_blank\"><span style=\"color: #7f7f7f; text-decoration-color: #7f7f7f\">deprecations.py</span></a><span style=\"color: #7f7f7f; text-decoration-color: #7f7f7f\">:</span><a href=\"file:///home/ec2-user/anaconda3/envs/python3/lib/python3.10/site-packages/sagemaker/deprecations.py#34\" target=\"_blank\"><span style=\"color: #7f7f7f; text-decoration-color: #7f7f7f\">34</span></a>\n",
       "<span style=\"color: #7fbfbf; text-decoration-color: #7fbfbf\">                    </span>         See: <span style=\"color: #0069ff; text-decoration-color: #0069ff; text-decoration: underline\">https://sagemaker.readthedocs.io/en/stable/v2.html</span> for         <span style=\"color: #7f7f7f; text-decoration-color: #7f7f7f\">                  </span>\n",
       "<span style=\"color: #7fbfbf; text-decoration-color: #7fbfbf\">                    </span>         details.                                                            <span style=\"color: #7f7f7f; text-decoration-color: #7f7f7f\">                  </span>\n",
       "</pre>\n"
      ],
      "text/plain": [
       "\u001b[2;36m[12/12/24 02:05:45]\u001b[0m\u001b[2;36m \u001b[0m\u001b[1;38;2;215;175;0mWARNING \u001b[0m The endpoint attribute has been renamed in sagemaker>=\u001b[1;36m2\u001b[0m.            \u001b]8;id=261004;file:///home/ec2-user/anaconda3/envs/python3/lib/python3.10/site-packages/sagemaker/deprecations.py\u001b\\\u001b[2mdeprecations.py\u001b[0m\u001b]8;;\u001b\\\u001b[2m:\u001b[0m\u001b]8;id=715259;file:///home/ec2-user/anaconda3/envs/python3/lib/python3.10/site-packages/sagemaker/deprecations.py#34\u001b\\\u001b[2m34\u001b[0m\u001b]8;;\u001b\\\n",
       "\u001b[2;36m                    \u001b[0m         See: \u001b[4;38;2;0;105;255mhttps://sagemaker.readthedocs.io/en/stable/v2.html\u001b[0m for         \u001b[2m                  \u001b[0m\n",
       "\u001b[2;36m                    \u001b[0m         details.                                                            \u001b[2m                  \u001b[0m\n"
      ]
     },
     "metadata": {},
     "output_type": "display_data"
    },
    {
     "data": {
      "text/html": [
       "<pre style=\"white-space:pre;overflow-x:auto;line-height:normal;font-family:Menlo,'DejaVu Sans Mono',consolas,'Courier New',monospace\"><span style=\"color: #7fbfbf; text-decoration-color: #7fbfbf\">                    </span><span style=\"color: #0069ff; text-decoration-color: #0069ff; font-weight: bold\">INFO    </span> Deleting endpoint with name: linear-learner-<span style=\"color: #008080; text-decoration-color: #008080; font-weight: bold\">2024</span>-12-12-01-52-03-241    <a href=\"file:///home/ec2-user/anaconda3/envs/python3/lib/python3.10/site-packages/sagemaker/session.py\" target=\"_blank\"><span style=\"color: #7f7f7f; text-decoration-color: #7f7f7f\">session.py</span></a><span style=\"color: #7f7f7f; text-decoration-color: #7f7f7f\">:</span><a href=\"file:///home/ec2-user/anaconda3/envs/python3/lib/python3.10/site-packages/sagemaker/session.py#4855\" target=\"_blank\"><span style=\"color: #7f7f7f; text-decoration-color: #7f7f7f\">4855</span></a>\n",
       "</pre>\n"
      ],
      "text/plain": [
       "\u001b[2;36m                   \u001b[0m\u001b[2;36m \u001b[0m\u001b[1;38;2;0;105;255mINFO    \u001b[0m Deleting endpoint with name: linear-learner-\u001b[1;36m2024\u001b[0m-12-12-01-52-03-241    \u001b]8;id=50195;file:///home/ec2-user/anaconda3/envs/python3/lib/python3.10/site-packages/sagemaker/session.py\u001b\\\u001b[2msession.py\u001b[0m\u001b]8;;\u001b\\\u001b[2m:\u001b[0m\u001b]8;id=800194;file:///home/ec2-user/anaconda3/envs/python3/lib/python3.10/site-packages/sagemaker/session.py#4855\u001b\\\u001b[2m4855\u001b[0m\u001b]8;;\u001b\\\n"
      ]
     },
     "metadata": {},
     "output_type": "display_data"
    }
   ],
   "source": [
    "sagemaker.Session().delete_endpoint(linear_predictor.endpoint)"
   ]
  },
  {
   "cell_type": "markdown",
   "id": "efa80b12",
   "metadata": {},
   "source": [
    "## Notebook CI Test Results\n",
    "\n",
    "This notebook was tested in multiple regions. The test results are as follows, except for us-west-2 which is shown at the top of the notebook.\n",
    "\n",
    "![This us-east-1 badge failed to load. Check your device's internet connectivity, otherwise the service is currently unavailable](https://prod.us-west-2.tcx-beacon.docs.aws.dev/sagemaker-nb/us-east-1/aws_sagemaker_studio|sagemaker_algorithms|linear_learner_mnist|linear_learner_mnist.ipynb)\n",
    "\n",
    "![This us-east-2 badge failed to load. Check your device's internet connectivity, otherwise the service is currently unavailable](https://prod.us-west-2.tcx-beacon.docs.aws.dev/sagemaker-nb/us-east-2/aws_sagemaker_studio|sagemaker_algorithms|linear_learner_mnist|linear_learner_mnist.ipynb)\n",
    "\n",
    "![This us-west-1 badge failed to load. Check your device's internet connectivity, otherwise the service is currently unavailable](https://prod.us-west-2.tcx-beacon.docs.aws.dev/sagemaker-nb/us-west-1/aws_sagemaker_studio|sagemaker_algorithms|linear_learner_mnist|linear_learner_mnist.ipynb)\n",
    "\n",
    "![This ca-central-1 badge failed to load. Check your device's internet connectivity, otherwise the service is currently unavailable](https://prod.us-west-2.tcx-beacon.docs.aws.dev/sagemaker-nb/ca-central-1/aws_sagemaker_studio|sagemaker_algorithms|linear_learner_mnist|linear_learner_mnist.ipynb)\n",
    "\n",
    "![This sa-east-1 badge failed to load. Check your device's internet connectivity, otherwise the service is currently unavailable](https://prod.us-west-2.tcx-beacon.docs.aws.dev/sagemaker-nb/sa-east-1/aws_sagemaker_studio|sagemaker_algorithms|linear_learner_mnist|linear_learner_mnist.ipynb)\n",
    "\n",
    "![This eu-west-1 badge failed to load. Check your device's internet connectivity, otherwise the service is currently unavailable](https://prod.us-west-2.tcx-beacon.docs.aws.dev/sagemaker-nb/eu-west-1/aws_sagemaker_studio|sagemaker_algorithms|linear_learner_mnist|linear_learner_mnist.ipynb)\n",
    "\n",
    "![This eu-west-2 badge failed to load. Check your device's internet connectivity, otherwise the service is currently unavailable](https://prod.us-west-2.tcx-beacon.docs.aws.dev/sagemaker-nb/eu-west-2/aws_sagemaker_studio|sagemaker_algorithms|linear_learner_mnist|linear_learner_mnist.ipynb)\n",
    "\n",
    "![This eu-west-3 badge failed to load. Check your device's internet connectivity, otherwise the service is currently unavailable](https://prod.us-west-2.tcx-beacon.docs.aws.dev/sagemaker-nb/eu-west-3/aws_sagemaker_studio|sagemaker_algorithms|linear_learner_mnist|linear_learner_mnist.ipynb)\n",
    "\n",
    "![This eu-central-1 badge failed to load. Check your device's internet connectivity, otherwise the service is currently unavailable](https://prod.us-west-2.tcx-beacon.docs.aws.dev/sagemaker-nb/eu-central-1/aws_sagemaker_studio|sagemaker_algorithms|linear_learner_mnist|linear_learner_mnist.ipynb)\n",
    "\n",
    "![This eu-north-1 badge failed to load. Check your device's internet connectivity, otherwise the service is currently unavailable](https://prod.us-west-2.tcx-beacon.docs.aws.dev/sagemaker-nb/eu-north-1/aws_sagemaker_studio|sagemaker_algorithms|linear_learner_mnist|linear_learner_mnist.ipynb)\n",
    "\n",
    "![This ap-southeast-1 badge failed to load. Check your device's internet connectivity, otherwise the service is currently unavailable](https://prod.us-west-2.tcx-beacon.docs.aws.dev/sagemaker-nb/ap-southeast-1/aws_sagemaker_studio|sagemaker_algorithms|linear_learner_mnist|linear_learner_mnist.ipynb)\n",
    "\n",
    "![This ap-southeast-2 badge failed to load. Check your device's internet connectivity, otherwise the service is currently unavailable](https://prod.us-west-2.tcx-beacon.docs.aws.dev/sagemaker-nb/ap-southeast-2/aws_sagemaker_studio|sagemaker_algorithms|linear_learner_mnist|linear_learner_mnist.ipynb)\n",
    "\n",
    "![This ap-northeast-1 badge failed to load. Check your device's internet connectivity, otherwise the service is currently unavailable](https://prod.us-west-2.tcx-beacon.docs.aws.dev/sagemaker-nb/ap-northeast-1/aws_sagemaker_studio|sagemaker_algorithms|linear_learner_mnist|linear_learner_mnist.ipynb)\n",
    "\n",
    "![This ap-northeast-2 badge failed to load. Check your device's internet connectivity, otherwise the service is currently unavailable](https://prod.us-west-2.tcx-beacon.docs.aws.dev/sagemaker-nb/ap-northeast-2/aws_sagemaker_studio|sagemaker_algorithms|linear_learner_mnist|linear_learner_mnist.ipynb)\n",
    "\n",
    "![This ap-south-1 badge failed to load. Check your device's internet connectivity, otherwise the service is currently unavailable](https://prod.us-west-2.tcx-beacon.docs.aws.dev/sagemaker-nb/ap-south-1/aws_sagemaker_studio|sagemaker_algorithms|linear_learner_mnist|linear_learner_mnist.ipynb)\n"
   ]
  }
 ],
 "metadata": {
  "celltoolbar": "Tags",
  "instance_type": "ml.t3.medium",
  "kernelspec": {
   "display_name": "conda_python3",
   "language": "python",
   "name": "conda_python3"
  },
  "language_info": {
   "codemirror_mode": {
    "name": "ipython",
    "version": 3
   },
   "file_extension": ".py",
   "mimetype": "text/x-python",
   "name": "python",
   "nbconvert_exporter": "python",
   "pygments_lexer": "ipython3",
   "version": "3.10.15"
  },
  "notice": "Copyright 2017 Amazon.com, Inc. or its affiliates. All Rights Reserved.  Licensed under the Apache License, Version 2.0 (the \"License\"). You may not use this file except in compliance with the License. A copy of the License is located at http://aws.amazon.com/apache2.0/ or in the \"license\" file accompanying this file. This file is distributed on an \"AS IS\" BASIS, WITHOUT WARRANTIES OR CONDITIONS OF ANY KIND, either express or implied. See the License for the specific language governing permissions and limitations under the License."
 },
 "nbformat": 4,
 "nbformat_minor": 5
}
