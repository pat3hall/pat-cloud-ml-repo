{
 "cells": [
  {
   "cell_type": "code",
   "execution_count": 1,
   "metadata": {
    "execution": {
     "iopub.execute_input": "2025-01-02T18:20:18.415370Z",
     "iopub.status.busy": "2025-01-02T18:20:18.407575Z",
     "iopub.status.idle": "2025-01-02T18:20:18.430176Z",
     "shell.execute_reply": "2025-01-02T18:20:18.430869Z"
    },
    "papermill": {
     "duration": 0.100781,
     "end_time": "2025-01-02T18:20:18.431136",
     "exception": false,
     "start_time": "2025-01-02T18:20:18.330355",
     "status": "completed"
    },
    "tags": [
     "hide-input"
    ]
   },
   "outputs": [
    {
     "data": {
      "text/markdown": [
       "# XGBoost Training Report by SageMaker Debugger\n",
       "\t\t\t\t\t\t\t\t\t\t\t\t\t\t\t\t\t\t\t Created on 2025-01-02 18:20:18 \n",
       "\n",
       "The SageMaker Debugger `CreateXgboostReport` built-in rule auto-generates this report. This report provides a summary of the XGBoost model training evaluation results, insights of the model performance, and interactive graphs.\n",
       "\n",
       " **Legal disclaimer:** In this report, plots and and recommendations are provided for informational purposes only and are not definitive. You are responsible for making your own independent assessment of the information.\n",
       "]\n",
       "For more information, see the following documentation:\n",
       "\n",
       "* [Amazon SageMaker Developer Guide](https://docs.aws.amazon.com/sagemaker/latest/dg/train-debugger.html)\n",
       "\n",
       "If you want to use the notebook that generated this report, you need to install the following libraries:\n",
       "\n",
       "* [SageMaker Debugger Client Library Github](https://github.com/awslabs/sagemaker-debugger)\n",
       "* [The Bokeh Python Visualization Tool](http://docs.bokeh.org/en/0.11.0/docs/installation.html)\n"
      ],
      "text/plain": [
       "<IPython.core.display.Markdown object>"
      ]
     },
     "metadata": {},
     "output_type": "display_data"
    }
   ],
   "source": [
    "import datetime\n",
    "from IPython.display import display, Markdown\n",
    "\n",
    "timestamp = datetime.datetime.now().replace(microsecond=0)\n",
    "\n",
    "s = f\"# XGBoost Training Report by SageMaker Debugger\\n\\\n",
    "\\t\\t\\t\\t\\t\\t\\t\\t\\t\\t\\t\\t\\t\\t\\t\\t\\t\\t\\t Created on {timestamp} \\n\\\n",
    "\\n\\\n",
    "The SageMaker Debugger `CreateXgboostReport` built-in rule auto-generates this report. This report provides a summary of the XGBoost model training evaluation results, insights of the model performance, and interactive graphs.\\n\\\n",
    "\\n\\\n",
    " **Legal disclaimer:** In this report, plots and and recommendations are provided for informational purposes only and are not definitive. You are responsible for making your own independent assessment of the information.\\n]\\\n",
    "\\n\\\n",
    "For more information, see the following documentation:\\n\\\n",
    "\\n\\\n",
    "* [Amazon SageMaker Developer Guide](https://docs.aws.amazon.com/sagemaker/latest/dg/train-debugger.html)\\n\\\n",
    "\\n\\\n",
    "If you want to use the notebook that generated this report, you need to install the following libraries:\\n\\\n",
    "\\n\\\n",
    "* [SageMaker Debugger Client Library Github](https://github.com/awslabs/sagemaker-debugger)\\n\\\n",
    "* [The Bokeh Python Visualization Tool](http://docs.bokeh.org/en/0.11.0/docs/installation.html)\\n\\\n",
    "\"\n",
    "display(Markdown(s))"
   ]
  },
  {
   "cell_type": "code",
   "execution_count": 2,
   "metadata": {
    "execution": {
     "iopub.execute_input": "2025-01-02T18:20:18.468468Z",
     "iopub.status.busy": "2025-01-02T18:20:18.467391Z",
     "iopub.status.idle": "2025-01-02T18:20:18.470403Z",
     "shell.execute_reply": "2025-01-02T18:20:18.469976Z"
    },
    "papermill": {
     "duration": 0.025238,
     "end_time": "2025-01-02T18:20:18.470584",
     "exception": false,
     "start_time": "2025-01-02T18:20:18.445346",
     "status": "completed"
    },
    "tags": [
     "parameters",
     "hide-input"
    ]
   },
   "outputs": [],
   "source": [
    "# set your plotting frequency\n",
    "plot_step = -1\n",
    "# set the path to your trial data (debug_data_path)\n",
    "s3_path = \"\"\n",
    "path = \"\"\n",
    "\n",
    "is_regression = None\n",
    "is_classification = None"
   ]
  },
  {
   "cell_type": "code",
   "execution_count": 3,
   "id": "d58eab82",
   "metadata": {
    "execution": {
     "iopub.execute_input": "2025-01-02T18:20:18.505598Z",
     "iopub.status.busy": "2025-01-02T18:20:18.504665Z",
     "iopub.status.idle": "2025-01-02T18:20:18.509710Z",
     "shell.execute_reply": "2025-01-02T18:20:18.510144Z"
    },
    "papermill": {
     "duration": 0.025381,
     "end_time": "2025-01-02T18:20:18.510295",
     "exception": false,
     "start_time": "2025-01-02T18:20:18.484914",
     "status": "completed"
    },
    "tags": [
     "injected-parameters"
    ]
   },
   "outputs": [],
   "source": [
    "# Parameters\n",
    "path = \"/opt/ml/processing/input/tensors\"\n",
    "plot_step = 50\n",
    "s3_path = \"s3://sagemaker-us-east-1-012345678901/sagemaker/xgboost-debugger/output/xgboost-iris-debugger-20250102-18-17-28-2025-01-02-18-17-46-238/debug-output\"\n"
   ]
  },
  {
   "cell_type": "markdown",
   "metadata": {
    "papermill": {
     "duration": 0.009379,
     "end_time": "2025-01-02T18:20:18.528562",
     "exception": false,
     "start_time": "2025-01-02T18:20:18.519183",
     "status": "completed"
    },
    "tags": []
   },
   "source": [
    "The following parameters are the default values auto-generated by the `CreateXgboostReport` built-in rule.\n",
    "\n",
    "- `path (str)` - The local path where Debugger has saved output tensors in the training container.\n",
    "- `plot_step (int)` - The step for which the rule has created the training report.\n",
    "- `s3_path (str)` -  The S3 bucket URI where Debugger has saved the output tensors."
   ]
  },
  {
   "cell_type": "code",
   "execution_count": 4,
   "metadata": {
    "execution": {
     "iopub.execute_input": "2025-01-02T18:20:18.554937Z",
     "iopub.status.busy": "2025-01-02T18:20:18.554039Z",
     "iopub.status.idle": "2025-01-02T18:20:18.557392Z",
     "shell.execute_reply": "2025-01-02T18:20:18.556958Z"
    },
    "papermill": {
     "duration": 0.020302,
     "end_time": "2025-01-02T18:20:18.557514",
     "exception": false,
     "start_time": "2025-01-02T18:20:18.537212",
     "status": "completed"
    },
    "tags": [
     "hide-input",
     "hide-output"
    ]
   },
   "outputs": [],
   "source": [
    "import os\n",
    "if not os.path.exists(\"/opt/ml/config/processingjobconfig.json\"):\n",
    "    path = s3_path\n",
    "    ! pip install smdebug \n",
    "    ! pip install matplotlib\n",
    "    ! pip install scipy\n",
    "    "
   ]
  },
  {
   "cell_type": "code",
   "execution_count": 5,
   "metadata": {
    "execution": {
     "iopub.execute_input": "2025-01-02T18:20:18.581551Z",
     "iopub.status.busy": "2025-01-02T18:20:18.580576Z",
     "iopub.status.idle": "2025-01-02T18:20:18.583304Z",
     "shell.execute_reply": "2025-01-02T18:20:18.582802Z"
    },
    "papermill": {
     "duration": 0.016752,
     "end_time": "2025-01-02T18:20:18.583433",
     "exception": false,
     "start_time": "2025-01-02T18:20:18.566681",
     "status": "completed"
    },
    "tags": [
     "hide-input",
     "hide-output"
    ]
   },
   "outputs": [],
   "source": [
    "if path == \"\":\n",
    "    assert False, \"Path cannot be empty\""
   ]
  },
  {
   "cell_type": "code",
   "execution_count": 6,
   "metadata": {
    "execution": {
     "iopub.execute_input": "2025-01-02T18:20:18.622900Z",
     "iopub.status.busy": "2025-01-02T18:20:18.621916Z",
     "iopub.status.idle": "2025-01-02T18:20:18.943618Z",
     "shell.execute_reply": "2025-01-02T18:20:18.944241Z"
    },
    "papermill": {
     "duration": 0.350573,
     "end_time": "2025-01-02T18:20:18.944410",
     "exception": false,
     "start_time": "2025-01-02T18:20:18.593837",
     "status": "completed"
    },
    "tags": [
     "hide-output",
     "hide-input"
    ]
   },
   "outputs": [
    {
     "name": "stdout",
     "output_type": "stream",
     "text": [
      "[2025-01-02 18:20:18.892 ip-10-0-236-98.ec2.internal:16 INFO utils.py:27] RULE_JOB_STOP_SIGNAL_FILENAME: None\n"
     ]
    },
    {
     "name": "stdout",
     "output_type": "stream",
     "text": [
      "[2025-01-02 18:20:18.922 ip-10-0-236-98.ec2.internal:16 INFO local_trial.py:35] Loading trial tensors at path /opt/ml/processing/input/tensors\n"
     ]
    }
   ],
   "source": [
    "import re\n",
    "from smdebug.trials import create_trial\n",
    "trial = create_trial(path)\n",
    "tensor_names = trial.tensor_names() # Load all tensor names"
   ]
  },
  {
   "cell_type": "code",
   "execution_count": 7,
   "metadata": {
    "execution": {
     "iopub.execute_input": "2025-01-02T18:20:18.983622Z",
     "iopub.status.busy": "2025-01-02T18:20:18.978631Z",
     "iopub.status.idle": "2025-01-02T18:20:18.989528Z",
     "shell.execute_reply": "2025-01-02T18:20:18.990019Z"
    },
    "papermill": {
     "duration": 0.032051,
     "end_time": "2025-01-02T18:20:18.990186",
     "exception": false,
     "start_time": "2025-01-02T18:20:18.958135",
     "status": "completed"
    },
    "tags": [
     "hide-input"
    ]
   },
   "outputs": [
    {
     "data": {
      "text/markdown": [
       "### Table of Contents\n",
       "- [Distribution of True Labels of the Dataset](#section1)\n",
       "- [Loss vs Step Graph](#section2)\n",
       "- [Feature Importance](#section3)\n",
       "\n",
       "- [Confusion Matrix](#section4)\n",
       "- [Evaluation of the Confusion Matrix](#section4-1)\n",
       "- [Accuracy Rate of Each Diagonal Element over Iteration](#section4-2)\n",
       "\n",
       "- [Receiver Operating Characteristic Curve](#section5)\n",
       "\n",
       "- [Distribution of Residuals at Last Saved Step](#section6)\n"
      ],
      "text/plain": [
       "<IPython.core.display.Markdown object>"
      ]
     },
     "metadata": {},
     "output_type": "display_data"
    }
   ],
   "source": [
    "from IPython.display import display, Markdown\n",
    "\n",
    "SUPPORTED_OBJECTIVES = [\"reg:squarederror\", \"binary:logistic\", \"multi:softmax\"]\n",
    "objective_metric = None\n",
    "if 'hyperparameters/objective' in tensor_names:\n",
    "    objective_metric = trial.tensor('hyperparameters/objective').value(0)[0]\n",
    "\n",
    "    \n",
    "if plot_step == 0:\n",
    "    ERROR_MESSAGE = \"### This report renders graphs with metrics collected every five steps.\\n\\\n",
    "### Please consider running training for more than five rounds.\"\n",
    "    display(Markdown(ERROR_MESSAGE))\n",
    "    \n",
    "ERROR_MESSAGE = f\"### Hyperparameter Objective must be reg:squarederror, binary:logistic or multi:softmax\\n\\\n",
    "### This report currently does not support the objective: {objective_metric}\\n\\\n",
    "### Some of the graphs maybe missing.\\n\\\n",
    "\"    \n",
    "\n",
    "s=\"### Table of Contents\\n\\\n",
    "- [Distribution of True Labels of the Dataset](#section1)\\n\\\n",
    "- [Loss vs Step Graph](#section2)\\n\\\n",
    "- [Feature Importance](#section3)\\n\\\n",
    "\"\n",
    "\n",
    "classfication_specific_graphs=\"\\n\\\n",
    "- [Confusion Matrix](#section4)\\n\\\n",
    "- [Evaluation of the Confusion Matrix](#section4-1)\\n\\\n",
    "- [Accuracy Rate of Each Diagonal Element over Iteration](#section4-2)\\n\\\n",
    "\"\n",
    "binary_classification_specific_graphs=\"\\n\\\n",
    "- [Receiver Operating Characteristic Curve](#section5)\\n\\\n",
    "\"\n",
    "if objective_metric in [\"binary:logistic\", \"multi:softmax\"]:\n",
    "    s +=classfication_specific_graphs\n",
    "if objective_metric in [\"binary:logistic\"]:\n",
    "    s += binary_classification_specific_graphs\n",
    "    \n",
    "s+=\"\\n\\\n",
    "- [Distribution of Residuals at Last Saved Step](#section6)\\n\\\n",
    "\"\n",
    "\n",
    "regression_specific_graphs = \"\\n\\\n",
    "- [Absolute Validation Error per Label Bin over Iteration](#section7)\\n\\\n",
    "- [Mean Absolute Validation Error per Label Bin](#section8)\\n\\\n",
    "\"\n",
    "    \n",
    "if objective_metric in [\"reg:squarederror\"]:\n",
    "    s+=regression_specific_graphs\n",
    "\n",
    "if objective_metric not in SUPPORTED_OBJECTIVES:\n",
    "    display(Markdown(ERROR_MESSAGE))\n",
    "else:\n",
    "    display(Markdown(s))"
   ]
  },
  {
   "cell_type": "code",
   "execution_count": 8,
   "metadata": {
    "execution": {
     "iopub.execute_input": "2025-01-02T18:20:19.021243Z",
     "iopub.status.busy": "2025-01-02T18:20:19.020094Z",
     "iopub.status.idle": "2025-01-02T18:20:19.664446Z",
     "shell.execute_reply": "2025-01-02T18:20:19.663904Z"
    },
    "papermill": {
     "duration": 0.65973,
     "end_time": "2025-01-02T18:20:19.664577",
     "exception": false,
     "start_time": "2025-01-02T18:20:19.004847",
     "status": "completed"
    },
    "tags": [
     "hide-input"
    ]
   },
   "outputs": [
    {
     "data": {
      "text/html": [
       "\n",
       "    <div class=\"bk-root\">\n",
       "        <a href=\"https://bokeh.org\" target=\"_blank\" class=\"bk-logo bk-logo-small bk-logo-notebook\"></a>\n",
       "        <span id=\"1001\">Loading BokehJS ...</span>\n",
       "    </div>"
      ]
     },
     "metadata": {},
     "output_type": "display_data"
    },
    {
     "data": {
      "application/javascript": [
       "\n",
       "(function(root) {\n",
       "  function now() {\n",
       "    return new Date();\n",
       "  }\n",
       "\n",
       "  var force = true;\n",
       "\n",
       "  if (typeof root._bokeh_onload_callbacks === \"undefined\" || force === true) {\n",
       "    root._bokeh_onload_callbacks = [];\n",
       "    root._bokeh_is_loading = undefined;\n",
       "  }\n",
       "\n",
       "  var JS_MIME_TYPE = 'application/javascript';\n",
       "  var HTML_MIME_TYPE = 'text/html';\n",
       "  var EXEC_MIME_TYPE = 'application/vnd.bokehjs_exec.v0+json';\n",
       "  var CLASS_NAME = 'output_bokeh rendered_html';\n",
       "\n",
       "  /**\n",
       "   * Render data to the DOM node\n",
       "   */\n",
       "  function render(props, node) {\n",
       "    var script = document.createElement(\"script\");\n",
       "    node.appendChild(script);\n",
       "  }\n",
       "\n",
       "  /**\n",
       "   * Handle when an output is cleared or removed\n",
       "   */\n",
       "  function handleClearOutput(event, handle) {\n",
       "    var cell = handle.cell;\n",
       "\n",
       "    var id = cell.output_area._bokeh_element_id;\n",
       "    var server_id = cell.output_area._bokeh_server_id;\n",
       "    // Clean up Bokeh references\n",
       "    if (id != null && id in Bokeh.index) {\n",
       "      Bokeh.index[id].model.document.clear();\n",
       "      delete Bokeh.index[id];\n",
       "    }\n",
       "\n",
       "    if (server_id !== undefined) {\n",
       "      // Clean up Bokeh references\n",
       "      var cmd = \"from bokeh.io.state import curstate; print(curstate().uuid_to_server['\" + server_id + \"'].get_sessions()[0].document.roots[0]._id)\";\n",
       "      cell.notebook.kernel.execute(cmd, {\n",
       "        iopub: {\n",
       "          output: function(msg) {\n",
       "            var id = msg.content.text.trim();\n",
       "            if (id in Bokeh.index) {\n",
       "              Bokeh.index[id].model.document.clear();\n",
       "              delete Bokeh.index[id];\n",
       "            }\n",
       "          }\n",
       "        }\n",
       "      });\n",
       "      // Destroy server and session\n",
       "      var cmd = \"import bokeh.io.notebook as ion; ion.destroy_server('\" + server_id + \"')\";\n",
       "      cell.notebook.kernel.execute(cmd);\n",
       "    }\n",
       "  }\n",
       "\n",
       "  /**\n",
       "   * Handle when a new output is added\n",
       "   */\n",
       "  function handleAddOutput(event, handle) {\n",
       "    var output_area = handle.output_area;\n",
       "    var output = handle.output;\n",
       "\n",
       "    // limit handleAddOutput to display_data with EXEC_MIME_TYPE content only\n",
       "    if ((output.output_type != \"display_data\") || (!output.data.hasOwnProperty(EXEC_MIME_TYPE))) {\n",
       "      return\n",
       "    }\n",
       "\n",
       "    var toinsert = output_area.element.find(\".\" + CLASS_NAME.split(' ')[0]);\n",
       "\n",
       "    if (output.metadata[EXEC_MIME_TYPE][\"id\"] !== undefined) {\n",
       "      toinsert[toinsert.length - 1].firstChild.textContent = output.data[JS_MIME_TYPE];\n",
       "      // store reference to embed id on output_area\n",
       "      output_area._bokeh_element_id = output.metadata[EXEC_MIME_TYPE][\"id\"];\n",
       "    }\n",
       "    if (output.metadata[EXEC_MIME_TYPE][\"server_id\"] !== undefined) {\n",
       "      var bk_div = document.createElement(\"div\");\n",
       "      bk_div.innerHTML = output.data[HTML_MIME_TYPE];\n",
       "      var script_attrs = bk_div.children[0].attributes;\n",
       "      for (var i = 0; i < script_attrs.length; i++) {\n",
       "        toinsert[toinsert.length - 1].firstChild.setAttribute(script_attrs[i].name, script_attrs[i].value);\n",
       "        toinsert[toinsert.length - 1].firstChild.textContent = bk_div.children[0].textContent\n",
       "      }\n",
       "      // store reference to server id on output_area\n",
       "      output_area._bokeh_server_id = output.metadata[EXEC_MIME_TYPE][\"server_id\"];\n",
       "    }\n",
       "  }\n",
       "\n",
       "  function register_renderer(events, OutputArea) {\n",
       "\n",
       "    function append_mime(data, metadata, element) {\n",
       "      // create a DOM node to render to\n",
       "      var toinsert = this.create_output_subarea(\n",
       "        metadata,\n",
       "        CLASS_NAME,\n",
       "        EXEC_MIME_TYPE\n",
       "      );\n",
       "      this.keyboard_manager.register_events(toinsert);\n",
       "      // Render to node\n",
       "      var props = {data: data, metadata: metadata[EXEC_MIME_TYPE]};\n",
       "      render(props, toinsert[toinsert.length - 1]);\n",
       "      element.append(toinsert);\n",
       "      return toinsert\n",
       "    }\n",
       "\n",
       "    /* Handle when an output is cleared or removed */\n",
       "    events.on('clear_output.CodeCell', handleClearOutput);\n",
       "    events.on('delete.Cell', handleClearOutput);\n",
       "\n",
       "    /* Handle when a new output is added */\n",
       "    events.on('output_added.OutputArea', handleAddOutput);\n",
       "\n",
       "    /**\n",
       "     * Register the mime type and append_mime function with output_area\n",
       "     */\n",
       "    OutputArea.prototype.register_mime_type(EXEC_MIME_TYPE, append_mime, {\n",
       "      /* Is output safe? */\n",
       "      safe: true,\n",
       "      /* Index of renderer in `output_area.display_order` */\n",
       "      index: 0\n",
       "    });\n",
       "  }\n",
       "\n",
       "  // register the mime type if in Jupyter Notebook environment and previously unregistered\n",
       "  if (root.Jupyter !== undefined) {\n",
       "    var events = require('base/js/events');\n",
       "    var OutputArea = require('notebook/js/outputarea').OutputArea;\n",
       "\n",
       "    if (OutputArea.prototype.mime_types().indexOf(EXEC_MIME_TYPE) == -1) {\n",
       "      register_renderer(events, OutputArea);\n",
       "    }\n",
       "  }\n",
       "\n",
       "  \n",
       "  if (typeof (root._bokeh_timeout) === \"undefined\" || force === true) {\n",
       "    root._bokeh_timeout = Date.now() + 5000;\n",
       "    root._bokeh_failed_load = false;\n",
       "  }\n",
       "\n",
       "  var NB_LOAD_WARNING = {'data': {'text/html':\n",
       "     \"<div style='background-color: #fdd'>\\n\"+\n",
       "     \"<p>\\n\"+\n",
       "     \"BokehJS does not appear to have successfully loaded. If loading BokehJS from CDN, this \\n\"+\n",
       "     \"may be due to a slow or bad network connection. Possible fixes:\\n\"+\n",
       "     \"</p>\\n\"+\n",
       "     \"<ul>\\n\"+\n",
       "     \"<li>re-rerun `output_notebook()` to attempt to load from CDN again, or</li>\\n\"+\n",
       "     \"<li>use INLINE resources instead, as so:</li>\\n\"+\n",
       "     \"</ul>\\n\"+\n",
       "     \"<code>\\n\"+\n",
       "     \"from bokeh.resources import INLINE\\n\"+\n",
       "     \"output_notebook(resources=INLINE)\\n\"+\n",
       "     \"</code>\\n\"+\n",
       "     \"</div>\"}};\n",
       "\n",
       "  function display_loaded() {\n",
       "    var el = document.getElementById(\"1001\");\n",
       "    if (el != null) {\n",
       "      el.textContent = \"BokehJS is loading...\";\n",
       "    }\n",
       "    if (root.Bokeh !== undefined) {\n",
       "      if (el != null) {\n",
       "        el.textContent = \"BokehJS \" + root.Bokeh.version + \" successfully loaded.\";\n",
       "      }\n",
       "    } else if (Date.now() < root._bokeh_timeout) {\n",
       "      setTimeout(display_loaded, 100)\n",
       "    }\n",
       "  }\n",
       "\n",
       "\n",
       "  function run_callbacks() {\n",
       "    try {\n",
       "      root._bokeh_onload_callbacks.forEach(function(callback) {\n",
       "        if (callback != null)\n",
       "          callback();\n",
       "      });\n",
       "    } finally {\n",
       "      delete root._bokeh_onload_callbacks\n",
       "    }\n",
       "    console.debug(\"Bokeh: all callbacks have finished\");\n",
       "  }\n",
       "\n",
       "  function load_libs(css_urls, js_urls, callback) {\n",
       "    if (css_urls == null) css_urls = [];\n",
       "    if (js_urls == null) js_urls = [];\n",
       "\n",
       "    root._bokeh_onload_callbacks.push(callback);\n",
       "    if (root._bokeh_is_loading > 0) {\n",
       "      console.debug(\"Bokeh: BokehJS is being loaded, scheduling callback at\", now());\n",
       "      return null;\n",
       "    }\n",
       "    if (js_urls == null || js_urls.length === 0) {\n",
       "      run_callbacks();\n",
       "      return null;\n",
       "    }\n",
       "    console.debug(\"Bokeh: BokehJS not loaded, scheduling load and callback at\", now());\n",
       "    root._bokeh_is_loading = css_urls.length + js_urls.length;\n",
       "\n",
       "    function on_load() {\n",
       "      root._bokeh_is_loading--;\n",
       "      if (root._bokeh_is_loading === 0) {\n",
       "        console.debug(\"Bokeh: all BokehJS libraries/stylesheets loaded\");\n",
       "        run_callbacks()\n",
       "      }\n",
       "    }\n",
       "\n",
       "    function on_error() {\n",
       "      console.error(\"failed to load \" + url);\n",
       "    }\n",
       "\n",
       "    for (var i = 0; i < css_urls.length; i++) {\n",
       "      var url = css_urls[i];\n",
       "      const element = document.createElement(\"link\");\n",
       "      element.onload = on_load;\n",
       "      element.onerror = on_error;\n",
       "      element.rel = \"stylesheet\";\n",
       "      element.type = \"text/css\";\n",
       "      element.href = url;\n",
       "      console.debug(\"Bokeh: injecting link tag for BokehJS stylesheet: \", url);\n",
       "      document.body.appendChild(element);\n",
       "    }\n",
       "\n",
       "    const hashes = {\"https://cdn.bokeh.org/bokeh/release/bokeh-2.2.3.min.js\": \"T2yuo9Oe71Cz/I4X9Ac5+gpEa5a8PpJCDlqKYO0CfAuEszu1JrXLl8YugMqYe3sM\", \"https://cdn.bokeh.org/bokeh/release/bokeh-widgets-2.2.3.min.js\": \"98GDGJ0kOMCUMUePhksaQ/GYgB3+NH9h996V88sh3aOiUNX3N+fLXAtry6xctSZ6\", \"https://cdn.bokeh.org/bokeh/release/bokeh-tables-2.2.3.min.js\": \"89bArO+nlbP3sgakeHjCo1JYxYR5wufVgA3IbUvDY+K7w4zyxJqssu7wVnfeKCq8\"};\n",
       "\n",
       "    for (var i = 0; i < js_urls.length; i++) {\n",
       "      var url = js_urls[i];\n",
       "      var element = document.createElement('script');\n",
       "      element.onload = on_load;\n",
       "      element.onerror = on_error;\n",
       "      element.async = false;\n",
       "      element.src = url;\n",
       "      if (url in hashes) {\n",
       "        element.crossOrigin = \"anonymous\";\n",
       "        element.integrity = \"sha384-\" + hashes[url];\n",
       "      }\n",
       "      console.debug(\"Bokeh: injecting script tag for BokehJS library: \", url);\n",
       "      document.head.appendChild(element);\n",
       "    }\n",
       "  };\n",
       "\n",
       "  function inject_raw_css(css) {\n",
       "    const element = document.createElement(\"style\");\n",
       "    element.appendChild(document.createTextNode(css));\n",
       "    document.body.appendChild(element);\n",
       "  }\n",
       "\n",
       "  \n",
       "  var js_urls = [\"https://cdn.bokeh.org/bokeh/release/bokeh-2.2.3.min.js\", \"https://cdn.bokeh.org/bokeh/release/bokeh-widgets-2.2.3.min.js\", \"https://cdn.bokeh.org/bokeh/release/bokeh-tables-2.2.3.min.js\"];\n",
       "  var css_urls = [];\n",
       "  \n",
       "\n",
       "  var inline_js = [\n",
       "    function(Bokeh) {\n",
       "      Bokeh.set_log_level(\"info\");\n",
       "    },\n",
       "    function(Bokeh) {\n",
       "    \n",
       "    \n",
       "    }\n",
       "  ];\n",
       "\n",
       "  function run_inline_js() {\n",
       "    \n",
       "    if (root.Bokeh !== undefined || force === true) {\n",
       "      \n",
       "    for (var i = 0; i < inline_js.length; i++) {\n",
       "      inline_js[i].call(root, root.Bokeh);\n",
       "    }\n",
       "    if (force === true) {\n",
       "        display_loaded();\n",
       "      }} else if (Date.now() < root._bokeh_timeout) {\n",
       "      setTimeout(run_inline_js, 100);\n",
       "    } else if (!root._bokeh_failed_load) {\n",
       "      console.log(\"Bokeh: BokehJS failed to load within specified timeout.\");\n",
       "      root._bokeh_failed_load = true;\n",
       "    } else if (force !== true) {\n",
       "      var cell = $(document.getElementById(\"1001\")).parents('.cell').data().cell;\n",
       "      cell.output_area.append_execute_result(NB_LOAD_WARNING)\n",
       "    }\n",
       "\n",
       "  }\n",
       "\n",
       "  if (root._bokeh_is_loading === 0) {\n",
       "    console.debug(\"Bokeh: BokehJS loaded, going straight to plotting\");\n",
       "    run_inline_js();\n",
       "  } else {\n",
       "    load_libs(css_urls, js_urls, function() {\n",
       "      console.debug(\"Bokeh: BokehJS plotting callback run at\", now());\n",
       "      run_inline_js();\n",
       "    });\n",
       "  }\n",
       "}(window));"
      ],
      "application/vnd.bokehjs_load.v0+json": "\n(function(root) {\n  function now() {\n    return new Date();\n  }\n\n  var force = true;\n\n  if (typeof root._bokeh_onload_callbacks === \"undefined\" || force === true) {\n    root._bokeh_onload_callbacks = [];\n    root._bokeh_is_loading = undefined;\n  }\n\n  \n\n  \n  if (typeof (root._bokeh_timeout) === \"undefined\" || force === true) {\n    root._bokeh_timeout = Date.now() + 5000;\n    root._bokeh_failed_load = false;\n  }\n\n  var NB_LOAD_WARNING = {'data': {'text/html':\n     \"<div style='background-color: #fdd'>\\n\"+\n     \"<p>\\n\"+\n     \"BokehJS does not appear to have successfully loaded. If loading BokehJS from CDN, this \\n\"+\n     \"may be due to a slow or bad network connection. Possible fixes:\\n\"+\n     \"</p>\\n\"+\n     \"<ul>\\n\"+\n     \"<li>re-rerun `output_notebook()` to attempt to load from CDN again, or</li>\\n\"+\n     \"<li>use INLINE resources instead, as so:</li>\\n\"+\n     \"</ul>\\n\"+\n     \"<code>\\n\"+\n     \"from bokeh.resources import INLINE\\n\"+\n     \"output_notebook(resources=INLINE)\\n\"+\n     \"</code>\\n\"+\n     \"</div>\"}};\n\n  function display_loaded() {\n    var el = document.getElementById(\"1001\");\n    if (el != null) {\n      el.textContent = \"BokehJS is loading...\";\n    }\n    if (root.Bokeh !== undefined) {\n      if (el != null) {\n        el.textContent = \"BokehJS \" + root.Bokeh.version + \" successfully loaded.\";\n      }\n    } else if (Date.now() < root._bokeh_timeout) {\n      setTimeout(display_loaded, 100)\n    }\n  }\n\n\n  function run_callbacks() {\n    try {\n      root._bokeh_onload_callbacks.forEach(function(callback) {\n        if (callback != null)\n          callback();\n      });\n    } finally {\n      delete root._bokeh_onload_callbacks\n    }\n    console.debug(\"Bokeh: all callbacks have finished\");\n  }\n\n  function load_libs(css_urls, js_urls, callback) {\n    if (css_urls == null) css_urls = [];\n    if (js_urls == null) js_urls = [];\n\n    root._bokeh_onload_callbacks.push(callback);\n    if (root._bokeh_is_loading > 0) {\n      console.debug(\"Bokeh: BokehJS is being loaded, scheduling callback at\", now());\n      return null;\n    }\n    if (js_urls == null || js_urls.length === 0) {\n      run_callbacks();\n      return null;\n    }\n    console.debug(\"Bokeh: BokehJS not loaded, scheduling load and callback at\", now());\n    root._bokeh_is_loading = css_urls.length + js_urls.length;\n\n    function on_load() {\n      root._bokeh_is_loading--;\n      if (root._bokeh_is_loading === 0) {\n        console.debug(\"Bokeh: all BokehJS libraries/stylesheets loaded\");\n        run_callbacks()\n      }\n    }\n\n    function on_error() {\n      console.error(\"failed to load \" + url);\n    }\n\n    for (var i = 0; i < css_urls.length; i++) {\n      var url = css_urls[i];\n      const element = document.createElement(\"link\");\n      element.onload = on_load;\n      element.onerror = on_error;\n      element.rel = \"stylesheet\";\n      element.type = \"text/css\";\n      element.href = url;\n      console.debug(\"Bokeh: injecting link tag for BokehJS stylesheet: \", url);\n      document.body.appendChild(element);\n    }\n\n    const hashes = {\"https://cdn.bokeh.org/bokeh/release/bokeh-2.2.3.min.js\": \"T2yuo9Oe71Cz/I4X9Ac5+gpEa5a8PpJCDlqKYO0CfAuEszu1JrXLl8YugMqYe3sM\", \"https://cdn.bokeh.org/bokeh/release/bokeh-widgets-2.2.3.min.js\": \"98GDGJ0kOMCUMUePhksaQ/GYgB3+NH9h996V88sh3aOiUNX3N+fLXAtry6xctSZ6\", \"https://cdn.bokeh.org/bokeh/release/bokeh-tables-2.2.3.min.js\": \"89bArO+nlbP3sgakeHjCo1JYxYR5wufVgA3IbUvDY+K7w4zyxJqssu7wVnfeKCq8\"};\n\n    for (var i = 0; i < js_urls.length; i++) {\n      var url = js_urls[i];\n      var element = document.createElement('script');\n      element.onload = on_load;\n      element.onerror = on_error;\n      element.async = false;\n      element.src = url;\n      if (url in hashes) {\n        element.crossOrigin = \"anonymous\";\n        element.integrity = \"sha384-\" + hashes[url];\n      }\n      console.debug(\"Bokeh: injecting script tag for BokehJS library: \", url);\n      document.head.appendChild(element);\n    }\n  };\n\n  function inject_raw_css(css) {\n    const element = document.createElement(\"style\");\n    element.appendChild(document.createTextNode(css));\n    document.body.appendChild(element);\n  }\n\n  \n  var js_urls = [\"https://cdn.bokeh.org/bokeh/release/bokeh-2.2.3.min.js\", \"https://cdn.bokeh.org/bokeh/release/bokeh-widgets-2.2.3.min.js\", \"https://cdn.bokeh.org/bokeh/release/bokeh-tables-2.2.3.min.js\"];\n  var css_urls = [];\n  \n\n  var inline_js = [\n    function(Bokeh) {\n      Bokeh.set_log_level(\"info\");\n    },\n    function(Bokeh) {\n    \n    \n    }\n  ];\n\n  function run_inline_js() {\n    \n    if (root.Bokeh !== undefined || force === true) {\n      \n    for (var i = 0; i < inline_js.length; i++) {\n      inline_js[i].call(root, root.Bokeh);\n    }\n    if (force === true) {\n        display_loaded();\n      }} else if (Date.now() < root._bokeh_timeout) {\n      setTimeout(run_inline_js, 100);\n    } else if (!root._bokeh_failed_load) {\n      console.log(\"Bokeh: BokehJS failed to load within specified timeout.\");\n      root._bokeh_failed_load = true;\n    } else if (force !== true) {\n      var cell = $(document.getElementById(\"1001\")).parents('.cell').data().cell;\n      cell.output_area.append_execute_result(NB_LOAD_WARNING)\n    }\n\n  }\n\n  if (root._bokeh_is_loading === 0) {\n    console.debug(\"Bokeh: BokehJS loaded, going straight to plotting\");\n    run_inline_js();\n  } else {\n    load_libs(css_urls, js_urls, function() {\n      console.debug(\"Bokeh: BokehJS plotting callback run at\", now());\n      run_inline_js();\n    });\n  }\n}(window));"
     },
     "metadata": {},
     "output_type": "display_data"
    }
   ],
   "source": [
    "from bokeh.io import output_notebook, show\n",
    "from bokeh.layouts import gridplot\n",
    "from bokeh.models import ColumnDataSource\n",
    "from bokeh.plotting import figure\n",
    "output_notebook()"
   ]
  },
  {
   "cell_type": "markdown",
   "metadata": {
    "papermill": {
     "duration": 0.010745,
     "end_time": "2025-01-02T18:20:19.685178",
     "exception": false,
     "start_time": "2025-01-02T18:20:19.674433",
     "status": "completed"
    },
    "tags": []
   },
   "source": [
    "## Distribution of True Labels of the Dataset  <a name=\"section1\"></a>\n",
    "\n",
    "In the following graph, you can check the histogram of the true (target) labels of your raw data. You can see if the distribution of the target labels for prediction are skewed (in case of regression) or imbalanced (in case of classification).\n",
    "\n",
    "* If the data for regression is skewed, you might want to reduce the skewness by taking the log or power transformation on the right-scewed or the left-scewed data respectively. Using the Python [NumPy](https://numpy.org/) library, you can simply apply [numpy.log](https://numpy.org/doc/stable/reference/generated/numpy.log.html?highlight=log#numpy.log) or [numpy.exp](https://numpy.org/doc/stable/reference/generated/numpy.exp.html?highlight=exp#numpy.exp) to your target values.\n",
    "* If the data for classification is imbalanced, you might want to improve your sample by collecting more data, resampling, or generating synthetic samples. This can also be mitigated at the step of evaluating performance metrics, such as Confusion Matrix, Precision, Recall, F-score, and Receiver Operating Characteristic curves.\n",
    "\n",
    "\n"
   ]
  },
  {
   "cell_type": "code",
   "execution_count": 9,
   "metadata": {
    "execution": {
     "iopub.execute_input": "2025-01-02T18:20:19.718180Z",
     "iopub.status.busy": "2025-01-02T18:20:19.716620Z",
     "iopub.status.idle": "2025-01-02T18:20:19.768561Z",
     "shell.execute_reply": "2025-01-02T18:20:19.769072Z"
    },
    "papermill": {
     "duration": 0.074085,
     "end_time": "2025-01-02T18:20:19.769229",
     "exception": false,
     "start_time": "2025-01-02T18:20:19.695144",
     "status": "completed"
    },
    "tags": [
     "hide-input"
    ]
   },
   "outputs": [
    {
     "data": {
      "text/html": [
       "\n",
       "\n",
       "\n",
       "\n",
       "\n",
       "\n",
       "  <div class=\"bk-root\" id=\"a0e6e962-2fcb-4b2e-b211-7cea63eb9440\" data-root-id=\"1003\"></div>\n"
      ]
     },
     "metadata": {},
     "output_type": "display_data"
    },
    {
     "data": {
      "application/javascript": [
       "(function(root) {\n",
       "  function embed_document(root) {\n",
       "    \n",
       "  var docs_json = {\"c239b6c8-fd2e-40ea-aa16-9ae3632dc9d7\":{\"roots\":{\"references\":[{\"attributes\":{\"below\":[{\"id\":\"1014\"}],\"center\":[{\"id\":\"1017\"},{\"id\":\"1021\"}],\"left\":[{\"id\":\"1018\"}],\"plot_height\":500,\"plot_width\":1000,\"renderers\":[{\"id\":\"1040\"}],\"title\":{\"id\":\"1004\"},\"toolbar\":{\"id\":\"1030\"},\"toolbar_location\":\"left\",\"x_range\":{\"id\":\"1006\"},\"x_scale\":{\"id\":\"1010\"},\"y_range\":{\"id\":\"1008\"},\"y_scale\":{\"id\":\"1012\"}},\"id\":\"1003\",\"subtype\":\"Figure\",\"type\":\"Plot\"},{\"attributes\":{},\"id\":\"1019\",\"type\":\"BasicTicker\"},{\"attributes\":{\"start\":0},\"id\":\"1008\",\"type\":\"DataRange1d\"},{\"attributes\":{\"axis\":{\"id\":\"1018\"},\"dimension\":1,\"ticker\":null},\"id\":\"1021\",\"type\":\"Grid\"},{\"attributes\":{\"axis_label\":\"Count Of Samples Per Label\",\"formatter\":{\"id\":\"1045\"},\"ticker\":{\"id\":\"1019\"}},\"id\":\"1018\",\"type\":\"LinearAxis\"},{\"attributes\":{\"fill_alpha\":0.5,\"fill_color\":\"lightgrey\",\"level\":\"overlay\",\"line_alpha\":1.0,\"line_color\":\"black\",\"line_dash\":[4,4],\"line_width\":2,\"xs_units\":\"screen\",\"ys_units\":\"screen\"},\"id\":\"1028\",\"type\":\"PolyAnnotation\"},{\"attributes\":{\"data_source\":{\"id\":\"1002\"},\"glyph\":{\"id\":\"1038\"},\"hover_glyph\":null,\"muted_glyph\":null,\"nonselection_glyph\":{\"id\":\"1039\"},\"selection_glyph\":null,\"view\":{\"id\":\"1041\"}},\"id\":\"1040\",\"type\":\"GlyphRenderer\"},{\"attributes\":{\"bottom_units\":\"screen\",\"fill_alpha\":0.5,\"fill_color\":\"lightgrey\",\"left_units\":\"screen\",\"level\":\"overlay\",\"line_alpha\":1.0,\"line_color\":\"black\",\"line_dash\":[4,4],\"line_width\":2,\"right_units\":\"screen\",\"top_units\":\"screen\"},\"id\":\"1027\",\"type\":\"BoxAnnotation\"},{\"attributes\":{},\"id\":\"1051\",\"type\":\"Selection\"},{\"attributes\":{\"text\":\"Distribution Of True Labels In The Validation Dataset\"},\"id\":\"1004\",\"type\":\"Title\"},{\"attributes\":{\"interval\":1},\"id\":\"1042\",\"type\":\"SingleIntervalTicker\"},{\"attributes\":{},\"id\":\"1006\",\"type\":\"DataRange1d\"},{\"attributes\":{\"callback\":null,\"tooltips\":[[\"label\",\"@label\"],[\"count\",\"@label_count\"]]},\"id\":\"1029\",\"type\":\"HoverTool\"},{\"attributes\":{},\"id\":\"1022\",\"type\":\"PanTool\"},{\"attributes\":{\"active_drag\":\"auto\",\"active_inspect\":\"auto\",\"active_multi\":null,\"active_scroll\":\"auto\",\"active_tap\":\"auto\",\"tools\":[{\"id\":\"1022\"},{\"id\":\"1023\"},{\"id\":\"1024\"},{\"id\":\"1025\"},{\"id\":\"1026\"},{\"id\":\"1029\"}]},\"id\":\"1030\",\"type\":\"Toolbar\"},{\"attributes\":{},\"id\":\"1023\",\"type\":\"WheelZoomTool\"},{\"attributes\":{\"fill_alpha\":{\"value\":0.1},\"fill_color\":{\"value\":\"#1f77b4\"},\"line_alpha\":{\"value\":0.1},\"line_color\":{\"value\":\"#1f77b4\"},\"top\":{\"field\":\"label_count\"},\"width\":{\"value\":0.5},\"x\":{\"field\":\"label\"}},\"id\":\"1039\",\"type\":\"VBar\"},{\"attributes\":{},\"id\":\"1024\",\"type\":\"ResetTool\"},{\"attributes\":{\"overlay\":{\"id\":\"1028\"}},\"id\":\"1025\",\"type\":\"PolySelectTool\"},{\"attributes\":{},\"id\":\"1010\",\"type\":\"LinearScale\"},{\"attributes\":{},\"id\":\"1050\",\"type\":\"UnionRenderers\"},{\"attributes\":{\"overlay\":{\"id\":\"1027\"}},\"id\":\"1026\",\"type\":\"BoxZoomTool\"},{\"attributes\":{\"data\":{\"label\":{\"__ndarray__\":\"AAAAAAAAgD8=\",\"dtype\":\"float32\",\"order\":\"little\",\"shape\":[2]},\"label_count\":[54461,17182]},\"selected\":{\"id\":\"1051\"},\"selection_policy\":{\"id\":\"1050\"}},\"id\":\"1002\",\"type\":\"ColumnDataSource\"},{\"attributes\":{},\"id\":\"1047\",\"type\":\"BasicTickFormatter\"},{\"attributes\":{},\"id\":\"1045\",\"type\":\"BasicTickFormatter\"},{\"attributes\":{},\"id\":\"1012\",\"type\":\"LinearScale\"},{\"attributes\":{\"source\":{\"id\":\"1002\"}},\"id\":\"1041\",\"type\":\"CDSView\"},{\"attributes\":{\"axis\":{\"id\":\"1014\"},\"grid_line_color\":null,\"ticker\":null},\"id\":\"1017\",\"type\":\"Grid\"},{\"attributes\":{\"fill_color\":{\"value\":\"#1f77b4\"},\"line_color\":{\"value\":\"#1f77b4\"},\"top\":{\"field\":\"label_count\"},\"width\":{\"value\":0.5},\"x\":{\"field\":\"label\"}},\"id\":\"1038\",\"type\":\"VBar\"},{\"attributes\":{\"axis_label\":\"Labels\",\"formatter\":{\"id\":\"1047\"},\"ticker\":{\"id\":\"1042\"}},\"id\":\"1014\",\"type\":\"LinearAxis\"}],\"root_ids\":[\"1003\"]},\"title\":\"Bokeh Application\",\"version\":\"2.2.3\"}};\n",
       "  var render_items = [{\"docid\":\"c239b6c8-fd2e-40ea-aa16-9ae3632dc9d7\",\"root_ids\":[\"1003\"],\"roots\":{\"1003\":\"a0e6e962-2fcb-4b2e-b211-7cea63eb9440\"}}];\n",
       "  root.Bokeh.embed.embed_items_notebook(docs_json, render_items);\n",
       "\n",
       "  }\n",
       "  if (root.Bokeh !== undefined) {\n",
       "    embed_document(root);\n",
       "  } else {\n",
       "    var attempts = 0;\n",
       "    var timer = setInterval(function(root) {\n",
       "      if (root.Bokeh !== undefined) {\n",
       "        clearInterval(timer);\n",
       "        embed_document(root);\n",
       "      } else {\n",
       "        attempts++;\n",
       "        if (attempts > 100) {\n",
       "          clearInterval(timer);\n",
       "          console.log(\"Bokeh: ERROR: Unable to run BokehJS code because BokehJS library is missing\");\n",
       "        }\n",
       "      }\n",
       "    }, 10, root)\n",
       "  }\n",
       "})(window);"
      ],
      "application/vnd.bokehjs_exec.v0+json": ""
     },
     "metadata": {
      "application/vnd.bokehjs_exec.v0+json": {
       "id": "1003"
      }
     },
     "output_type": "display_data"
    }
   ],
   "source": [
    "import numpy as np\n",
    "from bokeh.models.tickers import SingleIntervalTicker\n",
    "\n",
    "def plot_label_distribution():\n",
    "    labels = []\n",
    "    label_steps = trial.tensor('labels').steps()\n",
    "    for step in label_steps:\n",
    "        label = trial.tensor('labels').value(step)\n",
    "        if objective_metric in [\"binary:logistic\", \"multi:softmax\"]:\n",
    "            label = label.round()\n",
    "        labels.append(label)\n",
    "    \n",
    "    labels, label_counts = np.unique(labels, return_counts=True)\n",
    "    TOOLS=\"pan,wheel_zoom,reset,poly_select,box_zoom\"\n",
    "    TOOLTIPS = [\n",
    "        (\"label\", \"@label\"),\n",
    "        (\"count\", \"@label_count\"),\n",
    "    ]\n",
    "    source = ColumnDataSource(data=dict(label=labels, label_count=label_counts))\n",
    "    p = figure(\n",
    "        title=f\"Distribution Of True Labels In The Validation Dataset\",\n",
    "        toolbar_location=\"left\", \n",
    "        tools=TOOLS,\n",
    "        tooltips=TOOLTIPS,\n",
    "        plot_height=500,\n",
    "        plot_width=1000\n",
    "    )\n",
    "    p.vbar(x='label', top='label_count', source=source, width=0.5)\n",
    "    p.xgrid.grid_line_color = None\n",
    "    p.xaxis.axis_label = 'Labels'\n",
    "    p.yaxis.axis_label = 'Count Of Samples Per Label'\n",
    "    p.y_range.start = 0\n",
    "    p.xaxis.ticker = SingleIntervalTicker(interval=1)\n",
    "\n",
    "    show(p)\n",
    "    \n",
    "avail_steps = trial.steps()\n",
    "if \"labels\" in tensor_names and 'predictions' in tensor_names:\n",
    "    plot_label_distribution()\n",
    "else:\n",
    "    error_message = \"\\n\\\n",
    "    Labels and Predictions are missing in the debugger data output.\\n\\\n",
    "    Please check if labels and predictions are included in your Debugger Hook Config.\\n\\\n",
    "    \"\n",
    "    display(Markdown(error_message))"
   ]
  },
  {
   "cell_type": "markdown",
   "metadata": {
    "papermill": {
     "duration": 0.010275,
     "end_time": "2025-01-02T18:20:19.801309",
     "exception": false,
     "start_time": "2025-01-02T18:20:19.791034",
     "status": "completed"
    },
    "tags": []
   },
   "source": [
    "## Loss vs Step Graph <a name=\"section2\"></a> \n",
    "\n",
    "SageMaker Debugger automatically captures loss values of the [XGBoost Learning Task Parameters](https://xgboost.readthedocs.io/en/latest/parameter.html#learning-task-parameters).\n",
    "\n",
    "The loss curves provide the following insights.\n",
    "\n",
    "* An **underfitting** model *(high bias)* has high training error and high validation error. Underfitting means that your model is not converging while training, resulting in a generalization failure on both training and validation data sets.\n",
    "* An **overfitting** model *(high variance)* has extremely low training error but a high validation error. Overfitting happens when your model is trained too well to fit the noisy training data, resulting in negative impacts on your model performance on validation set.\n",
    "\n",
    "\n",
    "**Suggestions**:\n",
    "\n",
    "* If underfitting, the model is not suitable to your dataset, or the model parameters are not properly set up. You might want to consider:\n",
    "    * adding more features\n",
    "    * increasing the complexity of your model — increase the depth of each tree, `max_depth`\n",
    "    * tuning the hyperparameters — decrease the `gamma` and `eta` parameters \n",
    "    * decreasing regularization parameters — the `lambda` and `alpha` parameters\n",
    "    * or even training and comparing with other algorithms.\n",
    "* If overfitting, the model is too complex and trains to fit on the noisiness of the training set. You might want to consider:\n",
    "    * reducing the depth of each tree, max_depth\n",
    "    * increasing the min_child_weight parameter\n",
    "    * tuning the hyperparameters — increase the `gamma` and `eta` parameters\n",
    "    * increasing regularization parameters — the `lambda` and `alpha` parameters\n",
    "    * increasing the `subsample` and `colsample_bytree` parameters\n",
    "    * pruning a tree to remove the least significant feature — referring to the next sections where the feature importance scores are provided."
   ]
  },
  {
   "cell_type": "code",
   "execution_count": 10,
   "metadata": {
    "execution": {
     "iopub.execute_input": "2025-01-02T18:20:19.835017Z",
     "iopub.status.busy": "2025-01-02T18:20:19.827521Z",
     "iopub.status.idle": "2025-01-02T18:20:19.890061Z",
     "shell.execute_reply": "2025-01-02T18:20:19.890589Z"
    },
    "papermill": {
     "duration": 0.078564,
     "end_time": "2025-01-02T18:20:19.890749",
     "exception": false,
     "start_time": "2025-01-02T18:20:19.812185",
     "status": "completed"
    },
    "tags": [
     "hide-input"
    ]
   },
   "outputs": [
    {
     "data": {
      "text/html": [
       "\n",
       "\n",
       "\n",
       "\n",
       "\n",
       "\n",
       "  <div class=\"bk-root\" id=\"d227167a-9a20-443a-bd66-b54e7cde3747\" data-root-id=\"1092\"></div>\n"
      ]
     },
     "metadata": {},
     "output_type": "display_data"
    },
    {
     "data": {
      "application/javascript": [
       "(function(root) {\n",
       "  function embed_document(root) {\n",
       "    \n",
       "  var docs_json = {\"84c2f2bf-b68d-4c14-873a-f90ed3fdb0b9\":{\"roots\":{\"references\":[{\"attributes\":{\"below\":[{\"id\":\"1103\"}],\"center\":[{\"id\":\"1106\"},{\"id\":\"1110\"},{\"id\":\"1141\"}],\"left\":[{\"id\":\"1107\"}],\"renderers\":[{\"id\":\"1130\"},{\"id\":\"1147\"}],\"title\":{\"id\":\"1093\"},\"toolbar\":{\"id\":\"1119\"},\"x_range\":{\"id\":\"1095\"},\"x_scale\":{\"id\":\"1099\"},\"y_range\":{\"id\":\"1097\"},\"y_scale\":{\"id\":\"1101\"}},\"id\":\"1092\",\"subtype\":\"Figure\",\"type\":\"Plot\"},{\"attributes\":{\"axis\":{\"id\":\"1103\"},\"ticker\":null},\"id\":\"1106\",\"type\":\"Grid\"},{\"attributes\":{\"line_alpha\":0.1,\"line_color\":\"tomato\",\"line_width\":2,\"x\":{\"field\":\"step\"},\"y\":{\"field\":\"error\"}},\"id\":\"1146\",\"type\":\"Line\"},{\"attributes\":{\"text\":\"Training and Validation Loss\"},\"id\":\"1093\",\"type\":\"Title\"},{\"attributes\":{\"data_source\":{\"id\":\"1143\"},\"glyph\":{\"id\":\"1145\"},\"hover_glyph\":null,\"muted_glyph\":null,\"nonselection_glyph\":{\"id\":\"1146\"},\"selection_glyph\":null,\"view\":{\"id\":\"1148\"}},\"id\":\"1147\",\"type\":\"GlyphRenderer\"},{\"attributes\":{},\"id\":\"1099\",\"type\":\"LinearScale\"},{\"attributes\":{\"fill_alpha\":0.5,\"fill_color\":\"lightgrey\",\"level\":\"overlay\",\"line_alpha\":1.0,\"line_color\":\"black\",\"line_dash\":[4,4],\"line_width\":2,\"xs_units\":\"screen\",\"ys_units\":\"screen\"},\"id\":\"1117\",\"type\":\"PolyAnnotation\"},{\"attributes\":{},\"id\":\"1097\",\"type\":\"DataRange1d\"},{\"attributes\":{},\"id\":\"1158\",\"type\":\"UnionRenderers\"},{\"attributes\":{\"bottom_units\":\"screen\",\"fill_alpha\":0.5,\"fill_color\":\"lightgrey\",\"left_units\":\"screen\",\"level\":\"overlay\",\"line_alpha\":1.0,\"line_color\":\"black\",\"line_dash\":[4,4],\"line_width\":2,\"right_units\":\"screen\",\"top_units\":\"screen\"},\"id\":\"1116\",\"type\":\"BoxAnnotation\"},{\"attributes\":{\"active_drag\":\"auto\",\"active_inspect\":\"auto\",\"active_multi\":null,\"active_scroll\":\"auto\",\"active_tap\":\"auto\",\"tools\":[{\"id\":\"1111\"},{\"id\":\"1112\"},{\"id\":\"1113\"},{\"id\":\"1114\"},{\"id\":\"1115\"},{\"id\":\"1118\"}]},\"id\":\"1119\",\"type\":\"Toolbar\"},{\"attributes\":{},\"id\":\"1101\",\"type\":\"LinearScale\"},{\"attributes\":{\"axis_label\":\"Steps\",\"formatter\":{\"id\":\"1135\"},\"ticker\":{\"id\":\"1104\"}},\"id\":\"1103\",\"type\":\"LinearAxis\"},{\"attributes\":{},\"id\":\"1113\",\"type\":\"ResetTool\"},{\"attributes\":{},\"id\":\"1139\",\"type\":\"UnionRenderers\"},{\"attributes\":{\"data_source\":{\"id\":\"1126\"},\"glyph\":{\"id\":\"1128\"},\"hover_glyph\":null,\"muted_glyph\":null,\"nonselection_glyph\":{\"id\":\"1129\"},\"selection_glyph\":null,\"view\":{\"id\":\"1131\"}},\"id\":\"1130\",\"type\":\"GlyphRenderer\"},{\"attributes\":{},\"id\":\"1104\",\"type\":\"BasicTicker\"},{\"attributes\":{\"overlay\":{\"id\":\"1116\"}},\"id\":\"1115\",\"type\":\"BoxSelectTool\"},{\"attributes\":{\"axis\":{\"id\":\"1107\"},\"dimension\":1,\"ticker\":null},\"id\":\"1110\",\"type\":\"Grid\"},{\"attributes\":{\"dimensions\":\"width\"},\"id\":\"1112\",\"type\":\"WheelZoomTool\"},{\"attributes\":{\"callback\":null,\"tooltips\":[[\"error\",\"@error\"],[\"step\",\"@step\"]]},\"id\":\"1118\",\"type\":\"HoverTool\"},{\"attributes\":{},\"id\":\"1133\",\"type\":\"BasicTickFormatter\"},{\"attributes\":{\"data\":{\"error\":[{\"__ndarray__\":\"7s7abReawz8=\",\"dtype\":\"float64\",\"order\":\"little\",\"shape\":[1]},{\"__ndarray__\":\"dy/3yVGAwj8=\",\"dtype\":\"float64\",\"order\":\"little\",\"shape\":[1]},{\"__ndarray__\":\"PIVcqWdBwj8=\",\"dtype\":\"float64\",\"order\":\"little\",\"shape\":[1]},{\"__ndarray__\":\"xVVl3xXBwT8=\",\"dtype\":\"float64\",\"order\":\"little\",\"shape\":[1]},{\"__ndarray__\":\"B33p7c9FwT8=\",\"dtype\":\"float64\",\"order\":\"little\",\"shape\":[1]},{\"__ndarray__\":\"nz2XqUnwwD8=\",\"dtype\":\"float64\",\"order\":\"little\",\"shape\":[1]},{\"__ndarray__\":\"G4S53ct9wD8=\",\"dtype\":\"float64\",\"order\":\"little\",\"shape\":[1]},{\"__ndarray__\":\"0XR2MjhKwD8=\",\"dtype\":\"float64\",\"order\":\"little\",\"shape\":[1]},{\"__ndarray__\":\"B3jSwmUVwD8=\",\"dtype\":\"float64\",\"order\":\"little\",\"shape\":[1]},{\"__ndarray__\":\"ujE9YYkHwD8=\",\"dtype\":\"float64\",\"order\":\"little\",\"shape\":[1]},{\"__ndarray__\":\"mMCtu3mqvz8=\",\"dtype\":\"float64\",\"order\":\"little\",\"shape\":[1]}],\"step\":[0,5,10,15,20,25,30,35,40,45,50]},\"selected\":{\"id\":\"1140\"},\"selection_policy\":{\"id\":\"1139\"}},\"id\":\"1126\",\"type\":\"ColumnDataSource\"},{\"attributes\":{\"click_policy\":\"hide\",\"items\":[{\"id\":\"1142\"},{\"id\":\"1160\"}],\"location\":\"center_right\"},\"id\":\"1141\",\"type\":\"Legend\"},{\"attributes\":{},\"id\":\"1108\",\"type\":\"BasicTicker\"},{\"attributes\":{\"overlay\":{\"id\":\"1117\"}},\"id\":\"1114\",\"type\":\"PolySelectTool\"},{\"attributes\":{},\"id\":\"1135\",\"type\":\"BasicTickFormatter\"},{\"attributes\":{\"source\":{\"id\":\"1126\"}},\"id\":\"1131\",\"type\":\"CDSView\"},{\"attributes\":{},\"id\":\"1111\",\"type\":\"PanTool\"},{\"attributes\":{},\"id\":\"1140\",\"type\":\"Selection\"},{\"attributes\":{\"line_alpha\":0.1,\"line_color\":\"cornflowerblue\",\"line_width\":2,\"x\":{\"field\":\"step\"},\"y\":{\"field\":\"error\"}},\"id\":\"1129\",\"type\":\"Line\"},{\"attributes\":{\"label\":{\"value\":\"train-error\"},\"renderers\":[{\"id\":\"1130\"}]},\"id\":\"1142\",\"type\":\"LegendItem\"},{\"attributes\":{\"axis_label\":\"Loss (Error)\",\"formatter\":{\"id\":\"1133\"},\"ticker\":{\"id\":\"1108\"}},\"id\":\"1107\",\"type\":\"LinearAxis\"},{\"attributes\":{\"data\":{\"error\":[{\"__ndarray__\":\"k4sxsI7jwz8=\",\"dtype\":\"float64\",\"order\":\"little\",\"shape\":[1]},{\"__ndarray__\":\"WHGqtTALwz8=\",\"dtype\":\"float64\",\"order\":\"little\",\"shape\":[1]},{\"__ndarray__\":\"4GbxYmGIwj8=\",\"dtype\":\"float64\",\"order\":\"little\",\"shape\":[1]},{\"__ndarray__\":\"BcQkXMgjwj8=\",\"dtype\":\"float64\",\"order\":\"little\",\"shape\":[1]},{\"__ndarray__\":\"zlDc8Sa/wT8=\",\"dtype\":\"float64\",\"order\":\"little\",\"shape\":[1]},{\"__ndarray__\":\"GsHG9e/6wD8=\",\"dtype\":\"float64\",\"order\":\"little\",\"shape\":[1]},{\"__ndarray__\":\"znADPj+MwD8=\",\"dtype\":\"float64\",\"order\":\"little\",\"shape\":[1]},{\"__ndarray__\":\"kuumlNdKwD8=\",\"dtype\":\"float64\",\"order\":\"little\",\"shape\":[1]},{\"__ndarray__\":\"kuumlNdKwD8=\",\"dtype\":\"float64\",\"order\":\"little\",\"shape\":[1]},{\"__ndarray__\":\"2ZQrvMtFwD8=\",\"dtype\":\"float64\",\"order\":\"little\",\"shape\":[1]},{\"__ndarray__\":\"l/26050nwD8=\",\"dtype\":\"float64\",\"order\":\"little\",\"shape\":[1]}],\"step\":[0,5,10,15,20,25,30,35,40,45,50]},\"selected\":{\"id\":\"1159\"},\"selection_policy\":{\"id\":\"1158\"}},\"id\":\"1143\",\"type\":\"ColumnDataSource\"},{\"attributes\":{\"source\":{\"id\":\"1143\"}},\"id\":\"1148\",\"type\":\"CDSView\"},{\"attributes\":{\"label\":{\"value\":\"validation-error\"},\"renderers\":[{\"id\":\"1147\"}]},\"id\":\"1160\",\"type\":\"LegendItem\"},{\"attributes\":{},\"id\":\"1159\",\"type\":\"Selection\"},{\"attributes\":{},\"id\":\"1095\",\"type\":\"DataRange1d\"},{\"attributes\":{\"line_color\":\"tomato\",\"line_width\":2,\"x\":{\"field\":\"step\"},\"y\":{\"field\":\"error\"}},\"id\":\"1145\",\"type\":\"Line\"},{\"attributes\":{\"line_color\":\"cornflowerblue\",\"line_width\":2,\"x\":{\"field\":\"step\"},\"y\":{\"field\":\"error\"}},\"id\":\"1128\",\"type\":\"Line\"}],\"root_ids\":[\"1092\"]},\"title\":\"Bokeh Application\",\"version\":\"2.2.3\"}};\n",
       "  var render_items = [{\"docid\":\"84c2f2bf-b68d-4c14-873a-f90ed3fdb0b9\",\"root_ids\":[\"1092\"],\"roots\":{\"1092\":\"d227167a-9a20-443a-bd66-b54e7cde3747\"}}];\n",
       "  root.Bokeh.embed.embed_items_notebook(docs_json, render_items);\n",
       "\n",
       "  }\n",
       "  if (root.Bokeh !== undefined) {\n",
       "    embed_document(root);\n",
       "  } else {\n",
       "    var attempts = 0;\n",
       "    var timer = setInterval(function(root) {\n",
       "      if (root.Bokeh !== undefined) {\n",
       "        clearInterval(timer);\n",
       "        embed_document(root);\n",
       "      } else {\n",
       "        attempts++;\n",
       "        if (attempts > 100) {\n",
       "          clearInterval(timer);\n",
       "          console.log(\"Bokeh: ERROR: Unable to run BokehJS code because BokehJS library is missing\");\n",
       "        }\n",
       "      }\n",
       "    }, 10, root)\n",
       "  }\n",
       "})(window);"
      ],
      "application/vnd.bokehjs_exec.v0+json": ""
     },
     "metadata": {
      "application/vnd.bokehjs_exec.v0+json": {
       "id": "1092"
      }
     },
     "output_type": "display_data"
    }
   ],
   "source": [
    "from bokeh.models import ColumnDataSource\n",
    "from bokeh.models import HoverTool\n",
    "import re\n",
    "\n",
    "\n",
    "def get_data(trial, tname):\n",
    "    \"\"\"\n",
    "    For the given tensor name, walks through all the iterations\n",
    "    for which you have data and fetches the values.\n",
    "    Returns the set of steps and the values.\n",
    "    \"\"\"\n",
    "    tensor = trial.tensor(tname)\n",
    "    steps = tensor.steps()\n",
    "    vals = [tensor.value(s) for s in steps]\n",
    "    return steps, vals\n",
    "\n",
    "def plot_evaluation_metrics():\n",
    "    collection_name = \"metrics\"\n",
    "    regex='.*'\n",
    "    tensors = trial.collection(collection_name).tensor_names\n",
    "    TOOLS=\"pan,xwheel_zoom,reset,poly_select,box_select\"    \n",
    "    TOOLTIPS = [\n",
    "        (\"error\", \"@error\"),\n",
    "        (\"step\", \"@step\"),\n",
    "    ]\n",
    "    p = figure(\n",
    "        tools=TOOLS, \n",
    "        title=\"Training and Validation Loss\", \n",
    "        tooltips=TOOLTIPS, \n",
    "        x_axis_label=\"Steps\", \n",
    "        y_axis_label=\"Loss (Error)\"\n",
    "    )\n",
    "    plots = []\n",
    "    colors = [\"tomato\", \"cornflowerblue\"]\n",
    "    for tensor_name in sorted(tensors):\n",
    "        if re.match(regex, tensor_name):\n",
    "            steps, data = get_data(trial, tensor_name)\n",
    "            source = ColumnDataSource(data=dict(step=steps, error=data))\n",
    "            p.line(\n",
    "                x='step',\n",
    "                y='error', \n",
    "                line_width=2, \n",
    "                source=source, \n",
    "                color=colors.pop(),\n",
    "                legend_label=f\"{tensor_name}\"\n",
    "            )\n",
    "            plots.append(p)\n",
    "    p.legend.location = \"center_right\"\n",
    "    p.legend.click_policy=\"hide\"\n",
    "\n",
    "    show(p)\n",
    "if len(trial.tensor_names(collection=\"metrics\")) > 0:    \n",
    "    plot_evaluation_metrics()\n",
    "else:\n",
    "    error_message = \"\\n\\\n",
    "    Metrics are missing in the debugger data output.\\n\\\n",
    "    Please check if metrics are included in your Debugger Hook Config.\\n\\\n",
    "    \"\n",
    "    display(Markdown(error_message))"
   ]
  },
  {
   "cell_type": "markdown",
   "metadata": {
    "papermill": {
     "duration": 0.012293,
     "end_time": "2025-01-02T18:20:19.918622",
     "exception": false,
     "start_time": "2025-01-02T18:20:19.906329",
     "status": "completed"
    },
    "tags": []
   },
   "source": [
    "## Feature Importance <a name=\"section3\"></a>\n",
    "\n",
    "Feature importance refers to techniques that assign scores to input features based on how useful they are at predicting a target variable.\n",
    "The supported importance types for XGBoost are:\n",
    "\n",
    "* **Weight** (or **Frequency**) is the percentage representing the relative number of times a particular feature occurs in the trees of the model.\n",
    "* **Gain** is the improvement in accuracy brought by a feature to the branches it is on. *The Gain is the most relevant attribute to interpret the relative importance of each feature.*\n",
    "* **Coverage** measures the relative quantity of observations concerned by a feature. "
   ]
  },
  {
   "cell_type": "code",
   "execution_count": 11,
   "metadata": {
    "execution": {
     "iopub.execute_input": "2025-01-02T18:20:19.954316Z",
     "iopub.status.busy": "2025-01-02T18:20:19.953272Z",
     "iopub.status.idle": "2025-01-02T18:20:19.955488Z",
     "shell.execute_reply": "2025-01-02T18:20:19.956409Z"
    },
    "papermill": {
     "duration": 0.027158,
     "end_time": "2025-01-02T18:20:19.956566",
     "exception": false,
     "start_time": "2025-01-02T18:20:19.929408",
     "status": "completed"
    },
    "tags": [
     "hide-input"
    ]
   },
   "outputs": [],
   "source": [
    "from bokeh.models import ColorBar\n",
    "from bokeh.palettes import Spectral6\n",
    "from bokeh.transform import factor_cmap\n",
    "from bokeh.models.mappers import CategoricalColorMapper\n",
    "\n",
    "def plot_feature_importance(importance_type=\"gain\"):\n",
    "    SUPPORTED_IMPORTANCE_TYPES = [\"weight\", \"gain\", \"cover\"]\n",
    "    if importance_type not in SUPPORTED_IMPORTANCE_TYPES:\n",
    "        raise ValueError(f\"{importance_type} is not one of the supported importance types.\")\n",
    "    feature_names = trial.tensor_names(regex=f\"feature_importance/{importance_type}/.*\")\n",
    "    if len(feature_names) == 0:\n",
    "        return None\n",
    "    last_step = trial.tensor(feature_names[0]).steps()[-1]\n",
    "    def sorter(f_name):\n",
    "        f_name = f_name.split('/')[-1]\n",
    "        return int(f_name[1:])\n",
    "    TOOLTIPS = [\n",
    "        (\"feature\", \"@feature\"),\n",
    "        (\"importance\", \"@importance\"),\n",
    "    ]\n",
    "\n",
    "    features = [tensor_name.split('/')[-1] for tensor_name in sorted(feature_names, key=sorter)]\n",
    "    importances = [trial.tensor(tensor_name).value(last_step)[0]*100 for tensor_name in sorted(feature_names, key=sorter)]\n",
    "    \n",
    "    source = ColumnDataSource(data=dict(feature=features, importance=importances))\n",
    "    plot_height = len(features)*25\n",
    "    y_max = max(importances)\n",
    "    p = figure(\n",
    "        y_range=features, \n",
    "        title=f\"Feature {importance_type}\",\n",
    "        toolbar_location=None,  \n",
    "        tooltips=TOOLTIPS,\n",
    "        plot_height=plot_height\n",
    "    )\n",
    "    p.hbar(height=0.5, y='feature', right='importance', source=source)\n",
    "    p.xgrid.grid_line_color = None\n",
    "    p.x_range.start = 0\n",
    "    p.x_range.end = round(1.10*y_max, 2) # x_range = 110% of y_max\n",
    "    p.xaxis.axis_label = 'Importance'\n",
    "    p.yaxis.axis_label = 'Feature'\n",
    "\n",
    "    show(p)\n"
   ]
  },
  {
   "cell_type": "code",
   "execution_count": 12,
   "metadata": {
    "execution": {
     "iopub.execute_input": "2025-01-02T18:20:19.988334Z",
     "iopub.status.busy": "2025-01-02T18:20:19.987160Z",
     "iopub.status.idle": "2025-01-02T18:20:20.141287Z",
     "shell.execute_reply": "2025-01-02T18:20:20.141767Z"
    },
    "papermill": {
     "duration": 0.175191,
     "end_time": "2025-01-02T18:20:20.141928",
     "exception": false,
     "start_time": "2025-01-02T18:20:19.966737",
     "status": "completed"
    },
    "tags": [
     "hide-input"
    ]
   },
   "outputs": [
    {
     "data": {
      "text/html": [
       "\n",
       "\n",
       "\n",
       "\n",
       "\n",
       "\n",
       "  <div class=\"bk-root\" id=\"43489c09-f9a8-4e11-9651-83a5c19571bc\" data-root-id=\"1236\"></div>\n"
      ]
     },
     "metadata": {},
     "output_type": "display_data"
    },
    {
     "data": {
      "application/javascript": [
       "(function(root) {\n",
       "  function embed_document(root) {\n",
       "    \n",
       "  var docs_json = {\"e41a33cf-aed1-4f2b-9565-010e5b7416ba\":{\"roots\":{\"references\":[{\"attributes\":{\"below\":[{\"id\":\"1247\"}],\"center\":[{\"id\":\"1250\"},{\"id\":\"1253\"}],\"left\":[{\"id\":\"1251\"}],\"plot_height\":300,\"renderers\":[{\"id\":\"1273\"}],\"title\":{\"id\":\"1237\"},\"toolbar\":{\"id\":\"1262\"},\"toolbar_location\":null,\"x_range\":{\"id\":\"1239\"},\"x_scale\":{\"id\":\"1243\"},\"y_range\":{\"id\":\"1241\"},\"y_scale\":{\"id\":\"1245\"}},\"id\":\"1236\",\"subtype\":\"Figure\",\"type\":\"Plot\"},{\"attributes\":{},\"id\":\"1243\",\"type\":\"LinearScale\"},{\"attributes\":{},\"id\":\"1257\",\"type\":\"SaveTool\"},{\"attributes\":{\"fill_alpha\":{\"value\":0.1},\"fill_color\":{\"value\":\"#1f77b4\"},\"height\":{\"value\":0.5},\"line_alpha\":{\"value\":0.1},\"line_color\":{\"value\":\"#1f77b4\"},\"right\":{\"field\":\"importance\"},\"y\":{\"field\":\"feature\"}},\"id\":\"1272\",\"type\":\"HBar\"},{\"attributes\":{},\"id\":\"1301\",\"type\":\"Selection\"},{\"attributes\":{\"factors\":[\"f0\",\"f1\",\"f2\",\"f3\",\"f4\",\"f5\",\"f6\",\"f7\",\"f8\",\"f9\",\"f10\",\"f11\"]},\"id\":\"1241\",\"type\":\"FactorRange\"},{\"attributes\":{},\"id\":\"1259\",\"type\":\"HelpTool\"},{\"attributes\":{},\"id\":\"1297\",\"type\":\"BasicTickFormatter\"},{\"attributes\":{\"data\":{\"feature\":[\"f0\",\"f1\",\"f2\",\"f3\",\"f4\",\"f5\",\"f6\",\"f7\",\"f8\",\"f9\",\"f10\",\"f11\"],\"importance\":[16.721311475409838,4.098360655737705,11.967213114754099,2.7868852459016393,13.114754098360656,7.868852459016394,1.3114754098360655,2.1311475409836063,14.098360655737704,11.967213114754099,11.639344262295081,2.2950819672131146]},\"selected\":{\"id\":\"1301\"},\"selection_policy\":{\"id\":\"1300\"}},\"id\":\"1235\",\"type\":\"ColumnDataSource\"},{\"attributes\":{\"bottom_units\":\"screen\",\"fill_alpha\":0.5,\"fill_color\":\"lightgrey\",\"left_units\":\"screen\",\"level\":\"overlay\",\"line_alpha\":1.0,\"line_color\":\"black\",\"line_dash\":[4,4],\"line_width\":2,\"right_units\":\"screen\",\"top_units\":\"screen\"},\"id\":\"1260\",\"type\":\"BoxAnnotation\"},{\"attributes\":{\"overlay\":{\"id\":\"1260\"}},\"id\":\"1256\",\"type\":\"BoxZoomTool\"},{\"attributes\":{},\"id\":\"1245\",\"type\":\"CategoricalScale\"},{\"attributes\":{},\"id\":\"1295\",\"type\":\"CategoricalTickFormatter\"},{\"attributes\":{\"source\":{\"id\":\"1235\"}},\"id\":\"1274\",\"type\":\"CDSView\"},{\"attributes\":{},\"id\":\"1248\",\"type\":\"BasicTicker\"},{\"attributes\":{\"active_drag\":\"auto\",\"active_inspect\":\"auto\",\"active_multi\":null,\"active_scroll\":\"auto\",\"active_tap\":\"auto\",\"tools\":[{\"id\":\"1254\"},{\"id\":\"1255\"},{\"id\":\"1256\"},{\"id\":\"1257\"},{\"id\":\"1258\"},{\"id\":\"1259\"},{\"id\":\"1261\"}]},\"id\":\"1262\",\"type\":\"Toolbar\"},{\"attributes\":{\"axis_label\":\"Feature\",\"formatter\":{\"id\":\"1295\"},\"ticker\":{\"id\":\"1252\"}},\"id\":\"1251\",\"type\":\"CategoricalAxis\"},{\"attributes\":{\"end\":18.39,\"start\":0},\"id\":\"1239\",\"type\":\"DataRange1d\"},{\"attributes\":{},\"id\":\"1300\",\"type\":\"UnionRenderers\"},{\"attributes\":{\"callback\":null,\"tooltips\":[[\"feature\",\"@feature\"],[\"importance\",\"@importance\"]]},\"id\":\"1261\",\"type\":\"HoverTool\"},{\"attributes\":{\"text\":\"Feature weight\"},\"id\":\"1237\",\"type\":\"Title\"},{\"attributes\":{\"axis\":{\"id\":\"1251\"},\"dimension\":1,\"ticker\":null},\"id\":\"1253\",\"type\":\"Grid\"},{\"attributes\":{},\"id\":\"1252\",\"type\":\"CategoricalTicker\"},{\"attributes\":{\"fill_color\":{\"value\":\"#1f77b4\"},\"height\":{\"value\":0.5},\"line_color\":{\"value\":\"#1f77b4\"},\"right\":{\"field\":\"importance\"},\"y\":{\"field\":\"feature\"}},\"id\":\"1271\",\"type\":\"HBar\"},{\"attributes\":{\"data_source\":{\"id\":\"1235\"},\"glyph\":{\"id\":\"1271\"},\"hover_glyph\":null,\"muted_glyph\":null,\"nonselection_glyph\":{\"id\":\"1272\"},\"selection_glyph\":null,\"view\":{\"id\":\"1274\"}},\"id\":\"1273\",\"type\":\"GlyphRenderer\"},{\"attributes\":{\"axis\":{\"id\":\"1247\"},\"grid_line_color\":null,\"ticker\":null},\"id\":\"1250\",\"type\":\"Grid\"},{\"attributes\":{},\"id\":\"1258\",\"type\":\"ResetTool\"},{\"attributes\":{\"axis_label\":\"Importance\",\"formatter\":{\"id\":\"1297\"},\"ticker\":{\"id\":\"1248\"}},\"id\":\"1247\",\"type\":\"LinearAxis\"},{\"attributes\":{},\"id\":\"1255\",\"type\":\"WheelZoomTool\"},{\"attributes\":{},\"id\":\"1254\",\"type\":\"PanTool\"}],\"root_ids\":[\"1236\"]},\"title\":\"Bokeh Application\",\"version\":\"2.2.3\"}};\n",
       "  var render_items = [{\"docid\":\"e41a33cf-aed1-4f2b-9565-010e5b7416ba\",\"root_ids\":[\"1236\"],\"roots\":{\"1236\":\"43489c09-f9a8-4e11-9651-83a5c19571bc\"}}];\n",
       "  root.Bokeh.embed.embed_items_notebook(docs_json, render_items);\n",
       "\n",
       "  }\n",
       "  if (root.Bokeh !== undefined) {\n",
       "    embed_document(root);\n",
       "  } else {\n",
       "    var attempts = 0;\n",
       "    var timer = setInterval(function(root) {\n",
       "      if (root.Bokeh !== undefined) {\n",
       "        clearInterval(timer);\n",
       "        embed_document(root);\n",
       "      } else {\n",
       "        attempts++;\n",
       "        if (attempts > 100) {\n",
       "          clearInterval(timer);\n",
       "          console.log(\"Bokeh: ERROR: Unable to run BokehJS code because BokehJS library is missing\");\n",
       "        }\n",
       "      }\n",
       "    }, 10, root)\n",
       "  }\n",
       "})(window);"
      ],
      "application/vnd.bokehjs_exec.v0+json": ""
     },
     "metadata": {
      "application/vnd.bokehjs_exec.v0+json": {
       "id": "1236"
      }
     },
     "output_type": "display_data"
    },
    {
     "data": {
      "text/html": [
       "\n",
       "\n",
       "\n",
       "\n",
       "\n",
       "\n",
       "  <div class=\"bk-root\" id=\"b1ea4b97-5f88-4e28-a4c6-166204cd3ddc\" data-root-id=\"1343\"></div>\n"
      ]
     },
     "metadata": {},
     "output_type": "display_data"
    },
    {
     "data": {
      "application/javascript": [
       "(function(root) {\n",
       "  function embed_document(root) {\n",
       "    \n",
       "  var docs_json = {\"dff48ab9-5cee-4850-a5ba-086226f61121\":{\"roots\":{\"references\":[{\"attributes\":{\"below\":[{\"id\":\"1354\"}],\"center\":[{\"id\":\"1357\"},{\"id\":\"1360\"}],\"left\":[{\"id\":\"1358\"}],\"plot_height\":300,\"renderers\":[{\"id\":\"1380\"}],\"title\":{\"id\":\"1344\"},\"toolbar\":{\"id\":\"1369\"},\"toolbar_location\":null,\"x_range\":{\"id\":\"1346\"},\"x_scale\":{\"id\":\"1350\"},\"y_range\":{\"id\":\"1348\"},\"y_scale\":{\"id\":\"1352\"}},\"id\":\"1343\",\"subtype\":\"Figure\",\"type\":\"Plot\"},{\"attributes\":{},\"id\":\"1355\",\"type\":\"BasicTicker\"},{\"attributes\":{\"axis_label\":\"Importance\",\"formatter\":{\"id\":\"1412\"},\"ticker\":{\"id\":\"1355\"}},\"id\":\"1354\",\"type\":\"LinearAxis\"},{\"attributes\":{\"overlay\":{\"id\":\"1367\"}},\"id\":\"1363\",\"type\":\"BoxZoomTool\"},{\"attributes\":{},\"id\":\"1364\",\"type\":\"SaveTool\"},{\"attributes\":{},\"id\":\"1352\",\"type\":\"CategoricalScale\"},{\"attributes\":{\"factors\":[\"f0\",\"f1\",\"f2\",\"f3\",\"f4\",\"f5\",\"f6\",\"f7\",\"f8\",\"f9\",\"f10\",\"f11\"]},\"id\":\"1348\",\"type\":\"FactorRange\"},{\"attributes\":{},\"id\":\"1350\",\"type\":\"LinearScale\"},{\"attributes\":{\"active_drag\":\"auto\",\"active_inspect\":\"auto\",\"active_multi\":null,\"active_scroll\":\"auto\",\"active_tap\":\"auto\",\"tools\":[{\"id\":\"1361\"},{\"id\":\"1362\"},{\"id\":\"1363\"},{\"id\":\"1364\"},{\"id\":\"1365\"},{\"id\":\"1366\"},{\"id\":\"1368\"}]},\"id\":\"1369\",\"type\":\"Toolbar\"},{\"attributes\":{\"source\":{\"id\":\"1342\"}},\"id\":\"1381\",\"type\":\"CDSView\"},{\"attributes\":{\"callback\":null,\"tooltips\":[[\"feature\",\"@feature\"],[\"importance\",\"@importance\"]]},\"id\":\"1368\",\"type\":\"HoverTool\"},{\"attributes\":{\"text\":\"Feature gain\"},\"id\":\"1344\",\"type\":\"Title\"},{\"attributes\":{\"data_source\":{\"id\":\"1342\"},\"glyph\":{\"id\":\"1378\"},\"hover_glyph\":null,\"muted_glyph\":null,\"nonselection_glyph\":{\"id\":\"1379\"},\"selection_glyph\":null,\"view\":{\"id\":\"1381\"}},\"id\":\"1380\",\"type\":\"GlyphRenderer\"},{\"attributes\":{},\"id\":\"1362\",\"type\":\"WheelZoomTool\"},{\"attributes\":{},\"id\":\"1359\",\"type\":\"CategoricalTicker\"},{\"attributes\":{\"fill_color\":{\"value\":\"#1f77b4\"},\"height\":{\"value\":0.5},\"line_color\":{\"value\":\"#1f77b4\"},\"right\":{\"field\":\"importance\"},\"y\":{\"field\":\"feature\"}},\"id\":\"1378\",\"type\":\"HBar\"},{\"attributes\":{\"fill_alpha\":{\"value\":0.1},\"fill_color\":{\"value\":\"#1f77b4\"},\"height\":{\"value\":0.5},\"line_alpha\":{\"value\":0.1},\"line_color\":{\"value\":\"#1f77b4\"},\"right\":{\"field\":\"importance\"},\"y\":{\"field\":\"feature\"}},\"id\":\"1379\",\"type\":\"HBar\"},{\"attributes\":{},\"id\":\"1412\",\"type\":\"BasicTickFormatter\"},{\"attributes\":{},\"id\":\"1415\",\"type\":\"UnionRenderers\"},{\"attributes\":{\"end\":50.92,\"start\":0},\"id\":\"1346\",\"type\":\"DataRange1d\"},{\"attributes\":{},\"id\":\"1366\",\"type\":\"HelpTool\"},{\"attributes\":{},\"id\":\"1361\",\"type\":\"PanTool\"},{\"attributes\":{},\"id\":\"1365\",\"type\":\"ResetTool\"},{\"attributes\":{\"axis_label\":\"Feature\",\"formatter\":{\"id\":\"1410\"},\"ticker\":{\"id\":\"1359\"}},\"id\":\"1358\",\"type\":\"CategoricalAxis\"},{\"attributes\":{\"data\":{\"feature\":[\"f0\",\"f1\",\"f2\",\"f3\",\"f4\",\"f5\",\"f6\",\"f7\",\"f8\",\"f9\",\"f10\",\"f11\"],\"importance\":[4.381250461748599,2.062993010200106,14.188517447696714,2.768304820980918,3.0972883723230322,46.28695225291353,1.4794391739519892,3.0650738950313583,12.757150624828927,5.03138479526703,3.6306850872645424,1.2509600577932427]},\"selected\":{\"id\":\"1416\"},\"selection_policy\":{\"id\":\"1415\"}},\"id\":\"1342\",\"type\":\"ColumnDataSource\"},{\"attributes\":{\"axis\":{\"id\":\"1358\"},\"dimension\":1,\"ticker\":null},\"id\":\"1360\",\"type\":\"Grid\"},{\"attributes\":{\"axis\":{\"id\":\"1354\"},\"grid_line_color\":null,\"ticker\":null},\"id\":\"1357\",\"type\":\"Grid\"},{\"attributes\":{},\"id\":\"1410\",\"type\":\"CategoricalTickFormatter\"},{\"attributes\":{},\"id\":\"1416\",\"type\":\"Selection\"},{\"attributes\":{\"bottom_units\":\"screen\",\"fill_alpha\":0.5,\"fill_color\":\"lightgrey\",\"left_units\":\"screen\",\"level\":\"overlay\",\"line_alpha\":1.0,\"line_color\":\"black\",\"line_dash\":[4,4],\"line_width\":2,\"right_units\":\"screen\",\"top_units\":\"screen\"},\"id\":\"1367\",\"type\":\"BoxAnnotation\"}],\"root_ids\":[\"1343\"]},\"title\":\"Bokeh Application\",\"version\":\"2.2.3\"}};\n",
       "  var render_items = [{\"docid\":\"dff48ab9-5cee-4850-a5ba-086226f61121\",\"root_ids\":[\"1343\"],\"roots\":{\"1343\":\"b1ea4b97-5f88-4e28-a4c6-166204cd3ddc\"}}];\n",
       "  root.Bokeh.embed.embed_items_notebook(docs_json, render_items);\n",
       "\n",
       "  }\n",
       "  if (root.Bokeh !== undefined) {\n",
       "    embed_document(root);\n",
       "  } else {\n",
       "    var attempts = 0;\n",
       "    var timer = setInterval(function(root) {\n",
       "      if (root.Bokeh !== undefined) {\n",
       "        clearInterval(timer);\n",
       "        embed_document(root);\n",
       "      } else {\n",
       "        attempts++;\n",
       "        if (attempts > 100) {\n",
       "          clearInterval(timer);\n",
       "          console.log(\"Bokeh: ERROR: Unable to run BokehJS code because BokehJS library is missing\");\n",
       "        }\n",
       "      }\n",
       "    }, 10, root)\n",
       "  }\n",
       "})(window);"
      ],
      "application/vnd.bokehjs_exec.v0+json": ""
     },
     "metadata": {
      "application/vnd.bokehjs_exec.v0+json": {
       "id": "1343"
      }
     },
     "output_type": "display_data"
    },
    {
     "data": {
      "text/html": [
       "\n",
       "\n",
       "\n",
       "\n",
       "\n",
       "\n",
       "  <div class=\"bk-root\" id=\"4269d5ec-b633-462e-bdd4-a879d2ef3baa\" data-root-id=\"1458\"></div>\n"
      ]
     },
     "metadata": {},
     "output_type": "display_data"
    },
    {
     "data": {
      "application/javascript": [
       "(function(root) {\n",
       "  function embed_document(root) {\n",
       "    \n",
       "  var docs_json = {\"1fe957f9-e859-4a8a-a200-2312eccdc5b9\":{\"roots\":{\"references\":[{\"attributes\":{\"below\":[{\"id\":\"1469\"}],\"center\":[{\"id\":\"1472\"},{\"id\":\"1475\"}],\"left\":[{\"id\":\"1473\"}],\"plot_height\":300,\"renderers\":[{\"id\":\"1495\"}],\"title\":{\"id\":\"1459\"},\"toolbar\":{\"id\":\"1484\"},\"toolbar_location\":null,\"x_range\":{\"id\":\"1461\"},\"x_scale\":{\"id\":\"1465\"},\"y_range\":{\"id\":\"1463\"},\"y_scale\":{\"id\":\"1467\"}},\"id\":\"1458\",\"subtype\":\"Figure\",\"type\":\"Plot\"},{\"attributes\":{\"axis\":{\"id\":\"1473\"},\"dimension\":1,\"ticker\":null},\"id\":\"1475\",\"type\":\"Grid\"},{\"attributes\":{\"end\":13.02,\"start\":0},\"id\":\"1461\",\"type\":\"DataRange1d\"},{\"attributes\":{},\"id\":\"1470\",\"type\":\"BasicTicker\"},{\"attributes\":{\"text\":\"Feature cover\"},\"id\":\"1459\",\"type\":\"Title\"},{\"attributes\":{},\"id\":\"1538\",\"type\":\"UnionRenderers\"},{\"attributes\":{},\"id\":\"1474\",\"type\":\"CategoricalTicker\"},{\"attributes\":{},\"id\":\"1479\",\"type\":\"SaveTool\"},{\"attributes\":{\"fill_alpha\":{\"value\":0.1},\"fill_color\":{\"value\":\"#1f77b4\"},\"height\":{\"value\":0.5},\"line_alpha\":{\"value\":0.1},\"line_color\":{\"value\":\"#1f77b4\"},\"right\":{\"field\":\"importance\"},\"y\":{\"field\":\"feature\"}},\"id\":\"1494\",\"type\":\"HBar\"},{\"attributes\":{\"axis_label\":\"Feature\",\"formatter\":{\"id\":\"1533\"},\"ticker\":{\"id\":\"1474\"}},\"id\":\"1473\",\"type\":\"CategoricalAxis\"},{\"attributes\":{},\"id\":\"1465\",\"type\":\"LinearScale\"},{\"attributes\":{},\"id\":\"1533\",\"type\":\"CategoricalTickFormatter\"},{\"attributes\":{},\"id\":\"1539\",\"type\":\"Selection\"},{\"attributes\":{\"overlay\":{\"id\":\"1482\"}},\"id\":\"1478\",\"type\":\"BoxZoomTool\"},{\"attributes\":{\"source\":{\"id\":\"1457\"}},\"id\":\"1496\",\"type\":\"CDSView\"},{\"attributes\":{\"bottom_units\":\"screen\",\"fill_alpha\":0.5,\"fill_color\":\"lightgrey\",\"left_units\":\"screen\",\"level\":\"overlay\",\"line_alpha\":1.0,\"line_color\":\"black\",\"line_dash\":[4,4],\"line_width\":2,\"right_units\":\"screen\",\"top_units\":\"screen\"},\"id\":\"1482\",\"type\":\"BoxAnnotation\"},{\"attributes\":{},\"id\":\"1535\",\"type\":\"BasicTickFormatter\"},{\"attributes\":{},\"id\":\"1480\",\"type\":\"ResetTool\"},{\"attributes\":{\"data_source\":{\"id\":\"1457\"},\"glyph\":{\"id\":\"1493\"},\"hover_glyph\":null,\"muted_glyph\":null,\"nonselection_glyph\":{\"id\":\"1494\"},\"selection_glyph\":null,\"view\":{\"id\":\"1496\"}},\"id\":\"1495\",\"type\":\"GlyphRenderer\"},{\"attributes\":{\"fill_color\":{\"value\":\"#1f77b4\"},\"height\":{\"value\":0.5},\"line_color\":{\"value\":\"#1f77b4\"},\"right\":{\"field\":\"importance\"},\"y\":{\"field\":\"feature\"}},\"id\":\"1493\",\"type\":\"HBar\"},{\"attributes\":{},\"id\":\"1477\",\"type\":\"WheelZoomTool\"},{\"attributes\":{\"factors\":[\"f0\",\"f1\",\"f2\",\"f3\",\"f4\",\"f5\",\"f6\",\"f7\",\"f8\",\"f9\",\"f10\",\"f11\"]},\"id\":\"1463\",\"type\":\"FactorRange\"},{\"attributes\":{},\"id\":\"1467\",\"type\":\"CategoricalScale\"},{\"attributes\":{},\"id\":\"1476\",\"type\":\"PanTool\"},{\"attributes\":{\"axis_label\":\"Importance\",\"formatter\":{\"id\":\"1535\"},\"ticker\":{\"id\":\"1470\"}},\"id\":\"1469\",\"type\":\"LinearAxis\"},{\"attributes\":{\"active_drag\":\"auto\",\"active_inspect\":\"auto\",\"active_multi\":null,\"active_scroll\":\"auto\",\"active_tap\":\"auto\",\"tools\":[{\"id\":\"1476\"},{\"id\":\"1477\"},{\"id\":\"1478\"},{\"id\":\"1479\"},{\"id\":\"1480\"},{\"id\":\"1481\"},{\"id\":\"1483\"}]},\"id\":\"1484\",\"type\":\"Toolbar\"},{\"attributes\":{\"callback\":null,\"tooltips\":[[\"feature\",\"@feature\"],[\"importance\",\"@importance\"]]},\"id\":\"1483\",\"type\":\"HoverTool\"},{\"attributes\":{},\"id\":\"1481\",\"type\":\"HelpTool\"},{\"attributes\":{\"data\":{\"feature\":[\"f0\",\"f1\",\"f2\",\"f3\",\"f4\",\"f5\",\"f6\",\"f7\",\"f8\",\"f9\",\"f10\",\"f11\"],\"importance\":[6.801548342651588,5.983270423470276,8.888514060255378,9.222496716499288,6.771885800723113,11.671024828521304,11.8357623182416,7.3579888904000645,10.593242635586975,9.468747596689411,6.8381100585903605,4.567408328370624]},\"selected\":{\"id\":\"1539\"},\"selection_policy\":{\"id\":\"1538\"}},\"id\":\"1457\",\"type\":\"ColumnDataSource\"},{\"attributes\":{\"axis\":{\"id\":\"1469\"},\"grid_line_color\":null,\"ticker\":null},\"id\":\"1472\",\"type\":\"Grid\"}],\"root_ids\":[\"1458\"]},\"title\":\"Bokeh Application\",\"version\":\"2.2.3\"}};\n",
       "  var render_items = [{\"docid\":\"1fe957f9-e859-4a8a-a200-2312eccdc5b9\",\"root_ids\":[\"1458\"],\"roots\":{\"1458\":\"4269d5ec-b633-462e-bdd4-a879d2ef3baa\"}}];\n",
       "  root.Bokeh.embed.embed_items_notebook(docs_json, render_items);\n",
       "\n",
       "  }\n",
       "  if (root.Bokeh !== undefined) {\n",
       "    embed_document(root);\n",
       "  } else {\n",
       "    var attempts = 0;\n",
       "    var timer = setInterval(function(root) {\n",
       "      if (root.Bokeh !== undefined) {\n",
       "        clearInterval(timer);\n",
       "        embed_document(root);\n",
       "      } else {\n",
       "        attempts++;\n",
       "        if (attempts > 100) {\n",
       "          clearInterval(timer);\n",
       "          console.log(\"Bokeh: ERROR: Unable to run BokehJS code because BokehJS library is missing\");\n",
       "        }\n",
       "      }\n",
       "    }, 10, root)\n",
       "  }\n",
       "})(window);"
      ],
      "application/vnd.bokehjs_exec.v0+json": ""
     },
     "metadata": {
      "application/vnd.bokehjs_exec.v0+json": {
       "id": "1458"
      }
     },
     "output_type": "display_data"
    }
   ],
   "source": [
    "from bokeh.layouts import gridplot\n",
    "\n",
    "SUPPORTED_IMPORTANCE_TYPES = [\"weight\", \"gain\", \"cover\"]\n",
    "plots = []\n",
    "feature_names = trial.tensor_names(regex=f\"feature_importance/.*\")\n",
    "if len(feature_names) == 0:\n",
    "    heading = Markdown('### No feature importance was saved.\\n\\\n",
    "    - Check dataset sanity\\n\\\n",
    "    - Or if booster was not in [gbtree, dart]\\n\\\n",
    "    - Or if booster was None\\n\\\n",
    "    ')\n",
    "    display(heading)\n",
    "else:\n",
    "    for importance_type in SUPPORTED_IMPORTANCE_TYPES:\n",
    "        plot_feature_importance(importance_type=importance_type)\n",
    "\n"
   ]
  },
  {
   "cell_type": "code",
   "execution_count": 13,
   "metadata": {
    "execution": {
     "iopub.execute_input": "2025-01-02T18:20:20.173442Z",
     "iopub.status.busy": "2025-01-02T18:20:20.172074Z",
     "iopub.status.idle": "2025-01-02T18:20:20.175599Z",
     "shell.execute_reply": "2025-01-02T18:20:20.176184Z"
    },
    "papermill": {
     "duration": 0.02298,
     "end_time": "2025-01-02T18:20:20.176424",
     "exception": false,
     "start_time": "2025-01-02T18:20:20.153444",
     "status": "completed"
    },
    "tags": [
     "hide-input"
    ]
   },
   "outputs": [
    {
     "data": {
      "text/markdown": [
       "## Confusion Matrix <a name=\"section4\"></a>\n",
       "The following Confusion Matrix shows a breakdown of the classification results.\n",
       "* The cells on the principal diagonal shows the True Positive counts.\n",
       "* The off-diagonal cells count the number of misclassified predictions.\n"
      ],
      "text/plain": [
       "<IPython.core.display.Markdown object>"
      ]
     },
     "metadata": {},
     "output_type": "display_data"
    }
   ],
   "source": [
    "from IPython.display import display, Markdown\n",
    "\n",
    "s='## Confusion Matrix <a name=\"section4\"></a>\\n\\\n",
    "The following Confusion Matrix shows a breakdown of the classification results.\\n\\\n",
    "* The cells on the principal diagonal shows the True Positive counts.\\n\\\n",
    "* The off-diagonal cells count the number of misclassified predictions.\\n\\\n",
    "'\n",
    "\n",
    "if objective_metric in [\"binary:logistic\", \"multi:softmax\"]:\n",
    "    display(Markdown(s))"
   ]
  },
  {
   "cell_type": "code",
   "execution_count": 14,
   "metadata": {
    "execution": {
     "iopub.execute_input": "2025-01-02T18:20:20.218844Z",
     "iopub.status.busy": "2025-01-02T18:20:20.218137Z",
     "iopub.status.idle": "2025-01-02T18:20:21.213086Z",
     "shell.execute_reply": "2025-01-02T18:20:21.212508Z"
    },
    "papermill": {
     "duration": 1.025893,
     "end_time": "2025-01-02T18:20:21.213598",
     "exception": false,
     "start_time": "2025-01-02T18:20:20.187705",
     "status": "completed"
    },
    "tags": [
     "hide-input"
    ]
   },
   "outputs": [],
   "source": [
    "import numpy as np\n",
    "import matplotlib.pyplot as plt\n",
    "import seaborn as sns\n",
    "\n",
    "# Credits: https://github.com/DTrimarchi10/confusion_matrix\n",
    "def make_confusion_matrix(cf,\n",
    "                          group_names=None,\n",
    "                          categories='auto',\n",
    "                          count=True,\n",
    "                          percent=True,\n",
    "                          cbar=True,\n",
    "                          xyticks=True,\n",
    "                          xyplotlabels=True,\n",
    "                          sum_stats=True,\n",
    "                          figsize=None,\n",
    "                          cmap='Blues',\n",
    "                          title=None):\n",
    "    '''\n",
    "    This function will make a pretty plot of an sklearn Confusion Matrix cm using a Seaborn heatmap visualization.\n",
    "    Arguments\n",
    "    ---------\n",
    "    cf:            confusion matrix to be passed in\n",
    "    group_names:   List of strings that represent the labels row by row to be shown in each square.\n",
    "    categories:    List of strings containing the categories to be displayed on the x,y axis. Default is 'auto'\n",
    "    count:         If True, show the raw number in the confusion matrix. Default is True.\n",
    "    normalize:     If True, show the proportions for each category. Default is True.\n",
    "    cbar:          If True, show the color bar. The cbar values are based off the values in the confusion matrix.\n",
    "                   Default is True.\n",
    "    xyticks:       If True, show x and y ticks. Default is True.\n",
    "    xyplotlabels:  If True, show 'True Label' and 'Predicted Label' on the figure. Default is True.\n",
    "    sum_stats:     If True, display summary statistics below the figure. Default is True.\n",
    "    figsize:       Tuple representing the figure size. Default will be the matplotlib rcParams value.\n",
    "    cmap:          Colormap of the values displayed from matplotlib.pyplot.cm. Default is 'Blues'\n",
    "                   See http://matplotlib.org/examples/color/colormaps_reference.html\n",
    "                   \n",
    "    title:         Title for the heatmap. Default is None.\n",
    "    '''\n",
    "\n",
    "\n",
    "    # CODE TO GENERATE TEXT INSIDE EACH SQUARE\n",
    "    blanks = ['' for i in range(cf.size)]\n",
    "\n",
    "    if group_names and len(group_names)==cf.size:\n",
    "        group_labels = [\"{}\\n\".format(value) for value in group_names]\n",
    "    else:\n",
    "        group_labels = blanks\n",
    "\n",
    "    if count:\n",
    "        group_counts = [\"{0:0.0f}\\n\".format(value) for value in cf.flatten()]\n",
    "    else:\n",
    "        group_counts = blanks\n",
    "\n",
    "    if percent:\n",
    "        group_percentages = [\"{0:.2%}\".format(value) for value in cf.flatten()/np.sum(cf)]\n",
    "    else:\n",
    "        group_percentages = blanks\n",
    "\n",
    "    box_labels = [f\"{v1}{v2}{v3}\".strip() for v1, v2, v3 in zip(group_labels,group_counts,group_percentages)]\n",
    "    box_labels = np.asarray(box_labels).reshape(cf.shape[0],cf.shape[1])\n",
    "\n",
    "\n",
    "    # CODE TO GENERATE SUMMARY STATISTICS & TEXT FOR SUMMARY STATS\n",
    "    if sum_stats:\n",
    "        #Accuracy is sum of diagonal divided by total observations\n",
    "        accuracy  = np.trace(cf) / float(np.sum(cf))\n",
    "\n",
    "        #if it is a binary confusion matrix, show some more stats\n",
    "        if len(cf)==2:\n",
    "            #Metrics for Binary Confusion Matrices\n",
    "            precision = cf[1,1] / sum(cf[:,1])\n",
    "            recall    = cf[1,1] / sum(cf[1,:])\n",
    "            f1_score  = 2*precision*recall / (precision + recall)\n",
    "            stats_text = \"\\n\\nAccuracy={:0.3f}\\nPrecision={:0.3f}\\nRecall={:0.3f}\\nF1 Score={:0.3f}\".format(\n",
    "                accuracy,precision,recall,f1_score)\n",
    "        else:\n",
    "            stats_text = \"\\n\\nAccuracy={:0.3f}\".format(accuracy)\n",
    "    else:\n",
    "        stats_text = \"\"\n",
    "\n",
    "\n",
    "    # SET FIGURE PARAMETERS ACCORDING TO OTHER ARGUMENTS\n",
    "    if figsize==None:\n",
    "        #Get default figure size if not set\n",
    "        figsize = plt.rcParams.get('figure.figsize')\n",
    "\n",
    "    if xyticks==False:\n",
    "        #Do not show categories if xyticks is False\n",
    "        categories=False\n",
    "\n",
    "\n",
    "    # MAKE THE HEATMAP VISUALIZATION\n",
    "    plt.figure(figsize=figsize)\n",
    "    sns.heatmap(cf,annot=box_labels,fmt=\"\",cmap=cmap,cbar=cbar,xticklabels=categories,yticklabels=categories)\n",
    "\n",
    "    if xyplotlabels:\n",
    "        plt.ylabel('True label')\n",
    "        plt.xlabel('Predicted label' + stats_text)\n",
    "    else:\n",
    "        plt.xlabel(stats_text)\n",
    "    \n",
    "    if title:\n",
    "        plt.title(title)\n",
    "        \n"
   ]
  },
  {
   "cell_type": "code",
   "execution_count": 15,
   "metadata": {
    "execution": {
     "iopub.execute_input": "2025-01-02T18:20:21.266099Z",
     "iopub.status.busy": "2025-01-02T18:20:21.265036Z",
     "iopub.status.idle": "2025-01-02T18:20:21.717290Z",
     "shell.execute_reply": "2025-01-02T18:20:21.717814Z"
    },
    "papermill": {
     "duration": 0.489484,
     "end_time": "2025-01-02T18:20:21.718068",
     "exception": false,
     "start_time": "2025-01-02T18:20:21.228584",
     "status": "completed"
    },
    "tags": [
     "hide-input"
    ]
   },
   "outputs": [
    {
     "data": {
      "image/png": "[encoded data removed]",
      "text/plain": [
       "<Figure size 864x864 with 2 Axes>"
      ]
     },
     "metadata": {
      "needs_background": "light"
     },
     "output_type": "display_data"
    }
   ],
   "source": [
    "import numpy as np\n",
    "import matplotlib.pyplot as plt\n",
    "import math\n",
    "import seaborn as sns\n",
    "from sklearn.metrics import confusion_matrix, classification_report\n",
    "from IPython.display import display, clear_output, HTML\n",
    "from bokeh.models.mappers import LinearColorMapper\n",
    "\n",
    "\n",
    "def plot_confusion_for_one_step(trial, step, title, ax=None, normalize=False):\n",
    "    predictions = trial.tensor(\"predictions\").value(step).round()\n",
    "    labels = trial.tensor(\"labels\").value(step).round()\n",
    "    cm = confusion_matrix(\n",
    "        labels,\n",
    "        predictions,\n",
    "    )\n",
    "    num_classes = len(np.unique(labels))\n",
    "    fig_height = num_classes+10\n",
    "    make_confusion_matrix(cm, figsize=(fig_height,fig_height))\n",
    "\n",
    "\n",
    "obj_names_for_error_plots = [\"binary:logistic\", \"multi:softmax\"]\n",
    "\n",
    "\n",
    "if 'labels' in tensor_names and 'predictions' in tensor_names:\n",
    "    if objective_metric in obj_names_for_error_plots:\n",
    "        step = trial.steps()[-1]\n",
    "        plot_confusion_for_one_step(trial, step=step, title=\"Confusion Matrix\")\n",
    "else:\n",
    "    error_message = \"\\n\\\n",
    "    Labels and Predictions are missing in the debugger data output.\\n\\\n",
    "    Please check if labels and predictions are included in your Debugger Hook Config.\\n\\\n",
    "    \"\n",
    "    display(Markdown(error_message))\n"
   ]
  },
  {
   "cell_type": "code",
   "execution_count": 16,
   "metadata": {
    "execution": {
     "iopub.execute_input": "2025-01-02T18:20:21.754674Z",
     "iopub.status.busy": "2025-01-02T18:20:21.753293Z",
     "iopub.status.idle": "2025-01-02T18:20:21.757167Z",
     "shell.execute_reply": "2025-01-02T18:20:21.757781Z"
    },
    "papermill": {
     "duration": 0.025222,
     "end_time": "2025-01-02T18:20:21.757936",
     "exception": false,
     "start_time": "2025-01-02T18:20:21.732714",
     "status": "completed"
    },
    "tags": [
     "hide-input"
    ]
   },
   "outputs": [
    {
     "data": {
      "text/markdown": [
       "## Evaluation of the Confusion Matrix<a name=\"section4-1\"></a>\n",
       "The following statistics summary of the confusion matrix is provided using \n",
       "the [Scikit-learn Metrics and Scoring APIs](https://scikit-learn.org/stable/modules/model_evaluation.html).\n",
       "You can use the following score metrics to evaluate the performance of your model: \n",
       "accuracy, precision, recall, and F1-score.\n",
       "\n",
       "For more information, see the following Scikit-learn documentation:\n",
       "- [Accuracy Score](https://scikit-learn.org/stable/modules/generated/sklearn.metrics.accuracy_score.html)\n",
       "- [Precision Score](https://scikit-learn.org/stable/modules/generated/sklearn.metrics.precision_score.html#sklearn.metrics.precision_score)\n",
       "- [Recall Score](https://scikit-learn.org/stable/modules/generated/sklearn.metrics.recall_score.html#sklearn.metrics.recall_score)\n",
       "- [F1-Score](https://scikit-learn.org/stable/modules/generated/sklearn.metrics.f1_score.html#sklearn.metrics.f1_score)\n"
      ],
      "text/plain": [
       "<IPython.core.display.Markdown object>"
      ]
     },
     "metadata": {},
     "output_type": "display_data"
    }
   ],
   "source": [
    "from IPython.display import display, Markdown\n",
    "\n",
    "s='## Evaluation of the Confusion Matrix<a name=\"section4-1\"></a>\\n\\\n",
    "The following statistics summary of the confusion matrix is provided using \\n\\\n",
    "the [Scikit-learn Metrics and Scoring APIs](https://scikit-learn.org/stable/modules/model_evaluation.html).\\n\\\n",
    "You can use the following score metrics to evaluate the performance of your model: \\n\\\n",
    "accuracy, precision, recall, and F1-score.\\n\\\n",
    "\\n\\\n",
    "For more information, see the following Scikit-learn documentation:\\n\\\n",
    "- [Accuracy Score](https://scikit-learn.org/stable/modules/generated/sklearn.metrics.accuracy_score.html)\\n\\\n",
    "- [Precision Score](https://scikit-learn.org/stable/modules/generated/sklearn.metrics.precision_score.html#sklearn.metrics.precision_score)\\n\\\n",
    "- [Recall Score](https://scikit-learn.org/stable/modules/generated/sklearn.metrics.recall_score.html#sklearn.metrics.recall_score)\\n\\\n",
    "- [F1-Score](https://scikit-learn.org/stable/modules/generated/sklearn.metrics.f1_score.html#sklearn.metrics.f1_score)\\n\\\n",
    "'\n",
    "\n",
    "if objective_metric in [\"binary:logistic\", \"multi:softmax\"]:\n",
    "    display(Markdown(s))"
   ]
  },
  {
   "cell_type": "code",
   "execution_count": 17,
   "metadata": {
    "execution": {
     "iopub.execute_input": "2025-01-02T18:20:21.802059Z",
     "iopub.status.busy": "2025-01-02T18:20:21.800587Z",
     "iopub.status.idle": "2025-01-02T18:20:21.916034Z",
     "shell.execute_reply": "2025-01-02T18:20:21.916599Z"
    },
    "papermill": {
     "duration": 0.143516,
     "end_time": "2025-01-02T18:20:21.916768",
     "exception": false,
     "start_time": "2025-01-02T18:20:21.773252",
     "status": "completed"
    },
    "tags": [
     "hide-input"
    ]
   },
   "outputs": [
    {
     "data": {
      "text/markdown": [
       "**Overall Accuracy**\n",
       "        \n",
       "        Overall Accuracy: 0.874"
      ],
      "text/plain": [
       "<IPython.core.display.Markdown object>"
      ]
     },
     "metadata": {},
     "output_type": "display_data"
    },
    {
     "data": {
      "text/markdown": [
       "**Micro Performance Metrics**\n",
       "        \n",
       "        Performance metrics calculated globally by counting the total true positives, false negatives, and false positives.\n",
       "        \n",
       "        Micro Precision: 0.874\n",
       "        Micro Recall: 0.874\n",
       "        Micro F1-score: 0.874\n",
       "        "
      ],
      "text/plain": [
       "<IPython.core.display.Markdown object>"
      ]
     },
     "metadata": {},
     "output_type": "display_data"
    },
    {
     "data": {
      "text/markdown": [
       "**Macro Performance Metrics**\n",
       "        \n",
       "        Performance metrics calculated for each label, and find their unweighted mean. \n",
       "        This does not take the class imbalance problem into account.\n",
       "        \n",
       "        Macro Precision: 0.844\n",
       "        Macro Recall: 0.792\n",
       "        Macro F1-score: 0.813\n",
       "        "
      ],
      "text/plain": [
       "<IPython.core.display.Markdown object>"
      ]
     },
     "metadata": {},
     "output_type": "display_data"
    },
    {
     "data": {
      "text/markdown": [
       "**Weighted Performance Metrics**\n",
       "        \n",
       "        Performance metrics calculated for each label and their average weighted by support \n",
       "        (the number of true instances for each label). \n",
       "        This extends the macro option to take the class imbalance into account. \n",
       "        It might result in an F-score that is not between precision and recall. \n",
       "        \n",
       "        Weighted Precision: 0.869\n",
       "        Weighted Recall: 0.874\n",
       "        Weighted F1-score: 0.869\n",
       "        "
      ],
      "text/plain": [
       "<IPython.core.display.Markdown object>"
      ]
     },
     "metadata": {},
     "output_type": "display_data"
    },
    {
     "data": {
      "text/markdown": [
       "**Classification Report**\n",
       "            \n",
       "            The summary of the precision, recall, and F1-score for each class."
      ],
      "text/plain": [
       "<IPython.core.display.Markdown object>"
      ]
     },
     "metadata": {},
     "output_type": "display_data"
    },
    {
     "name": "stdout",
     "output_type": "stream",
     "text": [
      "              precision    recall  f1-score   support\n",
      "\n",
      "         0.0       0.89      0.95      0.92      4951\n",
      "         1.0       0.80      0.64      0.71      1562\n",
      "\n",
      "    accuracy                           0.87      6513\n",
      "   macro avg       0.84      0.79      0.81      6513\n",
      "weighted avg       0.87      0.87      0.87      6513\n",
      "\n"
     ]
    }
   ],
   "source": [
    "#importing accuracy_score, precision_score, recall_score, f1_score\n",
    "from sklearn.metrics import accuracy_score, precision_score, recall_score, f1_score\n",
    "\n",
    "obj_names_for_error_plots = [\"binary:logistic\", \"multi:softmax\"]\n",
    "\n",
    "if objective_metric in obj_names_for_error_plots:\n",
    "\n",
    "    y_test=trial.tensor(\"labels\").value(plot_step).round()\n",
    "    y_pred=trial.tensor(\"predictions\").value(plot_step).round()\n",
    "    display(Markdown(\n",
    "        '**Overall Accuracy**\\n\\\n",
    "        \\n\\\n",
    "        Overall Accuracy: '\n",
    "        +str(round(accuracy_score(y_test, y_pred),3))\n",
    "    ))\n",
    "    \n",
    "    display(Markdown(\n",
    "        '**Micro Performance Metrics**\\n\\\n",
    "        \\n\\\n",
    "        Performance metrics calculated globally by counting the total true positives, false negatives, and false positives.\\n\\\n",
    "        \\n\\\n",
    "        Micro Precision: '+str(round(precision_score(y_test, y_pred, average='micro'),3))+'\\n\\\n",
    "        Micro Recall: '+str(round(recall_score(y_test, y_pred, average='micro'),3))+'\\n\\\n",
    "        Micro F1-score: '+str(round(f1_score(y_test, y_pred, average='micro'),3))+'\\n\\\n",
    "        '\n",
    "    ))\n",
    "    \n",
    "    display(Markdown(\n",
    "        '**Macro Performance Metrics**\\n\\\n",
    "        \\n\\\n",
    "        Performance metrics calculated for each label, and find their unweighted mean. \\n\\\n",
    "        This does not take the class imbalance problem into account.\\n\\\n",
    "        \\n\\\n",
    "        Macro Precision: '+str(round(precision_score(y_test, y_pred, average='macro'),3))+'\\n\\\n",
    "        Macro Recall: '+str(round(recall_score(y_test, y_pred, average='macro'),3))+'\\n\\\n",
    "        Macro F1-score: '+str(round(f1_score(y_test, y_pred, average='macro'),3))+'\\n\\\n",
    "        '\n",
    "    ))\n",
    "    \n",
    "    display(Markdown(\n",
    "        '**Weighted Performance Metrics**\\n\\\n",
    "        \\n\\\n",
    "        Performance metrics calculated for each label and their average weighted by support \\n\\\n",
    "        (the number of true instances for each label). \\n\\\n",
    "        This extends the macro option to take the class imbalance into account. \\n\\\n",
    "        It might result in an F-score that is not between precision and recall. \\n\\\n",
    "        \\n\\\n",
    "        Weighted Precision: '+str(round(precision_score(y_test, y_pred, average='weighted'),3))+'\\n\\\n",
    "        Weighted Recall: '+str(round(recall_score(y_test, y_pred, average='weighted'),3))+'\\n\\\n",
    "        Weighted F1-score: '+str(round(f1_score(y_test, y_pred, average='weighted'),3))+'\\n\\\n",
    "        '\n",
    "    ))\n",
    "    \n",
    "    \n",
    "    from sklearn.metrics import classification_report\n",
    "    if 'labels' in tensor_names and 'predictions' in tensor_names:\n",
    "        display(Markdown(\n",
    "            '**Classification Report**\\n\\\n",
    "            \\n\\\n",
    "            The summary of the precision, recall, and F1-score for each class.'\n",
    "        ))\n",
    "        print(classification_report(y_test, y_pred))\n",
    "    else:\n",
    "        error_message = \"\\n\\\n",
    "        Labels and Predictions are missing in the debugger data output.\\n\\\n",
    "        Please check if labels and predictions are included in your Debugger Hook Config.\\n\\\n",
    "        \"\n",
    "        display(Markdown(error_message))"
   ]
  },
  {
   "cell_type": "code",
   "execution_count": 18,
   "metadata": {
    "execution": {
     "iopub.execute_input": "2025-01-02T18:20:21.952860Z",
     "iopub.status.busy": "2025-01-02T18:20:21.949525Z",
     "iopub.status.idle": "2025-01-02T18:20:21.958093Z",
     "shell.execute_reply": "2025-01-02T18:20:21.957338Z"
    },
    "papermill": {
     "duration": 0.027769,
     "end_time": "2025-01-02T18:20:21.958233",
     "exception": false,
     "start_time": "2025-01-02T18:20:21.930464",
     "status": "completed"
    },
    "tags": [
     "hide-input"
    ]
   },
   "outputs": [
    {
     "data": {
      "text/markdown": [
       "## Accuracy Rate of Each Diagonal Element over Iteration <a name=\"section4-2\"></a>\n",
       "The following graph shows the progression in accuracy rate of each class over iterations.\n",
       "- Each line is calculated by dividing the count of each diagonal element over the total population at validation steps captured by Debugger.\n",
       "- This plot provides visibility into the progression in the class-level accuracy, and you can evaluate which class is not well classified.\n",
       "If a certain class is under-performing, this might be, for example, due to the imbalanced class problem.\n",
       "It is recommended to see the first section, [The Distribution of True Labels of the Dataset](#section1),\n",
       "for more information about your data and suggested actions.\n"
      ],
      "text/plain": [
       "<IPython.core.display.Markdown object>"
      ]
     },
     "metadata": {},
     "output_type": "display_data"
    }
   ],
   "source": [
    "from IPython.display import display, Markdown\n",
    "\n",
    "s='## Accuracy Rate of Each Diagonal Element over Iteration <a name=\"section4-2\"></a>\\n\\\n",
    "\\\n",
    "The following graph shows the progression in accuracy rate of each class over iterations.\\n\\\n",
    "\\\n",
    "- Each line is calculated by dividing the count of each diagonal element over the total population at validation steps captured by Debugger.\\n\\\n",
    "- This plot provides visibility into the progression in the class-level accuracy, and you can evaluate which class is not well classified.\\n\\\n",
    "If a certain class is under-performing, this might be, for example, due to the imbalanced class problem.\\n\\\n",
    "It is recommended to see the first section, [The Distribution of True Labels of the Dataset](#section1),\\n\\\n",
    "for more information about your data and suggested actions.\\n\\\n",
    "'\n",
    "\n",
    "if objective_metric in [\"binary:logistic\", \"multi:softmax\"]:\n",
    "    display(Markdown(s))"
   ]
  },
  {
   "cell_type": "code",
   "execution_count": 19,
   "metadata": {
    "execution": {
     "iopub.execute_input": "2025-01-02T18:20:22.028027Z",
     "iopub.status.busy": "2025-01-02T18:20:22.026852Z",
     "iopub.status.idle": "2025-01-02T18:20:22.215076Z",
     "shell.execute_reply": "2025-01-02T18:20:22.215577Z"
    },
    "papermill": {
     "duration": 0.23731,
     "end_time": "2025-01-02T18:20:22.215887",
     "exception": false,
     "start_time": "2025-01-02T18:20:21.978577",
     "status": "completed"
    },
    "tags": [
     "hide-input"
    ]
   },
   "outputs": [
    {
     "data": {
      "text/html": [
       "\n",
       "\n",
       "\n",
       "\n",
       "\n",
       "\n",
       "  <div class=\"bk-root\" id=\"c2af7e90-049f-4b52-bfae-3f28cf518df5\" data-root-id=\"1580\"></div>\n"
      ]
     },
     "metadata": {},
     "output_type": "display_data"
    },
    {
     "data": {
      "application/javascript": [
       "(function(root) {\n",
       "  function embed_document(root) {\n",
       "    \n",
       "  var docs_json = {\"1c8fd2c5-83d5-4040-9f27-343860d93b90\":{\"roots\":{\"references\":[{\"attributes\":{\"below\":[{\"id\":\"1591\"}],\"center\":[{\"id\":\"1594\"},{\"id\":\"1598\"},{\"id\":\"1632\"}],\"left\":[{\"id\":\"1595\"}],\"plot_height\":500,\"plot_width\":1000,\"renderers\":[{\"id\":\"1620\"},{\"id\":\"1638\"},{\"id\":\"1657\"}],\"title\":{\"id\":\"1581\"},\"toolbar\":{\"id\":\"1609\"},\"toolbar_location\":\"left\",\"x_range\":{\"id\":\"1583\"},\"x_scale\":{\"id\":\"1587\"},\"y_range\":{\"id\":\"1585\"},\"y_scale\":{\"id\":\"1589\"}},\"id\":\"1580\",\"subtype\":\"Figure\",\"type\":\"Plot\"},{\"attributes\":{},\"id\":\"1600\",\"type\":\"WheelZoomTool\"},{\"attributes\":{\"source\":{\"id\":\"1653\"}},\"id\":\"1658\",\"type\":\"CDSView\"},{\"attributes\":{},\"id\":\"1583\",\"type\":\"DataRange1d\"},{\"attributes\":{\"fill_alpha\":0.5,\"fill_color\":\"lightgrey\",\"level\":\"overlay\",\"line_alpha\":1.0,\"line_color\":\"black\",\"line_dash\":[4,4],\"line_width\":2,\"xs_units\":\"screen\",\"ys_units\":\"screen\"},\"id\":\"1607\",\"type\":\"PolyAnnotation\"},{\"attributes\":{},\"id\":\"1601\",\"type\":\"ResetTool\"},{\"attributes\":{\"fill_color\":{\"value\":\"#ffffff\"},\"line_color\":{\"value\":\"#ffffff\"},\"size\":{\"units\":\"screen\",\"value\":1e-08},\"x\":{\"value\":0},\"y\":{\"value\":0}},\"id\":\"1618\",\"type\":\"Circle\"},{\"attributes\":{},\"id\":\"1623\",\"type\":\"BasicTickFormatter\"},{\"attributes\":{\"active_drag\":\"auto\",\"active_inspect\":\"auto\",\"active_multi\":null,\"active_scroll\":\"auto\",\"active_tap\":\"auto\",\"tools\":[{\"id\":\"1599\"},{\"id\":\"1600\"},{\"id\":\"1601\"},{\"id\":\"1602\"},{\"id\":\"1603\"},{\"id\":\"1604\"},{\"id\":\"1608\"}]},\"id\":\"1609\",\"type\":\"Toolbar\"},{\"attributes\":{\"overlay\":{\"id\":\"1607\"}},\"id\":\"1602\",\"type\":\"PolySelectTool\"},{\"attributes\":{\"label\":{\"value\":\"1\"},\"renderers\":[{\"id\":\"1657\"}]},\"id\":\"1673\",\"type\":\"LegendItem\"},{\"attributes\":{\"click_policy\":\"hide\",\"items\":[{\"id\":\"1633\"},{\"id\":\"1652\"},{\"id\":\"1673\"}],\"location\":\"center_right\"},\"id\":\"1632\",\"type\":\"Legend\"},{\"attributes\":{\"overlay\":{\"id\":\"1605\"}},\"id\":\"1603\",\"type\":\"BoxSelectTool\"},{\"attributes\":{},\"id\":\"1630\",\"type\":\"UnionRenderers\"},{\"attributes\":{},\"id\":\"1671\",\"type\":\"UnionRenderers\"},{\"attributes\":{},\"id\":\"1625\",\"type\":\"BasicTickFormatter\"},{\"attributes\":{},\"id\":\"1672\",\"type\":\"Selection\"},{\"attributes\":{\"overlay\":{\"id\":\"1606\"}},\"id\":\"1604\",\"type\":\"BoxZoomTool\"},{\"attributes\":{\"callback\":null,\"tooltips\":[[\"step\",\"@steps\"],[\"accuracy\",\"@stat\"]]},\"id\":\"1608\",\"type\":\"HoverTool\"},{\"attributes\":{\"fill_alpha\":{\"value\":0.1},\"fill_color\":{\"value\":\"#ffffff\"},\"line_alpha\":{\"value\":0.1},\"line_color\":{\"value\":\"#ffffff\"},\"size\":{\"units\":\"screen\",\"value\":1e-08},\"x\":{\"value\":0},\"y\":{\"value\":0}},\"id\":\"1619\",\"type\":\"Circle\"},{\"attributes\":{\"bottom_units\":\"screen\",\"fill_alpha\":0.5,\"fill_color\":\"lightgrey\",\"left_units\":\"screen\",\"level\":\"overlay\",\"line_alpha\":1.0,\"line_color\":\"black\",\"line_dash\":[4,4],\"line_width\":2,\"right_units\":\"screen\",\"top_units\":\"screen\"},\"id\":\"1606\",\"type\":\"BoxAnnotation\"},{\"attributes\":{},\"id\":\"1631\",\"type\":\"Selection\"},{\"attributes\":{\"axis_label\":\"Iteration\",\"formatter\":{\"id\":\"1625\"},\"ticker\":{\"id\":\"1592\"}},\"id\":\"1591\",\"type\":\"LinearAxis\"},{\"attributes\":{\"line_alpha\":0.1,\"line_color\":\"rgb(139, 184, 231)\",\"line_width\":4,\"x\":{\"field\":\"steps\"},\"y\":{\"field\":\"stat\"}},\"id\":\"1637\",\"type\":\"Line\"},{\"attributes\":{},\"id\":\"1596\",\"type\":\"BasicTicker\"},{\"attributes\":{\"data_source\":{\"id\":\"1634\"},\"glyph\":{\"id\":\"1636\"},\"hover_glyph\":null,\"muted_glyph\":null,\"name\":\"0\",\"nonselection_glyph\":{\"id\":\"1637\"},\"selection_glyph\":null,\"view\":{\"id\":\"1639\"}},\"id\":\"1638\",\"type\":\"GlyphRenderer\"},{\"attributes\":{},\"id\":\"1592\",\"type\":\"BasicTicker\"},{\"attributes\":{\"axis\":{\"id\":\"1591\"},\"grid_line_color\":null,\"ticker\":null},\"id\":\"1594\",\"type\":\"Grid\"},{\"attributes\":{},\"id\":\"1650\",\"type\":\"UnionRenderers\"},{\"attributes\":{\"source\":{\"id\":\"1634\"}},\"id\":\"1639\",\"type\":\"CDSView\"},{\"attributes\":{},\"id\":\"1651\",\"type\":\"Selection\"},{\"attributes\":{\"axis\":{\"id\":\"1595\"},\"dimension\":1,\"ticker\":null},\"id\":\"1598\",\"type\":\"Grid\"},{\"attributes\":{\"axis_label\":\"Accuracy\",\"formatter\":{\"id\":\"1623\"},\"ticker\":{\"id\":\"1596\"}},\"id\":\"1595\",\"type\":\"LinearAxis\"},{\"attributes\":{\"line_color\":\"rgb(139, 184, 231)\",\"line_width\":4,\"x\":{\"field\":\"steps\"},\"y\":{\"field\":\"stat\"}},\"id\":\"1636\",\"type\":\"Line\"},{\"attributes\":{\"source\":{\"id\":\"1617\"}},\"id\":\"1621\",\"type\":\"CDSView\"},{\"attributes\":{\"data\":{\"stat\":[0.5044814340588989,0.5428937259923176,0.5409731113956466,0.5518565941101152,0.5729833546734955,0.6056338028169014,0.615877080665813,0.6248399487836107,0.6267605633802817,0.6306017925736236,0.6357234314980794],\"steps\":[0,5,10,15,20,25,30,35,40,45,50]},\"selected\":{\"id\":\"1672\"},\"selection_policy\":{\"id\":\"1671\"}},\"id\":\"1653\",\"type\":\"ColumnDataSource\"},{\"attributes\":{\"data\":{\"stat\":[0.9519289032518683,0.9484952534841447,0.954352656029085,0.9549585942233892,0.9523328620480711,0.9499091092708544,0.9511209856594627,0.9509190062613614,0.9503130680670572,0.9493031710765502,0.9488992122803475],\"steps\":[0,5,10,15,20,25,30,35,40,45,50]},\"selected\":{\"id\":\"1651\"},\"selection_policy\":{\"id\":\"1650\"}},\"id\":\"1634\",\"type\":\"ColumnDataSource\"},{\"attributes\":{\"label\":{\"value\":\"0\"},\"renderers\":[{\"id\":\"1638\"}]},\"id\":\"1652\",\"type\":\"LegendItem\"},{\"attributes\":{\"text\":\"Accuracy Rate of Each Diagonal Element over Iteration\"},\"id\":\"1581\",\"type\":\"Title\"},{\"attributes\":{},\"id\":\"1587\",\"type\":\"LinearScale\"},{\"attributes\":{\"data_source\":{\"id\":\"1617\"},\"glyph\":{\"id\":\"1618\"},\"hover_glyph\":null,\"muted_glyph\":null,\"nonselection_glyph\":{\"id\":\"1619\"},\"selection_glyph\":null,\"view\":{\"id\":\"1621\"}},\"id\":\"1620\",\"type\":\"GlyphRenderer\"},{\"attributes\":{\"line_color\":\"rgb(79, 62, 97)\",\"line_width\":4,\"x\":{\"field\":\"steps\"},\"y\":{\"field\":\"stat\"}},\"id\":\"1655\",\"type\":\"Line\"},{\"attributes\":{\"bottom_units\":\"screen\",\"fill_alpha\":0.5,\"fill_color\":\"lightgrey\",\"left_units\":\"screen\",\"level\":\"overlay\",\"line_alpha\":1.0,\"line_color\":\"black\",\"line_dash\":[4,4],\"line_width\":2,\"right_units\":\"screen\",\"top_units\":\"screen\"},\"id\":\"1605\",\"type\":\"BoxAnnotation\"},{\"attributes\":{\"data_source\":{\"id\":\"1653\"},\"glyph\":{\"id\":\"1655\"},\"hover_glyph\":null,\"muted_glyph\":null,\"name\":\"1\",\"nonselection_glyph\":{\"id\":\"1656\"},\"selection_glyph\":null,\"view\":{\"id\":\"1658\"}},\"id\":\"1657\",\"type\":\"GlyphRenderer\"},{\"attributes\":{},\"id\":\"1589\",\"type\":\"LinearScale\"},{\"attributes\":{\"data\":{},\"selected\":{\"id\":\"1631\"},\"selection_policy\":{\"id\":\"1630\"}},\"id\":\"1617\",\"type\":\"ColumnDataSource\"},{\"attributes\":{\"label\":{\"value\":\"Class Names\"},\"renderers\":[{\"id\":\"1620\"}]},\"id\":\"1633\",\"type\":\"LegendItem\"},{\"attributes\":{\"start\":0},\"id\":\"1585\",\"type\":\"DataRange1d\"},{\"attributes\":{\"line_alpha\":0.1,\"line_color\":\"rgb(79, 62, 97)\",\"line_width\":4,\"x\":{\"field\":\"steps\"},\"y\":{\"field\":\"stat\"}},\"id\":\"1656\",\"type\":\"Line\"},{\"attributes\":{},\"id\":\"1599\",\"type\":\"PanTool\"}],\"root_ids\":[\"1580\"]},\"title\":\"Bokeh Application\",\"version\":\"2.2.3\"}};\n",
       "  var render_items = [{\"docid\":\"1c8fd2c5-83d5-4040-9f27-343860d93b90\",\"root_ids\":[\"1580\"],\"roots\":{\"1580\":\"c2af7e90-049f-4b52-bfae-3f28cf518df5\"}}];\n",
       "  root.Bokeh.embed.embed_items_notebook(docs_json, render_items);\n",
       "\n",
       "  }\n",
       "  if (root.Bokeh !== undefined) {\n",
       "    embed_document(root);\n",
       "  } else {\n",
       "    var attempts = 0;\n",
       "    var timer = setInterval(function(root) {\n",
       "      if (root.Bokeh !== undefined) {\n",
       "        clearInterval(timer);\n",
       "        embed_document(root);\n",
       "      } else {\n",
       "        attempts++;\n",
       "        if (attempts > 100) {\n",
       "          clearInterval(timer);\n",
       "          console.log(\"Bokeh: ERROR: Unable to run BokehJS code because BokehJS library is missing\");\n",
       "        }\n",
       "      }\n",
       "    }, 10, root)\n",
       "  }\n",
       "})(window);"
      ],
      "application/vnd.bokehjs_exec.v0+json": ""
     },
     "metadata": {
      "application/vnd.bokehjs_exec.v0+json": {
       "id": "1580"
      }
     },
     "output_type": "display_data"
    }
   ],
   "source": [
    "from collections import defaultdict\n",
    "from scipy import stats\n",
    "from bokeh.models.tickers import SingleIntervalTicker\n",
    "import random\n",
    "import numpy as np\n",
    "from sklearn.metrics import confusion_matrix\n",
    "\n",
    "\n",
    "def color_gen():\n",
    "    co=(round(random.random()*250),round(random.random()*250),round(random.random()*250))\n",
    "    return co\n",
    "def plot_accuracy_rate():\n",
    "    class_to_accuracy_map = defaultdict(list)\n",
    "    label_steps = trial.tensor('labels').steps()\n",
    "    pred_steps = trial.tensor('predictions').steps()\n",
    "    validation_steps = sorted(list(set(label_steps).intersection(set(pred_steps))))\n",
    "    for step in validation_steps:\n",
    "        predictions = trial.tensor(\"predictions\").value(step).round()\n",
    "        labels = trial.tensor(\"labels\").value(step).round()\n",
    "        cm = confusion_matrix(\n",
    "            labels,\n",
    "            predictions\n",
    "        )\n",
    "        cm = cm.astype('float') / cm.sum(axis=1)[:, np.newaxis]\n",
    "        for class_ in range(len(cm)):\n",
    "            class_to_accuracy_map[class_].append(cm[class_][class_])\n",
    "\n",
    "    TOOLS=\"pan,wheel_zoom,reset,poly_select,box_select,box_zoom\"\n",
    "    TOOLTIPS = [\n",
    "        (\"step\", \"@steps\"),\n",
    "        (\"accuracy\", \"@stat\"),\n",
    "    ] \n",
    "    bin_names = []\n",
    "    data_list = []\n",
    "    p = figure( \n",
    "        title=f\"Accuracy Rate of Each Diagonal Element over Iteration\",\n",
    "        toolbar_location=\"left\", \n",
    "        tools=TOOLS,\n",
    "        tooltips=TOOLTIPS,\n",
    "        plot_height=500,\n",
    "        plot_width=1000\n",
    "    )\n",
    "    p.circle(0, 0, size=0.00000001, color= \"#ffffff\", legend_label=\"Class Names\")\n",
    "    for class_ in class_to_accuracy_map:\n",
    "        source = ColumnDataSource(\n",
    "            data=dict(\n",
    "                steps=validation_steps, \n",
    "                stat=class_to_accuracy_map[class_]\n",
    "            )\n",
    "        )\n",
    "        p.line(\n",
    "            'steps', \n",
    "            'stat', \n",
    "            name=str(class_), \n",
    "            color=color_gen(), \n",
    "            line_width=4,\n",
    "            source=source, \n",
    "            legend_label=str(class_)\n",
    "        )\n",
    "    p.legend.location = \"center_right\"\n",
    "    p.legend.click_policy=\"hide\"\n",
    "    p.xgrid.grid_line_color = None\n",
    "    p.xaxis.axis_label = 'Iteration'\n",
    "    p.yaxis.axis_label = 'Accuracy'\n",
    "    p.y_range.start = 0\n",
    "\n",
    "    show(p)\n",
    "\n",
    "avail_steps = trial.steps()\n",
    "obj_names_for_error_plots = [\"binary:logistic\", \"multi:softmax\"]\n",
    "if objective_metric in obj_names_for_error_plots:\n",
    "    if 'labels' in tensor_names and 'predictions' in tensor_names:\n",
    "        plot_accuracy_rate()\n",
    "    else:\n",
    "        error_message = \"\\n\\\n",
    "        Labels and Predictions are missing in the debugger data output.\\n\\\n",
    "        Please check if labels and predictions are included in your Debugger Hook Config.\\n\\\n",
    "        \"\n",
    "        display(Markdown(error_message))"
   ]
  },
  {
   "cell_type": "code",
   "execution_count": 20,
   "metadata": {
    "execution": {
     "iopub.execute_input": "2025-01-02T18:20:22.263945Z",
     "iopub.status.busy": "2025-01-02T18:20:22.263246Z",
     "iopub.status.idle": "2025-01-02T18:20:22.268311Z",
     "shell.execute_reply": "2025-01-02T18:20:22.268816Z"
    },
    "papermill": {
     "duration": 0.03013,
     "end_time": "2025-01-02T18:20:22.268975",
     "exception": false,
     "start_time": "2025-01-02T18:20:22.238845",
     "status": "completed"
    },
    "tags": [
     "hide-input"
    ]
   },
   "outputs": [
    {
     "data": {
      "text/markdown": [
       "## Receiver Operating Characteristic Curve <a name=\"section5\"></a>\n",
       "\n",
       "The *Receiver Operating Characteristic* curve shows the performance of binary classification.\n",
       "\n",
       "* It measures the ratio of TPR over FPR, and the **Area Under Curve** (AUC) approaches to 1 as the model performance improves. The lowest AUC value is 0.5 (the area under the line of no-discrimination). \n",
       "* If the AUC value is less than 0.6, it means that your model significantly under-performs. Consider improving your data, tuning the model parameters, pruning the trees, or trying other classifiers.\n",
       "\n"
      ],
      "text/plain": [
       "<IPython.core.display.Markdown object>"
      ]
     },
     "metadata": {},
     "output_type": "display_data"
    }
   ],
   "source": [
    "from IPython.display import display, Markdown\n",
    "\n",
    "s='## Receiver Operating Characteristic Curve <a name=\"section5\"></a>\\n\\\n",
    "\\n\\\n",
    "The *Receiver Operating Characteristic* curve shows the performance of binary classification.\\n\\\n",
    "\\n\\\n",
    "* It measures the ratio of TPR over FPR, and the **Area Under Curve** (AUC) approaches to 1 as the model performance improves. The lowest AUC value is 0.5 (the area under the line of no-discrimination). \\n\\\n",
    "* If the AUC value is less than 0.6, it means that your model significantly under-performs. Consider improving your data, tuning the model parameters, pruning the trees, or trying other classifiers.\\n\\\n",
    "\\n\\\n",
    "'\n",
    "\n",
    "if objective_metric in [\"binary:logistic\"]:\n",
    "    display(Markdown(s))\n"
   ]
  },
  {
   "cell_type": "code",
   "execution_count": 21,
   "metadata": {
    "execution": {
     "iopub.execute_input": "2025-01-02T18:20:22.341769Z",
     "iopub.status.busy": "2025-01-02T18:20:22.340739Z",
     "iopub.status.idle": "2025-01-02T18:20:22.466740Z",
     "shell.execute_reply": "2025-01-02T18:20:22.467311Z"
    },
    "papermill": {
     "duration": 0.185225,
     "end_time": "2025-01-02T18:20:22.467479",
     "exception": false,
     "start_time": "2025-01-02T18:20:22.282254",
     "status": "completed"
    },
    "tags": [
     "hide-input"
    ]
   },
   "outputs": [
    {
     "data": {
      "text/html": [
       "\n",
       "\n",
       "\n",
       "\n",
       "\n",
       "\n",
       "  <div class=\"bk-root\" id=\"ec4f76b4-e603-40b3-9e0e-344d17b7a771\" data-root-id=\"1802\"></div>\n"
      ]
     },
     "metadata": {},
     "output_type": "display_data"
    },
    {
     "data": {
      "application/javascript": [
       "(function(root) {\n",
       "  function embed_document(root) {\n",
       "    \n",
       "  var docs_json = {\"5ec408bc-5ea5-4a39-806e-a03ed10b0226\":{\"roots\":{\"references\":[{\"attributes\":{\"below\":[{\"id\":\"1813\"}],\"center\":[{\"id\":\"1816\"},{\"id\":\"1820\"},{\"id\":\"1855\"}],\"left\":[{\"id\":\"1817\"}],\"renderers\":[{\"id\":\"1839\"},{\"id\":\"1844\"}],\"title\":{\"id\":\"1803\"},\"toolbar\":{\"id\":\"1829\"},\"x_range\":{\"id\":\"1805\"},\"x_scale\":{\"id\":\"1809\"},\"y_range\":{\"id\":\"1807\"},\"y_scale\":{\"id\":\"1811\"}},\"id\":\"1802\",\"subtype\":\"Figure\",\"type\":\"Plot\"},{\"attributes\":{\"active_drag\":\"auto\",\"active_inspect\":\"auto\",\"active_multi\":null,\"active_scroll\":\"auto\",\"active_tap\":\"auto\",\"tools\":[{\"id\":\"1821\"},{\"id\":\"1822\"},{\"id\":\"1823\"},{\"id\":\"1824\"},{\"id\":\"1825\"},{\"id\":\"1828\"}]},\"id\":\"1829\",\"type\":\"Toolbar\"},{\"attributes\":{\"axis_label\":\"False Positive Rate\",\"formatter\":{\"id\":\"1849\"},\"ticker\":{\"id\":\"1814\"}},\"id\":\"1813\",\"type\":\"LinearAxis\"},{\"attributes\":{},\"id\":\"1818\",\"type\":\"BasicTicker\"},{\"attributes\":{},\"id\":\"1814\",\"type\":\"BasicTicker\"},{\"attributes\":{\"axis\":{\"id\":\"1813\"},\"ticker\":null},\"id\":\"1816\",\"type\":\"Grid\"},{\"attributes\":{\"axis\":{\"id\":\"1817\"},\"dimension\":1,\"ticker\":null},\"id\":\"1820\",\"type\":\"Grid\"},{\"attributes\":{},\"id\":\"1847\",\"type\":\"BasicTickFormatter\"},{\"attributes\":{\"axis_label\":\"True Positive Rate\",\"formatter\":{\"id\":\"1847\"},\"ticker\":{\"id\":\"1818\"}},\"id\":\"1817\",\"type\":\"LinearAxis\"},{\"attributes\":{\"callback\":null,\"tooltips\":[[\"TPR\",\"@y_tpr\"],[\"FPR\",\"@x_fpr\"],[\"Thresh\",\"@thresh\"]]},\"id\":\"1828\",\"type\":\"HoverTool\"},{\"attributes\":{\"line_color\":\"blue\",\"x\":{\"field\":\"x_fpr\"},\"y\":{\"field\":\"y_tpr\"}},\"id\":\"1837\",\"type\":\"Line\"},{\"attributes\":{\"text\":\"ROC curve\"},\"id\":\"1803\",\"type\":\"Title\"},{\"attributes\":{\"fill_alpha\":0.5,\"fill_color\":\"lightgrey\",\"level\":\"overlay\",\"line_alpha\":1.0,\"line_color\":\"black\",\"line_dash\":[4,4],\"line_width\":2,\"xs_units\":\"screen\",\"ys_units\":\"screen\"},\"id\":\"1827\",\"type\":\"PolyAnnotation\"},{\"attributes\":{\"data_source\":{\"id\":\"1801\"},\"glyph\":{\"id\":\"1842\"},\"hover_glyph\":null,\"muted_glyph\":null,\"name\":\"ROC\",\"nonselection_glyph\":{\"id\":\"1843\"},\"selection_glyph\":null,\"view\":{\"id\":\"1845\"}},\"id\":\"1844\",\"type\":\"GlyphRenderer\"},{\"attributes\":{},\"id\":\"1853\",\"type\":\"UnionRenderers\"},{\"attributes\":{},\"id\":\"1849\",\"type\":\"BasicTickFormatter\"},{\"attributes\":{\"bottom_units\":\"screen\",\"fill_alpha\":0.5,\"fill_color\":\"lightgrey\",\"left_units\":\"screen\",\"level\":\"overlay\",\"line_alpha\":1.0,\"line_color\":\"black\",\"line_dash\":[4,4],\"line_width\":2,\"right_units\":\"screen\",\"top_units\":\"screen\"},\"id\":\"1826\",\"type\":\"BoxAnnotation\"},{\"attributes\":{},\"id\":\"1854\",\"type\":\"Selection\"},{\"attributes\":{\"source\":{\"id\":\"1801\"}},\"id\":\"1840\",\"type\":\"CDSView\"},{\"attributes\":{},\"id\":\"1821\",\"type\":\"PanTool\"},{\"attributes\":{\"line_alpha\":0.1,\"line_color\":\"blue\",\"x\":{\"field\":\"x_fpr\"},\"y\":{\"field\":\"y_tpr\"}},\"id\":\"1838\",\"type\":\"Line\"},{\"attributes\":{},\"id\":\"1822\",\"type\":\"WheelZoomTool\"},{\"attributes\":{\"label\":{\"value\":\"Area Under Curve:\\n 0.92591\"},\"renderers\":[{\"id\":\"1844\"}]},\"id\":\"1856\",\"type\":\"LegendItem\"},{\"attributes\":{},\"id\":\"1805\",\"type\":\"DataRange1d\"},{\"attributes\":{\"data\":{\"thresh\":{\"__ndarray__\":\"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\",\"dtype\":\"float32\",\"order\":\"little\",\"shape\":[1781]},\"x_fpr\":{\"__ndarray__\":\"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\",\"dtype\":\"float64\",\"order\":\"little\",\"shape\":[1781]},\"y_tpr\":{\"__ndarray__\":\"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\",\"dtype\":\"float64\",\"order\":\"little\",\"shape\":[1781]}},\"selected\":{\"id\":\"1854\"},\"selection_policy\":{\"id\":\"1853\"}},\"id\":\"1801\",\"type\":\"ColumnDataSource\"},{\"attributes\":{\"fill_alpha\":{\"value\":0.1},\"fill_color\":{\"value\":\"orange\"},\"line_alpha\":{\"value\":0.1},\"line_color\":{\"value\":\"orange\"},\"size\":{\"units\":\"screen\",\"value\":5},\"x\":{\"field\":\"x_fpr\"},\"y\":{\"field\":\"y_tpr\"}},\"id\":\"1843\",\"type\":\"Circle\"},{\"attributes\":{\"data_source\":{\"id\":\"1801\"},\"glyph\":{\"id\":\"1837\"},\"hover_glyph\":null,\"muted_glyph\":null,\"nonselection_glyph\":{\"id\":\"1838\"},\"selection_glyph\":null,\"view\":{\"id\":\"1840\"}},\"id\":\"1839\",\"type\":\"GlyphRenderer\"},{\"attributes\":{},\"id\":\"1823\",\"type\":\"ResetTool\"},{\"attributes\":{},\"id\":\"1809\",\"type\":\"LinearScale\"},{\"attributes\":{\"overlay\":{\"id\":\"1827\"}},\"id\":\"1824\",\"type\":\"PolySelectTool\"},{\"attributes\":{\"fill_color\":{\"value\":\"orange\"},\"line_color\":{\"value\":\"orange\"},\"size\":{\"units\":\"screen\",\"value\":5},\"x\":{\"field\":\"x_fpr\"},\"y\":{\"field\":\"y_tpr\"}},\"id\":\"1842\",\"type\":\"Circle\"},{\"attributes\":{\"source\":{\"id\":\"1801\"}},\"id\":\"1845\",\"type\":\"CDSView\"},{\"attributes\":{},\"id\":\"1811\",\"type\":\"LinearScale\"},{\"attributes\":{\"overlay\":{\"id\":\"1826\"}},\"id\":\"1825\",\"type\":\"BoxZoomTool\"},{\"attributes\":{},\"id\":\"1807\",\"type\":\"DataRange1d\"},{\"attributes\":{\"items\":[{\"id\":\"1856\"}],\"location\":\"bottom_right\"},\"id\":\"1855\",\"type\":\"Legend\"}],\"root_ids\":[\"1802\"]},\"title\":\"Bokeh Application\",\"version\":\"2.2.3\"}};\n",
       "  var render_items = [{\"docid\":\"5ec408bc-5ea5-4a39-806e-a03ed10b0226\",\"root_ids\":[\"1802\"],\"roots\":{\"1802\":\"ec4f76b4-e603-40b3-9e0e-344d17b7a771\"}}];\n",
       "  root.Bokeh.embed.embed_items_notebook(docs_json, render_items);\n",
       "\n",
       "  }\n",
       "  if (root.Bokeh !== undefined) {\n",
       "    embed_document(root);\n",
       "  } else {\n",
       "    var attempts = 0;\n",
       "    var timer = setInterval(function(root) {\n",
       "      if (root.Bokeh !== undefined) {\n",
       "        clearInterval(timer);\n",
       "        embed_document(root);\n",
       "      } else {\n",
       "        attempts++;\n",
       "        if (attempts > 100) {\n",
       "          clearInterval(timer);\n",
       "          console.log(\"Bokeh: ERROR: Unable to run BokehJS code because BokehJS library is missing\");\n",
       "        }\n",
       "      }\n",
       "    }, 10, root)\n",
       "  }\n",
       "})(window);"
      ],
      "application/vnd.bokehjs_exec.v0+json": ""
     },
     "metadata": {
      "application/vnd.bokehjs_exec.v0+json": {
       "id": "1802"
      }
     },
     "output_type": "display_data"
    }
   ],
   "source": [
    "from sklearn.metrics import roc_curve, auc\n",
    "\n",
    "\n",
    "# ROC Curve Will Only Be Plotted For Binary Classifiers\n",
    "\n",
    "def plot_roc_curve():\n",
    "    y_preds = trial.tensor('predictions').value(plot_step)\n",
    "    labels = trial.tensor('labels').value(plot_step)\n",
    "    fpr, tpr, thresholds = roc_curve(labels, y_preds)\n",
    "    roc_auc = auc(fpr, tpr)\n",
    "    # PLOT ROC curve\n",
    "    source_ROC = ColumnDataSource(\n",
    "        data=dict(x_fpr=fpr, \n",
    "                  y_tpr=tpr,\n",
    "                  thresh=thresholds,\n",
    "                 )\n",
    "    )\n",
    "    auc_legend = f'Area Under Curve:\\n {(round(roc_auc, 5))}'\n",
    "    TOOLTIPS=[(\"TPR\", \"@y_tpr\"), (\"FPR\", \"@x_fpr\"), (\"Thresh\", \"@thresh\")]\n",
    "    TOOLS=\"pan,wheel_zoom,reset,poly_select,box_zoom\"\n",
    "    p = figure(title=f'ROC curve', tools=TOOLS, tooltips=TOOLTIPS)\n",
    "    p.line('x_fpr', 'y_tpr', line_width=1, color=\"blue\", source=source_ROC)\n",
    "    p.circle('x_fpr', 'y_tpr', size=5, color=\"orange\", legend_label=auc_legend, source=source_ROC, name='ROC')\n",
    "    p.xaxis.axis_label = 'False Positive Rate'\n",
    "    p.yaxis.axis_label = 'True Positive Rate'\n",
    "    p.legend.location = 'bottom_right'\n",
    "    show(p)\n",
    "    \n",
    "if objective_metric in [\"binary:logistic\"]:\n",
    "    if 'labels' in tensor_names and 'predictions' in tensor_names:\n",
    "        plot_roc_curve()\n",
    "    else:\n",
    "        error_message = \"\\n\\\n",
    "        Labels and Predictions are missing in the debugger data output.\\n\\\n",
    "        Please check if labels and predictions are included in your Debugger Hook Config.\\n\\\n",
    "        \"\n",
    "        display(Markdown(error_message))"
   ]
  },
  {
   "cell_type": "code",
   "execution_count": 22,
   "metadata": {
    "execution": {
     "iopub.execute_input": "2025-01-02T18:20:22.503944Z",
     "iopub.status.busy": "2025-01-02T18:20:22.503196Z",
     "iopub.status.idle": "2025-01-02T18:20:22.509199Z",
     "shell.execute_reply": "2025-01-02T18:20:22.508764Z"
    },
    "papermill": {
     "duration": 0.027081,
     "end_time": "2025-01-02T18:20:22.509323",
     "exception": false,
     "start_time": "2025-01-02T18:20:22.482242",
     "status": "completed"
    },
    "tags": [
     "hide-input"
    ]
   },
   "outputs": [
    {
     "data": {
      "text/markdown": [
       "## Distribution of Residuals at the Last Saved Step <a name=\"section6\"></a>\n",
       "\n",
       "The following histogram shows the distribution of residuals captured at the last step by Debugger.\n",
       "\n",
       "The residual is calculated as **predicted minus true** in this visualization. \n",
       "\n",
       "\n",
       "- For **regression**, the distribution should show a normal distribution centered at zero if the model is well trained.\n",
       "- For **classification**, the distribution shows how the number of correct prediction counts (at the zero residual bin) dominates over the number of wrong prediction counts.\n",
       "\n",
       "\n"
      ],
      "text/plain": [
       "<IPython.core.display.Markdown object>"
      ]
     },
     "metadata": {},
     "output_type": "display_data"
    }
   ],
   "source": [
    "from IPython.display import display, Markdown\n",
    "\n",
    "s = '## Distribution of Residuals at the Last Saved Step <a name=\"section6\"></a>\\n\\\n",
    "\\n\\\n",
    "The following histogram shows the distribution of residuals captured at the last step by Debugger.\\n\\\n",
    "\\n\\\n",
    "The residual is calculated as **predicted minus true** in this visualization. \\n\\\n",
    "\\n\\\n",
    "\\n\\\n",
    "- For **regression**, the distribution should show a normal distribution centered at zero if the model is well trained.\\n\\\n",
    "- For **classification**, the distribution shows how the number of correct prediction counts (at the zero residual bin) dominates over the number of wrong prediction counts.\\n\\\n",
    "\\n\\\n",
    "\\n\\\n",
    "'\n",
    "\n",
    "if objective_metric in SUPPORTED_OBJECTIVES:\n",
    "    display(Markdown(s))\n"
   ]
  },
  {
   "cell_type": "code",
   "execution_count": 23,
   "metadata": {
    "execution": {
     "iopub.execute_input": "2025-01-02T18:20:22.552228Z",
     "iopub.status.busy": "2025-01-02T18:20:22.551340Z",
     "iopub.status.idle": "2025-01-02T18:20:22.637700Z",
     "shell.execute_reply": "2025-01-02T18:20:22.638105Z"
    },
    "papermill": {
     "duration": 0.113038,
     "end_time": "2025-01-02T18:20:22.638252",
     "exception": false,
     "start_time": "2025-01-02T18:20:22.525214",
     "status": "completed"
    },
    "tags": [
     "hide-input"
    ]
   },
   "outputs": [
    {
     "data": {
      "text/html": [
       "\n",
       "\n",
       "\n",
       "\n",
       "\n",
       "\n",
       "  <div class=\"bk-root\" id=\"0c5462e1-1da7-46cc-9e22-1c827ccbe7a1\" data-root-id=\"2020\"></div>\n"
      ]
     },
     "metadata": {},
     "output_type": "display_data"
    },
    {
     "data": {
      "application/javascript": [
       "(function(root) {\n",
       "  function embed_document(root) {\n",
       "    \n",
       "  var docs_json = {\"f1ecd88d-2b97-4676-a6fd-31bcc2a3966e\":{\"roots\":{\"references\":[{\"attributes\":{\"children\":[{\"id\":\"2019\"},{\"id\":\"2017\"}]},\"id\":\"2020\",\"type\":\"Row\"},{\"attributes\":{\"start\":0},\"id\":\"1973\",\"type\":\"DataRange1d\"},{\"attributes\":{},\"id\":\"2015\",\"type\":\"Selection\"},{\"attributes\":{},\"id\":\"1977\",\"type\":\"LinearScale\"},{\"attributes\":{},\"id\":\"1980\",\"type\":\"BasicTicker\"},{\"attributes\":{\"data_source\":{\"id\":\"2002\"},\"glyph\":{\"id\":\"2003\"},\"hover_glyph\":null,\"muted_glyph\":null,\"nonselection_glyph\":{\"id\":\"2004\"},\"selection_glyph\":null,\"view\":{\"id\":\"2006\"}},\"id\":\"2005\",\"type\":\"GlyphRenderer\"},{\"attributes\":{\"axis_label\":\"Error\",\"formatter\":{\"id\":\"2010\"},\"ticker\":{\"id\":\"1980\"}},\"id\":\"1979\",\"type\":\"LinearAxis\"},{\"attributes\":{},\"id\":\"1971\",\"type\":\"DataRange1d\"},{\"attributes\":{\"data\":{\"left\":{\"__ndarray__\":\"AACAv7dtW79u2za/JUkSv7dt274lSZK+JUkSvgAAAAAlSRI+JUmSPrdt2z4lSRI/bts2P7dtWz8=\",\"dtype\":\"float32\",\"order\":\"little\",\"shape\":[14]},\"right\":{\"__ndarray__\":\"t21bv27bNr8lSRK/t23bviVJkr4lSRK+AAAAACVJEj4lSZI+t23bPiVJEj9u2zY/t21bPwAAgD8=\",\"dtype\":\"float32\",\"order\":\"little\",\"shape\":[14]},\"top\":[569,0,0,0,0,0,0,5691,0,0,0,0,0,253]},\"selected\":{\"id\":\"2015\"},\"selection_policy\":{\"id\":\"2014\"}},\"id\":\"2002\",\"type\":\"ColumnDataSource\"},{\"attributes\":{},\"id\":\"2010\",\"type\":\"BasicTickFormatter\"},{\"attributes\":{\"overlay\":{\"id\":\"1992\"}},\"id\":\"1990\",\"type\":\"BoxSelectTool\"},{\"attributes\":{\"bottom_units\":\"screen\",\"fill_alpha\":0.5,\"fill_color\":\"lightgrey\",\"left_units\":\"screen\",\"level\":\"overlay\",\"line_alpha\":1.0,\"line_color\":\"black\",\"line_dash\":[4,4],\"line_width\":2,\"right_units\":\"screen\",\"top_units\":\"screen\"},\"id\":\"1993\",\"type\":\"BoxAnnotation\"},{\"attributes\":{\"source\":{\"id\":\"2002\"}},\"id\":\"2006\",\"type\":\"CDSView\"},{\"attributes\":{\"bottom_units\":\"screen\",\"fill_alpha\":0.5,\"fill_color\":\"lightgrey\",\"left_units\":\"screen\",\"level\":\"overlay\",\"line_alpha\":1.0,\"line_color\":\"black\",\"line_dash\":[4,4],\"line_width\":2,\"right_units\":\"screen\",\"top_units\":\"screen\"},\"id\":\"1992\",\"type\":\"BoxAnnotation\"},{\"attributes\":{\"axis_label\":\"Error Count\",\"formatter\":{\"id\":\"2008\"},\"ticker\":{\"id\":\"1984\"}},\"id\":\"1983\",\"type\":\"LinearAxis\"},{\"attributes\":{\"axis\":{\"id\":\"1983\"},\"dimension\":1,\"grid_line_color\":\"white\",\"ticker\":null},\"id\":\"1986\",\"type\":\"Grid\"},{\"attributes\":{\"children\":[[{\"id\":\"1968\"},0,0]]},\"id\":\"2017\",\"type\":\"GridBox\"},{\"attributes\":{\"below\":[{\"id\":\"1979\"}],\"center\":[{\"id\":\"1982\"},{\"id\":\"1986\"}],\"left\":[{\"id\":\"1983\"}],\"plot_height\":500,\"plot_width\":500,\"renderers\":[{\"id\":\"2005\"}],\"title\":{\"id\":\"1969\"},\"toolbar\":{\"id\":\"1995\"},\"toolbar_location\":null,\"x_range\":{\"id\":\"1971\"},\"x_scale\":{\"id\":\"1975\"},\"y_range\":{\"id\":\"1973\"},\"y_scale\":{\"id\":\"1977\"}},\"id\":\"1968\",\"subtype\":\"Figure\",\"type\":\"Plot\"},{\"attributes\":{\"toolbars\":[{\"id\":\"1995\"}],\"tools\":[{\"id\":\"1987\"},{\"id\":\"1988\"},{\"id\":\"1989\"},{\"id\":\"1990\"},{\"id\":\"1991\"},{\"id\":\"1994\"}]},\"id\":\"2018\",\"type\":\"ProxyToolbar\"},{\"attributes\":{},\"id\":\"1984\",\"type\":\"BasicTicker\"},{\"attributes\":{},\"id\":\"1989\",\"type\":\"ResetTool\"},{\"attributes\":{},\"id\":\"1975\",\"type\":\"LinearScale\"},{\"attributes\":{\"active_drag\":\"auto\",\"active_inspect\":\"auto\",\"active_multi\":null,\"active_scroll\":\"auto\",\"active_tap\":\"auto\",\"tools\":[{\"id\":\"1987\"},{\"id\":\"1988\"},{\"id\":\"1989\"},{\"id\":\"1990\"},{\"id\":\"1991\"},{\"id\":\"1994\"}]},\"id\":\"1995\",\"type\":\"Toolbar\"},{\"attributes\":{\"axis\":{\"id\":\"1979\"},\"grid_line_color\":\"white\",\"ticker\":null},\"id\":\"1982\",\"type\":\"Grid\"},{\"attributes\":{\"bottom\":{\"value\":0},\"fill_alpha\":{\"value\":0.5},\"fill_color\":{\"value\":\"navy\"},\"left\":{\"field\":\"left\"},\"line_alpha\":{\"value\":0.5},\"line_color\":{\"value\":\"white\"},\"right\":{\"field\":\"right\"},\"top\":{\"field\":\"top\"}},\"id\":\"2003\",\"type\":\"Quad\"},{\"attributes\":{\"overlay\":{\"id\":\"1993\"}},\"id\":\"1991\",\"type\":\"BoxZoomTool\"},{\"attributes\":{\"toolbar\":{\"id\":\"2018\"},\"toolbar_location\":\"left\"},\"id\":\"2019\",\"type\":\"ToolbarBox\"},{\"attributes\":{\"dimensions\":\"width\"},\"id\":\"1988\",\"type\":\"WheelZoomTool\"},{\"attributes\":{},\"id\":\"1987\",\"type\":\"PanTool\"},{\"attributes\":{\"text\":\"Error Distribution at step:50\"},\"id\":\"1969\",\"type\":\"Title\"},{\"attributes\":{},\"id\":\"2014\",\"type\":\"UnionRenderers\"},{\"attributes\":{},\"id\":\"2008\",\"type\":\"BasicTickFormatter\"},{\"attributes\":{\"callback\":null,\"tooltips\":[[\"error\",\"$x\"],[\"count\",\"$y\"]]},\"id\":\"1994\",\"type\":\"HoverTool\"},{\"attributes\":{\"bottom\":{\"value\":0},\"fill_alpha\":{\"value\":0.1},\"fill_color\":{\"value\":\"navy\"},\"left\":{\"field\":\"left\"},\"line_alpha\":{\"value\":0.1},\"line_color\":{\"value\":\"white\"},\"right\":{\"field\":\"right\"},\"top\":{\"field\":\"top\"}},\"id\":\"2004\",\"type\":\"Quad\"}],\"root_ids\":[\"2020\"]},\"title\":\"Bokeh Application\",\"version\":\"2.2.3\"}};\n",
       "  var render_items = [{\"docid\":\"f1ecd88d-2b97-4676-a6fd-31bcc2a3966e\",\"root_ids\":[\"2020\"],\"roots\":{\"2020\":\"0c5462e1-1da7-46cc-9e22-1c827ccbe7a1\"}}];\n",
       "  root.Bokeh.embed.embed_items_notebook(docs_json, render_items);\n",
       "\n",
       "  }\n",
       "  if (root.Bokeh !== undefined) {\n",
       "    embed_document(root);\n",
       "  } else {\n",
       "    var attempts = 0;\n",
       "    var timer = setInterval(function(root) {\n",
       "      if (root.Bokeh !== undefined) {\n",
       "        clearInterval(timer);\n",
       "        embed_document(root);\n",
       "      } else {\n",
       "        attempts++;\n",
       "        if (attempts > 100) {\n",
       "          clearInterval(timer);\n",
       "          console.log(\"Bokeh: ERROR: Unable to run BokehJS code because BokehJS library is missing\");\n",
       "        }\n",
       "      }\n",
       "    }, 10, root)\n",
       "  }\n",
       "})(window);"
      ],
      "application/vnd.bokehjs_exec.v0+json": ""
     },
     "metadata": {
      "application/vnd.bokehjs_exec.v0+json": {
       "id": "2020"
      }
     },
     "output_type": "display_data"
    }
   ],
   "source": [
    "import numpy as np\n",
    "import scipy.special\n",
    "\n",
    "from bokeh.layouts import gridplot\n",
    "from bokeh.plotting import figure, output_file, show\n",
    "\n",
    "\n",
    "def make_plot(title, hist, edges, x):\n",
    "    TOOLS=\"pan,xwheel_zoom,reset,box_select,box_zoom\"    \n",
    "    TOOLTIPS = [\n",
    "        (\"error\", \"$x\"),\n",
    "        (\"count\", \"$y\"),\n",
    "    ]\n",
    "    p = figure(\n",
    "        title=title,  \n",
    "        tools=TOOLS,\n",
    "        toolbar_location=\"left\",\n",
    "        tooltips=TOOLTIPS\n",
    "    )\n",
    "    p.quad(top=hist, bottom=0, left=edges[:-1], right=edges[1:],\n",
    "           fill_color=\"navy\", line_color=\"white\", alpha=0.5)\n",
    "    p.y_range.start = 0\n",
    "    p.xaxis.axis_label = 'Error'\n",
    "    p.yaxis.axis_label = 'Error Count'\n",
    "    p.grid.grid_line_color=\"white\"\n",
    "    return p\n",
    "\n",
    "# Normal Distribution\n",
    "from scipy.stats import norm\n",
    "if 'labels' in tensor_names \\\n",
    "    and 'predictions' in tensor_names \\\n",
    "        and objective_metric in SUPPORTED_OBJECTIVES:\n",
    "    pred = trial.tensor('predictions').value(plot_step)\n",
    "    target = trial.tensor('labels').value(plot_step)\n",
    "    if objective_metric in [\"binary:logistic\", \"multi:softmax\"]:\n",
    "        pred = pred.round()\n",
    "        target = target.round()\n",
    "    error = pred-target\n",
    "    hist, edges = np.histogram(error, density=False,bins=\"auto\")\n",
    "    mu, sigma = norm.fit(error)\n",
    "    text_mu = round(mu,5)\n",
    "    text_sigma = round(sigma,5)\n",
    "    x = np.linspace(min(error), max(error))\n",
    "    p1 = make_plot(f\"Error Distribution at step:{plot_step}\", hist, edges, x)\n",
    "    show(gridplot([p1], ncols=2, plot_width=500, plot_height=500, toolbar_location=\"left\"))"
   ]
  },
  {
   "cell_type": "code",
   "execution_count": 24,
   "metadata": {
    "execution": {
     "iopub.execute_input": "2025-01-02T18:20:22.682210Z",
     "iopub.status.busy": "2025-01-02T18:20:22.681020Z",
     "iopub.status.idle": "2025-01-02T18:20:22.683869Z",
     "shell.execute_reply": "2025-01-02T18:20:22.684469Z"
    },
    "papermill": {
     "duration": 0.031004,
     "end_time": "2025-01-02T18:20:22.684632",
     "exception": false,
     "start_time": "2025-01-02T18:20:22.653628",
     "status": "completed"
    },
    "tags": [
     "hide-input"
    ]
   },
   "outputs": [],
   "source": [
    "from IPython.display import display, Markdown\n",
    "\n",
    "s = '## Absolute Validation Error per Label Bin over Iteration <a name=\"section7\"></a>\\n\\\n",
    "The following graph shows the progression of error (or residual) over iterations.\\n\\\n",
    "- The absolute validation error of each bin should reduce over time.\\n\\\n",
    "- Use this graph to identify poorly performing bins.\\n\\\n",
    "- Interact with the graph by toggling different classes by clicking on the legend.\\n\\\n",
    "'\n",
    "if objective_metric in [\"reg:squarederror\"]:\n",
    "    display(Markdown(s))\n"
   ]
  },
  {
   "cell_type": "code",
   "execution_count": 25,
   "metadata": {
    "execution": {
     "iopub.execute_input": "2025-01-02T18:20:22.757268Z",
     "iopub.status.busy": "2025-01-02T18:20:22.754434Z",
     "iopub.status.idle": "2025-01-02T18:20:22.761363Z",
     "shell.execute_reply": "2025-01-02T18:20:22.760923Z"
    },
    "papermill": {
     "duration": 0.063615,
     "end_time": "2025-01-02T18:20:22.761487",
     "exception": false,
     "start_time": "2025-01-02T18:20:22.697872",
     "status": "completed"
    },
    "tags": [
     "hide-input"
    ]
   },
   "outputs": [],
   "source": [
    "from scipy import stats\n",
    "from bokeh.models.tickers import SingleIntervalTicker\n",
    "import random\n",
    "\n",
    "def color_gen():\n",
    "    co=(round(random.random()*250),round(random.random()*250),round(random.random()*250))\n",
    "    return co\n",
    "def plot_abs_validation_error_per_label_bin_over_iteration():\n",
    "    label_steps = trial.tensor('labels').steps()\n",
    "    pred_steps = trial.tensor('predictions').steps()\n",
    "    validation_steps = sorted(list(set(label_steps).intersection(set(pred_steps))))\n",
    "    step_abs_error = []\n",
    "    for step in validation_steps:\n",
    "        label = trial.tensor('labels').value(step)\n",
    "        pred = trial.tensor('predictions').value(step)\n",
    "        abs_err = np.absolute(pred-label)\n",
    "        step_abs_error.append(abs_err)\n",
    "    labels = trial.tensor('labels').value(plot_step)\n",
    "    statistics, bin_edge, bin_num = stats.binned_statistic(labels, step_abs_error, 'mean', bins=10)\n",
    "    TOOLS=\"pan,wheel_zoom,reset,box_select,box_zoom\"\n",
    "    TOOLTIPS = [\n",
    "        (\"step\", \"@steps\"),\n",
    "        (\"bin\", \"$name\"),\n",
    "    ] \n",
    "    bin_names = []\n",
    "    data_list = []\n",
    "    p = figure( \n",
    "        title=f\"Absolute Validation Error Per Label Bin Over Iteration\",\n",
    "        toolbar_location=\"left\", \n",
    "        tools=TOOLS,\n",
    "        tooltips=TOOLTIPS,\n",
    "        plot_height=500,\n",
    "        plot_width=1000\n",
    "    )\n",
    "    for i in range(len(bin_edge)-1):\n",
    "        stat = statistics[:,i]\n",
    "        source = ColumnDataSource(\n",
    "            data=dict(\n",
    "                steps=validation_steps, \n",
    "                stat=stat\n",
    "            )\n",
    "        )\n",
    "        bin_name = str(round(bin_edge[i], 5))+\"-\"+str(round(bin_edge[i+1], 5))\n",
    "        p.line('steps', 'stat', name=bin_name, color=color_gen(), line_width=4, source=source, legend_label=bin_name)\n",
    "    p.legend.location = \"center_right\"\n",
    "    p.legend.click_policy=\"hide\"\n",
    "    p.xgrid.grid_line_color = None\n",
    "    p.xaxis.axis_label = 'Iteration'\n",
    "    p.yaxis.axis_label = 'Error'\n",
    "    p.y_range.start = 0\n",
    "\n",
    "    show(p)\n",
    "\n",
    "avail_steps = trial.steps()\n",
    "obj_names_for_error_plots = [\"reg:squarederror\"]\n",
    "if 'labels' in tensor_names and 'predictions' in tensor_names and objective_metric in obj_names_for_error_plots:\n",
    "    plot_abs_validation_error_per_label_bin_over_iteration()\n",
    "    "
   ]
  },
  {
   "cell_type": "code",
   "execution_count": 26,
   "metadata": {
    "execution": {
     "iopub.execute_input": "2025-01-02T18:20:22.813556Z",
     "iopub.status.busy": "2025-01-02T18:20:22.812426Z",
     "iopub.status.idle": "2025-01-02T18:20:22.817847Z",
     "shell.execute_reply": "2025-01-02T18:20:22.816909Z"
    },
    "papermill": {
     "duration": 0.036188,
     "end_time": "2025-01-02T18:20:22.817981",
     "exception": false,
     "start_time": "2025-01-02T18:20:22.781793",
     "status": "completed"
    },
    "tags": [
     "hide-input"
    ]
   },
   "outputs": [],
   "source": [
    "del trial"
   ]
  }
 ],
 "metadata": {
  "celltoolbar": "Tags",
  "file_extension": ".py",
  "kernelspec": {
   "display_name": "Python3",
   "language": "python",
   "name": "python3"
  },
  "language_info": {
   "codemirror_mode": {
    "name": "ipython",
    "version": 3
   },
   "file_extension": ".py",
   "mimetype": "text/x-python",
   "name": "python",
   "nbconvert_exporter": "python",
   "pygments_lexer": "ipython3",
   "version": "3.7.10"
  },
  "mimetype": "text/x-python",
  "name": "python",
  "nbconvert_exporter": "python",
  "papermill": {
   "duration": 6.470379,
   "end_time": "2025-01-02T18:20:23.351307",
   "environment_variables": {},
   "exception": null,
   "input_path": "/opt/ml/code/xgboost_report.ipynb",
   "output_path": "/opt/ml/processing/output/rule/.sagemaker-ignore/out.tmp",
   "parameters": {
    "path": "/opt/ml/processing/input/tensors",
    "plot_step": 50,
    "s3_path": "s3://sagemaker-us-east-1-012345678901/sagemaker/xgboost-debugger/output/xgboost-iris-debugger-20250102-18-17-28-2025-01-02-18-17-46-238/debug-output"
   },
   "start_time": "2025-01-02T18:20:16.880928",
   "version": "2.1.2"
  },
  "pygments_lexer": "ipython3",
  "version": "3.6.10"
 },
 "nbformat": 4,
 "nbformat_minor": 4
}
