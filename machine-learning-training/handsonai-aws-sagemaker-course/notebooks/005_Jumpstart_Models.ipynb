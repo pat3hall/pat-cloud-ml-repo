{
 "cells": [
  {
   "cell_type": "code",
   "execution_count": 1,
   "id": "ed6c2862",
   "metadata": {},
   "outputs": [],
   "source": [
    "#%load_ext nb_black"
   ]
  },
  {
   "cell_type": "code",
   "execution_count": 2,
   "id": "9dfcd02b",
   "metadata": {},
   "outputs": [],
   "source": [
    "import json\n",
    "import pandas as pd\n",
    "import logging\n",
    "from ipywidgets import Dropdown"
   ]
  },
  {
   "cell_type": "code",
   "execution_count": 3,
   "id": "05b1115c",
   "metadata": {},
   "outputs": [
    {
     "name": "stdout",
     "output_type": "stream",
     "text": [
      "sagemaker.config INFO - Not applying SDK defaults from location: C:\\ProgramData\\sagemaker\\sagemaker\\config.yaml\n",
      "sagemaker.config INFO - Not applying SDK defaults from location: C:\\Users\\pat\\AppData\\Local\\sagemaker\\sagemaker\\config.yaml\n"
     ]
    }
   ],
   "source": [
    "import boto3\n",
    "import sagemaker"
   ]
  },
  {
   "cell_type": "code",
   "execution_count": 4,
   "id": "82bd278d",
   "metadata": {},
   "outputs": [],
   "source": [
    "boto3.set_stream_logger(name=\"botocore.credentials\", level=logging.WARNING)"
   ]
  },
  {
   "cell_type": "code",
   "execution_count": 5,
   "id": "5019174d",
   "metadata": {},
   "outputs": [
    {
     "name": "stdout",
     "output_type": "stream",
     "text": [
      "us-east-1\n"
     ]
    }
   ],
   "source": [
    "sess = sagemaker.Session()\n",
    "region = sess.boto_region_name\n",
    "print(region)"
   ]
  },
  {
   "cell_type": "code",
   "execution_count": 6,
   "id": "3906511a",
   "metadata": {},
   "outputs": [
    {
     "name": "stdout",
     "output_type": "stream",
     "text": [
      "number of models:  6177\n"
     ]
    }
   ],
   "source": [
    "# download JumpStart model_manifest file.\n",
    "boto3.client(\"s3\").download_file(\n",
    "    f\"jumpstart-cache-prod-{region}\", \"models_manifest.json\", \"models_manifest.json\"\n",
    ")\n",
    "with open(\"models_manifest.json\", \"rb\") as json_file:\n",
    "    model_list = json.load(json_file)\n",
    "\n",
    "print(\"number of models: \", len(model_list))"
   ]
  },
  {
   "cell_type": "code",
   "execution_count": 7,
   "id": "0dfaf25a",
   "metadata": {},
   "outputs": [
    {
     "data": {
      "text/html": [
       "<div>\n",
       "<style scoped>\n",
       "    .dataframe tbody tr th:only-of-type {\n",
       "        vertical-align: middle;\n",
       "    }\n",
       "\n",
       "    .dataframe tbody tr th {\n",
       "        vertical-align: top;\n",
       "    }\n",
       "\n",
       "    .dataframe thead th {\n",
       "        text-align: right;\n",
       "    }\n",
       "</style>\n",
       "<table border=\"1\" class=\"dataframe\">\n",
       "  <thead>\n",
       "    <tr style=\"text-align: right;\">\n",
       "      <th></th>\n",
       "      <th>model_id</th>\n",
       "      <th>version</th>\n",
       "      <th>min_version</th>\n",
       "      <th>spec_key</th>\n",
       "      <th>search_keywords</th>\n",
       "    </tr>\n",
       "  </thead>\n",
       "  <tbody>\n",
       "    <tr>\n",
       "      <th>3670</th>\n",
       "      <td>tensorflow-ic-bit-s-r101x1-ilsvrc2012-classifi...</td>\n",
       "      <td>2.0.0</td>\n",
       "      <td>2.80.0</td>\n",
       "      <td>community_models/tensorflow-ic-bit-s-r101x1-il...</td>\n",
       "      <td>NaN</td>\n",
       "    </tr>\n",
       "    <tr>\n",
       "      <th>1767</th>\n",
       "      <td>huggingface-txt2img-fictiverse-elrisitas</td>\n",
       "      <td>1.1.0</td>\n",
       "      <td>2.144.0</td>\n",
       "      <td>community_models/huggingface-txt2img-fictivers...</td>\n",
       "      <td>NaN</td>\n",
       "    </tr>\n",
       "    <tr>\n",
       "      <th>4892</th>\n",
       "      <td>tensorflow-ic-resnet-50-classification-1</td>\n",
       "      <td>4.0.1</td>\n",
       "      <td>2.189.0</td>\n",
       "      <td>community_models/tensorflow-ic-resnet-50-class...</td>\n",
       "      <td>NaN</td>\n",
       "    </tr>\n",
       "    <tr>\n",
       "      <th>3043</th>\n",
       "      <td>pytorch-eqa-bert-base-multilingual-uncased</td>\n",
       "      <td>1.2.0</td>\n",
       "      <td>2.75.0</td>\n",
       "      <td>community_models/pytorch-eqa-bert-base-multili...</td>\n",
       "      <td>NaN</td>\n",
       "    </tr>\n",
       "    <tr>\n",
       "      <th>3536</th>\n",
       "      <td>tensorflow-ic-bit-m-r101x1-imagenet21k-classif...</td>\n",
       "      <td>3.0.2</td>\n",
       "      <td>2.80.0</td>\n",
       "      <td>community_models/tensorflow-ic-bit-m-r101x1-im...</td>\n",
       "      <td>NaN</td>\n",
       "    </tr>\n",
       "    <tr>\n",
       "      <th>5778</th>\n",
       "      <td>tensorflow-spc-electra-small-1</td>\n",
       "      <td>2.0.0</td>\n",
       "      <td>2.189.0</td>\n",
       "      <td>community_models/tensorflow-spc-electra-small-...</td>\n",
       "      <td>NaN</td>\n",
       "    </tr>\n",
       "    <tr>\n",
       "      <th>4659</th>\n",
       "      <td>tensorflow-ic-imagenet-mobilenet-v2-075-224-cl...</td>\n",
       "      <td>3.0.0</td>\n",
       "      <td>2.80.0</td>\n",
       "      <td>community_models/tensorflow-ic-imagenet-mobile...</td>\n",
       "      <td>NaN</td>\n",
       "    </tr>\n",
       "    <tr>\n",
       "      <th>31</th>\n",
       "      <td>catboost-classification-model</td>\n",
       "      <td>1.2.1</td>\n",
       "      <td>2.75.0</td>\n",
       "      <td>community_models/catboost-classification-model...</td>\n",
       "      <td>NaN</td>\n",
       "    </tr>\n",
       "    <tr>\n",
       "      <th>2600</th>\n",
       "      <td>meta-textgeneration-llama-codellama-7b-instruct</td>\n",
       "      <td>2.3.0</td>\n",
       "      <td>2.225.0</td>\n",
       "      <td>community_models/meta-textgeneration-llama-cod...</td>\n",
       "      <td>NaN</td>\n",
       "    </tr>\n",
       "    <tr>\n",
       "      <th>4610</th>\n",
       "      <td>tensorflow-ic-imagenet-mobilenet-v2-050-224-cl...</td>\n",
       "      <td>4.0.2</td>\n",
       "      <td>2.189.0</td>\n",
       "      <td>community_models/tensorflow-ic-imagenet-mobile...</td>\n",
       "      <td>NaN</td>\n",
       "    </tr>\n",
       "    <tr>\n",
       "      <th>1367</th>\n",
       "      <td>huggingface-textgeneration-dolly-v2-12b-bf16</td>\n",
       "      <td>1.0.0</td>\n",
       "      <td>2.144.0</td>\n",
       "      <td>community_models/huggingface-textgeneration-do...</td>\n",
       "      <td>NaN</td>\n",
       "    </tr>\n",
       "    <tr>\n",
       "      <th>2082</th>\n",
       "      <td>huggingface-zstc-jiva-xlm-roberta-large-it-mnli</td>\n",
       "      <td>2.0.1</td>\n",
       "      <td>2.189.0</td>\n",
       "      <td>community_models/huggingface-zstc-jiva-xlm-rob...</td>\n",
       "      <td>[Text, Zero-Shot Text Classification]</td>\n",
       "    </tr>\n",
       "    <tr>\n",
       "      <th>771</th>\n",
       "      <td>huggingface-spc-bert-base-multilingual-cased</td>\n",
       "      <td>1.2.3</td>\n",
       "      <td>2.75.0</td>\n",
       "      <td>community_models/huggingface-spc-bert-base-mul...</td>\n",
       "      <td>NaN</td>\n",
       "    </tr>\n",
       "    <tr>\n",
       "      <th>4477</th>\n",
       "      <td>tensorflow-ic-imagenet-mobilenet-v1-075-224-cl...</td>\n",
       "      <td>1.1.1</td>\n",
       "      <td>2.75.0</td>\n",
       "      <td>community_models/tensorflow-ic-imagenet-mobile...</td>\n",
       "      <td>NaN</td>\n",
       "    </tr>\n",
       "    <tr>\n",
       "      <th>1206</th>\n",
       "      <td>huggingface-text2text-flan-t5-xxl-bnb-int8</td>\n",
       "      <td>1.2.0</td>\n",
       "      <td>2.144.0</td>\n",
       "      <td>community_models/huggingface-text2text-flan-t5...</td>\n",
       "      <td>NaN</td>\n",
       "    </tr>\n",
       "    <tr>\n",
       "      <th>1421</th>\n",
       "      <td>huggingface-textgeneration1-bloom-3b</td>\n",
       "      <td>1.1.0</td>\n",
       "      <td>2.144.0</td>\n",
       "      <td>community_models/huggingface-textgeneration1-b...</td>\n",
       "      <td>NaN</td>\n",
       "    </tr>\n",
       "    <tr>\n",
       "      <th>1589</th>\n",
       "      <td>huggingface-textgeneration1-redpajama-incite-b...</td>\n",
       "      <td>1.1.0</td>\n",
       "      <td>2.165.0</td>\n",
       "      <td>community_models/huggingface-textgeneration1-r...</td>\n",
       "      <td>NaN</td>\n",
       "    </tr>\n",
       "    <tr>\n",
       "      <th>2958</th>\n",
       "      <td>mxnet-semseg-fcn-resnet101-ade</td>\n",
       "      <td>1.4.0</td>\n",
       "      <td>2.100.0</td>\n",
       "      <td>community_models/mxnet-semseg-fcn-resnet101-ad...</td>\n",
       "      <td>NaN</td>\n",
       "    </tr>\n",
       "    <tr>\n",
       "      <th>4281</th>\n",
       "      <td>tensorflow-ic-imagenet-inception-v3-classifica...</td>\n",
       "      <td>2.0.3</td>\n",
       "      <td>2.80.0</td>\n",
       "      <td>community_models/tensorflow-ic-imagenet-incept...</td>\n",
       "      <td>NaN</td>\n",
       "    </tr>\n",
       "    <tr>\n",
       "      <th>4692</th>\n",
       "      <td>tensorflow-ic-imagenet-mobilenet-v2-100-224-cl...</td>\n",
       "      <td>4.0.1</td>\n",
       "      <td>2.189.0</td>\n",
       "      <td>community_models/tensorflow-ic-imagenet-mobile...</td>\n",
       "      <td>NaN</td>\n",
       "    </tr>\n",
       "  </tbody>\n",
       "</table>\n",
       "</div>"
      ],
      "text/plain": [
       "                                               model_id version min_version  \\\n",
       "3670  tensorflow-ic-bit-s-r101x1-ilsvrc2012-classifi...   2.0.0      2.80.0   \n",
       "1767           huggingface-txt2img-fictiverse-elrisitas   1.1.0     2.144.0   \n",
       "4892           tensorflow-ic-resnet-50-classification-1   4.0.1     2.189.0   \n",
       "3043         pytorch-eqa-bert-base-multilingual-uncased   1.2.0      2.75.0   \n",
       "3536  tensorflow-ic-bit-m-r101x1-imagenet21k-classif...   3.0.2      2.80.0   \n",
       "5778                     tensorflow-spc-electra-small-1   2.0.0     2.189.0   \n",
       "4659  tensorflow-ic-imagenet-mobilenet-v2-075-224-cl...   3.0.0      2.80.0   \n",
       "31                        catboost-classification-model   1.2.1      2.75.0   \n",
       "2600    meta-textgeneration-llama-codellama-7b-instruct   2.3.0     2.225.0   \n",
       "4610  tensorflow-ic-imagenet-mobilenet-v2-050-224-cl...   4.0.2     2.189.0   \n",
       "1367       huggingface-textgeneration-dolly-v2-12b-bf16   1.0.0     2.144.0   \n",
       "2082    huggingface-zstc-jiva-xlm-roberta-large-it-mnli   2.0.1     2.189.0   \n",
       "771        huggingface-spc-bert-base-multilingual-cased   1.2.3      2.75.0   \n",
       "4477  tensorflow-ic-imagenet-mobilenet-v1-075-224-cl...   1.1.1      2.75.0   \n",
       "1206         huggingface-text2text-flan-t5-xxl-bnb-int8   1.2.0     2.144.0   \n",
       "1421               huggingface-textgeneration1-bloom-3b   1.1.0     2.144.0   \n",
       "1589  huggingface-textgeneration1-redpajama-incite-b...   1.1.0     2.165.0   \n",
       "2958                     mxnet-semseg-fcn-resnet101-ade   1.4.0     2.100.0   \n",
       "4281  tensorflow-ic-imagenet-inception-v3-classifica...   2.0.3      2.80.0   \n",
       "4692  tensorflow-ic-imagenet-mobilenet-v2-100-224-cl...   4.0.1     2.189.0   \n",
       "\n",
       "                                               spec_key  \\\n",
       "3670  community_models/tensorflow-ic-bit-s-r101x1-il...   \n",
       "1767  community_models/huggingface-txt2img-fictivers...   \n",
       "4892  community_models/tensorflow-ic-resnet-50-class...   \n",
       "3043  community_models/pytorch-eqa-bert-base-multili...   \n",
       "3536  community_models/tensorflow-ic-bit-m-r101x1-im...   \n",
       "5778  community_models/tensorflow-spc-electra-small-...   \n",
       "4659  community_models/tensorflow-ic-imagenet-mobile...   \n",
       "31    community_models/catboost-classification-model...   \n",
       "2600  community_models/meta-textgeneration-llama-cod...   \n",
       "4610  community_models/tensorflow-ic-imagenet-mobile...   \n",
       "1367  community_models/huggingface-textgeneration-do...   \n",
       "2082  community_models/huggingface-zstc-jiva-xlm-rob...   \n",
       "771   community_models/huggingface-spc-bert-base-mul...   \n",
       "4477  community_models/tensorflow-ic-imagenet-mobile...   \n",
       "1206  community_models/huggingface-text2text-flan-t5...   \n",
       "1421  community_models/huggingface-textgeneration1-b...   \n",
       "1589  community_models/huggingface-textgeneration1-r...   \n",
       "2958  community_models/mxnet-semseg-fcn-resnet101-ad...   \n",
       "4281  community_models/tensorflow-ic-imagenet-incept...   \n",
       "4692  community_models/tensorflow-ic-imagenet-mobile...   \n",
       "\n",
       "                            search_keywords  \n",
       "3670                                    NaN  \n",
       "1767                                    NaN  \n",
       "4892                                    NaN  \n",
       "3043                                    NaN  \n",
       "3536                                    NaN  \n",
       "5778                                    NaN  \n",
       "4659                                    NaN  \n",
       "31                                      NaN  \n",
       "2600                                    NaN  \n",
       "4610                                    NaN  \n",
       "1367                                    NaN  \n",
       "2082  [Text, Zero-Shot Text Classification]  \n",
       "771                                     NaN  \n",
       "4477                                    NaN  \n",
       "1206                                    NaN  \n",
       "1421                                    NaN  \n",
       "1589                                    NaN  \n",
       "2958                                    NaN  \n",
       "4281                                    NaN  \n",
       "4692                                    NaN  "
      ]
     },
     "execution_count": 7,
     "metadata": {},
     "output_type": "execute_result"
    }
   ],
   "source": [
    "model_df = pd.DataFrame(model_list)\n",
    "model_df.sample(20)"
   ]
  },
  {
   "cell_type": "code",
   "execution_count": 9,
   "id": "98dbecee",
   "metadata": {},
   "outputs": [
    {
     "name": "stdout",
     "output_type": "stream",
     "text": [
      "Number of od models available for inference: 70\n"
     ]
    }
   ],
   "source": [
    "# filter-out all the Object Detection models from the manifest list.\n",
    "od_models = []\n",
    "for model in model_list:\n",
    "    model_id = model[\"model_id\"]\n",
    "    if (\"-od-\" in model_id or \"-od1-\" in model_id) and model_id not in od_models:\n",
    "        od_models.append(model_id)\n",
    "\n",
    "print(f\"Number of od models available for inference: {len(od_models)}\")"
   ]
  },
  {
   "cell_type": "code",
   "execution_count": 13,
   "id": "c54f827d",
   "metadata": {},
   "outputs": [],
   "source": [
    "# display the model-ids in a dropdown to select a model for inference.\n",
    "infer_model_dropdown = Dropdown(\n",
    "    options=od_models,\n",
    "    value=\"pytorch-od-nvidia-ssd\",\n",
    "    description=\"Select a model:\",\n",
    "    style={\"description_width\": \"initial\"},\n",
    "    layout={\"width\": \"max-content\"},\n",
    ")"
   ]
  },
  {
   "cell_type": "code",
   "execution_count": 14,
   "id": "7c5690e5",
   "metadata": {
    "scrolled": true
   },
   "outputs": [
    {
     "data": {
      "application/vnd.jupyter.widget-view+json": {
       "model_id": "8200cb6f97504b8d8496bb51a8b2f733",
       "version_major": 2,
       "version_minor": 0
      },
      "text/plain": [
       "Dropdown(description='Select a model:', index=17, layout=Layout(width='max-content'), options=('mxnet-od-faste…"
      ]
     },
     "metadata": {},
     "output_type": "display_data"
    }
   ],
   "source": [
    "display(infer_model_dropdown)\n"
   ]
  },
  {
   "cell_type": "code",
   "execution_count": 15,
   "id": "49017344",
   "metadata": {},
   "outputs": [
    {
     "name": "stdout",
     "output_type": "stream",
     "text": [
      "pytorch-od-nvidia-ssd\n"
     ]
    }
   ],
   "source": [
    "print(infer_model_dropdown.value)"
   ]
  },
  {
   "cell_type": "code",
   "execution_count": 16,
   "id": "5e3e00d8",
   "metadata": {},
   "outputs": [
    {
     "name": "stdout",
     "output_type": "stream",
     "text": [
      "Number of ic models available for inference: 162\n"
     ]
    }
   ],
   "source": [
    "# filter-out all the Image Classification models from the manifest list.\n",
    "ic_models = []\n",
    "for model in model_list:\n",
    "    model_id = model[\"model_id\"]\n",
    "    if (\"-ic-\" in model_id) and model_id not in ic_models:\n",
    "        ic_models.append(model_id)\n",
    "\n",
    "print(f\"Number of ic models available for inference: {len(ic_models)}\")"
   ]
  },
  {
   "cell_type": "code",
   "execution_count": 17,
   "id": "c8308367",
   "metadata": {},
   "outputs": [],
   "source": [
    "# display the model-ids in a dropdown to select a model for inference.\n",
    "infer_model_dropdown = Dropdown(\n",
    "    options=ic_models,\n",
    "    value=\"pytorch-ic-alexnet\",\n",
    "    description=\"Select a model:\",\n",
    "    style={\"description_width\": \"initial\"},\n",
    "    layout={\"width\": \"max-content\"},\n",
    ")"
   ]
  },
  {
   "cell_type": "code",
   "execution_count": 18,
   "id": "994247f0",
   "metadata": {},
   "outputs": [
    {
     "data": {
      "application/vnd.jupyter.widget-view+json": {
       "model_id": "78c3c3096b7c47049fa027c977c46a5c",
       "version_major": 2,
       "version_minor": 0
      },
      "text/plain": [
       "Dropdown(description='Select a model:', layout=Layout(width='max-content'), options=('pytorch-ic-alexnet', 'py…"
      ]
     },
     "metadata": {},
     "output_type": "display_data"
    }
   ],
   "source": [
    "display(infer_model_dropdown)"
   ]
  },
  {
   "cell_type": "code",
   "execution_count": 19,
   "id": "adaaab3f",
   "metadata": {},
   "outputs": [
    {
     "name": "stdout",
     "output_type": "stream",
     "text": [
      "pytorch-ic-alexnet\n"
     ]
    }
   ],
   "source": [
    "print(infer_model_dropdown.value)"
   ]
  },
  {
   "cell_type": "code",
   "execution_count": null,
   "id": "77939aa6",
   "metadata": {},
   "outputs": [],
   "source": []
  },
  {
   "cell_type": "code",
   "execution_count": null,
   "id": "6382e45b",
   "metadata": {},
   "outputs": [],
   "source": []
  }
 ],
 "metadata": {
  "kernelspec": {
   "display_name": "Python 3 (ipykernel)",
   "language": "python",
   "name": "python3"
  },
  "language_info": {
   "codemirror_mode": {
    "name": "ipython",
    "version": 3
   },
   "file_extension": ".py",
   "mimetype": "text/x-python",
   "name": "python",
   "nbconvert_exporter": "python",
   "pygments_lexer": "ipython3",
   "version": "3.11.5"
  },
  "toc": {
   "base_numbering": 1,
   "nav_menu": {},
   "number_sections": true,
   "sideBar": true,
   "skip_h1_title": false,
   "title_cell": "Table of Contents",
   "title_sidebar": "Contents",
   "toc_cell": false,
   "toc_position": {},
   "toc_section_display": true,
   "toc_window_display": false
  }
 },
 "nbformat": 4,
 "nbformat_minor": 5
}
