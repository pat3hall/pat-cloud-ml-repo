{
 "cells": [
  {
   "cell_type": "markdown",
   "id": "a62d9072-8db4-4b32-9426-c54800ab6de7",
   "metadata": {},
   "source": [
    "Chapter 11: Training Deep Neural Networks\n",
    "\n",
    "Chapter 11 exercises:"
   ]
  },
  {
   "cell_type": "markdown",
   "id": "c71179ff-2a6a-4e1b-89d5-2dae3e705338",
   "metadata": {},
   "source": [
    "1. What is the problem with Glorot initialization and He initialization aim to fix?"
   ]
  },
  {
   "cell_type": "markdown",
   "id": "a7670d05-2006-419c-ba6e-3ff7f3c33215",
   "metadata": {},
   "source": [
    "-> Glorot proposed a way initialization strategy to alleviate the the unstable gradient problem. Similarly, the 'he iniatialization' strategy was proposed to address the unstable gradient problem when using the ReLU activation function, and the 'LeCun initialization' strategy for the SELU activation function.\n",
    "\n",
    "\n",
    "page 360:    Equation 11-1  Glorot initialization (when using the sigmoid activation function) \n",
    "\n",
    "      Normal distribution with mean 0 and variance: sigma**2 = 1 / fan-avg\n",
    "\n",
    "      Or a uniform distribution between -r and +r with r = (3 / fan-avg)**-1/2\n",
    "\n",
    "page 360: From Table 11-1:\n",
    "Note: for the normal (sigma**2) in 'He initialization' replace '1 / fan-avg' with '2 / fan-in';  \n",
    "for the normal (sigma**2) in 'LeCun initialization' replace '1 / fan-avg' with '1 / fan-in'\n",
    "\n",
    "page 359:     Glorot proposed way to alleviate the unstable gradients problem\n",
    "- the variance of the outputs of each layer to be equal to the variance of its inputs, and we need the gradients to have equal variance before and after flowing through a layer in the reverse direction\n",
    "\n",
    "page 360: Some papers provided similar strategies for different activation functions ... The initialization strategy propposed for the ReLU activation function and its variants is called the 'He iniitialization'... For SELU, use Yann LeCun's initialization method, perferably with a normal distribution.\n",
    "\n",
    "book answer: Glorot initialization and He initialization were designed to make the output standard deviation as close as possible to the input standard deviation, at least at the beginning of training. This reduces the vanishing/exploding gradients problem."
   ]
  },
  {
   "cell_type": "markdown",
   "id": "ac731f8c-d3ce-41eb-a5fb-2b58c065603e",
   "metadata": {},
   "source": [
    "2. Is it OK to initialize all the weights to the same value as long as that value is selected randomly using He initialization?"
   ]
  },
  {
   "cell_type": "markdown",
   "id": "a65b37ff-8353-4c50-b249-a72e4c1323a0",
   "metadata": {},
   "source": [
    "-> No, all weights must be independently sampled, and therefore, they should not have the same value. If you initialize all weight to the same value (even if randomly selected), you model will act as if it had only one neuron per layer, and training will fail.\n",
    "\n",
    "page 311 (chapter 10) It is important to initialize all the hidden layers' connection weights randomly or else training will fail. For example, if you initialize all the weights and biases to zero, then all neuron in a give layer will be perfectly identical, and thus backpropagation will affect them in exactly the same way, so they remain identical. In other words, despite have hundreds of neurons per layer, you model will act as if it had only one neuron per layer: it won't be too smart. If instead, you randomly initialize the weights, you break the symmetry and allow backpropagation to train a diverse team of neurons.\n",
    "\n",
    "page 358: \n",
    "Unstable Gradients problem:\n",
    "- more generally, DNNs suffer from 'unstable gradients': different layers may learn at widely different speeds\n",
    "\n",
    "Unstable Gradients Suspected causes:\n",
    "- combination of the sigmoid (logistic) activation function and the weight initialization technique at the time (i.e. normal distribution with a mean of 0 and stardard deviation of 1)\n",
    "- with this activation function and initialization scheme, the variance of the output of each layer is much greater that the variance of its inputs\n",
    "- going forward in the network, the variance keeps getting increasing after each layer until the activation saturates at the top layers\n",
    "- this saturation is model worse by the fact that the sigmoid function has mean of 0.5 and not 0 (the tanh function has a mean of 0 and behaves slightly better)\n",
    "\n",
    "book answer: No, all weights should be sampled independently; they should not all have the same initial value. One important goal of sampling weights randomly is to break symmetry: if all the weights have the same initial value, even if that value is not zero, then symmetry is not broken (i.e., all neurons in a given layer are equivalent), and backpropagation will be unable to break it. Concretely, this means that all the neurons in any given layer will always have the same weights. It's like having just one neuron per layer, and much slower. It is virtually impossible for such a configuration to converge to a good solution."
   ]
  },
  {
   "cell_type": "markdown",
   "id": "89d74432-3023-490c-8c24-7d991dab0717",
   "metadata": {},
   "source": [
    "3. Is it OK to initialize bias terms to zero?"
   ]
  },
  {
   "cell_type": "markdown",
   "id": "93bc7550-2353-4c22-9e91-caae9cef2603",
   "metadata": {},
   "source": [
    "-> yes, it prefectly fine to initialize bias terms to zero. By default, Kera initializes biases to zero.\n",
    "\n",
    "page 322 (chapter 10): Noticed that the Dense layer initialized the connection weights randomly (which is needed to break symmetry; as discussed earlier), and biases were initialized to zero; which is fine.\n",
    "\n",
    "book answer: It is perfectly fine to initialize the bias terms to zero. Some people like to initialize them just like weights, and that's OK too; it does not make much difference."
   ]
  },
  {
   "cell_type": "markdown",
   "id": "4d74cfbd-8fe7-435e-8330-351d79f6320d",
   "metadata": {},
   "source": [
    "4. In which cases would you want to to use each of the activation functions we discussed in this chapter?"
   ]
  },
  {
   "cell_type": "markdown",
   "id": "2947c751-65a1-41c6-9dcd-8dc4d753e4e8",
   "metadata": {},
   "source": [
    "-> Activation functions For hidden layer:  RelU: a good default; Swish: better choice for complex task; Mish: may give slightly better results for complex tasks, but more compute; Leaky ReLU or PReLU: if you care about runtime latency for complex task, or need slightly better results than ReLU with minimal speed impact;\n",
    "-> Output layer activation functions for MLP regression: ReLU/softmax: if positive outputs; signoid/tanh: for bounded outputs \n",
    "-> Output layer activation function for MLP Classification: Sigmoid: for binary and multilabel classification (where you need to estimate the probability); softmax: for multiclass classifiation (to estimate probabilities for mutually exclusive classes)\n",
    "\n",
    "page 315: From table 10-1 Typical Regression MLP architecture\n",
    "Hyperparameter                  Typical value\n",
    "---------------                 -------------------------------\n",
    "output activation               None, or ReLU/softmax (if positive outputs) or sigmoid/tanh (if bounded outputs)\n",
    "\n",
    "page 316: From table 10-2 Typical Classification MLP architecture\n",
    "\n",
    "page 366:  hidden layers Activation Function recommendations\n",
    "Hyperparameter         Binary Classification    Multilabel Binary Classification   Multiclass Classification\n",
    "---------------        ----------------------   ---------------------------------  -------------------------\n",
    "output activation      Sigmoid                   Sigmoid                            Softmax\n",
    "\n",
    "ReLU\n",
    "- remains a good default for simple tasks\n",
    "- often as good as more sophisticated functions and fast to compute\n",
    "\n",
    "Swish\n",
    "- a better choice for more complex tasks\n",
    "- you can parameterized Swish with a learnable 'beta' for more complex tasks\n",
    "\n",
    "Mish\n",
    "- may give you slightly better results, but it requires a bit more compute\n",
    "\n",
    "Leaky ReLU or parameterized ReLU (PReLU)\n",
    "- if you care about run time latency for more complex tasks\n",
    "\n",
    "SELU\n",
    "- for deep MLP, you may want to give SELU a try\n",
    "- make sure to respect the constraints (standards inputs, LeCun normal initialization, regularization limitations)\n",
    "\n",
    "\n",
    "book answer: ReLU is usually a good default for the hidden layers, as it is fast and yields good results. Its ability to output precisely zero can also be useful in some cases (e.g., see Chapter 17). Moreover, it can sometimes benefit from optimized implementations as well as from hardware acceleration. \n",
    "\n",
    "The leaky ReLU variants of ReLU can improve the model's quality without hindering its speed too much compared to ReLU. \n",
    "\n",
    "For large neural nets and more complex problems, GLU, Swish and Mish can give you a slightly higher quality model, but they have a computational cost. The hyperbolic tangent (tanh) can be useful in the output layer if you need to output a number in a fixed range (by default between –1 and 1), but nowadays it is not used much in hidden layers, except in recurrent nets. \n",
    "\n",
    "The sigmoid activation function is also useful in the output layer when you need to estimate a probability (e.g., for binary classification), but it is rarely used in hidden layers (there are exceptions—for example, for the coding layer of variational autoencoders; see Chapter 17). \n",
    "\n",
    "The softplus activation function is useful in the output layer when you need to ensure that the output will always be positive. The softmax activation function is useful in the output layer to estimate probabilities for mutually exclusive classes, but it is rarely (if ever) used in hidden layers.\n"
   ]
  },
  {
   "cell_type": "markdown",
   "id": "5a4bf522-5c53-441c-b506-96e892c80fc8",
   "metadata": {},
   "source": [
    "5. What may happen if you set the momentum hyperparameter too close to 1 (e.g. 0.99999) when using SGD optimization?"
   ]
  },
  {
   "cell_type": "markdown",
   "id": "bb8a36b4-bdf9-4760-b7fb-cdef1bcb7ca4",
   "metadata": {},
   "source": [
    "-> if the momentum hyperparameter is to close to 1, the momemtum vector will be more of average of past gradients than moving averaging resulting in the algoritm picking up too much speed carrying it right past the minimum.\n",
    "\n",
    "page 379: \n",
    "Momumentum optimization\n",
    "- cares about previous gradient were at each interation\n",
    "- uses a moving average over the past gradients; where the gradient is high, weights updates will be large\n",
    "- uses Exponential Moving Average (EMA). It assigns greater weight on the more recent values\n",
    "- momumentum optimization will roll down the valley faster and faster till it reaches the bottom (optimum)\n",
    "\n",
    "momumentum hyperparameters 'beta':\n",
    "- simulates friction mechanism and prevent the momemtum from growing too large\n",
    "- set between 0 (high friction) and 1 (no friction)\n",
    "- typical value is 0.9 usually works very well and almost always goes faster than regular gradient descent\n",
    "\n",
    "book answer: If you set the momentum hyperparameter too close to 1 (e.g., 0.99999) when using an SGD optimizer, then the algorithm will likely pick up a lot of speed, hopefully moving roughly toward the global minimum, but its momentum will carry it right past the minimum. Then it will slow down and come back, accelerate again, overshoot again, and so on. It may oscillate this way many times before converging, so overall it will take much longer to converge than with a smaller momentum value."
   ]
  },
  {
   "cell_type": "markdown",
   "id": "d239939e-0423-4332-9790-f34902cb55d4",
   "metadata": {},
   "source": [
    "6. Name three ways to produce a sparse models?"
   ]
  },
  {
   "cell_type": "markdown",
   "id": "b3e864c8-b4cb-4dc4-a144-403e5566e707",
   "metadata": {},
   "source": [
    "-> 1. train the model as usual, then get rid of the tiny weights (set them to zero) - not recommended; 2. apply a strong l1 regularization during training, as it pushes the optimizer to zero out as many weights as it can; 3. Use TensorFlow Model Optimization Toolkit (TF-MOT), which provides a pruning API capable of iteratively removing connections during training based on their magnitude\n",
    "\n",
    "page 387:\n",
    "Training Sparse Models\n",
    "- all optimization algorithms just discussed produce dense models, meaning that most parameters will be non-zero\n",
    "- if you need a blazingly fast model at runtime or you need it take up less memory, you may prefer to end up with sparse model instead\n",
    "\n",
    "Options to create sparse model:\n",
    "- train the model as usual, then get rid of the tiny weights (set them to zero). However, this will typically not lead to a very sparse model, and it may degrade the model's performance.\n",
    "- apply a strong l1 regularization during training, as it pushes the optimizer to zero out as many weights as it can (as discussed in the \"Lasso Regression\")\n",
    "another option to create sparse model:\n",
    "- check out the TensorFlow Model Optimization Toolkit (TF-MOT), which provides a pruning API capable of iteratively removing connections during training based on their magnitude\n",
    "\n",
    "book answer: One way to produce a sparse model (i.e., with most weights equal to zero) is to train the model normally, then zero out tiny weights. For more sparsity, you can apply ℓ1 regularization during training, which pushes the optimizer toward sparsity. A third option is to use the TensorFlow Model Optimization Toolkit."
   ]
  },
  {
   "cell_type": "markdown",
   "id": "c44103f6-303c-49c8-968d-501490c102e5",
   "metadata": {},
   "source": [
    "7. Does dropout slow down training? Does it slow down inference (e.g. making predictions on new instances)? What about MC dropout?"
   ]
  },
  {
   "cell_type": "markdown",
   "id": "a0f9282d-a354-4ec9-8356-6f8540536681",
   "metadata": {},
   "source": [
    "-> dropout does slow down convergence during training, but results in a better model\n",
    "-> dropout does not slow down inference. Dropout is enabled during training, but it is not enabled during inference (model.evaluate()) except when using MC dropout\n",
    "-> MC dropout just uses 'dropout' during the training, so MC Droput training impact is the same 'dropout' impact.\n",
    "-> MC dropout preforms multiple predictions with 'dropout' enable during the inference (evaluate()), then calculates the mean of these predictions. Enabling 'dropout' during the MC Dropout inference does slightly slow it down, but the main slow down is due to making multiple predictions. If you make 10 predictions per instance, it would have 10x+ inference slow down.  \n",
    "\n",
    "\n",
    "page 394:\n",
    "dropout technique\n",
    "- at every training step, every neuron (including input but excluding output neurons) has a probability of 'rho' of being temporarily 'dropped out' meaning it will be entirely ignored during this training step, but it may be activated during the next step\n",
    "- after training, neurons don't get dropped\n",
    "- using dropout makes neurons less sensitive to slight changes in the inputs\n",
    "\n",
    "page 397: \n",
    "dropout performance / convergence\n",
    "- dropout does tend to significantly slow down convergence, but it often results in a better model when tuned properly. So, it is generally well worth the extra time and effort especially for large models\n",
    "\n",
    "book answer: Yes, dropout does slow down training, in general roughly by a factor of two. However, it has no impact on inference speed since it is only turned on during training. MC Dropout is exactly like dropout during training, but it is still active during inference, so each inference is slowed down slightly. More importantly, when using MC Dropout you generally want to run inference 10 times or more to get better predictions. This means that making predictions is slowed down by a factor of 10 or more.\n"
   ]
  },
  {
   "cell_type": "code",
   "execution_count": 1,
   "id": "6baa93db-2f16-4bcd-add8-1bd355b339d8",
   "metadata": {},
   "outputs": [
    {
     "name": "stdout",
     "output_type": "stream",
     "text": [
      "WARNING:tensorflow:From C:\\Users\\pat\\anaconda3\\Lib\\site-packages\\keras\\src\\losses.py:2976: The name tf.losses.sparse_softmax_cross_entropy is deprecated. Please use tf.compat.v1.losses.sparse_softmax_cross_entropy instead.\n",
      "\n"
     ]
    }
   ],
   "source": [
    "import numpy as np\n",
    "import sklearn\n",
    "import tensorflow as tf\n",
    "from sklearn.datasets import load_iris\n",
    "from sklearn.linear_model import Perceptron\n",
    "import matplotlib.pyplot as plt\n",
    "from scipy.special import expit as sigmoid\n",
    "\n",
    "plt.rc('font', size=14)\n",
    "plt.rc('axes', labelsize=14, titlesize=14)\n",
    "plt.rc('legend', fontsize=14)\n",
    "plt.rc('xtick', labelsize=10)\n",
    "plt.rc('ytick', labelsize=10)"
   ]
  },
  {
   "cell_type": "code",
   "execution_count": 2,
   "id": "ea227312-cbb1-403c-9485-63be7c5c679e",
   "metadata": {},
   "outputs": [],
   "source": [
    "import tensorflow as tf"
   ]
  },
  {
   "cell_type": "code",
   "execution_count": 3,
   "id": "fa8cd7b0-82da-414f-b391-460f2142af3a",
   "metadata": {},
   "outputs": [],
   "source": [
    "from pathlib import Path\n",
    "\n",
    "IMAGES_PATH = Path() / \"images\" / \"deep\"\n",
    "IMAGES_PATH.mkdir(parents=True, exist_ok=True)\n",
    "\n",
    "def save_fig(fig_id, tight_layout=True, fig_extension=\"png\", resolution=300):\n",
    "    path = IMAGES_PATH / f\"{fig_id}.{fig_extension}\"\n",
    "    if tight_layout:\n",
    "        plt.tight_layout()\n",
    "    plt.savefig(path, format=fig_extension, dpi=resolution)"
   ]
  },
  {
   "cell_type": "markdown",
   "id": "8c2ced0c-7be2-476e-9fb4-f8dc21f5077c",
   "metadata": {},
   "source": [
    "#### 8. Practice training a deep neural network on CIFAR10 image dataset"
   ]
  },
  {
   "cell_type": "markdown",
   "id": "888110de-30a9-4d1f-b052-6e6b0b6532b0",
   "metadata": {},
   "source": [
    "##### 8a. Build a DNN with 20 hidden layers of 100 neurons each (that's too may, but it's the point of this exercise). Use 'He initialization' and 'Swish activation' function."
   ]
  },
  {
   "cell_type": "markdown",
   "id": "e68f3b40-422b-460a-b6e1-590cdfb11d20",
   "metadata": {},
   "source": [
    "The CIFAR-10 dataset images are of color images with a (32 x 32) resolution. All the images in the dataset are of shape (32,32,3) where 3 represents the number of channels i.e R-G-B (Red,Green & Blue)."
   ]
  },
  {
   "cell_type": "code",
   "execution_count": 4,
   "id": "72ec3bb2-c4c2-4db3-a98f-cdc99804521a",
   "metadata": {},
   "outputs": [
    {
     "name": "stdout",
     "output_type": "stream",
     "text": [
      "WARNING:tensorflow:From C:\\Users\\pat\\anaconda3\\Lib\\site-packages\\keras\\src\\backend.py:873: The name tf.get_default_graph is deprecated. Please use tf.compat.v1.get_default_graph instead.\n",
      "\n"
     ]
    }
   ],
   "source": [
    "model = tf.keras.Sequential()\n",
    "model.add(tf.keras.layers.Flatten(input_shape=[32, 32, 3]))\n",
    "for _ in range(20):\n",
    "    model.add(tf.keras.layers.Dense(100, activation=\"swish\",\n",
    "                                    kernel_initializer=\"he_normal\"))"
   ]
  },
  {
   "cell_type": "markdown",
   "id": "ba8efac3-5120-49c0-a5e2-c550c38575f7",
   "metadata": {},
   "source": [
    "##### 8b. Using 'Nadam' optimizaztion and early stopping, train the network on the CIFAR10 dataset. You can load it with 'tf.keras.datasets.cifar10.load_data()'. The dataset is composed of 60,000 3x x 32-pixel color images (50,000 for training, 10,000 for testing) with 10 classes, so you'll need a 'softmax'  output layer with 10 neurons. Remember to search for the right learning rate  each time you change the model's architecture or hyperparameters."
   ]
  },
  {
   "cell_type": "markdown",
   "id": "44fd0eb7-6208-43a5-b1d8-a6d66b50b898",
   "metadata": {},
   "source": [
    "Let's add the output layer to the model:"
   ]
  },
  {
   "cell_type": "code",
   "execution_count": 5,
   "id": "3df9f2f9-2f45-4b60-ace3-04ac7358ea00",
   "metadata": {},
   "outputs": [],
   "source": [
    "model.add(tf.keras.layers.Dense(10, activation=\"softmax\"))"
   ]
  },
  {
   "cell_type": "markdown",
   "id": "3f406dc7-e738-4209-9488-08d62a0f2c49",
   "metadata": {},
   "source": [
    "Book skipped step to search for the right learning rate - adding right learning rate search "
   ]
  },
  {
   "cell_type": "markdown",
   "id": "63fe503e-1e03-45cf-9e21-7d38878c44f5",
   "metadata": {},
   "source": [
    "Create a custom callback for 'on_batch_end' (see paget 339 for custom callbacks)"
   ]
  },
  {
   "cell_type": "markdown",
   "id": "041bbd19-6b1d-4275-81d4-cffda6336dc4",
   "metadata": {},
   "source": [
    "Load cifar10 dataset and split fulll training data to train and valid data "
   ]
  },
  {
   "cell_type": "code",
   "execution_count": 6,
   "id": "977426b2-2c17-41b7-902b-ff5f02c27697",
   "metadata": {},
   "outputs": [],
   "source": [
    "# # workaround for ssl certificate errors\n",
    "import ssl\n",
    "ssl._create_default_https_context = ssl._create_unverified_context"
   ]
  },
  {
   "cell_type": "code",
   "execution_count": 7,
   "id": "fdb90550-b59d-42fd-bd7c-cffc9e979c60",
   "metadata": {},
   "outputs": [],
   "source": [
    "(X_train_full, y_train_full), (x_test, y_test) = tf.keras.datasets.cifar10.load_data()\n",
    "X_train, y_train = X_train_full[:-5000], y_train_full[:-5000]\n",
    "X_valid, y_valid = X_train_full[-5000:], y_train_full[-5000:] "
   ]
  },
  {
   "cell_type": "code",
   "execution_count": 8,
   "id": "1d1aa816-b59d-447d-8de5-89792e0de656",
   "metadata": {},
   "outputs": [],
   "source": [
    "K = tf.keras.backend\n",
    "\n",
    "class ExponentialLearningRate(tf.keras.callbacks.Callback):\n",
    "    def __init__(self, factor):\n",
    "        self.factor = factor\n",
    "        self.rates = []\n",
    "        self.losses = []\n",
    "    def on_batch_end(self, batch, logs):\n",
    "        self.rates.append(K.get_value(self.model.optimizer.learning_rate))\n",
    "        self.losses.append(logs[\"loss\"])\n",
    "        K.set_value(self.model.optimizer.learning_rate, self.model.optimizer.learning_rate * self.factor)"
   ]
  },
  {
   "cell_type": "code",
   "execution_count": 9,
   "id": "db594055-5b92-4a7c-abb1-317eccd8bd15",
   "metadata": {},
   "outputs": [],
   "source": [
    "tf.keras.backend.clear_session()\n",
    "np.random.seed(42)\n",
    "tf.random.set_seed(42)"
   ]
  },
  {
   "cell_type": "markdown",
   "id": "327dd60d-3635-495a-9222-f8a9f48f20d6",
   "metadata": {},
   "source": [
    "Since training dataset has 50k instances with (default) 32 instance per batch, each epoch will include 1562 batch. If you start at learning rate of 10**-5 and increates 1.05 (5 percent) per batch, your ending learning rate will be ~ 1.6 x 10**-2"
   ]
  },
  {
   "cell_type": "code",
   "execution_count": 10,
   "id": "9dd5e7bf-0710-47c8-a600-c8adeb1dd333",
   "metadata": {},
   "outputs": [],
   "source": [
    "optimizer = tf.keras.optimizers.Nadam(learning_rate=1e-5)\n",
    "model.compile(loss=\"sparse_categorical_crossentropy\",\n",
    "              optimizer=optimizer,\n",
    "              metrics=[\"accuracy\"])\n",
    "expon_lr = ExponentialLearningRate(factor=1.005)"
   ]
  },
  {
   "cell_type": "code",
   "execution_count": 11,
   "id": "969866f0-79a2-462d-8fe9-3a2cd9e14eab",
   "metadata": {},
   "outputs": [
    {
     "name": "stdout",
     "output_type": "stream",
     "text": [
      "Epoch 1/2\n",
      "WARNING:tensorflow:From C:\\Users\\pat\\anaconda3\\Lib\\site-packages\\keras\\src\\utils\\tf_utils.py:492: The name tf.ragged.RaggedTensorValue is deprecated. Please use tf.compat.v1.ragged.RaggedTensorValue instead.\n",
      "\n",
      "WARNING:tensorflow:From C:\\Users\\pat\\anaconda3\\Lib\\site-packages\\keras\\src\\engine\\base_layer_utils.py:384: The name tf.executing_eagerly_outside_functions is deprecated. Please use tf.compat.v1.executing_eagerly_outside_functions instead.\n",
      "\n",
      "1407/1407 [==============================] - 22s 11ms/step - loss: 516.5344 - accuracy: 0.1425 - val_loss: 2.3410 - val_accuracy: 0.0976\n",
      "Epoch 2/2\n",
      "1407/1407 [==============================] - 15s 11ms/step - loss: 10711872.0000 - accuracy: 0.1013 - val_loss: 13.5268 - val_accuracy: 0.0976\n"
     ]
    }
   ],
   "source": [
    "history = model.fit(X_train, y_train, epochs=2,\n",
    "                    validation_data=(X_valid, y_valid),\n",
    "                    callbacks=[expon_lr])"
   ]
  },
  {
   "cell_type": "markdown",
   "id": "d00308b6-edd1-4433-8fff-a6f6fc7834ce",
   "metadata": {},
   "source": [
    "plot the loss as a functionof the learning rate:"
   ]
  },
  {
   "cell_type": "code",
   "execution_count": 12,
   "id": "5d283f89-e036-4e54-8237-f22e57121dee",
   "metadata": {},
   "outputs": [
    {
     "data": {
      "text/plain": [
       "Text(0, 0.5, 'Loss')"
      ]
     },
     "execution_count": 12,
     "metadata": {},
     "output_type": "execute_result"
    },
    {
     "data": {
      "image/png": "[encoded data removed]",
      "text/plain": [
       "<Figure size 640x480 with 1 Axes>"
      ]
     },
     "metadata": {},
     "output_type": "display_data"
    }
   ],
   "source": [
    "plt.plot(expon_lr.rates, expon_lr.losses)\n",
    "plt.gca().set_xscale('log')\n",
    "plt.hlines(min(expon_lr.losses), min(expon_lr.rates), max(expon_lr.rates))\n",
    "plt.axis([min(expon_lr.rates), max(expon_lr.rates), 0, expon_lr.losses[22]])\n",
    "plt.grid()\n",
    "plt.xlabel(\"Learning rate\")\n",
    "plt.ylabel(\"Loss\")"
   ]
  },
  {
   "cell_type": "markdown",
   "id": "98d6d7e3-b55b-40ee-a4c7-c212f07d49c0",
   "metadata": {},
   "source": [
    "Find the min loss value and its correponding learning rate"
   ]
  },
  {
   "cell_type": "code",
   "execution_count": 13,
   "id": "473c2024-a558-4c4f-bc4d-f9c7697b36cb",
   "metadata": {},
   "outputs": [
    {
     "data": {
      "text/plain": [
       "2.2631704807281494"
      ]
     },
     "execution_count": 13,
     "metadata": {},
     "output_type": "execute_result"
    }
   ],
   "source": [
    "min(expon_lr.losses)"
   ]
  },
  {
   "cell_type": "code",
   "execution_count": 14,
   "id": "d40386ff-a505-4dfc-ae82-c72bc0045c57",
   "metadata": {},
   "outputs": [
    {
     "data": {
      "text/plain": [
       "1407"
      ]
     },
     "execution_count": 14,
     "metadata": {},
     "output_type": "execute_result"
    }
   ],
   "source": [
    "expon_lr.losses.index(min(expon_lr.losses))"
   ]
  },
  {
   "cell_type": "code",
   "execution_count": 15,
   "id": "b2360a57-e91a-4a88-b5aa-33aba5cbb2a9",
   "metadata": {},
   "outputs": [
    {
     "data": {
      "text/plain": [
       "'1.010007e-02'"
      ]
     },
     "execution_count": 15,
     "metadata": {},
     "output_type": "execute_result"
    }
   ],
   "source": [
    "\"{:e}\".format(expon_lr.rates[1387])"
   ]
  },
  {
   "cell_type": "markdown",
   "id": "116bb1da-b211-45fc-a6f3-4fe6c719f270",
   "metadata": {},
   "source": [
    "from page 351: The optimal learning will be a little before the loss starting shooting back up (typically 10x lower than the low point).\n",
    "\n",
    "estimated best learning rate: 1e-1 * 1.01e-2 = 1.01e-3"
   ]
  },
  {
   "cell_type": "code",
   "execution_count": 16,
   "id": "e3edfbe1-d159-43f2-be91-87c99291edec",
   "metadata": {},
   "outputs": [],
   "source": [
    "tf.keras.backend.clear_session()\n",
    "np.random.seed(42)\n",
    "tf.random.set_seed(42)"
   ]
  },
  {
   "cell_type": "code",
   "execution_count": 17,
   "id": "19131606-b524-4ab1-a055-25491ebdc6bd",
   "metadata": {},
   "outputs": [],
   "source": [
    "model = tf.keras.Sequential()\n",
    "model.add(tf.keras.layers.Flatten(input_shape=[32, 32, 3]))\n",
    "for _ in range(20):\n",
    "    model.add(tf.keras.layers.Dense(100, activation=\"swish\",\n",
    "                                    kernel_initializer=\"he_normal\"))\n",
    "model.add(tf.keras.layers.Dense(10, activation=\"softmax\"))"
   ]
  },
  {
   "cell_type": "markdown",
   "id": "c4494ad2-8c6b-43d2-8133-23d2f8ffb536",
   "metadata": {},
   "source": [
    "Let's use a Nadam optimizer with a learning rate of 5e-5. I tried learning rates 1e-5, 3e-5, 1e-4, 3e-4, 1e-3, 3e-3 and 1e-2, and I compared their learning curves for 10 epochs each (using the TensorBoard callback, below). The learning rates 3e-5 and 1e-4 were pretty good, so I tried 5e-5, which turned out to be slightly better."
   ]
  },
  {
   "cell_type": "code",
   "execution_count": 18,
   "id": "19121acf-c920-42ec-b6fa-5f45c72c3f80",
   "metadata": {},
   "outputs": [],
   "source": [
    "optimizer = tf.keras.optimizers.Nadam(learning_rate=5e-4)\n",
    "model.compile(loss=\"sparse_categorical_crossentropy\",\n",
    "              optimizer=optimizer,\n",
    "              metrics=[\"accuracy\"])"
   ]
  },
  {
   "cell_type": "code",
   "execution_count": 19,
   "id": "2083208f-7ddb-44a4-ba22-d7e6a72f1bc4",
   "metadata": {},
   "outputs": [],
   "source": [
    "cifar10 = tf.keras.datasets.cifar10.load_data()\n",
    "(X_train_full, y_train_full), (X_test, y_test) = cifar10\n",
    "\n",
    "X_train = X_train_full[5000:]\n",
    "y_train = y_train_full[5000:]\n",
    "X_valid = X_train_full[:5000]\n",
    "y_valid = y_train_full[:5000]"
   ]
  },
  {
   "cell_type": "code",
   "execution_count": 20,
   "id": "253269c8-3ec2-4428-9f4f-e5dfb071fa31",
   "metadata": {},
   "outputs": [],
   "source": [
    "early_stopping_cb = tf.keras.callbacks.EarlyStopping(patience=20, restore_best_weights=True)\n",
    "\n",
    "model_checkpoint_cb = tf.keras.callbacks.ModelCheckpoint(\"my_cifar10_model\", save_best_only=True)\n",
    "\n",
    "run_index = 1 # increment every time you train the model\n",
    "run_logdir = Path() / \"my_cifar10_logs\" / f\"run_{run_index:03d}\"\n",
    "tensorboard_cb = tf.keras.callbacks.TensorBoard(run_logdir)\n",
    "callbacks = [early_stopping_cb, model_checkpoint_cb, tensorboard_cb]"
   ]
  },
  {
   "cell_type": "code",
   "execution_count": 21,
   "id": "a0cce9d9-c1cb-464d-9f92-ec5b18c760e0",
   "metadata": {},
   "outputs": [
    {
     "data": {
      "text/plain": [
       "Reusing TensorBoard on port 6006 (pid 14420), started 2:44:02 ago. (Use '!kill 14420' to kill it.)"
      ]
     },
     "metadata": {},
     "output_type": "display_data"
    },
    {
     "data": {
      "text/html": [
       "\n",
       "      <iframe id=\"tensorboard-frame-faf038cff32f691f\" width=\"100%\" height=\"800\" frameborder=\"0\">\n",
       "      </iframe>\n",
       "      <script>\n",
       "        (function() {\n",
       "          const frame = document.getElementById(\"tensorboard-frame-faf038cff32f691f\");\n",
       "          const url = new URL(\"/\", window.location);\n",
       "          const port = 6006;\n",
       "          if (port) {\n",
       "            url.port = port;\n",
       "          }\n",
       "          frame.src = url;\n",
       "        })();\n",
       "      </script>\n",
       "    "
      ],
      "text/plain": [
       "<IPython.core.display.HTML object>"
      ]
     },
     "metadata": {},
     "output_type": "display_data"
    }
   ],
   "source": [
    "%load_ext tensorboard\n",
    "%tensorboard --logdir=./my_cifar10_logs"
   ]
  },
  {
   "cell_type": "code",
   "execution_count": 22,
   "id": "6602a1d4-1a96-4bdd-99e2-7da1efb351f1",
   "metadata": {},
   "outputs": [
    {
     "name": "stdout",
     "output_type": "stream",
     "text": [
      "Epoch 1/100\n",
      "1407/1407 [==============================] - ETA: 0s - loss: 3.1158 - accuracy: 0.1986INFO:tensorflow:Assets written to: my_cifar10_model\\assets\n"
     ]
    },
    {
     "name": "stderr",
     "output_type": "stream",
     "text": [
      "INFO:tensorflow:Assets written to: my_cifar10_model\\assets\n"
     ]
    },
    {
     "name": "stdout",
     "output_type": "stream",
     "text": [
      "1407/1407 [==============================] - 26s 14ms/step - loss: 3.1158 - accuracy: 0.1986 - val_loss: 2.0224 - val_accuracy: 0.2450\n",
      "Epoch 2/100\n",
      "1403/1407 [============================>.] - ETA: 0s - loss: 1.9575 - accuracy: 0.2783INFO:tensorflow:Assets written to: my_cifar10_model\\assets\n"
     ]
    },
    {
     "name": "stderr",
     "output_type": "stream",
     "text": [
      "INFO:tensorflow:Assets written to: my_cifar10_model\\assets\n"
     ]
    },
    {
     "name": "stdout",
     "output_type": "stream",
     "text": [
      "1407/1407 [==============================] - 18s 13ms/step - loss: 1.9573 - accuracy: 0.2784 - val_loss: 1.8650 - val_accuracy: 0.3148\n",
      "Epoch 3/100\n",
      "1407/1407 [==============================] - 15s 11ms/step - loss: 1.8867 - accuracy: 0.3125 - val_loss: 1.9124 - val_accuracy: 0.2990\n",
      "Epoch 4/100\n",
      "1406/1407 [============================>.] - ETA: 0s - loss: 1.8512 - accuracy: 0.3297INFO:tensorflow:Assets written to: my_cifar10_model\\assets\n"
     ]
    },
    {
     "name": "stderr",
     "output_type": "stream",
     "text": [
      "INFO:tensorflow:Assets written to: my_cifar10_model\\assets\n"
     ]
    },
    {
     "name": "stdout",
     "output_type": "stream",
     "text": [
      "1407/1407 [==============================] - 19s 13ms/step - loss: 1.8512 - accuracy: 0.3298 - val_loss: 1.8267 - val_accuracy: 0.3496\n",
      "Epoch 5/100\n",
      "1407/1407 [==============================] - 15s 11ms/step - loss: 1.8078 - accuracy: 0.3445 - val_loss: 1.8291 - val_accuracy: 0.3306\n",
      "Epoch 6/100\n",
      "1405/1407 [============================>.] - ETA: 0s - loss: 1.7757 - accuracy: 0.3569INFO:tensorflow:Assets written to: my_cifar10_model\\assets\n"
     ]
    },
    {
     "name": "stderr",
     "output_type": "stream",
     "text": [
      "INFO:tensorflow:Assets written to: my_cifar10_model\\assets\n"
     ]
    },
    {
     "name": "stdout",
     "output_type": "stream",
     "text": [
      "1407/1407 [==============================] - 18s 13ms/step - loss: 1.7759 - accuracy: 0.3569 - val_loss: 1.7587 - val_accuracy: 0.3626\n",
      "Epoch 7/100\n",
      "1405/1407 [============================>.] - ETA: 0s - loss: 1.7399 - accuracy: 0.3702INFO:tensorflow:Assets written to: my_cifar10_model\\assets\n"
     ]
    },
    {
     "name": "stderr",
     "output_type": "stream",
     "text": [
      "INFO:tensorflow:Assets written to: my_cifar10_model\\assets\n"
     ]
    },
    {
     "name": "stdout",
     "output_type": "stream",
     "text": [
      "1407/1407 [==============================] - 18s 13ms/step - loss: 1.7399 - accuracy: 0.3703 - val_loss: 1.7081 - val_accuracy: 0.3906\n",
      "Epoch 8/100\n",
      "1407/1407 [==============================] - 15s 10ms/step - loss: 1.7094 - accuracy: 0.3822 - val_loss: 1.7163 - val_accuracy: 0.3738\n",
      "Epoch 9/100\n",
      "1406/1407 [============================>.] - ETA: 0s - loss: 1.6842 - accuracy: 0.3953INFO:tensorflow:Assets written to: my_cifar10_model\\assets\n"
     ]
    },
    {
     "name": "stderr",
     "output_type": "stream",
     "text": [
      "INFO:tensorflow:Assets written to: my_cifar10_model\\assets\n"
     ]
    },
    {
     "name": "stdout",
     "output_type": "stream",
     "text": [
      "1407/1407 [==============================] - 19s 13ms/step - loss: 1.6842 - accuracy: 0.3953 - val_loss: 1.7061 - val_accuracy: 0.3964\n",
      "Epoch 10/100\n",
      "1404/1407 [============================>.] - ETA: 0s - loss: 1.6632 - accuracy: 0.4013INFO:tensorflow:Assets written to: my_cifar10_model\\assets\n"
     ]
    },
    {
     "name": "stderr",
     "output_type": "stream",
     "text": [
      "INFO:tensorflow:Assets written to: my_cifar10_model\\assets\n"
     ]
    },
    {
     "name": "stdout",
     "output_type": "stream",
     "text": [
      "1407/1407 [==============================] - 18s 13ms/step - loss: 1.6632 - accuracy: 0.4013 - val_loss: 1.6821 - val_accuracy: 0.3844\n",
      "Epoch 11/100\n",
      "1407/1407 [==============================] - 15s 11ms/step - loss: 1.6478 - accuracy: 0.4063 - val_loss: 1.7809 - val_accuracy: 0.3584\n",
      "Epoch 12/100\n",
      "1407/1407 [==============================] - ETA: 0s - loss: 1.6320 - accuracy: 0.4136INFO:tensorflow:Assets written to: my_cifar10_model\\assets\n"
     ]
    },
    {
     "name": "stderr",
     "output_type": "stream",
     "text": [
      "INFO:tensorflow:Assets written to: my_cifar10_model\\assets\n"
     ]
    },
    {
     "name": "stdout",
     "output_type": "stream",
     "text": [
      "1407/1407 [==============================] - 21s 15ms/step - loss: 1.6320 - accuracy: 0.4136 - val_loss: 1.6597 - val_accuracy: 0.4038\n",
      "Epoch 13/100\n",
      "1407/1407 [==============================] - 15s 10ms/step - loss: 1.6171 - accuracy: 0.4202 - val_loss: 1.6946 - val_accuracy: 0.4056\n",
      "Epoch 14/100\n",
      "1407/1407 [==============================] - 15s 11ms/step - loss: 1.6059 - accuracy: 0.4241 - val_loss: 1.6635 - val_accuracy: 0.4056\n",
      "Epoch 15/100\n",
      "1404/1407 [============================>.] - ETA: 0s - loss: 1.5958 - accuracy: 0.4274INFO:tensorflow:Assets written to: my_cifar10_model\\assets\n"
     ]
    },
    {
     "name": "stderr",
     "output_type": "stream",
     "text": [
      "INFO:tensorflow:Assets written to: my_cifar10_model\\assets\n"
     ]
    },
    {
     "name": "stdout",
     "output_type": "stream",
     "text": [
      "1407/1407 [==============================] - 18s 13ms/step - loss: 1.5957 - accuracy: 0.4273 - val_loss: 1.6134 - val_accuracy: 0.4214\n",
      "Epoch 16/100\n",
      "1407/1407 [==============================] - 15s 10ms/step - loss: 1.5797 - accuracy: 0.4328 - val_loss: 1.6767 - val_accuracy: 0.4062\n",
      "Epoch 17/100\n",
      "1407/1407 [==============================] - 15s 10ms/step - loss: 1.5762 - accuracy: 0.4328 - val_loss: 1.6319 - val_accuracy: 0.4162\n",
      "Epoch 18/100\n",
      "1407/1407 [==============================] - 15s 10ms/step - loss: 1.5655 - accuracy: 0.4389 - val_loss: 1.6834 - val_accuracy: 0.4034\n",
      "Epoch 19/100\n",
      "1407/1407 [==============================] - ETA: 0s - loss: 1.5530 - accuracy: 0.4445INFO:tensorflow:Assets written to: my_cifar10_model\\assets\n"
     ]
    },
    {
     "name": "stderr",
     "output_type": "stream",
     "text": [
      "INFO:tensorflow:Assets written to: my_cifar10_model\\assets\n"
     ]
    },
    {
     "name": "stdout",
     "output_type": "stream",
     "text": [
      "1407/1407 [==============================] - 19s 13ms/step - loss: 1.5530 - accuracy: 0.4445 - val_loss: 1.6112 - val_accuracy: 0.4248\n",
      "Epoch 20/100\n",
      "1405/1407 [============================>.] - ETA: 0s - loss: 1.5473 - accuracy: 0.4456INFO:tensorflow:Assets written to: my_cifar10_model\\assets\n"
     ]
    },
    {
     "name": "stderr",
     "output_type": "stream",
     "text": [
      "INFO:tensorflow:Assets written to: my_cifar10_model\\assets\n"
     ]
    },
    {
     "name": "stdout",
     "output_type": "stream",
     "text": [
      "1407/1407 [==============================] - 18s 13ms/step - loss: 1.5476 - accuracy: 0.4454 - val_loss: 1.5913 - val_accuracy: 0.4320\n",
      "Epoch 21/100\n",
      "1407/1407 [==============================] - 15s 11ms/step - loss: 1.5403 - accuracy: 0.4490 - val_loss: 1.6342 - val_accuracy: 0.4238\n",
      "Epoch 22/100\n",
      "1407/1407 [==============================] - 15s 11ms/step - loss: 1.5345 - accuracy: 0.4528 - val_loss: 1.6032 - val_accuracy: 0.4344\n",
      "Epoch 23/100\n",
      "1407/1407 [==============================] - 15s 11ms/step - loss: 1.5289 - accuracy: 0.4553 - val_loss: 1.6056 - val_accuracy: 0.4200\n",
      "Epoch 24/100\n",
      "1407/1407 [==============================] - 15s 11ms/step - loss: 1.5188 - accuracy: 0.4589 - val_loss: 1.6164 - val_accuracy: 0.4272\n",
      "Epoch 25/100\n",
      "1406/1407 [============================>.] - ETA: 0s - loss: 1.5120 - accuracy: 0.4582INFO:tensorflow:Assets written to: my_cifar10_model\\assets\n"
     ]
    },
    {
     "name": "stderr",
     "output_type": "stream",
     "text": [
      "INFO:tensorflow:Assets written to: my_cifar10_model\\assets\n"
     ]
    },
    {
     "name": "stdout",
     "output_type": "stream",
     "text": [
      "1407/1407 [==============================] - 19s 13ms/step - loss: 1.5120 - accuracy: 0.4582 - val_loss: 1.5907 - val_accuracy: 0.4404\n",
      "Epoch 26/100\n",
      "1407/1407 [==============================] - 15s 11ms/step - loss: 1.5030 - accuracy: 0.4631 - val_loss: 1.5955 - val_accuracy: 0.4334\n",
      "Epoch 27/100\n",
      "1407/1407 [==============================] - 15s 11ms/step - loss: 1.4986 - accuracy: 0.4631 - val_loss: 1.6362 - val_accuracy: 0.4124\n",
      "Epoch 28/100\n",
      "1407/1407 [==============================] - 15s 11ms/step - loss: 1.4929 - accuracy: 0.4672 - val_loss: 1.6105 - val_accuracy: 0.4314\n",
      "Epoch 29/100\n",
      "1407/1407 [==============================] - 15s 11ms/step - loss: 1.4880 - accuracy: 0.4694 - val_loss: 1.6120 - val_accuracy: 0.4386\n",
      "Epoch 30/100\n",
      "1407/1407 [==============================] - 15s 11ms/step - loss: 1.4789 - accuracy: 0.4692 - val_loss: 1.6438 - val_accuracy: 0.4192\n",
      "Epoch 31/100\n",
      "1407/1407 [==============================] - 15s 11ms/step - loss: 1.5995 - accuracy: 0.4247 - val_loss: 1.6050 - val_accuracy: 0.4290\n",
      "Epoch 32/100\n",
      "1407/1407 [==============================] - 15s 11ms/step - loss: 2.0797 - accuracy: 0.3511 - val_loss: 1.7991 - val_accuracy: 0.3402\n",
      "Epoch 33/100\n",
      "1407/1407 [==============================] - 15s 11ms/step - loss: 1.7547 - accuracy: 0.3535 - val_loss: 1.7916 - val_accuracy: 0.3424\n",
      "Epoch 34/100\n",
      "1407/1407 [==============================] - 15s 11ms/step - loss: 1.7081 - accuracy: 0.3767 - val_loss: 1.7444 - val_accuracy: 0.3758\n",
      "Epoch 35/100\n",
      "1407/1407 [==============================] - 15s 11ms/step - loss: 1.6790 - accuracy: 0.3876 - val_loss: 1.6779 - val_accuracy: 0.3906\n",
      "Epoch 36/100\n",
      "1407/1407 [==============================] - 15s 11ms/step - loss: 1.6592 - accuracy: 0.3975 - val_loss: 1.6975 - val_accuracy: 0.3868\n",
      "Epoch 37/100\n",
      "1407/1407 [==============================] - 16s 11ms/step - loss: 1.6422 - accuracy: 0.4036 - val_loss: 1.6730 - val_accuracy: 0.3946\n",
      "Epoch 38/100\n",
      "1407/1407 [==============================] - 16s 11ms/step - loss: 1.6242 - accuracy: 0.4136 - val_loss: 1.6478 - val_accuracy: 0.4004\n",
      "Epoch 39/100\n",
      "1407/1407 [==============================] - 16s 11ms/step - loss: 1.6074 - accuracy: 0.4185 - val_loss: 1.6813 - val_accuracy: 0.3934\n",
      "Epoch 40/100\n",
      "1407/1407 [==============================] - 16s 11ms/step - loss: 1.5971 - accuracy: 0.4211 - val_loss: 1.6740 - val_accuracy: 0.3896\n",
      "Epoch 41/100\n",
      "1407/1407 [==============================] - 16s 11ms/step - loss: 1.5840 - accuracy: 0.4310 - val_loss: 1.6395 - val_accuracy: 0.4172\n",
      "Epoch 42/100\n",
      "1407/1407 [==============================] - 15s 11ms/step - loss: 1.5697 - accuracy: 0.4348 - val_loss: 1.6701 - val_accuracy: 0.4066\n",
      "Epoch 43/100\n",
      "1407/1407 [==============================] - 15s 11ms/step - loss: 1.5624 - accuracy: 0.4373 - val_loss: 1.6530 - val_accuracy: 0.4072\n",
      "Epoch 44/100\n",
      "1407/1407 [==============================] - 15s 11ms/step - loss: 1.5490 - accuracy: 0.4431 - val_loss: 1.6783 - val_accuracy: 0.4092\n",
      "Epoch 45/100\n",
      "1407/1407 [==============================] - 16s 11ms/step - loss: 1.5381 - accuracy: 0.4474 - val_loss: 1.6193 - val_accuracy: 0.4226\n"
     ]
    },
    {
     "data": {
      "text/plain": [
       "<keras.src.callbacks.History at 0x194f0ba6dd0>"
      ]
     },
     "execution_count": 22,
     "metadata": {},
     "output_type": "execute_result"
    }
   ],
   "source": [
    "model.fit(X_train, y_train, epochs=100,\n",
    "          validation_data=(X_valid, y_valid),\n",
    "          callbacks=callbacks)"
   ]
  },
  {
   "cell_type": "code",
   "execution_count": 23,
   "id": "3100d06c-f7fc-4b00-a7f2-d508c991dff4",
   "metadata": {},
   "outputs": [
    {
     "name": "stdout",
     "output_type": "stream",
     "text": [
      "157/157 [==============================] - 1s 5ms/step - loss: 1.5907 - accuracy: 0.4404\n"
     ]
    },
    {
     "data": {
      "text/plain": [
       "[1.5907032489776611, 0.44040000438690186]"
      ]
     },
     "execution_count": 23,
     "metadata": {},
     "output_type": "execute_result"
    }
   ],
   "source": [
    "model.evaluate(X_valid, y_valid)"
   ]
  },
  {
   "cell_type": "code",
   "execution_count": 48,
   "id": "653e4782-0025-47a2-a07b-86cf3bb50ec3",
   "metadata": {},
   "outputs": [
    {
     "name": "stderr",
     "output_type": "stream",
     "text": [
      "ERROR: The process \"tensorboard.exe\" not found.\n",
      "The system cannot find the file specified.\n"
     ]
    }
   ],
   "source": [
    "# close tensorboard\n",
    "!taskkill /IM \"tensorboard.exe\" /F\n",
    "!rmdir /S /Q %temp%\\.tensorboard-info"
   ]
  },
  {
   "cell_type": "markdown",
   "id": "b4a3ec92-103c-4ee0-9c25-82e8634167e6",
   "metadata": {},
   "source": [
    "##### 8c. Now try adding batch normalization and compare the learning curves: is it converging faster than before? Does it produce better model? How does it affect training speed?"
   ]
  },
  {
   "cell_type": "markdown",
   "id": "a43f4fc1-e3be-4f29-ae81-30ced1c8ad05",
   "metadata": {},
   "source": [
    "The code below is very similar to the code above, with a few changes:\n",
    "\n",
    "* I added a BN layer after every Dense layer (before the activation function), except for the output layer.\n",
    "* I changed the learning rate to 5e-4. I experimented with 1e-5, 3e-5, 5e-5, 1e-4, 3e-4, 5e-4, 1e-3 and 3e-3, and I chose the one with the best validation performance after 20 epochs.\n",
    "* I renamed the run directories to run_bn_* and the model file name to my_cifar10_bn_model."
   ]
  },
  {
   "cell_type": "code",
   "execution_count": 24,
   "id": "c464a191-9163-49bc-8da0-7c39ae3e86f7",
   "metadata": {},
   "outputs": [
    {
     "name": "stdout",
     "output_type": "stream",
     "text": [
      "Epoch 1/100\n",
      "1405/1407 [============================>.] - ETA: 0s - loss: 2.0460 - accuracy: 0.2438INFO:tensorflow:Assets written to: my_cifar10_bn_model\\assets\n"
     ]
    },
    {
     "name": "stderr",
     "output_type": "stream",
     "text": [
      "INFO:tensorflow:Assets written to: my_cifar10_bn_model\\assets\n"
     ]
    },
    {
     "name": "stdout",
     "output_type": "stream",
     "text": [
      "1407/1407 [==============================] - 49s 24ms/step - loss: 2.0461 - accuracy: 0.2440 - val_loss: 1.9150 - val_accuracy: 0.3206\n",
      "Epoch 2/100\n",
      "1407/1407 [==============================] - ETA: 0s - loss: 1.7947 - accuracy: 0.3513INFO:tensorflow:Assets written to: my_cifar10_bn_model\\assets\n"
     ]
    },
    {
     "name": "stderr",
     "output_type": "stream",
     "text": [
      "INFO:tensorflow:Assets written to: my_cifar10_bn_model\\assets\n"
     ]
    },
    {
     "name": "stdout",
     "output_type": "stream",
     "text": [
      "1407/1407 [==============================] - 32s 23ms/step - loss: 1.7947 - accuracy: 0.3513 - val_loss: 1.8945 - val_accuracy: 0.3126\n",
      "Epoch 3/100\n",
      "1405/1407 [============================>.] - ETA: 0s - loss: 1.6812 - accuracy: 0.3977INFO:tensorflow:Assets written to: my_cifar10_bn_model\\assets\n"
     ]
    },
    {
     "name": "stderr",
     "output_type": "stream",
     "text": [
      "INFO:tensorflow:Assets written to: my_cifar10_bn_model\\assets\n"
     ]
    },
    {
     "name": "stdout",
     "output_type": "stream",
     "text": [
      "1407/1407 [==============================] - 32s 23ms/step - loss: 1.6812 - accuracy: 0.3977 - val_loss: 1.7223 - val_accuracy: 0.3818\n",
      "Epoch 4/100\n",
      "1405/1407 [============================>.] - ETA: 0s - loss: 1.6136 - accuracy: 0.4236INFO:tensorflow:Assets written to: my_cifar10_bn_model\\assets\n"
     ]
    },
    {
     "name": "stderr",
     "output_type": "stream",
     "text": [
      "INFO:tensorflow:Assets written to: my_cifar10_bn_model\\assets\n"
     ]
    },
    {
     "name": "stdout",
     "output_type": "stream",
     "text": [
      "1407/1407 [==============================] - 32s 23ms/step - loss: 1.6137 - accuracy: 0.4235 - val_loss: 1.6322 - val_accuracy: 0.4046\n",
      "Epoch 5/100\n",
      "1407/1407 [==============================] - 24s 17ms/step - loss: 1.5514 - accuracy: 0.4507 - val_loss: 1.6718 - val_accuracy: 0.3954\n",
      "Epoch 6/100\n",
      "1406/1407 [============================>.] - ETA: 0s - loss: 1.5066 - accuracy: 0.4645INFO:tensorflow:Assets written to: my_cifar10_bn_model\\assets\n"
     ]
    },
    {
     "name": "stderr",
     "output_type": "stream",
     "text": [
      "INFO:tensorflow:Assets written to: my_cifar10_bn_model\\assets\n"
     ]
    },
    {
     "name": "stdout",
     "output_type": "stream",
     "text": [
      "1407/1407 [==============================] - 33s 23ms/step - loss: 1.5066 - accuracy: 0.4645 - val_loss: 1.5332 - val_accuracy: 0.4380\n",
      "Epoch 7/100\n",
      "1407/1407 [==============================] - 24s 17ms/step - loss: 1.4588 - accuracy: 0.4834 - val_loss: 1.7345 - val_accuracy: 0.3792\n",
      "Epoch 8/100\n",
      "1407/1407 [==============================] - 24s 17ms/step - loss: 1.4207 - accuracy: 0.4949 - val_loss: 1.5695 - val_accuracy: 0.4436\n",
      "Epoch 9/100\n",
      "1407/1407 [==============================] - ETA: 0s - loss: 1.3915 - accuracy: 0.5079INFO:tensorflow:Assets written to: my_cifar10_bn_model\\assets\n"
     ]
    },
    {
     "name": "stderr",
     "output_type": "stream",
     "text": [
      "INFO:tensorflow:Assets written to: my_cifar10_bn_model\\assets\n"
     ]
    },
    {
     "name": "stdout",
     "output_type": "stream",
     "text": [
      "1407/1407 [==============================] - 32s 23ms/step - loss: 1.3915 - accuracy: 0.5079 - val_loss: 1.4631 - val_accuracy: 0.4790\n",
      "Epoch 10/100\n",
      "1407/1407 [==============================] - 24s 17ms/step - loss: 1.3570 - accuracy: 0.5173 - val_loss: 1.4843 - val_accuracy: 0.4714\n",
      "Epoch 11/100\n",
      "1407/1407 [==============================] - 24s 17ms/step - loss: 1.3273 - accuracy: 0.5265 - val_loss: 1.5242 - val_accuracy: 0.4646\n",
      "Epoch 12/100\n",
      "1407/1407 [==============================] - 24s 17ms/step - loss: 1.3004 - accuracy: 0.5381 - val_loss: 1.5548 - val_accuracy: 0.4380\n",
      "Epoch 13/100\n",
      "1407/1407 [==============================] - 24s 17ms/step - loss: 1.2751 - accuracy: 0.5470 - val_loss: 1.5850 - val_accuracy: 0.4376\n",
      "Epoch 14/100\n",
      "1404/1407 [============================>.] - ETA: 0s - loss: 1.2497 - accuracy: 0.5559INFO:tensorflow:Assets written to: my_cifar10_bn_model\\assets\n"
     ]
    },
    {
     "name": "stderr",
     "output_type": "stream",
     "text": [
      "INFO:tensorflow:Assets written to: my_cifar10_bn_model\\assets\n"
     ]
    },
    {
     "name": "stdout",
     "output_type": "stream",
     "text": [
      "1407/1407 [==============================] - 33s 23ms/step - loss: 1.2496 - accuracy: 0.5559 - val_loss: 1.4058 - val_accuracy: 0.5064\n",
      "Epoch 15/100\n",
      "1407/1407 [==============================] - 26s 19ms/step - loss: 1.2277 - accuracy: 0.5652 - val_loss: 1.5766 - val_accuracy: 0.4712\n",
      "Epoch 16/100\n",
      "1407/1407 [==============================] - 26s 18ms/step - loss: 1.2152 - accuracy: 0.5712 - val_loss: 1.4833 - val_accuracy: 0.4776\n",
      "Epoch 17/100\n",
      "1406/1407 [============================>.] - ETA: 0s - loss: 1.1915 - accuracy: 0.5807INFO:tensorflow:Assets written to: my_cifar10_bn_model\\assets\n"
     ]
    },
    {
     "name": "stderr",
     "output_type": "stream",
     "text": [
      "INFO:tensorflow:Assets written to: my_cifar10_bn_model\\assets\n"
     ]
    },
    {
     "name": "stdout",
     "output_type": "stream",
     "text": [
      "1407/1407 [==============================] - 35s 25ms/step - loss: 1.1916 - accuracy: 0.5807 - val_loss: 1.4019 - val_accuracy: 0.5184\n",
      "Epoch 18/100\n",
      "1407/1407 [==============================] - 25s 18ms/step - loss: 1.1672 - accuracy: 0.5897 - val_loss: 1.5522 - val_accuracy: 0.4734\n",
      "Epoch 19/100\n",
      "1407/1407 [==============================] - 26s 18ms/step - loss: 1.1529 - accuracy: 0.5908 - val_loss: 1.4988 - val_accuracy: 0.4868\n",
      "Epoch 20/100\n",
      "1407/1407 [==============================] - 25s 18ms/step - loss: 1.1317 - accuracy: 0.6012 - val_loss: 1.7593 - val_accuracy: 0.4168\n",
      "Epoch 21/100\n",
      "1407/1407 [==============================] - 25s 18ms/step - loss: 1.1220 - accuracy: 0.6054 - val_loss: 1.4599 - val_accuracy: 0.5032\n",
      "Epoch 22/100\n",
      "1407/1407 [==============================] - 25s 18ms/step - loss: 1.0990 - accuracy: 0.6113 - val_loss: 1.4808 - val_accuracy: 0.4904\n",
      "Epoch 23/100\n",
      "1407/1407 [==============================] - 25s 18ms/step - loss: 1.0863 - accuracy: 0.6175 - val_loss: 1.5569 - val_accuracy: 0.4874\n",
      "Epoch 24/100\n",
      "1407/1407 [==============================] - 26s 18ms/step - loss: 1.0739 - accuracy: 0.6230 - val_loss: 1.5538 - val_accuracy: 0.4730\n",
      "Epoch 25/100\n",
      "1407/1407 [==============================] - 25s 18ms/step - loss: 1.0603 - accuracy: 0.6254 - val_loss: 1.5046 - val_accuracy: 0.4896\n",
      "Epoch 26/100\n",
      "1407/1407 [==============================] - 26s 18ms/step - loss: 1.0421 - accuracy: 0.6343 - val_loss: 1.5035 - val_accuracy: 0.4872\n",
      "Epoch 27/100\n",
      "1407/1407 [==============================] - 26s 18ms/step - loss: 1.0310 - accuracy: 0.6393 - val_loss: 1.5658 - val_accuracy: 0.4768\n",
      "Epoch 28/100\n",
      "1407/1407 [==============================] - 26s 18ms/step - loss: 1.0201 - accuracy: 0.6397 - val_loss: 1.5552 - val_accuracy: 0.4892\n",
      "Epoch 29/100\n",
      "1407/1407 [==============================] - 25s 18ms/step - loss: 1.0063 - accuracy: 0.6446 - val_loss: 1.5354 - val_accuracy: 0.4786\n",
      "Epoch 30/100\n",
      "1407/1407 [==============================] - 26s 18ms/step - loss: 0.9916 - accuracy: 0.6501 - val_loss: 1.5217 - val_accuracy: 0.4924\n",
      "Epoch 31/100\n",
      "1407/1407 [==============================] - 26s 18ms/step - loss: 0.9849 - accuracy: 0.6538 - val_loss: 1.6236 - val_accuracy: 0.4756\n",
      "Epoch 32/100\n",
      "1407/1407 [==============================] - 26s 18ms/step - loss: 0.9735 - accuracy: 0.6585 - val_loss: 1.6784 - val_accuracy: 0.4582\n",
      "Epoch 33/100\n",
      "1407/1407 [==============================] - 26s 18ms/step - loss: 0.9551 - accuracy: 0.6625 - val_loss: 1.5546 - val_accuracy: 0.4896\n",
      "Epoch 34/100\n",
      "1407/1407 [==============================] - 26s 18ms/step - loss: 0.9503 - accuracy: 0.6649 - val_loss: 1.5608 - val_accuracy: 0.4894\n",
      "Epoch 35/100\n",
      "1407/1407 [==============================] - 26s 18ms/step - loss: 0.9428 - accuracy: 0.6675 - val_loss: 1.5435 - val_accuracy: 0.4890\n",
      "Epoch 36/100\n",
      "1407/1407 [==============================] - 26s 18ms/step - loss: 0.9271 - accuracy: 0.6722 - val_loss: 1.5315 - val_accuracy: 0.5066\n",
      "Epoch 37/100\n",
      "1407/1407 [==============================] - 26s 18ms/step - loss: 0.9131 - accuracy: 0.6787 - val_loss: 1.8187 - val_accuracy: 0.4638\n"
     ]
    },
    {
     "data": {
      "text/plain": [
       "<keras.src.callbacks.History at 0x1948186b590>"
      ]
     },
     "execution_count": 24,
     "metadata": {},
     "output_type": "execute_result"
    }
   ],
   "source": [
    "tf.random.set_seed(42)\n",
    "\n",
    "model = tf.keras.Sequential()\n",
    "model.add(tf.keras.layers.Flatten(input_shape=[32, 32, 3]))\n",
    "for _ in range(20):\n",
    "    model.add(tf.keras.layers.Dense(100, kernel_initializer=\"he_normal\"))\n",
    "    model.add(tf.keras.layers.BatchNormalization())\n",
    "    model.add(tf.keras.layers.Activation(\"swish\"))\n",
    "    \n",
    "model.add(tf.keras.layers.Dense(10, activation=\"softmax\"))\n",
    "\n",
    "optimizer = tf.keras.optimizers.Nadam(learning_rate=5e-4)\n",
    "model.compile(loss=\"sparse_categorical_crossentropy\",\n",
    "              optimizer=optimizer,\n",
    "              metrics=[\"accuracy\"])\n",
    "\n",
    "early_stopping_cb = tf.keras.callbacks.EarlyStopping(patience=20, restore_best_weights=True)\n",
    "\n",
    "model_checkpoint_cb = tf.keras.callbacks.ModelCheckpoint(\"my_cifar10_bn_model\", save_best_only=True)\n",
    "\n",
    "run_index = 1 # increment every time you train the model\n",
    "run_logdir = Path() / \"my_cifar10_logs\" / f\"run_bn_{run_index:03d}\"\n",
    "tensorboard_cb = tf.keras.callbacks.TensorBoard(run_logdir)\n",
    "callbacks = [early_stopping_cb, model_checkpoint_cb, tensorboard_cb]\n",
    "\n",
    "model.fit(X_train, y_train, epochs=100,\n",
    "          validation_data=(X_valid, y_valid),\n",
    "          callbacks=callbacks)"
   ]
  },
  {
   "cell_type": "code",
   "execution_count": 25,
   "id": "e296fb9f-beb1-4c74-8a5b-ee93d1e03815",
   "metadata": {},
   "outputs": [
    {
     "name": "stdout",
     "output_type": "stream",
     "text": [
      "157/157 [==============================] - 1s 7ms/step - loss: 1.4019 - accuracy: 0.5184\n"
     ]
    },
    {
     "data": {
      "text/plain": [
       "[1.4018566608428955, 0.5184000134468079]"
      ]
     },
     "execution_count": 25,
     "metadata": {},
     "output_type": "execute_result"
    }
   ],
   "source": [
    "model.evaluate(X_valid, y_valid)"
   ]
  },
  {
   "cell_type": "markdown",
   "id": "6f81b5e3-0c22-403f-9157-28b80b8fff5d",
   "metadata": {},
   "source": [
    "* *Is the model converging faster than before?* Much faster! The previous model took 29 epochs to reach the lowest validation loss, while the new model achieved that same loss in just 12 epochs and continued to make progress until the 17th epoch. The BN layers stabilized training and allowed us to use a much larger learning rate, so convergence was faster.\n",
    "* *Does BN produce a better model?* Yes! The final model is also much better, with 50.7% validation accuracy instead of 46.7%. It's still not a very good model, but at least it's much better than before (a Convolutional Neural Network would do much better, but that's a different topic, see chapter 14).\n",
    "* *How does BN affect training speed?* Although the model converged much faster, each epoch took about 15s instead of 10s, because of the extra computations required by the BN layers. But overall the training time (wall time) to reach the best model was shortened by about 10%."
   ]
  },
  {
   "cell_type": "markdown",
   "id": "6592aee5-ca1d-47fc-ab8c-7cfd99ae05f4",
   "metadata": {},
   "source": [
    "8d. Try replacing batch normalization with SELU, and make the necessary adjustments to ensure the network self-normalizes (i.e. standardize the inputs features, use 'LeCun normal initialization', make suer the DNN contains only a sequence of dense layers, etc.)."
   ]
  },
  {
   "cell_type": "code",
   "execution_count": 26,
   "id": "df0d4ad9-65d5-4232-8537-91a69a8f7431",
   "metadata": {},
   "outputs": [
    {
     "name": "stdout",
     "output_type": "stream",
     "text": [
      "Epoch 1/100\n",
      "1403/1407 [============================>.] - ETA: 0s - loss: 1.9179 - accuracy: 0.3147INFO:tensorflow:Assets written to: my_cifar10_selu_model\\assets\n"
     ]
    },
    {
     "name": "stderr",
     "output_type": "stream",
     "text": [
      "INFO:tensorflow:Assets written to: my_cifar10_selu_model\\assets\n"
     ]
    },
    {
     "name": "stdout",
     "output_type": "stream",
     "text": [
      "1407/1407 [==============================] - 26s 14ms/step - loss: 1.9177 - accuracy: 0.3148 - val_loss: 1.7697 - val_accuracy: 0.3786\n",
      "Epoch 2/100\n",
      "1405/1407 [============================>.] - ETA: 0s - loss: 1.7099 - accuracy: 0.3928INFO:tensorflow:Assets written to: my_cifar10_selu_model\\assets\n"
     ]
    },
    {
     "name": "stderr",
     "output_type": "stream",
     "text": [
      "INFO:tensorflow:Assets written to: my_cifar10_selu_model\\assets\n"
     ]
    },
    {
     "name": "stdout",
     "output_type": "stream",
     "text": [
      "1407/1407 [==============================] - 19s 14ms/step - loss: 1.7099 - accuracy: 0.3929 - val_loss: 1.6858 - val_accuracy: 0.3990\n",
      "Epoch 3/100\n",
      "1407/1407 [==============================] - ETA: 0s - loss: 1.6184 - accuracy: 0.4282INFO:tensorflow:Assets written to: my_cifar10_selu_model\\assets\n"
     ]
    },
    {
     "name": "stderr",
     "output_type": "stream",
     "text": [
      "INFO:tensorflow:Assets written to: my_cifar10_selu_model\\assets\n"
     ]
    },
    {
     "name": "stdout",
     "output_type": "stream",
     "text": [
      "1407/1407 [==============================] - 19s 13ms/step - loss: 1.6184 - accuracy: 0.4282 - val_loss: 1.5964 - val_accuracy: 0.4310\n",
      "Epoch 4/100\n",
      "1407/1407 [==============================] - 17s 12ms/step - loss: 1.5525 - accuracy: 0.4531 - val_loss: 1.6098 - val_accuracy: 0.4434\n",
      "Epoch 5/100\n",
      "1407/1407 [==============================] - 17s 12ms/step - loss: 1.4995 - accuracy: 0.4745 - val_loss: 1.6161 - val_accuracy: 0.4324\n",
      "Epoch 6/100\n",
      "1403/1407 [============================>.] - ETA: 0s - loss: 1.4526 - accuracy: 0.4924INFO:tensorflow:Assets written to: my_cifar10_selu_model\\assets\n"
     ]
    },
    {
     "name": "stderr",
     "output_type": "stream",
     "text": [
      "INFO:tensorflow:Assets written to: my_cifar10_selu_model\\assets\n"
     ]
    },
    {
     "name": "stdout",
     "output_type": "stream",
     "text": [
      "1407/1407 [==============================] - 19s 13ms/step - loss: 1.4524 - accuracy: 0.4925 - val_loss: 1.5238 - val_accuracy: 0.4698\n",
      "Epoch 7/100\n",
      "1407/1407 [==============================] - 16s 12ms/step - loss: 1.4070 - accuracy: 0.5099 - val_loss: 1.5505 - val_accuracy: 0.4564\n",
      "Epoch 8/100\n",
      "1406/1407 [============================>.] - ETA: 0s - loss: 1.3612 - accuracy: 0.5256INFO:tensorflow:Assets written to: my_cifar10_selu_model\\assets\n"
     ]
    },
    {
     "name": "stderr",
     "output_type": "stream",
     "text": [
      "INFO:tensorflow:Assets written to: my_cifar10_selu_model\\assets\n"
     ]
    },
    {
     "name": "stdout",
     "output_type": "stream",
     "text": [
      "1407/1407 [==============================] - 19s 13ms/step - loss: 1.3612 - accuracy: 0.5256 - val_loss: 1.4996 - val_accuracy: 0.4738\n",
      "Epoch 9/100\n",
      "1407/1407 [==============================] - 16s 12ms/step - loss: 1.3324 - accuracy: 0.5359 - val_loss: 1.5010 - val_accuracy: 0.4802\n",
      "Epoch 10/100\n",
      "1407/1407 [==============================] - 16s 11ms/step - loss: 1.3049 - accuracy: 0.5471 - val_loss: 1.5302 - val_accuracy: 0.4756\n",
      "Epoch 11/100\n",
      "1404/1407 [============================>.] - ETA: 0s - loss: 1.2732 - accuracy: 0.5610INFO:tensorflow:Assets written to: my_cifar10_selu_model\\assets\n"
     ]
    },
    {
     "name": "stderr",
     "output_type": "stream",
     "text": [
      "INFO:tensorflow:Assets written to: my_cifar10_selu_model\\assets\n"
     ]
    },
    {
     "name": "stdout",
     "output_type": "stream",
     "text": [
      "1407/1407 [==============================] - 19s 13ms/step - loss: 1.2731 - accuracy: 0.5610 - val_loss: 1.4967 - val_accuracy: 0.4886\n",
      "Epoch 12/100\n",
      "1407/1407 [==============================] - 16s 12ms/step - loss: 1.2434 - accuracy: 0.5755 - val_loss: 1.5408 - val_accuracy: 0.4848\n",
      "Epoch 13/100\n",
      "1407/1407 [==============================] - 17s 12ms/step - loss: 1.2242 - accuracy: 0.5773 - val_loss: 1.4989 - val_accuracy: 0.5056\n",
      "Epoch 14/100\n",
      "1404/1407 [============================>.] - ETA: 0s - loss: 1.1932 - accuracy: 0.5877INFO:tensorflow:Assets written to: my_cifar10_selu_model\\assets\n"
     ]
    },
    {
     "name": "stderr",
     "output_type": "stream",
     "text": [
      "INFO:tensorflow:Assets written to: my_cifar10_selu_model\\assets\n"
     ]
    },
    {
     "name": "stdout",
     "output_type": "stream",
     "text": [
      "1407/1407 [==============================] - 19s 13ms/step - loss: 1.1933 - accuracy: 0.5876 - val_loss: 1.4545 - val_accuracy: 0.5124\n",
      "Epoch 15/100\n",
      "1407/1407 [==============================] - 17s 12ms/step - loss: 1.1735 - accuracy: 0.5964 - val_loss: 1.5383 - val_accuracy: 0.4982\n",
      "Epoch 16/100\n",
      "1407/1407 [==============================] - 17s 12ms/step - loss: 1.1505 - accuracy: 0.6050 - val_loss: 1.5224 - val_accuracy: 0.5004\n",
      "Epoch 17/100\n",
      "1407/1407 [==============================] - 17s 12ms/step - loss: 1.1328 - accuracy: 0.6127 - val_loss: 1.5098 - val_accuracy: 0.5140\n",
      "Epoch 18/100\n",
      "1407/1407 [==============================] - 17s 12ms/step - loss: 1.1051 - accuracy: 0.6205 - val_loss: 1.5153 - val_accuracy: 0.4916\n",
      "Epoch 19/100\n",
      "1407/1407 [==============================] - 17s 12ms/step - loss: 1.0895 - accuracy: 0.6258 - val_loss: 1.5500 - val_accuracy: 0.5140\n",
      "Epoch 20/100\n",
      "1407/1407 [==============================] - 17s 12ms/step - loss: 1.0744 - accuracy: 0.6303 - val_loss: 1.5302 - val_accuracy: 0.5020\n",
      "Epoch 21/100\n",
      "1407/1407 [==============================] - 17s 12ms/step - loss: 1.0485 - accuracy: 0.6414 - val_loss: 1.4972 - val_accuracy: 0.5004\n",
      "Epoch 22/100\n",
      "1407/1407 [==============================] - 17s 12ms/step - loss: 1.0394 - accuracy: 0.6440 - val_loss: 1.5580 - val_accuracy: 0.5046\n",
      "Epoch 23/100\n",
      "1407/1407 [==============================] - 17s 12ms/step - loss: 1.0184 - accuracy: 0.6540 - val_loss: 1.5841 - val_accuracy: 0.4928\n",
      "Epoch 24/100\n",
      "1407/1407 [==============================] - 17s 12ms/step - loss: 1.1264 - accuracy: 0.6224 - val_loss: 1.5343 - val_accuracy: 0.5114\n",
      "Epoch 25/100\n",
      "1407/1407 [==============================] - 17s 12ms/step - loss: 1.0131 - accuracy: 0.6536 - val_loss: 1.5330 - val_accuracy: 0.5066\n",
      "Epoch 26/100\n",
      "1407/1407 [==============================] - 17s 12ms/step - loss: 0.9709 - accuracy: 0.6676 - val_loss: 1.5531 - val_accuracy: 0.5088\n",
      "Epoch 27/100\n",
      "1407/1407 [==============================] - 17s 12ms/step - loss: 0.9516 - accuracy: 0.6756 - val_loss: 1.5542 - val_accuracy: 0.5098\n",
      "Epoch 28/100\n",
      "1407/1407 [==============================] - 17s 12ms/step - loss: 0.9399 - accuracy: 0.6830 - val_loss: 1.5965 - val_accuracy: 0.4990\n",
      "Epoch 29/100\n",
      "1407/1407 [==============================] - 17s 12ms/step - loss: 0.9335 - accuracy: 0.6834 - val_loss: 177.6218 - val_accuracy: 0.5148\n",
      "Epoch 30/100\n",
      "1407/1407 [==============================] - 17s 12ms/step - loss: 1.7440 - accuracy: 0.4764 - val_loss: 1.6232 - val_accuracy: 0.4518\n",
      "Epoch 31/100\n",
      "1407/1407 [==============================] - 17s 12ms/step - loss: 1.2949 - accuracy: 0.5490 - val_loss: 1.5855 - val_accuracy: 0.4690\n",
      "Epoch 32/100\n",
      "1407/1407 [==============================] - 17s 12ms/step - loss: 1.2118 - accuracy: 0.5812 - val_loss: 1.5466 - val_accuracy: 0.4792\n",
      "Epoch 33/100\n",
      "1407/1407 [==============================] - 17s 12ms/step - loss: 1.1642 - accuracy: 0.5967 - val_loss: 1.5669 - val_accuracy: 0.4826\n",
      "Epoch 34/100\n",
      "1407/1407 [==============================] - 17s 12ms/step - loss: 1.1364 - accuracy: 0.6088 - val_loss: 1.5403 - val_accuracy: 0.4956\n"
     ]
    },
    {
     "data": {
      "text/plain": [
       "<keras.src.callbacks.History at 0x1949beab090>"
      ]
     },
     "execution_count": 26,
     "metadata": {},
     "output_type": "execute_result"
    }
   ],
   "source": [
    "tf.random.set_seed(42)\n",
    "\n",
    "model = tf.keras.Sequential()\n",
    "model.add(tf.keras.layers.Flatten(input_shape=[32, 32, 3]))\n",
    "for _ in range(20):\n",
    "    model.add(tf.keras.layers.Dense(100, activation=\"selu\", kernel_initializer=\"lecun_normal\"))\n",
    "    \n",
    "model.add(tf.keras.layers.Dense(10, activation=\"softmax\"))\n",
    "\n",
    "optimizer = tf.keras.optimizers.Nadam(learning_rate=7e-4)\n",
    "model.compile(loss=\"sparse_categorical_crossentropy\",\n",
    "              optimizer=optimizer,\n",
    "              metrics=[\"accuracy\"])\n",
    "\n",
    "early_stopping_cb = tf.keras.callbacks.EarlyStopping(patience=20, restore_best_weights=True)\n",
    "\n",
    "model_checkpoint_cb = tf.keras.callbacks.ModelCheckpoint(\"my_cifar10_selu_model\", save_best_only=True)\n",
    "\n",
    "run_index = 1 # increment every time you train the model\n",
    "run_logdir = Path() / \"my_cifar10_logs\" / f\"run_selu_{run_index:03d}\"\n",
    "tensorboard_cb = tf.keras.callbacks.TensorBoard(run_logdir)\n",
    "callbacks = [early_stopping_cb, model_checkpoint_cb, tensorboard_cb]\n",
    "\n",
    "X_means = X_train.mean(axis=0)\n",
    "X_stds = X_train.std(axis=0)\n",
    "X_train_scaled = (X_train - X_means) / X_stds\n",
    "X_valid_scaled = (X_valid - X_means) / X_stds\n",
    "X_test_scaled = (X_test - X_means) / X_stds\n",
    "\n",
    "model.fit(X_train_scaled, y_train, epochs=100,\n",
    "          validation_data=(X_valid_scaled, y_valid),\n",
    "          callbacks=callbacks)"
   ]
  },
  {
   "cell_type": "code",
   "execution_count": 27,
   "id": "bd30272b-ab66-40ae-a004-f61b9ccfb6c4",
   "metadata": {},
   "outputs": [
    {
     "name": "stdout",
     "output_type": "stream",
     "text": [
      "157/157 [==============================] - 1s 3ms/step - loss: 1.4545 - accuracy: 0.5124\n"
     ]
    },
    {
     "data": {
      "text/plain": [
       "[1.454453468322754, 0.5123999714851379]"
      ]
     },
     "execution_count": 27,
     "metadata": {},
     "output_type": "execute_result"
    }
   ],
   "source": [
    "model.evaluate(X_valid_scaled, y_valid)"
   ]
  },
  {
   "cell_type": "markdown",
   "id": "29f2affc-1b89-4525-8c9e-89c6ff3098ee",
   "metadata": {},
   "source": [
    "This model reached the first model's validation loss in just 8 epochs. After 14 epochs, it reached its lowest validation loss, with about 50.3% accuracy, which is better than the original model (46.7%), but not quite as good as the model using batch normalization (50.7%). Each epoch took only 9 seconds. So it's the fastest model to train so far."
   ]
  },
  {
   "cell_type": "markdown",
   "id": "3c4f12b4-02cf-467c-9d37-839978adbcad",
   "metadata": {},
   "source": [
    "8e. Try regularizing the model with 'alpha dropout'. Then, without retraining your model, see if you can achieve better accuracy using 'MC dropout'."
   ]
  },
  {
   "cell_type": "code",
   "execution_count": 28,
   "id": "8fb20d01-e4c7-4c76-80d1-f58d3f79f7b6",
   "metadata": {},
   "outputs": [
    {
     "name": "stdout",
     "output_type": "stream",
     "text": [
      "Epoch 1/100\n",
      "1403/1407 [============================>.] - ETA: 0s - loss: 1.9212 - accuracy: 0.3120INFO:tensorflow:Assets written to: my_cifar10_dropout_model\\assets\n"
     ]
    },
    {
     "name": "stderr",
     "output_type": "stream",
     "text": [
      "INFO:tensorflow:Assets written to: my_cifar10_dropout_model\\assets\n"
     ]
    },
    {
     "name": "stdout",
     "output_type": "stream",
     "text": [
      "1407/1407 [==============================] - 27s 14ms/step - loss: 1.9207 - accuracy: 0.3121 - val_loss: 1.7742 - val_accuracy: 0.3638\n",
      "Epoch 2/100\n",
      "1403/1407 [============================>.] - ETA: 0s - loss: 1.7107 - accuracy: 0.3939INFO:tensorflow:Assets written to: my_cifar10_dropout_model\\assets\n"
     ]
    },
    {
     "name": "stderr",
     "output_type": "stream",
     "text": [
      "INFO:tensorflow:Assets written to: my_cifar10_dropout_model\\assets\n"
     ]
    },
    {
     "name": "stdout",
     "output_type": "stream",
     "text": [
      "1407/1407 [==============================] - 20s 14ms/step - loss: 1.7109 - accuracy: 0.3939 - val_loss: 1.6690 - val_accuracy: 0.4178\n",
      "Epoch 3/100\n",
      "1407/1407 [==============================] - ETA: 0s - loss: 1.6285 - accuracy: 0.4303INFO:tensorflow:Assets written to: my_cifar10_dropout_model\\assets\n"
     ]
    },
    {
     "name": "stderr",
     "output_type": "stream",
     "text": [
      "INFO:tensorflow:Assets written to: my_cifar10_dropout_model\\assets\n"
     ]
    },
    {
     "name": "stdout",
     "output_type": "stream",
     "text": [
      "1407/1407 [==============================] - 20s 14ms/step - loss: 1.6285 - accuracy: 0.4303 - val_loss: 1.6416 - val_accuracy: 0.4092\n",
      "Epoch 4/100\n",
      "1407/1407 [==============================] - ETA: 0s - loss: 1.5749 - accuracy: 0.4439INFO:tensorflow:Assets written to: my_cifar10_dropout_model\\assets\n"
     ]
    },
    {
     "name": "stderr",
     "output_type": "stream",
     "text": [
      "INFO:tensorflow:Assets written to: my_cifar10_dropout_model\\assets\n"
     ]
    },
    {
     "name": "stdout",
     "output_type": "stream",
     "text": [
      "1407/1407 [==============================] - 20s 14ms/step - loss: 1.5749 - accuracy: 0.4439 - val_loss: 1.5907 - val_accuracy: 0.4418\n",
      "Epoch 5/100\n",
      "1407/1407 [==============================] - 17s 12ms/step - loss: 1.5237 - accuracy: 0.4670 - val_loss: 1.6269 - val_accuracy: 0.4442\n",
      "Epoch 6/100\n",
      "1403/1407 [============================>.] - ETA: 0s - loss: 1.4768 - accuracy: 0.4831INFO:tensorflow:Assets written to: my_cifar10_dropout_model\\assets\n"
     ]
    },
    {
     "name": "stderr",
     "output_type": "stream",
     "text": [
      "INFO:tensorflow:Assets written to: my_cifar10_dropout_model\\assets\n"
     ]
    },
    {
     "name": "stdout",
     "output_type": "stream",
     "text": [
      "1407/1407 [==============================] - 20s 14ms/step - loss: 1.4768 - accuracy: 0.4831 - val_loss: 1.5647 - val_accuracy: 0.4612\n",
      "Epoch 7/100\n",
      "1407/1407 [==============================] - 17s 12ms/step - loss: 1.4459 - accuracy: 0.4921 - val_loss: 1.5801 - val_accuracy: 0.4640\n",
      "Epoch 8/100\n",
      "1405/1407 [============================>.] - ETA: 0s - loss: 1.4035 - accuracy: 0.5113INFO:tensorflow:Assets written to: my_cifar10_dropout_model\\assets\n"
     ]
    },
    {
     "name": "stderr",
     "output_type": "stream",
     "text": [
      "INFO:tensorflow:Assets written to: my_cifar10_dropout_model\\assets\n"
     ]
    },
    {
     "name": "stdout",
     "output_type": "stream",
     "text": [
      "1407/1407 [==============================] - 20s 14ms/step - loss: 1.4035 - accuracy: 0.5113 - val_loss: 1.4976 - val_accuracy: 0.4896\n",
      "Epoch 9/100\n",
      "1407/1407 [==============================] - 17s 12ms/step - loss: 1.3728 - accuracy: 0.5248 - val_loss: 1.5761 - val_accuracy: 0.4542\n",
      "Epoch 10/100\n",
      "1407/1407 [==============================] - 17s 12ms/step - loss: 1.3452 - accuracy: 0.5344 - val_loss: 1.5337 - val_accuracy: 0.4836\n",
      "Epoch 11/100\n",
      "1407/1407 [==============================] - 18s 13ms/step - loss: 1.3148 - accuracy: 0.5443 - val_loss: 1.5254 - val_accuracy: 0.4800\n",
      "Epoch 12/100\n",
      "1407/1407 [==============================] - 17s 12ms/step - loss: 1.2845 - accuracy: 0.5553 - val_loss: 1.5470 - val_accuracy: 0.4822\n",
      "Epoch 13/100\n",
      "1407/1407 [==============================] - 17s 12ms/step - loss: 1.2632 - accuracy: 0.5633 - val_loss: 1.5788 - val_accuracy: 0.4874\n",
      "Epoch 14/100\n",
      "1407/1407 [==============================] - 17s 12ms/step - loss: 1.3219 - accuracy: 0.5626 - val_loss: 1.7355 - val_accuracy: 0.4084\n",
      "Epoch 15/100\n",
      "1407/1407 [==============================] - 17s 12ms/step - loss: 1.2859 - accuracy: 0.5557 - val_loss: 1.5647 - val_accuracy: 0.5050\n",
      "Epoch 16/100\n",
      "1407/1407 [==============================] - 17s 12ms/step - loss: 1.1823 - accuracy: 0.5912 - val_loss: 1.6143 - val_accuracy: 0.5072\n",
      "Epoch 17/100\n",
      "1407/1407 [==============================] - 17s 12ms/step - loss: 1.1508 - accuracy: 0.6034 - val_loss: 1.6068 - val_accuracy: 0.5042\n",
      "Epoch 18/100\n",
      "1407/1407 [==============================] - 17s 12ms/step - loss: 1.1422 - accuracy: 0.6069 - val_loss: 1.5392 - val_accuracy: 0.5084\n",
      "Epoch 19/100\n",
      "1407/1407 [==============================] - 17s 12ms/step - loss: 1.1327 - accuracy: 0.6089 - val_loss: 1.5782 - val_accuracy: 0.5026\n",
      "Epoch 20/100\n",
      "1407/1407 [==============================] - 17s 12ms/step - loss: 1.1277 - accuracy: 0.6108 - val_loss: 1.7076 - val_accuracy: 0.4890\n",
      "Epoch 21/100\n",
      "1407/1407 [==============================] - 17s 12ms/step - loss: 1.1219 - accuracy: 0.6119 - val_loss: 1.6177 - val_accuracy: 0.5012\n",
      "Epoch 22/100\n",
      "1407/1407 [==============================] - 17s 12ms/step - loss: 1.1189 - accuracy: 0.6144 - val_loss: 1.6590 - val_accuracy: 0.5026\n",
      "Epoch 23/100\n",
      "1407/1407 [==============================] - 17s 12ms/step - loss: 1.1024 - accuracy: 0.6227 - val_loss: 1.5992 - val_accuracy: 0.5002\n",
      "Epoch 24/100\n",
      "1407/1407 [==============================] - 17s 12ms/step - loss: 1.0905 - accuracy: 0.6275 - val_loss: 1.6435 - val_accuracy: 0.4928\n",
      "Epoch 25/100\n",
      "1407/1407 [==============================] - 17s 12ms/step - loss: 1.2811 - accuracy: 0.5724 - val_loss: 1.6116 - val_accuracy: 0.4914\n",
      "Epoch 26/100\n",
      "1407/1407 [==============================] - 17s 12ms/step - loss: 1.1488 - accuracy: 0.6028 - val_loss: 1.6127 - val_accuracy: 0.5026\n",
      "Epoch 27/100\n",
      "1407/1407 [==============================] - 17s 12ms/step - loss: 1.0661 - accuracy: 0.6339 - val_loss: 1.5649 - val_accuracy: 0.5056\n",
      "Epoch 28/100\n",
      "1407/1407 [==============================] - 17s 12ms/step - loss: 1.0415 - accuracy: 0.6428 - val_loss: 1.7011 - val_accuracy: 0.5060\n"
     ]
    },
    {
     "data": {
      "text/plain": [
       "<keras.src.callbacks.History at 0x194a11a0bd0>"
      ]
     },
     "execution_count": 28,
     "metadata": {},
     "output_type": "execute_result"
    }
   ],
   "source": [
    "tf.random.set_seed(42)\n",
    "\n",
    "model = tf.keras.Sequential()\n",
    "model.add(tf.keras.layers.Flatten(input_shape=[32, 32, 3]))\n",
    "for _ in range(20):\n",
    "    model.add(tf.keras.layers.Dense(100, activation=\"selu\", kernel_initializer=\"lecun_normal\"))\n",
    "\n",
    "model.add(tf.keras.layers.AlphaDropout(rate=0.1))\n",
    "model.add(tf.keras.layers.Dense(10, activation=\"softmax\"))\n",
    "\n",
    "optimizer = tf.keras.optimizers.Nadam(learning_rate=7e-4)\n",
    "model.compile(loss=\"sparse_categorical_crossentropy\",\n",
    "              optimizer=optimizer,\n",
    "              metrics=[\"accuracy\"])\n",
    "\n",
    "early_stopping_cb = tf.keras.callbacks.EarlyStopping(patience=20, restore_best_weights=True)\n",
    "\n",
    "model_checkpoint_cb = tf.keras.callbacks.ModelCheckpoint(\"my_cifar10_dropout_model\", save_best_only=True)\n",
    "\n",
    "run_index = 1 # increment every time you train the model\n",
    "run_logdir = Path() / \"my_cifar10_logs\" / f\"run_dropout_{run_index:03d}\"\n",
    "tensorboard_cb = tf.keras.callbacks.TensorBoard(run_logdir)\n",
    "callbacks = [early_stopping_cb, model_checkpoint_cb, tensorboard_cb]\n",
    "\n",
    "X_means = X_train.mean(axis=0)\n",
    "X_stds = X_train.std(axis=0)\n",
    "X_train_scaled = (X_train - X_means) / X_stds\n",
    "X_valid_scaled = (X_valid - X_means) / X_stds\n",
    "X_test_scaled = (X_test - X_means) / X_stds\n",
    "\n",
    "model.fit(X_train_scaled, y_train, epochs=100,\n",
    "          validation_data=(X_valid_scaled, y_valid),\n",
    "          callbacks=callbacks)"
   ]
  },
  {
   "cell_type": "code",
   "execution_count": 29,
   "id": "d511dee0-f119-430e-83dd-022ce87de608",
   "metadata": {},
   "outputs": [
    {
     "name": "stdout",
     "output_type": "stream",
     "text": [
      "157/157 [==============================] - 1s 3ms/step - loss: 54.3101 - accuracy: 0.2116\n"
     ]
    },
    {
     "data": {
      "text/plain": [
       "[54.31010437011719, 0.21160000562667847]"
      ]
     },
     "execution_count": 29,
     "metadata": {},
     "output_type": "execute_result"
    }
   ],
   "source": [
    "model.evaluate(X_valid, y_valid)"
   ]
  },
  {
   "cell_type": "markdown",
   "id": "f8f65670-b001-4610-9ac1-15a46c9e91ed",
   "metadata": {},
   "source": [
    "Let's use MC Dropout now. We will need the MCAlphaDropout class we used earlier, so let's just copy it here for convenience:"
   ]
  },
  {
   "cell_type": "code",
   "execution_count": 30,
   "id": "ad9a22fd-19ff-477b-9f91-84001f82e37d",
   "metadata": {},
   "outputs": [],
   "source": [
    "class MCAlphaDropout(tf.keras.layers.AlphaDropout):\n",
    "    def call(self, inputs):\n",
    "        return super().call(inputs, training=True)"
   ]
  },
  {
   "cell_type": "markdown",
   "id": "1e15f070-d150-4ea7-8c3a-14c5bf2d35c7",
   "metadata": {},
   "source": [
    "Now let's create a new model, identical to the one we just trained (with the same weights), but with MCAlphaDropout dropout layers instead of AlphaDropout layers:"
   ]
  },
  {
   "cell_type": "code",
   "execution_count": 31,
   "id": "d9e77fb4-d0ee-49f3-a794-82a9ee50b3f1",
   "metadata": {},
   "outputs": [],
   "source": [
    "mc_model = tf.keras.Sequential([\n",
    "    (\n",
    "        MCAlphaDropout(layer.rate)\n",
    "        if isinstance(layer, tf.keras.layers.AlphaDropout)\n",
    "        else layer\n",
    "    )\n",
    "    for layer in model.layers\n",
    "])"
   ]
  },
  {
   "cell_type": "markdown",
   "id": "d7b5095e-f4d4-404f-85a0-d9f5a77ef609",
   "metadata": {},
   "source": [
    "Then let's add a couple utility functions. The first will run the model many times (10 by default) and it will return the mean predicted class probabilities. The second will use these mean probabilities to predict the most likely class for each instance:"
   ]
  },
  {
   "cell_type": "code",
   "execution_count": 32,
   "id": "7fa13911-0e2d-48a6-89c3-1ddb52281f2c",
   "metadata": {},
   "outputs": [],
   "source": [
    "def mc_dropout_predict_probas(mc_model, X, n_samples=10):\n",
    "    Y_probas = [mc_model.predict(X) for sample in range(n_samples)]\n",
    "    return np.mean(Y_probas, axis=0)\n",
    "\n",
    "def mc_dropout_predict_classes(mc_model, X, n_samples=10):\n",
    "    Y_probas = mc_dropout_predict_probas(mc_model, X, n_samples)\n",
    "    return Y_probas.argmax(axis=1)"
   ]
  },
  {
   "cell_type": "markdown",
   "id": "80865b1b-6e5f-403f-b344-9ea2986499af",
   "metadata": {},
   "source": [
    "Now let's make predictions for all the instances in the validation set, and compute the accuracy:"
   ]
  },
  {
   "cell_type": "code",
   "execution_count": 33,
   "id": "5d10f3e8-c630-4790-bf87-0376c64ac566",
   "metadata": {},
   "outputs": [
    {
     "name": "stdout",
     "output_type": "stream",
     "text": [
      "157/157 [==============================] - 1s 3ms/step\n",
      "157/157 [==============================] - 1s 3ms/step\n",
      "157/157 [==============================] - 1s 3ms/step\n",
      "157/157 [==============================] - 1s 3ms/step\n",
      "157/157 [==============================] - 1s 3ms/step\n",
      "157/157 [==============================] - 1s 3ms/step\n",
      "157/157 [==============================] - 1s 3ms/step\n",
      "157/157 [==============================] - 1s 3ms/step\n",
      "157/157 [==============================] - 1s 3ms/step\n",
      "157/157 [==============================] - 1s 3ms/step\n"
     ]
    },
    {
     "data": {
      "text/plain": [
       "0.4888"
      ]
     },
     "execution_count": 33,
     "metadata": {},
     "output_type": "execute_result"
    }
   ],
   "source": [
    "tf.random.set_seed(42)\n",
    "\n",
    "y_pred = mc_dropout_predict_classes(mc_model, X_valid_scaled)\n",
    "accuracy = (y_pred == y_valid[:, 0]).mean()\n",
    "accuracy"
   ]
  },
  {
   "cell_type": "markdown",
   "id": "15f2ae45-7685-4562-9af9-d1957abcb8d9",
   "metadata": {},
   "source": [
    "8f. Retrain your model using 1cycle scheduling and see if it improves training speed and model accuracy."
   ]
  },
  {
   "cell_type": "code",
   "execution_count": 34,
   "id": "097457fe-d5c0-4277-ae3f-d6247ef4db71",
   "metadata": {},
   "outputs": [],
   "source": [
    "tf.random.set_seed(42)\n",
    "\n",
    "model = tf.keras.Sequential()\n",
    "model.add(tf.keras.layers.Flatten(input_shape=[32, 32, 3]))\n",
    "for _ in range(20):\n",
    "    model.add(tf.keras.layers.Dense(100,\n",
    "                                    kernel_initializer=\"lecun_normal\",\n",
    "                                    activation=\"selu\"))\n",
    "\n",
    "model.add(tf.keras.layers.AlphaDropout(rate=0.1))\n",
    "model.add(tf.keras.layers.Dense(10, activation=\"softmax\"))\n",
    "\n",
    "optimizer = tf.keras.optimizers.SGD()\n",
    "model.compile(loss=\"sparse_categorical_crossentropy\",\n",
    "              optimizer=optimizer,\n",
    "              metrics=[\"accuracy\"])"
   ]
  },
  {
   "cell_type": "markdown",
   "id": "83a14c9a-b66e-4588-9b02-5f674e5e43cb",
   "metadata": {},
   "source": [
    "The `find_learning_rate()` function trains the model using the `ExponentialLearningRate` callback, and it returns the learning rates and corresponding batch losses. At the end, it restores the model and its optimizer to their initial state."
   ]
  },
  {
   "cell_type": "code",
   "execution_count": 38,
   "id": "5fe6db9d-d9fc-45d1-988f-cf1aacc6034c",
   "metadata": {},
   "outputs": [],
   "source": [
    "import math\n",
    "def find_learning_rate(model, X, y, epochs=1, batch_size=32, min_rate=1e-4,\n",
    "                       max_rate=1):\n",
    "    init_weights = model.get_weights()\n",
    "    iterations = math.ceil(len(X) / batch_size) * epochs\n",
    "    factor = (max_rate / min_rate) ** (1 / iterations)\n",
    "    init_lr = K.get_value(model.optimizer.learning_rate)\n",
    "    K.set_value(model.optimizer.learning_rate, min_rate)\n",
    "    exp_lr = ExponentialLearningRate(factor)\n",
    "    history = model.fit(X, y, epochs=epochs, batch_size=batch_size,\n",
    "                        callbacks=[exp_lr])\n",
    "    K.set_value(model.optimizer.learning_rate, init_lr)\n",
    "    model.set_weights(init_weights)\n",
    "    return exp_lr.rates, exp_lr.losses"
   ]
  },
  {
   "cell_type": "markdown",
   "id": "90352972-21a5-489d-80cf-506d11b631b1",
   "metadata": {},
   "source": [
    "The `plot_lr_vs_loss()` function plots the learning rates vs the losses. The optimal learning rate to use as the maximum learning rate in 1cycle is near the bottom of the curve."
   ]
  },
  {
   "cell_type": "code",
   "execution_count": 40,
   "id": "0df42abb-6fcb-4cfa-a75f-d6cc006de800",
   "metadata": {},
   "outputs": [],
   "source": [
    "def plot_lr_vs_loss(rates, losses):\n",
    "    plt.plot(rates, losses, \"b\")\n",
    "    plt.gca().set_xscale('log')\n",
    "    max_loss = losses[0] + min(losses)\n",
    "    plt.hlines(min(losses), min(rates), max(rates), color=\"k\")\n",
    "    plt.axis([min(rates), max(rates), 0, max_loss])\n",
    "    plt.xlabel(\"Learning rate\")\n",
    "    plt.ylabel(\"Loss\")\n",
    "    plt.grid()"
   ]
  },
  {
   "cell_type": "code",
   "execution_count": 41,
   "id": "01b42d7b-7ef2-418b-b755-1ed521117e4c",
   "metadata": {},
   "outputs": [
    {
     "name": "stdout",
     "output_type": "stream",
     "text": [
      "352/352 [==============================] - 4s 11ms/step - loss: nan - accuracy: 0.1768\n"
     ]
    },
    {
     "data": {
      "image/png": "[encoded data removed]",
      "text/plain": [
       "<Figure size 640x480 with 1 Axes>"
      ]
     },
     "metadata": {},
     "output_type": "display_data"
    }
   ],
   "source": [
    "batch_size = 128\n",
    "rates, losses = find_learning_rate(model, X_train_scaled, y_train, epochs=1,\n",
    "                                   batch_size=batch_size)\n",
    "plot_lr_vs_loss(rates, losses)"
   ]
  },
  {
   "cell_type": "code",
   "execution_count": 42,
   "id": "9645839f-2701-4343-ba33-a15deea672f9",
   "metadata": {},
   "outputs": [],
   "source": [
    "tf.random.set_seed(42)\n",
    "\n",
    "model = tf.keras.Sequential()\n",
    "model.add(tf.keras.layers.Flatten(input_shape=[32, 32, 3]))\n",
    "for _ in range(20):\n",
    "    model.add(tf.keras.layers.Dense(100,\n",
    "                                 kernel_initializer=\"lecun_normal\",\n",
    "                                 activation=\"selu\"))\n",
    "\n",
    "model.add(tf.keras.layers.AlphaDropout(rate=0.1))\n",
    "model.add(tf.keras.layers.Dense(10, activation=\"softmax\"))\n",
    "\n",
    "optimizer = tf.keras.optimizers.SGD(learning_rate=2e-2)\n",
    "model.compile(loss=\"sparse_categorical_crossentropy\",\n",
    "              optimizer=optimizer,\n",
    "              metrics=[\"accuracy\"])"
   ]
  },
  {
   "cell_type": "markdown",
   "id": "bb8fb3ec-8f90-4551-a20c-eb130c692b1a",
   "metadata": {},
   "source": [
    "The `OneCycleScheduler` custom callback updates the learning rate at the beginning of each batch. It applies the logic described in the book: increase the learning rate linearly during about half of training, then reduce it linearly back to the initial learning rate, and lastly reduce it down to close to zero linearly for the very last part of training."
   ]
  },
  {
   "cell_type": "code",
   "execution_count": 44,
   "id": "872d2211-99ef-44f1-b57e-b55b29b79f3b",
   "metadata": {},
   "outputs": [],
   "source": [
    "class OneCycleScheduler(tf.keras.callbacks.Callback):\n",
    "    def __init__(self, iterations, max_lr=1e-3, start_lr=None,\n",
    "                 last_iterations=None, last_lr=None):\n",
    "        self.iterations = iterations\n",
    "        self.max_lr = max_lr\n",
    "        self.start_lr = start_lr or max_lr / 10\n",
    "        self.last_iterations = last_iterations or iterations // 10 + 1\n",
    "        self.half_iteration = (iterations - self.last_iterations) // 2\n",
    "        self.last_lr = last_lr or self.start_lr / 1000\n",
    "        self.iteration = 0\n",
    "\n",
    "    def _interpolate(self, iter1, iter2, lr1, lr2):\n",
    "        return (lr2 - lr1) * (self.iteration - iter1) / (iter2 - iter1) + lr1\n",
    "\n",
    "    def on_batch_begin(self, batch, logs):\n",
    "        if self.iteration < self.half_iteration:\n",
    "            lr = self._interpolate(0, self.half_iteration, self.start_lr,\n",
    "                                   self.max_lr)\n",
    "        elif self.iteration < 2 * self.half_iteration:\n",
    "            lr = self._interpolate(self.half_iteration, 2 * self.half_iteration,\n",
    "                                   self.max_lr, self.start_lr)\n",
    "        else:\n",
    "            lr = self._interpolate(2 * self.half_iteration, self.iterations,\n",
    "                                   self.start_lr, self.last_lr)\n",
    "        self.iteration += 1\n",
    "        K.set_value(self.model.optimizer.learning_rate, lr)"
   ]
  },
  {
   "cell_type": "code",
   "execution_count": 45,
   "id": "d55ec8fd-ff9f-476f-9992-4d7241396df5",
   "metadata": {},
   "outputs": [
    {
     "name": "stdout",
     "output_type": "stream",
     "text": [
      "Epoch 1/15\n",
      "352/352 [==============================] - 6s 12ms/step - loss: 2.0452 - accuracy: 0.2900 - val_loss: 1.7732 - val_accuracy: 0.3848\n",
      "Epoch 2/15\n",
      "352/352 [==============================] - 4s 11ms/step - loss: 1.7498 - accuracy: 0.3803 - val_loss: 1.6772 - val_accuracy: 0.4064\n",
      "Epoch 3/15\n",
      "352/352 [==============================] - 4s 11ms/step - loss: 1.6259 - accuracy: 0.4216 - val_loss: 1.6788 - val_accuracy: 0.4154\n",
      "Epoch 4/15\n",
      "352/352 [==============================] - 4s 11ms/step - loss: 1.5520 - accuracy: 0.4486 - val_loss: 1.6572 - val_accuracy: 0.4238\n",
      "Epoch 5/15\n",
      "352/352 [==============================] - 4s 11ms/step - loss: 1.5034 - accuracy: 0.4690 - val_loss: 1.6730 - val_accuracy: 0.4282\n",
      "Epoch 6/15\n",
      "352/352 [==============================] - 4s 11ms/step - loss: 1.4624 - accuracy: 0.4825 - val_loss: 1.5626 - val_accuracy: 0.4554\n",
      "Epoch 7/15\n",
      "352/352 [==============================] - 4s 12ms/step - loss: 1.4210 - accuracy: 0.4986 - val_loss: 1.6760 - val_accuracy: 0.4370\n",
      "Epoch 8/15\n",
      "352/352 [==============================] - 4s 11ms/step - loss: 1.3520 - accuracy: 0.5189 - val_loss: 1.5076 - val_accuracy: 0.4882\n",
      "Epoch 9/15\n",
      "352/352 [==============================] - 4s 11ms/step - loss: 1.2764 - accuracy: 0.5475 - val_loss: 1.5726 - val_accuracy: 0.4706\n",
      "Epoch 10/15\n",
      "352/352 [==============================] - 4s 12ms/step - loss: 1.2044 - accuracy: 0.5728 - val_loss: 1.5060 - val_accuracy: 0.4990\n",
      "Epoch 11/15\n",
      "352/352 [==============================] - 5s 14ms/step - loss: 1.1334 - accuracy: 0.5959 - val_loss: 1.5298 - val_accuracy: 0.5054\n",
      "Epoch 12/15\n",
      "352/352 [==============================] - 4s 11ms/step - loss: 1.0623 - accuracy: 0.6207 - val_loss: 1.5165 - val_accuracy: 0.5066\n",
      "Epoch 13/15\n",
      "352/352 [==============================] - 4s 11ms/step - loss: 0.9922 - accuracy: 0.6461 - val_loss: 1.5389 - val_accuracy: 0.5170\n",
      "Epoch 14/15\n",
      "352/352 [==============================] - 4s 12ms/step - loss: 0.9260 - accuracy: 0.6704 - val_loss: 1.5692 - val_accuracy: 0.5184\n",
      "Epoch 15/15\n",
      "352/352 [==============================] - 4s 11ms/step - loss: 0.8856 - accuracy: 0.6868 - val_loss: 1.5989 - val_accuracy: 0.5226\n"
     ]
    }
   ],
   "source": [
    "n_epochs = 15\n",
    "n_iterations = math.ceil(len(X_train_scaled) / batch_size) * n_epochs\n",
    "onecycle = OneCycleScheduler(n_iterations, max_lr=0.05)\n",
    "history = model.fit(X_train_scaled, y_train, epochs=n_epochs, batch_size=batch_size,\n",
    "                    validation_data=(X_valid_scaled, y_valid),\n",
    "                    callbacks=[onecycle])"
   ]
  },
  {
   "cell_type": "markdown",
   "id": "d3d47a9f-dd59-4cfa-943e-2476ccf2d132",
   "metadata": {},
   "source": [
    "One cycle allowed us to train the model in just 15 epochs, each taking only 2 seconds (thanks to the larger batch size). This is several times faster than the fastest model we trained so far. Moreover, we improved the model's performance (from 50.7% to 52.0%)."
   ]
  },
  {
   "cell_type": "code",
   "execution_count": null,
   "id": "1b1d6532-780d-4c72-ac2e-ccd9fef57441",
   "metadata": {},
   "outputs": [],
   "source": []
  }
 ],
 "metadata": {
  "kernelspec": {
   "display_name": "Python 3 (ipykernel)",
   "language": "python",
   "name": "python3"
  },
  "language_info": {
   "codemirror_mode": {
    "name": "ipython",
    "version": 3
   },
   "file_extension": ".py",
   "mimetype": "text/x-python",
   "name": "python",
   "nbconvert_exporter": "python",
   "pygments_lexer": "ipython3",
   "version": "3.11.5"
  }
 },
 "nbformat": 4,
 "nbformat_minor": 5
}
