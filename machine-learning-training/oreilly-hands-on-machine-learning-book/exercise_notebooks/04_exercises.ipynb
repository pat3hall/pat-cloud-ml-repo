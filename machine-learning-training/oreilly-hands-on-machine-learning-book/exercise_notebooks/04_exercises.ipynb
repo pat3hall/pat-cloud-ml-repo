{
 "cells": [
  {
   "cell_type": "markdown",
   "id": "28dc5f8f-e69c-44a8-b3a8-47ae0405e3fe",
   "metadata": {},
   "source": [
    "Chapter 4 Exercises:"
   ]
  },
  {
   "cell_type": "markdown",
   "id": "63f348bc-56ed-4582-b8e4-319b44ad6020",
   "metadata": {},
   "source": [
    "1. Which linear regression training algorithm can you use if you have a training set with millions of features?\n",
    "\n",
    "  based on table 4-1 (page 149): \n",
    "    Normal Equation and SVD are slow for \"large n\" (features) so they would not work with millions of features.\n",
    "    Normal Equation, SVD, and Batch GD do not have \"out of core support\" so they would not work with millions of features.\n",
    "    That leaves: Stochastic GD and Mini-batch GD.\n",
    "\n",
    "  1 book answer: If you have a training set with millions of features you can use Stochastic Gradient Descent or \n",
    "  Mini-batch Gradient Descent, and perhaps Batch Gradient Descent if the training set fits in memory. But you cannot \n",
    "  use the Normal Equation or the SVD approach because the computational complexity grows quickly (more than quadratically) \n",
    "  with the number of features."
   ]
  },
  {
   "cell_type": "markdown",
   "id": "8ddc0217-0f78-49b1-9ad9-489f893f931b",
   "metadata": {},
   "source": [
    "2. Suppose the features in your training set have very different scalses. Which algorithms migh suffer from this and how?\n",
    "   What can you do about it? \n",
    "\n",
    "  page 141: While the cost function has the shape of a bowl, it can be an elongated bowl if the features \n",
    "  have different scale. ... [the elongated bowl] It will eventually reach the minimum, but it will take a long time\n",
    "\n",
    "  The note on page 141 states: \"When using gradient descent, you should ensure that all features have\n",
    "  similar scale (e.g. using Scikit-Learns StandardScaler class) or else it will take much longer to\n",
    "  converge.\"\n",
    "\n",
    "  The note on page 156 states: \"It is important to scale the data (e.g. using StandardScaler) before preforming\n",
    "  ridge regression, as it is sensitive to the scale of the input features. This is true of most regularized\n",
    "  models\n",
    "  -> thus, input scaling should also be used with LASSO Regression, Elastic Net Regression, and LogisticRegression\n",
    "\n",
    "\n",
    "  2 book answer: If the features in your training set have very different scales, the cost function will have \n",
    "  the shape of an elongated bowl, so the Gradient Descent algorithms will take a long time to converge. To solve \n",
    "  this you should scale the data before training the model. Note that the Normal Equation or SVD approach will work \n",
    "  just fine without scaling. Moreover, regularized models may converge to a suboptimal solution if the features \n",
    "  are not scaled: since regularization penalizes large weights, features with smaller values will tend to be \n",
    "  ignored compared to features with larger values."
   ]
  },
  {
   "cell_type": "markdown",
   "id": "e51b9f72-450d-4ddc-bb51-62a11bc2dba3",
   "metadata": {},
   "source": [
    "3. Can gradient descent algorithms get stuck in a local minimum when training a logistic regression model?\n",
    "\n",
    "   -> No, because the MSE cost fucntion is a 'convex function'\n",
    "\n",
    "   page 141: Fortunately, the MSE cost function for linear regression model [e.g. gradient descent] happens \n",
    "   to be a 'convex function' which means that if you pick any two points on the cureve, the segment joining \n",
    "   them is never below the curve.  This implies that here are no local minima , just a global minimum.\n",
    "\n",
    "   page 166: But the good news is that this [logistic regression] cost function [log loss] is convex, so gradient\n",
    "   descent (or any other algorithm is guaranteed to find the global minimum (if the learning rate is not too\n",
    "   large and you wait long enough).\n",
    "\n",
    "  3 book answer: Gradient Descent cannot get stuck in a local minimum when training a Logistic Regression model because \n",
    "  the cost function is convex. _Convex_ means that if you draw a straight line between any two points on the curve, \n",
    "  the line never crosses the curve."
   ]
  },
  {
   "cell_type": "markdown",
   "id": "8a724ecd-b261-4fba-8310-559a7e961819",
   "metadata": {},
   "source": [
    "4. Do all gradient descent algorithms lead to ths same model, provide you let them run long enough?\n",
    "\n",
    "  page 144: [referencing figure 4-8] On the right, the learning rate is too high: the algorithm diverages, jumping\n",
    "  all overthe place and actually getting further and further away from the solution at every step.\n",
    "\n",
    "  page 145: [referencing stochastic Gradient Descent] Over time it will end of very close to the minimum, but\n",
    "  once it gets there it will continue to bounce around never settling down (see Figure 4-9). Once the algorithm\n",
    "  stops, the final parameter values will be good, but not optimal.\n",
    "\n",
    "  page 148: The [mini-batch GD] algorithm's progress in parameter space is less erratic that with stochastic GD\n",
    "  especially with fairly large mini-batches. As a result, mini-batch GD will end up walking a bit closer to the\n",
    "  minimum that stochastic GD - but it may be harder for it to escape from local minima (in the case of problems\n",
    "  that suffer from local minima, unlike linear regression with the MSE cost function).\n",
    "\n",
    "  4 book answer: If the optimization problem is convex (such as Linear Regression or Logistic Regression), and \n",
    "  assuming the learning rate is not too high, then all Gradient Descent algorithms will approach the global optimum \n",
    "  and end up producing fairly similar models. However, unless you gradually reduce the learning rate, Stochastic GD \n",
    "  and Mini-batch GD will never truly converge; instead, they will keep jumping back and forth around the global optimum. \n",
    "  This means that even if you let them run for a very long time, these Gradient Descent algorithms will produce \n",
    "  slightly different models."
   ]
  },
  {
   "cell_type": "markdown",
   "id": "df22af82-7fb3-40e0-8f7b-d517cfe87f49",
   "metadata": {},
   "source": [
    "5. Suppose you use batch gradient descent and you plot the validation error at every epoch. If you notice\n",
    "   that the validation error consistently goes up, what is likely going on? How can you fix it?\n",
    "\n",
    "  page 144: [referencing figure 4-8] On the right, the learning rate is too high: the algorithm diverages, jumping\n",
    "  all overthe place and actually getting further and further away from the solution at every step.\n",
    "  -> if learning rate is too high, reduce the learning rate\n",
    "\n",
    "  page 154: There is gap between the [validation error and training error] curves [in figure 4-16]. This means\n",
    "  the model performs signficantly better on the validation data which is the hallmark of 'overfitting model'.\n",
    "\n",
    "  5 book answer: If the validation error consistently goes up after every epoch, then one possibility is that the \n",
    "  learning rate is too high and the algorithm is diverging. If the training error also goes up, then this is clearly \n",
    "  the problem and you should reduce the learning rate. However, if the training error is not going up, then your \n",
    "  model is overfitting the training set and you should stop training."
   ]
  },
  {
   "cell_type": "markdown",
   "id": "ccbb1a5f-1e1f-4197-9d27-862eb250ee1f",
   "metadata": {},
   "source": [
    "6. Is it a good idea to stop minibatch gradient descent immediately when the validation error goes up?\n",
    "\n",
    "   -> No, it may be bouncing around early on\n",
    "\n",
    "  6 book answer: Due to their random nature, neither Stochastic Gradient Descent nor Mini-batch Gradient Descent \n",
    "  is guaranteed to make progress at every single training iteration. So if you immediately stop training when the \n",
    "  validation error goes up, you may stop much too early, before the optimum is reached. A better option is to save \n",
    "  the model at regular intervals; then, when it has not improved for a long time (meaning it will probably never \n",
    "  beat the record), you can revert to the best saved model."
   ]
  },
  {
   "cell_type": "markdown",
   "id": "fa57b336-a6a0-4a73-8e05-309be62d72fb",
   "metadata": {},
   "source": [
    "7. Which gradient descent algorighm (among those we discussed) will reach the vicinitiy of the optimal solution the \n",
    "   fastest? Which will actually converge? How can you make the others converge as well?\n",
    "\n",
    "   -> Stochistic GD will reach the vicinity of the optimal solution the fastest because it only calcuates on\n",
    "   one instance at a time, but it will be a less optimal solution. With small mini-batch size, the mini-batch\n",
    "   may provide similar performance.\n",
    "\n",
    "  7 book answer: Stochastic Gradient Descent has the fastest training iteration since it considers only one training \n",
    "  instance at a time, so it is generally the first to reach the vicinity of the global optimum (or Mini-batch GD with \n",
    "  a very small mini-batch size). However, only Batch Gradient Descent will actually converge, given enough training time. \n",
    "  As mentioned, Stochastic GD and Mini-batch GD will bounce around the optimum, unless you gradually reduce the learning rate."
   ]
  },
  {
   "cell_type": "markdown",
   "id": "a66ec0ef-cbe9-4922-bd07-35f17790c057",
   "metadata": {},
   "source": [
    "8. Suppose you are using Polynomial regressions. You plot the learning curves and you notice a large gap between\n",
    "   the training error and the validation error. What is happening? What are three ways to solve this?\n",
    "\n",
    "  page 154: There is gap between the [validation error and training error] curves [in figure 4-16]. This means\n",
    "  the model performs signficantly better on the validation data which is the hallmark of 'overfitting model'.\n",
    "\n",
    "  page 152: This high degree polynomial regression model is severely overfitting the training data while\n",
    "  the linear model is underfitting it.\n",
    "\n",
    "  -> The polynomial model degrees does fit the data. If it overfitting, then polynomial number of degrees needs\n",
    "  to be reduced.\n",
    "\n",
    "  page 156: Ridge regression (. . .) is regularized version of linear regression: a regulation term equal to\n",
    "  [l2 equation shown] is added to the MSE. This forces the learning algorithm to not fit the data but also keep \n",
    "  the model weightsas small as possible. Note that the regularization term should only be added to the cost \n",
    "  function during training.\n",
    "\n",
    "  page 158: Least Absolute shrinkage and selection operator regression (usually simply called LASSO regression)\n",
    "  is another regularization term to the cost function, but it uses the l1 norm of the weight vector instead\n",
    "  of the l2 norm.\n",
    "\n",
    "  8 book answer: If the validation error is much higher than the training error, this is likely because your model \n",
    "  is overfitting the training set. One way to try to fix this is to reduce the polynomial degree: a model with fewer \n",
    "  degrees of freedom is less likely to overfit. Another thing you can try is to regularize the model-for example, by \n",
    "  adding an l2 penalty (Ridge) or an l1 penalty (Lasso) to the cost function. This will also reduce the degrees of \n",
    "  freedom of the model. Lastly, you can try to increase the size of the training set."
   ]
  },
  {
   "cell_type": "markdown",
   "id": "e77148fe-ddde-4346-a56c-69bb1789883b",
   "metadata": {},
   "source": [
    "9. Suppose you are using ridge regression and you notice that the training error and the validation error are \n",
    "   almost equal and fairly high. Would you say tha the model suffers from high bias or high variance? Should \n",
    "   you increase the regularization hyperparameter 'alpha' or reduce it?\n",
    "\n",
    "   -> Fairly equal and high training and validation error indicates unfitting the data which is \n",
    "      normally due to high bias. With Ridge Regression, you would reduce bias by increasing the 'alpha'. \n",
    "      (this conflicts with the book answer but note the book quotes)\n",
    "\n",
    "   page 154: The learning curves are typical of a model that's underfitting. Both [validation errors &\n",
    "   training errors] curves have reached a plaateau; they are close and fairly high.\n",
    "\n",
    "   page 154: If your model is underfitting the training data, adding more training examples will not help. \n",
    "   You need to use a better model or come up with better features.\n",
    "\n",
    "   page 155:\n",
    "   Bias: \n",
    "     This part of the generalization error is due to wrong assumptions, such as assuming that the data is linear\n",
    "     when it is acutally quadradtic. A 'high-bias' model is most likely to underfit the training data.\n",
    "   Variance:\n",
    "     This part is due to the model's excessive sensitivity to small variation in the training data. A model with\n",
    "     with many degrees of freedom (such as a high-degree polynomial model) is likely to have high variance and \n",
    "     thus overfit the training data.\n",
    "   Irreduciblw error:\n",
    "     This part is due to the noiseness of the data itself. The only way to reduce this part of the error is \n",
    "     to clean up the data (e.g. fix the data sources, such as broken sensors, or detect and remove outliers\n",
    "\n",
    "   page 157: Note how increaing [ridge regression] 'alpha' leads to flatter (i.e. less extreme, more reasonable\n",
    "   predictions, thus reducing the model's variance, but increasing it its bias.\n",
    "\n",
    "   9 book answer:  If both the training error and the validation error are almost equal and fairly high, the \n",
    "   model is likely underfitting the training set, which means it has a high bias. You should try reducing \n",
    "   the regularization hyperparameter 'alpha'."
   ]
  },
  {
   "cell_type": "markdown",
   "id": "805a0758-8c23-44d2-a450-46198f8c5f55",
   "metadata": {},
   "source": [
    "10. Why would your want to use:\n",
    "  a. Ridge regression instead plan linear regression (i.e. without any regularization)?\n",
    "  b. Lasso instead of ridge regression.?\n",
    "  c. Elastic net instead of lasso regression?\n",
    "\n",
    "  -> Generally, Use Ridge Regression instead of plan linear regression since it is almost always preferable \n",
    "     to have at least a little bit of regularization, \n",
    "  -> Use Lasso (or net elastic) instead of ridge regression when only a few features are userful, because they \n",
    "     tend to reduce the useless features weights down to zero.\n",
    "  -> In general, 'elastic net' is preferred over 'lasso' because lasso may behave erractically when the number \n",
    "     of features is greater than the number of training instances or when several features are strongly correlated.\n",
    "\n",
    "  page 156: Ridge regression (. . .) is regularized version of linear regression: a regulation term equal to\n",
    "  [l2 equation shown] is added to the MSE. This forces the learning algorithm to not fit the data but also keep \n",
    "  the model weightsas small as possible. Note that the regularization term should only be added to the cost \n",
    "  function during training.\n",
    "\n",
    "  page 158: Least Absolute shrinkage and selection operator regression (usually simply called LASSO regression)\n",
    "  is another regularization term to the cost function, but it uses the l1 norm of the weight vector instead\n",
    "  of the l2 norm.\n",
    "\n",
    "  page 159: An important characteristc of lasso regression is the it tends toe eliminate the weights of the \n",
    "  least import features (i.e. set them to zero). . . . In other words, lasso regression automatically performs \n",
    "  feature selection and outputs a sparse model with few nonzero feature weights\n",
    "\n",
    "  page 161: Elastic regression is the middle ground between ridge regression and lasso regression. The \n",
    "  regularization is a weighted sum of both ridge and lasso's regularization terms, and you can control the \n",
    "  mix ratio 'r'. When r = 0, elastic net is equivalent to ridge regression, and when r = 1, it is equivalent \n",
    "  to lasso regression.\n",
    "\n",
    "  page 161 - 162: So when should you use elastic net regression, or ridge, or lasso, or plan linear regression \n",
    "  (i.e. without any regularization)? It is almost always preferable to have at least a little bit of regularization, \n",
    "  so generally you should avoid plain linear regression. 'Ridge regression' is a good default, but if you suspect\n",
    "  that only a few features are userful, you should prefer lasso or elastic net because they tend to reduce the\n",
    "  useless features weights down to zero, as discussed earlier. In general, 'elastic net' is preferred over\n",
    "  'lasso' because lasso may behave erractically when the number of features is greater than the number of \n",
    "  training instances or when several features are strongly correlated.\n",
    "\n",
    "  10 book answers: Let's see:\n",
    "     * A model with some regularization typically performs better than a model without any regularization, so you \n",
    "       should generally prefer Ridge Regression over plain Linear Regression.\n",
    "     * Lasso Regression uses an l1 penalty, which tends to push the weights down to exactly zero. This leads to \n",
    "       sparse models, where all weights are zero except for the most important weights. This is a way to perform \n",
    "       feature selection automatically, which is good if you suspect that only a few features actually matter. \n",
    "       When you are not sure, you should prefer Ridge Regression.\n",
    "     * Elastic Net is generally preferred over Lasso since Lasso may behave erratically in some cases (when several \n",
    "       features are strongly correlated or when there are more features than training instances). However, it does \n",
    "       add an extra hyperparameter to tune. If you want Lasso without the erratic behavior, you can just use \n",
    "       Elastic Net with an `l1_ratio` close to 1."
   ]
  },
  {
   "cell_type": "markdown",
   "id": "bb581bb8-133c-4a6d-a31c-79253c1c3853",
   "metadata": {},
   "source": [
    "11. Suppose you want to classify pictures as outdoor/indoor and daytime/nightime. Should you implement two logistic\n",
    "    regression classifiers or one softmax regression classifier?\n",
    "    \n",
    "   -> You should implement two logistic regression classifiers because softmax regression classifier predicts\n",
    "      one class at a time, and the pictures could be two classes (e.g. outdoor and daytime)\n",
    "\n",
    "   page 170: The logistic regression model can be generalized to support multiple classes directly without having\n",
    "   to train and combine multiple binary classifiers (as discussed in Chapter 3). This is called softmax regression\n",
    "   or multinominal logistic regression.\n",
    "\n",
    "   The idea is simple: when give an instance 'x', the softmax regression first computes a score sk(x) for each \n",
    "   class 'k', then estimates the probability of each class by applying softmax function (also called normalized\n",
    "   exponential) to the scores.\n",
    "\n",
    "   page 171: The softmax regression classifier predicts only one class at a time (i.e. it is multiclass, not \n",
    "   multioutput) so it should be used only with mutually exclusive classes, such as different species of plants.\n",
    "   You cannot use it to recognize multiple people in one picture.\n",
    "\n",
    "\n",
    "  11 book answer: If you want to classify pictures as outdoor/indoor and daytime/nighttime, since these are not \n",
    "  exclusive classes (i.e., all four combinations are possible) you should train two Logistic Regression classifiers."
   ]
  },
  {
   "cell_type": "markdown",
   "id": "0f9ae372-7fa1-4444-906f-356b78ee8b68",
   "metadata": {},
   "source": [
    "12. Implement batch gradient descent with early stopping for a softmax regression without using SciKit-Learn, \n",
    "    only NumnPY. Use it on a classification task such as the iris dataset."
   ]
  },
  {
   "cell_type": "code",
   "execution_count": 21,
   "id": "4c4f56ad-8f8e-47db-b2c8-97972dd41e7a",
   "metadata": {},
   "outputs": [
    {
     "data": {
      "text/plain": [
       "['data',\n",
       " 'target',\n",
       " 'frame',\n",
       " 'target_names',\n",
       " 'DESCR',\n",
       " 'feature_names',\n",
       " 'filename',\n",
       " 'data_module']"
      ]
     },
     "execution_count": 21,
     "metadata": {},
     "output_type": "execute_result"
    }
   ],
   "source": [
    "from sklearn.datasets import load_iris\n",
    "\n",
    "iris = load_iris(as_frame=True)\n",
    "list(iris)"
   ]
  },
  {
   "cell_type": "code",
   "execution_count": 22,
   "id": "77bd8b6e-7474-4953-9327-df66126e1d8d",
   "metadata": {},
   "outputs": [
    {
     "name": "stdout",
     "output_type": "stream",
     "text": [
      ".. _iris_dataset:\n",
      "\n",
      "Iris plants dataset\n",
      "--------------------\n",
      "\n",
      "**Data Set Characteristics:**\n",
      "\n",
      "    :Number of Instances: 150 (50 in each of three classes)\n",
      "    :Number of Attributes: 4 numeric, predictive attributes and the class\n",
      "    :Attribute Information:\n",
      "        - sepal length in cm\n",
      "        - sepal width in cm\n",
      "        - petal length in cm\n",
      "        - petal width in cm\n",
      "        - class:\n",
      "                - Iris-Setosa\n",
      "                - Iris-Versicolour\n",
      "                - Iris-Virginica\n",
      "                \n",
      "    :Summary Statistics:\n",
      "\n",
      "    ============== ==== ==== ======= ===== ====================\n",
      "                    Min  Max   Mean    SD   Class Correlation\n",
      "    ============== ==== ==== ======= ===== ====================\n",
      "    sepal length:   4.3  7.9   5.84   0.83    0.7826\n",
      "    sepal width:    2.0  4.4   3.05   0.43   -0.4194\n",
      "    petal length:   1.0  6.9   3.76   1.76    0.9490  (high!)\n",
      "    petal width:    0.1  2.5   1.20   0.76    0.9565  (high!)\n",
      "    ============== ==== ==== ======= ===== ====================\n",
      "\n",
      "    :Missing Attribute Values: None\n",
      "    :Class Distribution: 33.3% for each of 3 classes.\n",
      "    :Creator: R.A. Fisher\n",
      "    :Donor: Michael Marshall (MARSHALL%PLU@io.arc.nasa.gov)\n",
      "    :Date: July, 1988\n",
      "\n",
      "The famous Iris database, first used by Sir R.A. Fisher. The dataset is taken\n",
      "from Fisher's paper. Note that it's the same as in R, but not as in the UCI\n",
      "Machine Learning Repository, which has two wrong data points.\n",
      "\n",
      "This is perhaps the best known database to be found in the\n",
      "pattern recognition literature.  Fisher's paper is a classic in the field and\n",
      "is referenced frequently to this day.  (See Duda & Hart, for example.)  The\n",
      "data set contains 3 classes of 50 instances each, where each class refers to a\n",
      "type of iris plant.  One class is linearly separable from the other 2; the\n",
      "latter are NOT linearly separable from each other.\n",
      "\n",
      ".. topic:: References\n",
      "\n",
      "   - Fisher, R.A. \"The use of multiple measurements in taxonomic problems\"\n",
      "     Annual Eugenics, 7, Part II, 179-188 (1936); also in \"Contributions to\n",
      "     Mathematical Statistics\" (John Wiley, NY, 1950).\n",
      "   - Duda, R.O., & Hart, P.E. (1973) Pattern Classification and Scene Analysis.\n",
      "     (Q327.D83) John Wiley & Sons.  ISBN 0-471-22361-1.  See page 218.\n",
      "   - Dasarathy, B.V. (1980) \"Nosing Around the Neighborhood: A New System\n",
      "     Structure and Classification Rule for Recognition in Partially Exposed\n",
      "     Environments\".  IEEE Transactions on Pattern Analysis and Machine\n",
      "     Intelligence, Vol. PAMI-2, No. 1, 67-71.\n",
      "   - Gates, G.W. (1972) \"The Reduced Nearest Neighbor Rule\".  IEEE Transactions\n",
      "     on Information Theory, May 1972, 431-433.\n",
      "   - See also: 1988 MLC Proceedings, 54-64.  Cheeseman et al\"s AUTOCLASS II\n",
      "     conceptual clustering system finds 3 classes in the data.\n",
      "   - Many, many more ...\n"
     ]
    }
   ],
   "source": [
    "print(iris.DESCR)  # extra code – it's a bit too long"
   ]
  },
  {
   "cell_type": "code",
   "execution_count": 23,
   "id": "36f64a80-1607-4025-9421-14b5c7b48697",
   "metadata": {},
   "outputs": [
    {
     "data": {
      "text/html": [
       "<div>\n",
       "<style scoped>\n",
       "    .dataframe tbody tr th:only-of-type {\n",
       "        vertical-align: middle;\n",
       "    }\n",
       "\n",
       "    .dataframe tbody tr th {\n",
       "        vertical-align: top;\n",
       "    }\n",
       "\n",
       "    .dataframe thead th {\n",
       "        text-align: right;\n",
       "    }\n",
       "</style>\n",
       "<table border=\"1\" class=\"dataframe\">\n",
       "  <thead>\n",
       "    <tr style=\"text-align: right;\">\n",
       "      <th></th>\n",
       "      <th>sepal length (cm)</th>\n",
       "      <th>sepal width (cm)</th>\n",
       "      <th>petal length (cm)</th>\n",
       "      <th>petal width (cm)</th>\n",
       "    </tr>\n",
       "  </thead>\n",
       "  <tbody>\n",
       "    <tr>\n",
       "      <th>0</th>\n",
       "      <td>5.1</td>\n",
       "      <td>3.5</td>\n",
       "      <td>1.4</td>\n",
       "      <td>0.2</td>\n",
       "    </tr>\n",
       "    <tr>\n",
       "      <th>1</th>\n",
       "      <td>4.9</td>\n",
       "      <td>3.0</td>\n",
       "      <td>1.4</td>\n",
       "      <td>0.2</td>\n",
       "    </tr>\n",
       "    <tr>\n",
       "      <th>2</th>\n",
       "      <td>4.7</td>\n",
       "      <td>3.2</td>\n",
       "      <td>1.3</td>\n",
       "      <td>0.2</td>\n",
       "    </tr>\n",
       "  </tbody>\n",
       "</table>\n",
       "</div>"
      ],
      "text/plain": [
       "   sepal length (cm)  sepal width (cm)  petal length (cm)  petal width (cm)\n",
       "0                5.1               3.5                1.4               0.2\n",
       "1                4.9               3.0                1.4               0.2\n",
       "2                4.7               3.2                1.3               0.2"
      ]
     },
     "execution_count": 23,
     "metadata": {},
     "output_type": "execute_result"
    }
   ],
   "source": [
    "iris.data.head(3)"
   ]
  },
  {
   "cell_type": "code",
   "execution_count": 24,
   "id": "5eeb5811-341d-45e0-b7f7-d58863e41719",
   "metadata": {},
   "outputs": [
    {
     "data": {
      "text/plain": [
       "array(['setosa', 'versicolor', 'virginica'], dtype='<U10')"
      ]
     },
     "execution_count": 24,
     "metadata": {},
     "output_type": "execute_result"
    }
   ],
   "source": [
    "iris.target_names"
   ]
  },
  {
   "cell_type": "markdown",
   "id": "d3b67ac1-b34a-4897-bb27-6f3d7b11f679",
   "metadata": {},
   "source": [
    "Let's start by loading the data. "
   ]
  },
  {
   "cell_type": "code",
   "execution_count": 25,
   "id": "ff7178ef-16a4-409a-af85-6fbae9874bd9",
   "metadata": {},
   "outputs": [],
   "source": [
    "X = iris.data[[\"petal length (cm)\", \"petal width (cm)\"]].values\n",
    "y = iris[\"target\"].values"
   ]
  },
  {
   "cell_type": "markdown",
   "id": "7ee406e2-e2a0-46d3-9fbf-a8bbfec57d20",
   "metadata": {},
   "source": [
    "We need to add the bias term for every instance ($x_0 = 1$). The easiest option to do this would be to use Scikit-Learn's `add_dummy_feature()` function, but the point of this exercise is to get a better understanding of the algorithms by implementing them manually. So here is one possible implementation:"
   ]
  },
  {
   "cell_type": "code",
   "execution_count": 26,
   "id": "d80ef16b-9fda-4653-a11b-dce0ddacd98b",
   "metadata": {},
   "outputs": [],
   "source": [
    "import numpy as np\n",
    "X_with_bias = np.c_[np.ones(len(X)), X]"
   ]
  },
  {
   "cell_type": "markdown",
   "id": "d6d4daff-d16e-458c-a1da-013ad5978bd2",
   "metadata": {},
   "source": [
    "The easiest option to split the dataset into a training set, a validation set and a test set would be to use Scikit-Learn's train_test_split() function, but again, we want to do it manually:"
   ]
  },
  {
   "cell_type": "code",
   "execution_count": 27,
   "id": "e7d07d80-8b10-4f7c-9272-436756396222",
   "metadata": {},
   "outputs": [
    {
     "name": "stdout",
     "output_type": "stream",
     "text": [
      "test_size: 30   validation_size: 30    train_size: 90\n"
     ]
    }
   ],
   "source": [
    "test_ratio = 0.2\n",
    "validation_ratio = 0.2\n",
    "total_size = len(X_with_bias)\n",
    "\n",
    "test_size = int(total_size * test_ratio)\n",
    "validation_size = int(total_size * validation_ratio)\n",
    "train_size = total_size - test_size - validation_size\n",
    "print(f'test_size: {test_size}   validation_size: {validation_size}    train_size: {train_size}')\n",
    "\n",
    "np.random.seed(42)\n",
    "rnd_indices = np.random.permutation(total_size)\n",
    "\n",
    "X_train = X_with_bias[rnd_indices[:train_size]]\n",
    "y_train = y[rnd_indices[:train_size]]\n",
    "X_valid = X_with_bias[rnd_indices[train_size:-test_size]]\n",
    "y_valid = y[rnd_indices[train_size:-test_size]]\n",
    "X_test = X_with_bias[rnd_indices[-test_size:]]\n",
    "y_test = y[rnd_indices[-test_size:]]"
   ]
  },
  {
   "cell_type": "markdown",
   "id": "7a4427a2-83d8-4684-ac40-7a2429b4bd04",
   "metadata": {},
   "source": [
    "numpy.random.permutation\n",
    "random.permutation(x)\n",
    "\n",
    "Randomly permute a sequence, or return a permuted range."
   ]
  },
  {
   "cell_type": "markdown",
   "id": "b0f6844f-f96d-4370-8ec2-3b412f344b60",
   "metadata": {},
   "source": [
    "The targets are currently class indices (0, 1 or 2), but we need target class probabilities to train the Softmax Regression model. Each instance will have target class probabilities equal to 0.0 for all classes except for the target class which will have a probability of 1.0 (in other words, the vector of class probabilities for any given instance is a one-hot vector). Let's write a small function to convert the vector of class indices into a matrix containing a one-hot vector for each instance. To understand this code, you need to know that np.diag(np.ones(n)) creates an n×n matrix full of 0s except for 1s on the main diagonal. Moreover, if 'a' is a NumPy array, then a[[1, 3, 2]] returns an array with 3 rows equal to a[1], a[3] and a[2] (this is advanced NumPy indexing)."
   ]
  },
  {
   "cell_type": "code",
   "execution_count": 28,
   "id": "5b311ebd-8835-40f0-9adb-a730f3eea974",
   "metadata": {},
   "outputs": [],
   "source": [
    "def to_one_hot(y):\n",
    "    return np.diag(np.ones(y.max() + 1))[y]"
   ]
  },
  {
   "cell_type": "markdown",
   "id": "39f6ec14-c0b9-4bd9-9a0a-48048545a819",
   "metadata": {},
   "source": [
    "Let's test this function on the first 10 instances:"
   ]
  },
  {
   "cell_type": "code",
   "execution_count": 29,
   "id": "cfe123bb-2d39-4c35-93cc-ef2c1e9d21a2",
   "metadata": {},
   "outputs": [
    {
     "data": {
      "text/plain": [
       "array([1, 0, 2, 1, 1, 0, 1, 2, 1, 1])"
      ]
     },
     "execution_count": 29,
     "metadata": {},
     "output_type": "execute_result"
    }
   ],
   "source": [
    "y_train[:10]"
   ]
  },
  {
   "cell_type": "code",
   "execution_count": 30,
   "id": "ab6501aa-9109-472a-bafe-4979df994592",
   "metadata": {},
   "outputs": [
    {
     "data": {
      "text/plain": [
       "array([[0., 1., 0.],\n",
       "       [1., 0., 0.],\n",
       "       [0., 0., 1.],\n",
       "       [0., 1., 0.],\n",
       "       [0., 1., 0.],\n",
       "       [1., 0., 0.],\n",
       "       [0., 1., 0.],\n",
       "       [0., 0., 1.],\n",
       "       [0., 1., 0.],\n",
       "       [0., 1., 0.]])"
      ]
     },
     "execution_count": 30,
     "metadata": {},
     "output_type": "execute_result"
    }
   ],
   "source": [
    "to_one_hot(y_train[:10])"
   ]
  },
  {
   "cell_type": "code",
   "execution_count": 31,
   "id": "a30495d8-8a92-4c67-a9c3-45f13d4761ff",
   "metadata": {},
   "outputs": [
    {
     "data": {
      "text/plain": [
       "array([[1., 0., 0.],\n",
       "       [0., 1., 0.],\n",
       "       [0., 0., 1.]])"
      ]
     },
     "execution_count": 31,
     "metadata": {},
     "output_type": "execute_result"
    }
   ],
   "source": [
    "exarr = np.diag(np.ones(y_train.max() + 1))\n",
    "#exarr[y_train[:10]]\n",
    "exarr"
   ]
  },
  {
   "cell_type": "markdown",
   "id": "e0c19bf8-2682-4eef-876c-1316a3e8a6a5",
   "metadata": {},
   "source": [
    "Looks good, so let's create the target class probabilities matrix for the training set and the test set:"
   ]
  },
  {
   "cell_type": "code",
   "execution_count": 32,
   "id": "1c08bd98-d6c8-46e9-9765-0e81ab590ecc",
   "metadata": {},
   "outputs": [],
   "source": [
    "Y_train_one_hot = to_one_hot(y_train)\n",
    "Y_valid_one_hot = to_one_hot(y_valid)\n",
    "Y_test_one_hot = to_one_hot(y_test)"
   ]
  },
  {
   "cell_type": "markdown",
   "id": "2cb62a16-edd9-4812-b173-9528ec1bb2e4",
   "metadata": {},
   "source": [
    "Now let's scale the inputs. We compute the mean and standard deviation of each feature on the training set (except for the bias feature), then we center and scale each feature in the training set, the validation set, and the test set:"
   ]
  },
  {
   "cell_type": "code",
   "execution_count": 33,
   "id": "da71bd12-8266-47a1-82b1-958e0e86971e",
   "metadata": {},
   "outputs": [],
   "source": [
    "mean = X_train[:, 1:].mean(axis=0)\n",
    "std = X_train[:, 1:].std(axis=0)\n",
    "X_train[:, 1:] = (X_train[:, 1:] - mean) / std\n",
    "X_valid[:, 1:] = (X_valid[:, 1:] - mean) / std\n",
    "X_test[:, 1:] = (X_test[:, 1:] - mean) / std"
   ]
  },
  {
   "cell_type": "markdown",
   "id": "8e020b40-ef2b-4be7-9292-7fb07eda4350",
   "metadata": {},
   "source": [
    "Now let's implement the Softmax function. Recall that it is defined by the following equation:\n",
    "\n",
    "σ(s(x))κ = exp(sκ(x)) / Σ exp (sj(x))"
   ]
  },
  {
   "cell_type": "code",
   "execution_count": 34,
   "id": "b2a2ccdd-e4a6-4dc9-97b5-ec6fde196484",
   "metadata": {},
   "outputs": [],
   "source": [
    "def softmax(logits):\n",
    "    exps = np.exp(logits)\n",
    "    exp_sums = exps.sum(axis=1, keepdims=True)\n",
    "    return exps / exp_sums"
   ]
  },
  {
   "cell_type": "markdown",
   "id": "a2c2de1e-a712-4323-aa97-34238ae96f93",
   "metadata": {},
   "source": [
    "We are almost ready to start training. Let's define the number of inputs and outputs:"
   ]
  },
  {
   "cell_type": "code",
   "execution_count": 35,
   "id": "d5ef04f9-c43c-45ad-a702-77411b939f92",
   "metadata": {},
   "outputs": [
    {
     "name": "stdout",
     "output_type": "stream",
     "text": [
      "n_inputs: 3   n_outputs: 3\n"
     ]
    }
   ],
   "source": [
    "n_inputs = X_train.shape[1]  # == 3 (2 features plus the bias term)\n",
    "n_outputs = len(np.unique(y_train))  # == 3 (there are 3 iris classes)\n",
    "print(f'n_inputs: {n_inputs}   n_outputs: {n_outputs}')"
   ]
  },
  {
   "cell_type": "markdown",
   "id": "67892c8b-3efa-490b-80d7-0bfc34bb46d8",
   "metadata": {},
   "source": [
    "Now here comes the hardest part: training! Theoretically, it's simple: it's just a matter of translating the math equations into Python code. But in practice, it can be quite tricky: in particular, it's easy to mix up the order of the terms, or the indices. You can even end up with code that looks like it's working but is actually not computing exactly the right thing. When unsure, you should write down the shape of each term in the equation and make sure the corresponding terms in your code match closely. It can also help to evaluate each term independently and print them out. The good news it that you won't have to do this everyday, since all this is well implemented by Scikit-Learn, but it will help you understand what's going on under the hood.\n",
    "\n",
    "So the equations we will need are the cost function:\n",
    "\n",
    "J(Θ) = (1/m) Σ Σ yk(i) log(pcapk(i))\n",
    "\n",
    "And the equation for the gradients:\n",
    "\n",
    "Δθ(k) J(Θ) = (1/m) Σ (pcapk(i) - yk(i))xi\n",
    "\n",
    "Note that log (pcapk(i)) may not be computable if pcapk(i) = 0.  So we will add a tiny value to avoid getting 'nan' values."
   ]
  },
  {
   "cell_type": "code",
   "execution_count": 50,
   "id": "da3b700b-98f3-4e60-844e-c2ef415f2460",
   "metadata": {},
   "outputs": [
    {
     "name": "stdout",
     "output_type": "stream",
     "text": [
      "0 3.7085808486476917\n",
      "1000 0.1451936748083065\n",
      "2000 0.1301309575504088\n",
      "3000 0.12009639326384533\n",
      "4000 0.11372961364786881\n",
      "5000 0.11002459532472425\n"
     ]
    }
   ],
   "source": [
    "eta = 0.5\n",
    "n_epochs = 5001\n",
    "m = len(X_train)\n",
    "epsilon = 1e-5\n",
    "\n",
    "np.random.seed(42)\n",
    "Theta = np.random.randn(n_inputs, n_outputs)\n",
    "\n",
    "for epoch in range(n_epochs):\n",
    "    # calculate the softmax socres for each class (equation 4-19)\n",
    "    logits = X_train @ Theta\n",
    "    # calculate the softmax estimated probabilities (equation 4-20)\n",
    "    Y_proba = softmax(logits)\n",
    "    if epoch % 1000 == 0:\n",
    "        Y_proba_valid = softmax(X_valid @ Theta)\n",
    "        # calculate the Cost entropy cost function (equation 4-22)\n",
    "        xentropy_losses = -(Y_valid_one_hot * np.log(Y_proba_valid + epsilon))\n",
    "        print(epoch, xentropy_losses.sum(axis=1).mean())\n",
    "    # calculate the error part of the of equation 4-23 (( \\hat{p}^{(i)}_k - y_k^{(i))\n",
    "    error = Y_proba - Y_train_one_hot\n",
    "    # calculate the Cross entropy gradient vector (equation 4-23)\n",
    "    gradients = 1 / m * X_train.T @ error\n",
    "    # use the learning rate, eta, to calculate the next Theta\n",
    "    Theta = Theta - eta * gradients"
   ]
  },
  {
   "cell_type": "code",
   "execution_count": 52,
   "id": "9cbf98c4-fc0d-477d-abd5-6b8591f51053",
   "metadata": {},
   "outputs": [
    {
     "data": {
      "text/plain": [
       "array([[ 0.41931626,  6.11112089, -5.52429876],\n",
       "       [-6.53054533, -0.74608616,  8.33137102],\n",
       "       [-5.28115784,  0.25152675,  6.90680425]])"
      ]
     },
     "execution_count": 52,
     "metadata": {},
     "output_type": "execute_result"
    }
   ],
   "source": [
    "Theta"
   ]
  },
  {
   "cell_type": "markdown",
   "id": "fa483cbe-c4cb-4fbb-a09f-64412732583e",
   "metadata": {},
   "source": [
    "Let's make predictions for the validation set and check the accuracy score:"
   ]
  },
  {
   "cell_type": "code",
   "execution_count": 53,
   "id": "22e15c67-7e32-4982-ade0-2de5d2b4dfbd",
   "metadata": {},
   "outputs": [
    {
     "data": {
      "text/plain": [
       "0.9333333333333333"
      ]
     },
     "execution_count": 53,
     "metadata": {},
     "output_type": "execute_result"
    }
   ],
   "source": [
    "logits = X_valid @ Theta\n",
    "Y_proba = softmax(logits)\n",
    "y_predict = Y_proba.argmax(axis=1)\n",
    "\n",
    "accuracy_score = (y_predict == y_valid).mean()\n",
    "accuracy_score"
   ]
  },
  {
   "cell_type": "markdown",
   "id": "103dcdca-264b-41ab-889b-4d948b80d42a",
   "metadata": {},
   "source": [
    "Well, this model looks pretty ok. For the sake of the exercise, let's add a bit of $\\ell_2$ regularization. The following training code is similar to the one above, but the loss now has an additional $\\ell_2$ penalty, and the gradients have the proper additional term (note that we don't regularize the first element of `Theta` since this corresponds to the bias term). Also, let's try increasing the learning rate `eta`."
   ]
  },
  {
   "cell_type": "code",
   "execution_count": 54,
   "id": "a69676f6-dd0f-4aa4-b962-1f1a359c6bb8",
   "metadata": {},
   "outputs": [
    {
     "data": {
      "text/plain": [
       "(90, 3)"
      ]
     },
     "execution_count": 54,
     "metadata": {},
     "output_type": "execute_result"
    }
   ],
   "source": [
    "X_train.shape"
   ]
  },
  {
   "cell_type": "code",
   "execution_count": 55,
   "id": "9842873c-fc82-4084-8524-307162df5c8c",
   "metadata": {},
   "outputs": [
    {
     "name": "stdout",
     "output_type": "stream",
     "text": [
      "0 3.7372\n",
      "1000 0.3259\n",
      "2000 0.3259\n",
      "3000 0.3259\n",
      "4000 0.3259\n",
      "5000 0.3259\n"
     ]
    }
   ],
   "source": [
    "eta = 0.5\n",
    "n_epochs = 5001\n",
    "m = len(X_train)\n",
    "epsilon = 1e-5\n",
    "alpha = 0.01  # regularization hyperparameter\n",
    "\n",
    "np.random.seed(42)\n",
    "Theta = np.random.randn(n_inputs, n_outputs)\n",
    "\n",
    "for epoch in range(n_epochs):\n",
    "    logits = X_train @ Theta\n",
    "    Y_proba = softmax(logits)\n",
    "    if epoch % 1000 == 0:\n",
    "        Y_proba_valid = softmax(X_valid @ Theta)\n",
    "        xentropy_losses = -(Y_valid_one_hot * np.log(Y_proba_valid + epsilon))\n",
    "        l2_loss = 1 / 2 * (Theta[1:] ** 2).sum()\n",
    "        total_loss = xentropy_losses.sum(axis=1).mean() + alpha * l2_loss\n",
    "        print(epoch, total_loss.round(4))\n",
    "    error = Y_proba - Y_train_one_hot\n",
    "    gradients = 1 / m * X_train.T @ error\n",
    "    gradients += np.r_[np.zeros([1, n_outputs]), alpha * Theta[1:]]\n",
    "    Theta = Theta - eta * gradients"
   ]
  },
  {
   "cell_type": "markdown",
   "id": "ee849a61-e8c3-4325-953a-6a3fecb46d86",
   "metadata": {},
   "source": [
    "numpy.r_\n",
    "numpy.r_ = <numpy.lib.index_tricks.RClass object>\n",
    "\n",
    "Translates slice objects to concatenation along the first axis. [add rows]"
   ]
  },
  {
   "cell_type": "markdown",
   "id": "64094d90-c69f-4055-83c6-a31a729d117b",
   "metadata": {},
   "source": [
    "Because of the additional l2 penalty, the loss seems greater than earlier, but perhaps this model will perform better? Let's find out:"
   ]
  },
  {
   "cell_type": "code",
   "execution_count": 117,
   "id": "dbf8baac-3545-46c9-a0c4-60c0503f7c97",
   "metadata": {},
   "outputs": [
    {
     "data": {
      "text/plain": [
       "0.9333333333333333"
      ]
     },
     "execution_count": 117,
     "metadata": {},
     "output_type": "execute_result"
    }
   ],
   "source": [
    "logits = X_valid @ Theta\n",
    "Y_proba = softmax(logits)\n",
    "y_predict = Y_proba.argmax(axis=1)\n",
    "\n",
    "accuracy_score = (y_predict == y_valid).mean()\n",
    "accuracy_score"
   ]
  },
  {
   "cell_type": "markdown",
   "id": "cf2035db-17ef-4640-973b-2b5ee4f12aae",
   "metadata": {},
   "source": [
    "In this case, the 'l2' penalty did not change the test accuracy. Perhaps try fine-tuning 'alpha'?\n",
    "\n",
    "Now let's add early stopping. For this we just need to measure the loss on the validation set at every iteration and stop when the error starts growing.\n"
   ]
  },
  {
   "cell_type": "code",
   "execution_count": 118,
   "id": "25a67aa2-0cc9-4b4e-ab2d-d3ddc46bd433",
   "metadata": {},
   "outputs": [
    {
     "name": "stdout",
     "output_type": "stream",
     "text": [
      "0 3.7372\n",
      "281 0.3256\n",
      "282 0.3256 early stopping!\n"
     ]
    }
   ],
   "source": [
    "eta = 0.5\n",
    "n_epochs = 50_001\n",
    "m = len(X_train)\n",
    "epsilon = 1e-5\n",
    "C = 100  # regularization hyperparameter\n",
    "best_loss = np.infty\n",
    "\n",
    "np.random.seed(42)\n",
    "Theta = np.random.randn(n_inputs, n_outputs)\n",
    "\n",
    "for epoch in range(n_epochs):\n",
    "    logits = X_train @ Theta\n",
    "    Y_proba = softmax(logits)\n",
    "    Y_proba_valid = softmax(X_valid @ Theta)\n",
    "    xentropy_losses = -(Y_valid_one_hot * np.log(Y_proba_valid + epsilon))\n",
    "    l2_loss = 1 / 2 * (Theta[1:] ** 2).sum()\n",
    "    total_loss = xentropy_losses.sum(axis=1).mean() + 1 / C * l2_loss\n",
    "    if epoch % 1000 == 0:\n",
    "        print(epoch, total_loss.round(4))\n",
    "    if total_loss < best_loss:\n",
    "        best_loss = total_loss\n",
    "    else:\n",
    "        print(epoch - 1, best_loss.round(4))\n",
    "        print(epoch, total_loss.round(4), \"early stopping!\")\n",
    "        break\n",
    "    error = Y_proba - Y_train_one_hot\n",
    "    gradients = 1 / m * X_train.T @ error\n",
    "    gradients += np.r_[np.zeros([1, n_outputs]), 1 / C * Theta[1:]]\n",
    "    Theta = Theta - eta * gradients"
   ]
  },
  {
   "cell_type": "markdown",
   "id": "be563ab6-197a-4456-bcf5-87891c068bbf",
   "metadata": {},
   "source": [
    "Oh well, still no change in validation accuracy, but at least early stopping shortened training a bit."
   ]
  },
  {
   "cell_type": "code",
   "execution_count": 121,
   "id": "ca29ef69-238b-458a-840a-f1383e654947",
   "metadata": {},
   "outputs": [],
   "source": [
    "import matplotlib as mpl\n",
    "import matplotlib.pyplot as plt\n",
    "\n",
    "plt.rc('font', size=14)\n",
    "plt.rc('axes', labelsize=14, titlesize=14)\n",
    "plt.rc('legend', fontsize=14)\n",
    "plt.rc('xtick', labelsize=10)\n",
    "plt.rc('ytick', labelsize=10)"
   ]
  },
  {
   "cell_type": "markdown",
   "id": "96d38eb9-fab0-4f32-bbb8-f0e94ef8100c",
   "metadata": {},
   "source": [
    "Now let's plot the model's predictions on the whole dataset (remember to scale all features fed to the model):"
   ]
  },
  {
   "cell_type": "code",
   "execution_count": 122,
   "id": "ce4e6678-e3f1-455a-aa41-36d9aa60ba6a",
   "metadata": {},
   "outputs": [
    {
     "data": {
      "image/png": "[encoded data removed]",
      "text/plain": [
       "<Figure size 1000x400 with 1 Axes>"
      ]
     },
     "metadata": {},
     "output_type": "display_data"
    }
   ],
   "source": [
    "custom_cmap = mpl.colors.ListedColormap(['#fafab0', '#9898ff', '#a0faa0'])\n",
    "\n",
    "x0, x1 = np.meshgrid(np.linspace(0, 8, 500).reshape(-1, 1),\n",
    "                     np.linspace(0, 3.5, 200).reshape(-1, 1))\n",
    "X_new = np.c_[x0.ravel(), x1.ravel()]\n",
    "X_new = (X_new - mean) / std\n",
    "X_new_with_bias = np.c_[np.ones(len(X_new)), X_new]\n",
    "\n",
    "logits = X_new_with_bias @ Theta\n",
    "Y_proba = softmax(logits)\n",
    "y_predict = Y_proba.argmax(axis=1)\n",
    "\n",
    "zz1 = Y_proba[:, 1].reshape(x0.shape)\n",
    "zz = y_predict.reshape(x0.shape)\n",
    "\n",
    "plt.figure(figsize=(10, 4))\n",
    "plt.plot(X[y == 2, 0], X[y == 2, 1], \"g^\", label=\"Iris virginica\")\n",
    "plt.plot(X[y == 1, 0], X[y == 1, 1], \"bs\", label=\"Iris versicolor\")\n",
    "plt.plot(X[y == 0, 0], X[y == 0, 1], \"yo\", label=\"Iris setosa\")\n",
    "\n",
    "plt.contourf(x0, x1, zz, cmap=custom_cmap)\n",
    "contour = plt.contour(x0, x1, zz1, cmap=\"hot\")\n",
    "plt.clabel(contour, inline=1)\n",
    "plt.xlabel(\"Petal length\")\n",
    "plt.ylabel(\"Petal width\")\n",
    "plt.legend(loc=\"upper left\")\n",
    "plt.axis([0, 7, 0, 3.5])\n",
    "plt.grid()\n",
    "plt.show()"
   ]
  },
  {
   "cell_type": "markdown",
   "id": "f7192f48-40e2-4f9f-bb45-395dc70d4510",
   "metadata": {},
   "source": [
    "And now let's measure the final model's accuracy on the test set:"
   ]
  },
  {
   "cell_type": "code",
   "execution_count": 123,
   "id": "22a2da9a-7a66-4c60-be9d-f2c5e3187b62",
   "metadata": {},
   "outputs": [
    {
     "data": {
      "text/plain": [
       "0.9666666666666667"
      ]
     },
     "execution_count": 123,
     "metadata": {},
     "output_type": "execute_result"
    }
   ],
   "source": [
    "logits = X_test @ Theta\n",
    "Y_proba = softmax(logits)\n",
    "y_predict = Y_proba.argmax(axis=1)\n",
    "\n",
    "accuracy_score = (y_predict == y_test).mean()\n",
    "accuracy_score"
   ]
  },
  {
   "cell_type": "markdown",
   "id": "79170504-454e-414c-9ee3-7aafcfc7f866",
   "metadata": {},
   "source": [
    "Well we get even better performance on the test set. This variability is likely due to the very small size of the dataset: depending on how you sample the training set, validation set and the test set, you can get quite different results. Try changing the random seed and running the code again a few times, you will see that the results will vary."
   ]
  },
  {
   "cell_type": "code",
   "execution_count": null,
   "id": "21f063b2-3dea-4a1b-a05c-140fd6848dbc",
   "metadata": {},
   "outputs": [],
   "source": []
  }
 ],
 "metadata": {
  "kernelspec": {
   "display_name": "Python 3 (ipykernel)",
   "language": "python",
   "name": "python3"
  },
  "language_info": {
   "codemirror_mode": {
    "name": "ipython",
    "version": 3
   },
   "file_extension": ".py",
   "mimetype": "text/x-python",
   "name": "python",
   "nbconvert_exporter": "python",
   "pygments_lexer": "ipython3",
   "version": "3.11.5"
  }
 },
 "nbformat": 4,
 "nbformat_minor": 5
}
