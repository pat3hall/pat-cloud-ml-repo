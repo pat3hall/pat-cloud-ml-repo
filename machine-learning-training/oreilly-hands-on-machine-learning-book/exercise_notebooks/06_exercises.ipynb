{
 "cells": [
  {
   "cell_type": "markdown",
   "id": "5886412e-7f9a-444e-a9c1-6133d2e12f5a",
   "metadata": {},
   "source": [
    "Chapter 6: Decision Tree Exercises"
   ]
  },
  {
   "cell_type": "markdown",
   "id": "ddc147cc-9909-4f4e-bc01-d3fda31dc9d3",
   "metadata": {},
   "source": [
    "1. What is the approximate depth of a decision tree trained (without) restriction on a training set with one million instances?"
   ]
  },
  {
   "cell_type": "markdown",
   "id": "4ba41888-05eb-4002-97c4-d80f7645abca",
   "metadata": {},
   "source": [
    "-> by default, max_depth = 'None'. However, Decision tres generally are approximately balanced, so traversing the decision tee requires going through roughly O(log$_{2}$(m)) nodes, where log$_{2}$(m) is the 'binary logarithm of 'm', equal to log(m) / log(2). 'm' is the number of instances in the dataset. For 1M instances, approximate depth is: log$_{2}$(1M) = 19.9 or depth of ~20.\n",
    "\n",
    "page 202: To avoid overfitting the training data, you need to restruct the decision tree's feedom during training. As you know by now, this is called regularization. The regularization hyperparameters depend on the algoritym used, but generally you can at least restrict the maximum depth of the decision tree. In Scikit-Learn, this controlled by the 'max_depth' hyperparameter. The default value is 'None', which means unlimited. Reducing the 'max_depth' will regularize the model and thus reduce the risk of overfitting.\n",
    "\n",
    "page 200 - 201: Making predictions requires traversing the decision from the root to a leaf. Decision tres generally are approximately balanced, so traversing the decision tee requires going through roughly O(log$_{2}$(m)) nodes, where log$_{2}$(m) is the 'binary logarith of 'm', equal to log(m) / log(2). Since each node only requires checking the value of one feature, the overal prediction complexity is O(log$_{2}$(m)), independent of the number of features. So predictions are very fast,, even when dealing with large training sets.\n",
    "\n",
    "book answer: The depth of a well-balanced binary tree containing m leaves is equal to log₂(m), rounded up. log₂ is the binary log; log₂(m) = log(m) / log(2). A binary Decision Tree (one that makes only binary decisions, as is the case with all trees in Scikit-Learn) will end up more or less well balanced at the end of training, with one leaf per training instance if it is trained without restrictions. Thus, if the training set contains one million instances, the Decision Tree will have a depth of log₂(106) ≈ 20 (actually a bit more since the tree will generally not be perfectly well balanced)."
   ]
  },
  {
   "cell_type": "markdown",
   "id": "a1fdb802-6eab-4292-8528-ff0162cf8ed2",
   "metadata": {},
   "source": [
    "2. Is a node's Gini impurity generally lower or higher that its parent's? Is it generally lower/higher, or always lower/higher?"
   ]
  },
  {
   "cell_type": "markdown",
   "id": "0d75670d-d5dc-45c4-8377-f82bdf784722",
   "metadata": {},
   "source": [
    "-> The Gini impurity equation is: G$_{i}$ = 1 -   Σ(pi,k)**2  (where Σ is k=1 to k=n). A node's Gini impurity generally lower than its parent. . This is due to the CART training algorithm's cost function, which splits each node in a way that minimizes the weighted sum of its children's Gini impurities (see cost function below)\n",
    "\n",
    "page 197: ... Finally, a node's 'gini' attribute measures its 'Gini impurity': a node is 'pure' (gini=0) if all training instances it applies to belong to the same class. For example, since the depth-1 lef node applies to the \"Iris setosa\" training instances, it is pure, and its 'Gini impurity' is 0. Equation 6-1 shows how the training algorithm computes the 'Gini impurity Gi of the ith node'. The depth-2 left node has a Gini impurty equal to 1 - (0/54)**2 - (49/54)**2 - (5/54)**2 ~= 0.168.\n",
    "\n",
    "Equation 6-1 Gini impurity\n",
    "G$_{i}$ = 1 -   Σ$_{k=1}^{n}$(p$_{i,k}$)$^{2}$  (where Σ is k=1 to k=n)\n",
    "\n",
    "page 199 - 200: Scikit-Learn uses the 'Classification and Regression Tree (CART)' algorithm to train decision trees (also called 'growing trees'). The algorithm works by first splitting the training set into two subsets using a single feature 'k' and a threshold tk (e.g. \"petal length =< 2.45cm\"). How does it choose k and t$_{k}$? It searches for the pair (k,t$_{k}$) that produces the purest subsets, weighted by their size. Equation 6-2 gibves the cost function that the algorithm tries to minimize.\n",
    "\n",
    "Equation 6-2 CART cost function for classification\n",
    "\n",
    "J(k,t$_{k}$) = (m$_{left}$/m) * G$_{left}$ + (m$_{right}$/m) * G$_{right}$\n",
    "\n",
    "  where: \n",
    "  G$_{left/right}$ measures the impurity of the left/right subset;\n",
    "  m$_{left/right}$ is the number of instances in the left/right subset\n",
    "\n",
    "Once the CART algorithm has successfully split the training set in two, it splitsthe subsets using the same logic, then the sub-subsets, and so on, recursively. It stops recursing once it reaches the maximum depth (defined by the max_depth hyperparameter) or it cannot find a split that will reduce impurity. ...\n",
    "\n",
    "\n",
    "book answer: A node's Gini impurity is generally lower than its parent's. This is due to the CART training algorithm's cost function, which splits each node in a way that minimizes the weighted sum of its children's Gini impurities. However, it is possible for a node to have a higher Gini impurity than its parent, as long as this increase is more than compensated for by a decrease in the other child's impurity. For example, consider a node containing four instances of class A and one of class B. Its Gini impurity is 1 – (1/5)² – (4/5)² = 0.32. Now suppose the dataset is one-dimensional and the instances are lined up in the following order: A, B, A, A, A. You can verify that the algorithm will split this node after the second instance, producing one child node with instances A, B, and the other child node with instances A, A, A. The first child node's Gini impurity is 1 – (1/2)² – (1/2)² = 0.5, which is higher than its parent's. This is compensated for by the fact that the other node is pure, so its overall weighted Gini impurity is 2/5 × 0.5 + 3/5 × 0 = 0.2, which is lower than the parent's Gini impurity."
   ]
  },
  {
   "cell_type": "markdown",
   "id": "346fb6f7-3e57-43be-9203-ea32fc78aa28",
   "metadata": {},
   "source": [
    "3. If a decision tree is overfitting the training set, is it a good idea to try decreasing max_depth?"
   ]
  },
  {
   "cell_type": "markdown",
   "id": "d8839155-b9f7-4cee-a4dd-ae5cc13645c7",
   "metadata": {},
   "source": [
    "-> Yes, reducing max_* hyperparameters such as max_depth regularize decision tree models (e.g. reduce overfitting) better.\n",
    "\n",
    "page 202: [in addition to max_depth] The DecisionTreeClassifier class has a few other parameters that simularly restrict the shape of the decision tree:\n",
    "\n",
    "    max_features: max number of features that are evaluation for splitting at each node\n",
    "\n",
    "    max_leaf_nodes: maximum number of leaf nodes\n",
    "\n",
    "    min_sample_split: Min number of samples a node must have before it can be split\n",
    "\n",
    "    min_sample_leaf: Min number of samples a leaf node must have to be created\n",
    "\n",
    "    min_weight_fraction_leaf: Same ans min_sample_leaf, but expressed as a fraction of the total number of weighted instances\n",
    "\n",
    "\n",
    "Increasing min_* hyperparameters or reducing max_* hyperparameters will regularize the model\n",
    "\n",
    "page 203: The unregularized model on the left [Figure 6-3] is clearly overfitting, and the regularized model [min_sample_leaf=5] on the right will probably generalize better.\n",
    "\n",
    "book answer: If a Decision Tree is overfitting the training set, it may be a good idea to decrease max_depth, since this will constrain the model, regularizing it."
   ]
  },
  {
   "cell_type": "markdown",
   "id": "95d29103-8ee3-44b4-b990-3788eafe3fa5",
   "metadata": {},
   "source": [
    "4. If a decision tree is underfitting the training set, is it a good idea to try scaling the input features?"
   ]
  },
  {
   "cell_type": "markdown",
   "id": "6c5ec9d8-928f-4329-a990-49f675ba8635",
   "metadata": {},
   "source": [
    "-> No, decision trees don't require scaling. so scaling will be a waste of time.\n",
    "\n",
    "page: 197: One of the many qualities of 'decision trees' is that the rquire very little data preparation. In fact, they don't require scaling or centering at all. \n",
    "\n",
    "book answer: Decision Trees don't care whether or not the training data is scaled or centered; that's one of the nice things about them. So if a Decision Tree underfits the training set, scaling the input features will just be a waste of time."
   ]
  },
  {
   "cell_type": "markdown",
   "id": "c7dc80be-3a25-4900-b139-24ef3e12331a",
   "metadata": {},
   "source": [
    "5. If it takes one hour to train a decision tree on a training set containing one million instances, roughly how much time will it take to train another decision tree on a training set containining ten million instances? Hint: consider the CART algorithm's computational complexity."
   ]
  },
  {
   "cell_type": "markdown",
   "id": "4d549e5a-a02e-42f4-b237-78fd30734d90",
   "metadata": {},
   "source": [
    "-> The CART algorithm's computational complexity is: O(n × m log₂(m)). If it takes 1 hour for 1M instances (m=1000000), then it for 10M instances (m=10000000), it will take (n * 10M * log$_{2}$(10M)) / (n * 1M * log$_{2}$(1M)) = (10 x 23.25) / 19.93  = 11.67 = X hours /  1 hour  -> X hours = 11.66  \n",
    "\n",
    "page 200 - 201: Making predictions requires traversing the decision from the root to a leaf. Decision tres generally are approximately balanced, so traversing the decision tee requires going through roughly O(log$_{2}$(m)) nodes, where log(m) is the 'binary logarith of 'm', equal to log(m) / log(2). Since each node only requires checking the value of one feature, the overal prediction complexity is O(log(m)), independent of the number of features. So predictions are very fast,, even when dealing with large training sets.\n",
    "\n",
    "page 201: The training algorithm compares all features (or less if max_features is set) on all samples at each node. Comparing all features on all samples ate ach node results in training complexity of O(n x m log$_{2}$(m)).\n",
    "\n",
    "book anwser: The computational complexity of training a Decision Tree is O(n × m log₂(m)). So if you multiply the training set size by 10, the training time will be multiplied by K = (n × 10 m × log₂(10 m)) / (n × m × log₂(m)) = 10 × log₂(10 m) / log₂(m). If m = 10$^{6}$, then K ≈ 11.7, so you can expect the training time to be roughly 11.7 hours."
   ]
  },
  {
   "cell_type": "markdown",
   "id": "998212e4-b82d-4af6-9609-0016c2ef5471",
   "metadata": {},
   "source": [
    "6. If it takes one hour to train a decision tree on a given training set, roughly how much time will it take if you double the number of features?"
   ]
  },
  {
   "cell_type": "markdown",
   "id": "7caf56e1-36c5-449c-a47a-65c69b0fc866",
   "metadata": {},
   "source": [
    "-> The CART algorithm's computational complexity is: O(n × m log₂(m)). Thus, if the number of features (n) doubles, the the training time will approximately double.\n",
    "\n",
    "page 201: The training algorithm compares all features (or less if max_features is set) on all samples at each node. Comparing all features on all samples ate ach node results in training complexity of O(n x m log(m)).\n",
    "\n",
    "book answer: If the number of features doubles, then the training time will also roughly double."
   ]
  },
  {
   "cell_type": "markdown",
   "id": "c6ae9061-62ea-4310-bf74-0f1a46567540",
   "metadata": {},
   "source": [
    "7. Train and fine-tune a deision tree for the 'moons' dataset by following these steps:\n",
    "\n",
    "   a. Use 'make_moons (n_samples=10000, noise=0.4)'' to generate a moons dataset\n",
    "\n",
    "   b. Use 'train_test_split()'' to split the datset into a training set and a test set.\n",
    "\n",
    "   c. Uses grid search and cross-validation (with the help of the 'GridSearchCV' class) to find a good hyperparameter values for a DecisionTreeClassifer. Hint: try various values for max_leaf_nodes.\n",
    "\n",
    "    d. Train it on the full training set using these hyperparamseters and measure your model's performance on the test set. You should get roughly 85% to 87% accuracy"
   ]
  },
  {
   "cell_type": "markdown",
   "id": "c58c2096-460e-46bd-967e-925ff674fea0",
   "metadata": {},
   "source": [
    "7a. Use 'make_moons (n_samples=10000, noise=0.4)'' to generate a moons dataset"
   ]
  },
  {
   "cell_type": "code",
   "execution_count": 3,
   "id": "a6111e04-e1a6-4bfa-b814-f5b06ae72f00",
   "metadata": {},
   "outputs": [],
   "source": [
    "import sys\n",
    "import sklearn\n",
    "import numpy as np\n",
    "import matplotlib.pyplot as plt\n",
    "\n",
    "plt.rc('font', size=14)\n",
    "plt.rc('axes', labelsize=14, titlesize=14)\n",
    "plt.rc('legend', fontsize=14)\n",
    "plt.rc('xtick', labelsize=10)\n",
    "plt.rc('ytick', labelsize=10)"
   ]
  },
  {
   "cell_type": "code",
   "execution_count": 38,
   "id": "92a3a8b9-40ab-4233-ba7f-cdede98c4b5a",
   "metadata": {},
   "outputs": [],
   "source": [
    "from sklearn.datasets import make_moons\n",
    "\n",
    "X_moons, y_moons = make_moons(n_samples=10000, noise=0.4, random_state=42)"
   ]
  },
  {
   "cell_type": "markdown",
   "id": "02f23ff4-9863-4ee4-8f34-2a7ab0524bdf",
   "metadata": {},
   "source": [
    " 7b. Use 'train_test_split()'' to split the datset into a training set and a test set."
   ]
  },
  {
   "cell_type": "code",
   "execution_count": 39,
   "id": "0ac10e6d-8182-4790-bcb4-f8e8f185a928",
   "metadata": {},
   "outputs": [],
   "source": [
    "from sklearn.model_selection import train_test_split\n",
    "\n",
    "X_train, X_test, y_train, y_test = train_test_split(X_moons, y_moons, test_size=0.2, random_state=42)"
   ]
  },
  {
   "cell_type": "markdown",
   "id": "009589e5-27ff-499e-a543-a4e724930ef0",
   "metadata": {},
   "source": [
    "7c. Uses grid search and cross-validation (with the help of the 'GridSearchCV' class) to find a good hyperparameter vlaues for a DecisionTreeClassifer. Hint: try various values for max_leaf_nodes."
   ]
  },
  {
   "cell_type": "code",
   "execution_count": 40,
   "id": "5acfa845-727d-4ec9-8daa-5e4ad940a016",
   "metadata": {},
   "outputs": [
    {
     "data": {
      "text/html": [
       "<style>#sk-container-id-6 {color: black;background-color: white;}#sk-container-id-6 pre{padding: 0;}#sk-container-id-6 div.sk-toggleable {background-color: white;}#sk-container-id-6 label.sk-toggleable__label {cursor: pointer;display: block;width: 100%;margin-bottom: 0;padding: 0.3em;box-sizing: border-box;text-align: center;}#sk-container-id-6 label.sk-toggleable__label-arrow:before {content: \"▸\";float: left;margin-right: 0.25em;color: #696969;}#sk-container-id-6 label.sk-toggleable__label-arrow:hover:before {color: black;}#sk-container-id-6 div.sk-estimator:hover label.sk-toggleable__label-arrow:before {color: black;}#sk-container-id-6 div.sk-toggleable__content {max-height: 0;max-width: 0;overflow: hidden;text-align: left;background-color: #f0f8ff;}#sk-container-id-6 div.sk-toggleable__content pre {margin: 0.2em;color: black;border-radius: 0.25em;background-color: #f0f8ff;}#sk-container-id-6 input.sk-toggleable__control:checked~div.sk-toggleable__content {max-height: 200px;max-width: 100%;overflow: auto;}#sk-container-id-6 input.sk-toggleable__control:checked~label.sk-toggleable__label-arrow:before {content: \"▾\";}#sk-container-id-6 div.sk-estimator input.sk-toggleable__control:checked~label.sk-toggleable__label {background-color: #d4ebff;}#sk-container-id-6 div.sk-label input.sk-toggleable__control:checked~label.sk-toggleable__label {background-color: #d4ebff;}#sk-container-id-6 input.sk-hidden--visually {border: 0;clip: rect(1px 1px 1px 1px);clip: rect(1px, 1px, 1px, 1px);height: 1px;margin: -1px;overflow: hidden;padding: 0;position: absolute;width: 1px;}#sk-container-id-6 div.sk-estimator {font-family: monospace;background-color: #f0f8ff;border: 1px dotted black;border-radius: 0.25em;box-sizing: border-box;margin-bottom: 0.5em;}#sk-container-id-6 div.sk-estimator:hover {background-color: #d4ebff;}#sk-container-id-6 div.sk-parallel-item::after {content: \"\";width: 100%;border-bottom: 1px solid gray;flex-grow: 1;}#sk-container-id-6 div.sk-label:hover label.sk-toggleable__label {background-color: #d4ebff;}#sk-container-id-6 div.sk-serial::before {content: \"\";position: absolute;border-left: 1px solid gray;box-sizing: border-box;top: 0;bottom: 0;left: 50%;z-index: 0;}#sk-container-id-6 div.sk-serial {display: flex;flex-direction: column;align-items: center;background-color: white;padding-right: 0.2em;padding-left: 0.2em;position: relative;}#sk-container-id-6 div.sk-item {position: relative;z-index: 1;}#sk-container-id-6 div.sk-parallel {display: flex;align-items: stretch;justify-content: center;background-color: white;position: relative;}#sk-container-id-6 div.sk-item::before, #sk-container-id-6 div.sk-parallel-item::before {content: \"\";position: absolute;border-left: 1px solid gray;box-sizing: border-box;top: 0;bottom: 0;left: 50%;z-index: -1;}#sk-container-id-6 div.sk-parallel-item {display: flex;flex-direction: column;z-index: 1;position: relative;background-color: white;}#sk-container-id-6 div.sk-parallel-item:first-child::after {align-self: flex-end;width: 50%;}#sk-container-id-6 div.sk-parallel-item:last-child::after {align-self: flex-start;width: 50%;}#sk-container-id-6 div.sk-parallel-item:only-child::after {width: 0;}#sk-container-id-6 div.sk-dashed-wrapped {border: 1px dashed gray;margin: 0 0.4em 0.5em 0.4em;box-sizing: border-box;padding-bottom: 0.4em;background-color: white;}#sk-container-id-6 div.sk-label label {font-family: monospace;font-weight: bold;display: inline-block;line-height: 1.2em;}#sk-container-id-6 div.sk-label-container {text-align: center;}#sk-container-id-6 div.sk-container {/* jupyter's `normalize.less` sets `[hidden] { display: none; }` but bootstrap.min.css set `[hidden] { display: none !important; }` so we also need the `!important` here to be able to override the default hidden behavior on the sphinx rendered scikit-learn.org. See: https://github.com/scikit-learn/scikit-learn/issues/21755 */display: inline-block !important;position: relative;}#sk-container-id-6 div.sk-text-repr-fallback {display: none;}</style><div id=\"sk-container-id-6\" class=\"sk-top-container\"><div class=\"sk-text-repr-fallback\"><pre>GridSearchCV(cv=3, estimator=DecisionTreeClassifier(random_state=42),\n",
       "             param_grid={&#x27;max_depth&#x27;: [1, 2, 3, 4, 5, 6],\n",
       "                         &#x27;max_leaf_nodes&#x27;: [2, 3, 4, 5, 6, 7, 8, 9, 10, 11, 12,\n",
       "                                            13, 14, 15, 16, 17, 18, 19, 20, 21,\n",
       "                                            22, 23, 24, 25, 26, 27, 28, 29, 30,\n",
       "                                            31, ...],\n",
       "                         &#x27;min_samples_split&#x27;: [2, 3, 4]})</pre><b>In a Jupyter environment, please rerun this cell to show the HTML representation or trust the notebook. <br />On GitHub, the HTML representation is unable to render, please try loading this page with nbviewer.org.</b></div><div class=\"sk-container\" hidden><div class=\"sk-item sk-dashed-wrapped\"><div class=\"sk-label-container\"><div class=\"sk-label sk-toggleable\"><input class=\"sk-toggleable__control sk-hidden--visually\" id=\"sk-estimator-id-10\" type=\"checkbox\" ><label for=\"sk-estimator-id-10\" class=\"sk-toggleable__label sk-toggleable__label-arrow\">GridSearchCV</label><div class=\"sk-toggleable__content\"><pre>GridSearchCV(cv=3, estimator=DecisionTreeClassifier(random_state=42),\n",
       "             param_grid={&#x27;max_depth&#x27;: [1, 2, 3, 4, 5, 6],\n",
       "                         &#x27;max_leaf_nodes&#x27;: [2, 3, 4, 5, 6, 7, 8, 9, 10, 11, 12,\n",
       "                                            13, 14, 15, 16, 17, 18, 19, 20, 21,\n",
       "                                            22, 23, 24, 25, 26, 27, 28, 29, 30,\n",
       "                                            31, ...],\n",
       "                         &#x27;min_samples_split&#x27;: [2, 3, 4]})</pre></div></div></div><div class=\"sk-parallel\"><div class=\"sk-parallel-item\"><div class=\"sk-item\"><div class=\"sk-label-container\"><div class=\"sk-label sk-toggleable\"><input class=\"sk-toggleable__control sk-hidden--visually\" id=\"sk-estimator-id-11\" type=\"checkbox\" ><label for=\"sk-estimator-id-11\" class=\"sk-toggleable__label sk-toggleable__label-arrow\">estimator: DecisionTreeClassifier</label><div class=\"sk-toggleable__content\"><pre>DecisionTreeClassifier(random_state=42)</pre></div></div></div><div class=\"sk-serial\"><div class=\"sk-item\"><div class=\"sk-estimator sk-toggleable\"><input class=\"sk-toggleable__control sk-hidden--visually\" id=\"sk-estimator-id-12\" type=\"checkbox\" ><label for=\"sk-estimator-id-12\" class=\"sk-toggleable__label sk-toggleable__label-arrow\">DecisionTreeClassifier</label><div class=\"sk-toggleable__content\"><pre>DecisionTreeClassifier(random_state=42)</pre></div></div></div></div></div></div></div></div></div></div>"
      ],
      "text/plain": [
       "GridSearchCV(cv=3, estimator=DecisionTreeClassifier(random_state=42),\n",
       "             param_grid={'max_depth': [1, 2, 3, 4, 5, 6],\n",
       "                         'max_leaf_nodes': [2, 3, 4, 5, 6, 7, 8, 9, 10, 11, 12,\n",
       "                                            13, 14, 15, 16, 17, 18, 19, 20, 21,\n",
       "                                            22, 23, 24, 25, 26, 27, 28, 29, 30,\n",
       "                                            31, ...],\n",
       "                         'min_samples_split': [2, 3, 4]})"
      ]
     },
     "execution_count": 40,
     "metadata": {},
     "output_type": "execute_result"
    }
   ],
   "source": [
    "from sklearn.tree import DecisionTreeClassifier\n",
    "from sklearn.model_selection import GridSearchCV\n",
    "\n",
    "params = {\n",
    "    'max_leaf_nodes': list(range(2, 100)),\n",
    "    'max_depth': list(range(1, 7)),\n",
    "    'min_samples_split': [2, 3, 4]\n",
    "}\n",
    "grid_search_cv = GridSearchCV(DecisionTreeClassifier(random_state=42), params, cv=3)\n",
    "\n",
    "grid_search_cv.fit(X_train, y_train)"
   ]
  },
  {
   "cell_type": "markdown",
   "id": "1605e957-61cc-4271-8a26-ca362f8e6c48",
   "metadata": {},
   "source": [
    "7d. Train it on the full training set using these hyperparamseters and measure your model's performance on the test set. You should get roughly 85% to 87% accuracy"
   ]
  },
  {
   "cell_type": "code",
   "execution_count": 41,
   "id": "9abe419a-e595-493d-86a0-b442f3c92500",
   "metadata": {},
   "outputs": [
    {
     "data": {
      "text/plain": [
       "<bound method BaseEstimator.get_params of GridSearchCV(cv=3, estimator=DecisionTreeClassifier(random_state=42),\n",
       "             param_grid={'max_depth': [1, 2, 3, 4, 5, 6],\n",
       "                         'max_leaf_nodes': [2, 3, 4, 5, 6, 7, 8, 9, 10, 11, 12,\n",
       "                                            13, 14, 15, 16, 17, 18, 19, 20, 21,\n",
       "                                            22, 23, 24, 25, 26, 27, 28, 29, 30,\n",
       "                                            31, ...],\n",
       "                         'min_samples_split': [2, 3, 4]})>"
      ]
     },
     "execution_count": 41,
     "metadata": {},
     "output_type": "execute_result"
    }
   ],
   "source": [
    "grid_search_cv.get_params"
   ]
  },
  {
   "cell_type": "code",
   "execution_count": 42,
   "id": "2c7c48a1-10a6-4c51-9b87-f8ac787d3261",
   "metadata": {},
   "outputs": [
    {
     "data": {
      "text/html": [
       "<style>#sk-container-id-7 {color: black;background-color: white;}#sk-container-id-7 pre{padding: 0;}#sk-container-id-7 div.sk-toggleable {background-color: white;}#sk-container-id-7 label.sk-toggleable__label {cursor: pointer;display: block;width: 100%;margin-bottom: 0;padding: 0.3em;box-sizing: border-box;text-align: center;}#sk-container-id-7 label.sk-toggleable__label-arrow:before {content: \"▸\";float: left;margin-right: 0.25em;color: #696969;}#sk-container-id-7 label.sk-toggleable__label-arrow:hover:before {color: black;}#sk-container-id-7 div.sk-estimator:hover label.sk-toggleable__label-arrow:before {color: black;}#sk-container-id-7 div.sk-toggleable__content {max-height: 0;max-width: 0;overflow: hidden;text-align: left;background-color: #f0f8ff;}#sk-container-id-7 div.sk-toggleable__content pre {margin: 0.2em;color: black;border-radius: 0.25em;background-color: #f0f8ff;}#sk-container-id-7 input.sk-toggleable__control:checked~div.sk-toggleable__content {max-height: 200px;max-width: 100%;overflow: auto;}#sk-container-id-7 input.sk-toggleable__control:checked~label.sk-toggleable__label-arrow:before {content: \"▾\";}#sk-container-id-7 div.sk-estimator input.sk-toggleable__control:checked~label.sk-toggleable__label {background-color: #d4ebff;}#sk-container-id-7 div.sk-label input.sk-toggleable__control:checked~label.sk-toggleable__label {background-color: #d4ebff;}#sk-container-id-7 input.sk-hidden--visually {border: 0;clip: rect(1px 1px 1px 1px);clip: rect(1px, 1px, 1px, 1px);height: 1px;margin: -1px;overflow: hidden;padding: 0;position: absolute;width: 1px;}#sk-container-id-7 div.sk-estimator {font-family: monospace;background-color: #f0f8ff;border: 1px dotted black;border-radius: 0.25em;box-sizing: border-box;margin-bottom: 0.5em;}#sk-container-id-7 div.sk-estimator:hover {background-color: #d4ebff;}#sk-container-id-7 div.sk-parallel-item::after {content: \"\";width: 100%;border-bottom: 1px solid gray;flex-grow: 1;}#sk-container-id-7 div.sk-label:hover label.sk-toggleable__label {background-color: #d4ebff;}#sk-container-id-7 div.sk-serial::before {content: \"\";position: absolute;border-left: 1px solid gray;box-sizing: border-box;top: 0;bottom: 0;left: 50%;z-index: 0;}#sk-container-id-7 div.sk-serial {display: flex;flex-direction: column;align-items: center;background-color: white;padding-right: 0.2em;padding-left: 0.2em;position: relative;}#sk-container-id-7 div.sk-item {position: relative;z-index: 1;}#sk-container-id-7 div.sk-parallel {display: flex;align-items: stretch;justify-content: center;background-color: white;position: relative;}#sk-container-id-7 div.sk-item::before, #sk-container-id-7 div.sk-parallel-item::before {content: \"\";position: absolute;border-left: 1px solid gray;box-sizing: border-box;top: 0;bottom: 0;left: 50%;z-index: -1;}#sk-container-id-7 div.sk-parallel-item {display: flex;flex-direction: column;z-index: 1;position: relative;background-color: white;}#sk-container-id-7 div.sk-parallel-item:first-child::after {align-self: flex-end;width: 50%;}#sk-container-id-7 div.sk-parallel-item:last-child::after {align-self: flex-start;width: 50%;}#sk-container-id-7 div.sk-parallel-item:only-child::after {width: 0;}#sk-container-id-7 div.sk-dashed-wrapped {border: 1px dashed gray;margin: 0 0.4em 0.5em 0.4em;box-sizing: border-box;padding-bottom: 0.4em;background-color: white;}#sk-container-id-7 div.sk-label label {font-family: monospace;font-weight: bold;display: inline-block;line-height: 1.2em;}#sk-container-id-7 div.sk-label-container {text-align: center;}#sk-container-id-7 div.sk-container {/* jupyter's `normalize.less` sets `[hidden] { display: none; }` but bootstrap.min.css set `[hidden] { display: none !important; }` so we also need the `!important` here to be able to override the default hidden behavior on the sphinx rendered scikit-learn.org. See: https://github.com/scikit-learn/scikit-learn/issues/21755 */display: inline-block !important;position: relative;}#sk-container-id-7 div.sk-text-repr-fallback {display: none;}</style><div id=\"sk-container-id-7\" class=\"sk-top-container\"><div class=\"sk-text-repr-fallback\"><pre>DecisionTreeClassifier(max_depth=6, max_leaf_nodes=17, random_state=42)</pre><b>In a Jupyter environment, please rerun this cell to show the HTML representation or trust the notebook. <br />On GitHub, the HTML representation is unable to render, please try loading this page with nbviewer.org.</b></div><div class=\"sk-container\" hidden><div class=\"sk-item\"><div class=\"sk-estimator sk-toggleable\"><input class=\"sk-toggleable__control sk-hidden--visually\" id=\"sk-estimator-id-13\" type=\"checkbox\" checked><label for=\"sk-estimator-id-13\" class=\"sk-toggleable__label sk-toggleable__label-arrow\">DecisionTreeClassifier</label><div class=\"sk-toggleable__content\"><pre>DecisionTreeClassifier(max_depth=6, max_leaf_nodes=17, random_state=42)</pre></div></div></div></div></div>"
      ],
      "text/plain": [
       "DecisionTreeClassifier(max_depth=6, max_leaf_nodes=17, random_state=42)"
      ]
     },
     "execution_count": 42,
     "metadata": {},
     "output_type": "execute_result"
    }
   ],
   "source": [
    "grid_search_cv.best_estimator_"
   ]
  },
  {
   "cell_type": "markdown",
   "id": "33010ea8-6b78-4bf4-8da0-86eecd06369c",
   "metadata": {},
   "source": [
    "By default, `GridSearchCV` trains the best model found on the whole training set (you can change this by setting `refit=False`), so we don't need to do it again. We can simply evaluate the model's accuracy:"
   ]
  },
  {
   "cell_type": "code",
   "execution_count": 43,
   "id": "a38c3276-d717-4ba2-9d73-058be3256f1b",
   "metadata": {},
   "outputs": [
    {
     "data": {
      "text/plain": [
       "0.8595"
      ]
     },
     "execution_count": 43,
     "metadata": {},
     "output_type": "execute_result"
    }
   ],
   "source": [
    "from sklearn.metrics import accuracy_score\n",
    "y_pred = grid_search_cv.predict(X_test)\n",
    "accuracy_score(y_test, y_pred)\n"
   ]
  },
  {
   "cell_type": "markdown",
   "id": "dfb6b495-e3b5-4ef2-95e7-a2ed253c8fc6",
   "metadata": {},
   "source": [
    "Extra steps to Visualize the results (I could not feed gridsearchCV results to graphviz)"
   ]
  },
  {
   "cell_type": "code",
   "execution_count": 44,
   "id": "c206fe6a-05cf-4901-8fa7-dff6a2531a6a",
   "metadata": {},
   "outputs": [],
   "source": [
    "# Create Decision Tree classifer object\n",
    "tree_clf = DecisionTreeClassifier(max_depth=6, max_leaf_nodes=17, random_state=42)\n",
    "\n",
    "# Train Decision Tree Classifer\n",
    "tree_clf = tree_clf.fit(X_train,y_train)\n",
    "\n",
    "#Predict the response for test dataset\n",
    "y_pred = tree_clf.predict(X_test)"
   ]
  },
  {
   "cell_type": "code",
   "execution_count": 45,
   "id": "cfb300c3-00a7-4abb-841b-a76884c3760b",
   "metadata": {},
   "outputs": [
    {
     "data": {
      "text/plain": [
       "0.8595"
      ]
     },
     "execution_count": 45,
     "metadata": {},
     "output_type": "execute_result"
    }
   ],
   "source": [
    "accuracy_score(y_test, y_pred)"
   ]
  },
  {
   "cell_type": "code",
   "execution_count": 46,
   "id": "2a692ac2-8b84-4b02-9dea-6c13baebe090",
   "metadata": {},
   "outputs": [],
   "source": [
    "from pathlib import Path\n",
    "\n",
    "IMAGES_PATH = Path() / \"images\" / \"decision_trees\"\n",
    "IMAGES_PATH.mkdir(parents=True, exist_ok=True)\n",
    "\n",
    "def save_fig(fig_id, tight_layout=True, fig_extension=\"png\", resolution=300):\n",
    "    path = IMAGES_PATH / f\"{fig_id}.{fig_extension}\"\n",
    "    if tight_layout:\n",
    "        plt.tight_layout()\n",
    "    plt.savefig(path, format=fig_extension, dpi=resolution)"
   ]
  },
  {
   "cell_type": "code",
   "execution_count": 47,
   "id": "64fc55d8-66b6-4e1c-870e-8d75dae7d69c",
   "metadata": {},
   "outputs": [],
   "source": [
    "from sklearn.tree import export_graphviz\n",
    "\n",
    "export_graphviz(\n",
    "        tree_clf,\n",
    "        out_file=str(IMAGES_PATH / \"moons_ex6_7.dot\"),  # path differs in the book\n",
    "        feature_names=[\"x1\", \"x2\"],\n",
    "        rounded=True,\n",
    "        filled=True\n",
    "    )"
   ]
  },
  {
   "cell_type": "code",
   "execution_count": 48,
   "id": "7842f558-1950-47b3-8716-9cde57b34e39",
   "metadata": {},
   "outputs": [
    {
     "data": {
      "image/svg+xml": [
       "<?xml version=\"1.0\" encoding=\"UTF-8\" standalone=\"no\"?>\n",
       "<!DOCTYPE svg PUBLIC \"-//W3C//DTD SVG 1.1//EN\"\n",
       " \"http://www.w3.org/Graphics/SVG/1.1/DTD/svg11.dtd\">\n",
       "<!-- Generated by graphviz version 2.50.0 (0)\n",
       " -->\n",
       "<!-- Title: Tree Pages: 1 -->\n",
       "<svg width=\"1353pt\" height=\"685pt\"\n",
       " viewBox=\"0.00 0.00 1353.00 685.00\" xmlns=\"http://www.w3.org/2000/svg\" xmlns:xlink=\"http://www.w3.org/1999/xlink\">\n",
       "<g id=\"graph0\" class=\"graph\" transform=\"scale(1 1) rotate(0) translate(4 681)\">\n",
       "<title>Tree</title>\n",
       "<polygon fill=\"white\" stroke=\"transparent\" points=\"-4,4 -4,-681 1349,-681 1349,4 -4,4\"/>\n",
       "<!-- 0 -->\n",
       "<g id=\"node1\" class=\"node\">\n",
       "<title>0</title>\n",
       "<path fill=\"#fefeff\" stroke=\"black\" d=\"M801,-677C801,-677 685,-677 685,-677 679,-677 673,-671 673,-665 673,-665 673,-621 673,-621 673,-615 679,-609 685,-609 685,-609 801,-609 801,-609 807,-609 813,-615 813,-621 813,-621 813,-665 813,-665 813,-671 807,-677 801,-677\"/>\n",
       "<text text-anchor=\"middle\" x=\"743\" y=\"-661.8\" font-family=\"Helvetica,sans-Serif\" font-size=\"14.00\">x2 &lt;= 0.296</text>\n",
       "<text text-anchor=\"middle\" x=\"743\" y=\"-646.8\" font-family=\"Helvetica,sans-Serif\" font-size=\"14.00\">gini = 0.5</text>\n",
       "<text text-anchor=\"middle\" x=\"743\" y=\"-631.8\" font-family=\"Helvetica,sans-Serif\" font-size=\"14.00\">samples = 8000</text>\n",
       "<text text-anchor=\"middle\" x=\"743\" y=\"-616.8\" font-family=\"Helvetica,sans-Serif\" font-size=\"14.00\">value = [3987, 4013]</text>\n",
       "</g>\n",
       "<!-- 1 -->\n",
       "<g id=\"node2\" class=\"node\">\n",
       "<title>1</title>\n",
       "<path fill=\"#78bced\" stroke=\"black\" d=\"M591,-573C591,-573 475,-573 475,-573 469,-573 463,-567 463,-561 463,-561 463,-517 463,-517 463,-511 469,-505 475,-505 475,-505 591,-505 591,-505 597,-505 603,-511 603,-517 603,-517 603,-561 603,-561 603,-567 597,-573 591,-573\"/>\n",
       "<text text-anchor=\"middle\" x=\"533\" y=\"-557.8\" font-family=\"Helvetica,sans-Serif\" font-size=\"14.00\">x1 &lt;= &#45;0.476</text>\n",
       "<text text-anchor=\"middle\" x=\"533\" y=\"-542.8\" font-family=\"Helvetica,sans-Serif\" font-size=\"14.00\">gini = 0.367</text>\n",
       "<text text-anchor=\"middle\" x=\"533\" y=\"-527.8\" font-family=\"Helvetica,sans-Serif\" font-size=\"14.00\">samples = 4275</text>\n",
       "<text text-anchor=\"middle\" x=\"533\" y=\"-512.8\" font-family=\"Helvetica,sans-Serif\" font-size=\"14.00\">value = [1036, 3239]</text>\n",
       "</g>\n",
       "<!-- 0&#45;&gt;1 -->\n",
       "<g id=\"edge1\" class=\"edge\">\n",
       "<title>0&#45;&gt;1</title>\n",
       "<path fill=\"none\" stroke=\"black\" d=\"M674.82,-608.88C654.27,-598.9 631.56,-587.87 610.45,-577.62\"/>\n",
       "<polygon fill=\"black\" stroke=\"black\" points=\"611.72,-574.35 601.2,-573.12 608.66,-580.64 611.72,-574.35\"/>\n",
       "<text text-anchor=\"middle\" x=\"609.38\" y=\"-593.05\" font-family=\"Helvetica,sans-Serif\" font-size=\"14.00\">True</text>\n",
       "</g>\n",
       "<!-- 2 -->\n",
       "<g id=\"node23\" class=\"node\">\n",
       "<title>2</title>\n",
       "<path fill=\"#eca26d\" stroke=\"black\" d=\"M1003,-573C1003,-573 895,-573 895,-573 889,-573 883,-567 883,-561 883,-561 883,-517 883,-517 883,-511 889,-505 895,-505 895,-505 1003,-505 1003,-505 1009,-505 1015,-511 1015,-517 1015,-517 1015,-561 1015,-561 1015,-567 1009,-573 1003,-573\"/>\n",
       "<text text-anchor=\"middle\" x=\"949\" y=\"-557.8\" font-family=\"Helvetica,sans-Serif\" font-size=\"14.00\">x1 &lt;= 1.452</text>\n",
       "<text text-anchor=\"middle\" x=\"949\" y=\"-542.8\" font-family=\"Helvetica,sans-Serif\" font-size=\"14.00\">gini = 0.329</text>\n",
       "<text text-anchor=\"middle\" x=\"949\" y=\"-527.8\" font-family=\"Helvetica,sans-Serif\" font-size=\"14.00\">samples = 3725</text>\n",
       "<text text-anchor=\"middle\" x=\"949\" y=\"-512.8\" font-family=\"Helvetica,sans-Serif\" font-size=\"14.00\">value = [2951, 774]</text>\n",
       "</g>\n",
       "<!-- 0&#45;&gt;2 -->\n",
       "<g id=\"edge22\" class=\"edge\">\n",
       "<title>0&#45;&gt;2</title>\n",
       "<path fill=\"none\" stroke=\"black\" d=\"M809.88,-608.88C830.25,-598.8 852.77,-587.65 873.65,-577.31\"/>\n",
       "<polygon fill=\"black\" stroke=\"black\" points=\"875.4,-580.35 882.81,-572.78 872.29,-574.08 875.4,-580.35\"/>\n",
       "<text text-anchor=\"middle\" x=\"874.81\" y=\"-592.76\" font-family=\"Helvetica,sans-Serif\" font-size=\"14.00\">False</text>\n",
       "</g>\n",
       "<!-- 3 -->\n",
       "<g id=\"node3\" class=\"node\">\n",
       "<title>3</title>\n",
       "<path fill=\"#e88f4f\" stroke=\"black\" d=\"M229.5,-469C229.5,-469 136.5,-469 136.5,-469 130.5,-469 124.5,-463 124.5,-457 124.5,-457 124.5,-413 124.5,-413 124.5,-407 130.5,-401 136.5,-401 136.5,-401 229.5,-401 229.5,-401 235.5,-401 241.5,-407 241.5,-413 241.5,-413 241.5,-457 241.5,-457 241.5,-463 235.5,-469 229.5,-469\"/>\n",
       "<text text-anchor=\"middle\" x=\"183\" y=\"-453.8\" font-family=\"Helvetica,sans-Serif\" font-size=\"14.00\">x1 &lt;= &#45;0.764</text>\n",
       "<text text-anchor=\"middle\" x=\"183\" y=\"-438.8\" font-family=\"Helvetica,sans-Serif\" font-size=\"14.00\">gini = 0.183</text>\n",
       "<text text-anchor=\"middle\" x=\"183\" y=\"-423.8\" font-family=\"Helvetica,sans-Serif\" font-size=\"14.00\">samples = 472</text>\n",
       "<text text-anchor=\"middle\" x=\"183\" y=\"-408.8\" font-family=\"Helvetica,sans-Serif\" font-size=\"14.00\">value = [424, 48]</text>\n",
       "</g>\n",
       "<!-- 1&#45;&gt;3 -->\n",
       "<g id=\"edge2\" class=\"edge\">\n",
       "<title>1&#45;&gt;3</title>\n",
       "<path fill=\"none\" stroke=\"black\" d=\"M462.59,-517.48C401.14,-499.57 312.5,-473.74 251.59,-455.99\"/>\n",
       "<polygon fill=\"black\" stroke=\"black\" points=\"252.26,-452.54 241.68,-453.1 250.3,-459.26 252.26,-452.54\"/>\n",
       "</g>\n",
       "<!-- 4 -->\n",
       "<g id=\"node8\" class=\"node\">\n",
       "<title>4</title>\n",
       "<path fill=\"#5fb0ea\" stroke=\"black\" d=\"M587,-469C587,-469 479,-469 479,-469 473,-469 467,-463 467,-457 467,-457 467,-413 467,-413 467,-407 473,-401 479,-401 479,-401 587,-401 587,-401 593,-401 599,-407 599,-413 599,-413 599,-457 599,-457 599,-463 593,-469 587,-469\"/>\n",
       "<text text-anchor=\"middle\" x=\"533\" y=\"-453.8\" font-family=\"Helvetica,sans-Serif\" font-size=\"14.00\">x2 &lt;= &#45;0.062</text>\n",
       "<text text-anchor=\"middle\" x=\"533\" y=\"-438.8\" font-family=\"Helvetica,sans-Serif\" font-size=\"14.00\">gini = 0.27</text>\n",
       "<text text-anchor=\"middle\" x=\"533\" y=\"-423.8\" font-family=\"Helvetica,sans-Serif\" font-size=\"14.00\">samples = 3803</text>\n",
       "<text text-anchor=\"middle\" x=\"533\" y=\"-408.8\" font-family=\"Helvetica,sans-Serif\" font-size=\"14.00\">value = [612, 3191]</text>\n",
       "</g>\n",
       "<!-- 1&#45;&gt;4 -->\n",
       "<g id=\"edge7\" class=\"edge\">\n",
       "<title>1&#45;&gt;4</title>\n",
       "<path fill=\"none\" stroke=\"black\" d=\"M533,-504.88C533,-496.78 533,-487.98 533,-479.47\"/>\n",
       "<polygon fill=\"black\" stroke=\"black\" points=\"536.5,-479.3 533,-469.3 529.5,-479.3 536.5,-479.3\"/>\n",
       "</g>\n",
       "<!-- 17 -->\n",
       "<g id=\"node4\" class=\"node\">\n",
       "<title>17</title>\n",
       "<path fill=\"#e5833d\" stroke=\"black\" d=\"M98,-357.5C98,-357.5 12,-357.5 12,-357.5 6,-357.5 0,-351.5 0,-345.5 0,-345.5 0,-316.5 0,-316.5 0,-310.5 6,-304.5 12,-304.5 12,-304.5 98,-304.5 98,-304.5 104,-304.5 110,-310.5 110,-316.5 110,-316.5 110,-345.5 110,-345.5 110,-351.5 104,-357.5 98,-357.5\"/>\n",
       "<text text-anchor=\"middle\" x=\"55\" y=\"-342.3\" font-family=\"Helvetica,sans-Serif\" font-size=\"14.00\">gini = 0.035</text>\n",
       "<text text-anchor=\"middle\" x=\"55\" y=\"-327.3\" font-family=\"Helvetica,sans-Serif\" font-size=\"14.00\">samples = 333</text>\n",
       "<text text-anchor=\"middle\" x=\"55\" y=\"-312.3\" font-family=\"Helvetica,sans-Serif\" font-size=\"14.00\">value = [327, 6]</text>\n",
       "</g>\n",
       "<!-- 3&#45;&gt;17 -->\n",
       "<g id=\"edge3\" class=\"edge\">\n",
       "<title>3&#45;&gt;17</title>\n",
       "<path fill=\"none\" stroke=\"black\" d=\"M141.44,-400.88C126.54,-389.01 109.77,-375.65 95,-363.88\"/>\n",
       "<polygon fill=\"black\" stroke=\"black\" points=\"97.03,-361.01 87.03,-357.52 92.66,-366.49 97.03,-361.01\"/>\n",
       "</g>\n",
       "<!-- 18 -->\n",
       "<g id=\"node5\" class=\"node\">\n",
       "<title>18</title>\n",
       "<path fill=\"#f0b88f\" stroke=\"black\" d=\"M226,-365C226,-365 140,-365 140,-365 134,-365 128,-359 128,-353 128,-353 128,-309 128,-309 128,-303 134,-297 140,-297 140,-297 226,-297 226,-297 232,-297 238,-303 238,-309 238,-309 238,-353 238,-353 238,-359 232,-365 226,-365\"/>\n",
       "<text text-anchor=\"middle\" x=\"183\" y=\"-349.8\" font-family=\"Helvetica,sans-Serif\" font-size=\"14.00\">x2 &lt;= 0.047</text>\n",
       "<text text-anchor=\"middle\" x=\"183\" y=\"-334.8\" font-family=\"Helvetica,sans-Serif\" font-size=\"14.00\">gini = 0.422</text>\n",
       "<text text-anchor=\"middle\" x=\"183\" y=\"-319.8\" font-family=\"Helvetica,sans-Serif\" font-size=\"14.00\">samples = 139</text>\n",
       "<text text-anchor=\"middle\" x=\"183\" y=\"-304.8\" font-family=\"Helvetica,sans-Serif\" font-size=\"14.00\">value = [97, 42]</text>\n",
       "</g>\n",
       "<!-- 3&#45;&gt;18 -->\n",
       "<g id=\"edge4\" class=\"edge\">\n",
       "<title>3&#45;&gt;18</title>\n",
       "<path fill=\"none\" stroke=\"black\" d=\"M183,-400.88C183,-392.78 183,-383.98 183,-375.47\"/>\n",
       "<polygon fill=\"black\" stroke=\"black\" points=\"186.5,-375.3 183,-365.3 179.5,-375.3 186.5,-375.3\"/>\n",
       "</g>\n",
       "<!-- 29 -->\n",
       "<g id=\"node6\" class=\"node\">\n",
       "<title>29</title>\n",
       "<path fill=\"#fbebe0\" stroke=\"black\" d=\"M98,-253.5C98,-253.5 12,-253.5 12,-253.5 6,-253.5 0,-247.5 0,-241.5 0,-241.5 0,-212.5 0,-212.5 0,-206.5 6,-200.5 12,-200.5 12,-200.5 98,-200.5 98,-200.5 104,-200.5 110,-206.5 110,-212.5 110,-212.5 110,-241.5 110,-241.5 110,-247.5 104,-253.5 98,-253.5\"/>\n",
       "<text text-anchor=\"middle\" x=\"55\" y=\"-238.3\" font-family=\"Helvetica,sans-Serif\" font-size=\"14.00\">gini = 0.496</text>\n",
       "<text text-anchor=\"middle\" x=\"55\" y=\"-223.3\" font-family=\"Helvetica,sans-Serif\" font-size=\"14.00\">samples = 70</text>\n",
       "<text text-anchor=\"middle\" x=\"55\" y=\"-208.3\" font-family=\"Helvetica,sans-Serif\" font-size=\"14.00\">value = [38, 32]</text>\n",
       "</g>\n",
       "<!-- 18&#45;&gt;29 -->\n",
       "<g id=\"edge5\" class=\"edge\">\n",
       "<title>18&#45;&gt;29</title>\n",
       "<path fill=\"none\" stroke=\"black\" d=\"M141.44,-296.88C126.54,-285.01 109.77,-271.65 95,-259.88\"/>\n",
       "<polygon fill=\"black\" stroke=\"black\" points=\"97.03,-257.01 87.03,-253.52 92.66,-262.49 97.03,-257.01\"/>\n",
       "</g>\n",
       "<!-- 30 -->\n",
       "<g id=\"node7\" class=\"node\">\n",
       "<title>30</title>\n",
       "<path fill=\"#e9965b\" stroke=\"black\" d=\"M226,-253.5C226,-253.5 140,-253.5 140,-253.5 134,-253.5 128,-247.5 128,-241.5 128,-241.5 128,-212.5 128,-212.5 128,-206.5 134,-200.5 140,-200.5 140,-200.5 226,-200.5 226,-200.5 232,-200.5 238,-206.5 238,-212.5 238,-212.5 238,-241.5 238,-241.5 238,-247.5 232,-253.5 226,-253.5\"/>\n",
       "<text text-anchor=\"middle\" x=\"183\" y=\"-238.3\" font-family=\"Helvetica,sans-Serif\" font-size=\"14.00\">gini = 0.248</text>\n",
       "<text text-anchor=\"middle\" x=\"183\" y=\"-223.3\" font-family=\"Helvetica,sans-Serif\" font-size=\"14.00\">samples = 69</text>\n",
       "<text text-anchor=\"middle\" x=\"183\" y=\"-208.3\" font-family=\"Helvetica,sans-Serif\" font-size=\"14.00\">value = [59, 10]</text>\n",
       "</g>\n",
       "<!-- 18&#45;&gt;30 -->\n",
       "<g id=\"edge6\" class=\"edge\">\n",
       "<title>18&#45;&gt;30</title>\n",
       "<path fill=\"none\" stroke=\"black\" d=\"M183,-296.88C183,-286.33 183,-274.6 183,-263.85\"/>\n",
       "<polygon fill=\"black\" stroke=\"black\" points=\"186.5,-263.52 183,-253.52 179.5,-263.52 186.5,-263.52\"/>\n",
       "</g>\n",
       "<!-- 7 -->\n",
       "<g id=\"node9\" class=\"node\">\n",
       "<title>7</title>\n",
       "<path fill=\"#4aa6e7\" stroke=\"black\" d=\"M514,-365C514,-365 406,-365 406,-365 400,-365 394,-359 394,-353 394,-353 394,-309 394,-309 394,-303 400,-297 406,-297 406,-297 514,-297 514,-297 520,-297 526,-303 526,-309 526,-309 526,-353 526,-353 526,-359 520,-365 514,-365\"/>\n",
       "<text text-anchor=\"middle\" x=\"460\" y=\"-349.8\" font-family=\"Helvetica,sans-Serif\" font-size=\"14.00\">x2 &lt;= &#45;0.371</text>\n",
       "<text text-anchor=\"middle\" x=\"460\" y=\"-334.8\" font-family=\"Helvetica,sans-Serif\" font-size=\"14.00\">gini = 0.147</text>\n",
       "<text text-anchor=\"middle\" x=\"460\" y=\"-319.8\" font-family=\"Helvetica,sans-Serif\" font-size=\"14.00\">samples = 2426</text>\n",
       "<text text-anchor=\"middle\" x=\"460\" y=\"-304.8\" font-family=\"Helvetica,sans-Serif\" font-size=\"14.00\">value = [194, 2232]</text>\n",
       "</g>\n",
       "<!-- 4&#45;&gt;7 -->\n",
       "<g id=\"edge8\" class=\"edge\">\n",
       "<title>4&#45;&gt;7</title>\n",
       "<path fill=\"none\" stroke=\"black\" d=\"M509.3,-400.88C503.05,-392.15 496.23,-382.62 489.71,-373.51\"/>\n",
       "<polygon fill=\"black\" stroke=\"black\" points=\"492.5,-371.39 483.83,-365.3 486.81,-375.47 492.5,-371.39\"/>\n",
       "</g>\n",
       "<!-- 8 -->\n",
       "<g id=\"node14\" class=\"node\">\n",
       "<title>8</title>\n",
       "<path fill=\"#8fc8f0\" stroke=\"black\" d=\"M657.5,-365C657.5,-365 556.5,-365 556.5,-365 550.5,-365 544.5,-359 544.5,-353 544.5,-353 544.5,-309 544.5,-309 544.5,-303 550.5,-297 556.5,-297 556.5,-297 657.5,-297 657.5,-297 663.5,-297 669.5,-303 669.5,-309 669.5,-309 669.5,-353 669.5,-353 669.5,-359 663.5,-365 657.5,-365\"/>\n",
       "<text text-anchor=\"middle\" x=\"607\" y=\"-349.8\" font-family=\"Helvetica,sans-Serif\" font-size=\"14.00\">x1 &lt;= 1.508</text>\n",
       "<text text-anchor=\"middle\" x=\"607\" y=\"-334.8\" font-family=\"Helvetica,sans-Serif\" font-size=\"14.00\">gini = 0.423</text>\n",
       "<text text-anchor=\"middle\" x=\"607\" y=\"-319.8\" font-family=\"Helvetica,sans-Serif\" font-size=\"14.00\">samples = 1377</text>\n",
       "<text text-anchor=\"middle\" x=\"607\" y=\"-304.8\" font-family=\"Helvetica,sans-Serif\" font-size=\"14.00\">value = [418, 959]</text>\n",
       "</g>\n",
       "<!-- 4&#45;&gt;8 -->\n",
       "<g id=\"edge13\" class=\"edge\">\n",
       "<title>4&#45;&gt;8</title>\n",
       "<path fill=\"none\" stroke=\"black\" d=\"M557.03,-400.88C563.36,-392.15 570.27,-382.62 576.88,-373.51\"/>\n",
       "<polygon fill=\"black\" stroke=\"black\" points=\"579.8,-375.45 582.84,-365.3 574.14,-371.34 579.8,-375.45\"/>\n",
       "</g>\n",
       "<!-- 27 -->\n",
       "<g id=\"node10\" class=\"node\">\n",
       "<title>27</title>\n",
       "<path fill=\"#42a1e6\" stroke=\"black\" d=\"M369.5,-253.5C369.5,-253.5 268.5,-253.5 268.5,-253.5 262.5,-253.5 256.5,-247.5 256.5,-241.5 256.5,-241.5 256.5,-212.5 256.5,-212.5 256.5,-206.5 262.5,-200.5 268.5,-200.5 268.5,-200.5 369.5,-200.5 369.5,-200.5 375.5,-200.5 381.5,-206.5 381.5,-212.5 381.5,-212.5 381.5,-241.5 381.5,-241.5 381.5,-247.5 375.5,-253.5 369.5,-253.5\"/>\n",
       "<text text-anchor=\"middle\" x=\"319\" y=\"-238.3\" font-family=\"Helvetica,sans-Serif\" font-size=\"14.00\">gini = 0.079</text>\n",
       "<text text-anchor=\"middle\" x=\"319\" y=\"-223.3\" font-family=\"Helvetica,sans-Serif\" font-size=\"14.00\">samples = 1336</text>\n",
       "<text text-anchor=\"middle\" x=\"319\" y=\"-208.3\" font-family=\"Helvetica,sans-Serif\" font-size=\"14.00\">value = [55, 1281]</text>\n",
       "</g>\n",
       "<!-- 7&#45;&gt;27 -->\n",
       "<g id=\"edge9\" class=\"edge\">\n",
       "<title>7&#45;&gt;27</title>\n",
       "<path fill=\"none\" stroke=\"black\" d=\"M414.22,-296.88C397.65,-284.9 378.99,-271.4 362.61,-259.55\"/>\n",
       "<polygon fill=\"black\" stroke=\"black\" points=\"364.43,-256.55 354.28,-253.52 360.33,-262.22 364.43,-256.55\"/>\n",
       "</g>\n",
       "<!-- 28 -->\n",
       "<g id=\"node11\" class=\"node\">\n",
       "<title>28</title>\n",
       "<path fill=\"#56abe9\" stroke=\"black\" d=\"M512.5,-261C512.5,-261 411.5,-261 411.5,-261 405.5,-261 399.5,-255 399.5,-249 399.5,-249 399.5,-205 399.5,-205 399.5,-199 405.5,-193 411.5,-193 411.5,-193 512.5,-193 512.5,-193 518.5,-193 524.5,-199 524.5,-205 524.5,-205 524.5,-249 524.5,-249 524.5,-255 518.5,-261 512.5,-261\"/>\n",
       "<text text-anchor=\"middle\" x=\"462\" y=\"-245.8\" font-family=\"Helvetica,sans-Serif\" font-size=\"14.00\">x1 &lt;= 1.696</text>\n",
       "<text text-anchor=\"middle\" x=\"462\" y=\"-230.8\" font-family=\"Helvetica,sans-Serif\" font-size=\"14.00\">gini = 0.223</text>\n",
       "<text text-anchor=\"middle\" x=\"462\" y=\"-215.8\" font-family=\"Helvetica,sans-Serif\" font-size=\"14.00\">samples = 1090</text>\n",
       "<text text-anchor=\"middle\" x=\"462\" y=\"-200.8\" font-family=\"Helvetica,sans-Serif\" font-size=\"14.00\">value = [139, 951]</text>\n",
       "</g>\n",
       "<!-- 7&#45;&gt;28 -->\n",
       "<g id=\"edge10\" class=\"edge\">\n",
       "<title>7&#45;&gt;28</title>\n",
       "<path fill=\"none\" stroke=\"black\" d=\"M460.65,-296.88C460.81,-288.78 460.98,-279.98 461.15,-271.47\"/>\n",
       "<polygon fill=\"black\" stroke=\"black\" points=\"464.65,-271.37 461.35,-261.3 457.65,-271.23 464.65,-271.37\"/>\n",
       "</g>\n",
       "<!-- 31 -->\n",
       "<g id=\"node12\" class=\"node\">\n",
       "<title>31</title>\n",
       "<path fill=\"#5dafea\" stroke=\"black\" d=\"M378.5,-149.5C378.5,-149.5 277.5,-149.5 277.5,-149.5 271.5,-149.5 265.5,-143.5 265.5,-137.5 265.5,-137.5 265.5,-108.5 265.5,-108.5 265.5,-102.5 271.5,-96.5 277.5,-96.5 277.5,-96.5 378.5,-96.5 378.5,-96.5 384.5,-96.5 390.5,-102.5 390.5,-108.5 390.5,-108.5 390.5,-137.5 390.5,-137.5 390.5,-143.5 384.5,-149.5 378.5,-149.5\"/>\n",
       "<text text-anchor=\"middle\" x=\"328\" y=\"-134.3\" font-family=\"Helvetica,sans-Serif\" font-size=\"14.00\">gini = 0.26</text>\n",
       "<text text-anchor=\"middle\" x=\"328\" y=\"-119.3\" font-family=\"Helvetica,sans-Serif\" font-size=\"14.00\">samples = 891</text>\n",
       "<text text-anchor=\"middle\" x=\"328\" y=\"-104.3\" font-family=\"Helvetica,sans-Serif\" font-size=\"14.00\">value = [137, 754]</text>\n",
       "</g>\n",
       "<!-- 28&#45;&gt;31 -->\n",
       "<g id=\"edge11\" class=\"edge\">\n",
       "<title>28&#45;&gt;31</title>\n",
       "<path fill=\"none\" stroke=\"black\" d=\"M418.49,-192.88C402.89,-181.01 385.34,-167.65 369.88,-155.88\"/>\n",
       "<polygon fill=\"black\" stroke=\"black\" points=\"371.6,-152.79 361.53,-149.52 367.36,-158.36 371.6,-152.79\"/>\n",
       "</g>\n",
       "<!-- 32 -->\n",
       "<g id=\"node13\" class=\"node\">\n",
       "<title>32</title>\n",
       "<path fill=\"#3b9ee5\" stroke=\"black\" d=\"M507,-149.5C507,-149.5 421,-149.5 421,-149.5 415,-149.5 409,-143.5 409,-137.5 409,-137.5 409,-108.5 409,-108.5 409,-102.5 415,-96.5 421,-96.5 421,-96.5 507,-96.5 507,-96.5 513,-96.5 519,-102.5 519,-108.5 519,-108.5 519,-137.5 519,-137.5 519,-143.5 513,-149.5 507,-149.5\"/>\n",
       "<text text-anchor=\"middle\" x=\"464\" y=\"-134.3\" font-family=\"Helvetica,sans-Serif\" font-size=\"14.00\">gini = 0.02</text>\n",
       "<text text-anchor=\"middle\" x=\"464\" y=\"-119.3\" font-family=\"Helvetica,sans-Serif\" font-size=\"14.00\">samples = 199</text>\n",
       "<text text-anchor=\"middle\" x=\"464\" y=\"-104.3\" font-family=\"Helvetica,sans-Serif\" font-size=\"14.00\">value = [2, 197]</text>\n",
       "</g>\n",
       "<!-- 28&#45;&gt;32 -->\n",
       "<g id=\"edge12\" class=\"edge\">\n",
       "<title>28&#45;&gt;32</title>\n",
       "<path fill=\"none\" stroke=\"black\" d=\"M462.65,-192.88C462.86,-182.22 463.09,-170.35 463.3,-159.52\"/>\n",
       "<polygon fill=\"black\" stroke=\"black\" points=\"466.8,-159.59 463.5,-149.52 459.8,-159.45 466.8,-159.59\"/>\n",
       "</g>\n",
       "<!-- 9 -->\n",
       "<g id=\"node15\" class=\"node\">\n",
       "<title>9</title>\n",
       "<path fill=\"#bcdef6\" stroke=\"black\" d=\"M655.5,-261C655.5,-261 554.5,-261 554.5,-261 548.5,-261 542.5,-255 542.5,-249 542.5,-249 542.5,-205 542.5,-205 542.5,-199 548.5,-193 554.5,-193 554.5,-193 655.5,-193 655.5,-193 661.5,-193 667.5,-199 667.5,-205 667.5,-205 667.5,-249 667.5,-249 667.5,-255 661.5,-261 655.5,-261\"/>\n",
       "<text text-anchor=\"middle\" x=\"605\" y=\"-245.8\" font-family=\"Helvetica,sans-Serif\" font-size=\"14.00\">x1 &lt;= 0.503</text>\n",
       "<text text-anchor=\"middle\" x=\"605\" y=\"-230.8\" font-family=\"Helvetica,sans-Serif\" font-size=\"14.00\">gini = 0.48</text>\n",
       "<text text-anchor=\"middle\" x=\"605\" y=\"-215.8\" font-family=\"Helvetica,sans-Serif\" font-size=\"14.00\">samples = 1013</text>\n",
       "<text text-anchor=\"middle\" x=\"605\" y=\"-200.8\" font-family=\"Helvetica,sans-Serif\" font-size=\"14.00\">value = [404, 609]</text>\n",
       "</g>\n",
       "<!-- 8&#45;&gt;9 -->\n",
       "<g id=\"edge14\" class=\"edge\">\n",
       "<title>8&#45;&gt;9</title>\n",
       "<path fill=\"none\" stroke=\"black\" d=\"M606.35,-296.88C606.19,-288.78 606.02,-279.98 605.85,-271.47\"/>\n",
       "<polygon fill=\"black\" stroke=\"black\" points=\"609.35,-271.23 605.65,-261.3 602.35,-271.37 609.35,-271.23\"/>\n",
       "</g>\n",
       "<!-- 10 -->\n",
       "<g id=\"node22\" class=\"node\">\n",
       "<title>10</title>\n",
       "<path fill=\"#41a1e6\" stroke=\"black\" d=\"M790.5,-253.5C790.5,-253.5 697.5,-253.5 697.5,-253.5 691.5,-253.5 685.5,-247.5 685.5,-241.5 685.5,-241.5 685.5,-212.5 685.5,-212.5 685.5,-206.5 691.5,-200.5 697.5,-200.5 697.5,-200.5 790.5,-200.5 790.5,-200.5 796.5,-200.5 802.5,-206.5 802.5,-212.5 802.5,-212.5 802.5,-241.5 802.5,-241.5 802.5,-247.5 796.5,-253.5 790.5,-253.5\"/>\n",
       "<text text-anchor=\"middle\" x=\"744\" y=\"-238.3\" font-family=\"Helvetica,sans-Serif\" font-size=\"14.00\">gini = 0.074</text>\n",
       "<text text-anchor=\"middle\" x=\"744\" y=\"-223.3\" font-family=\"Helvetica,sans-Serif\" font-size=\"14.00\">samples = 364</text>\n",
       "<text text-anchor=\"middle\" x=\"744\" y=\"-208.3\" font-family=\"Helvetica,sans-Serif\" font-size=\"14.00\">value = [14, 350]</text>\n",
       "</g>\n",
       "<!-- 8&#45;&gt;10 -->\n",
       "<g id=\"edge21\" class=\"edge\">\n",
       "<title>8&#45;&gt;10</title>\n",
       "<path fill=\"none\" stroke=\"black\" d=\"M651.48,-296.88C667.58,-284.9 685.71,-271.4 701.62,-259.55\"/>\n",
       "<polygon fill=\"black\" stroke=\"black\" points=\"703.79,-262.3 709.72,-253.52 699.61,-256.68 703.79,-262.3\"/>\n",
       "</g>\n",
       "<!-- 15 -->\n",
       "<g id=\"node16\" class=\"node\">\n",
       "<title>15</title>\n",
       "<path fill=\"#8cc6f0\" stroke=\"black\" d=\"M653.5,-157C653.5,-157 552.5,-157 552.5,-157 546.5,-157 540.5,-151 540.5,-145 540.5,-145 540.5,-101 540.5,-101 540.5,-95 546.5,-89 552.5,-89 552.5,-89 653.5,-89 653.5,-89 659.5,-89 665.5,-95 665.5,-101 665.5,-101 665.5,-145 665.5,-145 665.5,-151 659.5,-157 653.5,-157\"/>\n",
       "<text text-anchor=\"middle\" x=\"603\" y=\"-141.8\" font-family=\"Helvetica,sans-Serif\" font-size=\"14.00\">x1 &lt;= &#45;0.162</text>\n",
       "<text text-anchor=\"middle\" x=\"603\" y=\"-126.8\" font-family=\"Helvetica,sans-Serif\" font-size=\"14.00\">gini = 0.417</text>\n",
       "<text text-anchor=\"middle\" x=\"603\" y=\"-111.8\" font-family=\"Helvetica,sans-Serif\" font-size=\"14.00\">samples = 469</text>\n",
       "<text text-anchor=\"middle\" x=\"603\" y=\"-96.8\" font-family=\"Helvetica,sans-Serif\" font-size=\"14.00\">value = [139, 330]</text>\n",
       "</g>\n",
       "<!-- 9&#45;&gt;15 -->\n",
       "<g id=\"edge15\" class=\"edge\">\n",
       "<title>9&#45;&gt;15</title>\n",
       "<path fill=\"none\" stroke=\"black\" d=\"M604.35,-192.88C604.19,-184.78 604.02,-175.98 603.85,-167.47\"/>\n",
       "<polygon fill=\"black\" stroke=\"black\" points=\"607.35,-167.23 603.65,-157.3 600.35,-167.37 607.35,-167.23\"/>\n",
       "</g>\n",
       "<!-- 16 -->\n",
       "<g id=\"node19\" class=\"node\">\n",
       "<title>16</title>\n",
       "<path fill=\"#f5fafe\" stroke=\"black\" d=\"M796.5,-157C796.5,-157 695.5,-157 695.5,-157 689.5,-157 683.5,-151 683.5,-145 683.5,-145 683.5,-101 683.5,-101 683.5,-95 689.5,-89 695.5,-89 695.5,-89 796.5,-89 796.5,-89 802.5,-89 808.5,-95 808.5,-101 808.5,-101 808.5,-145 808.5,-145 808.5,-151 802.5,-157 796.5,-157\"/>\n",
       "<text text-anchor=\"middle\" x=\"746\" y=\"-141.8\" font-family=\"Helvetica,sans-Serif\" font-size=\"14.00\">x1 &lt;= 1.1</text>\n",
       "<text text-anchor=\"middle\" x=\"746\" y=\"-126.8\" font-family=\"Helvetica,sans-Serif\" font-size=\"14.00\">gini = 0.5</text>\n",
       "<text text-anchor=\"middle\" x=\"746\" y=\"-111.8\" font-family=\"Helvetica,sans-Serif\" font-size=\"14.00\">samples = 544</text>\n",
       "<text text-anchor=\"middle\" x=\"746\" y=\"-96.8\" font-family=\"Helvetica,sans-Serif\" font-size=\"14.00\">value = [265, 279]</text>\n",
       "</g>\n",
       "<!-- 9&#45;&gt;16 -->\n",
       "<g id=\"edge18\" class=\"edge\">\n",
       "<title>9&#45;&gt;16</title>\n",
       "<path fill=\"none\" stroke=\"black\" d=\"M650.78,-192.88C663.83,-183.44 678.18,-173.06 691.69,-163.29\"/>\n",
       "<polygon fill=\"black\" stroke=\"black\" points=\"693.92,-166 699.97,-157.3 689.81,-160.32 693.92,-166\"/>\n",
       "</g>\n",
       "<!-- 21 -->\n",
       "<g id=\"node17\" class=\"node\">\n",
       "<title>21</title>\n",
       "<path fill=\"#fefbf9\" stroke=\"black\" d=\"M515,-53C515,-53 429,-53 429,-53 423,-53 417,-47 417,-41 417,-41 417,-12 417,-12 417,-6 423,0 429,0 429,0 515,0 515,0 521,0 527,-6 527,-12 527,-12 527,-41 527,-41 527,-47 521,-53 515,-53\"/>\n",
       "<text text-anchor=\"middle\" x=\"472\" y=\"-37.8\" font-family=\"Helvetica,sans-Serif\" font-size=\"14.00\">gini = 0.5</text>\n",
       "<text text-anchor=\"middle\" x=\"472\" y=\"-22.8\" font-family=\"Helvetica,sans-Serif\" font-size=\"14.00\">samples = 120</text>\n",
       "<text text-anchor=\"middle\" x=\"472\" y=\"-7.8\" font-family=\"Helvetica,sans-Serif\" font-size=\"14.00\">value = [61, 59]</text>\n",
       "</g>\n",
       "<!-- 15&#45;&gt;21 -->\n",
       "<g id=\"edge16\" class=\"edge\">\n",
       "<title>15&#45;&gt;21</title>\n",
       "<path fill=\"none\" stroke=\"black\" d=\"M557.18,-88.95C543.87,-79.34 529.36,-68.87 516.14,-59.34\"/>\n",
       "<polygon fill=\"black\" stroke=\"black\" points=\"517.84,-56.25 507.68,-53.24 513.74,-61.93 517.84,-56.25\"/>\n",
       "</g>\n",
       "<!-- 22 -->\n",
       "<g id=\"node18\" class=\"node\">\n",
       "<title>22</title>\n",
       "<path fill=\"#72b9ec\" stroke=\"black\" d=\"M650.5,-53C650.5,-53 557.5,-53 557.5,-53 551.5,-53 545.5,-47 545.5,-41 545.5,-41 545.5,-12 545.5,-12 545.5,-6 551.5,0 557.5,0 557.5,0 650.5,0 650.5,0 656.5,0 662.5,-6 662.5,-12 662.5,-12 662.5,-41 662.5,-41 662.5,-47 656.5,-53 650.5,-53\"/>\n",
       "<text text-anchor=\"middle\" x=\"604\" y=\"-37.8\" font-family=\"Helvetica,sans-Serif\" font-size=\"14.00\">gini = 0.347</text>\n",
       "<text text-anchor=\"middle\" x=\"604\" y=\"-22.8\" font-family=\"Helvetica,sans-Serif\" font-size=\"14.00\">samples = 349</text>\n",
       "<text text-anchor=\"middle\" x=\"604\" y=\"-7.8\" font-family=\"Helvetica,sans-Serif\" font-size=\"14.00\">value = [78, 271]</text>\n",
       "</g>\n",
       "<!-- 15&#45;&gt;22 -->\n",
       "<g id=\"edge17\" class=\"edge\">\n",
       "<title>15&#45;&gt;22</title>\n",
       "<path fill=\"none\" stroke=\"black\" d=\"M603.35,-88.95C603.44,-80.72 603.53,-71.85 603.62,-63.48\"/>\n",
       "<polygon fill=\"black\" stroke=\"black\" points=\"607.12,-63.27 603.73,-53.24 600.12,-63.2 607.12,-63.27\"/>\n",
       "</g>\n",
       "<!-- 23 -->\n",
       "<g id=\"node20\" class=\"node\">\n",
       "<title>23</title>\n",
       "<path fill=\"#f9e0cf\" stroke=\"black\" d=\"M795.5,-53C795.5,-53 694.5,-53 694.5,-53 688.5,-53 682.5,-47 682.5,-41 682.5,-41 682.5,-12 682.5,-12 682.5,-6 688.5,0 694.5,0 694.5,0 795.5,0 795.5,0 801.5,0 807.5,-6 807.5,-12 807.5,-12 807.5,-41 807.5,-41 807.5,-47 801.5,-53 795.5,-53\"/>\n",
       "<text text-anchor=\"middle\" x=\"745\" y=\"-37.8\" font-family=\"Helvetica,sans-Serif\" font-size=\"14.00\">gini = 0.49</text>\n",
       "<text text-anchor=\"middle\" x=\"745\" y=\"-22.8\" font-family=\"Helvetica,sans-Serif\" font-size=\"14.00\">samples = 339</text>\n",
       "<text text-anchor=\"middle\" x=\"745\" y=\"-7.8\" font-family=\"Helvetica,sans-Serif\" font-size=\"14.00\">value = [193, 146]</text>\n",
       "</g>\n",
       "<!-- 16&#45;&gt;23 -->\n",
       "<g id=\"edge19\" class=\"edge\">\n",
       "<title>16&#45;&gt;23</title>\n",
       "<path fill=\"none\" stroke=\"black\" d=\"M745.65,-88.95C745.56,-80.72 745.47,-71.85 745.38,-63.48\"/>\n",
       "<polygon fill=\"black\" stroke=\"black\" points=\"748.88,-63.2 745.27,-53.24 741.88,-63.27 748.88,-63.2\"/>\n",
       "</g>\n",
       "<!-- 24 -->\n",
       "<g id=\"node21\" class=\"node\">\n",
       "<title>24</title>\n",
       "<path fill=\"#a4d2f3\" stroke=\"black\" d=\"M930.5,-53C930.5,-53 837.5,-53 837.5,-53 831.5,-53 825.5,-47 825.5,-41 825.5,-41 825.5,-12 825.5,-12 825.5,-6 831.5,0 837.5,0 837.5,0 930.5,0 930.5,0 936.5,0 942.5,-6 942.5,-12 942.5,-12 942.5,-41 942.5,-41 942.5,-47 936.5,-53 930.5,-53\"/>\n",
       "<text text-anchor=\"middle\" x=\"884\" y=\"-37.8\" font-family=\"Helvetica,sans-Serif\" font-size=\"14.00\">gini = 0.456</text>\n",
       "<text text-anchor=\"middle\" x=\"884\" y=\"-22.8\" font-family=\"Helvetica,sans-Serif\" font-size=\"14.00\">samples = 205</text>\n",
       "<text text-anchor=\"middle\" x=\"884\" y=\"-7.8\" font-family=\"Helvetica,sans-Serif\" font-size=\"14.00\">value = [72, 133]</text>\n",
       "</g>\n",
       "<!-- 16&#45;&gt;24 -->\n",
       "<g id=\"edge20\" class=\"edge\">\n",
       "<title>16&#45;&gt;24</title>\n",
       "<path fill=\"none\" stroke=\"black\" d=\"M794.27,-88.95C808.43,-79.25 823.87,-68.68 837.89,-59.07\"/>\n",
       "<polygon fill=\"black\" stroke=\"black\" points=\"840.14,-61.77 846.42,-53.24 836.19,-56 840.14,-61.77\"/>\n",
       "</g>\n",
       "<!-- 5 -->\n",
       "<g id=\"node24\" class=\"node\">\n",
       "<title>5</title>\n",
       "<path fill=\"#e99558\" stroke=\"black\" d=\"M1003,-469C1003,-469 895,-469 895,-469 889,-469 883,-463 883,-457 883,-457 883,-413 883,-413 883,-407 889,-401 895,-401 895,-401 1003,-401 1003,-401 1009,-401 1015,-407 1015,-413 1015,-413 1015,-457 1015,-457 1015,-463 1009,-469 1003,-469\"/>\n",
       "<text text-anchor=\"middle\" x=\"949\" y=\"-453.8\" font-family=\"Helvetica,sans-Serif\" font-size=\"14.00\">x2 &lt;= 0.757</text>\n",
       "<text text-anchor=\"middle\" x=\"949\" y=\"-438.8\" font-family=\"Helvetica,sans-Serif\" font-size=\"14.00\">gini = 0.232</text>\n",
       "<text text-anchor=\"middle\" x=\"949\" y=\"-423.8\" font-family=\"Helvetica,sans-Serif\" font-size=\"14.00\">samples = 3355</text>\n",
       "<text text-anchor=\"middle\" x=\"949\" y=\"-408.8\" font-family=\"Helvetica,sans-Serif\" font-size=\"14.00\">value = [2905, 450]</text>\n",
       "</g>\n",
       "<!-- 2&#45;&gt;5 -->\n",
       "<g id=\"edge23\" class=\"edge\">\n",
       "<title>2&#45;&gt;5</title>\n",
       "<path fill=\"none\" stroke=\"black\" d=\"M949,-504.88C949,-496.78 949,-487.98 949,-479.47\"/>\n",
       "<polygon fill=\"black\" stroke=\"black\" points=\"952.5,-479.3 949,-469.3 945.5,-479.3 952.5,-479.3\"/>\n",
       "</g>\n",
       "<!-- 6 -->\n",
       "<g id=\"node31\" class=\"node\">\n",
       "<title>6</title>\n",
       "<path fill=\"#55abe9\" stroke=\"black\" d=\"M1208.5,-469C1208.5,-469 1115.5,-469 1115.5,-469 1109.5,-469 1103.5,-463 1103.5,-457 1103.5,-457 1103.5,-413 1103.5,-413 1103.5,-407 1109.5,-401 1115.5,-401 1115.5,-401 1208.5,-401 1208.5,-401 1214.5,-401 1220.5,-407 1220.5,-413 1220.5,-413 1220.5,-457 1220.5,-457 1220.5,-463 1214.5,-469 1208.5,-469\"/>\n",
       "<text text-anchor=\"middle\" x=\"1162\" y=\"-453.8\" font-family=\"Helvetica,sans-Serif\" font-size=\"14.00\">x1 &lt;= 1.782</text>\n",
       "<text text-anchor=\"middle\" x=\"1162\" y=\"-438.8\" font-family=\"Helvetica,sans-Serif\" font-size=\"14.00\">gini = 0.218</text>\n",
       "<text text-anchor=\"middle\" x=\"1162\" y=\"-423.8\" font-family=\"Helvetica,sans-Serif\" font-size=\"14.00\">samples = 370</text>\n",
       "<text text-anchor=\"middle\" x=\"1162\" y=\"-408.8\" font-family=\"Helvetica,sans-Serif\" font-size=\"14.00\">value = [46, 324]</text>\n",
       "</g>\n",
       "<!-- 2&#45;&gt;6 -->\n",
       "<g id=\"edge30\" class=\"edge\">\n",
       "<title>2&#45;&gt;6</title>\n",
       "<path fill=\"none\" stroke=\"black\" d=\"M1015.23,-506.29C1040.35,-494.25 1068.98,-480.54 1094.25,-468.45\"/>\n",
       "<polygon fill=\"black\" stroke=\"black\" points=\"1095.88,-471.54 1103.39,-464.07 1092.86,-465.23 1095.88,-471.54\"/>\n",
       "</g>\n",
       "<!-- 11 -->\n",
       "<g id=\"node25\" class=\"node\">\n",
       "<title>11</title>\n",
       "<path fill=\"#eda673\" stroke=\"black\" d=\"M933,-365C933,-365 825,-365 825,-365 819,-365 813,-359 813,-353 813,-353 813,-309 813,-309 813,-303 819,-297 825,-297 825,-297 933,-297 933,-297 939,-297 945,-303 945,-309 945,-309 945,-353 945,-353 945,-359 939,-365 933,-365\"/>\n",
       "<text text-anchor=\"middle\" x=\"879\" y=\"-349.8\" font-family=\"Helvetica,sans-Serif\" font-size=\"14.00\">x1 &lt;= &#45;0.588</text>\n",
       "<text text-anchor=\"middle\" x=\"879\" y=\"-334.8\" font-family=\"Helvetica,sans-Serif\" font-size=\"14.00\">gini = 0.349</text>\n",
       "<text text-anchor=\"middle\" x=\"879\" y=\"-319.8\" font-family=\"Helvetica,sans-Serif\" font-size=\"14.00\">samples = 1629</text>\n",
       "<text text-anchor=\"middle\" x=\"879\" y=\"-304.8\" font-family=\"Helvetica,sans-Serif\" font-size=\"14.00\">value = [1262, 367]</text>\n",
       "</g>\n",
       "<!-- 5&#45;&gt;11 -->\n",
       "<g id=\"edge24\" class=\"edge\">\n",
       "<title>5&#45;&gt;11</title>\n",
       "<path fill=\"none\" stroke=\"black\" d=\"M926.27,-400.88C920.34,-392.24 913.88,-382.82 907.68,-373.79\"/>\n",
       "<polygon fill=\"black\" stroke=\"black\" points=\"910.4,-371.56 901.85,-365.3 904.63,-375.52 910.4,-371.56\"/>\n",
       "</g>\n",
       "<!-- 12 -->\n",
       "<g id=\"node30\" class=\"node\">\n",
       "<title>12</title>\n",
       "<path fill=\"#e68743\" stroke=\"black\" d=\"M1076.5,-357.5C1076.5,-357.5 975.5,-357.5 975.5,-357.5 969.5,-357.5 963.5,-351.5 963.5,-345.5 963.5,-345.5 963.5,-316.5 963.5,-316.5 963.5,-310.5 969.5,-304.5 975.5,-304.5 975.5,-304.5 1076.5,-304.5 1076.5,-304.5 1082.5,-304.5 1088.5,-310.5 1088.5,-316.5 1088.5,-316.5 1088.5,-345.5 1088.5,-345.5 1088.5,-351.5 1082.5,-357.5 1076.5,-357.5\"/>\n",
       "<text text-anchor=\"middle\" x=\"1026\" y=\"-342.3\" font-family=\"Helvetica,sans-Serif\" font-size=\"14.00\">gini = 0.092</text>\n",
       "<text text-anchor=\"middle\" x=\"1026\" y=\"-327.3\" font-family=\"Helvetica,sans-Serif\" font-size=\"14.00\">samples = 1726</text>\n",
       "<text text-anchor=\"middle\" x=\"1026\" y=\"-312.3\" font-family=\"Helvetica,sans-Serif\" font-size=\"14.00\">value = [1643, 83]</text>\n",
       "</g>\n",
       "<!-- 5&#45;&gt;12 -->\n",
       "<g id=\"edge29\" class=\"edge\">\n",
       "<title>5&#45;&gt;12</title>\n",
       "<path fill=\"none\" stroke=\"black\" d=\"M974,-400.88C982.55,-389.56 992.12,-376.88 1000.7,-365.52\"/>\n",
       "<polygon fill=\"black\" stroke=\"black\" points=\"1003.5,-367.61 1006.73,-357.52 997.92,-363.39 1003.5,-367.61\"/>\n",
       "</g>\n",
       "<!-- 13 -->\n",
       "<g id=\"node26\" class=\"node\">\n",
       "<title>13</title>\n",
       "<path fill=\"#e68640\" stroke=\"black\" d=\"M925.5,-253.5C925.5,-253.5 832.5,-253.5 832.5,-253.5 826.5,-253.5 820.5,-247.5 820.5,-241.5 820.5,-241.5 820.5,-212.5 820.5,-212.5 820.5,-206.5 826.5,-200.5 832.5,-200.5 832.5,-200.5 925.5,-200.5 925.5,-200.5 931.5,-200.5 937.5,-206.5 937.5,-212.5 937.5,-212.5 937.5,-241.5 937.5,-241.5 937.5,-247.5 931.5,-253.5 925.5,-253.5\"/>\n",
       "<text text-anchor=\"middle\" x=\"879\" y=\"-238.3\" font-family=\"Helvetica,sans-Serif\" font-size=\"14.00\">gini = 0.07</text>\n",
       "<text text-anchor=\"middle\" x=\"879\" y=\"-223.3\" font-family=\"Helvetica,sans-Serif\" font-size=\"14.00\">samples = 384</text>\n",
       "<text text-anchor=\"middle\" x=\"879\" y=\"-208.3\" font-family=\"Helvetica,sans-Serif\" font-size=\"14.00\">value = [370, 14]</text>\n",
       "</g>\n",
       "<!-- 11&#45;&gt;13 -->\n",
       "<g id=\"edge25\" class=\"edge\">\n",
       "<title>11&#45;&gt;13</title>\n",
       "<path fill=\"none\" stroke=\"black\" d=\"M879,-296.88C879,-286.33 879,-274.6 879,-263.85\"/>\n",
       "<polygon fill=\"black\" stroke=\"black\" points=\"882.5,-263.52 879,-253.52 875.5,-263.52 882.5,-263.52\"/>\n",
       "</g>\n",
       "<!-- 14 -->\n",
       "<g id=\"node27\" class=\"node\">\n",
       "<title>14</title>\n",
       "<path fill=\"#efb387\" stroke=\"black\" d=\"M1068.5,-261C1068.5,-261 967.5,-261 967.5,-261 961.5,-261 955.5,-255 955.5,-249 955.5,-249 955.5,-205 955.5,-205 955.5,-199 961.5,-193 967.5,-193 967.5,-193 1068.5,-193 1068.5,-193 1074.5,-193 1080.5,-199 1080.5,-205 1080.5,-205 1080.5,-249 1080.5,-249 1080.5,-255 1074.5,-261 1068.5,-261\"/>\n",
       "<text text-anchor=\"middle\" x=\"1018\" y=\"-245.8\" font-family=\"Helvetica,sans-Serif\" font-size=\"14.00\">x2 &lt;= 0.439</text>\n",
       "<text text-anchor=\"middle\" x=\"1018\" y=\"-230.8\" font-family=\"Helvetica,sans-Serif\" font-size=\"14.00\">gini = 0.406</text>\n",
       "<text text-anchor=\"middle\" x=\"1018\" y=\"-215.8\" font-family=\"Helvetica,sans-Serif\" font-size=\"14.00\">samples = 1245</text>\n",
       "<text text-anchor=\"middle\" x=\"1018\" y=\"-200.8\" font-family=\"Helvetica,sans-Serif\" font-size=\"14.00\">value = [892, 353]</text>\n",
       "</g>\n",
       "<!-- 11&#45;&gt;14 -->\n",
       "<g id=\"edge26\" class=\"edge\">\n",
       "<title>11&#45;&gt;14</title>\n",
       "<path fill=\"none\" stroke=\"black\" d=\"M924.13,-296.88C937,-287.44 951.14,-277.06 964.46,-267.29\"/>\n",
       "<polygon fill=\"black\" stroke=\"black\" points=\"966.63,-270.04 972.62,-261.3 962.49,-264.39 966.63,-270.04\"/>\n",
       "</g>\n",
       "<!-- 19 -->\n",
       "<g id=\"node28\" class=\"node\">\n",
       "<title>19</title>\n",
       "<path fill=\"#f6d3b9\" stroke=\"black\" d=\"M1004.5,-149.5C1004.5,-149.5 903.5,-149.5 903.5,-149.5 897.5,-149.5 891.5,-143.5 891.5,-137.5 891.5,-137.5 891.5,-108.5 891.5,-108.5 891.5,-102.5 897.5,-96.5 903.5,-96.5 903.5,-96.5 1004.5,-96.5 1004.5,-96.5 1010.5,-96.5 1016.5,-102.5 1016.5,-108.5 1016.5,-108.5 1016.5,-137.5 1016.5,-137.5 1016.5,-143.5 1010.5,-149.5 1004.5,-149.5\"/>\n",
       "<text text-anchor=\"middle\" x=\"954\" y=\"-134.3\" font-family=\"Helvetica,sans-Serif\" font-size=\"14.00\">gini = 0.477</text>\n",
       "<text text-anchor=\"middle\" x=\"954\" y=\"-119.3\" font-family=\"Helvetica,sans-Serif\" font-size=\"14.00\">samples = 420</text>\n",
       "<text text-anchor=\"middle\" x=\"954\" y=\"-104.3\" font-family=\"Helvetica,sans-Serif\" font-size=\"14.00\">value = [255, 165]</text>\n",
       "</g>\n",
       "<!-- 14&#45;&gt;19 -->\n",
       "<g id=\"edge27\" class=\"edge\">\n",
       "<title>14&#45;&gt;19</title>\n",
       "<path fill=\"none\" stroke=\"black\" d=\"M997.22,-192.88C990.25,-181.78 982.47,-169.37 975.45,-158.18\"/>\n",
       "<polygon fill=\"black\" stroke=\"black\" points=\"978.29,-156.13 970.01,-149.52 972.36,-159.85 978.29,-156.13\"/>\n",
       "</g>\n",
       "<!-- 20 -->\n",
       "<g id=\"node29\" class=\"node\">\n",
       "<title>20</title>\n",
       "<path fill=\"#eda673\" stroke=\"black\" d=\"M1147.5,-149.5C1147.5,-149.5 1046.5,-149.5 1046.5,-149.5 1040.5,-149.5 1034.5,-143.5 1034.5,-137.5 1034.5,-137.5 1034.5,-108.5 1034.5,-108.5 1034.5,-102.5 1040.5,-96.5 1046.5,-96.5 1046.5,-96.5 1147.5,-96.5 1147.5,-96.5 1153.5,-96.5 1159.5,-102.5 1159.5,-108.5 1159.5,-108.5 1159.5,-137.5 1159.5,-137.5 1159.5,-143.5 1153.5,-149.5 1147.5,-149.5\"/>\n",
       "<text text-anchor=\"middle\" x=\"1097\" y=\"-134.3\" font-family=\"Helvetica,sans-Serif\" font-size=\"14.00\">gini = 0.352</text>\n",
       "<text text-anchor=\"middle\" x=\"1097\" y=\"-119.3\" font-family=\"Helvetica,sans-Serif\" font-size=\"14.00\">samples = 825</text>\n",
       "<text text-anchor=\"middle\" x=\"1097\" y=\"-104.3\" font-family=\"Helvetica,sans-Serif\" font-size=\"14.00\">value = [637, 188]</text>\n",
       "</g>\n",
       "<!-- 14&#45;&gt;20 -->\n",
       "<g id=\"edge28\" class=\"edge\">\n",
       "<title>14&#45;&gt;20</title>\n",
       "<path fill=\"none\" stroke=\"black\" d=\"M1043.65,-192.88C1052.42,-181.56 1062.24,-168.88 1071.04,-157.52\"/>\n",
       "<polygon fill=\"black\" stroke=\"black\" points=\"1073.88,-159.57 1077.23,-149.52 1068.34,-155.28 1073.88,-159.57\"/>\n",
       "</g>\n",
       "<!-- 25 -->\n",
       "<g id=\"node32\" class=\"node\">\n",
       "<title>25</title>\n",
       "<path fill=\"#8cc6f0\" stroke=\"black\" d=\"M1205,-357.5C1205,-357.5 1119,-357.5 1119,-357.5 1113,-357.5 1107,-351.5 1107,-345.5 1107,-345.5 1107,-316.5 1107,-316.5 1107,-310.5 1113,-304.5 1119,-304.5 1119,-304.5 1205,-304.5 1205,-304.5 1211,-304.5 1217,-310.5 1217,-316.5 1217,-316.5 1217,-345.5 1217,-345.5 1217,-351.5 1211,-357.5 1205,-357.5\"/>\n",
       "<text text-anchor=\"middle\" x=\"1162\" y=\"-342.3\" font-family=\"Helvetica,sans-Serif\" font-size=\"14.00\">gini = 0.416</text>\n",
       "<text text-anchor=\"middle\" x=\"1162\" y=\"-327.3\" font-family=\"Helvetica,sans-Serif\" font-size=\"14.00\">samples = 132</text>\n",
       "<text text-anchor=\"middle\" x=\"1162\" y=\"-312.3\" font-family=\"Helvetica,sans-Serif\" font-size=\"14.00\">value = [39, 93]</text>\n",
       "</g>\n",
       "<!-- 6&#45;&gt;25 -->\n",
       "<g id=\"edge31\" class=\"edge\">\n",
       "<title>6&#45;&gt;25</title>\n",
       "<path fill=\"none\" stroke=\"black\" d=\"M1162,-400.88C1162,-390.33 1162,-378.6 1162,-367.85\"/>\n",
       "<polygon fill=\"black\" stroke=\"black\" points=\"1165.5,-367.52 1162,-357.52 1158.5,-367.52 1165.5,-367.52\"/>\n",
       "</g>\n",
       "<!-- 26 -->\n",
       "<g id=\"node33\" class=\"node\">\n",
       "<title>26</title>\n",
       "<path fill=\"#3fa0e6\" stroke=\"black\" d=\"M1333,-357.5C1333,-357.5 1247,-357.5 1247,-357.5 1241,-357.5 1235,-351.5 1235,-345.5 1235,-345.5 1235,-316.5 1235,-316.5 1235,-310.5 1241,-304.5 1247,-304.5 1247,-304.5 1333,-304.5 1333,-304.5 1339,-304.5 1345,-310.5 1345,-316.5 1345,-316.5 1345,-345.5 1345,-345.5 1345,-351.5 1339,-357.5 1333,-357.5\"/>\n",
       "<text text-anchor=\"middle\" x=\"1290\" y=\"-342.3\" font-family=\"Helvetica,sans-Serif\" font-size=\"14.00\">gini = 0.057</text>\n",
       "<text text-anchor=\"middle\" x=\"1290\" y=\"-327.3\" font-family=\"Helvetica,sans-Serif\" font-size=\"14.00\">samples = 238</text>\n",
       "<text text-anchor=\"middle\" x=\"1290\" y=\"-312.3\" font-family=\"Helvetica,sans-Serif\" font-size=\"14.00\">value = [7, 231]</text>\n",
       "</g>\n",
       "<!-- 6&#45;&gt;26 -->\n",
       "<g id=\"edge32\" class=\"edge\">\n",
       "<title>6&#45;&gt;26</title>\n",
       "<path fill=\"none\" stroke=\"black\" d=\"M1203.56,-400.88C1218.46,-389.01 1235.23,-375.65 1250,-363.88\"/>\n",
       "<polygon fill=\"black\" stroke=\"black\" points=\"1252.34,-366.49 1257.97,-357.52 1247.97,-361.01 1252.34,-366.49\"/>\n",
       "</g>\n",
       "</g>\n",
       "</svg>\n"
      ],
      "text/plain": [
       "<graphviz.sources.Source at 0x2043d889190>"
      ]
     },
     "execution_count": 48,
     "metadata": {},
     "output_type": "execute_result"
    }
   ],
   "source": [
    "from graphviz import Source\n",
    "\n",
    "Source.from_file(IMAGES_PATH / \"moons_ex6_7.dot\") "
   ]
  },
  {
   "cell_type": "code",
   "execution_count": 49,
   "id": "e1c8a984-6a01-4561-98ae-a1bc4267a5aa",
   "metadata": {},
   "outputs": [],
   "source": [
    "# Create PNG file\n",
    "!dot -Tpng {IMAGES_PATH / \"moons_ex6_7.dot\"} -o {IMAGES_PATH / \"moons_ex6_7.png\"}"
   ]
  },
  {
   "cell_type": "markdown",
   "id": "61272bd1-0600-4524-ab48-56c073c9ae73",
   "metadata": {},
   "source": [
    "8. Grow a forest by following these steps:\n",
    "\n",
    "   a. Continuning the previous exercise generate 1000 subsets of the training set, each containing 100 instances selected randomly. Hint: you can use Scikit-Learn's ShuffleSplit class for this.\n",
    "\n",
    "   b. Training one decision tree on each subset, using the best hyperparameter values found in the previous exercise. Evaluate these 1000 decision trees on the test set. Since they were trained on smaller sets, these decision trees will likely perform worse that the first decision tree, achieving only about 80% accuracy.\n",
    "\n",
    "   c Now comes the magic. For each test set instance, generate the predictions of the 1000 decision trees, and keep only the most frequent prediction (you can use SciPy's 'mode()' function for this). This approach gives you 'majority-vote predictions' over the test set.\n",
    "\n",
    "   d. Evaluate these predicitions on the test set: you should obtain a slightly higher accuracy than your first model (about 0.5 to 1.5% higher). Congratulations, you have trained a random forest classifier!"
   ]
  },
  {
   "cell_type": "markdown",
   "id": "a37d1139-bc55-47ad-b40d-18abc1bba20f",
   "metadata": {},
   "source": [
    "8a. Continuning the previous exercise generate 1000 subsets of the training set, each containing 100 instances selected randomly. Hint: you can use Scikit-Learn's ShuffleSplit class for this."
   ]
  },
  {
   "cell_type": "code",
   "execution_count": 56,
   "id": "7a5d9e00-2bda-4994-991e-f341400ee268",
   "metadata": {},
   "outputs": [],
   "source": [
    "from sklearn.model_selection import ShuffleSplit\n",
    "\n",
    "n_trees = 1000\n",
    "n_instances = 100\n",
    "\n",
    "mini_sets = []\n",
    "\n",
    "rs = ShuffleSplit(n_splits=n_trees, test_size=len(X_train) - n_instances, random_state=42)\n",
    "\n",
    "for mini_train_index, mini_test_index in rs.split(X_train):\n",
    "    #print(f'mini_train_index: {mini_train_index}, length: {len(mini_train_index)}')\n",
    "    X_mini_train = X_train[mini_train_index]\n",
    "    y_mini_train = y_train[mini_train_index]\n",
    "    mini_sets.append((X_mini_train, y_mini_train))"
   ]
  },
  {
   "cell_type": "markdown",
   "id": "511a89da-a27a-46bc-9956-ba72c85decc0",
   "metadata": {},
   "source": [
    "8b. Training one decision tree on each subset, using the best hyperparameter values found in the previous exercise. Evaluate these 1000 decision trees on the test set. Since they were trained on smaller sets, these decision trees will likely perform worse that the first decision tree, achieving only about 80% accuracy."
   ]
  },
  {
   "cell_type": "code",
   "execution_count": 62,
   "id": "ffd3b71d-e793-4287-95ee-b0a1f620e16e",
   "metadata": {},
   "outputs": [
    {
     "data": {
      "text/plain": [
       "0.8056605"
      ]
     },
     "execution_count": 62,
     "metadata": {},
     "output_type": "execute_result"
    }
   ],
   "source": [
    "from sklearn.base import clone\n",
    "\n",
    "forest = [clone(grid_search_cv.best_estimator_) for _ in range(n_trees)]\n",
    "\n",
    "accuracy_scores = []\n",
    "\n",
    "for tree, (X_mini_train, y_mini_train) in zip(forest, mini_sets):\n",
    "    tree.fit(X_mini_train, y_mini_train)\n",
    "\n",
    "    y_pred = tree.predict(X_test)\n",
    "    accuracy_scores.append(accuracy_score(y_test, y_pred))\n",
    "\n",
    "np.mean(accuracy_scores)"
   ]
  },
  {
   "cell_type": "markdown",
   "id": "65d579b2-8987-409a-b804-8e5f4619b245",
   "metadata": {},
   "source": [
    "8c. Now comes the magic. For each test set instance, generate the predictions of the 1000 decision trees, and keep only the most frequent prediction (you can use SciPy's 'mode()' function for this). This approach gives you 'majority-vote predictions' over the test set."
   ]
  },
  {
   "cell_type": "code",
   "execution_count": 65,
   "id": "0a98b9ae-d373-4ac2-8c6f-18862cab8ad6",
   "metadata": {},
   "outputs": [],
   "source": [
    "Y_pred = np.empty([n_trees, len(X_test)], dtype=np.uint8)\n",
    "\n",
    "for tree_index, tree in enumerate(forest):\n",
    "    Y_pred[tree_index] = tree.predict(X_test)"
   ]
  },
  {
   "cell_type": "code",
   "execution_count": 66,
   "id": "a87a79cd-22e1-48c1-bc6b-98c26dcbd2e4",
   "metadata": {},
   "outputs": [],
   "source": [
    "from scipy.stats import mode\n",
    "\n",
    "y_pred_majority_votes, n_votes = mode(Y_pred, axis=0)"
   ]
  },
  {
   "cell_type": "markdown",
   "id": "2e8de063-4141-4fa4-8b3a-19be1a02ad75",
   "metadata": {},
   "source": [
    "8d. Evaluate these predicitions on the test set: you should obtain a slightly higher accuracy than your first model (about 0.5 to 1.5% higher). Congratulations, you have trained a random forest classifier!"
   ]
  },
  {
   "cell_type": "code",
   "execution_count": 67,
   "id": "b7799bdc-c778-4bac-8f90-252285007808",
   "metadata": {},
   "outputs": [
    {
     "data": {
      "text/plain": [
       "0.873"
      ]
     },
     "execution_count": 67,
     "metadata": {},
     "output_type": "execute_result"
    }
   ],
   "source": [
    "accuracy_score(y_test, y_pred_majority_votes.reshape([-1]))"
   ]
  },
  {
   "cell_type": "code",
   "execution_count": 69,
   "id": "b23fba2a-912c-4e3a-b9f8-9fcc21101cfd",
   "metadata": {},
   "outputs": [
    {
     "data": {
      "text/plain": [
       "(1000, 2000)"
      ]
     },
     "execution_count": 69,
     "metadata": {},
     "output_type": "execute_result"
    }
   ],
   "source": [
    "Y_pred.shape"
   ]
  },
  {
   "cell_type": "code",
   "execution_count": 70,
   "id": "1fc4044e-99ea-4e97-ab0a-9b8b4e988283",
   "metadata": {},
   "outputs": [
    {
     "data": {
      "text/plain": [
       "array([949, 908, 963, ..., 918, 993, 615], dtype=int64)"
      ]
     },
     "execution_count": 70,
     "metadata": {},
     "output_type": "execute_result"
    }
   ],
   "source": [
    "n_votes"
   ]
  },
  {
   "cell_type": "code",
   "execution_count": 72,
   "id": "94d62191-78d4-4b75-97b3-ddae74837f96",
   "metadata": {},
   "outputs": [
    {
     "data": {
      "text/plain": [
       "(2000,)"
      ]
     },
     "execution_count": 72,
     "metadata": {},
     "output_type": "execute_result"
    }
   ],
   "source": [
    "y_pred_majority_votes.shape"
   ]
  },
  {
   "cell_type": "code",
   "execution_count": null,
   "id": "8ef73da9-81ec-440d-b38f-c08e1a897bc6",
   "metadata": {},
   "outputs": [],
   "source": []
  }
 ],
 "metadata": {
  "kernelspec": {
   "display_name": "Python 3 (ipykernel)",
   "language": "python",
   "name": "python3"
  },
  "language_info": {
   "codemirror_mode": {
    "name": "ipython",
    "version": 3
   },
   "file_extension": ".py",
   "mimetype": "text/x-python",
   "name": "python",
   "nbconvert_exporter": "python",
   "pygments_lexer": "ipython3",
   "version": "3.11.5"
  }
 },
 "nbformat": 4,
 "nbformat_minor": 5
}
