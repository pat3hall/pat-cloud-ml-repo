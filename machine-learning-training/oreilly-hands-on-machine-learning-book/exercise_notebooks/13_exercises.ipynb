{
 "cells": [
  {
   "cell_type": "markdown",
   "id": "a4e47209-06f1-40cf-ac5c-77b9650aafc1",
   "metadata": {},
   "source": [
    "Chapter 13: Loading and Preprocessing Data with TensorFlow\n",
    "\n",
    "Chapter 13 exercises:"
   ]
  },
  {
   "cell_type": "markdown",
   "id": "8ad924d9-496b-425a-80f2-22e613f512f1",
   "metadata": {},
   "source": [
    "1. Why would you want to use tf.data API?"
   ]
  },
  {
   "cell_type": "markdown",
   "id": "10c8be07-ccc8-4ff5-a36c-6835b7b5204e",
   "metadata": {},
   "source": [
    "-> The 'tf.data' API is TensorFlow's own data loading and preprocessing API. It is a powerful API for ingesting and preprocessing large datasets. It supports loading and preprocessing text files, binary files, TFRrecords, etc. It also supports reading multiple files in parallel using multithreading, queuing, shuffling, batching, interleaving, and prefectching.  \n",
    "\n",
    "\n",
    "page 441: tf.data\n",
    " - TensorFlow's own data loading and preprocessing API\n",
    " - reads from multiple files in parallel using multithreading and queuing, shuffling and batching samples, ...\n",
    " - let's you handle datasets that don't fit in memory\n",
    " - can read text files (e.g. CSV), binary files with fixed record sizes, and binary files that use TensorFlow's TFRecord format which supports varying record sizes\n",
    " - supports reading from SQL databases and open source extensions to from all sorts of data sources\n",
    "\n",
    "page 442 - 443: tf.data.Dataset \n",
    " - 'tf.data' API revolves around the concept of a 'tf.data.Dataset'\n",
    " - represents a sequence of data items\n",
    " - datasets may contain tuples of tensors, or dictionary of name/tensor pairs, or even nested tuples and dictionary of tensors\n",
    " - When slicing a tuple, dictionary, or a nested structure, the dataset will only slice the tensors it contains while preserving the tuple/dictionarly structure\n",
    "\n",
    "https://www.tensorflow.org/guide/data: Basic Mechanics\n",
    " - To create an input pipeline, you must start with a data source. \n",
    " - For example, to construct a Dataset from data in memory, you can use tf.data.Dataset.from_tensors() or tf.data.Dataset.from_tensor_slices(). \n",
    " - Alternatively, if your input data is stored in a file in the recommended TFRecord format, you can use: tf.data.TFRecordDataset().\n",
    "\n",
    "\n",
    "__book answer__: Ingesting a large dataset and preprocessing it efficiently can be a complex engineering challenge. The Data API makes it fairly simple. It offers many features, including loading data from various sources (such as text or binary files), reading data in parallel from multiple sources, transforming it, interleaving the records, shuffling the data, batching it, and prefetching it."
   ]
  },
  {
   "cell_type": "markdown",
   "id": "e3f906ce-c71f-400b-b5d8-5560a57bdb2b",
   "metadata": {},
   "source": [
    "2. What are the benefits of splitting a large dataset into multiple files?"
   ]
  },
  {
   "cell_type": "markdown",
   "id": "f9627db6-0ddd-4bfe-8a63-80667d48e22b",
   "metadata": {},
   "source": [
    "-> It allows you to load and shuffle very large datasets. By splitting the dataset into multiple files, you can load and shuffle datasets in parallel using multi-thread loading of the multiple files which can expedite the loading and preprocessing of the dataset. With multiple files, can interleave and shuffle the data between files and then futher shuffle the data as it is being preprocessed.\n",
    "\n",
    "page 446: Shuffle data by using multiple randomly filed files:\n",
    " - to handle the shuffle() large dataset limitation, split the source data into multiple files, and then randomly and read them simultaneously, interleaving their records\n",
    " - then on top, you can add a shuffling buffer using the shuffle() method\n",
    "\n",
    "13_loading_and_preprocessing_data.ipynb - section 2.2.1:\n",
    "For a very large dataset that does not fit in memory, you will typically want to split it into many files first, then have TensorFlow read these files in parallel. To demonstrate this, let's start by splitting the housing dataset and saving it to 20 CSV files:\n",
    "\n",
    "\n",
    "__book answer__: Splitting a large dataset into multiple files makes it possible to shuffle it at a coarse level before shuffling it at a finer level using a shuffling buffer. It also makes it possible to handle huge datasets that do not fit on a single machine. It's also simpler to manipulate thousands of small files rather than one huge file; for example, it's easier to split the data into multiple subsets. Lastly, if the data is split across multiple files spread across multiple servers, it is possible to download several files from different servers simultaneously, which improves the bandwidth usage."
   ]
  },
  {
   "cell_type": "markdown",
   "id": "7a175546-e052-4c6e-96ce-29e494d42cbe",
   "metadata": {},
   "source": [
    "3. During training, how can you tell that your input pipeline is the bottleneck? What can you do to fix it?"
   ]
  },
  {
   "cell_type": "markdown",
   "id": "5cce9b2a-74ed-456a-a0d6-92a780d8d8a5",
   "metadata": {},
   "source": [
    "-> You can use TensorBoard to visualize profiling data: if the GPU is not fully utilized then your input pipeline is likely to be the bottleneck. You can fix it by making sure it reads and preprocesses the data in multiple threads in parallel, and ensuring it prefetches a few batches.\n",
    "\n",
    "page 340:TensorBoard\n",
    " - interactive visualization tool\n",
    " - can view the learning curves during training, compare curves and metrics between multiple runs visualize the computation graphs, analyze training statistics, view images generated by your model, visualize complex multidimensional data projected down to 3D, profile your network (measure its speed to identify bottlenecks)\n",
    "\n",
    "\n",
    "page 450:\n",
    "By calling 'prefetch(1)' at the end of the 'csv_reader_dataset()' function, we are creating a dataset that will do its best to always be batch ahead. In other words, while our training algorithm is working on one batch, the datas will already be working in parallel on getting  the next batch ready (e.g. reading the data from disk and preprocesing it). This can improve preformance dramatically, as is illustrated in Figure 13-3.\n",
    "\n",
    "page 450:\n",
    "If we also ensure that loading and preprocessing are multithreaded (by setting 'num_parallel_calls' when calling 'interleave()' and 'map()'), we can exploit multipe CPU cores and hopefully make preparing one batch of data shorter than running a training step on the GPU: this way the GPU will be 100% utilized (except for the data transfer time from the CPU to the GPU), and train will run much faster.  \n",
    "\n",
    "page 451:\n",
    "If the dataset is small enough to fit in memory, you can significantly speed up training by using the dataset's 'cache()' method to cache its content to RAM. You should generally do this after loading and preprocessing the data, bu before shuffling, repeating, batching. and prefetching. This way, each instance will only be read and preprocessed once (instead of once each epoch), but the data will still be shuffled differently at each epoch, and the next batch will still be prepared in advanced.\n",
    "\n",
    "\n",
    "__book answer__: You can use TensorBoard to visualize profiling data: if the GPU is not fully utilized then your input pipeline is likely to be the bottleneck. You can fix it by making sure it reads and preprocesses the data in multiple threads in parallel, and ensuring it prefetches a few batches. If this is insufficient to get your GPU to 100% usage during training, make sure your preprocessing code is optimized. You can also try saving the dataset into multiple TFRecord files, and if necessary perform some of the preprocessing ahead of time so that it does not need to be done on the fly during training (TF Transform can help with this). If necessary, use a machine with more CPU and RAM, and ensure that the GPU bandwidth is large enough."
   ]
  },
  {
   "cell_type": "markdown",
   "id": "30e7a7be-cfac-40ca-89a5-a3fe7a402cb5",
   "metadata": {},
   "source": [
    "4. Can you save any binary data to a TFRecord file, or only serialized protocol buffers?"
   ]
  },
  {
   "cell_type": "markdown",
   "id": "8346e02a-0b89-493f-9bbd-9977c2b6c34f",
   "metadata": {},
   "source": [
    "-> A TFRecord contains a sequence of binary records of varying sizes. Each record is comprised of a length, a length CRC checksum, then the actual data, and the CRC checksum for the data. Yes, You can save any binary data you want.\n",
    "\n",
    "-> In practice most TFRecord files contain sequences of serialized protocol buffers. This makes it possible to benefit from the advantages of protocol buffers, such as the fact that they can be read easily across multiple platforms and languages and their definition can be updated later in a backward-compatible way.\n",
    "\n",
    "page 453:  TFRecord Format:\n",
    " - TensorFlow's preferred format for storing large amount of data and reading it efficiently\n",
    " - simple binary format that contains a sequence of binary records of varying sizes\n",
    " - each record is comprised of a length, a length CRC checksum, then the actual data, and the CRC checksum for the data\n",
    " - You can create a TFRecord using a tf.io.TFRecordWriter\n",
    " - you can read a TFRecord using a tf.data.TFRecordDataset\n",
    "\n",
    "https://www.tensorflow.org/tutorials/load_data/tfrecord:\n",
    "The TFRecord format is a simple format for storing a sequence of binary records. Protocol buffers are a cross-platform, cross-language library for efficient serialization of structured data. Protocol messages are defined by . proto files, these are often the easiest way to understand a message type.\n",
    "\n",
    "__book answer__:  A TFRecord file is composed of a sequence of arbitrary binary records: you can store absolutely any binary data you want in each record. However, in practice most TFRecord files contain sequences of serialized protocol buffers. This makes it possible to benefit from the advantages of protocol buffers, such as the fact that they can be read easily across multiple platforms and languages and their definition can be updated later in a backward-compatible way."
   ]
  },
  {
   "cell_type": "markdown",
   "id": "89dc97b0-fae8-41aa-a8b9-55be774ada68",
   "metadata": {},
   "source": [
    "5. Why would go through the hassle of converting all your data to the Example protobuf format? Why not use your own protobuf definition?"
   ]
  },
  {
   "cell_type": "markdown",
   "id": "eb817266-ae80-45ce-82a8-65f62293c61e",
   "metadata": {},
   "source": [
    "->  The `Example` protobuf format has the advantage that TensorFlow provides some operations to parse it (the `tf.io.parse`*`example()` functions) without you having to define your own format. It is sufficiently flexible to represent instances in most datasets\n",
    "\n",
    "->  It's more complicated, and it requires deploying the descriptor along with the model, but it can be done.\n",
    "\n",
    "page 454:\n",
    "protocol buffers (protbufs)\n",
    " Overview\n",
    "  - even though each record can use any binary format you want, TFRecord files usually containn serialized 'protocol buffers' (also called 'protobufs).\n",
    "  - protobufs is a portable, extensible, and efficient binary format developed by Google\n",
    "  - protobufs are widely used, in particular in gRPC (https://grpc.io)\n",
    "Protobuf example definition:\n",
    " - below protobuff example definition:\n",
    "   - use version 3 of the protobuff format (\"proto3\")\n",
    "   - each \"Person\" object may optionally have a name of type string, and id of type int32, and 0 or more email fields, each of type string\n",
    "   - the numbers 1, 2, and 3 are the field identifiers\n",
    "compiling protobuff definition\n",
    "  - once you have a protobuff definition in a '.proto' file, you can compile it using 'protoc'\n",
    "  - this requires 'protoc' the protobuf compiler to generate access classes in python (or other language) \n",
    "protobuff definitions\n",
    "  - you will generally use in TensorFlow have already been compiled for you, and their classes are part of the TensorFlow library\n",
    "\n",
    "__book answer__: The `Example` protobuf format has the advantage that TensorFlow provides some operations to parse it (the `tf.io.parse`*`example()` functions) without you having to define your own format. It is sufficiently flexible to represent instances in most datasets. However, if it does not cover your use case, you can define your own protocol buffer, compile it using `protoc` (setting the `--descriptor_set_out` and `--include_imports` arguments to export the protobuf descriptor), and use the `tf.io.decode_proto()` function to parse the serialized protobufs (see the \"Custom protobuf\" section of the notebook for an example). It's more complicated, and it requires deploying the descriptor along with the model, but it can be done."
   ]
  },
  {
   "cell_type": "markdown",
   "id": "54abe0f1-5967-439d-9bb9-d51985c441a0",
   "metadata": {},
   "source": [
    "6. When using TFRecords, when would you want to activate compression? Why not do it systematically?"
   ]
  },
  {
   "cell_type": "markdown",
   "id": "f3513dad-c322-4799-8da4-6483ce6a88e5",
   "metadata": {},
   "source": [
    "-> If you are loading records via a network connection activate compression can reduce the download time. Compression will also reduce the file sizes. If not using a network connection, it may be preferable to not compress the files.\n",
    "\n",
    "page 454: Compressed TFRecords\n",
    " - it can sometimes be useful to compress your TFRecords, especially if they need to be loaded via network connection\n",
    " - create compressed TFRecord file by setting the tf.io.TFRecordOptions(compression_type=\"<compressionType>\")\n",
    " - read compressed TFRecord file(s) by setting the 'tf.data.TFRecordDataset' \"compression_type\" argument \n",
    "\n",
    "__book answer__: When using TFRecords, you will generally want to activate compression if the TFRecord files will need to be downloaded by the training script, as compression will make files smaller and thus reduce download time. But if the files are located on the same machine as the training script, it's usually preferable to leave compression off, to avoid wasting CPU for decompression."
   ]
  },
  {
   "cell_type": "markdown",
   "id": "53321295-4cb4-4052-b321-3dc809f0e683",
   "metadata": {},
   "source": [
    "7. Data can be preprocessed directly when writing the data files, or within the tf.data pipeline, or in preprocessing layers with your model. Can list a few pros and cons of each option?"
   ]
  },
  {
   "cell_type": "markdown",
   "id": "37e57815-7e88-4303-abe4-c7495d24858b",
   "metadata": {},
   "source": [
    "-> preprocessing directly when writing the data files pros and cons: The train scripts will run faster and the preprocessed data may be smaller. However, you will not be able to reuse preprocessing flow for production, not easy to experiment with preprocessing logic, etc.\n",
    "\n",
    "-> preprocessing within the tf.data pipeline: it's much easier to tweak the preprocessing logic and apply data augmentation. Also, tf.data makes it easy to build highly efficient preprocessing pipelines (e.g., with multithreading and prefetching). However, preprocessing the data this way will slow down training.\n",
    "\n",
    "-> preprocessing layers with your model:  you will only have to write the preprocessing code once for both training and inference. If your model needs to be deployed to many different platforms, you will not need to write the preprocessing code multiple times. Plus, you will not run the risk of using the wrong preprocessing logic for your model, since it will be part of the model. On the downside, preprocessing the data on the fly during training will slow things down, and each instance will be preprocessed once per epoch.\n",
    "\n",
    "pages 459 - 460: Preprocessing options\n",
    " preprocessing ahead of time\n",
    "   - using any tools you like, such as Numpy, Pandas, or Scikit-learn\n",
    " preprocessing on the fly using dataset's map method\n",
    "   - preprocessing all input data on the fly using 'map()' method while loading it with 'tf.data()'\n",
    " preprocessing layers in your model\n",
    "   - adding preprocessing mayers directly inside your model so it can preprocess all input data on the fly during training\n",
    "\n",
    "\n",
    "__book answer__: Let's look at the pros and cons of each preprocessing option:\n",
    "    * If you preprocess the data when creating the data files, the training script will run faster, since it will not have to perform preprocessing on the fly. In some cases, the preprocessed data will also be much smaller than the original data, so you can save some space and speed up downloads. It may also be helpful to materialize the preprocessed data, for example to inspect it or archive it. However, this approach has a few cons. First, it's not easy to experiment with various preprocessing logics if you need to generate a preprocessed dataset for each variant. Second, if you want to perform data augmentation, you have to materialize many variants of your dataset, which will use a large amount of disk space and take a lot of time to generate. Lastly, the trained model will expect preprocessed data, so you will have to add preprocessing code in your application before it calls the model. There's a risk of code duplication and preprocessing mismatch in this case.\n",
    "    * If the data is preprocessed with the tf.data pipeline, it's much easier to tweak the preprocessing logic and apply data augmentation. Also, tf.data makes it easy to build highly efficient preprocessing pipelines (e.g., with multithreading and prefetching). However, preprocessing the data this way will slow down training. Moreover, each training instance will be preprocessed once per epoch rather than just once if the data was preprocessed when creating the data files. Well, unless the dataset fits in RAM and you can cache it using the dataset's `cache()` method. Lastly, the trained model will still expect preprocessed data. But if you use preprocessing layers in your tf.data pipeline to handle the preprocessing step, then you can just reuse these layers in your final model (adding them after training), to avoid code duplication and preprocessing mismatch.\n",
    "    * If you add preprocessing layers to your model, you will only have to write the preprocessing code once for both training and inference. If your model needs to be deployed to many different platforms, you will not need to write the preprocessing code multiple times. Plus, you will not run the risk of using the wrong preprocessing logic for your model, since it will be part of the model. On the downside, preprocessing the data on the fly during training will slow things down, and each instance will be preprocessed once per epoch."
   ]
  },
  {
   "cell_type": "markdown",
   "id": "770864ec-9d4d-4616-a0c8-e5a047fc3b9b",
   "metadata": {},
   "source": [
    "8. Name a few common ways you can encode categorical integer features. What about text?"
   ]
  },
  {
   "cell_type": "markdown",
   "id": "14bd4f9d-5fc2-47d3-98d9-fdf511382d05",
   "metadata": {},
   "source": [
    "-> To encode a categorical feature that has a natural order, such as a movie rating (e.g., \"bad,\" \"average,\" \"good\"), the simplest option is to use ordinal encoding: sort the categories in their natural order and map each category to its rank (e.g., \"bad\" maps to 0, \"average\" maps to 1, and \"good\" maps to 2).\n",
    "\n",
    "-> However, most categorical features don't have such a natural order. For example, there's no natural order for professions or countries. In this case, you can use one-hot encoding, or embeddings if there are many categories. With Keras, the `StringLookup` layer can be used for ordinal encoding (using the default `output_mode=\"int\"`), or one-hot encoding (using `output_mode=\"one_hot\"`). It can also perform multi-hot encoding (using `output_mode=\"multi_hot\"`) if you want to encode multiple categorical text features together, assuming they share the same categories and it doesn't matter which feature contributed which category. For trainable embeddings, you must first use the `StringLookup` layer to produce an ordinal encoding, then use the `Embedding` layer.\n",
    "\n",
    "-> For text, the `TextVectorization` layer is easy to use and it can work well for simple tasks, or you can use TF Text for more advanced features. However, you'll often want to use pretrained language models, which you can obtain using tools like TF Hub or Hugging Face's Transformers library. These last two options are discussed in Chapter 16.\n",
    "\n",
    "\n",
    "page 465: \n",
    "StringLookup layer\n",
    " - used to convert categorical text features to encode as integers (default) or one-hot encodes\n",
    " - uses 'adapt()' method to find the distinct categories \n",
    " - use 'output_mode=\"one_hot\" to encode with one-hot vector for each category instead of an integers (default)\n",
    " - known categories are numbered starting at '1', from the most frequent category to the least frequent\n",
    " - Unknown categories by default (categories not present list passed to 'adapt()') are mapped to category '0'\n",
    " - Instead of mapping unknown categories to '0', you can specify the number Out-of-vocabulary (OOV) buckets to use, with the num_oov_indices argument. Each unknown category will get mapped psuedorandomly to one of the OOV buckets allowing the model to distinguish at least some of the rare categories\n",
    "   - OUV buckets numbers are from 0 to num_oov_indices (if num_oov_indices=5, then from 0 to 4)\n",
    " - hashing collisions: when multiple unknown categories get mapped to the same OOV due to insufficient OOV buckets\n",
    " StringLookup.adapt() method\n",
    "  - Computes a vocabulary of integer terms from tokens in a dataset.\n",
    " StringLookup.vocabulary_size() method\n",
    "  - returns The integer size of the vocabulary, including optional mask and oov indices. \n",
    "  - by default, vocabulary size includes 'category 0' for mapping unknown categories\n",
    "  - total number of categories including known categories plus OOV buckets (one by default)\n",
    "\n",
    "page 466:\n",
    "Embedding [Categorical Features]\n",
    "  - a dense representation of some higher-dimensional data, such as a category, or a word in a vocabulary\n",
    "  - a 50k categories with one-hot encoding would produce 50k-dimensional sparse vectory. In contrast, an embedding would be comparably smale dense vector with ~100 dimensions\n",
    "  - in deep learning, embedded are usually initialized randonly, and then they are trained with gradient descent, along with other model parameters\n",
    "  - since embedding are trainable, they will gradually improve during training.\n",
    "  - training tends to make enbeddings useful representations of the categories - this is called representation learning\n",
    "  representation learning\n",
    "    - is a process in machine learning where algorithms extract meaningful patterns from raw data to create representations that are easier to understand and process. \n",
    "  word embedding \n",
    "    - embeddings of individual words\n",
    "    - word embeddings of similar words tend to be close, and some axes seem to encode meaningful concepts (Figure 13-7)\n",
    "  embedding reuse\n",
    "    - embeddings generally be useful representations fo the task at hand, but quite often these same embeddings can be reused successfully for other tasks\n",
    "    - most common example of embedding reuse is word embedding\n",
    "  - embeddings typically have 10 to 300 dimensions (not 2D as used in example), depending on the task, the vocabulary size, and the size of your training set\n",
    "\n",
    "pages 471 - 472\n",
    "TextVectorization Layer\n",
    "  - for basic text preprocessing\n",
    "  - must either pass it a vocabulary upon creation, or let it learn the vocabuarly from some training data using its 'adapt()' method\n",
    "  - when encoding sentences, unknown words are encoded as '1's, and shorter sentences are padded with zeros\n",
    "  TextVectorization.adapt() method\n",
    "    - first, by default, converts training sentences to lowercase and removes punctuation\n",
    "    - next, the sentences are split on whitespaces, and resulting words are sorted by frequency, producing the final vocabulary\n",
    "  TextVectorization arguments include:\n",
    "    standardize=\n",
    "      None:  preserves case and punctuation (no standardization)\n",
    "      <std_fcn>:  passes standardization function, <std_fcn>\n",
    "    split=\n",
    "      lower_and_strip_punctuation (default): Text will be lowercased and all punctuation removed.\n",
    "      None: prevents splitting\n",
    "    <splitting_fcn>: passes splitting function, <splitting_fcn>\n",
    "    output_sequence_length=<output_sequence_length>\n",
    "      - used to ensure all output sequences all get cropped or padded to the desired length\n",
    "    ragged=\n",
    "      True: get a ragged tensor rather than a regular tensor\n",
    "    output_mode=\n",
    "      int (default): Outputs integer indices, one integer index per split string token. When output_mode == \"int\", 0 is reserved for masked locations; this reduces the vocab size to max_tokens - 2 instead of max_tokens - 1.\n",
    "      multi_hot: Outputs a single int array per batch, of either vocab_size or max_tokens size, containing 1s in all elements where the token mapped to that index exists at least once in the batch item.\n",
    "      count:  Like \"multi_hot\", but the int array contains a count of the number of times the token at that index appeared in the batch item.  \n",
    "      tf_idf: term-frequency x inverse-document-frequency (TF-IDF): This is similar to the count encoding, but words that occur frequently in the training data are downweighted, and conversely, rare words are upweighted \n",
    "\n",
    "__book answer__: Let's look at how to encode categorical text features and text:\n",
    "\n",
    "    * To encode a categorical feature that has a natural order, such as a movie rating (e.g., \"bad,\" \"average,\" \"good\"), the simplest option is to use ordinal encoding: sort the categories in their natural order and map each category to its rank (e.g., \"bad\" maps to 0, \"average\" maps to 1, and \"good\" maps to 2). However, most categorical features don't have such a natural order. For example, there's no natural order for professions or countries. In this case, you can use one-hot encoding, or embeddings if there are many categories. With Keras, the `StringLookup` layer can be used for ordinal encoding (using the default `output_mode=\"int\"`), or one-hot encoding (using `output_mode=\"one_hot\"`). It can also perform multi-hot encoding (using `output_mode=\"multi_hot\"`) if you want to encode multiple categorical text features together, assuming they share the same categories and it doesn't matter which feature contributed which category. For trainable embeddings, you must first use the `StringLookup` layer to produce an ordinal encoding, then use the `Embedding` layer.\n",
    "    \n",
    "    * For text, the `TextVectorization` layer is easy to use and it can work well for simple tasks, or you can use TF Text for more advanced features. However, you'll often want to use pretrained language models, which you can obtain using tools like TF Hub or Hugging Face's Transformers library. These last two options are discussed in Chapter 16."
   ]
  },
  {
   "cell_type": "code",
   "execution_count": 23,
   "id": "94aa537a-b346-40cd-8916-e57b0dc43b7b",
   "metadata": {},
   "outputs": [],
   "source": [
    "import numpy as np\n",
    "import sklearn\n",
    "import tensorflow as tf\n",
    "from sklearn.datasets import load_iris\n",
    "from sklearn.linear_model import Perceptron\n",
    "import matplotlib.pyplot as plt\n",
    "from scipy.special import expit as sigmoid\n",
    "\n",
    "plt.rc('font', size=14)\n",
    "plt.rc('axes', labelsize=14, titlesize=14)\n",
    "plt.rc('legend', fontsize=14)\n",
    "plt.rc('xtick', labelsize=10)\n",
    "plt.rc('ytick', labelsize=10)"
   ]
  },
  {
   "cell_type": "code",
   "execution_count": 26,
   "id": "77b8a1a1-618b-451e-8684-122242c88194",
   "metadata": {},
   "outputs": [],
   "source": [
    "from pathlib import Path\n",
    "\n",
    "IMAGES_PATH = Path() / \"images\" / \"deep\"\n",
    "IMAGES_PATH.mkdir(parents=True, exist_ok=True)\n",
    "\n",
    "def save_fig(fig_id, tight_layout=True, fig_extension=\"png\", resolution=300):\n",
    "    path = IMAGES_PATH / f\"{fig_id}.{fig_extension}\"\n",
    "    if tight_layout:\n",
    "        plt.tight_layout()\n",
    "    plt.savefig(path, format=fig_extension, dpi=resolution)"
   ]
  },
  {
   "cell_type": "markdown",
   "id": "6b2e1921-9571-4a88-a5d0-53af451b4082",
   "metadata": {},
   "source": [
    "### 9. \n",
    "Load the Fashion MNIST dataset (introduced in Chapter 10); split it into a training set, a validation set, and a test set; shuffle the training set; and save each dataset to multiple TFRecord files. Each record should be a serialized Example protobuf with twe features; the serialized image (use tf.io.serialize_tensor() to serialize the image), and the label. Then use tf.data to create an efficient dataset for each set. Finally, use Keras model to train these datasets, including a preprocessing layer to standardized each input feature. Try to make the input pipeline as efficient as possible, using TensorBoard to visualize profiling data."
   ]
  },
  {
   "cell_type": "markdown",
   "id": "b06900e9-d630-4ebc-8f9f-697fab2e143e",
   "metadata": {},
   "source": [
    "### 9 a.\n",
    "Load the Fashion MNIST dataset (introduced in Chapter 10); split it into a training set, a validation set, and a test set; shuffle the training set; and save each dataset to multiple TFRecord files. Each record should be a serialized Example protobuf with twe features; the serialized image (use tf.io.serialize_tensor() to serialize the image), and the label."
   ]
  },
  {
   "cell_type": "code",
   "execution_count": 1,
   "id": "03523a70-8421-41eb-a21c-862bab7260d0",
   "metadata": {},
   "outputs": [],
   "source": [
    "import tensorflow as tf\n",
    "\n",
    "fashion_mnist = tf.keras.datasets.fashion_mnist.load_data()\n",
    "(X_train_full, y_train_full), (X_test, y_test) = fashion_mnist\n",
    "X_train, y_train = X_train_full[:-5000], y_train_full[:-5000]\n",
    "X_valid, y_valid = X_train_full[-5000:], y_train_full[-5000:]"
   ]
  },
  {
   "cell_type": "code",
   "execution_count": 2,
   "id": "a6bf9841-e3fd-4a9d-a41b-08b1ea938504",
   "metadata": {},
   "outputs": [],
   "source": [
    "tf.random.set_seed(42)\n",
    "train_set = tf.data.Dataset.from_tensor_slices((X_train, y_train))\n",
    "train_set = train_set.shuffle(len(X_train), seed=42)\n",
    "valid_set = tf.data.Dataset.from_tensor_slices((X_valid, y_valid))\n",
    "test_set = tf.data.Dataset.from_tensor_slices((X_test, y_test))"
   ]
  },
  {
   "cell_type": "code",
   "execution_count": 7,
   "id": "49e4cf5e-1201-4871-99a2-a3fc558dbeb9",
   "metadata": {},
   "outputs": [],
   "source": [
    "from tensorflow.train import BytesList, FloatList, Int64List\n",
    "from tensorflow.train import Feature, Features, Example"
   ]
  },
  {
   "cell_type": "code",
   "execution_count": 8,
   "id": "dddf3afd-81d2-41d0-9f75-b9569ba27402",
   "metadata": {},
   "outputs": [],
   "source": [
    "def create_example(image, label):\n",
    "    image_data = tf.io.serialize_tensor(image)\n",
    "    #image_data = tf.io.encode_jpeg(image[..., np.newaxis])\n",
    "    return Example(\n",
    "        features=Features(\n",
    "            feature={\n",
    "                \"image\": Feature(bytes_list=BytesList(value=[image_data.numpy()])),\n",
    "                \"label\": Feature(int64_list=Int64List(value=[label])),\n",
    "            }))"
   ]
  },
  {
   "cell_type": "code",
   "execution_count": 9,
   "id": "27997be2-1400-432e-897b-5f7fce78dd9a",
   "metadata": {},
   "outputs": [
    {
     "name": "stdout",
     "output_type": "stream",
     "text": [
      "features {\n",
      "  feature {\n",
      "    key: \"image\"\n",
      "    value {\n",
      "      bytes_list {\n",
      "        value: \"\\010\\004\\022\\010\\022\\002\\010\\034\\022\\002\\010\\034\\\"\\220\\006\\000\\000\\000\\000\\000\\000\\000\\002\\000\\000\\000\\000\\000\\000\\000\\000\\000\\000\\000\\000\\000\\000\\002\\000\\000\\000\\000\\000\\000\\000\\000\\000\\000\\000\\000\\000\\000\\030\\254\\247bXT^j\\224\\272J\\000\\000\\000\\000\\000\\000\\000\\000\\000\\000\\000\\000\\000\\000\\000m\\335\\347\\360\\356\\357\\360\\341\\346\\360\\356\\357\\356\\322\\253\\036\\000\\000\\000\\000\\000\\000\\000\\000\\000\\000\\000\\267\\364\\340\\325\\325\\327\\325\\324\\325\\324\\323\\322\\326\\325\\333\\351\\351q\\000\\000\\000\\000\\000\\000\\000\\000\\000\\262\\366\\333\\321\\325\\324\\325\\327\\325\\325\\325\\323\\327\\327\\317\\325\\324\\341\\330\\000\\000\\000\\000\\000\\000\\000\\000\\000\\'\\344\\334\\317\\321\\321\\322\\323\\321\\320\\320\\324\\321\\320\\315\\325\\325\\355v\\000\\000\\000\\000\\000\\000\\000\\000\\000\\t\\333\\333\\325\\321\\325\\323\\324\\321\\320\\321\\322\\323\\321\\313\\331\\327\\346\\212\\000\\000\\000\\000\\000\\000\\000\\000\\000\\033\\330\\322\\320\\317\\320\\324\\320\\317\\316\\317\\317\\324\\325\\315\\336\\336\\342\\225\\000\\000\\000\\000\\000\\000\\000\\000\\000!\\334\\315\\324\\316\\320\\317\\311\\311\\311\\312\\313\\315\\315\\312\\323\\323\\337\\240\\000\\000\\000\\000\\000\\000\\000\\000\\0005\\337\\316\\347\\304\\307\\307\\305\\310\\312\\307\\310\\310\\304\\305\\334\\323\\336\\257\\000\\000\\000\\000\\000\\000\\000\\000\\000E\\336\\321\\350\\273\\312\\313\\310\\311\\312\\310\\312\\312\\312\\311\\356\\325\\334\\274\\000\\000\\000\\000\\000\\000\\000\\000\\000W\\340\\325\\317\\273\\325\\316\\312\\313\\311\\310\\314\\320\\323\\326\\264\\337\\330\\324\\000\\000\\000\\000\\000\\000\\000\\000\\000m\\335\\336\\237\\246\\337\\310\\312\\307\\311\\312\\314\\320\\315\\351d\\354\\326\\341\\000\\000\\000\\000\\000\\000\\000\\000\\000\\210\\334\\343ki\\364\\301\\314\\312\\311\\313\\314\\315\\322\\361\\037\\365\\326\\361\\000\\000\\000\\000\\000\\000\\000\\000\\000\\256\\331\\346KK\\373\\277\\314\\312\\311\\313\\314\\314\\334\\336\\000\\370\\323\\372\\r\\000\\000\\000\\000\\000\\000\\000\\000\\344\\321\\377%e\\362\\303\\313\\307\\310\\312\\314\\314\\327\\334\\000\\362\\320\\330P\\000\\000\\000\\000\\000\\000\\000\\002\\323\\314\\377\\016\\212\\352\\305\\312\\310\\306\\310\\314\\315\\323\\354\\000\\355\\317\\331p\\000\\000\\000\\000\\000\\000\\000%\\331\\313\\377\\000\\270\\337\\310\\311\\307\\307\\311\\312\\315\\312\\376\\014\\323\\323\\331\\207\\000\\000\\000\\000\\000\\000\\000)\\330\\315\\366\\000\\327\\322\\311\\310\\306\\310\\310\\311\\312\\300\\377\\\"\\234\\333\\327\\201\\000\\000\\000\\000\\000\\000\\000\\036\\323\\322\\304\\t\\371\\305\\310\\307\\310\\310\\307\\310\\310\\304\\370q_\\332\\323j\\000\\000\\000\\000\\000\\000\\000I\\343\\353\\267!\\377\\277\\306\\304\\307\\307\\306\\307\\310\\306\\346\\243J\\377\\347\\252\\000\\000\\000\\000\\000\\000\\000\\002$7\\000y\\362\\302\\307\\305\\307\\310\\310\\311\\312\\310\\324\\333\\014EM>\\000\\000\\000\\000\\000\\000\\000\\000\\000\\000\\000\\250\\325\\303\\310\\307\\310\\312\\312\\311\\312\\312\\311\\374\\000\\000\\000\\000\\000\\000\\000\\000\\000\\000\\000\\003\\003\\000\\000\\267\\324\\304\\310\\310\\310\\312\\311\\310\\311\\307\\310\\330\\'\\000\\006\\002\\000\\000\\000\\000\\000\\000\\000\\000\\000\\000\\000\\252\\323\\311\\312\\312\\312\\314\\313\\313\\312\\313\\307\\3300\\000\\003\\000\\000\\000\\000\\000\\000\\000\\000\\000\\001\\000\\000\\302\\327\\313\\311\\310\\304\\307\\306\\305\\311\\313\\313\\352\\\\\\000\\007\\000\\000\\000\\000\\000\\000\\000\\000\\000\\001\\000\\000\\234\\305\\320\\374\\373\\372\\374\\373\\372\\371\\326\\311\\255,\\000\\004\\000\\000\\000\\000\\000\\000\\000\\000\\000\\000\\000\\000\\000\\000\\007,:EB=9.\\030\\000\\000\\000\\000\\000\\000\\000\\000\\000\"\n",
      "      }\n",
      "    }\n",
      "  }\n",
      "  feature {\n",
      "    key: \"label\"\n",
      "    value {\n",
      "      int64_list {\n",
      "        value: 0\n",
      "      }\n",
      "    }\n",
      "  }\n",
      "}\n",
      "\n"
     ]
    }
   ],
   "source": [
    "for image, label in valid_set.take(1):\n",
    "    print(create_example(image, label))"
   ]
  },
  {
   "cell_type": "markdown",
   "id": "fa9e5346-a793-4c93-889d-f2a36edf7d42",
   "metadata": {},
   "source": [
    "The following function saves a given dataset to a set of TFRecord files. The examples are written to the files in a round-robin fashion. To do this, we enumerate all the examples using the `dataset.enumerate()` method, and we compute `index % n_shards` to decide which file to write to. We use the standard `contextlib.ExitStack` class to make sure that all writers are properly closed whether or not an I/O error occurs while writing."
   ]
  },
  {
   "cell_type": "code",
   "execution_count": 11,
   "id": "5e401ad6-1807-4207-9ee1-0e5899d62c39",
   "metadata": {},
   "outputs": [],
   "source": [
    "from contextlib import ExitStack\n",
    "\n",
    "def write_tfrecords(name, dataset, n_shards=10):\n",
    "    paths = [\"{}.tfrecord-{:05d}-of-{:05d}\".format(name, index, n_shards) for index in range(n_shards)]\n",
    "    with ExitStack() as stack:\n",
    "        writers = [stack.enter_context(tf.io.TFRecordWriter(path)) for path in paths]\n",
    "        for index, (image, label) in dataset.enumerate():\n",
    "            shard = index % n_shards\n",
    "            example = create_example(image, label)\n",
    "            writers[shard].write(example.SerializeToString())\n",
    "    return paths"
   ]
  },
  {
   "cell_type": "code",
   "execution_count": 16,
   "id": "e0684e60-3f5c-4f4e-93d5-31f19f85da7e",
   "metadata": {},
   "outputs": [],
   "source": [
    "train_filepaths = write_tfrecords(\"my_fashion_mnist.train\", train_set)\n",
    "valid_filepaths = write_tfrecords(\"my_fashion_mnist.valid\", valid_set)\n",
    "test_filepaths = write_tfrecords(\"my_fashion_mnist.test\", test_set)"
   ]
  },
  {
   "cell_type": "markdown",
   "id": "c077c6a3-314b-4435-a051-b7dba1ded0d7",
   "metadata": {},
   "source": [
    "### 9 b.\n",
    "_Exercise: Then use tf.data to create an efficient dataset for each set. Finally, use a Keras model to train these datasets, including a preprocessing layer to standardize each input feature. Try to make the input pipeline as efficient as possible, using TensorBoard to visualize profiling data._"
   ]
  },
  {
   "cell_type": "code",
   "execution_count": 17,
   "id": "7032ba91-d7b5-440e-8ec7-3846e3b8e802",
   "metadata": {},
   "outputs": [],
   "source": [
    "def preprocess(tfrecord):\n",
    "    feature_descriptions = {\n",
    "        \"image\": tf.io.FixedLenFeature([], tf.string, default_value=\"\"),\n",
    "        \"label\": tf.io.FixedLenFeature([], tf.int64, default_value=-1)\n",
    "    }\n",
    "    example = tf.io.parse_single_example(tfrecord, feature_descriptions)\n",
    "    image = tf.io.parse_tensor(example[\"image\"], out_type=tf.uint8)\n",
    "    #image = tf.io.decode_jpeg(example[\"image\"])\n",
    "    image = tf.reshape(image, shape=[28, 28])\n",
    "    return image, example[\"label\"]\n",
    "\n",
    "def mnist_dataset(filepaths, n_read_threads=5, shuffle_buffer_size=None,\n",
    "                  n_parse_threads=5, batch_size=32, cache=True):\n",
    "    dataset = tf.data.TFRecordDataset(filepaths,\n",
    "                                      num_parallel_reads=n_read_threads)\n",
    "    if cache:\n",
    "        dataset = dataset.cache()\n",
    "    if shuffle_buffer_size:\n",
    "        dataset = dataset.shuffle(shuffle_buffer_size)\n",
    "    dataset = dataset.map(preprocess, num_parallel_calls=n_parse_threads)\n",
    "    dataset = dataset.batch(batch_size)\n",
    "    return dataset.prefetch(1)"
   ]
  },
  {
   "cell_type": "code",
   "execution_count": 18,
   "id": "0fd125ea-a58f-4bdc-862e-ea83d5444850",
   "metadata": {},
   "outputs": [],
   "source": [
    "train_set = mnist_dataset(train_filepaths, shuffle_buffer_size=60000)\n",
    "valid_set = mnist_dataset(valid_filepaths)\n",
    "test_set = mnist_dataset(test_filepaths)"
   ]
  },
  {
   "cell_type": "code",
   "execution_count": 21,
   "id": "00da40e1-ce67-4964-a79f-e7581144a05a",
   "metadata": {},
   "outputs": [
    {
     "data": {
      "image/png": "[encoded data removed]",
      "text/plain": [
       "<Figure size 640x480 with 5 Axes>"
      ]
     },
     "metadata": {},
     "output_type": "display_data"
    }
   ],
   "source": [
    "for X, y in train_set.take(1):\n",
    "    for i in range(5):\n",
    "        plt.subplot(1, 5, i + 1)\n",
    "        plt.imshow(X[i].numpy(), cmap=\"binary\")\n",
    "        plt.axis(\"off\")\n",
    "        plt.title(str(y[i].numpy()))"
   ]
  },
  {
   "cell_type": "code",
   "execution_count": 31,
   "id": "7167294a-a732-4d85-83a1-609609e4f7e1",
   "metadata": {},
   "outputs": [
    {
     "data": {
      "image/png": "[encoded data removed]",
      "text/plain": [
       "<Figure size 640x480 with 32 Axes>"
      ]
     },
     "metadata": {},
     "output_type": "display_data"
    }
   ],
   "source": [
    "n_rows = 4\n",
    "n_cols = 8\n",
    "for X, y in train_set.take(1):\n",
    "    for row in range(n_rows):\n",
    "        for col in range(n_cols):\n",
    "            index = n_cols * row + col\n",
    "            plt.subplot(n_rows, n_cols, index + 1)\n",
    "            plt.imshow(X[index].numpy(), cmap=\"binary\")\n",
    "            plt.axis(\"off\")\n",
    "            plt.title(str(y[index].numpy()))"
   ]
  },
  {
   "cell_type": "code",
   "execution_count": 32,
   "id": "57b8f6aa-07fe-41fd-a8fc-dc5c389b21ef",
   "metadata": {},
   "outputs": [
    {
     "name": "stderr",
     "output_type": "stream",
     "text": [
      "C:\\Users\\pat\\anaconda3\\Lib\\site-packages\\keras\\src\\layers\\preprocessing\\normalization.py:99: UserWarning: Do not pass an `input_shape`/`input_dim` argument to a layer. When using Sequential models, prefer using an `Input(shape)` object as the first layer in the model instead.\n",
      "  super().__init__(**kwargs)\n"
     ]
    }
   ],
   "source": [
    "tf.random.set_seed(42)\n",
    "\n",
    "standardization = tf.keras.layers.Normalization(input_shape=[28, 28])\n",
    "\n",
    "# train_set dataset contains image & label, just return the image\n",
    "sample_image_batches = train_set.take(100).map(lambda image, label: image)\n",
    "# return a list of the images converted to float32 values\n",
    "sample_images = np.concatenate(list(sample_image_batches.as_numpy_iterator()), axis=0).astype(np.float32)\n",
    "# standardized images values\n",
    "standardization.adapt(sample_images)\n",
    "\n",
    "model = tf.keras.Sequential([\n",
    "    standardization,\n",
    "    tf.keras.layers.Flatten(),\n",
    "    tf.keras.layers.Dense(100, activation=\"relu\"),\n",
    "    tf.keras.layers.Dense(10, activation=\"softmax\")\n",
    "])\n",
    "model.compile(loss=\"sparse_categorical_crossentropy\", optimizer=\"nadam\", metrics=[\"accuracy\"])"
   ]
  },
  {
   "cell_type": "code",
   "execution_count": 33,
   "id": "62579f3d-77a2-49ad-8f2e-d580c0423315",
   "metadata": {},
   "outputs": [
    {
     "name": "stdout",
     "output_type": "stream",
     "text": [
      "Epoch 1/5\n",
      "   1704/Unknown \u001b[1m7s\u001b[0m 3ms/step - accuracy: 0.8059 - loss: 0.5508"
     ]
    },
    {
     "name": "stderr",
     "output_type": "stream",
     "text": [
      "C:\\Users\\pat\\anaconda3\\Lib\\contextlib.py:155: UserWarning: Your input ran out of data; interrupting training. Make sure that your dataset or generator can generate at least `steps_per_epoch * epochs` batches. You may need to use the `.repeat()` function when building your dataset.\n",
      "  self.gen.throw(typ, value, traceback)\n"
     ]
    },
    {
     "name": "stdout",
     "output_type": "stream",
     "text": [
      "\u001b[1m1719/1719\u001b[0m \u001b[32m━━━━━━━━━━━━━━━━━━━━\u001b[0m\u001b[37m\u001b[0m \u001b[1m8s\u001b[0m 4ms/step - accuracy: 0.8062 - loss: 0.5499 - val_accuracy: 0.8600 - val_loss: 0.3701\n",
      "Epoch 2/5\n",
      "\u001b[1m1719/1719\u001b[0m \u001b[32m━━━━━━━━━━━━━━━━━━━━\u001b[0m\u001b[37m\u001b[0m \u001b[1m5s\u001b[0m 3ms/step - accuracy: 0.8757 - loss: 0.3458 - val_accuracy: 0.8720 - val_loss: 0.3554\n",
      "Epoch 3/5\n",
      "\u001b[1m1719/1719\u001b[0m \u001b[32m━━━━━━━━━━━━━━━━━━━━\u001b[0m\u001b[37m\u001b[0m \u001b[1m5s\u001b[0m 3ms/step - accuracy: 0.8917 - loss: 0.2960 - val_accuracy: 0.8846 - val_loss: 0.3271\n",
      "Epoch 4/5\n",
      "\u001b[1m1719/1719\u001b[0m \u001b[32m━━━━━━━━━━━━━━━━━━━━\u001b[0m\u001b[37m\u001b[0m \u001b[1m5s\u001b[0m 3ms/step - accuracy: 0.9009 - loss: 0.2709 - val_accuracy: 0.8816 - val_loss: 0.3265\n",
      "Epoch 5/5\n",
      "\u001b[1m1719/1719\u001b[0m \u001b[32m━━━━━━━━━━━━━━━━━━━━\u001b[0m\u001b[37m\u001b[0m \u001b[1m5s\u001b[0m 3ms/step - accuracy: 0.9077 - loss: 0.2471 - val_accuracy: 0.8830 - val_loss: 0.3397\n"
     ]
    },
    {
     "data": {
      "text/plain": [
       "<keras.src.callbacks.history.History at 0x206346cfc90>"
      ]
     },
     "execution_count": 33,
     "metadata": {},
     "output_type": "execute_result"
    }
   ],
   "source": [
    "from datetime import datetime\n",
    "\n",
    "logs = Path() / \"my_logs\" / \"run_\" / datetime.now().strftime(\"%Y%m%d_%H%M%S\")\n",
    "\n",
    "tensorboard_cb = tf.keras.callbacks.TensorBoard(log_dir=logs, histogram_freq=1, profile_batch=10)\n",
    "\n",
    "# train model and include tensorBoard callbacks\n",
    "model.fit(train_set, epochs=5, validation_data=valid_set, callbacks=[tensorboard_cb])"
   ]
  },
  {
   "cell_type": "code",
   "execution_count": 34,
   "id": "ed2b3711-2603-4f26-ad44-d0825ec355a2",
   "metadata": {},
   "outputs": [
    {
     "data": {
      "text/html": [
       "\n",
       "      <iframe id=\"tensorboard-frame-5e625f3c5df5dc88\" width=\"100%\" height=\"800\" frameborder=\"0\">\n",
       "      </iframe>\n",
       "      <script>\n",
       "        (function() {\n",
       "          const frame = document.getElementById(\"tensorboard-frame-5e625f3c5df5dc88\");\n",
       "          const url = new URL(\"/\", window.location);\n",
       "          const port = 6006;\n",
       "          if (port) {\n",
       "            url.port = port;\n",
       "          }\n",
       "          frame.src = url;\n",
       "        })();\n",
       "      </script>\n",
       "    "
      ],
      "text/plain": [
       "<IPython.core.display.HTML object>"
      ]
     },
     "metadata": {},
     "output_type": "display_data"
    }
   ],
   "source": [
    "%load_ext tensorboard\n",
    "%tensorboard --logdir=./my_logs"
   ]
  },
  {
   "cell_type": "code",
   "execution_count": 35,
   "id": "69f6e318-28eb-4708-9e6c-e4a51be07688",
   "metadata": {},
   "outputs": [
    {
     "name": "stdout",
     "output_type": "stream",
     "text": [
      "SUCCESS: The process \"tensorboard.exe\" with PID 23384 has been terminated.\n"
     ]
    }
   ],
   "source": [
    "# close tensorboard\n",
    "!taskkill /IM \"tensorboard.exe\" /F\n",
    "!rmdir /S /Q %temp%\\.tensorboard-info"
   ]
  },
  {
   "cell_type": "markdown",
   "id": "3ce7464c-aeb5-4aa1-abae-3f5cb47a064d",
   "metadata": {},
   "source": [
    "### 10. \n",
    "In this exercise you will download a dataset, split it, create a 'tf.data.Dataset' to load it and preprocess it efficiently, then build and train a binary classification model containing an 'Embedding' layer."
   ]
  },
  {
   "cell_type": "markdown",
   "id": "29a4d17a-fc42-40c8-afb6-066e95cf3a06",
   "metadata": {},
   "source": [
    "### 10 a. \n",
    "Download the Large Movie Review Dataset (https://homl.info/imdb) which contains 50,000 movie reviews from the Internet Movie Database (IMDb) (https://imdb.com). The data is organized in two directories, train and test, each containing a 'pos' subdirectory with 12,500 positive reviews and a 'neg' subdirectory with 12,500 negative reviews. Each review is stored in a separate text file. There are other files and folders (including preprocessed bag-of-words versions), but we will ignore them in this exercise."
   ]
  },
  {
   "cell_type": "code",
   "execution_count": 36,
   "id": "82ae4a40-6c07-4b96-ba4e-5d9ac7667596",
   "metadata": {},
   "outputs": [
    {
     "name": "stdout",
     "output_type": "stream",
     "text": [
      "Downloading data from https://ai.stanford.edu/~amaas/data/sentiment/aclImdb_v1.tar.gz\n",
      "\u001b[1m84125825/84125825\u001b[0m \u001b[32m━━━━━━━━━━━━━━━━━━━━\u001b[0m\u001b[37m\u001b[0m \u001b[1m7s\u001b[0m 0us/step\n"
     ]
    },
    {
     "data": {
      "text/plain": [
       "WindowsPath('datasets/aclImdb')"
      ]
     },
     "execution_count": 36,
     "metadata": {},
     "output_type": "execute_result"
    }
   ],
   "source": [
    "from pathlib import Path\n",
    "\n",
    "root = \"https://ai.stanford.edu/~amaas/data/sentiment/\"\n",
    "filename = \"aclImdb_v1.tar.gz\"\n",
    "filepath = tf.keras.utils.get_file(filename, root + filename, extract=True,\n",
    "                                   cache_dir=\".\")\n",
    "path = Path(filepath).with_name(\"aclImdb\")\n",
    "path"
   ]
  },
  {
   "cell_type": "code",
   "execution_count": 37,
   "id": "e021b947-7a86-4b8a-8ea5-bab8e36eff24",
   "metadata": {},
   "outputs": [],
   "source": [
    "def tree(path, level=0, indent=4, max_files=3):\n",
    "    if level == 0:\n",
    "        print(f\"{path}/\")\n",
    "        level += 1\n",
    "    sub_paths = sorted(path.iterdir())\n",
    "    sub_dirs = [sub_path for sub_path in sub_paths if sub_path.is_dir()]\n",
    "    filepaths = [sub_path for sub_path in sub_paths if not sub_path in sub_dirs]\n",
    "    indent_str = \" \" * indent * level\n",
    "    for sub_dir in sub_dirs:\n",
    "        print(f\"{indent_str}{sub_dir.name}/\")\n",
    "        tree(sub_dir,  level + 1, indent)\n",
    "    for filepath in filepaths[:max_files]:\n",
    "        print(f\"{indent_str}{filepath.name}\")\n",
    "    if len(filepaths) > max_files:\n",
    "        print(f\"{indent_str}...\")"
   ]
  },
  {
   "cell_type": "code",
   "execution_count": 38,
   "id": "2e7c029c-05e9-4f34-9a0e-e7c734f7e5ad",
   "metadata": {},
   "outputs": [
    {
     "name": "stdout",
     "output_type": "stream",
     "text": [
      "datasets\\aclImdb/\n",
      "    test/\n",
      "        neg/\n",
      "            0_2.txt\n",
      "            10000_4.txt\n",
      "            10001_1.txt\n",
      "            ...\n",
      "        pos/\n",
      "            0_10.txt\n",
      "            10000_7.txt\n",
      "            10001_9.txt\n",
      "            ...\n",
      "        labeledBow.feat\n",
      "        urls_neg.txt\n",
      "        urls_pos.txt\n",
      "    train/\n",
      "        neg/\n",
      "            0_3.txt\n",
      "            10000_4.txt\n",
      "            10001_4.txt\n",
      "            ...\n",
      "        pos/\n",
      "            0_9.txt\n",
      "            10000_8.txt\n",
      "            10001_10.txt\n",
      "            ...\n",
      "        unsup/\n",
      "            0_0.txt\n",
      "            10000_0.txt\n",
      "            10001_0.txt\n",
      "            ...\n",
      "        labeledBow.feat\n",
      "        unsupBow.feat\n",
      "        urls_neg.txt\n",
      "        ...\n",
      "    imdb.vocab\n",
      "    imdbEr.txt\n",
      "    README\n"
     ]
    }
   ],
   "source": [
    "tree(path)"
   ]
  },
  {
   "cell_type": "code",
   "execution_count": 39,
   "id": "1829db0d-c501-4cf3-9f29-e3068354e675",
   "metadata": {},
   "outputs": [
    {
     "data": {
      "text/plain": [
       "(12500, 12500, 12500, 12500)"
      ]
     },
     "execution_count": 39,
     "metadata": {},
     "output_type": "execute_result"
    }
   ],
   "source": [
    "def review_paths(dirpath):\n",
    "    return [str(path) for path in dirpath.glob(\"*.txt\")]\n",
    "\n",
    "train_pos = review_paths(path / \"train\" / \"pos\")\n",
    "train_neg = review_paths(path / \"train\" / \"neg\")\n",
    "test_valid_pos = review_paths(path / \"test\" / \"pos\")\n",
    "test_valid_neg = review_paths(path / \"test\" / \"neg\")\n",
    "\n",
    "len(train_pos), len(train_neg), len(test_valid_pos), len(test_valid_neg)"
   ]
  },
  {
   "cell_type": "markdown",
   "id": "7d89b7ee-714b-46fa-91ad-2eade472dc63",
   "metadata": {},
   "source": [
    "### 10 b.\n",
    "Split the test set into a validation set (15,000) and a test set (10,000)."
   ]
  },
  {
   "cell_type": "code",
   "execution_count": 40,
   "id": "3956ce73-538e-480d-b034-12ef2a6fda82",
   "metadata": {},
   "outputs": [],
   "source": [
    "np.random.shuffle(test_valid_pos)\n",
    "\n",
    "test_pos = test_valid_pos[:5000]\n",
    "test_neg = test_valid_neg[:5000]\n",
    "valid_pos = test_valid_pos[5000:]\n",
    "valid_neg = test_valid_neg[5000:]"
   ]
  },
  {
   "cell_type": "markdown",
   "id": "91063676-07c7-412f-bef5-313c20bce579",
   "metadata": {},
   "source": [
    "### 10 c.\n",
    "Use 'tf.data' to create an efficient dataset for each set."
   ]
  },
  {
   "cell_type": "markdown",
   "id": "53659e60-bb12-4bdb-aa78-a517a824ed4f",
   "metadata": {},
   "source": [
    "Since the dataset fits in memory, we can just load all the data using pure Python code and use `tf.data.Dataset.from_tensor_slices()`:"
   ]
  },
  {
   "cell_type": "code",
   "execution_count": 41,
   "id": "d077e32b-8d78-4aea-9cd3-cf7effb99cb4",
   "metadata": {},
   "outputs": [],
   "source": [
    "def imdb_dataset(filepaths_positive, filepaths_negative):\n",
    "    reviews = []\n",
    "    labels = []\n",
    "    for filepaths, label in ((filepaths_negative, 0), (filepaths_positive, 1)):\n",
    "        for filepath in filepaths:\n",
    "            with open(filepath) as review_file:\n",
    "                reviews.append(review_file.read())\n",
    "            labels.append(label)\n",
    "    return tf.data.Dataset.from_tensor_slices(\n",
    "        (tf.constant(reviews), tf.constant(labels)))"
   ]
  },
  {
   "cell_type": "code",
   "execution_count": 64,
   "id": "c096c1ee-6e4f-4f8a-ba9d-461d5097ddef",
   "metadata": {},
   "outputs": [
    {
     "name": "stdout",
     "output_type": "stream",
     "text": [
      "tf.Tensor(b\"Story of a man who has unnatural feelings for a pig. Starts out with a opening scene that is a terrific example of absurd comedy. A formal orchestra audience is turned into an insane, violent mob by the crazy chantings of it's singers. Unfortunately it stays absurd the WHOLE time with no general narrative eventually making it just too off putting. Even those from the era should be turned off. The cryptic dialogue would make Shakespeare seem easy to a third grader. On a technical level it's better than you might think with some good cinematography by future great Vilmos Zsigmond. Future stars Sally Kirkland and Frederic Forrest can be seen briefly.\", shape=(), dtype=string)\n",
      "tf.Tensor(0, shape=(), dtype=int32)\n",
      "\n",
      "tf.Tensor(b\"Airport '77 starts as a brand new luxury 747 plane is loaded up with valuable paintings & such belonging to rich businessman Philip Stevens (James Stewart) who is flying them & a bunch of VIP's to his estate in preparation of it being opened to the public as a museum, also on board is Stevens daughter Julie (Kathleen Quinlan) & her son. The luxury jetliner takes off as planned but mid-air the plane is hi-jacked by the co-pilot Chambers (Robert Foxworth) & his two accomplice's Banker (Monte Markham) & Wilson (Michael Pataki) who knock the passengers & crew out with sleeping gas, they plan to steal the valuable cargo & land on a disused plane strip on an isolated island but while making his descent Chambers almost hits an oil rig in the Ocean & loses control of the plane sending it crashing into the sea where it sinks to the bottom right bang in the middle of the Bermuda Triangle. With air in short supply, water leaking in & having flown over 200 miles off course the problems mount for the survivor's as they await help with time fast running out...<br /><br />Also known under the slightly different tile Airport 1977 this second sequel to the smash-hit disaster thriller Airport (1970) was directed by Jerry Jameson & while once again like it's predecessors I can't say Airport '77 is any sort of forgotten classic it is entertaining although not necessarily for the right reasons. Out of the three Airport films I have seen so far I actually liked this one the best, just. It has my favourite plot of the three with a nice mid-air hi-jacking & then the crashing (didn't he see the oil rig?) & sinking of the 747 (maybe the makers were trying to cross the original Airport with another popular disaster flick of the period The Poseidon Adventure (1972)) & submerged is where it stays until the end with a stark dilemma facing those trapped inside, either suffocate when the air runs out or drown as the 747 floods or if any of the doors are opened & it's a decent idea that could have made for a great little disaster flick but bad unsympathetic character's, dull dialogue, lethargic set-pieces & a real lack of danger or suspense or tension means this is a missed opportunity. While the rather sluggish plot keeps one entertained for 108 odd minutes not that much happens after the plane sinks & there's not as much urgency as I thought there should have been. Even when the Navy become involved things don't pick up that much with a few shots of huge ships & helicopters flying about but there's just something lacking here. George Kennedy as the jinxed airline worker Joe Patroni is back but only gets a couple of scenes & barely even says anything preferring to just look worried in the background.<br /><br />The home video & theatrical version of Airport '77 run 108 minutes while the US TV versions add an extra hour of footage including a new opening credits sequence, many more scenes with George Kennedy as Patroni, flashbacks to flesh out character's, longer rescue scenes & the discovery or another couple of dead bodies including the navigator. While I would like to see this extra footage I am not sure I could sit through a near three hour cut of Airport '77. As expected the film has dated badly with horrible fashions & interior design choices, I will say no more other than the toy plane model effects aren't great either. Along with the other two Airport sequels this takes pride of place in the Razzie Award's Hall of Shame although I can think of lots of worse films than this so I reckon that's a little harsh. The action scenes are a little dull unfortunately, the pace is slow & not much excitement or tension is generated which is a shame as I reckon this could have been a pretty good film if made properly.<br /><br />The production values are alright if nothing spectacular. The acting isn't great, two time Oscar winner Jack Lemmon has said since it was a mistake to star in this, one time Oscar winner James Stewart looks old & frail, also one time Oscar winner Lee Grant looks drunk while Sir Christopher Lee is given little to do & there are plenty of other familiar faces to look out for too.<br /><br />Airport '77 is the most disaster orientated of the three Airport films so far & I liked the ideas behind it even if they were a bit silly, the production & bland direction doesn't help though & a film about a sunken plane just shouldn't be this boring or lethargic. Followed by The Concorde ... Airport '79 (1979).\", shape=(), dtype=string)\n",
      "tf.Tensor(0, shape=(), dtype=int32)\n",
      "\n",
      "tf.Tensor(b\"This film lacked something I couldn't put my finger on at first: charisma on the part of the leading actress. This inevitably translated to lack of chemistry when she shared the screen with her leading man. Even the romantic scenes came across as being merely the actors at play. It could very well have been the director who miscalculated what he needed from the actors. I just don't know.<br /><br />But could it have been the screenplay? Just exactly who was the chef in love with? He seemed more enamored of his culinary skills and restaurant, and ultimately of himself and his youthful exploits, than of anybody or anything else. He never convinced me he was in love with the princess.<br /><br />I was disappointed in this movie. But, don't forget it was nominated for an Oscar, so judge for yourself.\", shape=(), dtype=string)\n",
      "tf.Tensor(0, shape=(), dtype=int32)\n",
      "\n"
     ]
    }
   ],
   "source": [
    "for X, y in imdb_dataset(train_pos, train_neg).take(3):\n",
    "    print(X)\n",
    "    print(y)\n",
    "    print()"
   ]
  },
  {
   "cell_type": "code",
   "execution_count": 57,
   "id": "7bbf71b0-d5ef-4926-9bf4-6f8baa0acb30",
   "metadata": {},
   "outputs": [],
   "source": [
    "def imdb_dataset_tst(filepaths_positive, filepaths_negative):\n",
    "    reviews = []\n",
    "    labels = []\n",
    "    cnt = 0\n",
    "    for filepaths, label in ((filepaths_negative, 0), (filepaths_positive, 1)):\n",
    "        for filepath in filepaths:\n",
    "            try:\n",
    "                with open(filepath) as review_file:\n",
    "                    reviews.append(review_file.read())\n",
    "                labels.append(label)\n",
    "            except:\n",
    "                print(f'ERROR: filepath({cnt}): {filepath}')\n",
    "            cnt += 1\n",
    "    return tf.data.Dataset.from_tensor_slices(\n",
    "        (tf.constant(reviews), tf.constant(labels)))"
   ]
  },
  {
   "cell_type": "code",
   "execution_count": 82,
   "id": "00d35d9a-6490-4de4-ad2d-aaf858ea7ef1",
   "metadata": {},
   "outputs": [
    {
     "name": "stdout",
     "output_type": "stream",
     "text": [
      "tf.Tensor(b\"Once again Mr. Costner has dragged out a movie for far longer than necessary. Aside from the terrific sea rescue sequences, of which there are very few I just did not care about any of the characters. Most of us have ghosts in the closet, and Costner's character are realized early on, and then forgotten until much later, by which time I did not care. The character we should really care about is a very cocky, overconfident Ashton Kutcher. The problem is he comes off as kid who thinks he's better than anyone else around him and shows no signs of a cluttered closet. His only obstacle appears to be winning over Costner. Finally when we are well past the half way point of this stinker, Costner tells us all about Kutcher's ghosts. We are told why Kutcher is driven to be the best with no prior inkling or foreshadowing. No magic here, it was all I could do to keep from turning it off an hour in.\", shape=(), dtype=string)\n",
      "tf.Tensor(0, shape=(), dtype=int32)\n",
      "\n"
     ]
    }
   ],
   "source": [
    "for X, y in imdb_dataset_tst(test_pos, test_neg).take(1):\n",
    "    print(X)\n",
    "    print(y)\n",
    "    print()"
   ]
  },
  {
   "cell_type": "code",
   "execution_count": 84,
   "id": "4f960262-4066-4c61-ab3a-6cec70c18d7a",
   "metadata": {},
   "outputs": [
    {
     "name": "stdout",
     "output_type": "stream",
     "text": [
      "50.2 s ± 0 ns per loop (mean ± std. dev. of 1 run, 1 loop each)\n"
     ]
    }
   ],
   "source": [
    "%timeit -r1 for X, y in imdb_dataset(train_pos, train_neg).repeat(10): pass"
   ]
  },
  {
   "cell_type": "code",
   "execution_count": 85,
   "id": "4479aa22-654b-4872-910e-6f820dde99a2",
   "metadata": {},
   "outputs": [],
   "source": [
    "batch_size = 32\n",
    "\n",
    "train_set = imdb_dataset(train_pos, train_neg).shuffle(25000, seed=42)\n",
    "train_set = train_set.batch(batch_size).prefetch(1)\n",
    "valid_set = imdb_dataset(valid_pos, valid_neg).batch(batch_size).prefetch(1)\n",
    "test_set = imdb_dataset(test_pos, test_neg).batch(batch_size).prefetch(1)"
   ]
  },
  {
   "cell_type": "markdown",
   "id": "bbdfa99b-3ef6-43ab-8bc8-e1b5dc3e3395",
   "metadata": {},
   "source": [
    "10 d. Createa a binary classification model, using a 'TextVectorization' layer to preprocess reviews."
   ]
  },
  {
   "cell_type": "markdown",
   "id": "42012de5-bb46-4650-9a50-b09c523cc509",
   "metadata": {},
   "source": [
    "Let's create a `TextVectorization` layer and adapt it to the full IMDB training set (if the training set did not fit in RAM, we could just use a smaller sample of the training set by calling `train_set.take(500)`). Let's use TF-IDF for now."
   ]
  },
  {
   "cell_type": "markdown",
   "id": "e59199bd-7c81-43a0-b9b0-f25440ea224c",
   "metadata": {},
   "source": [
    "Note: TextVectoriziation max_tokens argument: Maximum size of the vocabulary for this layer. ...."
   ]
  },
  {
   "cell_type": "code",
   "execution_count": 86,
   "id": "d089bd47-651b-4852-8f3a-f5cbdc5429b1",
   "metadata": {},
   "outputs": [],
   "source": [
    "max_tokens = 1000\n",
    "sample_reviews = train_set.map(lambda review, label: review)\n",
    "text_vectorization = tf.keras.layers.TextVectorization(max_tokens=max_tokens, output_mode=\"tf_idf\")\n",
    "text_vectorization.adapt(sample_reviews)"
   ]
  },
  {
   "cell_type": "markdown",
   "id": "a91362aa-67dc-4b81-977c-743c222048a3",
   "metadata": {},
   "source": [
    "Good! Now let's take a look at the first 10 words in the vocabulary:"
   ]
  },
  {
   "cell_type": "code",
   "execution_count": 87,
   "id": "0a593802-9b6d-4ace-886c-5fdc59797e2e",
   "metadata": {},
   "outputs": [
    {
     "data": {
      "text/plain": [
       "['[UNK]', 'the', 'and', 'a', 'of', 'to', 'is', 'in', 'it', 'i']"
      ]
     },
     "execution_count": 87,
     "metadata": {},
     "output_type": "execute_result"
    }
   ],
   "source": [
    "text_vectorization.get_vocabulary()[:10]"
   ]
  },
  {
   "cell_type": "markdown",
   "id": "b5239ad4-d3e7-4ab1-a1eb-85040f64a785",
   "metadata": {},
   "source": [
    "These are the most common words in the reviews."
   ]
  },
  {
   "cell_type": "markdown",
   "id": "c6aab29e-ea63-4960-bb83-b227b28b1d25",
   "metadata": {},
   "source": [
    "We're ready to train the model!"
   ]
  },
  {
   "cell_type": "code",
   "execution_count": 88,
   "id": "145b16a0-8e5c-4b74-8e77-d44c8be6da1f",
   "metadata": {},
   "outputs": [
    {
     "name": "stdout",
     "output_type": "stream",
     "text": [
      "Epoch 1/5\n",
      "\u001b[1m782/782\u001b[0m \u001b[32m━━━━━━━━━━━━━━━━━━━━\u001b[0m\u001b[37m\u001b[0m \u001b[1m9s\u001b[0m 8ms/step - accuracy: 0.7890 - loss: 0.4743 - val_accuracy: 0.8466 - val_loss: 0.3760\n",
      "Epoch 2/5\n",
      "\u001b[1m782/782\u001b[0m \u001b[32m━━━━━━━━━━━━━━━━━━━━\u001b[0m\u001b[37m\u001b[0m \u001b[1m6s\u001b[0m 8ms/step - accuracy: 0.8568 - loss: 0.3546 - val_accuracy: 0.8452 - val_loss: 0.3729\n",
      "Epoch 3/5\n",
      "\u001b[1m782/782\u001b[0m \u001b[32m━━━━━━━━━━━━━━━━━━━━\u001b[0m\u001b[37m\u001b[0m \u001b[1m6s\u001b[0m 8ms/step - accuracy: 0.8718 - loss: 0.3196 - val_accuracy: 0.8507 - val_loss: 0.3661\n",
      "Epoch 4/5\n",
      "\u001b[1m782/782\u001b[0m \u001b[32m━━━━━━━━━━━━━━━━━━━━\u001b[0m\u001b[37m\u001b[0m \u001b[1m6s\u001b[0m 8ms/step - accuracy: 0.8936 - loss: 0.2598 - val_accuracy: 0.8509 - val_loss: 0.3702\n",
      "Epoch 5/5\n",
      "\u001b[1m782/782\u001b[0m \u001b[32m━━━━━━━━━━━━━━━━━━━━\u001b[0m\u001b[37m\u001b[0m \u001b[1m6s\u001b[0m 8ms/step - accuracy: 0.9255 - loss: 0.1898 - val_accuracy: 0.8447 - val_loss: 0.3843\n"
     ]
    },
    {
     "data": {
      "text/plain": [
       "<keras.src.callbacks.history.History at 0x2063a892750>"
      ]
     },
     "execution_count": 88,
     "metadata": {},
     "output_type": "execute_result"
    }
   ],
   "source": [
    "tf.random.set_seed(42)\n",
    "model = tf.keras.Sequential([\n",
    "    text_vectorization,\n",
    "    tf.keras.layers.Dense(100, activation=\"relu\"),\n",
    "    tf.keras.layers.Dense(1, activation=\"sigmoid\"),\n",
    "])\n",
    "model.compile(loss=\"binary_crossentropy\", optimizer=\"nadam\", metrics=[\"accuracy\"])\n",
    "model.fit(train_set, epochs=5, validation_data=valid_set)"
   ]
  },
  {
   "cell_type": "markdown",
   "id": "79f8ef1a-3848-450f-aa59-aa4f0b1d5dd0",
   "metadata": {},
   "source": [
    "We get about 84.2% accuracy on the validation set after just the first epoch, but after that the model makes no significant progress. We will do better in Chapter 16. For now the point is just to perform efficient preprocessing using `tf.data` and Keras preprocessing layers."
   ]
  },
  {
   "cell_type": "markdown",
   "id": "08315423-4949-427d-82d2-401859788b67",
   "metadata": {},
   "source": [
    "10 e. Add a 'Embedding' layer and compute the mean embedding for each review, multiplied by the square root of the number of words (see Chapter 16). This rescaled mean embedding can be passed to the rest of your model."
   ]
  },
  {
   "cell_type": "markdown",
   "id": "572bf805-2577-4aaf-944e-8e1960c6f3c8",
   "metadata": {},
   "source": [
    "To compute the mean embedding for each review, and multiply it by the square root of the number of words in that review, we will need a little function. For each sentence, this function needs to compute $M \\times \\sqrt N$, where $M$ is the mean of all the word embeddings in the sentence (excluding padding tokens), and $N$ is the number of words in the sentence (also excluding padding tokens). We can rewrite $M$ as $\\dfrac{S}{N}$, where $S$ is the sum of all word embeddings (it does not matter whether or not we include the padding tokens in this sum, since their representation is a zero vector). So the function must return $M \\times \\sqrt N = \\dfrac{S}{N} \\times \\sqrt N = \\dfrac{S}{\\sqrt N \\times \\sqrt N} \\times \\sqrt N= \\dfrac{S}{\\sqrt N}$."
   ]
  },
  {
   "cell_type": "code",
   "execution_count": 89,
   "id": "40d7ab21-9bb2-4634-9b8d-8268e8ae82d5",
   "metadata": {},
   "outputs": [
    {
     "data": {
      "text/plain": [
       "<tf.Tensor: shape=(2, 3), dtype=float32, numpy=\n",
       "array([[3.535534 , 4.9497476, 2.1213205],\n",
       "       [6.       , 0.       , 0.       ]], dtype=float32)>"
      ]
     },
     "execution_count": 89,
     "metadata": {},
     "output_type": "execute_result"
    }
   ],
   "source": [
    "def compute_mean_embedding(inputs):\n",
    "    not_pad = tf.math.count_nonzero(inputs, axis=-1)\n",
    "    n_words = tf.math.count_nonzero(not_pad, axis=-1, keepdims=True)\n",
    "    sqrt_n_words = tf.math.sqrt(tf.cast(n_words, tf.float32))\n",
    "    return tf.reduce_sum(inputs, axis=1) / sqrt_n_words\n",
    "\n",
    "another_example = tf.constant([[[1., 2., 3.], [4., 5., 0.], [0., 0., 0.]],\n",
    "                               [[6., 0., 0.], [0., 0., 0.], [0., 0., 0.]]])\n",
    "compute_mean_embedding(another_example)"
   ]
  },
  {
   "cell_type": "markdown",
   "id": "54d97d11-17c4-4ebb-950e-302dc4107d0a",
   "metadata": {},
   "source": [
    "Let's check that this is correct. The first review contains 2 words (the last token is a zero vector, which represents the `<pad>` token). Let's compute the mean embedding for these 2 words, and multiply the result by the square root of 2:"
   ]
  },
  {
   "cell_type": "code",
   "execution_count": 93,
   "id": "0ad17374-d743-4327-9cc1-a1dfdebb724d",
   "metadata": {},
   "outputs": [
    {
     "data": {
      "text/plain": [
       "<tf.Tensor: shape=(2, 3), dtype=int64, numpy=\n",
       "array([[3, 2, 0],\n",
       "       [1, 0, 0]], dtype=int64)>"
      ]
     },
     "execution_count": 93,
     "metadata": {},
     "output_type": "execute_result"
    }
   ],
   "source": [
    "tf.reduce_mean(another_example[0:1, :2], axis=1) * tf.sqrt(2.)"
   ]
  },
  {
   "cell_type": "markdown",
   "id": "4b1e4af3-2fc7-4949-b3cb-2cc6a19a8439",
   "metadata": {},
   "source": [
    "Looks good! Now let's check the second review, which contains just one word (we ignore the two padding tokens):"
   ]
  },
  {
   "cell_type": "code",
   "execution_count": 104,
   "id": "24c86809-b574-4b31-b74f-1e4f353a461f",
   "metadata": {},
   "outputs": [
    {
     "data": {
      "text/plain": [
       "<tf.Tensor: shape=(1, 3), dtype=float32, numpy=array([[6., 0., 0.]], dtype=float32)>"
      ]
     },
     "execution_count": 104,
     "metadata": {},
     "output_type": "execute_result"
    }
   ],
   "source": [
    "tf.reduce_mean(another_example[1:2, :1], axis=1) * tf.sqrt(1.)"
   ]
  },
  {
   "cell_type": "markdown",
   "id": "32a5fcb1-d871-4819-9abe-be6a43c3a24e",
   "metadata": {},
   "source": [
    "Perfect. Now we're ready to train our final model. It's the same as before, except we replaced TF-IDF with ordinal encoding (`output_mode=\"int\"`) followed by an `Embedding` layer, followed by a `Lambda` layer that calls the `compute_mean_embedding` layer:"
   ]
  },
  {
   "cell_type": "code",
   "execution_count": 105,
   "id": "c54f2b15-591c-4f6b-93ed-694a13fd8667",
   "metadata": {},
   "outputs": [],
   "source": [
    "embedding_size = 20\n",
    "tf.random.set_seed(42)\n",
    "\n",
    "text_vectorization = tf.keras.layers.TextVectorization(max_tokens=max_tokens, output_mode=\"int\")\n",
    "text_vectorization.adapt(sample_reviews)\n",
    "\n",
    "model = tf.keras.Sequential([\n",
    "    text_vectorization,\n",
    "    tf.keras.layers.Embedding(input_dim=max_tokens,\n",
    "                              output_dim=embedding_size,\n",
    "                              mask_zero=True),  # <pad> tokens => zero vectors\n",
    "    tf.keras.layers.Lambda(compute_mean_embedding),\n",
    "    tf.keras.layers.Dense(100, activation=\"relu\"),\n",
    "    tf.keras.layers.Dense(1, activation=\"sigmoid\"),\n",
    "])"
   ]
  },
  {
   "cell_type": "markdown",
   "id": "82c83785-7e55-407d-81aa-8e3483577c73",
   "metadata": {},
   "source": [
    "10 f. Train the model and see what accuracy you get. Try to optimize your pipelines to make training as fast as possible. "
   ]
  },
  {
   "cell_type": "code",
   "execution_count": 106,
   "id": "0f8e9cbf-c272-4dc2-92b9-eebf3bdfdf88",
   "metadata": {},
   "outputs": [
    {
     "name": "stdout",
     "output_type": "stream",
     "text": [
      "Epoch 1/5\n",
      "WARNING:tensorflow:From C:\\Users\\pat\\anaconda3\\Lib\\site-packages\\keras\\src\\backend\\tensorflow\\core.py:187: The name tf.placeholder is deprecated. Please use tf.compat.v1.placeholder instead.\n",
      "\n"
     ]
    },
    {
     "name": "stderr",
     "output_type": "stream",
     "text": [
      "C:\\Users\\pat\\anaconda3\\Lib\\site-packages\\keras\\src\\layers\\layer.py:857: UserWarning: Layer 'lambda' (of type Lambda) was passed an input with a mask attached to it. However, this layer does not support masking and will therefore destroy the mask information. Downstream layers will not see the mask.\n",
      "  warnings.warn(\n"
     ]
    },
    {
     "name": "stdout",
     "output_type": "stream",
     "text": [
      "\u001b[1m782/782\u001b[0m \u001b[32m━━━━━━━━━━━━━━━━━━━━\u001b[0m\u001b[37m\u001b[0m \u001b[1m11s\u001b[0m 11ms/step - accuracy: 0.5755 - loss: 0.6701 - val_accuracy: 0.7077 - val_loss: 0.5539\n",
      "Epoch 2/5\n",
      "\u001b[1m782/782\u001b[0m \u001b[32m━━━━━━━━━━━━━━━━━━━━\u001b[0m\u001b[37m\u001b[0m \u001b[1m8s\u001b[0m 10ms/step - accuracy: 0.7345 - loss: 0.5415 - val_accuracy: 0.6071 - val_loss: 0.8595\n",
      "Epoch 3/5\n",
      "\u001b[1m782/782\u001b[0m \u001b[32m━━━━━━━━━━━━━━━━━━━━\u001b[0m\u001b[37m\u001b[0m \u001b[1m8s\u001b[0m 10ms/step - accuracy: 0.7826 - loss: 0.4690 - val_accuracy: 0.8001 - val_loss: 0.4294\n",
      "Epoch 4/5\n",
      "\u001b[1m782/782\u001b[0m \u001b[32m━━━━━━━━━━━━━━━━━━━━\u001b[0m\u001b[37m\u001b[0m \u001b[1m8s\u001b[0m 10ms/step - accuracy: 0.8053 - loss: 0.4215 - val_accuracy: 0.7229 - val_loss: 0.5250\n",
      "Epoch 5/5\n",
      "\u001b[1m782/782\u001b[0m \u001b[32m━━━━━━━━━━━━━━━━━━━━\u001b[0m\u001b[37m\u001b[0m \u001b[1m8s\u001b[0m 10ms/step - accuracy: 0.8116 - loss: 0.4164 - val_accuracy: 0.8075 - val_loss: 0.4034\n"
     ]
    },
    {
     "data": {
      "text/plain": [
       "<keras.src.callbacks.history.History at 0x2063b145a50>"
      ]
     },
     "execution_count": 106,
     "metadata": {},
     "output_type": "execute_result"
    }
   ],
   "source": [
    "model.compile(loss=\"binary_crossentropy\", optimizer=\"nadam\", metrics=[\"accuracy\"])\n",
    "model.fit(train_set, epochs=5, validation_data=valid_set)"
   ]
  },
  {
   "cell_type": "markdown",
   "id": "c232e875-74d2-4082-9ae8-135f40a083eb",
   "metadata": {},
   "source": [
    "The model is just marginally better using embeddings (but we will do better in Chapter 16). The pipeline looks fast enough (we optimized it earlier)."
   ]
  },
  {
   "cell_type": "markdown",
   "id": "b4cc3420-1261-434d-bfc9-ee55351df9cb",
   "metadata": {},
   "source": [
    "10 g. Use TFDS to load the same dataset more easily; tfds.load(\"imdb_reviews\")"
   ]
  },
  {
   "cell_type": "code",
   "execution_count": 107,
   "id": "9b49fa45-c5dd-4217-98d1-5647096f842b",
   "metadata": {},
   "outputs": [
    {
     "name": "stdout",
     "output_type": "stream",
     "text": [
      "\u001b[1mDownloading and preparing dataset Unknown size (download: Unknown size, generated: Unknown size, total: Unknown size) to C:\\Users\\pat\\tensorflow_datasets\\imdb_reviews\\plain_text\\1.0.0...\u001b[0m\n"
     ]
    },
    {
     "data": {
      "application/vnd.jupyter.widget-view+json": {
       "model_id": "85ddcd362a27414384f2bce031dc8a06",
       "version_major": 2,
       "version_minor": 0
      },
      "text/plain": [
       "Dl Completed...: 0 url [00:00, ? url/s]"
      ]
     },
     "metadata": {},
     "output_type": "display_data"
    },
    {
     "data": {
      "application/vnd.jupyter.widget-view+json": {
       "model_id": "89be817ab00e4d7c97998a2c03bcf620",
       "version_major": 2,
       "version_minor": 0
      },
      "text/plain": [
       "Dl Size...: 0 MiB [00:00, ? MiB/s]"
      ]
     },
     "metadata": {},
     "output_type": "display_data"
    },
    {
     "data": {
      "application/vnd.jupyter.widget-view+json": {
       "model_id": "",
       "version_major": 2,
       "version_minor": 0
      },
      "text/plain": [
       "Generating splits...:   0%|          | 0/3 [00:00<?, ? splits/s]"
      ]
     },
     "metadata": {},
     "output_type": "display_data"
    },
    {
     "data": {
      "application/vnd.jupyter.widget-view+json": {
       "model_id": "",
       "version_major": 2,
       "version_minor": 0
      },
      "text/plain": [
       "Generating train examples...: 0 examples [00:00, ? examples/s]"
      ]
     },
     "metadata": {},
     "output_type": "display_data"
    },
    {
     "data": {
      "application/vnd.jupyter.widget-view+json": {
       "model_id": "",
       "version_major": 2,
       "version_minor": 0
      },
      "text/plain": [
       "Shuffling C:\\Users\\pat\\tensorflow_datasets\\imdb_reviews\\plain_text\\1.0.0.incomplete7MFIJ4\\imdb_reviews-train.t…"
      ]
     },
     "metadata": {},
     "output_type": "display_data"
    },
    {
     "data": {
      "application/vnd.jupyter.widget-view+json": {
       "model_id": "",
       "version_major": 2,
       "version_minor": 0
      },
      "text/plain": [
       "Generating test examples...: 0 examples [00:00, ? examples/s]"
      ]
     },
     "metadata": {},
     "output_type": "display_data"
    },
    {
     "data": {
      "application/vnd.jupyter.widget-view+json": {
       "model_id": "",
       "version_major": 2,
       "version_minor": 0
      },
      "text/plain": [
       "Shuffling C:\\Users\\pat\\tensorflow_datasets\\imdb_reviews\\plain_text\\1.0.0.incomplete7MFIJ4\\imdb_reviews-test.tf…"
      ]
     },
     "metadata": {},
     "output_type": "display_data"
    },
    {
     "data": {
      "application/vnd.jupyter.widget-view+json": {
       "model_id": "",
       "version_major": 2,
       "version_minor": 0
      },
      "text/plain": [
       "Generating unsupervised examples...: 0 examples [00:00, ? examples/s]"
      ]
     },
     "metadata": {},
     "output_type": "display_data"
    },
    {
     "data": {
      "application/vnd.jupyter.widget-view+json": {
       "model_id": "",
       "version_major": 2,
       "version_minor": 0
      },
      "text/plain": [
       "Shuffling C:\\Users\\pat\\tensorflow_datasets\\imdb_reviews\\plain_text\\1.0.0.incomplete7MFIJ4\\imdb_reviews-unsuper…"
      ]
     },
     "metadata": {},
     "output_type": "display_data"
    },
    {
     "name": "stdout",
     "output_type": "stream",
     "text": [
      "\u001b[1mDataset imdb_reviews downloaded and prepared to C:\\Users\\pat\\tensorflow_datasets\\imdb_reviews\\plain_text\\1.0.0. Subsequent calls will reuse this data.\u001b[0m\n"
     ]
    }
   ],
   "source": [
    "import tensorflow_datasets as tfds\n",
    "\n",
    "datasets = tfds.load(name=\"imdb_reviews\")\n",
    "train_set, test_set = datasets[\"train\"], datasets[\"test\"]"
   ]
  },
  {
   "cell_type": "code",
   "execution_count": 109,
   "id": "eb88eb0e-7e96-4a3e-accd-52b75b2f3875",
   "metadata": {},
   "outputs": [
    {
     "name": "stdout",
     "output_type": "stream",
     "text": [
      "tf.Tensor(b\"This was an absolutely terrible movie. Don't be lured in by Christopher Walken or Michael Ironside. Both are great actors, but this must simply be their worst role in history. Even their great acting could not redeem this movie's ridiculous storyline. This movie is an early nineties US propaganda piece. The most pathetic scenes were those when the Columbian rebels were making their cases for revolutions. Maria Conchita Alonso appeared phony, and her pseudo-love affair with Walken was nothing but a pathetic emotional plug in a movie that was devoid of any real meaning. I am disappointed that there are movies like this, ruining actor's like Christopher Walken's good name. I could barely sit through it.\", shape=(), dtype=string)\n",
      "tf.Tensor(0, shape=(), dtype=int64)\n"
     ]
    }
   ],
   "source": [
    "for example in train_set.take(1):\n",
    "    print(example[\"text\"])\n",
    "    print(example[\"label\"])"
   ]
  },
  {
   "cell_type": "code",
   "execution_count": null,
   "id": "0fa17517-f592-49ac-b132-3d0643215b1e",
   "metadata": {},
   "outputs": [],
   "source": []
  }
 ],
 "metadata": {
  "kernelspec": {
   "display_name": "Python 3 (ipykernel)",
   "language": "python",
   "name": "python3"
  },
  "language_info": {
   "codemirror_mode": {
    "name": "ipython",
    "version": 3
   },
   "file_extension": ".py",
   "mimetype": "text/x-python",
   "name": "python",
   "nbconvert_exporter": "python",
   "pygments_lexer": "ipython3",
   "version": "3.11.5"
  }
 },
 "nbformat": 4,
 "nbformat_minor": 5
}
