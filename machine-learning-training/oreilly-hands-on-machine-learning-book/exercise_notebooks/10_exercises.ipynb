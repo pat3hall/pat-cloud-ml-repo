{
 "cells": [
  {
   "cell_type": "markdown",
   "id": "6821b78f-b994-41ff-8d91-604ab4bab9e3",
   "metadata": {},
   "source": [
    "Chapter 10: Introduction to Artificial Networks and Keras\n",
    "\n",
    "Chapter 10 exercises:"
   ]
  },
  {
   "cell_type": "markdown",
   "id": "0ecc2d5e-f574-4ea5-bf96-336ab8fb2129",
   "metadata": {},
   "source": [
    "Info from Tensorflow playground:\n",
    "\n",
    "For a more detailed introduction to neural networks, Michael Nielsen’s Neural Networks and Deep Learning (http://neuralnetworksanddeeplearning.com/index.html) is a good place to start. For a more technical overview, try Deep Learning (http://www.deeplearningbook.org/) by Ian Goodfellow, Yoshua Bengio, and Aaron Courville."
   ]
  },
  {
   "cell_type": "markdown",
   "id": "b35441b1-b890-4d4c-a00e-630b4fee7a30",
   "metadata": {},
   "source": [
    "1. The Tensorflow playground (https://playground.tensorflow.org) is handy neural network simulator built by the Tensorflow team. In this exercise, you will train several binary classifiers in just a few clicks, and tweak the model's architecture and its hyperparameters to gain some intuition on how neural networks work and what their hyperparameters do. Take some to to explore the following:"
   ]
  },
  {
   "cell_type": "markdown",
   "id": "73e1f91f-c34c-4d69-af4a-a10922abd1f6",
   "metadata": {},
   "source": [
    "1a. The patterns learned by a neural net. Try training the default neural network by clicking the Run button (top left). Notice how it quickly finds a good solution for the classification task. The neurons in the first hidden layer have learned simple patterns, while the neurons in the second hidden layer have learned to combine the simple patterns of the first hidden layer into  more complex patterns. In general, the more layers there are, the more complex the patterns can be."
   ]
  },
  {
   "cell_type": "markdown",
   "id": "6ae8903c-85b2-43cf-bb7e-e9c03b620e78",
   "metadata": {},
   "source": [
    "1b. Activation functions. Try replacing the tanh activation function with a ReLU activation function, and train the network again. Notice that it finds a solution even faster, but this time the boundaries are linear. This is due to the shape of the ReLU function."
   ]
  },
  {
   "cell_type": "markdown",
   "id": "82a06b16-7dfe-4854-8a53-84a7bc990f9e",
   "metadata": {},
   "source": [
    "1c. The risk of local minima. Modify the network architecture to have just one hidden layer with three neurons. Train it multiple times (to reset the weights, click the Reset button next to the Play button). Notice that the training time varies a lot, and sometimes it even gets stuck in a local minimum."
   ]
  },
  {
   "cell_type": "markdown",
   "id": "d63d2a97-1768-4323-8c79-38ebc1cf887d",
   "metadata": {},
   "source": [
    "1d. What happens when neural netws are too small. Remove one neuron to keep just two. Notice that the neural network is now incapabble of finding a good solution, even if you try multiple times. The model has too few parameters and systematically underfits the training set."
   ]
  },
  {
   "cell_type": "markdown",
   "id": "7be11ccb-04c6-4524-9177-69f14371f569",
   "metadata": {},
   "source": [
    "1e. What happens when neural netwos are large enough. Set the number of neurons to eight and train the network several times. Notice that it is now consistently fast and never gets stuck. This highlights an imnportant finding in neural network theory: large neural networks rarely get stuck in local minima, and even when they do these local optima are often almost as good as the global optimum. However, they can still get stuck on long plateaus for a long time."
   ]
  },
  {
   "cell_type": "markdown",
   "id": "80439dc5-c6d6-4d3a-9823-abed79d68c30",
   "metadata": {},
   "source": [
    "1f. The risk of vanishing gradient in deep networks. Select the spiral dataset (the bottom-right dataset under \"DATA\"), and change the network architecture to have four hidden layers with eight neurons each. Notice tha the training takes much longer and often gets stuck on plateaus for long periods of time. Also notice that the neurons in the highest layer (on the right) tend to evolve faster than the neurons in the lowest layer (on the left). this problem, called the 'vanishing gradients' problem, can be alleviated with better weights initialization and other techniques, better optimizers (such as AdaGrad or Adam), or batch normalization (discussed in Chapter 11)."
   ]
  },
  {
   "cell_type": "markdown",
   "id": "682f7a26-3a27-4817-a77d-e0c38fb89db2",
   "metadata": {},
   "source": [
    "1g. Go further. Take an hour or so to play around with other parameters, and get a feel for what they do, to build an inituitive understanding about neural networks."
   ]
  },
  {
   "cell_type": "markdown",
   "id": "b05c41dd-7e7f-4afe-a19f-107f13ba6d40",
   "metadata": {},
   "source": [
    "2. Draw an ANN using the original artifiial neurons (like the one in Figure 10-3) that computes A ⊕ B (where ⊕ represents the exclusive OR). Hint:  A ⊕ B = (A ∧ ¬ B) ∨ (¬ A ∧ B)."
   ]
  },
  {
   "cell_type": "markdown",
   "id": "a17f9578-2975-4c15-9133-56aaf15c3c19",
   "metadata": {},
   "source": [
    "-> Since  A ⊕ B = (A ∧ ¬ B) ∨ (¬ A ∧ B), you can implement two layer MLP with layer 1: \n",
    "\n",
    "> (A ∧ ¬ B): A x 1 + B x -1 = o1         $\\;\\;\\;\\;\\;\\;$        C = 0 if o1 < 0;   C = 1 if 01 >= 0  \n",
    "\n",
    "> (¬ A ∧ B): A x -1 + B x 1 = 02         $\\;\\;\\;\\;\\;\\;$          D = 0 if o2 < 0;   D = 1 if 02 >= 0 \n",
    "\n",
    "layer2:\n",
    "\n",
    "> (C ∨ D):   C x 1 + D x 1 = E\n",
    "\n",
    "https://humphryscomputing.com/Notes/Neural/single.neural.html:\n",
    "A \"single-layer\" perceptron can't implement XOR. The reason is because the classes in XOR are not linearly separable. You cannot draw a straight line to separate the points (0,0),(1,1) from the points (0,1),(1,0). \n",
    "\n",
    "book answer:\n",
    "\n",
    "Here is a neural network based on the original artificial neurons that computes _A_ ⊕ _B_ (where ⊕ represents the exclusive OR), using the fact that _A_ ⊕ _B_ = (_A_ ∧ ¬ _B_) ∨ (¬ _A_ ∧ _B_). There are other solutions—for example, using the fact that _A_ ⊕ _B_ = (_A_ ∨ _B_) ∧ ¬(_A_ ∧ _B_), or the fact that _A_ ⊕ _B_ = (_A_ ∨ _B_) ∧ (¬ _A_ ∨ ¬ _B_), and so on.<br /><img width=\"70%\" src=\"https://github.com/ageron/handson-ml3/blob/main/images/ann/exercise2.png?raw=1\" />"
   ]
  },
  {
   "cell_type": "markdown",
   "id": "7f9025de-7e78-49d9-8a30-e6f25ccc4b8e",
   "metadata": {},
   "source": [
    "3. Why is it generally preferrable to use logistic regression classifier rather that a classic perceptron training algorithm (i.e. a single layer of threshold logic units trained using the perceptron training algorithm)? How can you tweak a perceptron to make it equivalent to a logistic regression classifier?"
   ]
  },
  {
   "cell_type": "markdown",
   "id": "52c04c36-0728-4859-ad72-78bce91a2153",
   "metadata": {},
   "source": [
    "-> classic perception (single layer) will only converge if the dataset is linearly separatable and it will be able estimate class probabilities\n",
    "-> If you change the Perceptron's activation function to the sigmoid activation function (or the softmax activation function if there are multiple neurons), and if you train it using Gradient Descent (or some other optimization algorithm minimizing the cost function, typically cross entropy), then it becomes equivalent to a Logistic Regression classifier.\n",
    "\n",
    "page 308: Perceptron vs Logistic regression classifers \n",
    " - perceptron do not output a class probability while Logisitic regression does\n",
    " - perceptron do not use any regularization by default\n",
    " - stop training as soon as there are no more prediction errors on the training set, so the model typically does not generalize as well as logistic regression or a linear SVM classifier\n",
    " - perceptron may train a bit faster\n",
    "\n",
    "page 307: perceptron convergence theorem:\n",
    " - the 'decision boundary' of each output neuron is linear, so the perceptron are incapable of learning complex patterns (just like logistic regression classifiers).\n",
    " - if the instances are 'linear separable', this algorithm would converge to a solution\n",
    "\n",
    "page 315: Classification MLPs\n",
    " - MLPs can be used for classification\n",
    " - for binary classification, you need a single output neuron using a sigmoid activation function: the output will be between 0 and 1 which you can interpret as the estimated probability of the positive class and the negative class estimated probability is equal to 1 minus this number\n",
    " - for multilabel classification, you would dedicate one output neuron for each positive class using a sigmoid activation functions\n",
    " - for multiclass classification (each instance belongs to only one class), you need one neuron output neuron per class using the softmax activation function\n",
    " - the softmax function will ensure that all the estimated probabilities are between 0 and 1 and they will add up to 1\n",
    " - for loss function, since we are predicting probability distributions, the 'cross-entropy loss (or x-entryp or log loss) is generally a good choice\n",
    "      \n",
    "book answer: A classical Perceptron will converge only if the dataset is linearly separable, and it won't be able to estimate class probabilities. In contrast, a Logistic Regression classifier will generally converge to a reasonably good solution even if the dataset is not linearly separable, and it will output class probabilities. If you change the Perceptron's activation function to the sigmoid activation function (or the softmax activation function if there are multiple neurons), and if you train it using Gradient Descent (or some other optimization algorithm minimizing the cost function, typically cross entropy), then it becomes equivalent to a Logistic Regression classifier."
   ]
  },
  {
   "cell_type": "markdown",
   "id": "ee08d49f-db12-4135-80e5-84cfb9634930",
   "metadata": {},
   "source": [
    "4. Why was the sigmoid activation function a key ingredient in training the first MLPs?"
   ]
  },
  {
   "cell_type": "markdown",
   "id": "de578d83-b640-4046-bdfc-b8b39c9caa14",
   "metadata": {},
   "source": [
    "-> allows using graident descent to be used for training because the sigmoid function has a well-defined nonzero derivative everywhere, allowing gradient descent to make some progress at every step.\n",
    "\n",
    "page 312: In order for backprop t5o work properly, Runelhart .. made a key change to the MLPs architecture: they replaced the step function with the logistic function sigma(z) = 1 / (1 + exp(-z)), also called the sigmoid function. This was essential because the step function contains only flat segments, so there is no gradient to work (gradient descent cannot move on a flat surface), while the sigmoid function has a well-defined nonzero derivative everywhere, allowing gradient descent to make some progress at every step. In fact, the backpropagation algorithm works well with many other activation functions, not just the signmoid function. ...\n",
    "\n",
    "book answer: The sigmoid activation function was a key ingredient in training the first MLPs because its derivative is always nonzero, so Gradient Descent can always roll down the slope. When the activation function is a step function, Gradient Descent cannot move, as there is no slope at all."
   ]
  },
  {
   "cell_type": "markdown",
   "id": "aad1094a-32b7-4c94-961e-e989f0ca0688",
   "metadata": {},
   "source": [
    "5. Name three popular activation functions. Can you draw them?"
   ]
  },
  {
   "cell_type": "markdown",
   "id": "20bfeb5b-9eea-4be7-a6c2-5cc8fbf0e7d6",
   "metadata": {},
   "source": [
    "-> activation functions:\n",
    "$\\;\\;\\;\\;\\;\\;\\;\\;\\;\\;\\;\\;$ heavyside(z) =  $\\;\\;\\;\\;$ 0 if z < 0 ; $\\;\\;\\;\\;$ 1 if z >= 0 \n",
    "\n",
    "The rectified linear unit function: $\\;\\;\\;\\;\\;\\;$ReLU(z) = max(0,z)\n",
    "\n",
    "sigmoid function: $\\;\\;\\;\\;\\;\\;\\;\\;\\;\\;\\;\\;\\;\\;\\;\\;\\;\\;\\;\\;\\;$ sigma(z) = 1 / (1 + exp(-z))  \n",
    "\n",
    "The hyperbolic tangent function: $\\;\\;\\;\\;\\;\\;$tanh(z) = 2 * sigma * (2z) - 1\n",
    "\n",
    "book answer:\n",
    "Popular activation functions include the step function, the sigmoid function, the hyperbolic tangent (tanh) function, and the Rectified Linear Unit (ReLU) function (see Figure 10-8). See Chapter 11 for other examples, such as ELU and variants of the ReLU function.\n",
    "\n"
   ]
  },
  {
   "cell_type": "code",
   "execution_count": 1,
   "id": "e41d7df7-28fa-4227-a4d1-c6c35e04e678",
   "metadata": {},
   "outputs": [
    {
     "name": "stdout",
     "output_type": "stream",
     "text": [
      "WARNING:tensorflow:From C:\\Users\\pat\\anaconda3\\Lib\\site-packages\\keras\\src\\losses.py:2976: The name tf.losses.sparse_softmax_cross_entropy is deprecated. Please use tf.compat.v1.losses.sparse_softmax_cross_entropy instead.\n",
      "\n"
     ]
    }
   ],
   "source": [
    "import numpy as np\n",
    "import sklearn\n",
    "import tensorflow as tf\n",
    "from sklearn.datasets import load_iris\n",
    "from sklearn.linear_model import Perceptron\n",
    "import matplotlib.pyplot as plt\n",
    "from scipy.special import expit as sigmoid\n",
    "\n",
    "plt.rc('font', size=14)\n",
    "plt.rc('axes', labelsize=14, titlesize=14)\n",
    "plt.rc('legend', fontsize=14)\n",
    "plt.rc('xtick', labelsize=10)\n",
    "plt.rc('ytick', labelsize=10)"
   ]
  },
  {
   "cell_type": "code",
   "execution_count": 2,
   "id": "f37b9073-7ccb-4afc-bfe9-3fbfc6ad52bd",
   "metadata": {},
   "outputs": [
    {
     "data": {
      "image/png": "[encoded data removed]",
      "text/plain": [
       "<Figure size 1100x310 with 2 Axes>"
      ]
     },
     "metadata": {},
     "output_type": "display_data"
    }
   ],
   "source": [
    "from scipy.special import expit as sigmoid\n",
    "\n",
    "def relu(z):\n",
    "    return np.maximum(0, z)\n",
    "\n",
    "def derivative(f, z, eps=0.000001):\n",
    "    return (f(z + eps) - f(z - eps))/(2 * eps)\n",
    "\n",
    "max_z = 4.5\n",
    "z = np.linspace(-max_z, max_z, 200)\n",
    "\n",
    "plt.figure(figsize=(11, 3.1))\n",
    "\n",
    "plt.subplot(121)\n",
    "plt.plot([-max_z, 0], [0, 0], \"r-\", linewidth=2, label=\"Heaviside\")\n",
    "plt.plot(z, relu(z), \"m-.\", linewidth=2, label=\"ReLU\")\n",
    "plt.plot([0, 0], [0, 1], \"r-\", linewidth=0.5)\n",
    "plt.plot([0, max_z], [1, 1], \"r-\", linewidth=2)\n",
    "plt.plot(z, sigmoid(z), \"g--\", linewidth=2, label=\"Sigmoid\")\n",
    "plt.plot(z, np.tanh(z), \"b-\", linewidth=1, label=\"Tanh\")\n",
    "plt.grid(True)\n",
    "plt.title(\"Activation functions\")\n",
    "plt.axis([-max_z, max_z, -1.65, 2.4])\n",
    "plt.gca().set_yticks([-1, 0, 1, 2])\n",
    "plt.legend(loc=\"lower right\", fontsize=13)\n",
    "\n",
    "plt.subplot(122)\n",
    "plt.plot(z, derivative(np.sign, z), \"r-\", linewidth=2, label=\"Heaviside\")\n",
    "plt.plot(0, 0, \"ro\", markersize=5)\n",
    "plt.plot(0, 0, \"rx\", markersize=10)\n",
    "plt.plot(z, derivative(sigmoid, z), \"g--\", linewidth=2, label=\"Sigmoid\")\n",
    "plt.plot(z, derivative(np.tanh, z), \"b-\", linewidth=1, label=\"Tanh\")\n",
    "plt.plot([-max_z, 0], [0, 0], \"m-.\", linewidth=2)\n",
    "plt.plot([0, max_z], [1, 1], \"m-.\", linewidth=2)\n",
    "plt.plot([0, 0], [0, 1], \"m-.\", linewidth=1.2)\n",
    "plt.plot(0, 1, \"mo\", markersize=5)\n",
    "plt.plot(0, 1, \"mx\", markersize=10)\n",
    "plt.grid(True)\n",
    "plt.title(\"Derivatives\")\n",
    "plt.axis([-max_z, max_z, -0.2, 1.2])\n",
    "\n",
    "plt.show()"
   ]
  },
  {
   "cell_type": "markdown",
   "id": "1589b1ed-d2d1-4729-a607-95637c42ceb8",
   "metadata": {},
   "source": [
    "6. Suppose you have an MLP composed of one input layer with 10 passthrough neuron, followed by one hidden layer with 50 artifical neurons, and finally one output layer with 3 artifical neurons. All artifical neurons use the ReLU activation function.\n",
    "\n",
    "6a. What is the shape of the input matrix __X__?\n",
    "\n",
    "6b. What are the shapes of the hidden layer's weight matrix __$W_{h}$__, and bias vector __$b_{h}$__?\n",
    "\n",
    "6c. What are the shapes of the output layer's weight matrix __$W_{o}$__, and bias vector __$b_{o}$__?\n",
    "\n",
    "6d. What is the shape of the networks output matrix __Y__?\n",
    "\n",
    "6e. Write the equation that compiles the networks's output matrix __Y__ as a function of __X__, __$W_{h}$__,  __$b_{h}$__, __$W_{o}$__, and __$b_{o}$__."
   ]
  },
  {
   "cell_type": "markdown",
   "id": "d81b752a-eab9-4ff3-a3d0-2a6b965e2df2",
   "metadata": {},
   "source": [
    "-> 6a. input maxtrix __X__ will m x 10 where m is the number instances in the training batch size\n",
    "\n",
    "-> 6b. The shape of the hidden layer's weight matrix Wh is 10 × 50, and the length of its bias vector bh is 50.\n",
    "\n",
    "-> 6c. The shape of the output layer's weight matrix **W**<sub>_o_</sub> is 50 × 3, and the length of its bias vector **b**<sub>_o_</sub> is 3.\n",
    "\n",
    "-> 6d. The shape of the network's output matrix **Y** is _m_ × 3.\n",
    "\n",
    "-> 6e.  **Y** = ReLU(ReLU(**X** **W**<sub>_h_</sub> + **b**<sub>_h_</sub>) **W**<sub>_o_</sub> + **b**<sub>_o_</sub>)\n",
    "\n",
    "\n",
    "page 305:   Equation 10-2. Computing the outputs of a fully connected layer\n",
    "\n",
    "$h_{W,b}(X) = \\phi(XW + b)$\n",
    "\n",
    "where:\n",
    "\n",
    "X: matrix input features\n",
    "\n",
    "W: weight matrix with one row per input, and one column per neuron\n",
    "\n",
    "b: bias vector - contains all the bias terms, one per neuron\n",
    "\n",
    "$\\phi$: activation function': when the artificial neurons are TLUs, it is a step function\n",
    "\n",
    "book answer:\n",
    "\n",
    " * The shape of the input matrix **X** is _m_ × 10, where _m_ represents the training batch size.\n",
    " * The shape of the hidden layer's weight matrix **W**<sub>_h_</sub> is 10 × 50, and the length of its bias vector **b**<sub>_h_</sub> is 50.\n",
    " * The shape of the output layer's weight matrix **W**<sub>_o_</sub> is 50 × 3, and the length of its bias vector **b**<sub>_o_</sub> is 3.\n",
    " * The shape of the network's output matrix **Y** is _m_ × 3.\n",
    " * **Y** = ReLU(ReLU(**X** **W**<sub>_h_</sub> + **b**<sub>_h_</sub>) **W**<sub>_o_</sub> + **b**<sub>_o_</sub>). Recall that the ReLU function just sets every negative number in the matrix to zero. Also note that when you are adding a bias vector to a matrix, it is added to every single row in the matrix, which is called _broadcasting_.\n",
    "   \n"
   ]
  },
  {
   "cell_type": "markdown",
   "id": "fc1571a7-e3e6-4d02-a950-d0e0e85fda29",
   "metadata": {},
   "source": [
    "7. How many neurons do you need in the output layer if you want to classify email into spam or ham? What activation function should you use in the output layer? If instead you want to tackle MNIST, how many neuron do you need in the output layer, and which activation function should you use? What about for getting your nework to predict housing prices, an in chapter 2?"
   ]
  },
  {
   "cell_type": "markdown",
   "id": "4d596e1c-9ee5-4095-98f1-6ce12e10e481",
   "metadata": {},
   "source": [
    "-> output layer neurons to binary classification email into spam or ham: 1\n",
    "\n",
    "-> activation function for output layer: sigmoid since this is a binary classification where the output will be between 0 and 1 which you can interpret as the probability\n",
    "\n",
    "-> for MINST, you need 10 neuron since there are 10 classes, and you should use softmax activation function since this is a multiclass classificaiton. The softmax function will ensure that all the estimated probabilities are between 0 and 1 and they will add up to 1\n",
    "\n",
    "-> housing prices is regression classification so you need one output neuron, using no activation function at all in the output layer. Note: when the values to predict can vary by many orders of magnitude, you may want to predict the logarithm of the target value rather than the target value directly. Simply computing the exponential of the neural network's output will give you the estimated value (since exp(log v) = v).\n",
    "\n",
    "page 315: Classification MLPs\n",
    " - MLPs can be used for classification\n",
    " - for binary classification, you need a single output neuron using a sigmoid activation function: the output will be between 0 and 1 which you can interpret as the estimated probability of the positive class and the negative class estimated probability is equal to 1 minus this number\n",
    " - for multilabel classification, you would dedicate one output neuron for each positive class using a sigmoid activation functions\n",
    " - for multiclass classification (each instance belongs to only one class), you need one neuron output neuron per class using the softmax activation function\n",
    "   - the softmax function will ensure that all the estimated probabilities are between 0 and 1 and they will add up to 1\n",
    " - for loss function, since we are predicting probability distributions, the 'cross-entropy loss (or x-entryp or log loss) is generally a good choice\n",
    "\n",
    "\n",
    "page 313: Regression MLPs:\n",
    " - MLPs can be used for regression task\n",
    " - you a single neuron to predict a single value\n",
    " - for multivariate regressions (i.e. to predict multiple values at once), you need one neuron per output dimension (center of 2D image - needs to neurons to predict the 2D coordinate\n",
    "\n",
    "\n",
    "page 315: Table 10-1. Typical Regression MLP Architecture\n",
    "\n",
    "Hyperparameter                     $\\;\\;\\;\\;\\;\\;\\;\\;\\;\\;\\;\\;$Typical value\n",
    "\n",
    "---------------                    $\\;\\;\\;\\;\\;\\;\\;\\;\\;\\;\\;\\;$-------------------------------\n",
    "\n",
    "No of hidden layers                $\\;\\;\\;\\;\\;\\;\\;\\;\\;\\;\\;\\;$Depends on problem, but typically 1 to 5\n",
    "\n",
    "No of neurons per hidden layer     $\\;\\;\\;\\;\\;\\;\\;\\;\\;\\;\\;\\;$Depends on problem, but typically 10 to 100\n",
    "\n",
    "No of output neurons               $\\;\\;\\;\\;\\;\\;\\;\\;\\;\\;\\;\\;$1 per prediction dimension\n",
    "\n",
    "hidden activation                  $\\;\\;\\;\\;\\;\\;\\;\\;\\;\\;\\;\\;$ReLU\n",
    "\n",
    "output activation                  $\\;\\;\\;\\;\\;\\;\\;\\;\\;\\;\\;\\;$None, or ReLU/softmax (if positive outputs) or sigmoid/tanh (if bounded outputs)\n",
    "\n",
    "Loss function                      $\\;\\;\\;\\;\\;\\;\\;\\;\\;\\;\\;\\;$MSE or Huber if outliers\n",
    "\n",
    "\n",
    "\n",
    "\n",
    "book answer:\n",
    "\n",
    "To classify email into spam or ham, you just need one neuron in the output layer of a neural network—for example, indicating the probability that the email is spam. You would typically use the sigmoid activation function in the output layer when estimating a probability. If instead you want to tackle MNIST, you need 10 neurons in the output layer, and you must replace the sigmoid function with the softmax activation function, which can handle multiple classes, outputting one probability per class. If you want your neural network to predict housing prices like in Chapter 2, then you need one output neuron, using no activation function at all in the output layer. Note: when the values to predict can vary by many orders of magnitude, you may want to predict the logarithm of the target value rather than the target value directly. Simply computing the exponential of the neural network's output will give you the estimated value (since exp(log _v_) = _v_)."
   ]
  },
  {
   "cell_type": "markdown",
   "id": "74312090-bd66-452a-92d3-91427944fb89",
   "metadata": {},
   "source": [
    "8. What is backpropagation and how does it work? What is the difference between backpropagation and reverse-model autodiff?"
   ]
  },
  {
   "cell_type": "markdown",
   "id": "37a7bb5d-7594-4e6c-9eca-6ab3b3cc1272",
   "metadata": {},
   "source": [
    "-> how backpropagation works (based on page 311). It combines a forward pass to compute results for a mini-batch, measuring the output error using a loss function for the mini-batch, a reverse pass to measure the error gradient across all connection weights and biases by passing the error gradient backwards through the network, followed by a gradient descent step to tweak all connnection weights in network, using the error gradient it just computed.\n",
    "\n",
    "-> backpropagation is this entire neural network process which includes using reverse-mode autodiff to calculate the gradients plus the gradient step, etc. Reverse-mode autodiff is forward pass and reverse pass technique to calculate the gradients. \n",
    "\n",
    "page 310: Then, in 1970, ... a technique to compute all the gradients automatically and efficiently. This algorithm is now called 'reverse-mode automatic differentiation' or ('reverse-mode autodiff' for short). In just two passes through the network (one forward, one backward), it is able to compute the gradients of the neural network's error with regard to every single model parameter. In other words, it can find out how each connection weight and each bias should be tweaked in order to reduce the neural networks's error. These gradients can then be used to perform gradient descent step. If you repeat this process of computing the gradients automatically and taking a gradient descent step, the neural network's error will gradually drop until it eventually treaches a minimum. This combinatioin of reverse-mode autodiff and gradient descent is now called 'backpropagation' (or 'backprop' for short).  \n",
    "\n",
    "book answer:\n",
    "Backpropagation is a technique used to train artificial neural networks. It first computes the gradients of the cost function with regard to every model parameter (all the weights and biases), then it performs a Gradient Descent step using these gradients. This backpropagation step is typically performed thousands or millions of times, using many training batches, until the model parameters converge to values that (hopefully) minimize the cost function. To compute the gradients, backpropagation uses reverse-mode autodiff (although it wasn't called that when backpropagation was invented, and it has been reinvented several times). Reverse-mode autodiff performs a forward pass through a computation graph, computing every node's value for the current training batch, and then it performs a reverse pass, computing all the gradients at once (see Appendix B for more details). So what's the difference? Well, backpropagation refers to the whole process of training an artificial neural network using multiple backpropagation steps, each of which computes gradients and uses them to perform a Gradient Descent step. In contrast, reverse-mode autodiff is just a technique to compute gradients efficiently, and it happens to be used by backpropagation."
   ]
  },
  {
   "cell_type": "markdown",
   "id": "53f6783d-e91b-40f1-9b98-be66968568b8",
   "metadata": {},
   "source": [
    "9. Can you list all the hyperparameters you can tweak in a basic MLP? If the MLP overfits the training data, how could you tweak these hyperparameters to try to solve the problem?"
   ]
  },
  {
   "cell_type": "markdown",
   "id": "1b8794b2-7cfe-499c-abb1-172d75cd9bd3",
   "metadata": {},
   "source": [
    "-> basic MLP hyperpanmeters you can tweak: number of hidden layer ('n_hidden'), number of neuron per hidden layer ('n_neurons'), activation function used in each hidden layer and output layer ('activation'), learning rate ('learning_rate'), 'optimizer', batch size ('batch_size')\n",
    "\n",
    "-> how could you tweak these hyperparameters: hidden layers activation (page 352): the ReLU activation function is a good default for all hidden layer, output activation (table 10-2, page 316): Sigmoid for binary classification and softmax for multiclass classification; n_hidden (page 349 - 350): if overfitting, you can try reducing the number of hidden layers; n_neurons (page 350 - 351): if overfitting, you can try reducing the number of neurons per hidden layer \n",
    "\n",
    "page 351 - 352: ... The number of hidden layers and nuerons are not the only hyperparameters you can tweak in an MLP. Here are some of the most important ones, ...: learning rate, optimizer, batch size, activation function, number of iterations\n",
    "\n",
    "book answer:  Here is a list of all the hyperparameters you can tweak in a basic MLP: the number of hidden layers, the number of neurons in each hidden layer, and the activation function used in each hidden layer and in the output layer. In general, the ReLU activation function (or one of its variants; see Chapter 11) is a good default for the hidden layers. For the output layer, in general you will want the sigmoid activation function for binary classification, the softmax activation function for multiclass classification, or no activation function for regression. If the MLP overfits the training data, you can try reducing the number of hidden layers and reducing the number of neurons per hidden layer."
   ]
  },
  {
   "cell_type": "markdown",
   "id": "a4f8bfc8-c740-4918-8ff0-1d2e0be597ef",
   "metadata": {},
   "source": [
    "10. Train a deep MLP on the MNIST dataset (you can load it using tf.keras.dataset.mnist.load_data()). See if you can get 98% accuracy by manually tuning the hyperparameters. Try searching for the optimal learning rate by using the approach presented in this chapter (i.e. by growing the learning rate exponentially, plotting the loss, and finding the point where the loss shoots up). Next, try tuning the hyperparameters using Keras Tuner with all the belss and whistles - save checkpoints, use early stopping, and plot the learning curves using Tensorboard."
   ]
  },
  {
   "cell_type": "markdown",
   "id": "acf48ec6-549a-400d-a224-7459aa991168",
   "metadata": {},
   "source": [
    "Let's load the dataset:"
   ]
  },
  {
   "cell_type": "code",
   "execution_count": 3,
   "id": "9553abf4-d2f7-47c0-a4ea-f5645f0c6759",
   "metadata": {},
   "outputs": [],
   "source": [
    "import tensorflow as tf\n",
    "\n",
    "(X_train_full, y_train_full), (X_test, y_test) = tf.keras.datasets.mnist.load_data()"
   ]
  },
  {
   "cell_type": "code",
   "execution_count": 4,
   "id": "ad23e2f8-0bad-4021-9ebe-716ed084e3bf",
   "metadata": {},
   "outputs": [
    {
     "data": {
      "text/plain": [
       "(60000, 28, 28)"
      ]
     },
     "execution_count": 4,
     "metadata": {},
     "output_type": "execute_result"
    }
   ],
   "source": [
    "X_train_full.shape"
   ]
  },
  {
   "cell_type": "markdown",
   "id": "8ff2654e-de49-4224-8ddd-5ac1db61dc43",
   "metadata": {},
   "source": [
    "Each pixel intensity is also represented as a byte (0 to 255):"
   ]
  },
  {
   "cell_type": "code",
   "execution_count": 5,
   "id": "87b5dbeb-5c8a-4707-a756-bb965d25e88c",
   "metadata": {},
   "outputs": [
    {
     "data": {
      "text/plain": [
       "dtype('uint8')"
      ]
     },
     "execution_count": 5,
     "metadata": {},
     "output_type": "execute_result"
    }
   ],
   "source": [
    "X_train_full.dtype"
   ]
  },
  {
   "cell_type": "markdown",
   "id": "be33d7bb-4c64-4cd9-9496-64a4f0cbff7e",
   "metadata": {},
   "source": [
    "Let's split the full training set into a validation set and a (smaller) training set. We also scale the pixel intensities down to the 0-1 range and convert them to floats, by dividing by 255, just like we did for Fashion MNIST:"
   ]
  },
  {
   "cell_type": "code",
   "execution_count": 6,
   "id": "313dec87-c40f-40f0-ad81-f9bc40929783",
   "metadata": {},
   "outputs": [],
   "source": [
    "X_valid, X_train = X_train_full[:5000] / 255., X_train_full[5000:] / 255.\n",
    "y_valid, y_train = y_train_full[:5000], y_train_full[5000:]\n",
    "X_test = X_test / 255."
   ]
  },
  {
   "cell_type": "markdown",
   "id": "fb2487cd-4bb5-4e67-ae4c-a00ec1f0ca9d",
   "metadata": {},
   "source": [
    "Let's plot an image using Matplotlib's imshow() function, with a 'binary' color map:"
   ]
  },
  {
   "cell_type": "code",
   "execution_count": 7,
   "id": "c5a622d2-1ce8-4e09-8891-834b5f942e55",
   "metadata": {},
   "outputs": [
    {
     "data": {
      "image/png": "[encoded data removed]",
      "text/plain": [
       "<Figure size 640x480 with 1 Axes>"
      ]
     },
     "metadata": {},
     "output_type": "display_data"
    }
   ],
   "source": [
    "plt.imshow(X_train[0], cmap=\"binary\")\n",
    "plt.axis('off')\n",
    "plt.show()"
   ]
  },
  {
   "cell_type": "markdown",
   "id": "51145283-1cd1-4ce3-a20a-a4041d845cb5",
   "metadata": {},
   "source": [
    "The labels are the class IDs (represented as uint8), from 0 to 9. Conveniently, the class IDs correspond to the digits represented in the images, so we don't need a class_names array:"
   ]
  },
  {
   "cell_type": "code",
   "execution_count": 8,
   "id": "8b2674ab-3ea7-42f7-bb18-e50ce44d4c4e",
   "metadata": {},
   "outputs": [
    {
     "data": {
      "text/plain": [
       "array([7, 3, 4, ..., 5, 6, 8], dtype=uint8)"
      ]
     },
     "execution_count": 8,
     "metadata": {},
     "output_type": "execute_result"
    }
   ],
   "source": [
    "y_train"
   ]
  },
  {
   "cell_type": "markdown",
   "id": "344b2748-4e13-46e9-b92c-aaa73afe0c47",
   "metadata": {},
   "source": [
    "The validation set contains 5,000 images, and the test set contains 10,000 images:"
   ]
  },
  {
   "cell_type": "code",
   "execution_count": 9,
   "id": "76fccb64-c942-4f76-98c1-3c0801ca2bdd",
   "metadata": {},
   "outputs": [
    {
     "data": {
      "text/plain": [
       "(5000, 28, 28)"
      ]
     },
     "execution_count": 9,
     "metadata": {},
     "output_type": "execute_result"
    }
   ],
   "source": [
    "X_valid.shape"
   ]
  },
  {
   "cell_type": "code",
   "execution_count": 10,
   "id": "24f8cf4d-faf2-4152-80ed-b004b4b19736",
   "metadata": {},
   "outputs": [
    {
     "data": {
      "text/plain": [
       "(10000, 28, 28)"
      ]
     },
     "execution_count": 10,
     "metadata": {},
     "output_type": "execute_result"
    }
   ],
   "source": [
    "X_test.shape"
   ]
  },
  {
   "cell_type": "markdown",
   "id": "b4f7e52e-3a67-448c-bca9-d3ca51e9210e",
   "metadata": {},
   "source": [
    "Let's take a look at a sample of the images in the dataset:"
   ]
  },
  {
   "cell_type": "code",
   "execution_count": 11,
   "id": "edc62529-ea82-468a-bdf3-11eb11171785",
   "metadata": {},
   "outputs": [
    {
     "data": {
      "image/png": "[encoded data removed]",
      "text/plain": [
       "<Figure size 1200x480 with 40 Axes>"
      ]
     },
     "metadata": {},
     "output_type": "display_data"
    }
   ],
   "source": [
    "n_rows = 4\n",
    "n_cols = 10\n",
    "plt.figure(figsize=(n_cols * 1.2, n_rows * 1.2))\n",
    "for row in range(n_rows):\n",
    "    for col in range(n_cols):\n",
    "        index = n_cols * row + col\n",
    "        plt.subplot(n_rows, n_cols, index + 1)\n",
    "        plt.imshow(X_train[index], cmap=\"binary\", interpolation=\"nearest\")\n",
    "        plt.axis('off')\n",
    "        plt.title(y_train[index])\n",
    "plt.subplots_adjust(wspace=0.2, hspace=0.5)\n",
    "plt.show()"
   ]
  },
  {
   "cell_type": "markdown",
   "id": "939744dc-90d4-4b63-b2d3-a043e82b4943",
   "metadata": {},
   "source": [
    "Let's build a simple dense network and find the optimal learning rate. We will need a callback to grow the learning rate at each iteration. It will also record the learning rate and the loss at each iteration:"
   ]
  },
  {
   "cell_type": "markdown",
   "id": "5987be26-6108-40e8-b3d4-fb6355b479f8",
   "metadata": {},
   "source": [
    "Create a custom callback for 'on_batch_end' (see paget 339 for custom callbacks)"
   ]
  },
  {
   "cell_type": "code",
   "execution_count": 12,
   "id": "426cf76e-889c-49ff-bbf0-d2c3988c24fa",
   "metadata": {},
   "outputs": [],
   "source": [
    "K = tf.keras.backend\n",
    "\n",
    "class ExponentialLearningRate(tf.keras.callbacks.Callback):\n",
    "    def __init__(self, factor):\n",
    "        self.factor = factor\n",
    "        self.rates = []\n",
    "        self.losses = []\n",
    "    def on_batch_end(self, batch, logs):\n",
    "        self.rates.append(K.get_value(self.model.optimizer.learning_rate))\n",
    "        self.losses.append(logs[\"loss\"])\n",
    "        K.set_value(self.model.optimizer.learning_rate, self.model.optimizer.learning_rate * self.factor)"
   ]
  },
  {
   "cell_type": "code",
   "execution_count": 13,
   "id": "642fcc00-187f-45ac-92ad-f419a79a3c41",
   "metadata": {},
   "outputs": [
    {
     "name": "stdout",
     "output_type": "stream",
     "text": [
      "WARNING:tensorflow:From C:\\Users\\pat\\anaconda3\\Lib\\site-packages\\keras\\src\\backend.py:277: The name tf.reset_default_graph is deprecated. Please use tf.compat.v1.reset_default_graph instead.\n",
      "\n"
     ]
    }
   ],
   "source": [
    "tf.keras.backend.clear_session()\n",
    "np.random.seed(42)\n",
    "tf.random.set_seed(42)"
   ]
  },
  {
   "cell_type": "code",
   "execution_count": 14,
   "id": "0bec4b4d-7eda-4f7f-8ef4-76aeb72a40c5",
   "metadata": {},
   "outputs": [],
   "source": [
    "model = tf.keras.Sequential([\n",
    "    tf.keras.layers.Flatten(input_shape=[28, 28]),\n",
    "    tf.keras.layers.Dense(300, activation=\"relu\"),\n",
    "    tf.keras.layers.Dense(100, activation=\"relu\"),\n",
    "    tf.keras.layers.Dense(10, activation=\"softmax\")\n",
    "])"
   ]
  },
  {
   "cell_type": "markdown",
   "id": "20b191e4-f303-4cf7-80d4-b14bab6f5609",
   "metadata": {},
   "source": [
    "We will start with a small learning rate of 1e-3, and grow it by 0.5% at each iteration:"
   ]
  },
  {
   "cell_type": "code",
   "execution_count": 15,
   "id": "773a47b9-caef-4e22-87f1-82a402766bdd",
   "metadata": {},
   "outputs": [],
   "source": [
    "optimizer = tf.keras.optimizers.SGD(learning_rate=1e-3)\n",
    "model.compile(loss=\"sparse_categorical_crossentropy\", optimizer=optimizer,\n",
    "              metrics=[\"accuracy\"])\n",
    "expon_lr = ExponentialLearningRate(factor=1.005)"
   ]
  },
  {
   "cell_type": "markdown",
   "id": "398a5b19-1311-42d3-8685-e3f1875d889e",
   "metadata": {},
   "source": [
    "Now let's train the model for just 1 epoch:"
   ]
  },
  {
   "cell_type": "code",
   "execution_count": 16,
   "id": "34b1f179-780d-4714-98c1-884f88e54031",
   "metadata": {},
   "outputs": [
    {
     "name": "stdout",
     "output_type": "stream",
     "text": [
      "WARNING:tensorflow:From C:\\Users\\pat\\anaconda3\\Lib\\site-packages\\keras\\src\\utils\\tf_utils.py:492: The name tf.ragged.RaggedTensorValue is deprecated. Please use tf.compat.v1.ragged.RaggedTensorValue instead.\n",
      "\n",
      "WARNING:tensorflow:From C:\\Users\\pat\\anaconda3\\Lib\\site-packages\\keras\\src\\engine\\base_layer_utils.py:384: The name tf.executing_eagerly_outside_functions is deprecated. Please use tf.compat.v1.executing_eagerly_outside_functions instead.\n",
      "\n",
      "1719/1719 [==============================] - 7s 4ms/step - loss: nan - accuracy: 0.5879 - val_loss: nan - val_accuracy: 0.0958\n"
     ]
    }
   ],
   "source": [
    "history = model.fit(X_train, y_train, epochs=1,\n",
    "                    validation_data=(X_valid, y_valid),\n",
    "                    callbacks=[expon_lr])"
   ]
  },
  {
   "cell_type": "markdown",
   "id": "a4b74f57-2d63-4fba-bb08-8d5f503cc5c8",
   "metadata": {},
   "source": [
    "We can now plot the loss as a functionof the learning rate:"
   ]
  },
  {
   "cell_type": "code",
   "execution_count": 17,
   "id": "91a6cf39-59d1-4dc9-82c1-08c3c7fa9f69",
   "metadata": {},
   "outputs": [
    {
     "data": {
      "text/plain": [
       "Text(0, 0.5, 'Loss')"
      ]
     },
     "execution_count": 17,
     "metadata": {},
     "output_type": "execute_result"
    },
    {
     "data": {
      "image/png": "[encoded data removed]",
      "text/plain": [
       "<Figure size 640x480 with 1 Axes>"
      ]
     },
     "metadata": {},
     "output_type": "display_data"
    }
   ],
   "source": [
    "plt.plot(expon_lr.rates, expon_lr.losses)\n",
    "plt.gca().set_xscale('log')\n",
    "plt.hlines(min(expon_lr.losses), min(expon_lr.rates), max(expon_lr.rates))\n",
    "plt.axis([min(expon_lr.rates), max(expon_lr.rates), 0, expon_lr.losses[0]])\n",
    "plt.grid()\n",
    "plt.xlabel(\"Learning rate\")\n",
    "plt.ylabel(\"Loss\")"
   ]
  },
  {
   "cell_type": "markdown",
   "id": "1ad975ea-f8cf-43df-9be6-bff227781e23",
   "metadata": {},
   "source": [
    "The loss starts shooting back up violently when the learning rate goes over 6e-1, so let's try using half of that, at 3e-1:"
   ]
  },
  {
   "cell_type": "code",
   "execution_count": 18,
   "id": "3dd227af-7156-4ad6-8e67-533f2da8fb44",
   "metadata": {},
   "outputs": [],
   "source": [
    "tf.keras.backend.clear_session()\n",
    "np.random.seed(42)\n",
    "tf.random.set_seed(42)"
   ]
  },
  {
   "cell_type": "code",
   "execution_count": 19,
   "id": "1bc3c79f-f626-4fe2-8010-c34c7be26fe2",
   "metadata": {},
   "outputs": [],
   "source": [
    "model = tf.keras.Sequential([\n",
    "    tf.keras.layers.Flatten(input_shape=[28, 28]),\n",
    "    tf.keras.layers.Dense(300, activation=\"relu\"),\n",
    "    tf.keras.layers.Dense(100, activation=\"relu\"),\n",
    "    tf.keras.layers.Dense(10, activation=\"softmax\")\n",
    "])"
   ]
  },
  {
   "cell_type": "code",
   "execution_count": 20,
   "id": "eeae3110-f695-4d40-85cd-feb1fe2a84e1",
   "metadata": {},
   "outputs": [],
   "source": [
    "optimizer = tf.keras.optimizers.SGD(learning_rate=3e-1)\n",
    "model.compile(loss=\"sparse_categorical_crossentropy\", optimizer=optimizer,\n",
    "              metrics=[\"accuracy\"])"
   ]
  },
  {
   "cell_type": "code",
   "execution_count": 21,
   "id": "12532717-3725-4d82-b5dd-9f1ebc3f8f0a",
   "metadata": {},
   "outputs": [],
   "source": [
    "from pathlib import Path\n",
    "\n",
    "IMAGES_PATH = Path() / \"images\" / \"ann\"\n",
    "IMAGES_PATH.mkdir(parents=True, exist_ok=True)\n",
    "\n",
    "def save_fig(fig_id, tight_layout=True, fig_extension=\"png\", resolution=300):\n",
    "    path = IMAGES_PATH / f\"{fig_id}.{fig_extension}\"\n",
    "    if tight_layout:\n",
    "        plt.tight_layout()\n",
    "    plt.savefig(path, format=fig_extension, dpi=resolution)"
   ]
  },
  {
   "cell_type": "code",
   "execution_count": 23,
   "id": "62b2b0f8-b2bc-467f-a643-a1eff66b2563",
   "metadata": {},
   "outputs": [
    {
     "name": "stdout",
     "output_type": "stream",
     "text": [
      "Epoch 1/100\n",
      "1719/1719 [==============================] - ETA: 0s - loss: 0.2335 - accuracy: 0.9268INFO:tensorflow:Assets written to: my_mnist_model\\assets\n"
     ]
    },
    {
     "name": "stderr",
     "output_type": "stream",
     "text": [
      "INFO:tensorflow:Assets written to: my_mnist_model\\assets\n"
     ]
    },
    {
     "name": "stdout",
     "output_type": "stream",
     "text": [
      "1719/1719 [==============================] - 7s 4ms/step - loss: 0.2335 - accuracy: 0.9268 - val_loss: 0.0978 - val_accuracy: 0.9710\n",
      "Epoch 2/100\n",
      "1703/1719 [============================>.] - ETA: 0s - loss: 0.0941 - accuracy: 0.9716INFO:tensorflow:Assets written to: my_mnist_model\\assets\n"
     ]
    },
    {
     "name": "stderr",
     "output_type": "stream",
     "text": [
      "INFO:tensorflow:Assets written to: my_mnist_model\\assets\n"
     ]
    },
    {
     "name": "stdout",
     "output_type": "stream",
     "text": [
      "1719/1719 [==============================] - 6s 4ms/step - loss: 0.0941 - accuracy: 0.9715 - val_loss: 0.0917 - val_accuracy: 0.9746\n",
      "Epoch 3/100\n",
      "1709/1719 [============================>.] - ETA: 0s - loss: 0.0658 - accuracy: 0.9794INFO:tensorflow:Assets written to: my_mnist_model\\assets\n"
     ]
    },
    {
     "name": "stderr",
     "output_type": "stream",
     "text": [
      "INFO:tensorflow:Assets written to: my_mnist_model\\assets\n"
     ]
    },
    {
     "name": "stdout",
     "output_type": "stream",
     "text": [
      "1719/1719 [==============================] - 6s 4ms/step - loss: 0.0657 - accuracy: 0.9794 - val_loss: 0.0730 - val_accuracy: 0.9798\n",
      "Epoch 4/100\n",
      "1719/1719 [==============================] - 6s 3ms/step - loss: 0.0473 - accuracy: 0.9849 - val_loss: 0.0807 - val_accuracy: 0.9798\n",
      "Epoch 5/100\n",
      "1719/1719 [==============================] - 5s 3ms/step - loss: 0.0371 - accuracy: 0.9883 - val_loss: 0.0836 - val_accuracy: 0.9794\n",
      "Epoch 6/100\n",
      "1715/1719 [============================>.] - ETA: 0s - loss: 0.0273 - accuracy: 0.9913INFO:tensorflow:Assets written to: my_mnist_model\\assets\n"
     ]
    },
    {
     "name": "stderr",
     "output_type": "stream",
     "text": [
      "INFO:tensorflow:Assets written to: my_mnist_model\\assets\n"
     ]
    },
    {
     "name": "stdout",
     "output_type": "stream",
     "text": [
      "1719/1719 [==============================] - 6s 4ms/step - loss: 0.0273 - accuracy: 0.9913 - val_loss: 0.0722 - val_accuracy: 0.9794\n",
      "Epoch 7/100\n",
      "1719/1719 [==============================] - 8s 5ms/step - loss: 0.0257 - accuracy: 0.9915 - val_loss: 0.0789 - val_accuracy: 0.9828\n",
      "Epoch 8/100\n",
      "1719/1719 [==============================] - 7s 4ms/step - loss: 0.0208 - accuracy: 0.9934 - val_loss: 0.0870 - val_accuracy: 0.9792\n",
      "Epoch 9/100\n",
      "1719/1719 [==============================] - 7s 4ms/step - loss: 0.0144 - accuracy: 0.9954 - val_loss: 0.0835 - val_accuracy: 0.9816\n",
      "Epoch 10/100\n",
      "1719/1719 [==============================] - 8s 5ms/step - loss: 0.0110 - accuracy: 0.9964 - val_loss: 0.0813 - val_accuracy: 0.9824\n",
      "Epoch 11/100\n",
      "1719/1719 [==============================] - 7s 4ms/step - loss: 0.0140 - accuracy: 0.9953 - val_loss: 0.0928 - val_accuracy: 0.9830\n",
      "Epoch 12/100\n",
      "1719/1719 [==============================] - 6s 4ms/step - loss: 0.0115 - accuracy: 0.9962 - val_loss: 0.1047 - val_accuracy: 0.9790\n",
      "Epoch 13/100\n",
      "1719/1719 [==============================] - 6s 3ms/step - loss: 0.0157 - accuracy: 0.9950 - val_loss: 0.0913 - val_accuracy: 0.9800\n",
      "Epoch 14/100\n",
      "1719/1719 [==============================] - 6s 4ms/step - loss: 0.0073 - accuracy: 0.9978 - val_loss: 0.0801 - val_accuracy: 0.9854\n",
      "Epoch 15/100\n",
      "1719/1719 [==============================] - 6s 3ms/step - loss: 0.0046 - accuracy: 0.9986 - val_loss: 0.0858 - val_accuracy: 0.9828\n",
      "Epoch 16/100\n",
      "1719/1719 [==============================] - 6s 4ms/step - loss: 0.0044 - accuracy: 0.9985 - val_loss: 0.0871 - val_accuracy: 0.9832\n",
      "Epoch 17/100\n",
      "1719/1719 [==============================] - 6s 4ms/step - loss: 0.0020 - accuracy: 0.9995 - val_loss: 0.0866 - val_accuracy: 0.9862\n",
      "Epoch 18/100\n",
      "1719/1719 [==============================] - 6s 3ms/step - loss: 0.0015 - accuracy: 0.9996 - val_loss: 0.1034 - val_accuracy: 0.9818\n",
      "Epoch 19/100\n",
      "1719/1719 [==============================] - 6s 3ms/step - loss: 0.0019 - accuracy: 0.9995 - val_loss: 0.0855 - val_accuracy: 0.9850\n",
      "Epoch 20/100\n",
      "1719/1719 [==============================] - 6s 4ms/step - loss: 3.8418e-04 - accuracy: 0.9999 - val_loss: 0.0864 - val_accuracy: 0.9858\n",
      "Epoch 21/100\n",
      "1719/1719 [==============================] - 6s 4ms/step - loss: 0.0025 - accuracy: 0.9993 - val_loss: 0.0864 - val_accuracy: 0.9858\n",
      "Epoch 22/100\n",
      "1719/1719 [==============================] - 6s 4ms/step - loss: 0.0014 - accuracy: 0.9997 - val_loss: 0.0868 - val_accuracy: 0.9862\n",
      "Epoch 23/100\n",
      "1719/1719 [==============================] - 6s 4ms/step - loss: 2.3952e-04 - accuracy: 1.0000 - val_loss: 0.0826 - val_accuracy: 0.9868\n",
      "Epoch 24/100\n",
      "1719/1719 [==============================] - 6s 4ms/step - loss: 8.5578e-05 - accuracy: 1.0000 - val_loss: 0.0825 - val_accuracy: 0.9876\n",
      "Epoch 25/100\n",
      "1719/1719 [==============================] - 6s 3ms/step - loss: 5.5922e-05 - accuracy: 1.0000 - val_loss: 0.0828 - val_accuracy: 0.9876\n",
      "Epoch 26/100\n",
      "1719/1719 [==============================] - 6s 3ms/step - loss: 4.7230e-05 - accuracy: 1.0000 - val_loss: 0.0833 - val_accuracy: 0.9876\n"
     ]
    }
   ],
   "source": [
    "early_stopping_cb = tf.keras.callbacks.EarlyStopping(patience=20)\n",
    "checkpoint_cb = tf.keras.callbacks.ModelCheckpoint(\"my_mnist_model\", save_best_only=True)\n",
    "tensorboard_cb = tf.keras.callbacks.TensorBoard(run_logdir)\n",
    "\n",
    "history = model.fit(X_train, y_train, epochs=100,\n",
    "                    validation_data=(X_valid, y_valid),\n",
    "                    callbacks=[checkpoint_cb, early_stopping_cb, tensorboard_cb])"
   ]
  },
  {
   "cell_type": "code",
   "execution_count": 22,
   "id": "361b8131-b37a-4b3d-8cab-82803a87181b",
   "metadata": {},
   "outputs": [
    {
     "data": {
      "text/plain": [
       "WindowsPath('my_mnist_logs/run_001')"
      ]
     },
     "execution_count": 22,
     "metadata": {},
     "output_type": "execute_result"
    }
   ],
   "source": [
    "run_index = 1 # increment this at every run\n",
    "run_logdir = Path() / \"my_mnist_logs\" / \"run_{:03d}\".format(run_index)\n",
    "run_logdir"
   ]
  },
  {
   "cell_type": "code",
   "execution_count": 24,
   "id": "f9f5e778-5aa6-4ea1-a5b9-f7016eee7ed2",
   "metadata": {},
   "outputs": [
    {
     "name": "stdout",
     "output_type": "stream",
     "text": [
      "WARNING:tensorflow:From C:\\Users\\pat\\anaconda3\\Lib\\site-packages\\keras\\src\\saving\\legacy\\saved_model\\load.py:107: The name tf.gfile.Exists is deprecated. Please use tf.io.gfile.exists instead.\n",
      "\n"
     ]
    },
    {
     "name": "stderr",
     "output_type": "stream",
     "text": [
      "WARNING:tensorflow:From C:\\Users\\pat\\anaconda3\\Lib\\site-packages\\keras\\src\\saving\\legacy\\saved_model\\load.py:107: The name tf.gfile.Exists is deprecated. Please use tf.io.gfile.exists instead.\n",
      "\n"
     ]
    },
    {
     "name": "stdout",
     "output_type": "stream",
     "text": [
      "313/313 [==============================] - 1s 2ms/step - loss: 0.0758 - accuracy: 0.9791\n"
     ]
    },
    {
     "data": {
      "text/plain": [
       "[0.07583872973918915, 0.9790999889373779]"
      ]
     },
     "execution_count": 24,
     "metadata": {},
     "output_type": "execute_result"
    }
   ],
   "source": [
    "model = tf.keras.models.load_model(\"my_mnist_model\") # rollback to best model\n",
    "model.evaluate(X_test, y_test)"
   ]
  },
  {
   "cell_type": "code",
   "execution_count": 25,
   "id": "6d287904-9467-4d04-9aef-40bba122d7f7",
   "metadata": {},
   "outputs": [
    {
     "name": "stdout",
     "output_type": "stream",
     "text": [
      "Known TensorBoard instances:\n",
      "  - port 6006: logdir ./my_mnist_logs (started 19:43:20 ago; pid 16632)\n",
      "  - port 6006: logdir my_fashion_mnisthyperbandtensorboard (started 2 days, 21:00:02 ago; pid 19292)\n",
      "  - port 6006: logdir ./my_logs (started 5 days, 18:22:13 ago; pid 3636)\n",
      "  - port 6006: logdir ./my_fashion_mnist/hyperband/tensorboard (started 2 days, 19:34:22 ago; pid 3884)\n"
     ]
    }
   ],
   "source": [
    "from tensorboard import notebook\n",
    "\n",
    "notebook.list()"
   ]
  },
  {
   "cell_type": "code",
   "execution_count": 26,
   "id": "b25fb937-75f1-4864-a7ca-fa5193a38116",
   "metadata": {},
   "outputs": [
    {
     "name": "stderr",
     "output_type": "stream",
     "text": [
      "UsageError: Line magic function `%tensorboard` not found.\n"
     ]
    }
   ],
   "source": [
    "%load_ext tensorboard\n",
    "%tensorboard --logdir=./my_mnist_logs"
   ]
  },
  {
   "cell_type": "markdown",
   "id": "d676e91e-dcf8-408a-9cf4-f74214a85139",
   "metadata": {},
   "source": [
    "#### Next, try tuning the hyperparameters using Keras Tuner with all the bells and whistles - save checkpoints, use early stopping, and plot the learning curves using Tensorboard."
   ]
  },
  {
   "cell_type": "code",
   "execution_count": 29,
   "id": "02fc1c7f-0198-4b0d-9e39-40c88f3aab54",
   "metadata": {},
   "outputs": [],
   "source": [
    "tf.keras.backend.clear_session()\n",
    "np.random.seed(42)\n",
    "tf.random.set_seed(42)"
   ]
  },
  {
   "cell_type": "code",
   "execution_count": 30,
   "id": "89052972-81e6-4b26-b755-411861635942",
   "metadata": {},
   "outputs": [],
   "source": [
    "import keras_tuner as kt\n",
    "\n",
    "def build_model(hp):\n",
    "    n_hidden = hp.Int(\"n_hidden\", min_value=0, max_value=8, default=2)\n",
    "    n_neurons = hp.Int(\"n_neurons\", min_value=16, max_value=256)\n",
    "    learning_rate = hp.Float(\"learning_rate\", min_value=1e-4, max_value=1e-2,\n",
    "                             sampling=\"log\")\n",
    "    optimizer = hp.Choice(\"optimizer\", values=[\"sgd\", \"adam\"])\n",
    "    if optimizer == \"sgd\":\n",
    "        optimizer = tf.keras.optimizers.SGD(learning_rate=learning_rate)\n",
    "    else:\n",
    "        optimizer = tf.keras.optimizers.Adam(learning_rate=learning_rate)\n",
    "\n",
    "    model = tf.keras.Sequential()\n",
    "    model.add(tf.keras.layers.Flatten(input_shape=[28, 28]))\n",
    "    for _ in range(n_hidden):\n",
    "        model.add(tf.keras.layers.Dense(n_neurons, activation=\"relu\"))\n",
    "    model.add(tf.keras.layers.Dense(10, activation=\"softmax\"))\n",
    "    model.compile(loss=\"sparse_categorical_crossentropy\", optimizer=optimizer,\n",
    "                  metrics=[\"accuracy\"])\n",
    "    return model"
   ]
  },
  {
   "cell_type": "code",
   "execution_count": 31,
   "id": "34926164-ff89-4bdb-9280-e31decaee6be",
   "metadata": {},
   "outputs": [
    {
     "data": {
      "text/plain": [
       "WindowsPath('my_mnist_logs/run_002')"
      ]
     },
     "execution_count": 31,
     "metadata": {},
     "output_type": "execute_result"
    }
   ],
   "source": [
    "run_index = 2 # increment this at every run\n",
    "run_logdir = Path() / \"my_mnist_logs\" / \"run_{:03d}\".format(run_index)\n",
    "run_logdir"
   ]
  },
  {
   "cell_type": "code",
   "execution_count": 32,
   "id": "0a7c1892-d5e2-4a35-9fd4-80c91be83ac2",
   "metadata": {},
   "outputs": [
    {
     "name": "stdout",
     "output_type": "stream",
     "text": [
      "Trial 5 Complete [00h 00m 50s]\n",
      "val_accuracy: 0.8155999779701233\n",
      "\n",
      "Best val_accuracy So Far: 0.9652000069618225\n",
      "Total elapsed time: 00h 03m 55s\n"
     ]
    }
   ],
   "source": [
    "early_stopping_cb = tf.keras.callbacks.EarlyStopping(patience=2)\n",
    "checkpoint_cb = tf.keras.callbacks.ModelCheckpoint(\"my_mnist_models\", save_best_only=True)\n",
    "tensorboard_cb = tf.keras.callbacks.TensorBoard(run_logdir)\n",
    "\n",
    "\n",
    "random_search_tuner = kt.RandomSearch(\n",
    "    build_model, objective=\"val_accuracy\", max_trials=5, overwrite=True,\n",
    "    directory=\"my_mnist_logs\", project_name=\"my_rnd_search\", seed=42)\n",
    "random_search_tuner.search(X_train, y_train, epochs=10,\n",
    "                           validation_data=(X_valid, y_valid), \n",
    "                           callbacks=[early_stopping_cb, tensorboard_cb])"
   ]
  },
  {
   "cell_type": "code",
   "execution_count": 33,
   "id": "781291da-6b51-41f1-850e-87bc1f047ebd",
   "metadata": {},
   "outputs": [
    {
     "name": "stdout",
     "output_type": "stream",
     "text": [
      "WARNING:tensorflow:From C:\\Users\\pat\\anaconda3\\Lib\\site-packages\\keras\\src\\saving\\legacy\\save.py:538: The name tf.train.NewCheckpointReader is deprecated. Please use tf.compat.v1.train.NewCheckpointReader instead.\n",
      "\n"
     ]
    },
    {
     "name": "stderr",
     "output_type": "stream",
     "text": [
      "WARNING:tensorflow:From C:\\Users\\pat\\anaconda3\\Lib\\site-packages\\keras\\src\\saving\\legacy\\save.py:538: The name tf.train.NewCheckpointReader is deprecated. Please use tf.compat.v1.train.NewCheckpointReader instead.\n",
      "\n"
     ]
    }
   ],
   "source": [
    "best_model = random_search_tuner.get_best_models()[0]"
   ]
  },
  {
   "cell_type": "code",
   "execution_count": 34,
   "id": "0e69334a-68f3-485e-a026-51304958ca82",
   "metadata": {},
   "outputs": [
    {
     "name": "stdout",
     "output_type": "stream",
     "text": [
      "Trial 2 summary\n",
      "Hyperparameters:\n",
      "n_hidden: 4\n",
      "n_neurons: 74\n",
      "learning_rate: 0.00905127409782462\n",
      "optimizer: adam\n",
      "Score: 0.9652000069618225\n"
     ]
    }
   ],
   "source": [
    "best_trial = random_search_tuner.oracle.get_best_trials(num_trials=1)[0]\n",
    "best_trial.summary()"
   ]
  },
  {
   "cell_type": "code",
   "execution_count": 35,
   "id": "2a0add43-7b4b-4227-87f5-31ea09d37705",
   "metadata": {},
   "outputs": [
    {
     "data": {
      "text/plain": [
       "0.9652000069618225"
      ]
     },
     "execution_count": 35,
     "metadata": {},
     "output_type": "execute_result"
    }
   ],
   "source": [
    "best_trial.metrics.get_last_value(\"val_accuracy\")"
   ]
  },
  {
   "cell_type": "code",
   "execution_count": 49,
   "id": "906c60b3-e2c9-4179-ae14-bdac6af61af2",
   "metadata": {},
   "outputs": [
    {
     "data": {
      "text/html": [
       "\n",
       "      <iframe id=\"tensorboard-frame-978020b7ff3e2a8b\" width=\"100%\" height=\"800\" frameborder=\"0\">\n",
       "      </iframe>\n",
       "      <script>\n",
       "        (function() {\n",
       "          const frame = document.getElementById(\"tensorboard-frame-978020b7ff3e2a8b\");\n",
       "          const url = new URL(\"/\", window.location);\n",
       "          const port = 6006;\n",
       "          if (port) {\n",
       "            url.port = port;\n",
       "          }\n",
       "          frame.src = url;\n",
       "        })();\n",
       "      </script>\n",
       "    "
      ],
      "text/plain": [
       "<IPython.core.display.HTML object>"
      ]
     },
     "metadata": {},
     "output_type": "display_data"
    }
   ],
   "source": [
    "# %load_ext tensorboard\n",
    "%tensorboard --logdir=./my_mnist_logs"
   ]
  },
  {
   "cell_type": "code",
   "execution_count": 50,
   "id": "c3c8199a-b43f-4595-9147-4071522214da",
   "metadata": {},
   "outputs": [
    {
     "name": "stdout",
     "output_type": "stream",
     "text": [
      "Known TensorBoard instances:\n",
      "  - port 6006: logdir ./my_mnist_logs (started 0:15:07 ago; pid 14952)\n"
     ]
    }
   ],
   "source": [
    "from tensorboard import notebook\n",
    "\n",
    "notebook.list()"
   ]
  },
  {
   "cell_type": "code",
   "execution_count": 51,
   "id": "3d8fed7e-e67c-440b-bfd8-e45f43f941f7",
   "metadata": {},
   "outputs": [
    {
     "name": "stdout",
     "output_type": "stream",
     "text": [
      "SUCCESS: The process \"tensorboard.exe\" with PID 1192 has been terminated.\n"
     ]
    }
   ],
   "source": [
    "!taskkill /IM \"tensorboard.exe\" /F\n",
    "!rmdir /S /Q %temp%\\.tensorboard-info"
   ]
  },
  {
   "cell_type": "code",
   "execution_count": 52,
   "id": "ec0c5fbf-6f94-45c8-aacc-45d85b234567",
   "metadata": {},
   "outputs": [
    {
     "name": "stdout",
     "output_type": "stream",
     "text": [
      "Epoch 1/100\n",
      "1709/1719 [============================>.] - ETA: 0s - loss: 0.1459 - accuracy: 0.9648INFO:tensorflow:Assets written to: my_mnist_model\\assets\n"
     ]
    },
    {
     "name": "stderr",
     "output_type": "stream",
     "text": [
      "INFO:tensorflow:Assets written to: my_mnist_model\\assets\n"
     ]
    },
    {
     "name": "stdout",
     "output_type": "stream",
     "text": [
      "1719/1719 [==============================] - 7s 3ms/step - loss: 0.1460 - accuracy: 0.9648 - val_loss: 0.1522 - val_accuracy: 0.9664\n",
      "Epoch 2/100\n",
      "1719/1719 [==============================] - 5s 3ms/step - loss: 0.1239 - accuracy: 0.9703 - val_loss: 0.1826 - val_accuracy: 0.9592\n",
      "Epoch 3/100\n",
      "1719/1719 [==============================] - 5s 3ms/step - loss: 0.1397 - accuracy: 0.9666 - val_loss: 0.1796 - val_accuracy: 0.9606\n",
      "Epoch 4/100\n",
      "1719/1719 [==============================] - 5s 3ms/step - loss: 0.1367 - accuracy: 0.9676 - val_loss: 0.1693 - val_accuracy: 0.9658\n",
      "Epoch 5/100\n",
      "1719/1719 [==============================] - 6s 3ms/step - loss: 0.1255 - accuracy: 0.9699 - val_loss: 0.1618 - val_accuracy: 0.9652\n",
      "Epoch 6/100\n",
      "1718/1719 [============================>.] - ETA: 0s - loss: 0.1272 - accuracy: 0.9710INFO:tensorflow:Assets written to: my_mnist_model\\assets\n"
     ]
    },
    {
     "name": "stderr",
     "output_type": "stream",
     "text": [
      "INFO:tensorflow:Assets written to: my_mnist_model\\assets\n"
     ]
    },
    {
     "name": "stdout",
     "output_type": "stream",
     "text": [
      "1719/1719 [==============================] - 6s 3ms/step - loss: 0.1272 - accuracy: 0.9710 - val_loss: 0.1491 - val_accuracy: 0.9684\n",
      "Epoch 7/100\n",
      "1719/1719 [==============================] - 5s 3ms/step - loss: 0.1203 - accuracy: 0.9722 - val_loss: 0.2152 - val_accuracy: 0.9604\n",
      "Epoch 8/100\n",
      "1719/1719 [==============================] - 5s 3ms/step - loss: 0.1195 - accuracy: 0.9731 - val_loss: 0.1822 - val_accuracy: 0.9660\n",
      "Epoch 9/100\n",
      "1719/1719 [==============================] - 5s 3ms/step - loss: 0.1048 - accuracy: 0.9761 - val_loss: 0.2253 - val_accuracy: 0.9654\n",
      "Epoch 10/100\n",
      "1719/1719 [==============================] - 5s 3ms/step - loss: 0.1109 - accuracy: 0.9750 - val_loss: 0.1658 - val_accuracy: 0.9644\n",
      "Epoch 11/100\n",
      "1719/1719 [==============================] - 5s 3ms/step - loss: 0.1250 - accuracy: 0.9722 - val_loss: 0.1930 - val_accuracy: 0.9692\n",
      "Epoch 12/100\n",
      "1719/1719 [==============================] - 5s 3ms/step - loss: 0.0969 - accuracy: 0.9788 - val_loss: 0.1923 - val_accuracy: 0.9654\n",
      "Epoch 13/100\n",
      "1719/1719 [==============================] - 5s 3ms/step - loss: 0.1026 - accuracy: 0.9769 - val_loss: 0.1600 - val_accuracy: 0.9716\n",
      "Epoch 14/100\n",
      "1719/1719 [==============================] - 5s 3ms/step - loss: 0.0990 - accuracy: 0.9778 - val_loss: 0.1579 - val_accuracy: 0.9694\n",
      "Epoch 15/100\n",
      "1719/1719 [==============================] - 5s 3ms/step - loss: 0.0903 - accuracy: 0.9795 - val_loss: 0.1782 - val_accuracy: 0.9690\n",
      "Epoch 16/100\n",
      "1719/1719 [==============================] - 5s 3ms/step - loss: 0.1118 - accuracy: 0.9761 - val_loss: 0.1884 - val_accuracy: 0.9604\n",
      "Epoch 17/100\n",
      "1719/1719 [==============================] - 5s 3ms/step - loss: 0.0968 - accuracy: 0.9795 - val_loss: 0.2523 - val_accuracy: 0.9690\n",
      "Epoch 18/100\n",
      "1719/1719 [==============================] - 5s 3ms/step - loss: 0.1273 - accuracy: 0.9720 - val_loss: 0.2520 - val_accuracy: 0.9568\n",
      "Epoch 19/100\n",
      "1719/1719 [==============================] - 5s 3ms/step - loss: 0.1361 - accuracy: 0.9708 - val_loss: 0.2245 - val_accuracy: 0.9572\n",
      "Epoch 20/100\n",
      "1719/1719 [==============================] - 5s 3ms/step - loss: 0.0983 - accuracy: 0.9779 - val_loss: 0.2195 - val_accuracy: 0.9680\n",
      "Epoch 21/100\n",
      "1719/1719 [==============================] - 5s 3ms/step - loss: 0.1365 - accuracy: 0.9723 - val_loss: 0.1749 - val_accuracy: 0.9636\n",
      "Epoch 22/100\n",
      "1719/1719 [==============================] - 5s 3ms/step - loss: 0.0897 - accuracy: 0.9789 - val_loss: 0.2552 - val_accuracy: 0.9670\n",
      "Epoch 23/100\n",
      "1719/1719 [==============================] - 5s 3ms/step - loss: 0.0914 - accuracy: 0.9790 - val_loss: 0.2169 - val_accuracy: 0.9642\n",
      "Epoch 24/100\n",
      "1719/1719 [==============================] - 5s 3ms/step - loss: 0.1073 - accuracy: 0.9751 - val_loss: 0.1841 - val_accuracy: 0.9622\n",
      "Epoch 25/100\n",
      "1719/1719 [==============================] - 5s 3ms/step - loss: 0.0912 - accuracy: 0.9786 - val_loss: 0.1933 - val_accuracy: 0.9670\n",
      "Epoch 26/100\n",
      "1719/1719 [==============================] - 5s 3ms/step - loss: 0.1180 - accuracy: 0.9749 - val_loss: 0.2346 - val_accuracy: 0.9676\n",
      "313/313 [==============================] - 1s 2ms/step - loss: 0.2393 - accuracy: 0.9680\n"
     ]
    }
   ],
   "source": [
    "early_stopping_cb = tf.keras.callbacks.EarlyStopping(patience=20)\n",
    "checkpoint_cb = tf.keras.callbacks.ModelCheckpoint(\"my_mnist_model\", save_best_only=True)\n",
    "tensorboard_cb = tf.keras.callbacks.TensorBoard(run_logdir)\n",
    "\n",
    "best_model.fit(X_train, y_train, validation_data=(X_valid, y_valid), epochs=100, callbacks=[checkpoint_cb, early_stopping_cb, tensorboard_cb])\n",
    "test_loss, test_accuracy = best_model.evaluate(X_test, y_test)"
   ]
  },
  {
   "cell_type": "code",
   "execution_count": null,
   "id": "6e3b9673-b9cd-4a44-9e1d-3259adfc99cf",
   "metadata": {},
   "outputs": [],
   "source": []
  }
 ],
 "metadata": {
  "kernelspec": {
   "display_name": "Python 3 (ipykernel)",
   "language": "python",
   "name": "python3"
  },
  "language_info": {
   "codemirror_mode": {
    "name": "ipython",
    "version": 3
   },
   "file_extension": ".py",
   "mimetype": "text/x-python",
   "name": "python",
   "nbconvert_exporter": "python",
   "pygments_lexer": "ipython3",
   "version": "3.11.5"
  }
 },
 "nbformat": 4,
 "nbformat_minor": 5
}
