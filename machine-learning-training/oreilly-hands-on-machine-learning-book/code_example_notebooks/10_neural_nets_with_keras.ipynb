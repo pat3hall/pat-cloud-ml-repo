{
 "cells": [
  {
   "cell_type": "markdown",
   "metadata": {
    "id": "Hk_bt1kF_0H9"
   },
   "source": [
    "**Chapter 10 – Introduction to Artificial Neural Networks with Keras**"
   ]
  },
  {
   "cell_type": "markdown",
   "metadata": {
    "id": "-49JCQ1Q_0H-"
   },
   "source": [
    "_This notebook contains all the sample code and solutions to the exercises in chapter 10._"
   ]
  },
  {
   "cell_type": "markdown",
   "metadata": {
    "id": "cLObntpy_0H_"
   },
   "source": [
    "<table align=\"left\">\n",
    "  <td>\n",
    "    <a href=\"https://colab.research.google.com/github/ageron/handson-ml3/blob/main/10_neural_nets_with_keras.ipynb\" target=\"_parent\"><img src=\"https://colab.research.google.com/assets/colab-badge.svg\" alt=\"Open In Colab\"/></a>\n",
    "  </td>\n",
    "  <td>\n",
    "    <a target=\"_blank\" href=\"https://kaggle.com/kernels/welcome?src=https://github.com/ageron/handson-ml3/blob/main/10_neural_nets_with_keras.ipynb\"><img src=\"https://kaggle.com/static/images/open-in-kaggle.svg\" /></a>\n",
    "  </td>\n",
    "</table>"
   ]
  },
  {
   "cell_type": "markdown",
   "metadata": {
    "id": "NFJ8vJzW_0H_",
    "tags": []
   },
   "source": [
    "# Setup"
   ]
  },
  {
   "cell_type": "markdown",
   "metadata": {
    "id": "6aIhM8hH_0ID"
   },
   "source": [
    "This project requires Python 3.7 or above:"
   ]
  },
  {
   "cell_type": "code",
   "execution_count": 1,
   "metadata": {
    "id": "DAjsFbGZ_0IE"
   },
   "outputs": [],
   "source": [
    "import sys\n",
    "\n",
    "assert sys.version_info >= (3, 7)"
   ]
  },
  {
   "cell_type": "markdown",
   "metadata": {
    "id": "9h3HyW6C_0IE"
   },
   "source": [
    "It also requires Scikit-Learn ≥ 1.0.1:"
   ]
  },
  {
   "cell_type": "code",
   "execution_count": 2,
   "metadata": {
    "id": "b3memFsn_0IF"
   },
   "outputs": [],
   "source": [
    "from packaging import version\n",
    "import sklearn\n",
    "\n",
    "assert version.parse(sklearn.__version__) >= version.parse(\"1.0.1\")"
   ]
  },
  {
   "cell_type": "markdown",
   "metadata": {
    "id": "agymdjBb_0IF"
   },
   "source": [
    "And TensorFlow ≥ 2.8:"
   ]
  },
  {
   "cell_type": "markdown",
   "metadata": {},
   "source": [
    "# install tensorflow - using Anaconda Prompt with the following commands:\n",
    "create -n tensorflow tensorflow\n",
    "\n",
    "conda activate tensorflow\n",
    "\n",
    "C:\\Users\\pat\\anaconda3\\envs\\tensorflow\\python.exe -m pip install --upgrade pip\n",
    "\n",
    "# in jupyter notebook run:\n",
    "!pip install tensorflow\n"
   ]
  },
  {
   "cell_type": "code",
   "execution_count": null,
   "metadata": {},
   "outputs": [],
   "source": []
  },
  {
   "cell_type": "code",
   "execution_count": 3,
   "metadata": {
    "id": "GRFWJMw7_0IG"
   },
   "outputs": [
    {
     "name": "stdout",
     "output_type": "stream",
     "text": [
      "WARNING:tensorflow:From C:\\Users\\pat\\anaconda3\\Lib\\site-packages\\keras\\src\\losses.py:2976: The name tf.losses.sparse_softmax_cross_entropy is deprecated. Please use tf.compat.v1.losses.sparse_softmax_cross_entropy instead.\n",
      "\n"
     ]
    }
   ],
   "source": [
    "import tensorflow as tf\n",
    "\n",
    "assert version.parse(tf.__version__) >= version.parse(\"2.8.0\")"
   ]
  },
  {
   "cell_type": "markdown",
   "metadata": {
    "id": "6bRe0vnY_0IG"
   },
   "source": [
    "As we did in previous chapters, let's define the default font sizes to make the figures prettier:"
   ]
  },
  {
   "cell_type": "code",
   "execution_count": 4,
   "metadata": {
    "id": "QoA5gu6B_0IH"
   },
   "outputs": [],
   "source": [
    "import matplotlib.pyplot as plt\n",
    "\n",
    "plt.rc('font', size=14)\n",
    "plt.rc('axes', labelsize=14, titlesize=14)\n",
    "plt.rc('legend', fontsize=14)\n",
    "plt.rc('xtick', labelsize=10)\n",
    "plt.rc('ytick', labelsize=10)"
   ]
  },
  {
   "cell_type": "markdown",
   "metadata": {
    "id": "t-ex_pxP_0IH"
   },
   "source": [
    "And let's create the `images/ann` folder (if it doesn't already exist), and define the `save_fig()` function which is used through this notebook to save the figures in high-res for the book:"
   ]
  },
  {
   "cell_type": "code",
   "execution_count": 5,
   "metadata": {
    "id": "njDYPfzg_0IH"
   },
   "outputs": [],
   "source": [
    "from pathlib import Path\n",
    "\n",
    "IMAGES_PATH = Path() / \"images\" / \"ann\"\n",
    "IMAGES_PATH.mkdir(parents=True, exist_ok=True)\n",
    "\n",
    "def save_fig(fig_id, tight_layout=True, fig_extension=\"png\", resolution=300):\n",
    "    path = IMAGES_PATH / f\"{fig_id}.{fig_extension}\"\n",
    "    if tight_layout:\n",
    "        plt.tight_layout()\n",
    "    plt.savefig(path, format=fig_extension, dpi=resolution)"
   ]
  },
  {
   "cell_type": "markdown",
   "metadata": {
    "id": "Mzg-Y4oM_0II"
   },
   "source": [
    "# From Biological to Artificial Neurons\n",
    "## The Perceptron"
   ]
  },
  {
   "cell_type": "code",
   "execution_count": 6,
   "metadata": {
    "id": "DKvY_g9d_0II"
   },
   "outputs": [],
   "source": [
    "import numpy as np\n",
    "from sklearn.datasets import load_iris\n",
    "from sklearn.linear_model import Perceptron\n",
    "\n",
    "iris = load_iris(as_frame=True)\n",
    "X = iris.data[[\"petal length (cm)\", \"petal width (cm)\"]].values\n",
    "y = (iris.target == 0)  # Iris setosa\n",
    "\n",
    "per_clf = Perceptron(random_state=42)\n",
    "per_clf.fit(X, y)\n",
    "\n",
    "X_new = [[2, 0.5], [3, 1]]\n",
    "y_pred = per_clf.predict(X_new)  # predicts True and False for these 2 flowers"
   ]
  },
  {
   "cell_type": "code",
   "execution_count": 7,
   "metadata": {
    "id": "a7B_bOqV_0II",
    "outputId": "8814caa6-fbf3-4e7c-ec28-d83f283a4b50"
   },
   "outputs": [
    {
     "data": {
      "text/plain": [
       "array([ True, False])"
      ]
     },
     "execution_count": 7,
     "metadata": {},
     "output_type": "execute_result"
    }
   ],
   "source": [
    "y_pred"
   ]
  },
  {
   "cell_type": "markdown",
   "metadata": {
    "id": "zHyQ-nir_0IJ"
   },
   "source": [
    "The `Perceptron` is equivalent to a `SGDClassifier` with `loss=\"perceptron\"`, no regularization, and a constant learning rate equal to 1:"
   ]
  },
  {
   "cell_type": "code",
   "execution_count": 8,
   "metadata": {
    "id": "5r2Qugxi_0IJ"
   },
   "outputs": [],
   "source": [
    "# extra code – shows how to build and train a Perceptron\n",
    "\n",
    "from sklearn.linear_model import SGDClassifier\n",
    "\n",
    "sgd_clf = SGDClassifier(loss=\"perceptron\", penalty=None,\n",
    "                        learning_rate=\"constant\", eta0=1, random_state=42)\n",
    "sgd_clf.fit(X, y)\n",
    "assert (sgd_clf.coef_ == per_clf.coef_).all()\n",
    "assert (sgd_clf.intercept_ == per_clf.intercept_).all()"
   ]
  },
  {
   "cell_type": "markdown",
   "metadata": {
    "id": "4Y-38azH_0IJ"
   },
   "source": [
    "When the Perceptron finds a decision boundary that properly separates the classes, it stops learning. This means that the decision boundary is often quite close to one class:"
   ]
  },
  {
   "cell_type": "code",
   "execution_count": 9,
   "metadata": {
    "id": "qXy0WXSC_0IJ",
    "outputId": "9d802139-ae10-4b00-cf20-cb5a2dc9f1dd"
   },
   "outputs": [
    {
     "data": {
      "image/png": "[encoded data removed]",
      "text/plain": [
       "<Figure size 700x300 with 1 Axes>"
      ]
     },
     "metadata": {},
     "output_type": "display_data"
    }
   ],
   "source": [
    "# extra code – plots the decision boundary of a Perceptron on the iris dataset\n",
    "\n",
    "import matplotlib.pyplot as plt\n",
    "from matplotlib.colors import ListedColormap\n",
    "\n",
    "a = -per_clf.coef_[0, 0] / per_clf.coef_[0, 1]\n",
    "b = -per_clf.intercept_ / per_clf.coef_[0, 1]\n",
    "axes = [0, 5, 0, 2]\n",
    "x0, x1 = np.meshgrid(\n",
    "    np.linspace(axes[0], axes[1], 500).reshape(-1, 1),\n",
    "    np.linspace(axes[2], axes[3], 200).reshape(-1, 1),\n",
    ")\n",
    "X_new = np.c_[x0.ravel(), x1.ravel()]\n",
    "y_predict = per_clf.predict(X_new)\n",
    "zz = y_predict.reshape(x0.shape)\n",
    "custom_cmap = ListedColormap(['#9898ff', '#fafab0'])\n",
    "\n",
    "plt.figure(figsize=(7, 3))\n",
    "plt.plot(X[y == 0, 0], X[y == 0, 1], \"bs\", label=\"Not Iris setosa\")\n",
    "plt.plot(X[y == 1, 0], X[y == 1, 1], \"yo\", label=\"Iris setosa\")\n",
    "plt.plot([axes[0], axes[1]], [a * axes[0] + b, a * axes[1] + b], \"k-\",\n",
    "         linewidth=3)\n",
    "plt.contourf(x0, x1, zz, cmap=custom_cmap)\n",
    "plt.xlabel(\"Petal length\")\n",
    "plt.ylabel(\"Petal width\")\n",
    "plt.legend(loc=\"lower right\")\n",
    "plt.axis(axes)\n",
    "plt.show()"
   ]
  },
  {
   "cell_type": "markdown",
   "metadata": {
    "id": "3vdG43YL_0IK"
   },
   "source": [
    "**Activation functions**"
   ]
  },
  {
   "cell_type": "code",
   "execution_count": 10,
   "metadata": {
    "id": "hhkjRefl_0IK",
    "outputId": "979917b8-07f3-47ec-e98f-ca4049c49b42"
   },
   "outputs": [
    {
     "data": {
      "image/png": "[encoded data removed]",
      "text/plain": [
       "<Figure size 1100x310 with 2 Axes>"
      ]
     },
     "metadata": {},
     "output_type": "display_data"
    }
   ],
   "source": [
    "# extra code – this cell generates and saves Figure 10–8\n",
    "\n",
    "from scipy.special import expit as sigmoid\n",
    "\n",
    "def relu(z):\n",
    "    return np.maximum(0, z)\n",
    "\n",
    "def derivative(f, z, eps=0.000001):\n",
    "    return (f(z + eps) - f(z - eps))/(2 * eps)\n",
    "\n",
    "max_z = 4.5\n",
    "z = np.linspace(-max_z, max_z, 200)\n",
    "\n",
    "plt.figure(figsize=(11, 3.1))\n",
    "\n",
    "plt.subplot(121)\n",
    "plt.plot([-max_z, 0], [0, 0], \"r-\", linewidth=2, label=\"Heaviside\")\n",
    "plt.plot(z, relu(z), \"m-.\", linewidth=2, label=\"ReLU\")\n",
    "plt.plot([0, 0], [0, 1], \"r-\", linewidth=0.5)\n",
    "plt.plot([0, max_z], [1, 1], \"r-\", linewidth=2)\n",
    "plt.plot(z, sigmoid(z), \"g--\", linewidth=2, label=\"Sigmoid\")\n",
    "plt.plot(z, np.tanh(z), \"b-\", linewidth=1, label=\"Tanh\")\n",
    "plt.grid(True)\n",
    "plt.title(\"Activation functions\")\n",
    "plt.axis([-max_z, max_z, -1.65, 2.4])\n",
    "plt.gca().set_yticks([-1, 0, 1, 2])\n",
    "plt.legend(loc=\"lower right\", fontsize=13)\n",
    "\n",
    "plt.subplot(122)\n",
    "plt.plot(z, derivative(np.sign, z), \"r-\", linewidth=2, label=\"Heaviside\")\n",
    "plt.plot(0, 0, \"ro\", markersize=5)\n",
    "plt.plot(0, 0, \"rx\", markersize=10)\n",
    "plt.plot(z, derivative(sigmoid, z), \"g--\", linewidth=2, label=\"Sigmoid\")\n",
    "plt.plot(z, derivative(np.tanh, z), \"b-\", linewidth=1, label=\"Tanh\")\n",
    "plt.plot([-max_z, 0], [0, 0], \"m-.\", linewidth=2)\n",
    "plt.plot([0, max_z], [1, 1], \"m-.\", linewidth=2)\n",
    "plt.plot([0, 0], [0, 1], \"m-.\", linewidth=1.2)\n",
    "plt.plot(0, 1, \"mo\", markersize=5)\n",
    "plt.plot(0, 1, \"mx\", markersize=10)\n",
    "plt.grid(True)\n",
    "plt.title(\"Derivatives\")\n",
    "plt.axis([-max_z, max_z, -0.2, 1.2])\n",
    "\n",
    "save_fig(\"activation_functions_plot\")\n",
    "plt.show()"
   ]
  },
  {
   "cell_type": "markdown",
   "metadata": {
    "id": "FA_BnFCX_0IK"
   },
   "source": [
    "## Regression MLPs"
   ]
  },
  {
   "cell_type": "code",
   "execution_count": 11,
   "metadata": {
    "id": "qd5MtWHv_0IL"
   },
   "outputs": [],
   "source": [
    "from sklearn.datasets import fetch_california_housing\n",
    "from sklearn.metrics import mean_squared_error\n",
    "from sklearn.model_selection import train_test_split\n",
    "from sklearn.neural_network import MLPRegressor\n",
    "from sklearn.pipeline import make_pipeline\n",
    "from sklearn.preprocessing import StandardScaler\n",
    "\n",
    "housing = fetch_california_housing()\n",
    "X_train_full, X_test, y_train_full, y_test = train_test_split(\n",
    "    housing.data, housing.target, random_state=42)\n",
    "X_train, X_valid, y_train, y_valid = train_test_split(\n",
    "    X_train_full, y_train_full, random_state=42)\n",
    "\n",
    "mlp_reg = MLPRegressor(hidden_layer_sizes=[50, 50, 50], random_state=42)\n",
    "pipeline = make_pipeline(StandardScaler(), mlp_reg)\n",
    "pipeline.fit(X_train, y_train)\n",
    "y_pred = pipeline.predict(X_valid)\n",
    "rmse = mean_squared_error(y_valid, y_pred, squared=False)"
   ]
  },
  {
   "cell_type": "code",
   "execution_count": 12,
   "metadata": {
    "id": "0kQQueSQ_0IL",
    "outputId": "db045dc1-c076-4554-e29d-79a9945f68d3"
   },
   "outputs": [
    {
     "data": {
      "text/plain": [
       "0.5053326657968978"
      ]
     },
     "execution_count": 12,
     "metadata": {},
     "output_type": "execute_result"
    }
   ],
   "source": [
    "rmse"
   ]
  },
  {
   "cell_type": "markdown",
   "metadata": {
    "id": "vK9fGMXK_0IL"
   },
   "source": [
    "## Classification MLPs"
   ]
  },
  {
   "cell_type": "code",
   "execution_count": 13,
   "metadata": {
    "id": "AEfDhQQQ_0IL",
    "outputId": "0aee78a9-5252-4a83-c6ef-7539be7130e3"
   },
   "outputs": [
    {
     "data": {
      "text/plain": [
       "1.0"
      ]
     },
     "execution_count": 13,
     "metadata": {},
     "output_type": "execute_result"
    }
   ],
   "source": [
    "# extra code – this was left as an exercise for the reader\n",
    "\n",
    "from sklearn.datasets import load_iris\n",
    "from sklearn.model_selection import train_test_split\n",
    "from sklearn.neural_network import MLPClassifier\n",
    "\n",
    "iris = load_iris()\n",
    "X_train_full, X_test, y_train_full, y_test = train_test_split(\n",
    "    iris.data, iris.target, test_size=0.1, random_state=42)\n",
    "X_train, X_valid, y_train, y_valid = train_test_split(\n",
    "    X_train_full, y_train_full, test_size=0.1, random_state=42)\n",
    "\n",
    "mlp_clf = MLPClassifier(hidden_layer_sizes=[5], max_iter=10_000,\n",
    "                        random_state=42)\n",
    "pipeline = make_pipeline(StandardScaler(), mlp_clf)\n",
    "pipeline.fit(X_train, y_train)\n",
    "accuracy = pipeline.score(X_valid, y_valid)\n",
    "accuracy"
   ]
  },
  {
   "cell_type": "markdown",
   "metadata": {
    "id": "-c6ONkFr_0IM"
   },
   "source": [
    "# Implementing MLPs with Keras\n",
    "## Building an Image Classifier Using the Sequential API\n",
    "### Using Keras to load the dataset"
   ]
  },
  {
   "cell_type": "markdown",
   "metadata": {
    "id": "1fe8qMIG_0IM"
   },
   "source": [
    "Let's start by loading the fashion MNIST dataset. Keras has a number of functions to load popular datasets in `tf.keras.datasets`. The dataset is already split for you between a training set (60,000 images) and a test set (10,000 images), but it can be useful to split the training set further to have a validation set. We'll use 55,000 images for training, and 5,000 for validation."
   ]
  },
  {
   "cell_type": "code",
   "execution_count": 14,
   "metadata": {
    "id": "Ak6DTtyK_0IM"
   },
   "outputs": [],
   "source": [
    "import tensorflow as tf\n",
    "\n",
    "fashion_mnist = tf.keras.datasets.fashion_mnist.load_data()\n",
    "(X_train_full, y_train_full), (X_test, y_test) = fashion_mnist\n",
    "X_train, y_train = X_train_full[:-5000], y_train_full[:-5000]\n",
    "X_valid, y_valid = X_train_full[-5000:], y_train_full[-5000:]"
   ]
  },
  {
   "cell_type": "markdown",
   "metadata": {
    "id": "ABMic11X_0IM"
   },
   "source": [
    "The training set contains 60,000 grayscale images, each 28x28 pixels:"
   ]
  },
  {
   "cell_type": "code",
   "execution_count": 15,
   "metadata": {
    "id": "nhrhjMFT_0IN",
    "outputId": "ea433e80-a789-46fe-c871-6f5079cccad4"
   },
   "outputs": [
    {
     "data": {
      "text/plain": [
       "(55000, 28, 28)"
      ]
     },
     "execution_count": 15,
     "metadata": {},
     "output_type": "execute_result"
    }
   ],
   "source": [
    "X_train.shape"
   ]
  },
  {
   "cell_type": "markdown",
   "metadata": {
    "id": "SrhrduCS_0IO"
   },
   "source": [
    "Each pixel intensity is represented as a byte (0 to 255):"
   ]
  },
  {
   "cell_type": "code",
   "execution_count": 16,
   "metadata": {
    "id": "qOAu9e0k_0IO",
    "outputId": "6ce9eeef-e8cc-48c6-c475-771c30f249bb"
   },
   "outputs": [
    {
     "data": {
      "text/plain": [
       "dtype('uint8')"
      ]
     },
     "execution_count": 16,
     "metadata": {},
     "output_type": "execute_result"
    }
   ],
   "source": [
    "X_train.dtype"
   ]
  },
  {
   "cell_type": "markdown",
   "metadata": {
    "id": "qChzB2id_0IO"
   },
   "source": [
    "Let's scale the pixel intensities down to the 0-1 range and convert them to floats, by dividing by 255:"
   ]
  },
  {
   "cell_type": "code",
   "execution_count": 17,
   "metadata": {
    "id": "TcQ8tS9B_0IP"
   },
   "outputs": [],
   "source": [
    "X_train, X_valid, X_test = X_train / 255., X_valid / 255., X_test / 255."
   ]
  },
  {
   "cell_type": "markdown",
   "metadata": {
    "id": "oORSc95N_0IP"
   },
   "source": [
    "You can plot an image using Matplotlib's `imshow()` function, with a `'binary'`\n",
    " color map:"
   ]
  },
  {
   "cell_type": "code",
   "execution_count": 18,
   "metadata": {
    "id": "hwt0CbUr_0IP",
    "outputId": "3f86dacf-aa59-4dac-eeec-5bc0a44d1ca1"
   },
   "outputs": [
    {
     "data": {
      "image/png": "[encoded data removed]",
      "text/plain": [
       "<Figure size 640x480 with 1 Axes>"
      ]
     },
     "metadata": {},
     "output_type": "display_data"
    }
   ],
   "source": [
    "# extra code\n",
    "\n",
    "plt.imshow(X_train[0], cmap=\"binary\")\n",
    "plt.axis('off')\n",
    "plt.show()"
   ]
  },
  {
   "cell_type": "markdown",
   "metadata": {
    "id": "xrONcb0A_0IP"
   },
   "source": [
    "The labels are the class IDs (represented as uint8), from 0 to 9:"
   ]
  },
  {
   "cell_type": "code",
   "execution_count": 19,
   "metadata": {
    "id": "-Y6pc01__0IQ",
    "outputId": "03749d64-0561-472b-fc7b-0d587dc660a9"
   },
   "outputs": [
    {
     "data": {
      "text/plain": [
       "array([9, 0, 0, ..., 9, 0, 2], dtype=uint8)"
      ]
     },
     "execution_count": 19,
     "metadata": {},
     "output_type": "execute_result"
    }
   ],
   "source": [
    "y_train"
   ]
  },
  {
   "cell_type": "markdown",
   "metadata": {
    "id": "aSqv1Iz0_0IQ"
   },
   "source": [
    "Here are the corresponding class names:"
   ]
  },
  {
   "cell_type": "code",
   "execution_count": 20,
   "metadata": {
    "id": "s2P9_y8m_0IQ"
   },
   "outputs": [],
   "source": [
    "class_names = [\"T-shirt/top\", \"Trouser\", \"Pullover\", \"Dress\", \"Coat\",\n",
    "               \"Sandal\", \"Shirt\", \"Sneaker\", \"Bag\", \"Ankle boot\"]"
   ]
  },
  {
   "cell_type": "markdown",
   "metadata": {
    "id": "QkbSnFSz_0IQ"
   },
   "source": [
    "So the first image in the training set is an ankle boot:"
   ]
  },
  {
   "cell_type": "code",
   "execution_count": 21,
   "metadata": {
    "id": "HLw6XQp3_0IR",
    "outputId": "c304211c-e4a8-4b46-c062-5835a583f1f8"
   },
   "outputs": [
    {
     "data": {
      "text/plain": [
       "'Ankle boot'"
      ]
     },
     "execution_count": 21,
     "metadata": {},
     "output_type": "execute_result"
    }
   ],
   "source": [
    "class_names[y_train[0]]"
   ]
  },
  {
   "cell_type": "markdown",
   "metadata": {
    "id": "eyDIuZ3Y_0IR"
   },
   "source": [
    "Let's take a look at a sample of the images in the dataset:"
   ]
  },
  {
   "cell_type": "code",
   "execution_count": 22,
   "metadata": {
    "id": "d6PdZrGs_0IR",
    "outputId": "2213fe76-f767-4f0c-a00b-d40d4718a4e4"
   },
   "outputs": [
    {
     "data": {
      "image/png": "[encoded data removed]",
      "text/plain": [
       "<Figure size 1200x480 with 40 Axes>"
      ]
     },
     "metadata": {},
     "output_type": "display_data"
    }
   ],
   "source": [
    "# extra code – this cell generates and saves Figure 10–10\n",
    "\n",
    "n_rows = 4\n",
    "n_cols = 10\n",
    "plt.figure(figsize=(n_cols * 1.2, n_rows * 1.2))\n",
    "for row in range(n_rows):\n",
    "    for col in range(n_cols):\n",
    "        index = n_cols * row + col\n",
    "        plt.subplot(n_rows, n_cols, index + 1)\n",
    "        plt.imshow(X_train[index], cmap=\"binary\", interpolation=\"nearest\")\n",
    "        plt.axis('off')\n",
    "        plt.title(class_names[y_train[index]])\n",
    "plt.subplots_adjust(wspace=0.2, hspace=0.5)\n",
    "\n",
    "save_fig(\"fashion_mnist_plot\")\n",
    "plt.show()"
   ]
  },
  {
   "cell_type": "markdown",
   "metadata": {
    "id": "tg_wv07J_0IR"
   },
   "source": [
    "### Creating the model using the Sequential API"
   ]
  },
  {
   "cell_type": "code",
   "execution_count": 23,
   "metadata": {
    "id": "eraL7CcW_0IS"
   },
   "outputs": [
    {
     "name": "stdout",
     "output_type": "stream",
     "text": [
      "WARNING:tensorflow:From C:\\Users\\pat\\anaconda3\\Lib\\site-packages\\keras\\src\\backend.py:873: The name tf.get_default_graph is deprecated. Please use tf.compat.v1.get_default_graph instead.\n",
      "\n"
     ]
    }
   ],
   "source": [
    "tf.random.set_seed(42)\n",
    "model = tf.keras.Sequential()\n",
    "model.add(tf.keras.layers.InputLayer(input_shape=[28, 28]))\n",
    "model.add(tf.keras.layers.Flatten())\n",
    "model.add(tf.keras.layers.Dense(300, activation=\"relu\"))\n",
    "model.add(tf.keras.layers.Dense(100, activation=\"relu\"))\n",
    "model.add(tf.keras.layers.Dense(10, activation=\"softmax\"))"
   ]
  },
  {
   "cell_type": "code",
   "execution_count": 24,
   "metadata": {
    "id": "wPOErLG2_0IS"
   },
   "outputs": [],
   "source": [
    "# extra code – clear the session to reset the name counters\n",
    "tf.keras.backend.clear_session()\n",
    "tf.random.set_seed(42)\n",
    "\n",
    "model = tf.keras.Sequential([\n",
    "    tf.keras.layers.Flatten(input_shape=[28, 28]),\n",
    "    tf.keras.layers.Dense(300, activation=\"relu\"),\n",
    "    tf.keras.layers.Dense(100, activation=\"relu\"),\n",
    "    tf.keras.layers.Dense(10, activation=\"softmax\")\n",
    "])"
   ]
  },
  {
   "cell_type": "code",
   "execution_count": 25,
   "metadata": {
    "id": "m5N5Hh4j_0IS",
    "outputId": "10b292e5-8065-434a-a29d-fb934994addf"
   },
   "outputs": [
    {
     "name": "stdout",
     "output_type": "stream",
     "text": [
      "Model: \"sequential\"\n",
      "_________________________________________________________________\n",
      " Layer (type)                Output Shape              Param #   \n",
      "=================================================================\n",
      " flatten (Flatten)           (None, 784)               0         \n",
      "                                                                 \n",
      " dense (Dense)               (None, 300)               235500    \n",
      "                                                                 \n",
      " dense_1 (Dense)             (None, 100)               30100     \n",
      "                                                                 \n",
      " dense_2 (Dense)             (None, 10)                1010      \n",
      "                                                                 \n",
      "=================================================================\n",
      "Total params: 266610 (1.02 MB)\n",
      "Trainable params: 266610 (1.02 MB)\n",
      "Non-trainable params: 0 (0.00 Byte)\n",
      "_________________________________________________________________\n"
     ]
    }
   ],
   "source": [
    "model.summary()"
   ]
  },
  {
   "cell_type": "markdown",
   "metadata": {},
   "source": [
    "pre-pydot installation message from below 'tf.keras.utils.plot_model()' call:\n",
    "\n",
    "You must install pydot (`pip install pydot`) and install graphviz (see instructions at https://graphviz.gitlab.io/download/) for plot_model to work.\n",
    "\n",
    "To install:\n",
    "\n",
    "    !pip install pydot\n",
    "\n",
    "    restart kernel (Kernel -> Restart Kernel)\n",
    "\n",
    "In \"06_decision_trees.ipynb', graphviz was installed  using:\n",
    "\n",
    "    conda install anaconda::graphviz"
   ]
  },
  {
   "cell_type": "code",
   "execution_count": 28,
   "metadata": {},
   "outputs": [],
   "source": [
    "#!pip install pydot"
   ]
  },
  {
   "cell_type": "code",
   "execution_count": 29,
   "metadata": {
    "id": "foB0GjGi_0IS",
    "outputId": "2a972fe6-bd5e-4626-f84a-3208044a3de5"
   },
   "outputs": [
    {
     "data": {
      "image/png": "[encoded data removed]",
      "text/plain": [
       "<IPython.core.display.Image object>"
      ]
     },
     "execution_count": 29,
     "metadata": {},
     "output_type": "execute_result"
    }
   ],
   "source": [
    "# extra code – another way to display the model's architecture\n",
    "tf.keras.utils.plot_model(model, \"my_fashion_mnist_model.png\", show_shapes=True)"
   ]
  },
  {
   "cell_type": "code",
   "execution_count": 30,
   "metadata": {
    "id": "fx5lQqLV_0IT",
    "outputId": "d1eceda7-d4e0-429d-f442-4225c225d506"
   },
   "outputs": [
    {
     "data": {
      "text/plain": [
       "[<keras.src.layers.reshaping.flatten.Flatten at 0x147ac8f9190>,\n",
       " <keras.src.layers.core.dense.Dense at 0x1478b80fa10>,\n",
       " <keras.src.layers.core.dense.Dense at 0x147ac3ae590>,\n",
       " <keras.src.layers.core.dense.Dense at 0x147acb9f0d0>]"
      ]
     },
     "execution_count": 30,
     "metadata": {},
     "output_type": "execute_result"
    }
   ],
   "source": [
    "model.layers"
   ]
  },
  {
   "cell_type": "code",
   "execution_count": 31,
   "metadata": {
    "id": "MPzB1ssD_0IT",
    "outputId": "4bd5f678-4721-452a-ba0a-0e0fa70e9075"
   },
   "outputs": [
    {
     "data": {
      "text/plain": [
       "'dense'"
      ]
     },
     "execution_count": 31,
     "metadata": {},
     "output_type": "execute_result"
    }
   ],
   "source": [
    "hidden1 = model.layers[1]\n",
    "hidden1.name"
   ]
  },
  {
   "cell_type": "code",
   "execution_count": 32,
   "metadata": {
    "id": "VUmW3nuA_0IT",
    "outputId": "3ca31316-40a3-4862-c524-968137ad998e"
   },
   "outputs": [
    {
     "data": {
      "text/plain": [
       "True"
      ]
     },
     "execution_count": 32,
     "metadata": {},
     "output_type": "execute_result"
    }
   ],
   "source": [
    "model.get_layer('dense') is hidden1"
   ]
  },
  {
   "cell_type": "code",
   "execution_count": 33,
   "metadata": {
    "id": "ysa1Drj1_0IT",
    "outputId": "2d7e8e2e-05f9-4510-aa73-dbaf68d7ae7d"
   },
   "outputs": [
    {
     "data": {
      "text/plain": [
       "array([[ 0.03757928,  0.02107584, -0.01858232, ...,  0.04213539,\n",
       "        -0.0495776 ,  0.0248063 ],\n",
       "       [ 0.02626212,  0.04638601,  0.02014539, ...,  0.01310377,\n",
       "        -0.03402273, -0.02532088],\n",
       "       [ 0.03532417,  0.01453076, -0.0204262 , ..., -0.01704941,\n",
       "        -0.05597114,  0.00986718],\n",
       "       ...,\n",
       "       [ 0.04147313, -0.05664548, -0.01236517, ..., -0.06275412,\n",
       "         0.06075461,  0.05824666],\n",
       "       [ 0.019145  , -0.00664009,  0.07298112, ..., -0.01982599,\n",
       "         0.00149427, -0.05780942],\n",
       "       [ 0.01826669,  0.02425359,  0.05249119, ..., -0.03586947,\n",
       "         0.06592739, -0.053252  ]], dtype=float32)"
      ]
     },
     "execution_count": 33,
     "metadata": {},
     "output_type": "execute_result"
    }
   ],
   "source": [
    "weights, biases = hidden1.get_weights()\n",
    "weights"
   ]
  },
  {
   "cell_type": "code",
   "execution_count": 34,
   "metadata": {
    "id": "OMPXI5uJ_0IU",
    "outputId": "3752ccc4-45ea-4012-ea6a-cb63706a336e"
   },
   "outputs": [
    {
     "data": {
      "text/plain": [
       "(784, 300)"
      ]
     },
     "execution_count": 34,
     "metadata": {},
     "output_type": "execute_result"
    }
   ],
   "source": [
    "weights.shape"
   ]
  },
  {
   "cell_type": "code",
   "execution_count": 35,
   "metadata": {
    "id": "7eT_krvX_0IU",
    "outputId": "02013332-dde4-4c5d-c46b-cc33497fa363"
   },
   "outputs": [
    {
     "data": {
      "text/plain": [
       "array([0., 0., 0., 0., 0., 0., 0., 0., 0., 0., 0., 0., 0., 0., 0., 0., 0.,\n",
       "       0., 0., 0., 0., 0., 0., 0., 0., 0., 0., 0., 0., 0., 0., 0., 0., 0.,\n",
       "       0., 0., 0., 0., 0., 0., 0., 0., 0., 0., 0., 0., 0., 0., 0., 0., 0.,\n",
       "       0., 0., 0., 0., 0., 0., 0., 0., 0., 0., 0., 0., 0., 0., 0., 0., 0.,\n",
       "       0., 0., 0., 0., 0., 0., 0., 0., 0., 0., 0., 0., 0., 0., 0., 0., 0.,\n",
       "       0., 0., 0., 0., 0., 0., 0., 0., 0., 0., 0., 0., 0., 0., 0., 0., 0.,\n",
       "       0., 0., 0., 0., 0., 0., 0., 0., 0., 0., 0., 0., 0., 0., 0., 0., 0.,\n",
       "       0., 0., 0., 0., 0., 0., 0., 0., 0., 0., 0., 0., 0., 0., 0., 0., 0.,\n",
       "       0., 0., 0., 0., 0., 0., 0., 0., 0., 0., 0., 0., 0., 0., 0., 0., 0.,\n",
       "       0., 0., 0., 0., 0., 0., 0., 0., 0., 0., 0., 0., 0., 0., 0., 0., 0.,\n",
       "       0., 0., 0., 0., 0., 0., 0., 0., 0., 0., 0., 0., 0., 0., 0., 0., 0.,\n",
       "       0., 0., 0., 0., 0., 0., 0., 0., 0., 0., 0., 0., 0., 0., 0., 0., 0.,\n",
       "       0., 0., 0., 0., 0., 0., 0., 0., 0., 0., 0., 0., 0., 0., 0., 0., 0.,\n",
       "       0., 0., 0., 0., 0., 0., 0., 0., 0., 0., 0., 0., 0., 0., 0., 0., 0.,\n",
       "       0., 0., 0., 0., 0., 0., 0., 0., 0., 0., 0., 0., 0., 0., 0., 0., 0.,\n",
       "       0., 0., 0., 0., 0., 0., 0., 0., 0., 0., 0., 0., 0., 0., 0., 0., 0.,\n",
       "       0., 0., 0., 0., 0., 0., 0., 0., 0., 0., 0., 0., 0., 0., 0., 0., 0.,\n",
       "       0., 0., 0., 0., 0., 0., 0., 0., 0., 0., 0.], dtype=float32)"
      ]
     },
     "execution_count": 35,
     "metadata": {},
     "output_type": "execute_result"
    }
   ],
   "source": [
    "biases"
   ]
  },
  {
   "cell_type": "code",
   "execution_count": 36,
   "metadata": {
    "id": "jLyyIwKW_0IU",
    "outputId": "f3bbdf3a-f756-4ff3-daf3-47b3d43185da"
   },
   "outputs": [
    {
     "data": {
      "text/plain": [
       "(300,)"
      ]
     },
     "execution_count": 36,
     "metadata": {},
     "output_type": "execute_result"
    }
   ],
   "source": [
    "biases.shape"
   ]
  },
  {
   "cell_type": "markdown",
   "metadata": {
    "id": "synJvDWW_0IU"
   },
   "source": [
    "### Compiling the model"
   ]
  },
  {
   "cell_type": "code",
   "execution_count": 37,
   "metadata": {
    "id": "zwDXBgNT_0IV"
   },
   "outputs": [
    {
     "name": "stdout",
     "output_type": "stream",
     "text": [
      "WARNING:tensorflow:From C:\\Users\\pat\\anaconda3\\Lib\\site-packages\\keras\\src\\optimizers\\__init__.py:309: The name tf.train.Optimizer is deprecated. Please use tf.compat.v1.train.Optimizer instead.\n",
      "\n"
     ]
    }
   ],
   "source": [
    "model.compile(loss=\"sparse_categorical_crossentropy\",\n",
    "              optimizer=\"sgd\",\n",
    "              metrics=[\"accuracy\"])"
   ]
  },
  {
   "cell_type": "markdown",
   "metadata": {
    "id": "Usoh3mX5_0IV"
   },
   "source": [
    "This is equivalent to:"
   ]
  },
  {
   "cell_type": "code",
   "execution_count": 40,
   "metadata": {
    "id": "wP6diLcP_0IV"
   },
   "outputs": [],
   "source": [
    "# extra code – this cell is equivalent to the previous cell\n",
    "model.compile(loss=tf.keras.losses.sparse_categorical_crossentropy,\n",
    "              optimizer=tf.keras.optimizers.SGD(),\n",
    "              metrics=[tf.keras.metrics.sparse_categorical_accuracy])"
   ]
  },
  {
   "cell_type": "code",
   "execution_count": 41,
   "metadata": {
    "id": "SBNWoYot_0IV",
    "outputId": "16f2e84c-ac3d-4085-8feb-c647e4313659"
   },
   "outputs": [
    {
     "data": {
      "text/plain": [
       "array([[1., 0., 0., 0., 0., 0., 0., 0., 0., 0.],\n",
       "       [0., 0., 0., 0., 0., 1., 0., 0., 0., 0.],\n",
       "       [0., 1., 0., 0., 0., 0., 0., 0., 0., 0.],\n",
       "       [1., 0., 0., 0., 0., 0., 0., 0., 0., 0.]], dtype=float32)"
      ]
     },
     "execution_count": 41,
     "metadata": {},
     "output_type": "execute_result"
    }
   ],
   "source": [
    "# extra code – shows how to convert class ids to one-hot vectors\n",
    "tf.keras.utils.to_categorical([0, 5, 1, 0], num_classes=10)"
   ]
  },
  {
   "cell_type": "markdown",
   "metadata": {
    "id": "yWgTbCGG_0IW"
   },
   "source": [
    "Note: it's important to set `num_classes` when the number of classes is greater than the maximum class id in the sample."
   ]
  },
  {
   "cell_type": "code",
   "execution_count": 42,
   "metadata": {
    "id": "18C8A8Wr_0IW",
    "outputId": "46232c04-6baa-4e67-a3bc-d718abf20839"
   },
   "outputs": [
    {
     "data": {
      "text/plain": [
       "array([0, 5, 1, 0], dtype=int64)"
      ]
     },
     "execution_count": 42,
     "metadata": {},
     "output_type": "execute_result"
    }
   ],
   "source": [
    "# extra code – shows how to convert one-hot vectors to class ids\n",
    "np.argmax(\n",
    "    [[1., 0., 0., 0., 0., 0., 0., 0., 0., 0.],\n",
    "     [0., 0., 0., 0., 0., 1., 0., 0., 0., 0.],\n",
    "     [0., 1., 0., 0., 0., 0., 0., 0., 0., 0.],\n",
    "     [1., 0., 0., 0., 0., 0., 0., 0., 0., 0.]],\n",
    "    axis=1\n",
    ")"
   ]
  },
  {
   "cell_type": "markdown",
   "metadata": {
    "id": "YNgrCou1_0IX"
   },
   "source": [
    "### Training and evaluating the model"
   ]
  },
  {
   "cell_type": "code",
   "execution_count": 43,
   "metadata": {
    "id": "obRlTOWw_0IX",
    "outputId": "d7cd3c9f-062a-4a3b-cc50-28a1ba05567b"
   },
   "outputs": [
    {
     "name": "stdout",
     "output_type": "stream",
     "text": [
      "Epoch 1/30\n",
      "WARNING:tensorflow:From C:\\Users\\pat\\anaconda3\\Lib\\site-packages\\keras\\src\\utils\\tf_utils.py:492: The name tf.ragged.RaggedTensorValue is deprecated. Please use tf.compat.v1.ragged.RaggedTensorValue instead.\n",
      "\n",
      "WARNING:tensorflow:From C:\\Users\\pat\\anaconda3\\Lib\\site-packages\\keras\\src\\engine\\base_layer_utils.py:384: The name tf.executing_eagerly_outside_functions is deprecated. Please use tf.compat.v1.executing_eagerly_outside_functions instead.\n",
      "\n",
      "1719/1719 [==============================] - 6s 3ms/step - loss: 0.7047 - sparse_categorical_accuracy: 0.7705 - val_loss: 0.5050 - val_sparse_categorical_accuracy: 0.8302\n",
      "Epoch 2/30\n",
      "1719/1719 [==============================] - 5s 3ms/step - loss: 0.4885 - sparse_categorical_accuracy: 0.8297 - val_loss: 0.4639 - val_sparse_categorical_accuracy: 0.8322\n",
      "Epoch 3/30\n",
      "1719/1719 [==============================] - 5s 3ms/step - loss: 0.4433 - sparse_categorical_accuracy: 0.8449 - val_loss: 0.4246 - val_sparse_categorical_accuracy: 0.8506\n",
      "Epoch 4/30\n",
      "1719/1719 [==============================] - 5s 3ms/step - loss: 0.4184 - sparse_categorical_accuracy: 0.8541 - val_loss: 0.4004 - val_sparse_categorical_accuracy: 0.8582\n",
      "Epoch 5/30\n",
      "1719/1719 [==============================] - 5s 3ms/step - loss: 0.3971 - sparse_categorical_accuracy: 0.8599 - val_loss: 0.3960 - val_sparse_categorical_accuracy: 0.8570\n",
      "Epoch 6/30\n",
      "1719/1719 [==============================] - 5s 3ms/step - loss: 0.3801 - sparse_categorical_accuracy: 0.8660 - val_loss: 0.3997 - val_sparse_categorical_accuracy: 0.8598\n",
      "Epoch 7/30\n",
      "1719/1719 [==============================] - 5s 3ms/step - loss: 0.3670 - sparse_categorical_accuracy: 0.8697 - val_loss: 0.3736 - val_sparse_categorical_accuracy: 0.8680\n",
      "Epoch 8/30\n",
      "1719/1719 [==============================] - 5s 3ms/step - loss: 0.3549 - sparse_categorical_accuracy: 0.8741 - val_loss: 0.3758 - val_sparse_categorical_accuracy: 0.8604\n",
      "Epoch 9/30\n",
      "1719/1719 [==============================] - 5s 3ms/step - loss: 0.3443 - sparse_categorical_accuracy: 0.8772 - val_loss: 0.3504 - val_sparse_categorical_accuracy: 0.8750\n",
      "Epoch 10/30\n",
      "1719/1719 [==============================] - 5s 3ms/step - loss: 0.3338 - sparse_categorical_accuracy: 0.8804 - val_loss: 0.3536 - val_sparse_categorical_accuracy: 0.8710\n",
      "Epoch 11/30\n",
      "1719/1719 [==============================] - 5s 3ms/step - loss: 0.3250 - sparse_categorical_accuracy: 0.8825 - val_loss: 0.3683 - val_sparse_categorical_accuracy: 0.8660\n",
      "Epoch 12/30\n",
      "1719/1719 [==============================] - 5s 3ms/step - loss: 0.3169 - sparse_categorical_accuracy: 0.8858 - val_loss: 0.3493 - val_sparse_categorical_accuracy: 0.8730\n",
      "Epoch 13/30\n",
      "1719/1719 [==============================] - 5s 3ms/step - loss: 0.3098 - sparse_categorical_accuracy: 0.8893 - val_loss: 0.3308 - val_sparse_categorical_accuracy: 0.8772\n",
      "Epoch 14/30\n",
      "1719/1719 [==============================] - 5s 3ms/step - loss: 0.3026 - sparse_categorical_accuracy: 0.8910 - val_loss: 0.3377 - val_sparse_categorical_accuracy: 0.8774\n",
      "Epoch 15/30\n",
      "1719/1719 [==============================] - 5s 3ms/step - loss: 0.2966 - sparse_categorical_accuracy: 0.8942 - val_loss: 0.3398 - val_sparse_categorical_accuracy: 0.8792\n",
      "Epoch 16/30\n",
      "1719/1719 [==============================] - 5s 3ms/step - loss: 0.2897 - sparse_categorical_accuracy: 0.8953 - val_loss: 0.3326 - val_sparse_categorical_accuracy: 0.8760\n",
      "Epoch 17/30\n",
      "1719/1719 [==============================] - 5s 3ms/step - loss: 0.2846 - sparse_categorical_accuracy: 0.8973 - val_loss: 0.3266 - val_sparse_categorical_accuracy: 0.8770\n",
      "Epoch 18/30\n",
      "1719/1719 [==============================] - 5s 3ms/step - loss: 0.2784 - sparse_categorical_accuracy: 0.8991 - val_loss: 0.3287 - val_sparse_categorical_accuracy: 0.8794\n",
      "Epoch 19/30\n",
      "1719/1719 [==============================] - 5s 3ms/step - loss: 0.2735 - sparse_categorical_accuracy: 0.9007 - val_loss: 0.3546 - val_sparse_categorical_accuracy: 0.8658\n",
      "Epoch 20/30\n",
      "1719/1719 [==============================] - 5s 3ms/step - loss: 0.2687 - sparse_categorical_accuracy: 0.9032 - val_loss: 0.3212 - val_sparse_categorical_accuracy: 0.8806\n",
      "Epoch 21/30\n",
      "1719/1719 [==============================] - 5s 3ms/step - loss: 0.2637 - sparse_categorical_accuracy: 0.9041 - val_loss: 0.3155 - val_sparse_categorical_accuracy: 0.8832\n",
      "Epoch 22/30\n",
      "1719/1719 [==============================] - 5s 3ms/step - loss: 0.2590 - sparse_categorical_accuracy: 0.9060 - val_loss: 0.3185 - val_sparse_categorical_accuracy: 0.8812\n",
      "Epoch 23/30\n",
      "1719/1719 [==============================] - 5s 3ms/step - loss: 0.2547 - sparse_categorical_accuracy: 0.9068 - val_loss: 0.3507 - val_sparse_categorical_accuracy: 0.8710\n",
      "Epoch 24/30\n",
      "1719/1719 [==============================] - 5s 3ms/step - loss: 0.2500 - sparse_categorical_accuracy: 0.9100 - val_loss: 0.3179 - val_sparse_categorical_accuracy: 0.8792\n",
      "Epoch 25/30\n",
      "1719/1719 [==============================] - 5s 3ms/step - loss: 0.2454 - sparse_categorical_accuracy: 0.9111 - val_loss: 0.3164 - val_sparse_categorical_accuracy: 0.8824\n",
      "Epoch 26/30\n",
      "1719/1719 [==============================] - 5s 3ms/step - loss: 0.2424 - sparse_categorical_accuracy: 0.9126 - val_loss: 0.3101 - val_sparse_categorical_accuracy: 0.8838\n",
      "Epoch 27/30\n",
      "1719/1719 [==============================] - 5s 3ms/step - loss: 0.2373 - sparse_categorical_accuracy: 0.9127 - val_loss: 0.3184 - val_sparse_categorical_accuracy: 0.8838\n",
      "Epoch 28/30\n",
      "1719/1719 [==============================] - 5s 3ms/step - loss: 0.2340 - sparse_categorical_accuracy: 0.9159 - val_loss: 0.3110 - val_sparse_categorical_accuracy: 0.8852\n",
      "Epoch 29/30\n",
      "1719/1719 [==============================] - 5s 3ms/step - loss: 0.2301 - sparse_categorical_accuracy: 0.9171 - val_loss: 0.3205 - val_sparse_categorical_accuracy: 0.8816\n",
      "Epoch 30/30\n",
      "1719/1719 [==============================] - 5s 3ms/step - loss: 0.2272 - sparse_categorical_accuracy: 0.9175 - val_loss: 0.3088 - val_sparse_categorical_accuracy: 0.8836\n"
     ]
    }
   ],
   "source": [
    "history = model.fit(X_train, y_train, epochs=30,\n",
    "                    validation_data=(X_valid, y_valid))"
   ]
  },
  {
   "cell_type": "code",
   "execution_count": 44,
   "metadata": {
    "id": "H2ECCUHV_0IX",
    "outputId": "dfaa343c-83ef-4539-f740-d731e458e0b1"
   },
   "outputs": [
    {
     "data": {
      "text/plain": [
       "{'verbose': 1, 'epochs': 30, 'steps': 1719}"
      ]
     },
     "execution_count": 44,
     "metadata": {},
     "output_type": "execute_result"
    }
   ],
   "source": [
    "history.params"
   ]
  },
  {
   "cell_type": "code",
   "execution_count": 45,
   "metadata": {
    "id": "ZSrieUKP_0IX",
    "outputId": "00ba3dd2-7e9f-4258-a709-6d39ef2f4081"
   },
   "outputs": [
    {
     "name": "stdout",
     "output_type": "stream",
     "text": [
      "[0, 1, 2, 3, 4, 5, 6, 7, 8, 9, 10, 11, 12, 13, 14, 15, 16, 17, 18, 19, 20, 21, 22, 23, 24, 25, 26, 27, 28, 29]\n"
     ]
    }
   ],
   "source": [
    "print(history.epoch)"
   ]
  },
  {
   "cell_type": "code",
   "execution_count": null,
   "metadata": {},
   "outputs": [],
   "source": []
  },
  {
   "cell_type": "code",
   "execution_count": 46,
   "metadata": {
    "id": "MNt2Wk8z_0IY",
    "outputId": "e9713b12-3282-44b3-c614-1c1d38ba408b"
   },
   "outputs": [
    {
     "data": {
      "image/png": "[encoded data removed]",
      "text/plain": [
       "<Figure size 800x500 with 1 Axes>"
      ]
     },
     "metadata": {},
     "output_type": "display_data"
    }
   ],
   "source": [
    "import matplotlib.pyplot as plt\n",
    "import pandas as pd\n",
    "\n",
    "pd.DataFrame(history.history).plot(\n",
    "    figsize=(8, 5), xlim=[0, 29], ylim=[0, 1], grid=True, xlabel=\"Epoch\",\n",
    "    style=[\"r--\", \"r--.\", \"b-\", \"b-*\"])\n",
    "plt.legend(loc=\"lower left\")  # extra code\n",
    "save_fig(\"keras_learning_curves_plot\")  # extra code\n",
    "plt.show()"
   ]
  },
  {
   "cell_type": "code",
   "execution_count": 48,
   "metadata": {
    "id": "tlnZM7an_0IY",
    "outputId": "37c3a850-ba52-4329-9ea9-4e7bee750107"
   },
   "outputs": [
    {
     "data": {
      "image/png": "[encoded data removed]",
      "text/plain": [
       "<Figure size 800x500 with 1 Axes>"
      ]
     },
     "metadata": {},
     "output_type": "display_data"
    }
   ],
   "source": [
    "# extra code – shows how to shift the training curve by -1/2 epoch\n",
    "plt.figure(figsize=(8, 5))\n",
    "for key, style in zip(history.history, [\"r--\", \"r--.\", \"b-\", \"b-*\"]):\n",
    "    epochs = np.array(history.epoch) + (0 if key.startswith(\"val_\") else -0.5)\n",
    "    plt.plot(epochs, history.history[key], style, label=key)\n",
    "plt.xlabel(\"Epoch\")\n",
    "plt.axis([-0.5, 29, 0., 1])\n",
    "plt.legend(loc=\"lower left\")\n",
    "plt.grid()\n",
    "plt.show()"
   ]
  },
  {
   "cell_type": "code",
   "execution_count": 49,
   "metadata": {
    "id": "9-sPUpKe_0IY",
    "outputId": "1ff41e7c-2450-4071-830d-2a8d66fba342"
   },
   "outputs": [
    {
     "name": "stdout",
     "output_type": "stream",
     "text": [
      "313/313 [==============================] - 1s 3ms/step - loss: 0.3247 - sparse_categorical_accuracy: 0.8864\n"
     ]
    },
    {
     "data": {
      "text/plain": [
       "[0.3247327506542206, 0.8863999843597412]"
      ]
     },
     "execution_count": 49,
     "metadata": {},
     "output_type": "execute_result"
    }
   ],
   "source": [
    "model.evaluate(X_test, y_test)"
   ]
  },
  {
   "cell_type": "markdown",
   "metadata": {
    "id": "Q-oahHrX_0IY"
   },
   "source": [
    "### Using the model to make predictions"
   ]
  },
  {
   "cell_type": "code",
   "execution_count": 52,
   "metadata": {
    "id": "m4AmSCoq_0IZ",
    "outputId": "09fe91fd-919f-472a-e517-51052f7c86ce"
   },
   "outputs": [
    {
     "name": "stdout",
     "output_type": "stream",
     "text": [
      "1/1 [==============================] - 0s 117ms/step\n"
     ]
    },
    {
     "data": {
      "text/plain": [
       "array([[0.  , 0.  , 0.  , 0.  , 0.  , 0.  , 0.  , 0.01, 0.  , 0.99],\n",
       "       [0.  , 0.  , 0.99, 0.  , 0.  , 0.  , 0.  , 0.  , 0.  , 0.  ],\n",
       "       [0.  , 1.  , 0.  , 0.  , 0.  , 0.  , 0.  , 0.  , 0.  , 0.  ]],\n",
       "      dtype=float32)"
      ]
     },
     "execution_count": 52,
     "metadata": {},
     "output_type": "execute_result"
    }
   ],
   "source": [
    "X_new = X_test[:3]\n",
    "y_proba = model.predict(X_new)\n",
    "y_proba.round(2)"
   ]
  },
  {
   "cell_type": "code",
   "execution_count": 53,
   "metadata": {
    "id": "z0p4OUoL_0IZ",
    "outputId": "c48c6fac-da86-453a-b60a-a7bf2ecc4fc5"
   },
   "outputs": [
    {
     "data": {
      "text/plain": [
       "array([9, 2, 1], dtype=int64)"
      ]
     },
     "execution_count": 53,
     "metadata": {},
     "output_type": "execute_result"
    }
   ],
   "source": [
    "y_pred = y_proba.argmax(axis=-1)\n",
    "y_pred"
   ]
  },
  {
   "cell_type": "code",
   "execution_count": 54,
   "metadata": {
    "id": "saOC3Pj1_0IZ",
    "outputId": "5c019356-92e2-46e8-eef5-c3abb9ba0fa5"
   },
   "outputs": [
    {
     "data": {
      "text/plain": [
       "array(['Ankle boot', 'Pullover', 'Trouser'], dtype='<U11')"
      ]
     },
     "execution_count": 54,
     "metadata": {},
     "output_type": "execute_result"
    }
   ],
   "source": [
    "np.array(class_names)[y_pred]"
   ]
  },
  {
   "cell_type": "code",
   "execution_count": 55,
   "metadata": {
    "id": "_gvKc7oy_0IZ",
    "outputId": "1e28783f-e59e-4641-8b7b-195750f67346"
   },
   "outputs": [
    {
     "data": {
      "text/plain": [
       "array([9, 2, 1], dtype=uint8)"
      ]
     },
     "execution_count": 55,
     "metadata": {},
     "output_type": "execute_result"
    }
   ],
   "source": [
    "y_new = y_test[:3]\n",
    "y_new"
   ]
  },
  {
   "cell_type": "code",
   "execution_count": 56,
   "metadata": {
    "id": "2flew5_R_0IZ",
    "outputId": "a5e2b823-e103-47dd-d54e-fa0870b7bb9c"
   },
   "outputs": [
    {
     "data": {
      "image/png": "[encoded data removed]",
      "text/plain": [
       "<Figure size 720x240 with 3 Axes>"
      ]
     },
     "metadata": {},
     "output_type": "display_data"
    }
   ],
   "source": [
    "# extra code – this cell generates and saves Figure 10–12\n",
    "plt.figure(figsize=(7.2, 2.4))\n",
    "for index, image in enumerate(X_new):\n",
    "    plt.subplot(1, 3, index + 1)\n",
    "    plt.imshow(image, cmap=\"binary\", interpolation=\"nearest\")\n",
    "    plt.axis('off')\n",
    "    plt.title(class_names[y_test[index]])\n",
    "plt.subplots_adjust(wspace=0.2, hspace=0.5)\n",
    "save_fig('fashion_mnist_images_plot', tight_layout=False)\n",
    "plt.show()"
   ]
  },
  {
   "cell_type": "markdown",
   "metadata": {
    "id": "ESluh34q_0IZ"
   },
   "source": [
    "## Building a Regression MLP Using the Sequential API"
   ]
  },
  {
   "cell_type": "markdown",
   "metadata": {
    "id": "kD0ARFMV_0Ia"
   },
   "source": [
    "Let's load, split and scale the California housing dataset (the original one, not the modified one as in chapter 2):"
   ]
  },
  {
   "cell_type": "code",
   "execution_count": 57,
   "metadata": {
    "id": "t01-HOBX_0Ia"
   },
   "outputs": [],
   "source": [
    "# extra code – load and split the California housing dataset, like earlier\n",
    "housing = fetch_california_housing()\n",
    "X_train_full, X_test, y_train_full, y_test = train_test_split(\n",
    "    housing.data, housing.target, random_state=42)\n",
    "X_train, X_valid, y_train, y_valid = train_test_split(\n",
    "    X_train_full, y_train_full, random_state=42)"
   ]
  },
  {
   "cell_type": "code",
   "execution_count": 58,
   "metadata": {
    "id": "n9RSinYH_0Ia",
    "outputId": "7a3e67b9-76a5-483e-d3a0-aa773f2d48b0"
   },
   "outputs": [
    {
     "name": "stdout",
     "output_type": "stream",
     "text": [
      "Epoch 1/20\n",
      "363/363 [==============================] - 2s 2ms/step - loss: 0.9813 - root_mean_squared_error: 0.9906 - val_loss: 0.3856 - val_root_mean_squared_error: 0.6209\n",
      "Epoch 2/20\n",
      "363/363 [==============================] - 1s 2ms/step - loss: 0.3770 - root_mean_squared_error: 0.6140 - val_loss: 2.0317 - val_root_mean_squared_error: 1.4254\n",
      "Epoch 3/20\n",
      "363/363 [==============================] - 1s 2ms/step - loss: 0.3667 - root_mean_squared_error: 0.6056 - val_loss: 0.3325 - val_root_mean_squared_error: 0.5766\n",
      "Epoch 4/20\n",
      "363/363 [==============================] - 1s 2ms/step - loss: 0.3420 - root_mean_squared_error: 0.5848 - val_loss: 0.7245 - val_root_mean_squared_error: 0.8512\n",
      "Epoch 5/20\n",
      "363/363 [==============================] - 1s 2ms/step - loss: 0.3297 - root_mean_squared_error: 0.5742 - val_loss: 1.7515 - val_root_mean_squared_error: 1.3235\n",
      "Epoch 6/20\n",
      "363/363 [==============================] - 1s 2ms/step - loss: 0.3278 - root_mean_squared_error: 0.5725 - val_loss: 0.3535 - val_root_mean_squared_error: 0.5946\n",
      "Epoch 7/20\n",
      "363/363 [==============================] - 1s 2ms/step - loss: 0.3098 - root_mean_squared_error: 0.5566 - val_loss: 0.4863 - val_root_mean_squared_error: 0.6973\n",
      "Epoch 8/20\n",
      "363/363 [==============================] - 1s 2ms/step - loss: 0.3023 - root_mean_squared_error: 0.5498 - val_loss: 0.8632 - val_root_mean_squared_error: 0.9291\n",
      "Epoch 9/20\n",
      "363/363 [==============================] - 1s 2ms/step - loss: 0.2972 - root_mean_squared_error: 0.5452 - val_loss: 2.3059 - val_root_mean_squared_error: 1.5185\n",
      "Epoch 10/20\n",
      "363/363 [==============================] - 1s 2ms/step - loss: 0.3069 - root_mean_squared_error: 0.5540 - val_loss: 0.2953 - val_root_mean_squared_error: 0.5434\n",
      "Epoch 11/20\n",
      "363/363 [==============================] - 1s 2ms/step - loss: 0.2846 - root_mean_squared_error: 0.5335 - val_loss: 0.2820 - val_root_mean_squared_error: 0.5310\n",
      "Epoch 12/20\n",
      "363/363 [==============================] - 1s 2ms/step - loss: 0.2894 - root_mean_squared_error: 0.5379 - val_loss: 1.3836 - val_root_mean_squared_error: 1.1763\n",
      "Epoch 13/20\n",
      "363/363 [==============================] - 1s 2ms/step - loss: 0.2884 - root_mean_squared_error: 0.5371 - val_loss: 0.3251 - val_root_mean_squared_error: 0.5702\n",
      "Epoch 14/20\n",
      "363/363 [==============================] - 1s 2ms/step - loss: 0.2801 - root_mean_squared_error: 0.5292 - val_loss: 0.5318 - val_root_mean_squared_error: 0.7292\n",
      "Epoch 15/20\n",
      "363/363 [==============================] - 1s 2ms/step - loss: 0.2798 - root_mean_squared_error: 0.5290 - val_loss: 0.2756 - val_root_mean_squared_error: 0.5250\n",
      "Epoch 16/20\n",
      "363/363 [==============================] - 1s 2ms/step - loss: 0.2750 - root_mean_squared_error: 0.5244 - val_loss: 0.3314 - val_root_mean_squared_error: 0.5757\n",
      "Epoch 17/20\n",
      "363/363 [==============================] - 1s 2ms/step - loss: 0.2728 - root_mean_squared_error: 0.5223 - val_loss: 0.3057 - val_root_mean_squared_error: 0.5529\n",
      "Epoch 18/20\n",
      "363/363 [==============================] - 1s 2ms/step - loss: 0.2668 - root_mean_squared_error: 0.5166 - val_loss: 0.3109 - val_root_mean_squared_error: 0.5576\n",
      "Epoch 19/20\n",
      "363/363 [==============================] - 1s 2ms/step - loss: 0.2639 - root_mean_squared_error: 0.5137 - val_loss: 0.2706 - val_root_mean_squared_error: 0.5202\n",
      "Epoch 20/20\n",
      "363/363 [==============================] - 1s 2ms/step - loss: 0.2640 - root_mean_squared_error: 0.5138 - val_loss: 0.3566 - val_root_mean_squared_error: 0.5971\n",
      "162/162 [==============================] - 0s 1ms/step - loss: 0.2803 - root_mean_squared_error: 0.5294\n",
      "1/1 [==============================] - 0s 88ms/step\n"
     ]
    }
   ],
   "source": [
    "tf.random.set_seed(42)\n",
    "norm_layer = tf.keras.layers.Normalization(input_shape=X_train.shape[1:])\n",
    "model = tf.keras.Sequential([\n",
    "    norm_layer,\n",
    "    tf.keras.layers.Dense(50, activation=\"relu\"),\n",
    "    tf.keras.layers.Dense(50, activation=\"relu\"),\n",
    "    tf.keras.layers.Dense(50, activation=\"relu\"),\n",
    "    tf.keras.layers.Dense(1)\n",
    "])\n",
    "optimizer = tf.keras.optimizers.Adam(learning_rate=1e-3)\n",
    "model.compile(loss=\"mse\", optimizer=optimizer, metrics=[\"RootMeanSquaredError\"])\n",
    "norm_layer.adapt(X_train)\n",
    "history = model.fit(X_train, y_train, epochs=20,\n",
    "                    validation_data=(X_valid, y_valid))\n",
    "mse_test, rmse_test = model.evaluate(X_test, y_test)\n",
    "X_new = X_test[:3]\n",
    "y_pred = model.predict(X_new)"
   ]
  },
  {
   "cell_type": "code",
   "execution_count": null,
   "metadata": {
    "id": "emMeNub1_0Ia",
    "outputId": "95dc4717-8a7e-41df-fe1a-f30aa83e2033"
   },
   "outputs": [
    {
     "data": {
      "text/plain": [
       "0.5297096967697144"
      ]
     },
     "execution_count": 51,
     "metadata": {},
     "output_type": "execute_result"
    }
   ],
   "source": [
    "rmse_test"
   ]
  },
  {
   "cell_type": "code",
   "execution_count": null,
   "metadata": {
    "id": "z_N32IHY_0Ib",
    "outputId": "9d185d72-da38-40fe-9f0c-a0c34cc7031d"
   },
   "outputs": [
    {
     "data": {
      "text/plain": [
       "array([[0.4969182],\n",
       "       [1.195265 ],\n",
       "       [4.9428763]], dtype=float32)"
      ]
     },
     "execution_count": 52,
     "metadata": {},
     "output_type": "execute_result"
    }
   ],
   "source": [
    "y_pred"
   ]
  },
  {
   "cell_type": "code",
   "execution_count": 59,
   "metadata": {},
   "outputs": [
    {
     "data": {
      "text/plain": [
       "array([0.477  , 0.458  , 5.00001])"
      ]
     },
     "execution_count": 59,
     "metadata": {},
     "output_type": "execute_result"
    }
   ],
   "source": [
    "y_test[:3]"
   ]
  },
  {
   "cell_type": "markdown",
   "metadata": {
    "id": "9_DKG6Fc_0Ib"
   },
   "source": [
    "## Building Complex Models Using the Functional API"
   ]
  },
  {
   "cell_type": "markdown",
   "metadata": {
    "id": "xHToWuyX_0Ib"
   },
   "source": [
    "Not all neural network models are simply sequential. Some may have complex topologies. Some may have multiple inputs and/or multiple outputs. For example, a Wide & Deep neural network (see [paper](https://ai.google/research/pubs/pub45413)) connects all or part of the inputs directly to the output layer."
   ]
  },
  {
   "cell_type": "code",
   "execution_count": 62,
   "metadata": {
    "id": "7elhyDcw_0Ib"
   },
   "outputs": [],
   "source": [
    "# extra code – reset the name counters and make the code reproducible\n",
    "tf.keras.backend.clear_session()\n",
    "tf.random.set_seed(42)"
   ]
  },
  {
   "cell_type": "code",
   "execution_count": 63,
   "metadata": {
    "id": "6BadlK8-_0Ib"
   },
   "outputs": [],
   "source": [
    "normalization_layer = tf.keras.layers.Normalization()\n",
    "hidden_layer1 = tf.keras.layers.Dense(30, activation=\"relu\")\n",
    "hidden_layer2 = tf.keras.layers.Dense(30, activation=\"relu\")\n",
    "concat_layer = tf.keras.layers.Concatenate()\n",
    "output_layer = tf.keras.layers.Dense(1)\n",
    "\n",
    "input_ = tf.keras.layers.Input(shape=X_train.shape[1:])\n",
    "normalized = normalization_layer(input_)\n",
    "hidden1 = hidden_layer1(normalized)\n",
    "hidden2 = hidden_layer2(hidden1)\n",
    "concat = concat_layer([normalized, hidden2])\n",
    "output = output_layer(concat)\n",
    "\n",
    "model = tf.keras.Model(inputs=[input_], outputs=[output])"
   ]
  },
  {
   "cell_type": "code",
   "execution_count": 64,
   "metadata": {
    "id": "s70_r8fh_0Ic",
    "outputId": "afa5f83e-5e20-4bf9-c3a4-e93907b9a8a0"
   },
   "outputs": [
    {
     "name": "stdout",
     "output_type": "stream",
     "text": [
      "Model: \"model\"\n",
      "__________________________________________________________________________________________________\n",
      " Layer (type)                Output Shape                 Param #   Connected to                  \n",
      "==================================================================================================\n",
      " input_1 (InputLayer)        [(None, 8)]                  0         []                            \n",
      "                                                                                                  \n",
      " normalization (Normalizati  (None, 8)                    17        ['input_1[0][0]']             \n",
      " on)                                                                                              \n",
      "                                                                                                  \n",
      " dense (Dense)               (None, 30)                   270       ['normalization[0][0]']       \n",
      "                                                                                                  \n",
      " dense_1 (Dense)             (None, 30)                   930       ['dense[0][0]']               \n",
      "                                                                                                  \n",
      " concatenate (Concatenate)   (None, 38)                   0         ['normalization[0][0]',       \n",
      "                                                                     'dense_1[0][0]']             \n",
      "                                                                                                  \n",
      " dense_2 (Dense)             (None, 1)                    39        ['concatenate[0][0]']         \n",
      "                                                                                                  \n",
      "==================================================================================================\n",
      "Total params: 1256 (4.91 KB)\n",
      "Trainable params: 1239 (4.84 KB)\n",
      "Non-trainable params: 17 (72.00 Byte)\n",
      "__________________________________________________________________________________________________\n"
     ]
    }
   ],
   "source": [
    "model.summary()"
   ]
  },
  {
   "cell_type": "code",
   "execution_count": 65,
   "metadata": {
    "id": "8yyUQUhy_0Ic",
    "outputId": "caf24ba7-852c-406c-ed33-a3729da0f0c8"
   },
   "outputs": [
    {
     "name": "stdout",
     "output_type": "stream",
     "text": [
      "Epoch 1/20\n",
      "363/363 [==============================] - 1s 2ms/step - loss: 1.2090 - root_mean_squared_error: 1.0996 - val_loss: 0.7992 - val_root_mean_squared_error: 0.8940\n",
      "Epoch 2/20\n",
      "363/363 [==============================] - 1s 2ms/step - loss: 0.4888 - root_mean_squared_error: 0.6992 - val_loss: 0.7695 - val_root_mean_squared_error: 0.8772\n",
      "Epoch 3/20\n",
      "363/363 [==============================] - 1s 2ms/step - loss: 0.4198 - root_mean_squared_error: 0.6480 - val_loss: 0.3841 - val_root_mean_squared_error: 0.6198\n",
      "Epoch 4/20\n",
      "363/363 [==============================] - 1s 2ms/step - loss: 0.3880 - root_mean_squared_error: 0.6229 - val_loss: 2.0288 - val_root_mean_squared_error: 1.4243\n",
      "Epoch 5/20\n",
      "363/363 [==============================] - 1s 2ms/step - loss: 0.3770 - root_mean_squared_error: 0.6140 - val_loss: 3.8696 - val_root_mean_squared_error: 1.9671\n",
      "Epoch 6/20\n",
      "363/363 [==============================] - 1s 2ms/step - loss: 0.3901 - root_mean_squared_error: 0.6246 - val_loss: 2.9123 - val_root_mean_squared_error: 1.7066\n",
      "Epoch 7/20\n",
      "363/363 [==============================] - 1s 2ms/step - loss: 0.3690 - root_mean_squared_error: 0.6075 - val_loss: 1.2622 - val_root_mean_squared_error: 1.1235\n",
      "Epoch 8/20\n",
      "363/363 [==============================] - 1s 2ms/step - loss: 0.3460 - root_mean_squared_error: 0.5882 - val_loss: 2.3876 - val_root_mean_squared_error: 1.5452\n",
      "Epoch 9/20\n",
      "363/363 [==============================] - 1s 2ms/step - loss: 0.3452 - root_mean_squared_error: 0.5875 - val_loss: 1.1317 - val_root_mean_squared_error: 1.0638\n",
      "Epoch 10/20\n",
      "363/363 [==============================] - 1s 2ms/step - loss: 0.3418 - root_mean_squared_error: 0.5846 - val_loss: 1.7495 - val_root_mean_squared_error: 1.3227\n",
      "Epoch 11/20\n",
      "363/363 [==============================] - 1s 2ms/step - loss: 0.3293 - root_mean_squared_error: 0.5738 - val_loss: 1.7556 - val_root_mean_squared_error: 1.3250\n",
      "Epoch 12/20\n",
      "363/363 [==============================] - 1s 2ms/step - loss: 0.3808 - root_mean_squared_error: 0.6171 - val_loss: 4.7906 - val_root_mean_squared_error: 2.1887\n",
      "Epoch 13/20\n",
      "363/363 [==============================] - 1s 2ms/step - loss: 0.3527 - root_mean_squared_error: 0.5939 - val_loss: 0.9757 - val_root_mean_squared_error: 0.9878\n",
      "Epoch 14/20\n",
      "363/363 [==============================] - 1s 2ms/step - loss: 0.3229 - root_mean_squared_error: 0.5682 - val_loss: 0.9214 - val_root_mean_squared_error: 0.9599\n",
      "Epoch 15/20\n",
      "363/363 [==============================] - 1s 2ms/step - loss: 0.3152 - root_mean_squared_error: 0.5614 - val_loss: 0.3706 - val_root_mean_squared_error: 0.6088\n",
      "Epoch 16/20\n",
      "363/363 [==============================] - 1s 2ms/step - loss: 0.3101 - root_mean_squared_error: 0.5568 - val_loss: 0.6301 - val_root_mean_squared_error: 0.7938\n",
      "Epoch 17/20\n",
      "363/363 [==============================] - 1s 2ms/step - loss: 0.3088 - root_mean_squared_error: 0.5557 - val_loss: 0.3283 - val_root_mean_squared_error: 0.5730\n",
      "Epoch 18/20\n",
      "363/363 [==============================] - 1s 2ms/step - loss: 0.3056 - root_mean_squared_error: 0.5528 - val_loss: 1.2320 - val_root_mean_squared_error: 1.1100\n",
      "Epoch 19/20\n",
      "363/363 [==============================] - 1s 2ms/step - loss: 0.3052 - root_mean_squared_error: 0.5525 - val_loss: 0.9557 - val_root_mean_squared_error: 0.9776\n",
      "Epoch 20/20\n",
      "363/363 [==============================] - 1s 2ms/step - loss: 0.3145 - root_mean_squared_error: 0.5608 - val_loss: 2.9867 - val_root_mean_squared_error: 1.7282\n",
      "162/162 [==============================] - 0s 1ms/step - loss: 0.3095 - root_mean_squared_error: 0.5563\n",
      "1/1 [==============================] - 0s 69ms/step\n"
     ]
    }
   ],
   "source": [
    "optimizer = tf.keras.optimizers.Adam(learning_rate=1e-3)\n",
    "model.compile(loss=\"mse\", optimizer=optimizer, metrics=[\"RootMeanSquaredError\"])\n",
    "normalization_layer.adapt(X_train)\n",
    "history = model.fit(X_train, y_train, epochs=20,\n",
    "                    validation_data=(X_valid, y_valid))\n",
    "mse_test = model.evaluate(X_test, y_test)\n",
    "y_pred = model.predict(X_new)"
   ]
  },
  {
   "cell_type": "markdown",
   "metadata": {
    "id": "nuViVgyC_0Ic"
   },
   "source": [
    "What if you want to send different subsets of input features through the wide or deep paths? We will send 5 features (features 0 to 4), and 6 through the deep path (features 2 to 7). Note that 3 features will go through both (features 2, 3 and 4)."
   ]
  },
  {
   "cell_type": "code",
   "execution_count": 66,
   "metadata": {},
   "outputs": [
    {
     "data": {
      "text/plain": [
       "array([[0.4832877],\n",
       "       [1.4687781],\n",
       "       [4.2974386]], dtype=float32)"
      ]
     },
     "execution_count": 66,
     "metadata": {},
     "output_type": "execute_result"
    }
   ],
   "source": [
    "y_pred"
   ]
  },
  {
   "cell_type": "code",
   "execution_count": 67,
   "metadata": {
    "id": "4itGD4od_0Ic"
   },
   "outputs": [],
   "source": [
    "tf.random.set_seed(42)  # extra code"
   ]
  },
  {
   "cell_type": "code",
   "execution_count": 68,
   "metadata": {
    "id": "rhnzmSrQ_0Id"
   },
   "outputs": [],
   "source": [
    "input_wide = tf.keras.layers.Input(shape=[5])  # features 0 to 4\n",
    "input_deep = tf.keras.layers.Input(shape=[6])  # features 2 to 7\n",
    "norm_layer_wide = tf.keras.layers.Normalization()\n",
    "norm_layer_deep = tf.keras.layers.Normalization()\n",
    "norm_wide = norm_layer_wide(input_wide)\n",
    "norm_deep = norm_layer_deep(input_deep)\n",
    "hidden1 = tf.keras.layers.Dense(30, activation=\"relu\")(norm_deep)\n",
    "hidden2 = tf.keras.layers.Dense(30, activation=\"relu\")(hidden1)\n",
    "concat = tf.keras.layers.concatenate([norm_wide, hidden2])\n",
    "output = tf.keras.layers.Dense(1)(concat)\n",
    "model = tf.keras.Model(inputs=[input_wide, input_deep], outputs=[output])"
   ]
  },
  {
   "cell_type": "code",
   "execution_count": 69,
   "metadata": {
    "id": "MBILpK52_0Id",
    "outputId": "f41109a3-68c2-436b-a84b-af316f1d3ff5"
   },
   "outputs": [
    {
     "name": "stdout",
     "output_type": "stream",
     "text": [
      "Epoch 1/20\n",
      "363/363 [==============================] - 1s 2ms/step - loss: 1.8701 - root_mean_squared_error: 1.3675 - val_loss: 0.8864 - val_root_mean_squared_error: 0.9415\n",
      "Epoch 2/20\n",
      "363/363 [==============================] - 1s 2ms/step - loss: 0.6620 - root_mean_squared_error: 0.8137 - val_loss: 1.4162 - val_root_mean_squared_error: 1.1901\n",
      "Epoch 3/20\n",
      "363/363 [==============================] - 1s 2ms/step - loss: 0.5358 - root_mean_squared_error: 0.7320 - val_loss: 0.6309 - val_root_mean_squared_error: 0.7943\n",
      "Epoch 4/20\n",
      "363/363 [==============================] - 1s 2ms/step - loss: 0.4644 - root_mean_squared_error: 0.6815 - val_loss: 0.6076 - val_root_mean_squared_error: 0.7795\n",
      "Epoch 5/20\n",
      "363/363 [==============================] - 1s 2ms/step - loss: 0.4244 - root_mean_squared_error: 0.6515 - val_loss: 0.3669 - val_root_mean_squared_error: 0.6057\n",
      "Epoch 6/20\n",
      "363/363 [==============================] - 1s 2ms/step - loss: 0.3894 - root_mean_squared_error: 0.6240 - val_loss: 0.6858 - val_root_mean_squared_error: 0.8281\n",
      "Epoch 7/20\n",
      "363/363 [==============================] - 1s 2ms/step - loss: 0.3808 - root_mean_squared_error: 0.6171 - val_loss: 0.3386 - val_root_mean_squared_error: 0.5819\n",
      "Epoch 8/20\n",
      "363/363 [==============================] - 1s 2ms/step - loss: 0.3665 - root_mean_squared_error: 0.6054 - val_loss: 2.0224 - val_root_mean_squared_error: 1.4221\n",
      "Epoch 9/20\n",
      "363/363 [==============================] - 1s 2ms/step - loss: 0.3621 - root_mean_squared_error: 0.6017 - val_loss: 3.7006 - val_root_mean_squared_error: 1.9237\n",
      "Epoch 10/20\n",
      "363/363 [==============================] - 1s 2ms/step - loss: 0.3854 - root_mean_squared_error: 0.6208 - val_loss: 0.8264 - val_root_mean_squared_error: 0.9091\n",
      "Epoch 11/20\n",
      "363/363 [==============================] - 1s 2ms/step - loss: 0.3525 - root_mean_squared_error: 0.5937 - val_loss: 0.4382 - val_root_mean_squared_error: 0.6620\n",
      "Epoch 12/20\n",
      "363/363 [==============================] - 1s 2ms/step - loss: 0.3481 - root_mean_squared_error: 0.5900 - val_loss: 0.3628 - val_root_mean_squared_error: 0.6023\n",
      "Epoch 13/20\n",
      "363/363 [==============================] - 1s 2ms/step - loss: 0.3450 - root_mean_squared_error: 0.5874 - val_loss: 0.7404 - val_root_mean_squared_error: 0.8604\n",
      "Epoch 14/20\n",
      "363/363 [==============================] - 1s 2ms/step - loss: 0.3449 - root_mean_squared_error: 0.5873 - val_loss: 1.4901 - val_root_mean_squared_error: 1.2207\n",
      "Epoch 15/20\n",
      "363/363 [==============================] - 1s 2ms/step - loss: 0.3454 - root_mean_squared_error: 0.5877 - val_loss: 1.9347 - val_root_mean_squared_error: 1.3909\n",
      "Epoch 16/20\n",
      "363/363 [==============================] - 1s 2ms/step - loss: 0.3489 - root_mean_squared_error: 0.5907 - val_loss: 1.3621 - val_root_mean_squared_error: 1.1671\n",
      "Epoch 17/20\n",
      "363/363 [==============================] - 1s 2ms/step - loss: 0.3433 - root_mean_squared_error: 0.5859 - val_loss: 1.4771 - val_root_mean_squared_error: 1.2153\n",
      "Epoch 18/20\n",
      "363/363 [==============================] - 1s 2ms/step - loss: 0.3415 - root_mean_squared_error: 0.5844 - val_loss: 0.8861 - val_root_mean_squared_error: 0.9413\n",
      "Epoch 19/20\n",
      "363/363 [==============================] - 1s 2ms/step - loss: 0.3372 - root_mean_squared_error: 0.5807 - val_loss: 1.1932 - val_root_mean_squared_error: 1.0924\n",
      "Epoch 20/20\n",
      "363/363 [==============================] - 1s 2ms/step - loss: 0.3382 - root_mean_squared_error: 0.5815 - val_loss: 0.3995 - val_root_mean_squared_error: 0.6321\n",
      "162/162 [==============================] - 0s 1ms/step - loss: 0.3334 - root_mean_squared_error: 0.5774\n",
      "1/1 [==============================] - 0s 69ms/step\n"
     ]
    }
   ],
   "source": [
    "optimizer = tf.keras.optimizers.Adam(learning_rate=1e-3)\n",
    "model.compile(loss=\"mse\", optimizer=optimizer, metrics=[\"RootMeanSquaredError\"])\n",
    "\n",
    "X_train_wide, X_train_deep = X_train[:, :5], X_train[:, 2:]\n",
    "X_valid_wide, X_valid_deep = X_valid[:, :5], X_valid[:, 2:]\n",
    "X_test_wide, X_test_deep = X_test[:, :5], X_test[:, 2:]\n",
    "X_new_wide, X_new_deep = X_test_wide[:3], X_test_deep[:3]\n",
    "\n",
    "norm_layer_wide.adapt(X_train_wide)\n",
    "norm_layer_deep.adapt(X_train_deep)\n",
    "history = model.fit((X_train_wide, X_train_deep), y_train, epochs=20,\n",
    "                    validation_data=((X_valid_wide, X_valid_deep), y_valid))\n",
    "mse_test = model.evaluate((X_test_wide, X_test_deep), y_test)\n",
    "y_pred = model.predict((X_new_wide, X_new_deep))"
   ]
  },
  {
   "cell_type": "code",
   "execution_count": 70,
   "metadata": {},
   "outputs": [
    {
     "data": {
      "text/plain": [
       "array([[0.46776846],\n",
       "       [0.9908204 ],\n",
       "       [3.4374745 ]], dtype=float32)"
      ]
     },
     "execution_count": 70,
     "metadata": {},
     "output_type": "execute_result"
    }
   ],
   "source": [
    "y_pred"
   ]
  },
  {
   "cell_type": "markdown",
   "metadata": {
    "id": "TiWk3rqD_0Id"
   },
   "source": [
    "Adding an auxiliary output for regularization:"
   ]
  },
  {
   "cell_type": "code",
   "execution_count": 71,
   "metadata": {
    "id": "73RNEa7B_0Id"
   },
   "outputs": [],
   "source": [
    "tf.keras.backend.clear_session()\n",
    "tf.random.set_seed(42)"
   ]
  },
  {
   "cell_type": "code",
   "execution_count": 72,
   "metadata": {
    "id": "Ek4kne4S_0Ie"
   },
   "outputs": [],
   "source": [
    "input_wide = tf.keras.layers.Input(shape=[5])  # features 0 to 4\n",
    "input_deep = tf.keras.layers.Input(shape=[6])  # features 2 to 7\n",
    "norm_layer_wide = tf.keras.layers.Normalization()\n",
    "norm_layer_deep = tf.keras.layers.Normalization()\n",
    "norm_wide = norm_layer_wide(input_wide)\n",
    "norm_deep = norm_layer_deep(input_deep)\n",
    "hidden1 = tf.keras.layers.Dense(30, activation=\"relu\")(norm_deep)\n",
    "hidden2 = tf.keras.layers.Dense(30, activation=\"relu\")(hidden1)\n",
    "concat = tf.keras.layers.concatenate([norm_wide, hidden2])\n",
    "output = tf.keras.layers.Dense(1)(concat)\n",
    "aux_output = tf.keras.layers.Dense(1)(hidden2)\n",
    "model = tf.keras.Model(inputs=[input_wide, input_deep],\n",
    "                       outputs=[output, aux_output])"
   ]
  },
  {
   "cell_type": "code",
   "execution_count": 73,
   "metadata": {
    "id": "tjP3CGIY_0Ie"
   },
   "outputs": [],
   "source": [
    "optimizer = tf.keras.optimizers.Adam(learning_rate=1e-3)\n",
    "model.compile(loss=(\"mse\", \"mse\"), loss_weights=(0.9, 0.1), optimizer=optimizer,\n",
    "              metrics=[\"RootMeanSquaredError\"])"
   ]
  },
  {
   "cell_type": "code",
   "execution_count": 74,
   "metadata": {
    "id": "VJYXb8PI_0If",
    "outputId": "b497ca35-80bd-4652-ebbe-e60356e091e0"
   },
   "outputs": [
    {
     "name": "stdout",
     "output_type": "stream",
     "text": [
      "Epoch 1/20\n",
      "363/363 [==============================] - 2s 3ms/step - loss: 1.5553 - dense_2_loss: 1.4445 - dense_3_loss: 2.5528 - dense_2_root_mean_squared_error: 1.2019 - dense_3_root_mean_squared_error: 1.5977 - val_loss: 3.5409 - val_dense_2_loss: 2.4554 - val_dense_3_loss: 13.3107 - val_dense_2_root_mean_squared_error: 1.5670 - val_dense_3_root_mean_squared_error: 3.6484\n",
      "Epoch 2/20\n",
      "363/363 [==============================] - 1s 2ms/step - loss: 0.5793 - dense_2_loss: 0.5381 - dense_3_loss: 0.9501 - dense_2_root_mean_squared_error: 0.7336 - dense_3_root_mean_squared_error: 0.9747 - val_loss: 1.9276 - val_dense_2_loss: 1.0746 - val_dense_3_loss: 9.6043 - val_dense_2_root_mean_squared_error: 1.0366 - val_dense_3_root_mean_squared_error: 3.0991\n",
      "Epoch 3/20\n",
      "363/363 [==============================] - 1s 2ms/step - loss: 0.4666 - dense_2_loss: 0.4438 - dense_3_loss: 0.6716 - dense_2_root_mean_squared_error: 0.6662 - dense_3_root_mean_squared_error: 0.8195 - val_loss: 0.7799 - val_dense_2_loss: 0.5521 - val_dense_3_loss: 2.8309 - val_dense_2_root_mean_squared_error: 0.7430 - val_dense_3_root_mean_squared_error: 1.6825\n",
      "Epoch 4/20\n",
      "363/363 [==============================] - 1s 2ms/step - loss: 0.4334 - dense_2_loss: 0.4164 - dense_3_loss: 0.5866 - dense_2_root_mean_squared_error: 0.6453 - dense_3_root_mean_squared_error: 0.7659 - val_loss: 0.5108 - val_dense_2_loss: 0.4219 - val_dense_3_loss: 1.3109 - val_dense_2_root_mean_squared_error: 0.6496 - val_dense_3_root_mean_squared_error: 1.1449\n",
      "Epoch 5/20\n",
      "363/363 [==============================] - 1s 2ms/step - loss: 0.4150 - dense_2_loss: 0.3997 - dense_3_loss: 0.5529 - dense_2_root_mean_squared_error: 0.6322 - dense_3_root_mean_squared_error: 0.7436 - val_loss: 0.4083 - val_dense_2_loss: 0.3753 - val_dense_3_loss: 0.7059 - val_dense_2_root_mean_squared_error: 0.6126 - val_dense_3_root_mean_squared_error: 0.8402\n",
      "Epoch 6/20\n",
      "363/363 [==============================] - 1s 2ms/step - loss: 0.3999 - dense_2_loss: 0.3860 - dense_3_loss: 0.5255 - dense_2_root_mean_squared_error: 0.6213 - dense_3_root_mean_squared_error: 0.7249 - val_loss: 0.5120 - val_dense_2_loss: 0.4977 - val_dense_3_loss: 0.6404 - val_dense_2_root_mean_squared_error: 0.7055 - val_dense_3_root_mean_squared_error: 0.8003\n",
      "Epoch 7/20\n",
      "363/363 [==============================] - 1s 2ms/step - loss: 0.3900 - dense_2_loss: 0.3771 - dense_3_loss: 0.5059 - dense_2_root_mean_squared_error: 0.6141 - dense_3_root_mean_squared_error: 0.7113 - val_loss: 0.3684 - val_dense_2_loss: 0.3484 - val_dense_3_loss: 0.5478 - val_dense_2_root_mean_squared_error: 0.5903 - val_dense_3_root_mean_squared_error: 0.7401\n",
      "Epoch 8/20\n",
      "363/363 [==============================] - 1s 2ms/step - loss: 0.3808 - dense_2_loss: 0.3687 - dense_3_loss: 0.4891 - dense_2_root_mean_squared_error: 0.6072 - dense_3_root_mean_squared_error: 0.6994 - val_loss: 0.5186 - val_dense_2_loss: 0.5238 - val_dense_3_loss: 0.4714 - val_dense_2_root_mean_squared_error: 0.7238 - val_dense_3_root_mean_squared_error: 0.6866\n",
      "Epoch 9/20\n",
      "363/363 [==============================] - 1s 2ms/step - loss: 0.3732 - dense_2_loss: 0.3622 - dense_3_loss: 0.4722 - dense_2_root_mean_squared_error: 0.6018 - dense_3_root_mean_squared_error: 0.6872 - val_loss: 2.0330 - val_dense_2_loss: 2.1703 - val_dense_3_loss: 0.7970 - val_dense_2_root_mean_squared_error: 1.4732 - val_dense_3_root_mean_squared_error: 0.8928\n",
      "Epoch 10/20\n",
      "363/363 [==============================] - 1s 2ms/step - loss: 0.3863 - dense_2_loss: 0.3778 - dense_3_loss: 0.4628 - dense_2_root_mean_squared_error: 0.6147 - dense_3_root_mean_squared_error: 0.6803 - val_loss: 1.1491 - val_dense_2_loss: 1.2010 - val_dense_3_loss: 0.6815 - val_dense_2_root_mean_squared_error: 1.0959 - val_dense_3_root_mean_squared_error: 0.8256\n",
      "Epoch 11/20\n",
      "363/363 [==============================] - 1s 2ms/step - loss: 0.3640 - dense_2_loss: 0.3546 - dense_3_loss: 0.4484 - dense_2_root_mean_squared_error: 0.5955 - dense_3_root_mean_squared_error: 0.6697 - val_loss: 1.2572 - val_dense_2_loss: 1.3070 - val_dense_3_loss: 0.8091 - val_dense_2_root_mean_squared_error: 1.1433 - val_dense_3_root_mean_squared_error: 0.8995\n",
      "Epoch 12/20\n",
      "363/363 [==============================] - 1s 2ms/step - loss: 0.3770 - dense_2_loss: 0.3695 - dense_3_loss: 0.4437 - dense_2_root_mean_squared_error: 0.6079 - dense_3_root_mean_squared_error: 0.6661 - val_loss: 1.4508 - val_dense_2_loss: 1.5222 - val_dense_3_loss: 0.8082 - val_dense_2_root_mean_squared_error: 1.2338 - val_dense_3_root_mean_squared_error: 0.8990\n",
      "Epoch 13/20\n",
      "363/363 [==============================] - 1s 2ms/step - loss: 0.3650 - dense_2_loss: 0.3574 - dense_3_loss: 0.4336 - dense_2_root_mean_squared_error: 0.5978 - dense_3_root_mean_squared_error: 0.6585 - val_loss: 2.1161 - val_dense_2_loss: 1.9952 - val_dense_3_loss: 3.2039 - val_dense_2_root_mean_squared_error: 1.4125 - val_dense_3_root_mean_squared_error: 1.7899\n",
      "Epoch 14/20\n",
      "363/363 [==============================] - 1s 2ms/step - loss: 0.3566 - dense_2_loss: 0.3478 - dense_3_loss: 0.4355 - dense_2_root_mean_squared_error: 0.5898 - dense_3_root_mean_squared_error: 0.6600 - val_loss: 1.5245 - val_dense_2_loss: 1.4796 - val_dense_3_loss: 1.9284 - val_dense_2_root_mean_squared_error: 1.2164 - val_dense_3_root_mean_squared_error: 1.3887\n",
      "Epoch 15/20\n",
      "363/363 [==============================] - 1s 2ms/step - loss: 0.3544 - dense_2_loss: 0.3471 - dense_3_loss: 0.4205 - dense_2_root_mean_squared_error: 0.5892 - dense_3_root_mean_squared_error: 0.6484 - val_loss: 2.5708 - val_dense_2_loss: 2.5309 - val_dense_3_loss: 2.9300 - val_dense_2_root_mean_squared_error: 1.5909 - val_dense_3_root_mean_squared_error: 1.7117\n",
      "Epoch 16/20\n",
      "363/363 [==============================] - 1s 2ms/step - loss: 0.3558 - dense_2_loss: 0.3481 - dense_3_loss: 0.4249 - dense_2_root_mean_squared_error: 0.5900 - dense_3_root_mean_squared_error: 0.6519 - val_loss: 1.2134 - val_dense_2_loss: 1.1238 - val_dense_3_loss: 2.0198 - val_dense_2_root_mean_squared_error: 1.0601 - val_dense_3_root_mean_squared_error: 1.4212\n",
      "Epoch 17/20\n",
      "363/363 [==============================] - 1s 2ms/step - loss: 0.3503 - dense_2_loss: 0.3427 - dense_3_loss: 0.4186 - dense_2_root_mean_squared_error: 0.5854 - dense_3_root_mean_squared_error: 0.6470 - val_loss: 1.3436 - val_dense_2_loss: 1.4341 - val_dense_3_loss: 0.5290 - val_dense_2_root_mean_squared_error: 1.1975 - val_dense_3_root_mean_squared_error: 0.7273\n",
      "Epoch 18/20\n",
      "363/363 [==============================] - 1s 2ms/step - loss: 0.3446 - dense_2_loss: 0.3383 - dense_3_loss: 0.4016 - dense_2_root_mean_squared_error: 0.5817 - dense_3_root_mean_squared_error: 0.6337 - val_loss: 0.6612 - val_dense_2_loss: 0.6675 - val_dense_3_loss: 0.6045 - val_dense_2_root_mean_squared_error: 0.8170 - val_dense_3_root_mean_squared_error: 0.7775\n",
      "Epoch 19/20\n",
      "363/363 [==============================] - 1s 2ms/step - loss: 0.3405 - dense_2_loss: 0.3340 - dense_3_loss: 0.3992 - dense_2_root_mean_squared_error: 0.5779 - dense_3_root_mean_squared_error: 0.6318 - val_loss: 0.7372 - val_dense_2_loss: 0.7333 - val_dense_3_loss: 0.7725 - val_dense_2_root_mean_squared_error: 0.8563 - val_dense_3_root_mean_squared_error: 0.8789\n",
      "Epoch 20/20\n",
      "363/363 [==============================] - 1s 2ms/step - loss: 0.3387 - dense_2_loss: 0.3322 - dense_3_loss: 0.3966 - dense_2_root_mean_squared_error: 0.5764 - dense_3_root_mean_squared_error: 0.6297 - val_loss: 0.4640 - val_dense_2_loss: 0.4551 - val_dense_3_loss: 0.5444 - val_dense_2_root_mean_squared_error: 0.6746 - val_dense_3_root_mean_squared_error: 0.7378\n"
     ]
    }
   ],
   "source": [
    "norm_layer_wide.adapt(X_train_wide)\n",
    "norm_layer_deep.adapt(X_train_deep)\n",
    "history = model.fit(\n",
    "    (X_train_wide, X_train_deep), (y_train, y_train), epochs=20,\n",
    "    validation_data=((X_valid_wide, X_valid_deep), (y_valid, y_valid))\n",
    ")"
   ]
  },
  {
   "cell_type": "code",
   "execution_count": 75,
   "metadata": {
    "id": "7GtOHl1p_0If",
    "outputId": "34970f27-62d1-402f-b145-4dbaded9d0a1"
   },
   "outputs": [
    {
     "name": "stdout",
     "output_type": "stream",
     "text": [
      "162/162 [==============================] - 0s 2ms/step - loss: 0.3355 - dense_2_loss: 0.3297 - dense_3_loss: 0.3886 - dense_2_root_mean_squared_error: 0.5742 - dense_3_root_mean_squared_error: 0.6234\n"
     ]
    }
   ],
   "source": [
    "eval_results = model.evaluate((X_test_wide, X_test_deep), (y_test, y_test))\n",
    "weighted_sum_of_losses, main_loss, aux_loss, main_rmse, aux_rmse = eval_results"
   ]
  },
  {
   "cell_type": "code",
   "execution_count": 76,
   "metadata": {
    "id": "7rBqRDhA_0Ig",
    "outputId": "eaa176ec-caff-40bb-8b7b-d41e71610938"
   },
   "outputs": [
    {
     "name": "stdout",
     "output_type": "stream",
     "text": [
      "WARNING:tensorflow:5 out of the last 5 calls to <function Model.make_predict_function.<locals>.predict_function at 0x00000147AC728A40> triggered tf.function retracing. Tracing is expensive and the excessive number of tracings could be due to (1) creating @tf.function repeatedly in a loop, (2) passing tensors with different shapes, (3) passing Python objects instead of tensors. For (1), please define your @tf.function outside of the loop. For (2), @tf.function has reduce_retracing=True option that can avoid unnecessary retracing. For (3), please refer to https://www.tensorflow.org/guide/function#controlling_retracing and https://www.tensorflow.org/api_docs/python/tf/function for  more details.\n",
      "1/1 [==============================] - 0s 79ms/step\n"
     ]
    }
   ],
   "source": [
    "y_pred_main, y_pred_aux = model.predict((X_new_wide, X_new_deep))"
   ]
  },
  {
   "cell_type": "code",
   "execution_count": 77,
   "metadata": {
    "id": "u46k8slu_0Ig"
   },
   "outputs": [
    {
     "name": "stdout",
     "output_type": "stream",
     "text": [
      "1/1 [==============================] - 0s 22ms/step\n"
     ]
    }
   ],
   "source": [
    "y_pred_tuple = model.predict((X_new_wide, X_new_deep))\n",
    "y_pred = dict(zip(model.output_names, y_pred_tuple))"
   ]
  },
  {
   "cell_type": "markdown",
   "metadata": {
    "id": "gXmjyC1v_0Ig"
   },
   "source": [
    "## Using the Subclassing API to Build Dynamic Models"
   ]
  },
  {
   "cell_type": "code",
   "execution_count": 78,
   "metadata": {
    "id": "7yK2oS-Y_0Ig"
   },
   "outputs": [],
   "source": [
    "class WideAndDeepModel(tf.keras.Model):\n",
    "    def __init__(self, units=30, activation=\"relu\", **kwargs):\n",
    "        super().__init__(**kwargs)  # needed to support naming the model\n",
    "        self.norm_layer_wide = tf.keras.layers.Normalization()\n",
    "        self.norm_layer_deep = tf.keras.layers.Normalization()\n",
    "        self.hidden1 = tf.keras.layers.Dense(units, activation=activation)\n",
    "        self.hidden2 = tf.keras.layers.Dense(units, activation=activation)\n",
    "        self.main_output = tf.keras.layers.Dense(1)\n",
    "        self.aux_output = tf.keras.layers.Dense(1)\n",
    "\n",
    "    def call(self, inputs):\n",
    "        input_wide, input_deep = inputs\n",
    "        norm_wide = self.norm_layer_wide(input_wide)\n",
    "        norm_deep = self.norm_layer_deep(input_deep)\n",
    "        hidden1 = self.hidden1(norm_deep)\n",
    "        hidden2 = self.hidden2(hidden1)\n",
    "        concat = tf.keras.layers.concatenate([norm_wide, hidden2])\n",
    "        output = self.main_output(concat)\n",
    "        aux_output = self.aux_output(hidden2)\n",
    "        return output, aux_output\n",
    "\n",
    "tf.random.set_seed(42)  # extra code – just for reproducibility\n",
    "model = WideAndDeepModel(30, activation=\"relu\", name=\"my_cool_model\")"
   ]
  },
  {
   "cell_type": "code",
   "execution_count": 79,
   "metadata": {
    "id": "uGetYQb6_0Ig",
    "outputId": "7b3b7e21-f65f-4671-9413-ddb16ed9016f"
   },
   "outputs": [
    {
     "name": "stdout",
     "output_type": "stream",
     "text": [
      "Epoch 1/10\n",
      "363/363 [==============================] - 2s 3ms/step - loss: 1.1942 - output_1_loss: 1.1369 - output_2_loss: 1.7096 - output_1_root_mean_squared_error: 1.0663 - output_2_root_mean_squared_error: 1.3075 - val_loss: 0.6529 - val_output_1_loss: 0.6137 - val_output_2_loss: 1.0055 - val_output_1_root_mean_squared_error: 0.7834 - val_output_2_root_mean_squared_error: 1.0028\n",
      "Epoch 2/10\n",
      "363/363 [==============================] - 1s 2ms/step - loss: 0.4888 - output_1_loss: 0.4620 - output_2_loss: 0.7299 - output_1_root_mean_squared_error: 0.6797 - output_2_root_mean_squared_error: 0.8543 - val_loss: 0.6461 - val_output_1_loss: 0.6471 - val_output_2_loss: 0.6372 - val_output_1_root_mean_squared_error: 0.8044 - val_output_2_root_mean_squared_error: 0.7982\n",
      "Epoch 3/10\n",
      "363/363 [==============================] - 1s 2ms/step - loss: 0.4355 - output_1_loss: 0.4175 - output_2_loss: 0.5971 - output_1_root_mean_squared_error: 0.6462 - output_2_root_mean_squared_error: 0.7727 - val_loss: 0.4164 - val_output_1_loss: 0.4010 - val_output_2_loss: 0.5550 - val_output_1_root_mean_squared_error: 0.6332 - val_output_2_root_mean_squared_error: 0.7450\n",
      "Epoch 4/10\n",
      "363/363 [==============================] - 1s 2ms/step - loss: 0.4156 - output_1_loss: 0.3999 - output_2_loss: 0.5568 - output_1_root_mean_squared_error: 0.6324 - output_2_root_mean_squared_error: 0.7462 - val_loss: 0.3845 - val_output_1_loss: 0.3689 - val_output_2_loss: 0.5251 - val_output_1_root_mean_squared_error: 0.6074 - val_output_2_root_mean_squared_error: 0.7246\n",
      "Epoch 5/10\n",
      "363/363 [==============================] - 1s 2ms/step - loss: 0.4010 - output_1_loss: 0.3870 - output_2_loss: 0.5271 - output_1_root_mean_squared_error: 0.6221 - output_2_root_mean_squared_error: 0.7260 - val_loss: 0.4204 - val_output_1_loss: 0.4040 - val_output_2_loss: 0.5675 - val_output_1_root_mean_squared_error: 0.6356 - val_output_2_root_mean_squared_error: 0.7533\n",
      "Epoch 6/10\n",
      "363/363 [==============================] - 1s 2ms/step - loss: 0.3899 - output_1_loss: 0.3772 - output_2_loss: 0.5043 - output_1_root_mean_squared_error: 0.6142 - output_2_root_mean_squared_error: 0.7101 - val_loss: 0.8732 - val_output_1_loss: 0.8618 - val_output_2_loss: 0.9754 - val_output_1_root_mean_squared_error: 0.9283 - val_output_2_root_mean_squared_error: 0.9876\n",
      "Epoch 7/10\n",
      "363/363 [==============================] - 1s 2ms/step - loss: 0.3836 - output_1_loss: 0.3721 - output_2_loss: 0.4876 - output_1_root_mean_squared_error: 0.6100 - output_2_root_mean_squared_error: 0.6983 - val_loss: 0.6973 - val_output_1_loss: 0.6661 - val_output_2_loss: 0.9782 - val_output_1_root_mean_squared_error: 0.8161 - val_output_2_root_mean_squared_error: 0.9890\n",
      "Epoch 8/10\n",
      "363/363 [==============================] - 1s 2ms/step - loss: 0.3711 - output_1_loss: 0.3605 - output_2_loss: 0.4669 - output_1_root_mean_squared_error: 0.6004 - output_2_root_mean_squared_error: 0.6833 - val_loss: 2.9111 - val_output_1_loss: 3.0304 - val_output_2_loss: 1.8368 - val_output_1_root_mean_squared_error: 1.7408 - val_output_2_root_mean_squared_error: 1.3553\n",
      "Epoch 9/10\n",
      "363/363 [==============================] - 1s 2ms/step - loss: 0.3715 - output_1_loss: 0.3622 - output_2_loss: 0.4545 - output_1_root_mean_squared_error: 0.6019 - output_2_root_mean_squared_error: 0.6742 - val_loss: 1.9101 - val_output_1_loss: 1.9759 - val_output_2_loss: 1.3179 - val_output_1_root_mean_squared_error: 1.4057 - val_output_2_root_mean_squared_error: 1.1480\n",
      "Epoch 10/10\n",
      "363/363 [==============================] - 1s 2ms/step - loss: 0.3759 - output_1_loss: 0.3678 - output_2_loss: 0.4484 - output_1_root_mean_squared_error: 0.6065 - output_2_root_mean_squared_error: 0.6697 - val_loss: 1.1029 - val_output_1_loss: 1.1197 - val_output_2_loss: 0.9518 - val_output_1_root_mean_squared_error: 1.0582 - val_output_2_root_mean_squared_error: 0.9756\n",
      "162/162 [==============================] - 0s 1ms/step - loss: 0.3499 - output_1_loss: 0.3410 - output_2_loss: 0.4301 - output_1_root_mean_squared_error: 0.5840 - output_2_root_mean_squared_error: 0.6558\n",
      "WARNING:tensorflow:6 out of the last 7 calls to <function Model.make_predict_function.<locals>.predict_function at 0x00000147AC953C40> triggered tf.function retracing. Tracing is expensive and the excessive number of tracings could be due to (1) creating @tf.function repeatedly in a loop, (2) passing tensors with different shapes, (3) passing Python objects instead of tensors. For (1), please define your @tf.function outside of the loop. For (2), @tf.function has reduce_retracing=True option that can avoid unnecessary retracing. For (3), please refer to https://www.tensorflow.org/guide/function#controlling_retracing and https://www.tensorflow.org/api_docs/python/tf/function for  more details.\n",
      "1/1 [==============================] - 0s 69ms/step\n"
     ]
    }
   ],
   "source": [
    "optimizer = tf.keras.optimizers.Adam(learning_rate=1e-3)\n",
    "model.compile(loss=\"mse\", loss_weights=[0.9, 0.1], optimizer=optimizer,\n",
    "              metrics=[\"RootMeanSquaredError\"])\n",
    "model.norm_layer_wide.adapt(X_train_wide)\n",
    "model.norm_layer_deep.adapt(X_train_deep)\n",
    "history = model.fit(\n",
    "    (X_train_wide, X_train_deep), (y_train, y_train), epochs=10,\n",
    "    validation_data=((X_valid_wide, X_valid_deep), (y_valid, y_valid)))\n",
    "eval_results = model.evaluate((X_test_wide, X_test_deep), (y_test, y_test))\n",
    "weighted_sum_of_losses, main_loss, aux_loss, main_rmse, aux_rmse = eval_results\n",
    "y_pred_main, y_pred_aux = model.predict((X_new_wide, X_new_deep))"
   ]
  },
  {
   "cell_type": "markdown",
   "metadata": {
    "id": "THV070PM_0Ih"
   },
   "source": [
    "## Saving and Restoring a Model"
   ]
  },
  {
   "cell_type": "code",
   "execution_count": 80,
   "metadata": {
    "id": "NMANrHf8_0Ih"
   },
   "outputs": [],
   "source": [
    "# extra code – delete the directory, in case it already exists\n",
    "\n",
    "import shutil\n",
    "\n",
    "shutil.rmtree(\"my_keras_model\", ignore_errors=True)"
   ]
  },
  {
   "cell_type": "code",
   "execution_count": 81,
   "metadata": {
    "id": "ml4sBkM-_0Ih",
    "outputId": "48f2f30e-4246-4ed1-f2ca-88b81ca4aaae"
   },
   "outputs": [
    {
     "name": "stdout",
     "output_type": "stream",
     "text": [
      "INFO:tensorflow:Assets written to: my_keras_model\\assets\n"
     ]
    },
    {
     "name": "stderr",
     "output_type": "stream",
     "text": [
      "INFO:tensorflow:Assets written to: my_keras_model\\assets\n"
     ]
    }
   ],
   "source": [
    "model.save(\"my_keras_model\", save_format=\"tf\")"
   ]
  },
  {
   "cell_type": "code",
   "execution_count": 82,
   "metadata": {
    "id": "1Lj9DzgH_0Ih",
    "outputId": "cb4d2d08-678a-462a-8c8f-f167eccc339d"
   },
   "outputs": [
    {
     "name": "stdout",
     "output_type": "stream",
     "text": [
      "my_keras_model\\assets\n",
      "my_keras_model\\fingerprint.pb\n",
      "my_keras_model\\keras_metadata.pb\n",
      "my_keras_model\\saved_model.pb\n",
      "my_keras_model\\variables\n",
      "my_keras_model\\variables\\variables.data-00000-of-00001\n",
      "my_keras_model\\variables\\variables.index\n"
     ]
    }
   ],
   "source": [
    "# extra code – show the contents of the my_keras_model/ directory\n",
    "for path in sorted(Path(\"my_keras_model\").glob(\"**/*\")):\n",
    "    print(path)"
   ]
  },
  {
   "cell_type": "code",
   "execution_count": 83,
   "metadata": {
    "id": "UGdiaBgG_0Ih"
   },
   "outputs": [
    {
     "name": "stdout",
     "output_type": "stream",
     "text": [
      "WARNING:tensorflow:From C:\\Users\\pat\\anaconda3\\Lib\\site-packages\\keras\\src\\saving\\legacy\\saved_model\\load.py:107: The name tf.gfile.Exists is deprecated. Please use tf.io.gfile.exists instead.\n",
      "\n"
     ]
    },
    {
     "name": "stderr",
     "output_type": "stream",
     "text": [
      "WARNING:tensorflow:From C:\\Users\\pat\\anaconda3\\Lib\\site-packages\\keras\\src\\saving\\legacy\\saved_model\\load.py:107: The name tf.gfile.Exists is deprecated. Please use tf.io.gfile.exists instead.\n",
      "\n"
     ]
    },
    {
     "name": "stdout",
     "output_type": "stream",
     "text": [
      "1/1 [==============================] - 0s 94ms/step\n"
     ]
    }
   ],
   "source": [
    "model = tf.keras.models.load_model(\"my_keras_model\")\n",
    "y_pred_main, y_pred_aux = model.predict((X_new_wide, X_new_deep))"
   ]
  },
  {
   "cell_type": "code",
   "execution_count": 84,
   "metadata": {
    "id": "wMZ3Jmae_0Ih"
   },
   "outputs": [],
   "source": [
    "model.save_weights(\"my_weights\")"
   ]
  },
  {
   "cell_type": "code",
   "execution_count": 85,
   "metadata": {
    "id": "MUEWRwGR_0Ih",
    "outputId": "2b2ed7ce-3bbe-463a-fa8a-0607adc54197"
   },
   "outputs": [
    {
     "data": {
      "text/plain": [
       "<tensorflow.python.checkpoint.checkpoint.CheckpointLoadStatus at 0x14797a32f90>"
      ]
     },
     "execution_count": 85,
     "metadata": {},
     "output_type": "execute_result"
    }
   ],
   "source": [
    "model.load_weights(\"my_weights\")"
   ]
  },
  {
   "cell_type": "code",
   "execution_count": 86,
   "metadata": {
    "id": "yZ3SlZ4q_0Ih",
    "outputId": "e0430159-a68d-40de-d7d0-57d61844d66d"
   },
   "outputs": [
    {
     "name": "stdout",
     "output_type": "stream",
     "text": [
      "my_weights.data-00000-of-00001\n",
      "my_weights.index\n"
     ]
    }
   ],
   "source": [
    "# extra code – show the list of my_weights.* files\n",
    "for path in sorted(Path().glob(\"my_weights.*\")):\n",
    "    print(path)"
   ]
  },
  {
   "cell_type": "markdown",
   "metadata": {
    "id": "2zdh9U1W_0Ii"
   },
   "source": [
    "## Using Callbacks"
   ]
  },
  {
   "cell_type": "code",
   "execution_count": 87,
   "metadata": {
    "id": "qYxFh33U_0Ii"
   },
   "outputs": [],
   "source": [
    "shutil.rmtree(\"my_checkpoints\", ignore_errors=True)  # extra code"
   ]
  },
  {
   "cell_type": "code",
   "execution_count": 88,
   "metadata": {
    "id": "4IN9djy3_0Ii",
    "outputId": "2f1122b1-1390-44f6-d018-c9c2c6341d6b"
   },
   "outputs": [
    {
     "name": "stdout",
     "output_type": "stream",
     "text": [
      "Epoch 1/10\n",
      "363/363 [==============================] - 2s 3ms/step - loss: 0.3681 - output_1_loss: 0.3595 - output_2_loss: 0.4448 - output_1_root_mean_squared_error: 0.5996 - output_2_root_mean_squared_error: 0.6670 - val_loss: 0.3658 - val_output_1_loss: 0.3586 - val_output_2_loss: 0.4306 - val_output_1_root_mean_squared_error: 0.5988 - val_output_2_root_mean_squared_error: 0.6562\n",
      "Epoch 2/10\n",
      "363/363 [==============================] - 1s 3ms/step - loss: 0.3504 - output_1_loss: 0.3424 - output_2_loss: 0.4224 - output_1_root_mean_squared_error: 0.5851 - output_2_root_mean_squared_error: 0.6499 - val_loss: 0.5055 - val_output_1_loss: 0.5016 - val_output_2_loss: 0.5405 - val_output_1_root_mean_squared_error: 0.7083 - val_output_2_root_mean_squared_error: 0.7352\n",
      "Epoch 3/10\n",
      "363/363 [==============================] - 1s 3ms/step - loss: 0.3447 - output_1_loss: 0.3370 - output_2_loss: 0.4147 - output_1_root_mean_squared_error: 0.5805 - output_2_root_mean_squared_error: 0.6439 - val_loss: 0.3267 - val_output_1_loss: 0.3183 - val_output_2_loss: 0.4024 - val_output_1_root_mean_squared_error: 0.5642 - val_output_2_root_mean_squared_error: 0.6343\n",
      "Epoch 4/10\n",
      "363/363 [==============================] - 1s 3ms/step - loss: 0.3440 - output_1_loss: 0.3364 - output_2_loss: 0.4128 - output_1_root_mean_squared_error: 0.5800 - output_2_root_mean_squared_error: 0.6425 - val_loss: 0.3819 - val_output_1_loss: 0.3762 - val_output_2_loss: 0.4334 - val_output_1_root_mean_squared_error: 0.6134 - val_output_2_root_mean_squared_error: 0.6583\n",
      "Epoch 5/10\n",
      "363/363 [==============================] - 1s 3ms/step - loss: 0.3462 - output_1_loss: 0.3392 - output_2_loss: 0.4085 - output_1_root_mean_squared_error: 0.5824 - output_2_root_mean_squared_error: 0.6392 - val_loss: 0.4370 - val_output_1_loss: 0.4320 - val_output_2_loss: 0.4822 - val_output_1_root_mean_squared_error: 0.6573 - val_output_2_root_mean_squared_error: 0.6944\n",
      "Epoch 6/10\n",
      "363/363 [==============================] - 1s 3ms/step - loss: 0.3382 - output_1_loss: 0.3313 - output_2_loss: 0.4005 - output_1_root_mean_squared_error: 0.5756 - output_2_root_mean_squared_error: 0.6329 - val_loss: 0.7751 - val_output_1_loss: 0.7674 - val_output_2_loss: 0.8447 - val_output_1_root_mean_squared_error: 0.8760 - val_output_2_root_mean_squared_error: 0.9191\n",
      "Epoch 7/10\n",
      "363/363 [==============================] - 1s 3ms/step - loss: 0.3390 - output_1_loss: 0.3324 - output_2_loss: 0.3986 - output_1_root_mean_squared_error: 0.5765 - output_2_root_mean_squared_error: 0.6313 - val_loss: 0.5871 - val_output_1_loss: 0.6091 - val_output_2_loss: 0.3894 - val_output_1_root_mean_squared_error: 0.7804 - val_output_2_root_mean_squared_error: 0.6240\n",
      "Epoch 8/10\n",
      "363/363 [==============================] - 1s 3ms/step - loss: 0.3334 - output_1_loss: 0.3270 - output_2_loss: 0.3917 - output_1_root_mean_squared_error: 0.5718 - output_2_root_mean_squared_error: 0.6259 - val_loss: 3.8512 - val_output_1_loss: 3.8625 - val_output_2_loss: 3.7497 - val_output_1_root_mean_squared_error: 1.9653 - val_output_2_root_mean_squared_error: 1.9364\n",
      "Epoch 9/10\n",
      "363/363 [==============================] - 1s 3ms/step - loss: 0.3401 - output_1_loss: 0.3335 - output_2_loss: 0.3997 - output_1_root_mean_squared_error: 0.5775 - output_2_root_mean_squared_error: 0.6322 - val_loss: 2.0754 - val_output_1_loss: 2.1401 - val_output_2_loss: 1.4927 - val_output_1_root_mean_squared_error: 1.4629 - val_output_2_root_mean_squared_error: 1.2217\n",
      "Epoch 10/10\n",
      "363/363 [==============================] - 1s 2ms/step - loss: 0.3463 - output_1_loss: 0.3405 - output_2_loss: 0.3988 - output_1_root_mean_squared_error: 0.5835 - output_2_root_mean_squared_error: 0.6315 - val_loss: 0.5200 - val_output_1_loss: 0.5356 - val_output_2_loss: 0.3801 - val_output_1_root_mean_squared_error: 0.7318 - val_output_2_root_mean_squared_error: 0.6165\n"
     ]
    }
   ],
   "source": [
    "checkpoint_cb = tf.keras.callbacks.ModelCheckpoint(\"my_checkpoints\",\n",
    "                                                   save_weights_only=True)\n",
    "history = model.fit(\n",
    "    (X_train_wide, X_train_deep), (y_train, y_train), epochs=10,\n",
    "    validation_data=((X_valid_wide, X_valid_deep), (y_valid, y_valid)),\n",
    "    callbacks=[checkpoint_cb])"
   ]
  },
  {
   "cell_type": "code",
   "execution_count": 89,
   "metadata": {
    "id": "n2yW54HW_0Ii",
    "outputId": "f4529e23-304a-49af-80e9-1b5faecbe57e"
   },
   "outputs": [
    {
     "name": "stdout",
     "output_type": "stream",
     "text": [
      "Epoch 1/100\n",
      "363/363 [==============================] - 1s 3ms/step - loss: 0.3267 - output_1_loss: 0.3204 - output_2_loss: 0.3834 - output_1_root_mean_squared_error: 0.5660 - output_2_root_mean_squared_error: 0.6192 - val_loss: 0.3164 - val_output_1_loss: 0.3073 - val_output_2_loss: 0.3983 - val_output_1_root_mean_squared_error: 0.5544 - val_output_2_root_mean_squared_error: 0.6311\n",
      "Epoch 2/100\n",
      "363/363 [==============================] - 1s 3ms/step - loss: 0.3282 - output_1_loss: 0.3219 - output_2_loss: 0.3851 - output_1_root_mean_squared_error: 0.5674 - output_2_root_mean_squared_error: 0.6206 - val_loss: 0.4716 - val_output_1_loss: 0.4777 - val_output_2_loss: 0.4165 - val_output_1_root_mean_squared_error: 0.6912 - val_output_2_root_mean_squared_error: 0.6454\n",
      "Epoch 3/100\n",
      "363/363 [==============================] - 1s 3ms/step - loss: 0.3218 - output_1_loss: 0.3157 - output_2_loss: 0.3767 - output_1_root_mean_squared_error: 0.5618 - output_2_root_mean_squared_error: 0.6138 - val_loss: 0.3093 - val_output_1_loss: 0.3025 - val_output_2_loss: 0.3704 - val_output_1_root_mean_squared_error: 0.5500 - val_output_2_root_mean_squared_error: 0.6086\n",
      "Epoch 4/100\n",
      "363/363 [==============================] - 1s 3ms/step - loss: 0.3253 - output_1_loss: 0.3191 - output_2_loss: 0.3814 - output_1_root_mean_squared_error: 0.5649 - output_2_root_mean_squared_error: 0.6175 - val_loss: 0.3264 - val_output_1_loss: 0.3188 - val_output_2_loss: 0.3949 - val_output_1_root_mean_squared_error: 0.5646 - val_output_2_root_mean_squared_error: 0.6284\n",
      "Epoch 5/100\n",
      "363/363 [==============================] - 1s 3ms/step - loss: 0.3286 - output_1_loss: 0.3228 - output_2_loss: 0.3811 - output_1_root_mean_squared_error: 0.5681 - output_2_root_mean_squared_error: 0.6174 - val_loss: 0.3145 - val_output_1_loss: 0.3089 - val_output_2_loss: 0.3649 - val_output_1_root_mean_squared_error: 0.5558 - val_output_2_root_mean_squared_error: 0.6041\n",
      "Epoch 6/100\n",
      "363/363 [==============================] - 1s 3ms/step - loss: 0.3192 - output_1_loss: 0.3134 - output_2_loss: 0.3713 - output_1_root_mean_squared_error: 0.5598 - output_2_root_mean_squared_error: 0.6093 - val_loss: 0.5303 - val_output_1_loss: 0.5258 - val_output_2_loss: 0.5699 - val_output_1_root_mean_squared_error: 0.7251 - val_output_2_root_mean_squared_error: 0.7549\n",
      "Epoch 7/100\n",
      "363/363 [==============================] - 1s 3ms/step - loss: 0.3210 - output_1_loss: 0.3153 - output_2_loss: 0.3730 - output_1_root_mean_squared_error: 0.5615 - output_2_root_mean_squared_error: 0.6107 - val_loss: 0.6209 - val_output_1_loss: 0.6385 - val_output_2_loss: 0.4622 - val_output_1_root_mean_squared_error: 0.7991 - val_output_2_root_mean_squared_error: 0.6799\n",
      "Epoch 8/100\n",
      "363/363 [==============================] - 1s 3ms/step - loss: 0.3192 - output_1_loss: 0.3136 - output_2_loss: 0.3698 - output_1_root_mean_squared_error: 0.5600 - output_2_root_mean_squared_error: 0.6081 - val_loss: 5.2812 - val_output_1_loss: 5.4442 - val_output_2_loss: 3.8144 - val_output_1_root_mean_squared_error: 2.3333 - val_output_2_root_mean_squared_error: 1.9531\n",
      "Epoch 9/100\n",
      "363/363 [==============================] - 1s 3ms/step - loss: 0.3281 - output_1_loss: 0.3229 - output_2_loss: 0.3745 - output_1_root_mean_squared_error: 0.5683 - output_2_root_mean_squared_error: 0.6120 - val_loss: 1.4585 - val_output_1_loss: 1.5420 - val_output_2_loss: 0.7071 - val_output_1_root_mean_squared_error: 1.2418 - val_output_2_root_mean_squared_error: 0.8409\n",
      "Epoch 10/100\n",
      "363/363 [==============================] - 1s 3ms/step - loss: 0.3269 - output_1_loss: 0.3219 - output_2_loss: 0.3716 - output_1_root_mean_squared_error: 0.5674 - output_2_root_mean_squared_error: 0.6096 - val_loss: 0.3913 - val_output_1_loss: 0.3896 - val_output_2_loss: 0.4063 - val_output_1_root_mean_squared_error: 0.6242 - val_output_2_root_mean_squared_error: 0.6374\n",
      "Epoch 11/100\n",
      "363/363 [==============================] - 1s 3ms/step - loss: 0.3140 - output_1_loss: 0.3084 - output_2_loss: 0.3647 - output_1_root_mean_squared_error: 0.5553 - output_2_root_mean_squared_error: 0.6039 - val_loss: 0.3020 - val_output_1_loss: 0.2951 - val_output_2_loss: 0.3641 - val_output_1_root_mean_squared_error: 0.5433 - val_output_2_root_mean_squared_error: 0.6034\n",
      "Epoch 12/100\n",
      "363/363 [==============================] - 1s 3ms/step - loss: 0.3137 - output_1_loss: 0.3080 - output_2_loss: 0.3647 - output_1_root_mean_squared_error: 0.5550 - output_2_root_mean_squared_error: 0.6039 - val_loss: 0.3367 - val_output_1_loss: 0.3284 - val_output_2_loss: 0.4120 - val_output_1_root_mean_squared_error: 0.5730 - val_output_2_root_mean_squared_error: 0.6419\n",
      "Epoch 13/100\n",
      "363/363 [==============================] - 1s 2ms/step - loss: 0.3119 - output_1_loss: 0.3062 - output_2_loss: 0.3630 - output_1_root_mean_squared_error: 0.5533 - output_2_root_mean_squared_error: 0.6025 - val_loss: 0.3106 - val_output_1_loss: 0.3055 - val_output_2_loss: 0.3563 - val_output_1_root_mean_squared_error: 0.5527 - val_output_2_root_mean_squared_error: 0.5969\n",
      "Epoch 14/100\n",
      "363/363 [==============================] - 1s 2ms/step - loss: 0.3116 - output_1_loss: 0.3060 - output_2_loss: 0.3616 - output_1_root_mean_squared_error: 0.5532 - output_2_root_mean_squared_error: 0.6013 - val_loss: 0.3331 - val_output_1_loss: 0.3250 - val_output_2_loss: 0.4061 - val_output_1_root_mean_squared_error: 0.5701 - val_output_2_root_mean_squared_error: 0.6372\n",
      "Epoch 15/100\n",
      "363/363 [==============================] - 1s 2ms/step - loss: 0.3107 - output_1_loss: 0.3052 - output_2_loss: 0.3602 - output_1_root_mean_squared_error: 0.5525 - output_2_root_mean_squared_error: 0.6002 - val_loss: 0.3002 - val_output_1_loss: 0.2936 - val_output_2_loss: 0.3599 - val_output_1_root_mean_squared_error: 0.5419 - val_output_2_root_mean_squared_error: 0.5999\n",
      "Epoch 16/100\n",
      "363/363 [==============================] - 1s 3ms/step - loss: 0.3091 - output_1_loss: 0.3036 - output_2_loss: 0.3583 - output_1_root_mean_squared_error: 0.5510 - output_2_root_mean_squared_error: 0.5986 - val_loss: 0.3896 - val_output_1_loss: 0.3912 - val_output_2_loss: 0.3750 - val_output_1_root_mean_squared_error: 0.6254 - val_output_2_root_mean_squared_error: 0.6124\n",
      "Epoch 17/100\n",
      "363/363 [==============================] - 1s 2ms/step - loss: 0.3107 - output_1_loss: 0.3053 - output_2_loss: 0.3589 - output_1_root_mean_squared_error: 0.5525 - output_2_root_mean_squared_error: 0.5991 - val_loss: 0.7875 - val_output_1_loss: 0.7865 - val_output_2_loss: 0.7965 - val_output_1_root_mean_squared_error: 0.8869 - val_output_2_root_mean_squared_error: 0.8925\n",
      "Epoch 18/100\n",
      "363/363 [==============================] - 1s 2ms/step - loss: 0.3100 - output_1_loss: 0.3045 - output_2_loss: 0.3593 - output_1_root_mean_squared_error: 0.5518 - output_2_root_mean_squared_error: 0.5994 - val_loss: 0.4615 - val_output_1_loss: 0.4699 - val_output_2_loss: 0.3866 - val_output_1_root_mean_squared_error: 0.6855 - val_output_2_root_mean_squared_error: 0.6218\n",
      "Epoch 19/100\n",
      "363/363 [==============================] - 1s 3ms/step - loss: 0.3103 - output_1_loss: 0.3052 - output_2_loss: 0.3564 - output_1_root_mean_squared_error: 0.5524 - output_2_root_mean_squared_error: 0.5970 - val_loss: 1.3222 - val_output_1_loss: 1.3495 - val_output_2_loss: 1.0765 - val_output_1_root_mean_squared_error: 1.1617 - val_output_2_root_mean_squared_error: 1.0375\n",
      "Epoch 20/100\n",
      "363/363 [==============================] - 1s 2ms/step - loss: 0.3176 - output_1_loss: 0.3125 - output_2_loss: 0.3631 - output_1_root_mean_squared_error: 0.5590 - output_2_root_mean_squared_error: 0.6026 - val_loss: 0.6926 - val_output_1_loss: 0.7045 - val_output_2_loss: 0.5861 - val_output_1_root_mean_squared_error: 0.8393 - val_output_2_root_mean_squared_error: 0.7656\n",
      "Epoch 21/100\n",
      "363/363 [==============================] - 1s 2ms/step - loss: 0.3095 - output_1_loss: 0.3043 - output_2_loss: 0.3567 - output_1_root_mean_squared_error: 0.5516 - output_2_root_mean_squared_error: 0.5972 - val_loss: 0.9362 - val_output_1_loss: 0.8732 - val_output_2_loss: 1.5038 - val_output_1_root_mean_squared_error: 0.9344 - val_output_2_root_mean_squared_error: 1.2263\n",
      "Epoch 22/100\n",
      "363/363 [==============================] - 1s 2ms/step - loss: 0.3110 - output_1_loss: 0.3055 - output_2_loss: 0.3603 - output_1_root_mean_squared_error: 0.5527 - output_2_root_mean_squared_error: 0.6002 - val_loss: 0.4499 - val_output_1_loss: 0.4519 - val_output_2_loss: 0.4320 - val_output_1_root_mean_squared_error: 0.6722 - val_output_2_root_mean_squared_error: 0.6573\n",
      "Epoch 23/100\n",
      "363/363 [==============================] - 1s 2ms/step - loss: 0.3026 - output_1_loss: 0.2974 - output_2_loss: 0.3491 - output_1_root_mean_squared_error: 0.5453 - output_2_root_mean_squared_error: 0.5909 - val_loss: 0.3040 - val_output_1_loss: 0.2952 - val_output_2_loss: 0.3837 - val_output_1_root_mean_squared_error: 0.5433 - val_output_2_root_mean_squared_error: 0.6194\n",
      "Epoch 24/100\n",
      "363/363 [==============================] - 1s 2ms/step - loss: 0.3048 - output_1_loss: 0.2997 - output_2_loss: 0.3508 - output_1_root_mean_squared_error: 0.5475 - output_2_root_mean_squared_error: 0.5923 - val_loss: 0.5693 - val_output_1_loss: 0.5733 - val_output_2_loss: 0.5333 - val_output_1_root_mean_squared_error: 0.7572 - val_output_2_root_mean_squared_error: 0.7303\n",
      "Epoch 25/100\n",
      "363/363 [==============================] - 1s 2ms/step - loss: 0.3043 - output_1_loss: 0.2992 - output_2_loss: 0.3503 - output_1_root_mean_squared_error: 0.5470 - output_2_root_mean_squared_error: 0.5919 - val_loss: 0.7010 - val_output_1_loss: 0.6806 - val_output_2_loss: 0.8846 - val_output_1_root_mean_squared_error: 0.8250 - val_output_2_root_mean_squared_error: 0.9405\n"
     ]
    }
   ],
   "source": [
    "early_stopping_cb = tf.keras.callbacks.EarlyStopping(patience=10,\n",
    "                                                     restore_best_weights=True)\n",
    "history = model.fit(\n",
    "    (X_train_wide, X_train_deep), (y_train, y_train), epochs=100,\n",
    "    validation_data=((X_valid_wide, X_valid_deep), (y_valid, y_valid)),\n",
    "    callbacks=[checkpoint_cb, early_stopping_cb])"
   ]
  },
  {
   "cell_type": "code",
   "execution_count": 90,
   "metadata": {
    "id": "T3EDFpez_0Ij"
   },
   "outputs": [],
   "source": [
    "class PrintValTrainRatioCallback(tf.keras.callbacks.Callback):\n",
    "    def on_epoch_end(self, epoch, logs):\n",
    "        ratio = logs[\"val_loss\"] / logs[\"loss\"]\n",
    "        print(f\"Epoch={epoch}, val/train={ratio:.2f}\")"
   ]
  },
  {
   "cell_type": "code",
   "execution_count": 91,
   "metadata": {
    "id": "0TVKr16P_0Ij",
    "outputId": "c7e8e0b1-685e-4238-e0e1-0c1c99b9ad0b"
   },
   "outputs": [
    {
     "name": "stdout",
     "output_type": "stream",
     "text": [
      "Epoch=0, val/train=1.02\n",
      "Epoch=1, val/train=1.61\n",
      "Epoch=2, val/train=1.08\n",
      "Epoch=3, val/train=1.26\n",
      "Epoch=4, val/train=2.65\n",
      "Epoch=5, val/train=2.58\n",
      "Epoch=6, val/train=1.21\n",
      "Epoch=7, val/train=1.44\n",
      "Epoch=8, val/train=1.05\n",
      "Epoch=9, val/train=1.32\n"
     ]
    }
   ],
   "source": [
    "val_train_ratio_cb = PrintValTrainRatioCallback()\n",
    "history = model.fit(\n",
    "    (X_train_wide, X_train_deep), (y_train, y_train), epochs=10,\n",
    "    validation_data=((X_valid_wide, X_valid_deep), (y_valid, y_valid)),\n",
    "    callbacks=[val_train_ratio_cb], verbose=0)"
   ]
  },
  {
   "cell_type": "markdown",
   "metadata": {
    "id": "0gikaA7j_0Ij"
   },
   "source": [
    "## Using TensorBoard for Visualization"
   ]
  },
  {
   "cell_type": "markdown",
   "metadata": {
    "id": "k-nxBQl8_0Ij"
   },
   "source": [
    "TensorBoard is preinstalled on Colab, but not the `tensorboard-plugin-profile`, so let's install it:"
   ]
  },
  {
   "cell_type": "code",
   "execution_count": 96,
   "metadata": {},
   "outputs": [
    {
     "name": "stdout",
     "output_type": "stream",
     "text": [
      "Note: you may need to restart the kernel to use updated packages.\n"
     ]
    }
   ],
   "source": [
    "%pip install -q -U tensorboard-plugin-profile"
   ]
  },
  {
   "cell_type": "code",
   "execution_count": 97,
   "metadata": {
    "id": "mWdXn0Ne_0Ij"
   },
   "outputs": [],
   "source": [
    "if \"google.colab\" in sys.modules:  # extra code\n",
    "    %pip install -q -U tensorboard-plugin-profile"
   ]
  },
  {
   "cell_type": "code",
   "execution_count": 98,
   "metadata": {
    "id": "VRI_ttPn_0Ij",
    "tags": []
   },
   "outputs": [],
   "source": [
    "shutil.rmtree(\"my_logs\", ignore_errors=True)"
   ]
  },
  {
   "cell_type": "code",
   "execution_count": 106,
   "metadata": {
    "id": "BB0TBK12_0Ik"
   },
   "outputs": [],
   "source": [
    "from pathlib import Path\n",
    "from time import strftime\n",
    "\n",
    "def get_run_logdir(root_logdir=\"my_logs\"):\n",
    "    return Path(root_logdir) / strftime(\"run_%Y_%m_%d_%H_%M_%S\")\n",
    "\n",
    "run_logdir = get_run_logdir()"
   ]
  },
  {
   "cell_type": "code",
   "execution_count": 107,
   "metadata": {},
   "outputs": [
    {
     "data": {
      "text/plain": [
       "WindowsPath('my_logs/run_2024_03_08_17_15_13')"
      ]
     },
     "execution_count": 107,
     "metadata": {},
     "output_type": "execute_result"
    }
   ],
   "source": [
    "run_logdir"
   ]
  },
  {
   "cell_type": "code",
   "execution_count": 108,
   "metadata": {
    "id": "8JB4nkrw_0Ik"
   },
   "outputs": [],
   "source": [
    "# extra code – builds the first regression model we used earlier\n",
    "tf.keras.backend.clear_session()\n",
    "tf.random.set_seed(42)\n",
    "norm_layer = tf.keras.layers.Normalization(input_shape=X_train.shape[1:])\n",
    "model = tf.keras.Sequential([\n",
    "    norm_layer,\n",
    "    tf.keras.layers.Dense(30, activation=\"relu\"),\n",
    "    tf.keras.layers.Dense(30, activation=\"relu\"),\n",
    "    tf.keras.layers.Dense(1)\n",
    "])\n",
    "optimizer = tf.keras.optimizers.SGD(learning_rate=2e-3)\n",
    "model.compile(loss=\"mse\", optimizer=optimizer, metrics=[\"RootMeanSquaredError\"])\n",
    "norm_layer.adapt(X_train)"
   ]
  },
  {
   "cell_type": "code",
   "execution_count": 109,
   "metadata": {
    "id": "VHRJUGSc_0Ik",
    "outputId": "bc49bb4f-015d-43b6-d4f7-fcf937d247ed"
   },
   "outputs": [
    {
     "name": "stdout",
     "output_type": "stream",
     "text": [
      "Epoch 1/20\n",
      "363/363 [==============================] - 1s 3ms/step - loss: 1.3781 - root_mean_squared_error: 1.1739 - val_loss: 1.7639 - val_root_mean_squared_error: 1.3281\n",
      "Epoch 2/20\n",
      "363/363 [==============================] - 1s 2ms/step - loss: 0.6745 - root_mean_squared_error: 0.8213 - val_loss: 1.6513 - val_root_mean_squared_error: 1.2850\n",
      "Epoch 3/20\n",
      "363/363 [==============================] - 1s 2ms/step - loss: 0.5834 - root_mean_squared_error: 0.7638 - val_loss: 0.5277 - val_root_mean_squared_error: 0.7264\n",
      "Epoch 4/20\n",
      "363/363 [==============================] - 1s 2ms/step - loss: 0.5210 - root_mean_squared_error: 0.7218 - val_loss: 0.6261 - val_root_mean_squared_error: 0.7912\n",
      "Epoch 5/20\n",
      "363/363 [==============================] - 1s 2ms/step - loss: 0.4860 - root_mean_squared_error: 0.6972 - val_loss: 0.4378 - val_root_mean_squared_error: 0.6616\n",
      "Epoch 6/20\n",
      "363/363 [==============================] - 1s 2ms/step - loss: 0.4618 - root_mean_squared_error: 0.6796 - val_loss: 0.6016 - val_root_mean_squared_error: 0.7756\n",
      "Epoch 7/20\n",
      "363/363 [==============================] - 1s 2ms/step - loss: 0.4481 - root_mean_squared_error: 0.6694 - val_loss: 0.4392 - val_root_mean_squared_error: 0.6628\n",
      "Epoch 8/20\n",
      "363/363 [==============================] - 1s 2ms/step - loss: 0.4360 - root_mean_squared_error: 0.6603 - val_loss: 0.4072 - val_root_mean_squared_error: 0.6381\n",
      "Epoch 9/20\n",
      "363/363 [==============================] - 1s 2ms/step - loss: 0.4272 - root_mean_squared_error: 0.6536 - val_loss: 0.4084 - val_root_mean_squared_error: 0.6390\n",
      "Epoch 10/20\n",
      "363/363 [==============================] - 1s 2ms/step - loss: 0.4198 - root_mean_squared_error: 0.6479 - val_loss: 0.5186 - val_root_mean_squared_error: 0.7201\n",
      "Epoch 11/20\n",
      "363/363 [==============================] - 1s 2ms/step - loss: 0.4159 - root_mean_squared_error: 0.6449 - val_loss: 0.4113 - val_root_mean_squared_error: 0.6413\n",
      "Epoch 12/20\n",
      "363/363 [==============================] - 1s 2ms/step - loss: 0.4093 - root_mean_squared_error: 0.6398 - val_loss: 0.7568 - val_root_mean_squared_error: 0.8700\n",
      "Epoch 13/20\n",
      "363/363 [==============================] - 1s 2ms/step - loss: 0.4089 - root_mean_squared_error: 0.6395 - val_loss: 0.3785 - val_root_mean_squared_error: 0.6152\n",
      "Epoch 14/20\n",
      "363/363 [==============================] - 1s 2ms/step - loss: 0.4011 - root_mean_squared_error: 0.6333 - val_loss: 0.3819 - val_root_mean_squared_error: 0.6180\n",
      "Epoch 15/20\n",
      "363/363 [==============================] - 1s 2ms/step - loss: 0.3976 - root_mean_squared_error: 0.6305 - val_loss: 0.3675 - val_root_mean_squared_error: 0.6062\n",
      "Epoch 16/20\n",
      "363/363 [==============================] - 1s 2ms/step - loss: 0.3940 - root_mean_squared_error: 0.6277 - val_loss: 0.3637 - val_root_mean_squared_error: 0.6031\n",
      "Epoch 17/20\n",
      "363/363 [==============================] - 1s 2ms/step - loss: 0.3905 - root_mean_squared_error: 0.6249 - val_loss: 0.4787 - val_root_mean_squared_error: 0.6919\n",
      "Epoch 18/20\n",
      "363/363 [==============================] - 1s 2ms/step - loss: 0.3888 - root_mean_squared_error: 0.6235 - val_loss: 0.3726 - val_root_mean_squared_error: 0.6104\n",
      "Epoch 19/20\n",
      "363/363 [==============================] - 1s 2ms/step - loss: 0.3847 - root_mean_squared_error: 0.6203 - val_loss: 0.3622 - val_root_mean_squared_error: 0.6018\n",
      "Epoch 20/20\n",
      "363/363 [==============================] - 1s 2ms/step - loss: 0.3828 - root_mean_squared_error: 0.6187 - val_loss: 0.5491 - val_root_mean_squared_error: 0.7410\n"
     ]
    }
   ],
   "source": [
    "tensorboard_cb = tf.keras.callbacks.TensorBoard(run_logdir,\n",
    "                                                profile_batch=(100, 200))\n",
    "history = model.fit(X_train, y_train, epochs=20,\n",
    "                    validation_data=(X_valid, y_valid),\n",
    "                    callbacks=[tensorboard_cb])"
   ]
  },
  {
   "cell_type": "code",
   "execution_count": 110,
   "metadata": {
    "id": "2XyZP_OA_0Ik",
    "outputId": "0b46d7f4-18b7-4609-c756-53a8a7e20f33"
   },
   "outputs": [
    {
     "name": "stdout",
     "output_type": "stream",
     "text": [
      "my_logs\n",
      "  run_2024_03_08_16_56_30\n",
      "    plugins\n",
      "      profile\n",
      "        2024_03_09_00_56_34\n",
      "          PATLAPTOP.xplane.pb\n",
      "    train\n",
      "      events.out.tfevents.1709945793.PATLAPTOP.21344.0.v2\n",
      "    validation\n",
      "      events.out.tfevents.1709945795.PATLAPTOP.21344.1.v2\n",
      "  run_2024_03_08_17_15_13\n",
      "    plugins\n",
      "      profile\n",
      "        2024_03_09_01_15_18\n",
      "          PATLAPTOP.xplane.pb\n",
      "    train\n",
      "      events.out.tfevents.1709946917.PATLAPTOP.21344.2.v2\n",
      "    validation\n",
      "      events.out.tfevents.1709946918.PATLAPTOP.21344.3.v2\n"
     ]
    }
   ],
   "source": [
    "print(\"my_logs\")\n",
    "for path in sorted(Path(\"my_logs\").glob(\"**/*\")):\n",
    "    print(\"  \" * (len(path.parts) - 1) + path.parts[-1])"
   ]
  },
  {
   "cell_type": "markdown",
   "metadata": {
    "id": "B_k0SVtR_0Ik"
   },
   "source": [
    "Let's load the `tensorboard` Jupyter extension and start the TensorBoard server:"
   ]
  },
  {
   "cell_type": "code",
   "execution_count": 103,
   "metadata": {
    "id": "Oj9D9RMD_0Ik",
    "outputId": "3cdf6dbb-7e68-41f7-8db5-58cfa4cc50b5"
   },
   "outputs": [
    {
     "data": {
      "text/html": [
       "\n",
       "      <iframe id=\"tensorboard-frame-10155013aec11939\" width=\"100%\" height=\"800\" frameborder=\"0\">\n",
       "      </iframe>\n",
       "      <script>\n",
       "        (function() {\n",
       "          const frame = document.getElementById(\"tensorboard-frame-10155013aec11939\");\n",
       "          const url = new URL(\"/\", window.location);\n",
       "          const port = 6006;\n",
       "          if (port) {\n",
       "            url.port = port;\n",
       "          }\n",
       "          frame.src = url;\n",
       "        })();\n",
       "      </script>\n",
       "    "
      ],
      "text/plain": [
       "<IPython.core.display.HTML object>"
      ]
     },
     "metadata": {},
     "output_type": "display_data"
    }
   ],
   "source": [
    "%load_ext tensorboard\n",
    "%tensorboard --logdir=./my_logs"
   ]
  },
  {
   "cell_type": "code",
   "execution_count": null,
   "metadata": {},
   "outputs": [],
   "source": []
  },
  {
   "cell_type": "markdown",
   "metadata": {
    "id": "sFfxa-r8_0Il"
   },
   "source": [
    "**Note**: if you prefer to access TensorBoard in a separate tab, click the \"localhost:6006\" link below:"
   ]
  },
  {
   "cell_type": "code",
   "execution_count": 111,
   "metadata": {
    "id": "LhDD_2J9_0Il",
    "outputId": "a01c7d99-6ab1-4697-924f-e38b9b8f6867"
   },
   "outputs": [
    {
     "data": {
      "text/html": [
       "<a href=\"http://localhost:6006/\">http://localhost:6006/</a>"
      ],
      "text/plain": [
       "<IPython.core.display.HTML object>"
      ]
     },
     "metadata": {},
     "output_type": "display_data"
    }
   ],
   "source": [
    "# extra code\n",
    "\n",
    "if \"google.colab\" in sys.modules:\n",
    "    from google.colab import output\n",
    "\n",
    "    output.serve_kernel_port_as_window(6006)\n",
    "else:\n",
    "    from IPython.display import display, HTML\n",
    "\n",
    "    display(HTML('<a href=\"http://localhost:6006/\">http://localhost:6006/</a>'))"
   ]
  },
  {
   "cell_type": "markdown",
   "metadata": {
    "id": "126UjaNH_0Il"
   },
   "source": [
    "You can use also visualize histograms, images, text, and even listen to audio using TensorBoard:"
   ]
  },
  {
   "cell_type": "code",
   "execution_count": 112,
   "metadata": {
    "id": "6l-hAe_F_0Il"
   },
   "outputs": [],
   "source": [
    "test_logdir = get_run_logdir()\n",
    "writer = tf.summary.create_file_writer(str(test_logdir))\n",
    "with writer.as_default():\n",
    "    for step in range(1, 1000 + 1):\n",
    "        tf.summary.scalar(\"my_scalar\", np.sin(step / 10), step=step)\n",
    "\n",
    "        data = (np.random.randn(100) + 2) * step / 100  # gets larger\n",
    "        tf.summary.histogram(\"my_hist\", data, buckets=50, step=step)\n",
    "\n",
    "        images = np.random.rand(2, 32, 32, 3) * step / 1000  # gets brighter\n",
    "        tf.summary.image(\"my_images\", images, step=step)\n",
    "\n",
    "        texts = [\"The step is \" + str(step), \"Its square is \" + str(step ** 2)]\n",
    "        tf.summary.text(\"my_text\", texts, step=step)\n",
    "\n",
    "        sine_wave = tf.math.sin(tf.range(12000) / 48000 * 2 * np.pi * step)\n",
    "        audio = tf.reshape(tf.cast(sine_wave, tf.float32), [1, -1, 1])\n",
    "        tf.summary.audio(\"my_audio\", audio, sample_rate=48000, step=step)"
   ]
  },
  {
   "cell_type": "markdown",
   "metadata": {
    "id": "qRlZniwI_0Im"
   },
   "source": [
    "**Note**: it used to be possible to easily share your TensorBoard logs with the world by uploading them to https://tensorboard.dev/. Sadly, this service will shut down in December 2023, so I have removed the corresponding code examples from this notebook."
   ]
  },
  {
   "cell_type": "markdown",
   "metadata": {
    "id": "jLLzLZvv_0Im"
   },
   "source": [
    "When you stop this Jupyter kernel (a.k.a. Runtime), it will automatically stop the TensorBoard server as well. Another way to stop the TensorBoard server is to kill it, if you are running on Linux or MacOSX. First, you need to find its process ID:"
   ]
  },
  {
   "cell_type": "code",
   "execution_count": 113,
   "metadata": {
    "id": "Gw08ZxNE_0Im",
    "outputId": "094b4bdc-640d-4cde-9b0f-eb8440f019dd"
   },
   "outputs": [
    {
     "name": "stdout",
     "output_type": "stream",
     "text": [
      "Known TensorBoard instances:\n",
      "  - port 6006: logdir ./my_logs (started 0:22:05 ago; pid 3636)\n"
     ]
    }
   ],
   "source": [
    "# extra code – lists all running TensorBoard server instances\n",
    "\n",
    "from tensorboard import notebook\n",
    "\n",
    "notebook.list()"
   ]
  },
  {
   "cell_type": "markdown",
   "metadata": {
    "id": "OoZ68byn_0Im"
   },
   "source": [
    "Next you can use the following command on Linux or MacOSX, replacing `<pid>` with the pid listed above:\n",
    "\n",
    "    !kill <pid>\n",
    "\n",
    "On Windows:\n",
    "\n",
    "    !taskkill /F /PID <pid>"
   ]
  },
  {
   "cell_type": "code",
   "execution_count": 114,
   "metadata": {},
   "outputs": [
    {
     "name": "stdout",
     "output_type": "stream",
     "text": [
      "SUCCESS: The process with PID 3636 has been terminated.\n"
     ]
    }
   ],
   "source": [
    "!taskkill /F /PID 3636"
   ]
  },
  {
   "cell_type": "markdown",
   "metadata": {
    "id": "15XTraE7_0In"
   },
   "source": [
    "# Fine-Tuning Neural Network Hyperparameters"
   ]
  },
  {
   "cell_type": "markdown",
   "metadata": {
    "id": "kY2ATEAm_0In"
   },
   "source": [
    "In this section we'll use the Fashion MNIST dataset again:"
   ]
  },
  {
   "cell_type": "code",
   "execution_count": 115,
   "metadata": {
    "id": "ufTZ1the_0In"
   },
   "outputs": [],
   "source": [
    "(X_train_full, y_train_full), (X_test, y_test) = fashion_mnist\n",
    "X_train, y_train = X_train_full[:-5000], y_train_full[:-5000]\n",
    "X_valid, y_valid = X_train_full[-5000:], y_train_full[-5000:]"
   ]
  },
  {
   "cell_type": "code",
   "execution_count": 116,
   "metadata": {
    "id": "oplmDcvg_0In"
   },
   "outputs": [],
   "source": [
    "tf.keras.backend.clear_session()\n",
    "tf.random.set_seed(42)"
   ]
  },
  {
   "cell_type": "code",
   "execution_count": 117,
   "metadata": {
    "id": "S0_kXAb7_0In"
   },
   "outputs": [],
   "source": [
    "if \"google.colab\" in sys.modules:\n",
    "    %pip install -q -U keras_tuner"
   ]
  },
  {
   "cell_type": "code",
   "execution_count": 119,
   "metadata": {},
   "outputs": [
    {
     "name": "stdout",
     "output_type": "stream",
     "text": [
      "Note: you may need to restart the kernel to use updated packages.\n"
     ]
    }
   ],
   "source": [
    "# install Keras_tuner\n",
    "%pip install -q -U keras_tuner"
   ]
  },
  {
   "cell_type": "code",
   "execution_count": 120,
   "metadata": {
    "id": "u6YeA1m3_0In"
   },
   "outputs": [],
   "source": [
    "import keras_tuner as kt\n",
    "\n",
    "def build_model(hp):\n",
    "    n_hidden = hp.Int(\"n_hidden\", min_value=0, max_value=8, default=2)\n",
    "    n_neurons = hp.Int(\"n_neurons\", min_value=16, max_value=256)\n",
    "    learning_rate = hp.Float(\"learning_rate\", min_value=1e-4, max_value=1e-2,\n",
    "                             sampling=\"log\")\n",
    "    optimizer = hp.Choice(\"optimizer\", values=[\"sgd\", \"adam\"])\n",
    "    if optimizer == \"sgd\":\n",
    "        optimizer = tf.keras.optimizers.SGD(learning_rate=learning_rate)\n",
    "    else:\n",
    "        optimizer = tf.keras.optimizers.Adam(learning_rate=learning_rate)\n",
    "\n",
    "    model = tf.keras.Sequential()\n",
    "    model.add(tf.keras.layers.Flatten())\n",
    "    for _ in range(n_hidden):\n",
    "        model.add(tf.keras.layers.Dense(n_neurons, activation=\"relu\"))\n",
    "    model.add(tf.keras.layers.Dense(10, activation=\"softmax\"))\n",
    "    model.compile(loss=\"sparse_categorical_crossentropy\", optimizer=optimizer,\n",
    "                  metrics=[\"accuracy\"])\n",
    "    return model"
   ]
  },
  {
   "cell_type": "code",
   "execution_count": 121,
   "metadata": {
    "id": "h7XW0NRf_0Io",
    "outputId": "59925c64-1d6d-4e2e-8db3-ee9878d2e5d9"
   },
   "outputs": [
    {
     "name": "stdout",
     "output_type": "stream",
     "text": [
      "Trial 5 Complete [00h 00m 44s]\n",
      "val_accuracy: 0.8361999988555908\n",
      "\n",
      "Best val_accuracy So Far: 0.8623999953269958\n",
      "Total elapsed time: 00h 03m 40s\n"
     ]
    }
   ],
   "source": [
    "random_search_tuner = kt.RandomSearch(\n",
    "    build_model, objective=\"val_accuracy\", max_trials=5, overwrite=True,\n",
    "    directory=\"my_fashion_mnist\", project_name=\"my_rnd_search\", seed=42)\n",
    "random_search_tuner.search(X_train, y_train, epochs=10,\n",
    "                           validation_data=(X_valid, y_valid))"
   ]
  },
  {
   "cell_type": "code",
   "execution_count": 122,
   "metadata": {
    "id": "EOU5YkmO_0Io"
   },
   "outputs": [],
   "source": [
    "top3_models = random_search_tuner.get_best_models(num_models=3)\n",
    "best_model = top3_models[0]"
   ]
  },
  {
   "cell_type": "code",
   "execution_count": 123,
   "metadata": {
    "id": "9WP9x6XO_0Io",
    "outputId": "82dc110f-7841-4b2a-b4bd-288f368e8ab1"
   },
   "outputs": [
    {
     "data": {
      "text/plain": [
       "{'n_hidden': 8,\n",
       " 'n_neurons': 37,\n",
       " 'learning_rate': 0.008547485565344062,\n",
       " 'optimizer': 'sgd'}"
      ]
     },
     "execution_count": 123,
     "metadata": {},
     "output_type": "execute_result"
    }
   ],
   "source": [
    "top3_params = random_search_tuner.get_best_hyperparameters(num_trials=3)\n",
    "top3_params[0].values  # best hyperparameter values"
   ]
  },
  {
   "cell_type": "code",
   "execution_count": 124,
   "metadata": {
    "id": "4mAN-bIt_0Io",
    "outputId": "ef03a16a-a4b7-4e39-e6ae-e484e9a3b6c4"
   },
   "outputs": [
    {
     "name": "stdout",
     "output_type": "stream",
     "text": [
      "Trial 3 summary\n",
      "Hyperparameters:\n",
      "n_hidden: 8\n",
      "n_neurons: 37\n",
      "learning_rate: 0.008547485565344062\n",
      "optimizer: sgd\n",
      "Score: 0.8623999953269958\n"
     ]
    }
   ],
   "source": [
    "best_trial = random_search_tuner.oracle.get_best_trials(num_trials=1)[0]\n",
    "best_trial.summary()"
   ]
  },
  {
   "cell_type": "code",
   "execution_count": 125,
   "metadata": {
    "id": "XMdfeHVf_0Ip",
    "outputId": "bebc3fdf-6fac-4773-d697-86a6ce1152e4"
   },
   "outputs": [
    {
     "data": {
      "text/plain": [
       "0.8623999953269958"
      ]
     },
     "execution_count": 125,
     "metadata": {},
     "output_type": "execute_result"
    }
   ],
   "source": [
    "best_trial.metrics.get_last_value(\"val_accuracy\")"
   ]
  },
  {
   "cell_type": "code",
   "execution_count": 126,
   "metadata": {
    "id": "yVjl5VoA_0Ip",
    "outputId": "82904277-0950-4bc5-c533-cb9d14adfdd0"
   },
   "outputs": [
    {
     "name": "stdout",
     "output_type": "stream",
     "text": [
      "Epoch 1/10\n",
      "1875/1875 [==============================] - 5s 2ms/step - loss: 0.3766 - accuracy: 0.8638\n",
      "Epoch 2/10\n",
      "1875/1875 [==============================] - 4s 2ms/step - loss: 0.3710 - accuracy: 0.8661\n",
      "Epoch 3/10\n",
      "1875/1875 [==============================] - 4s 2ms/step - loss: 0.3618 - accuracy: 0.8682\n",
      "Epoch 4/10\n",
      "1875/1875 [==============================] - 4s 2ms/step - loss: 0.3530 - accuracy: 0.8720\n",
      "Epoch 5/10\n",
      "1875/1875 [==============================] - 4s 2ms/step - loss: 0.3507 - accuracy: 0.8720\n",
      "Epoch 6/10\n",
      "1875/1875 [==============================] - 4s 2ms/step - loss: 0.3442 - accuracy: 0.8734\n",
      "Epoch 7/10\n",
      "1875/1875 [==============================] - 4s 2ms/step - loss: 0.3387 - accuracy: 0.8766\n",
      "Epoch 8/10\n",
      "1875/1875 [==============================] - 4s 2ms/step - loss: 0.3341 - accuracy: 0.8778\n",
      "Epoch 9/10\n",
      "1875/1875 [==============================] - 4s 2ms/step - loss: 0.3312 - accuracy: 0.8785\n",
      "Epoch 10/10\n",
      "1875/1875 [==============================] - 4s 2ms/step - loss: 0.3259 - accuracy: 0.8805\n",
      "313/313 [==============================] - 1s 2ms/step - loss: 0.4288 - accuracy: 0.8447\n"
     ]
    }
   ],
   "source": [
    "best_model.fit(X_train_full, y_train_full, epochs=10)\n",
    "test_loss, test_accuracy = best_model.evaluate(X_test, y_test)"
   ]
  },
  {
   "cell_type": "code",
   "execution_count": 127,
   "metadata": {
    "id": "janwYmkm_0Ip"
   },
   "outputs": [],
   "source": [
    "class MyClassificationHyperModel(kt.HyperModel):\n",
    "    def build(self, hp):\n",
    "        return build_model(hp)\n",
    "\n",
    "    def fit(self, hp, model, X, y, **kwargs):\n",
    "        if hp.Boolean(\"normalize\"):\n",
    "            norm_layer = tf.keras.layers.Normalization()\n",
    "            X = norm_layer(X)\n",
    "        return model.fit(X, y, **kwargs)"
   ]
  },
  {
   "cell_type": "code",
   "execution_count": 128,
   "metadata": {
    "id": "258-i4dQ_0Ip"
   },
   "outputs": [],
   "source": [
    "hyperband_tuner = kt.Hyperband(\n",
    "    MyClassificationHyperModel(), objective=\"val_accuracy\", seed=42,\n",
    "    max_epochs=10, factor=3, hyperband_iterations=2,\n",
    "    overwrite=True, directory=\"my_fashion_mnist\", project_name=\"hyperband\")"
   ]
  },
  {
   "cell_type": "code",
   "execution_count": 129,
   "metadata": {
    "id": "ADN3lpgd_0Ip",
    "outputId": "3f4f21a4-8942-4363-efe5-417d11949279"
   },
   "outputs": [
    {
     "name": "stdout",
     "output_type": "stream",
     "text": [
      "Trial 60 Complete [00h 00m 58s]\n",
      "val_accuracy: 0.8194000124931335\n",
      "\n",
      "Best val_accuracy So Far: 0.8784000277519226\n",
      "Total elapsed time: 00h 23m 58s\n"
     ]
    }
   ],
   "source": [
    "root_logdir = Path(hyperband_tuner.project_dir) / \"tensorboard\"\n",
    "tensorboard_cb = tf.keras.callbacks.TensorBoard(root_logdir)\n",
    "early_stopping_cb = tf.keras.callbacks.EarlyStopping(patience=2)\n",
    "hyperband_tuner.search(X_train, y_train, epochs=10,\n",
    "                       validation_data=(X_valid, y_valid),\n",
    "                       callbacks=[early_stopping_cb, tensorboard_cb])"
   ]
  },
  {
   "cell_type": "code",
   "execution_count": 130,
   "metadata": {
    "id": "syjR7zeA_0Iq",
    "outputId": "cb509a77-ac18-4e89-a863-5b11974927a6"
   },
   "outputs": [
    {
     "name": "stdout",
     "output_type": "stream",
     "text": [
      "Trial 10 Complete [00h 00m 49s]\n",
      "val_accuracy: 0.8396000266075134\n",
      "\n",
      "Best val_accuracy So Far: 0.8628000020980835\n",
      "Total elapsed time: 00h 06m 34s\n"
     ]
    }
   ],
   "source": [
    "bayesian_opt_tuner = kt.BayesianOptimization(\n",
    "    MyClassificationHyperModel(), objective=\"val_accuracy\", seed=42,\n",
    "    max_trials=10, alpha=1e-4, beta=2.6,\n",
    "    overwrite=True, directory=\"my_fashion_mnist\", project_name=\"bayesian_opt\")\n",
    "bayesian_opt_tuner.search(X_train, y_train, epochs=10,\n",
    "                          validation_data=(X_valid, y_valid),\n",
    "                          callbacks=[early_stopping_cb])"
   ]
  },
  {
   "cell_type": "code",
   "execution_count": 145,
   "metadata": {
    "id": "Je9jTjkM_0Iq",
    "outputId": "22dfa30e-f1f2-4a65-cea5-8e071f87bee3"
   },
   "outputs": [
    {
     "data": {
      "text/html": [
       "\n",
       "      <iframe id=\"tensorboard-frame-976dc294ccfaf57e\" width=\"100%\" height=\"800\" frameborder=\"0\">\n",
       "      </iframe>\n",
       "      <script>\n",
       "        (function() {\n",
       "          const frame = document.getElementById(\"tensorboard-frame-976dc294ccfaf57e\");\n",
       "          const url = new URL(\"/\", window.location);\n",
       "          const port = 6006;\n",
       "          if (port) {\n",
       "            url.port = port;\n",
       "          }\n",
       "          frame.src = url;\n",
       "        })();\n",
       "      </script>\n",
       "    "
      ],
      "text/plain": [
       "<IPython.core.display.HTML object>"
      ]
     },
     "metadata": {},
     "output_type": "display_data"
    }
   ],
   "source": [
    "#%tensorboard --logdir {root_logdir}\n",
    "%tensorboard --logdir=./my_fashion_mnist/hyperband/tensorboard"
   ]
  },
  {
   "cell_type": "code",
   "execution_count": 146,
   "metadata": {},
   "outputs": [
    {
     "name": "stdout",
     "output_type": "stream",
     "text": [
      "Known TensorBoard instances:\n",
      "  - port 6006: logdir my_fashion_mnisthyperbandtensorboard (started 4:57:21 ago; pid 19292)\n",
      "  - port 6006: logdir ./my_logs (started 3 days, 2:19:32 ago; pid 3636)\n",
      "  - port 6006: logdir ./my_fashion_mnist/hyperband/tensorboard (started 3:31:41 ago; pid 3884)\n"
     ]
    }
   ],
   "source": [
    "notebook.list()"
   ]
  },
  {
   "cell_type": "code",
   "execution_count": 141,
   "metadata": {},
   "outputs": [
    {
     "data": {
      "text/plain": [
       "WindowsPath('my_fashion_mnist/hyperband/tensorboard')"
      ]
     },
     "execution_count": 141,
     "metadata": {},
     "output_type": "execute_result"
    }
   ],
   "source": [
    "root_logdir"
   ]
  },
  {
   "cell_type": "code",
   "execution_count": 147,
   "metadata": {},
   "outputs": [
    {
     "name": "stdout",
     "output_type": "stream",
     "text": [
      "SUCCESS: The process with PID 3884 has been terminated.\n"
     ]
    }
   ],
   "source": [
    "!taskkill /F /PID 3884"
   ]
  },
  {
   "cell_type": "markdown",
   "metadata": {
    "id": "q75l-mV9_0Iq"
   },
   "source": [
    "# Exercise solutions"
   ]
  },
  {
   "cell_type": "markdown",
   "metadata": {
    "id": "yaML3Skq_0Iq"
   },
   "source": [
    "## 1. to 9."
   ]
  },
  {
   "cell_type": "markdown",
   "metadata": {
    "id": "oaNaX0lX_0Iq"
   },
   "source": [
    "1. Visit the [TensorFlow Playground](https://playground.tensorflow.org/) and play around with it, as described in this exercise.\n",
    "2. Here is a neural network based on the original artificial neurons that computes _A_ ⊕ _B_ (where ⊕ represents the exclusive OR), using the fact that _A_ ⊕ _B_ = (_A_ ∧ ¬ _B_) ∨ (¬ _A_ ∧ _B_). There are other solutions—for example, using the fact that _A_ ⊕ _B_ = (_A_ ∨ _B_) ∧ ¬(_A_ ∧ _B_), or the fact that _A_ ⊕ _B_ = (_A_ ∨ _B_) ∧ (¬ _A_ ∨ ¬ _B_), and so on.<br /><img width=\"70%\" src=\"https://github.com/ageron/handson-ml3/blob/main/images/ann/exercise2.png?raw=1\" />\n",
    "3. A classical Perceptron will converge only if the dataset is linearly separable, and it won't be able to estimate class probabilities. In contrast, a Logistic Regression classifier will generally converge to a reasonably good solution even if the dataset is not linearly separable, and it will output class probabilities. If you change the Perceptron's activation function to the sigmoid activation function (or the softmax activation function if there are multiple neurons), and if you train it using Gradient Descent (or some other optimization algorithm minimizing the cost function, typically cross entropy), then it becomes equivalent to a Logistic Regression classifier.\n",
    "4. The sigmoid activation function was a key ingredient in training the first MLPs because its derivative is always nonzero, so Gradient Descent can always roll down the slope. When the activation function is a step function, Gradient Descent cannot move, as there is no slope at all.\n",
    "5. Popular activation functions include the step function, the sigmoid function, the hyperbolic tangent (tanh) function, and the Rectified Linear Unit (ReLU) function (see Figure 10-8). See Chapter 11 for other examples, such as ELU and variants of the ReLU function.\n",
    "6. Considering the MLP described in the question, composed of one input layer with 10 passthrough neurons, followed by one hidden layer with 50 artificial neurons, and finally one output layer with 3 artificial neurons, where all artificial neurons use the ReLU activation function:\n",
    "    * The shape of the input matrix **X** is _m_ × 10, where _m_ represents the training batch size.\n",
    "    * The shape of the hidden layer's weight matrix **W**<sub>_h_</sub> is 10 × 50, and the length of its bias vector **b**<sub>_h_</sub> is 50.\n",
    "    * The shape of the output layer's weight matrix **W**<sub>_o_</sub> is 50 × 3, and the length of its bias vector **b**<sub>_o_</sub> is 3.\n",
    "    * The shape of the network's output matrix **Y** is _m_ × 3.\n",
    "    * **Y** = ReLU(ReLU(**X** **W**<sub>_h_</sub> + **b**<sub>_h_</sub>) **W**<sub>_o_</sub> + **b**<sub>_o_</sub>). Recall that the ReLU function just sets every negative number in the matrix to zero. Also note that when you are adding a bias vector to a matrix, it is added to every single row in the matrix, which is called _broadcasting_.\n",
    "7. To classify email into spam or ham, you just need one neuron in the output layer of a neural network—for example, indicating the probability that the email is spam. You would typically use the sigmoid activation function in the output layer when estimating a probability. If instead you want to tackle MNIST, you need 10 neurons in the output layer, and you must replace the sigmoid function with the softmax activation function, which can handle multiple classes, outputting one probability per class. If you want your neural network to predict housing prices like in Chapter 2, then you need one output neuron, using no activation function at all in the output layer. Note: when the values to predict can vary by many orders of magnitude, you may want to predict the logarithm of the target value rather than the target value directly. Simply computing the exponential of the neural network's output will give you the estimated value (since exp(log _v_) = _v_).\n",
    "8. Backpropagation is a technique used to train artificial neural networks. It first computes the gradients of the cost function with regard to every model parameter (all the weights and biases), then it performs a Gradient Descent step using these gradients. This backpropagation step is typically performed thousands or millions of times, using many training batches, until the model parameters converge to values that (hopefully) minimize the cost function. To compute the gradients, backpropagation uses reverse-mode autodiff (although it wasn't called that when backpropagation was invented, and it has been reinvented several times). Reverse-mode autodiff performs a forward pass through a computation graph, computing every node's value for the current training batch, and then it performs a reverse pass, computing all the gradients at once (see Appendix B for more details). So what's the difference? Well, backpropagation refers to the whole process of training an artificial neural network using multiple backpropagation steps, each of which computes gradients and uses them to perform a Gradient Descent step. In contrast, reverse-mode autodiff is just a technique to compute gradients efficiently, and it happens to be used by backpropagation.\n",
    "9. Here is a list of all the hyperparameters you can tweak in a basic MLP: the number of hidden layers, the number of neurons in each hidden layer, and the activation function used in each hidden layer and in the output layer. In general, the ReLU activation function (or one of its variants; see Chapter 11) is a good default for the hidden layers. For the output layer, in general you will want the sigmoid activation function for binary classification, the softmax activation function for multiclass classification, or no activation function for regression. If the MLP overfits the training data, you can try reducing the number of hidden layers and reducing the number of neurons per hidden layer."
   ]
  },
  {
   "cell_type": "markdown",
   "metadata": {
    "id": "jPlH4T6G_0Ir"
   },
   "source": [
    "## 10."
   ]
  },
  {
   "cell_type": "markdown",
   "metadata": {
    "id": "8HRVhpnj_0Ir"
   },
   "source": [
    "*Exercise: Train a deep MLP on the MNIST dataset (you can load it using `tf.keras.datasets.mnist.load_data()`. See if you can get over 98% accuracy by manually tuning the hyperparameters. Try searching for the optimal learning rate by using the approach presented in this chapter (i.e., by growing the learning rate exponentially, plotting the loss, and finding the point where the loss shoots up). Next, try tuning the hyperparameters using Keras Tuner with all the bells and whistles—save checkpoints, use early stopping, and plot learning curves using TensorBoard.*"
   ]
  },
  {
   "cell_type": "markdown",
   "metadata": {
    "id": "J6y-5hEL_0Is"
   },
   "source": [
    "**TODO**: update this solution to use Keras Tuner."
   ]
  },
  {
   "cell_type": "markdown",
   "metadata": {
    "id": "fgdzq2f__0Is"
   },
   "source": [
    "Let's load the dataset:"
   ]
  },
  {
   "cell_type": "code",
   "execution_count": null,
   "metadata": {
    "id": "KqHM2hoM_0Is"
   },
   "outputs": [],
   "source": [
    "(X_train_full, y_train_full), (X_test, y_test) = tf.keras.datasets.mnist.load_data()"
   ]
  },
  {
   "cell_type": "markdown",
   "metadata": {
    "id": "bdIZqTg-_0Is"
   },
   "source": [
    "Just like for the Fashion MNIST dataset, the MNIST training set contains 60,000 grayscale images, each 28x28 pixels:"
   ]
  },
  {
   "cell_type": "code",
   "execution_count": null,
   "metadata": {
    "id": "Sj5YZ6-C_0It",
    "outputId": "bd7910c4-9893-4b09-d9de-71fde50cb61b"
   },
   "outputs": [
    {
     "data": {
      "text/plain": [
       "(60000, 28, 28)"
      ]
     },
     "execution_count": 107,
     "metadata": {},
     "output_type": "execute_result"
    }
   ],
   "source": [
    "X_train_full.shape"
   ]
  },
  {
   "cell_type": "markdown",
   "metadata": {
    "id": "pUKgo-jZ_0It"
   },
   "source": [
    "Each pixel intensity is also represented as a byte (0 to 255):"
   ]
  },
  {
   "cell_type": "code",
   "execution_count": null,
   "metadata": {
    "id": "FMepfwOY_0It",
    "outputId": "2081b45b-26f0-4c98-e0a2-05853e06f651"
   },
   "outputs": [
    {
     "data": {
      "text/plain": [
       "dtype('uint8')"
      ]
     },
     "execution_count": 108,
     "metadata": {},
     "output_type": "execute_result"
    }
   ],
   "source": [
    "X_train_full.dtype"
   ]
  },
  {
   "cell_type": "markdown",
   "metadata": {
    "id": "KfAb_AQX_0Iu"
   },
   "source": [
    "Let's split the full training set into a validation set and a (smaller) training set. We also scale the pixel intensities down to the 0-1 range and convert them to floats, by dividing by 255, just like we did for Fashion MNIST:"
   ]
  },
  {
   "cell_type": "code",
   "execution_count": null,
   "metadata": {
    "id": "OcwD9qd8_0Iu"
   },
   "outputs": [],
   "source": [
    "X_valid, X_train = X_train_full[:5000] / 255., X_train_full[5000:] / 255.\n",
    "y_valid, y_train = y_train_full[:5000], y_train_full[5000:]\n",
    "X_test = X_test / 255."
   ]
  },
  {
   "cell_type": "markdown",
   "metadata": {
    "id": "leahnhJR_0Iu"
   },
   "source": [
    "Let's plot an image using Matplotlib's `imshow()` function, with a `'binary'`\n",
    " color map:"
   ]
  },
  {
   "cell_type": "code",
   "execution_count": null,
   "metadata": {
    "id": "oQcA15AQ_0Iv",
    "outputId": "4152066a-3f96-4d2a-d72f-40c21abe03ad"
   },
   "outputs": [
    {
     "data": {
      "image/png": "[encoded data removed]",
      "text/plain": [
       "<Figure size 432x288 with 1 Axes>"
      ]
     },
     "metadata": {
      "needs_background": "light"
     },
     "output_type": "display_data"
    }
   ],
   "source": [
    "plt.imshow(X_train[0], cmap=\"binary\")\n",
    "plt.axis('off')\n",
    "plt.show()"
   ]
  },
  {
   "cell_type": "markdown",
   "metadata": {
    "id": "VOokcRxy_0Iv"
   },
   "source": [
    "The labels are the class IDs (represented as uint8), from 0 to 9. Conveniently, the class IDs correspond to the digits represented in the images, so we don't need a `class_names` array:"
   ]
  },
  {
   "cell_type": "code",
   "execution_count": null,
   "metadata": {
    "id": "ODZatKNn_0Iv",
    "outputId": "0792dd57-db41-4524-cb0f-5b3d14baaf4b"
   },
   "outputs": [
    {
     "data": {
      "text/plain": [
       "array([7, 3, 4, ..., 5, 6, 8], dtype=uint8)"
      ]
     },
     "execution_count": 111,
     "metadata": {},
     "output_type": "execute_result"
    }
   ],
   "source": [
    "y_train"
   ]
  },
  {
   "cell_type": "markdown",
   "metadata": {
    "id": "pwZBhg4l_0Iv"
   },
   "source": [
    "The validation set contains 5,000 images, and the test set contains 10,000 images:"
   ]
  },
  {
   "cell_type": "code",
   "execution_count": null,
   "metadata": {
    "id": "zxdreBcQ_0Iw",
    "outputId": "6781c073-aa59-421f-beae-73bb40571227"
   },
   "outputs": [
    {
     "data": {
      "text/plain": [
       "(5000, 28, 28)"
      ]
     },
     "execution_count": 112,
     "metadata": {},
     "output_type": "execute_result"
    }
   ],
   "source": [
    "X_valid.shape"
   ]
  },
  {
   "cell_type": "code",
   "execution_count": null,
   "metadata": {
    "id": "Mk7qSayq_0Iw",
    "outputId": "a8c8bb69-a4a2-40b8-c5d7-57f355ee2640"
   },
   "outputs": [
    {
     "data": {
      "text/plain": [
       "(10000, 28, 28)"
      ]
     },
     "execution_count": 113,
     "metadata": {},
     "output_type": "execute_result"
    }
   ],
   "source": [
    "X_test.shape"
   ]
  },
  {
   "cell_type": "markdown",
   "metadata": {
    "id": "kpDXwXmE_0Iw"
   },
   "source": [
    "Let's take a look at a sample of the images in the dataset:"
   ]
  },
  {
   "cell_type": "code",
   "execution_count": null,
   "metadata": {
    "id": "1MR8Boev_0Iw",
    "outputId": "302c39e5-1456-43ed-fed3-64169f94a6e8"
   },
   "outputs": [
    {
     "data": {
      "image/png": "[encoded data removed]",
      "text/plain": [
       "<Figure size 864x345.6 with 40 Axes>"
      ]
     },
     "metadata": {
      "needs_background": "light"
     },
     "output_type": "display_data"
    }
   ],
   "source": [
    "n_rows = 4\n",
    "n_cols = 10\n",
    "plt.figure(figsize=(n_cols * 1.2, n_rows * 1.2))\n",
    "for row in range(n_rows):\n",
    "    for col in range(n_cols):\n",
    "        index = n_cols * row + col\n",
    "        plt.subplot(n_rows, n_cols, index + 1)\n",
    "        plt.imshow(X_train[index], cmap=\"binary\", interpolation=\"nearest\")\n",
    "        plt.axis('off')\n",
    "        plt.title(y_train[index])\n",
    "plt.subplots_adjust(wspace=0.2, hspace=0.5)\n",
    "plt.show()"
   ]
  },
  {
   "cell_type": "markdown",
   "metadata": {
    "id": "w7hrgdpk_0Ix"
   },
   "source": [
    "Let's build a simple dense network and find the optimal learning rate. We will need a callback to grow the learning rate at each iteration. It will also record the learning rate and the loss at each iteration:"
   ]
  },
  {
   "cell_type": "code",
   "execution_count": null,
   "metadata": {
    "id": "jA9dCd9M_0Ix"
   },
   "outputs": [],
   "source": [
    "K = tf.keras.backend\n",
    "\n",
    "class ExponentialLearningRate(tf.keras.callbacks.Callback):\n",
    "    def __init__(self, factor):\n",
    "        self.factor = factor\n",
    "        self.rates = []\n",
    "        self.losses = []\n",
    "    def on_batch_end(self, batch, logs):\n",
    "        self.rates.append(K.get_value(self.model.optimizer.learning_rate))\n",
    "        self.losses.append(logs[\"loss\"])\n",
    "        K.set_value(self.model.optimizer.learning_rate, self.model.optimizer.learning_rate * self.factor)"
   ]
  },
  {
   "cell_type": "code",
   "execution_count": null,
   "metadata": {
    "id": "Z1fXtcng_0Ix"
   },
   "outputs": [],
   "source": [
    "tf.keras.backend.clear_session()\n",
    "np.random.seed(42)\n",
    "tf.random.set_seed(42)"
   ]
  },
  {
   "cell_type": "code",
   "execution_count": null,
   "metadata": {
    "id": "eRfjuTNU_0Iy"
   },
   "outputs": [],
   "source": [
    "model = tf.keras.Sequential([\n",
    "    tf.keras.layers.Flatten(input_shape=[28, 28]),\n",
    "    tf.keras.layers.Dense(300, activation=\"relu\"),\n",
    "    tf.keras.layers.Dense(100, activation=\"relu\"),\n",
    "    tf.keras.layers.Dense(10, activation=\"softmax\")\n",
    "])"
   ]
  },
  {
   "cell_type": "markdown",
   "metadata": {
    "id": "HSlqjXvF_0Iy"
   },
   "source": [
    "We will start with a small learning rate of 1e-3, and grow it by 0.5% at each iteration:"
   ]
  },
  {
   "cell_type": "code",
   "execution_count": null,
   "metadata": {
    "id": "zRpvYegq_0Iy"
   },
   "outputs": [],
   "source": [
    "optimizer = tf.keras.optimizers.SGD(learning_rate=1e-3)\n",
    "model.compile(loss=\"sparse_categorical_crossentropy\", optimizer=optimizer,\n",
    "              metrics=[\"accuracy\"])\n",
    "expon_lr = ExponentialLearningRate(factor=1.005)"
   ]
  },
  {
   "cell_type": "markdown",
   "metadata": {
    "id": "-nn_T2gR_0Iy"
   },
   "source": [
    "Now let's train the model for just 1 epoch:"
   ]
  },
  {
   "cell_type": "code",
   "execution_count": null,
   "metadata": {
    "id": "zPzTsldc_0Iy",
    "outputId": "010330d2-1cb7-46c7-b7ed-626b369b80db"
   },
   "outputs": [
    {
     "name": "stdout",
     "output_type": "stream",
     "text": [
      "1719/1719 [==============================] - 3s 2ms/step - loss: nan - accuracy: 0.5843 - val_loss: nan - val_accuracy: 0.0958\n"
     ]
    }
   ],
   "source": [
    "history = model.fit(X_train, y_train, epochs=1,\n",
    "                    validation_data=(X_valid, y_valid),\n",
    "                    callbacks=[expon_lr])"
   ]
  },
  {
   "cell_type": "markdown",
   "metadata": {
    "id": "Nc76xkyb_0Iy"
   },
   "source": [
    "We can now plot the loss as a functionof the learning rate:"
   ]
  },
  {
   "cell_type": "code",
   "execution_count": null,
   "metadata": {
    "id": "wW4OpsO9_0Iy",
    "outputId": "299d225a-5090-4561-9468-56254ba43409"
   },
   "outputs": [
    {
     "data": {
      "text/plain": [
       "Text(0, 0.5, 'Loss')"
      ]
     },
     "execution_count": 120,
     "metadata": {},
     "output_type": "execute_result"
    },
    {
     "data": {
      "image/png": "[encoded data removed]",
      "text/plain": [
       "<Figure size 432x288 with 1 Axes>"
      ]
     },
     "metadata": {
      "needs_background": "light"
     },
     "output_type": "display_data"
    }
   ],
   "source": [
    "plt.plot(expon_lr.rates, expon_lr.losses)\n",
    "plt.gca().set_xscale('log')\n",
    "plt.hlines(min(expon_lr.losses), min(expon_lr.rates), max(expon_lr.rates))\n",
    "plt.axis([min(expon_lr.rates), max(expon_lr.rates), 0, expon_lr.losses[0]])\n",
    "plt.grid()\n",
    "plt.xlabel(\"Learning rate\")\n",
    "plt.ylabel(\"Loss\")"
   ]
  },
  {
   "cell_type": "markdown",
   "metadata": {
    "id": "Ug1QY3-f_0Iy"
   },
   "source": [
    "The loss starts shooting back up violently when the learning rate goes over 6e-1, so let's try using half of that, at 3e-1:"
   ]
  },
  {
   "cell_type": "code",
   "execution_count": null,
   "metadata": {
    "id": "93gNw4je_0Iz"
   },
   "outputs": [],
   "source": [
    "tf.keras.backend.clear_session()\n",
    "np.random.seed(42)\n",
    "tf.random.set_seed(42)"
   ]
  },
  {
   "cell_type": "code",
   "execution_count": null,
   "metadata": {
    "id": "Y4BfcYir_0Iz"
   },
   "outputs": [],
   "source": [
    "model = tf.keras.Sequential([\n",
    "    tf.keras.layers.Flatten(input_shape=[28, 28]),\n",
    "    tf.keras.layers.Dense(300, activation=\"relu\"),\n",
    "    tf.keras.layers.Dense(100, activation=\"relu\"),\n",
    "    tf.keras.layers.Dense(10, activation=\"softmax\")\n",
    "])"
   ]
  },
  {
   "cell_type": "code",
   "execution_count": null,
   "metadata": {
    "id": "iS7jAEri_0Iz"
   },
   "outputs": [],
   "source": [
    "optimizer = tf.keras.optimizers.SGD(learning_rate=3e-1)\n",
    "model.compile(loss=\"sparse_categorical_crossentropy\", optimizer=optimizer,\n",
    "              metrics=[\"accuracy\"])"
   ]
  },
  {
   "cell_type": "code",
   "execution_count": null,
   "metadata": {
    "id": "dez63LKA_0Iz",
    "outputId": "d0c2e00a-e2cf-4b7c-83d0-a39f0fe2c2e4"
   },
   "outputs": [
    {
     "data": {
      "text/plain": [
       "PosixPath('my_mnist_logs/run_001')"
      ]
     },
     "execution_count": 124,
     "metadata": {},
     "output_type": "execute_result"
    }
   ],
   "source": [
    "run_index = 1 # increment this at every run\n",
    "run_logdir = Path() / \"my_mnist_logs\" / \"run_{:03d}\".format(run_index)\n",
    "run_logdir"
   ]
  },
  {
   "cell_type": "code",
   "execution_count": null,
   "metadata": {
    "id": "VTj9dhTn_0Iz",
    "outputId": "bc1f65e3-30d2-417e-9deb-932d74c46559"
   },
   "outputs": [
    {
     "name": "stdout",
     "output_type": "stream",
     "text": [
      "Epoch 1/100\n",
      "1719/1719 [==============================] - 2s 1ms/step - loss: 0.2363 - accuracy: 0.9264 - val_loss: 0.0972 - val_accuracy: 0.9720\n",
      "Epoch 2/100\n",
      "1719/1719 [==============================] - 2s 997us/step - loss: 0.0948 - accuracy: 0.9702 - val_loss: 0.1035 - val_accuracy: 0.9706\n",
      "Epoch 3/100\n",
      "1719/1719 [==============================] - 2s 1ms/step - loss: 0.0667 - accuracy: 0.9792 - val_loss: 0.0783 - val_accuracy: 0.9770\n",
      "Epoch 4/100\n",
      "1719/1719 [==============================] - 2s 1ms/step - loss: 0.0463 - accuracy: 0.9848 - val_loss: 0.0827 - val_accuracy: 0.9766\n",
      "Epoch 5/100\n",
      "1719/1719 [==============================] - 2s 1ms/step - loss: 0.0359 - accuracy: 0.9881 - val_loss: 0.0698 - val_accuracy: 0.9826\n",
      "Epoch 6/100\n",
      "1719/1719 [==============================] - 2s 1ms/step - loss: 0.0297 - accuracy: 0.9908 - val_loss: 0.1048 - val_accuracy: 0.9758\n",
      "Epoch 7/100\n",
      "1719/1719 [==============================] - 2s 1ms/step - loss: 0.0245 - accuracy: 0.9917 - val_loss: 0.0932 - val_accuracy: 0.9794\n",
      "Epoch 8/100\n",
      "1719/1719 [==============================] - 2s 1ms/step - loss: 0.0239 - accuracy: 0.9922 - val_loss: 0.0816 - val_accuracy: 0.9798\n",
      "Epoch 9/100\n",
      "1719/1719 [==============================] - 2s 1ms/step - loss: 0.0154 - accuracy: 0.9952 - val_loss: 0.0775 - val_accuracy: 0.9838\n",
      "Epoch 10/100\n",
      "1719/1719 [==============================] - 2s 1ms/step - loss: 0.0126 - accuracy: 0.9960 - val_loss: 0.0805 - val_accuracy: 0.9812\n",
      "Epoch 11/100\n",
      "1719/1719 [==============================] - 2s 1ms/step - loss: 0.0111 - accuracy: 0.9964 - val_loss: 0.0962 - val_accuracy: 0.9804\n",
      "Epoch 12/100\n",
      "1719/1719 [==============================] - 2s 1ms/step - loss: 0.0118 - accuracy: 0.9963 - val_loss: 0.1044 - val_accuracy: 0.9774\n",
      "Epoch 13/100\n",
      "1719/1719 [==============================] - 2s 1ms/step - loss: 0.0114 - accuracy: 0.9961 - val_loss: 0.1055 - val_accuracy: 0.9802\n",
      "Epoch 14/100\n",
      "1719/1719 [==============================] - 2s 1ms/step - loss: 0.0150 - accuracy: 0.9948 - val_loss: 0.0993 - val_accuracy: 0.9826\n",
      "Epoch 15/100\n",
      "1719/1719 [==============================] - 2s 1ms/step - loss: 0.0054 - accuracy: 0.9981 - val_loss: 0.0955 - val_accuracy: 0.9822\n",
      "Epoch 16/100\n",
      "1719/1719 [==============================] - 2s 1ms/step - loss: 0.0046 - accuracy: 0.9984 - val_loss: 0.0982 - val_accuracy: 0.9822\n",
      "Epoch 17/100\n",
      "1719/1719 [==============================] - 2s 1ms/step - loss: 0.0055 - accuracy: 0.9983 - val_loss: 0.0908 - val_accuracy: 0.9844\n",
      "Epoch 18/100\n",
      "1719/1719 [==============================] - 2s 1ms/step - loss: 0.0070 - accuracy: 0.9978 - val_loss: 0.0883 - val_accuracy: 0.9840\n",
      "Epoch 19/100\n",
      "1719/1719 [==============================] - 2s 1ms/step - loss: 0.0025 - accuracy: 0.9992 - val_loss: 0.0978 - val_accuracy: 0.9838\n",
      "Epoch 20/100\n",
      "1719/1719 [==============================] - 2s 1ms/step - loss: 0.0058 - accuracy: 0.9983 - val_loss: 0.1011 - val_accuracy: 0.9830\n",
      "Epoch 21/100\n",
      "1719/1719 [==============================] - 2s 1ms/step - loss: 0.0039 - accuracy: 0.9989 - val_loss: 0.0991 - val_accuracy: 0.9840\n",
      "Epoch 22/100\n",
      "1719/1719 [==============================] - 2s 1ms/step - loss: 9.2480e-04 - accuracy: 0.9998 - val_loss: 0.0963 - val_accuracy: 0.9840\n",
      "Epoch 23/100\n",
      "1719/1719 [==============================] - 2s 1ms/step - loss: 1.2642e-04 - accuracy: 1.0000 - val_loss: 0.0970 - val_accuracy: 0.9846\n",
      "Epoch 24/100\n",
      "1719/1719 [==============================] - 2s 1ms/step - loss: 6.9068e-05 - accuracy: 1.0000 - val_loss: 0.0970 - val_accuracy: 0.9854\n",
      "Epoch 25/100\n",
      "1719/1719 [==============================] - 2s 1ms/step - loss: 5.1481e-05 - accuracy: 1.0000 - val_loss: 0.0977 - val_accuracy: 0.9850\n"
     ]
    }
   ],
   "source": [
    "early_stopping_cb = tf.keras.callbacks.EarlyStopping(patience=20)\n",
    "checkpoint_cb = tf.keras.callbacks.ModelCheckpoint(\"my_mnist_model\", save_best_only=True)\n",
    "tensorboard_cb = tf.keras.callbacks.TensorBoard(run_logdir)\n",
    "\n",
    "history = model.fit(X_train, y_train, epochs=100,\n",
    "                    validation_data=(X_valid, y_valid),\n",
    "                    callbacks=[checkpoint_cb, early_stopping_cb, tensorboard_cb])"
   ]
  },
  {
   "cell_type": "code",
   "execution_count": null,
   "metadata": {
    "id": "nO6kiPHW_0Iz",
    "outputId": "1af0b60d-9fcd-4d5f-aaf6-8c9fad20d193"
   },
   "outputs": [
    {
     "name": "stdout",
     "output_type": "stream",
     "text": [
      "313/313 [==============================] - 0s 908us/step - loss: 0.0708 - accuracy: 0.9799\n"
     ]
    },
    {
     "data": {
      "text/plain": [
       "[0.07079131156206131, 0.9799000024795532]"
      ]
     },
     "execution_count": 126,
     "metadata": {},
     "output_type": "execute_result"
    }
   ],
   "source": [
    "model = tf.keras.models.load_model(\"my_mnist_model\") # rollback to best model\n",
    "model.evaluate(X_test, y_test)"
   ]
  },
  {
   "cell_type": "markdown",
   "metadata": {
    "id": "zMRiiT_v_0Iz"
   },
   "source": [
    "We got over 98% accuracy. Finally, let's look at the learning curves using TensorBoard:"
   ]
  },
  {
   "cell_type": "code",
   "execution_count": 149,
   "metadata": {
    "id": "1kSuLU2W_0I0",
    "outputId": "2a3ae3fd-c45f-457d-b579-a962979f387b"
   },
   "outputs": [
    {
     "data": {
      "text/html": [
       "\n",
       "      <iframe id=\"tensorboard-frame-55bc3ff93130d96f\" width=\"100%\" height=\"800\" frameborder=\"0\">\n",
       "      </iframe>\n",
       "      <script>\n",
       "        (function() {\n",
       "          const frame = document.getElementById(\"tensorboard-frame-55bc3ff93130d96f\");\n",
       "          const url = new URL(\"/\", window.location);\n",
       "          const port = 6006;\n",
       "          if (port) {\n",
       "            url.port = port;\n",
       "          }\n",
       "          frame.src = url;\n",
       "        })();\n",
       "      </script>\n",
       "    "
      ],
      "text/plain": [
       "<IPython.core.display.HTML object>"
      ]
     },
     "metadata": {},
     "output_type": "display_data"
    }
   ],
   "source": [
    "%tensorboard --logdir=./my_mnist_logs"
   ]
  },
  {
   "cell_type": "code",
   "execution_count": null,
   "metadata": {
    "id": "oXPqq2b8_0I0"
   },
   "outputs": [],
   "source": []
  }
 ],
 "metadata": {
  "colab": {
   "provenance": []
  },
  "kernelspec": {
   "display_name": "Python 3 (ipykernel)",
   "language": "python",
   "name": "python3"
  },
  "language_info": {
   "codemirror_mode": {
    "name": "ipython",
    "version": 3
   },
   "file_extension": ".py",
   "mimetype": "text/x-python",
   "name": "python",
   "nbconvert_exporter": "python",
   "pygments_lexer": "ipython3",
   "version": "3.11.5"
  },
  "nav_menu": {
   "height": "264px",
   "width": "369px"
  },
  "toc": {
   "navigate_menu": true,
   "number_sections": true,
   "sideBar": true,
   "threshold": 6,
   "toc_cell": false,
   "toc_section_display": "block",
   "toc_window_display": false
  }
 },
 "nbformat": 4,
 "nbformat_minor": 4
}
