{
 "cells": [
  {
   "cell_type": "markdown",
   "id": "fb5718fe",
   "metadata": {},
   "source": [
    "![A robot studying over a pile of exam papers](analysis.png)\n",
    "\n",
    "# Assessment Review Notebook\n",
    "\n",
    "CloudyCoding College is a fictional educational institution that uses regular short quizzes to test their students knowledge retention, and identify opportunities for improvement. This notebook has been created to provide a platform to generate insights into recent quiz attempts.\n",
    "\n",
    "This notebook provides access to the most recent quiz attempt by 100 of the college's students for analysis and quality improvement. All data has been completely de-identified."
   ]
  },
  {
   "cell_type": "markdown",
   "id": "01fa9753",
   "metadata": {},
   "source": [
    "## Demo Orientation\n",
    "\n",
    "Before we get started, let's take a look at how code is actually executed in a Jupyter Notebook.\n",
    "\n",
    "We'll start with a basic calculation - what do you think it will do? Run the cell when you're ready."
   ]
  },
  {
   "cell_type": "code",
   "execution_count": null,
   "id": "20a4d338",
   "metadata": {
    "scrolled": true
   },
   "outputs": [],
   "source": [
    "a = 5\n",
    "b = 10\n",
    "\n",
    "print(a + b)"
   ]
  },
  {
   "cell_type": "markdown",
   "id": "80b59861",
   "metadata": {},
   "source": [
    "One of the most powerful parts of a Jupyter Notebook is that it uses a continuous interactive session of Python, so code run in one cell can be used in other completely different cell, as long as it's already been run."
   ]
  },
  {
   "cell_type": "code",
   "execution_count": null,
   "id": "2d8ba9ba",
   "metadata": {},
   "outputs": [],
   "source": [
    "print(a * b)"
   ]
  },
  {
   "cell_type": "markdown",
   "id": "3d6cd552",
   "metadata": {},
   "source": [
    "We can also run cells in a different order, making it easier to experiment with changes to our code. Let's run the cell below, then run the multiplication in the cell above. Despite this cell not doing anything on its own, it does change how the multiplication is executed, since we've changed the underlying variables."
   ]
  },
  {
   "cell_type": "code",
   "execution_count": null,
   "id": "2611c83a",
   "metadata": {},
   "outputs": [],
   "source": [
    "a = 50\n",
    "b = 3.5"
   ]
  },
  {
   "cell_type": "markdown",
   "id": "202e51f8",
   "metadata": {},
   "source": [
    "Another common use in Jupyter Notebooks is to import modules or define functions which will later be re-used in our code. In the cell below, we'll import our random number generating module, and write a function to check if the generated number is an even or odd number."
   ]
  },
  {
   "cell_type": "code",
   "execution_count": null,
   "id": "1dd2615b",
   "metadata": {},
   "outputs": [],
   "source": [
    "import random\n",
    "\n",
    "def is_odd_or_even(i):\n",
    "    if (i % 2 == 1):\n",
    "        return str(i) + \" is an ODD number\"\n",
    "    else:\n",
    "        return str(i) + \" is an EVEN number\""
   ]
  },
  {
   "cell_type": "markdown",
   "id": "b022bea0",
   "metadata": {},
   "source": [
    "Now we can later call those functions in later cells, and even reference code from earlier cells."
   ]
  },
  {
   "cell_type": "code",
   "execution_count": null,
   "id": "149e7b4f",
   "metadata": {},
   "outputs": [],
   "source": [
    "# Using one of our earlier variables\n",
    "print( is_odd_or_even(a) )\n",
    "\n",
    "# Using a random number between 1 and 1,000,000\n",
    "print( is_odd_or_even( \n",
    "    random.randrange(1,100000) \n",
    ") )"
   ]
  },
  {
   "cell_type": "markdown",
   "id": "6393bfdf",
   "metadata": {},
   "source": [
    "There we go, not as hard as it looks!\n",
    "\n",
    "Now, back to our scenario:"
   ]
  },
  {
   "cell_type": "markdown",
   "id": "d9e7cd62",
   "metadata": {},
   "source": [
    "## Initializing our Notebook\n",
    "\n",
    "We need to load our dataset and initialize our Notebook, and ensure Python is working as expected."
   ]
  },
  {
   "cell_type": "code",
   "execution_count": null,
   "id": "285a84a8",
   "metadata": {},
   "outputs": [],
   "source": [
    "import pandas as pd\n",
    "import matplotlib.pyplot as plt"
   ]
  },
  {
   "cell_type": "code",
   "execution_count": null,
   "id": "ae775ef7",
   "metadata": {},
   "outputs": [],
   "source": [
    "dataset = pd.read_csv('question-data.csv')\n",
    "\n",
    "print(len(dataset))"
   ]
  },
  {
   "cell_type": "markdown",
   "id": "b6019a9b",
   "metadata": {},
   "source": [
    "Let's take a look at the dataset and see how it looks:"
   ]
  },
  {
   "cell_type": "code",
   "execution_count": null,
   "id": "e865dfa0",
   "metadata": {},
   "outputs": [],
   "source": [
    "dataset.head()"
   ]
  },
  {
   "cell_type": "markdown",
   "id": "5cff2934",
   "metadata": {},
   "source": [
    "## Basic Data Analysis\n",
    "\n",
    "Let's confirm how many unique questions are present in the dataset based on the question ID, and how many attempts there have been at each. This is where we'll start using some visualizations and leveraging the power of Jupyter Notebooks."
   ]
  },
  {
   "cell_type": "code",
   "execution_count": null,
   "id": "050b2a6f",
   "metadata": {},
   "outputs": [],
   "source": [
    "dataset[\"questionId\"].value_counts()"
   ]
  },
  {
   "cell_type": "markdown",
   "id": "c187657d",
   "metadata": {},
   "source": [
    "## Diving Deeper\n",
    "\n",
    "We know the results from the quizzes was lower than expected, but all students were equally impacted. In this section, try and identify the root cause:"
   ]
  },
  {
   "cell_type": "code",
   "execution_count": null,
   "id": "acf410e5",
   "metadata": {},
   "outputs": [],
   "source": []
  }
 ],
 "metadata": {
  "kernelspec": {
   "display_name": "conda_python3",
   "language": "python",
   "name": "conda_python3"
  },
  "language_info": {
   "codemirror_mode": {
    "name": "ipython",
    "version": 3
   },
   "file_extension": ".py",
   "mimetype": "text/x-python",
   "name": "python",
   "nbconvert_exporter": "python",
   "pygments_lexer": "ipython3",
   "version": "3.10.12"
  }
 },
 "nbformat": 4,
 "nbformat_minor": 5
}
