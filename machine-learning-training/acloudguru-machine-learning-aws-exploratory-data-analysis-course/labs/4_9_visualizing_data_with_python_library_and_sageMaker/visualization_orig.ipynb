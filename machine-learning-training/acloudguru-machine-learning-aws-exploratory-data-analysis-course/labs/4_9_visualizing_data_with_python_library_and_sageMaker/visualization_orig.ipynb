{
 "cells": [
  {
   "cell_type": "markdown",
   "id": "a4aba7f0",
   "metadata": {},
   "source": [
    "![A Cloud Guru](acg_logo.png)\n",
    "<hr/>"
   ]
  },
  {
   "cell_type": "markdown",
   "id": "551012b3",
   "metadata": {},
   "source": [
    "<center><h1>Visualizing Data with Python Libraries and Amazon SageMaker</h1></center>"
   ]
  },
  {
   "cell_type": "markdown",
   "id": "86544255",
   "metadata": {},
   "source": [
    "# Introduction\n",
    "In this lab, you will learn how to visualize data using various charts like histogram, bar chart, scatter plot and box plot. The provided dataset contains a list of employees with their gender, age, salary, and the department that contains both numerical and categorical data."
   ]
  },
  {
   "cell_type": "markdown",
   "id": "dceea836",
   "metadata": {},
   "source": [
    "# How to Use This Lab\n",
    "We have already imported the required libraries and imported the dataset for you. You need to use the seaborn library to visualize the data. You need to choose the right type of chart to address the given business problem. Please pay attention to the cells with a #TODO header where you need to enter the code. You can always use our lab guide if you are stuck."
   ]
  },
  {
   "cell_type": "markdown",
   "id": "c9628637",
   "metadata": {},
   "source": [
    "# 1) Import the Libraries"
   ]
  },
  {
   "cell_type": "code",
   "execution_count": null,
   "id": "71c85659",
   "metadata": {},
   "outputs": [],
   "source": [
    "# import required libraries.\n",
    "\n",
    "import pandas as pd\n",
    "import seaborn as sns\n",
    "import matplotlib.pyplot as plt"
   ]
  },
  {
   "cell_type": "markdown",
   "id": "f545ccfa",
   "metadata": {},
   "source": [
    "# 2) Read the Data"
   ]
  },
  {
   "cell_type": "code",
   "execution_count": null,
   "id": "13fa3d35",
   "metadata": {},
   "outputs": [],
   "source": [
    "# Read the dataset and display first few rows.\n",
    "\n",
    "employee_df = pd.read_csv('Employee.csv')\n",
    "employee_df.head()"
   ]
  },
  {
   "cell_type": "markdown",
   "id": "1a3a00a0",
   "metadata": {},
   "source": [
    "# 3) Visualizing Univariate Data"
   ]
  },
  {
   "cell_type": "code",
   "execution_count": null,
   "id": "73566607",
   "metadata": {},
   "outputs": [],
   "source": [
    "# Show the distribution of all the employee's age in your oganization\n",
    "\n",
    "sns.histplot(data=employee_df, x='age')\n",
    "plt.show()"
   ]
  },
  {
   "cell_type": "code",
   "execution_count": null,
   "id": "b8ac4ae6",
   "metadata": {},
   "outputs": [],
   "source": [
    "# Show the number of employees in each department in your organization.\n",
    "# TODO: Use the matplotlib's \"xlabel\", \"ylabel\", and \"title\" function \n",
    "# to set the x-axis as \"Department\", y-axis as \"Employee Count\" and title as \"Distribution of Employees by Department\"\n",
    "\n",
    "sns.countplot(data=employee_df, x='department')"
   ]
  },
  {
   "cell_type": "code",
   "execution_count": null,
   "id": "4ed391a6",
   "metadata": {},
   "outputs": [],
   "source": [
    "# Show the number of male and female employees in ech department in your organization\n",
    "# TODO: Modify the countplot function to show the gender. \n",
    "# Tip: Use the hue attribute that will create separate bars for each category on the x-axis.\n",
    "\n",
    "\n",
    "plt.show()"
   ]
  },
  {
   "cell_type": "markdown",
   "id": "eb963a28",
   "metadata": {},
   "source": [
    "# 4) Visualizing Bivariate Data"
   ]
  },
  {
   "cell_type": "code",
   "execution_count": null,
   "id": "d4eebc78",
   "metadata": {},
   "outputs": [],
   "source": [
    "# bivariate analysis of a numerical and categorical features.\n",
    "# Show the salaries of all the employees by their departments and check if there are any salary discrepancies.\n",
    "\n",
    "\n",
    "plt.show()"
   ]
  },
  {
   "cell_type": "code",
   "execution_count": null,
   "id": "5d0ca53b",
   "metadata": {},
   "outputs": [],
   "source": [
    "# Comparison of continuous and categorical features\n",
    "# Show the descriptive statistics of employee's salary across all the departments\n",
    "\n",
    "plt.show()"
   ]
  },
  {
   "cell_type": "code",
   "execution_count": null,
   "id": "e9bfe40e",
   "metadata": {},
   "outputs": [],
   "source": [
    "# Relationship between two continuous features.\n",
    "# Show the relationship between an employee's age and their salary.\n",
    "\n",
    "\n",
    "plt.show()"
   ]
  }
 ],
 "metadata": {
  "kernelspec": {
   "display_name": "Python 3 (ipykernel)",
   "language": "python",
   "name": "python3"
  },
  "language_info": {
   "codemirror_mode": {
    "name": "ipython",
    "version": 3
   },
   "file_extension": ".py",
   "mimetype": "text/x-python",
   "name": "python",
   "nbconvert_exporter": "python",
   "pygments_lexer": "ipython3",
   "version": "3.11.5"
  }
 },
 "nbformat": 4,
 "nbformat_minor": 5
}
