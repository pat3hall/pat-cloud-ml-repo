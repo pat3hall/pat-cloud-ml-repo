{
 "cells": [
  {
   "cell_type": "markdown",
   "id": "22ee6094",
   "metadata": {},
   "source": [
    "![A Cloud Guru](acg_logo.png)\n",
    "<hr/>"
   ]
  },
  {
   "cell_type": "markdown",
   "id": "6f04cf12",
   "metadata": {},
   "source": [
    "<center><h1>Perform Feature Engineering Using Amazon SageMaker</h1></center>"
   ]
  },
  {
   "cell_type": "markdown",
   "id": "1cfaf2c3",
   "metadata": {},
   "source": [
    "# Introduction\n",
    "\n",
    "In this lab, you will learn how to perform various preprocessing tasks like encoding, scaling and data binning. The provided dataset contains a list of employees with their job title, age, salary and the department and contains both numerical and text data."
   ]
  },
  {
   "cell_type": "markdown",
   "id": "b8c5183a",
   "metadata": {},
   "source": [
    "# How to Use This Lab\n",
    "\n",
    "Most of the code is provided for you in this lab as our solution to the tasks presented. Some of the cells are left empty with a #TODO header and its your turn to fill in the empty code. You can always use our lab guide if you are stuck."
   ]
  },
  {
   "cell_type": "markdown",
   "id": "246d118c",
   "metadata": {},
   "source": [
    "# 1) Import the Libraries"
   ]
  },
  {
   "cell_type": "code",
   "execution_count": null,
   "id": "2015af31",
   "metadata": {},
   "outputs": [],
   "source": [
    "import numpy as np\n",
    "import pandas as pd\n",
    "#Required for encoding purposes\n",
    "from sklearn.preprocessing import OrdinalEncoder\n",
    "from sklearn.preprocessing import OneHotEncoder\n",
    "from sklearn.preprocessing import LabelEncoder\n",
    "\n",
    "#Required for scaling purposes\n",
    "from sklearn.preprocessing import MinMaxScaler\n",
    "\n",
    "#Required for binning purposes\n",
    "from sklearn.preprocessing import KBinsDiscretizer\n",
    "\n",
    "# Required for plaotting charts\n",
    "import matplotlib.pyplot as plt"
   ]
  },
  {
   "cell_type": "markdown",
   "id": "318d9cc2",
   "metadata": {},
   "source": [
    "# 2)Read the data"
   ]
  },
  {
   "cell_type": "code",
   "execution_count": null,
   "id": "ef5c429d",
   "metadata": {},
   "outputs": [],
   "source": [
    "# TODO: Read the \"Employee_encoding.csv\" file and display the first few rows.\n"
   ]
  },
  {
   "cell_type": "markdown",
   "id": "32e72fc1",
   "metadata": {},
   "source": [
    "# 3) Encoding Techniques"
   ]
  },
  {
   "cell_type": "markdown",
   "id": "7e799126",
   "metadata": {},
   "source": [
    "<h1> 3.1) Ordinal Encoding </h1>"
   ]
  },
  {
   "cell_type": "code",
   "execution_count": null,
   "id": "169a8497",
   "metadata": {},
   "outputs": [],
   "source": [
    "# Initialize the oridnal encoder and perform fit operation\n",
    "ordinal_encoder = OrdinalEncoder()\n",
    "ordinal_encoder.fit(employee_df['title'].values.reshape(-1,1))\n",
    "ordinal_encoder.categories_"
   ]
  },
  {
   "cell_type": "code",
   "execution_count": null,
   "id": "1209deac",
   "metadata": {},
   "outputs": [],
   "source": [
    "ordinal_encoder.categories_ = [['developer','senior developer','manager','vp']]"
   ]
  },
  {
   "cell_type": "code",
   "execution_count": null,
   "id": "a4ff7590",
   "metadata": {},
   "outputs": [],
   "source": [
    "# TODO: Transform the title feature and assign the results to a new feature named \"encoded_title\" and print the top few rows.\n",
    "# Ensure the new feature contains encoded values.\n",
    "\n"
   ]
  },
  {
   "cell_type": "markdown",
   "id": "15b6e87e",
   "metadata": {},
   "source": [
    "# 3.2) One-hot Encoding"
   ]
  },
  {
   "cell_type": "code",
   "execution_count": null,
   "id": "1ef330c7",
   "metadata": {},
   "outputs": [],
   "source": [
    "gender_encoder = OneHotEncoder()"
   ]
  },
  {
   "cell_type": "code",
   "execution_count": null,
   "id": "b0684580",
   "metadata": {},
   "outputs": [],
   "source": [
    "# TODO: Apply the encoder's \"fit_transform\" on the \"gender\" feature"
   ]
  },
  {
   "cell_type": "code",
   "execution_count": null,
   "id": "c5d66dc4",
   "metadata": {},
   "outputs": [],
   "source": [
    "employee_df1 = pd.DataFrame(transform.todense(), columns=gender_encoder.categories_)\n",
    "employee_df = employee_df.join(employee_df1)\n",
    "employee_df.head()"
   ]
  },
  {
   "cell_type": "markdown",
   "id": "0c72fbdb",
   "metadata": {},
   "source": [
    "# 3.3) Label Encoding"
   ]
  },
  {
   "cell_type": "code",
   "execution_count": null,
   "id": "df86ffe8",
   "metadata": {},
   "outputs": [],
   "source": [
    "# TODO: Initialize \"LabelEncoder\" and assign it to a variable \"department_encoder\""
   ]
  },
  {
   "cell_type": "code",
   "execution_count": null,
   "id": "a2c570fc",
   "metadata": {},
   "outputs": [],
   "source": [
    "employee_df['encoded_department'] = department_encoder.fit_transform(employee_df['department'])\n",
    "department_encoder.classes_"
   ]
  },
  {
   "cell_type": "code",
   "execution_count": null,
   "id": "68851d4e",
   "metadata": {},
   "outputs": [],
   "source": [
    "employee_df.head()"
   ]
  },
  {
   "cell_type": "markdown",
   "id": "61e86c77",
   "metadata": {},
   "source": [
    "# 4) Scaling Techniques"
   ]
  },
  {
   "cell_type": "code",
   "execution_count": null,
   "id": "c374081e",
   "metadata": {},
   "outputs": [],
   "source": [
    "# We will scale the salary feature using MinMaxScaler\n",
    "\n",
    "mmscaler = MinMaxScaler(clip=True)\n",
    "mmscaler.fit(employee_df['salary'].values.reshape(-1,1))\n",
    "employee_df['salary_minmax_scaled'] = mmscaler.transform(employee_df['salary'].values.reshape(-1,1))"
   ]
  },
  {
   "cell_type": "code",
   "execution_count": null,
   "id": "b5eb24fe",
   "metadata": {},
   "outputs": [],
   "source": [
    "# TODO: Invoke \"describe\" function on the new feature 'salary_minmax_scaled'.\n",
    "# ensure the minimum value is 0 and the maximum value is 1\n"
   ]
  },
  {
   "cell_type": "markdown",
   "id": "3f882880",
   "metadata": {},
   "source": [
    "# 5) Binning Techniques"
   ]
  },
  {
   "cell_type": "code",
   "execution_count": null,
   "id": "cf68c730",
   "metadata": {},
   "outputs": [],
   "source": [
    "# TODO: Initialize \"KBinsDiscretizer\" with 10 bins, setting the strategy to \"quantile\" and encode to \"ordinal\" "
   ]
  },
  {
   "cell_type": "code",
   "execution_count": null,
   "id": "7d1feed4",
   "metadata": {},
   "outputs": [],
   "source": [
    "employee_df['age_bin'] = kbins.fit_transform(employee_df['age'].values.reshape(-1,1))\n",
    "employee_df.head()"
   ]
  },
  {
   "cell_type": "code",
   "execution_count": null,
   "id": "281f8270",
   "metadata": {},
   "outputs": [],
   "source": [
    "# Lets visualize it by platting a chart\n",
    "\n",
    "plt.hist(employee_df['age_bin'])"
   ]
  }
 ],
 "metadata": {
  "kernelspec": {
   "display_name": "Python 3 (ipykernel)",
   "language": "python",
   "name": "python3"
  },
  "language_info": {
   "codemirror_mode": {
    "name": "ipython",
    "version": 3
   },
   "file_extension": ".py",
   "mimetype": "text/x-python",
   "name": "python",
   "nbconvert_exporter": "python",
   "pygments_lexer": "ipython3",
   "version": "3.11.5"
  }
 },
 "nbformat": 4,
 "nbformat_minor": 5
}
