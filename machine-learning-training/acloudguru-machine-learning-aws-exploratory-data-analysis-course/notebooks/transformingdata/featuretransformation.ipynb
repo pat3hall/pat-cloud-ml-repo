{
 "cells": [
  {
   "cell_type": "code",
   "execution_count": 1,
   "id": "a0faf9e8",
   "metadata": {},
   "outputs": [],
   "source": [
    "import pandas as pd\n",
    "import numpy as np\n",
    "from sklearn.preprocessing import StandardScaler\n",
    "scaler = StandardScaler()"
   ]
  },
  {
   "cell_type": "code",
   "execution_count": 2,
   "id": "f8f1b6fa",
   "metadata": {},
   "outputs": [
    {
     "data": {
      "text/html": [
       "<div>\n",
       "<style scoped>\n",
       "    .dataframe tbody tr th:only-of-type {\n",
       "        vertical-align: middle;\n",
       "    }\n",
       "\n",
       "    .dataframe tbody tr th {\n",
       "        vertical-align: top;\n",
       "    }\n",
       "\n",
       "    .dataframe thead th {\n",
       "        text-align: right;\n",
       "    }\n",
       "</style>\n",
       "<table border=\"1\" class=\"dataframe\">\n",
       "  <thead>\n",
       "    <tr style=\"text-align: right;\">\n",
       "      <th></th>\n",
       "      <th>employee_id</th>\n",
       "      <th>first_name</th>\n",
       "      <th>last_name</th>\n",
       "      <th>age</th>\n",
       "      <th>gender</th>\n",
       "      <th>department</th>\n",
       "      <th>salary</th>\n",
       "    </tr>\n",
       "  </thead>\n",
       "  <tbody>\n",
       "    <tr>\n",
       "      <th>0</th>\n",
       "      <td>1</td>\n",
       "      <td>John</td>\n",
       "      <td>Doe</td>\n",
       "      <td>35</td>\n",
       "      <td>Male</td>\n",
       "      <td>Marketing</td>\n",
       "      <td>50000</td>\n",
       "    </tr>\n",
       "    <tr>\n",
       "      <th>1</th>\n",
       "      <td>1</td>\n",
       "      <td>John</td>\n",
       "      <td>Doe</td>\n",
       "      <td>35</td>\n",
       "      <td>Male</td>\n",
       "      <td>Marketing</td>\n",
       "      <td>50000</td>\n",
       "    </tr>\n",
       "    <tr>\n",
       "      <th>2</th>\n",
       "      <td>2</td>\n",
       "      <td>Jane</td>\n",
       "      <td>Smith</td>\n",
       "      <td>28</td>\n",
       "      <td>Female</td>\n",
       "      <td>Sales</td>\n",
       "      <td>60000</td>\n",
       "    </tr>\n",
       "    <tr>\n",
       "      <th>3</th>\n",
       "      <td>3</td>\n",
       "      <td>Michael</td>\n",
       "      <td>Johnson</td>\n",
       "      <td>42</td>\n",
       "      <td>Male</td>\n",
       "      <td>Finance</td>\n",
       "      <td>70000</td>\n",
       "    </tr>\n",
       "    <tr>\n",
       "      <th>4</th>\n",
       "      <td>4</td>\n",
       "      <td>Emily</td>\n",
       "      <td>Williams</td>\n",
       "      <td>31</td>\n",
       "      <td>Female</td>\n",
       "      <td>HR</td>\n",
       "      <td>55000</td>\n",
       "    </tr>\n",
       "  </tbody>\n",
       "</table>\n",
       "</div>"
      ],
      "text/plain": [
       "   employee_id first_name last_name  age  gender department  salary\n",
       "0            1       John       Doe   35    Male  Marketing   50000\n",
       "1            1       John       Doe   35    Male  Marketing   50000\n",
       "2            2       Jane     Smith   28  Female      Sales   60000\n",
       "3            3    Michael   Johnson   42    Male    Finance   70000\n",
       "4            4      Emily  Williams   31  Female         HR   55000"
      ]
     },
     "execution_count": 2,
     "metadata": {},
     "output_type": "execute_result"
    }
   ],
   "source": [
    "employee_df = pd.read_csv('Employee.csv')\n",
    "employee_df.head()"
   ]
  },
  {
   "cell_type": "code",
   "execution_count": 3,
   "id": "c294c5a3-27b5-4dd9-ba9a-04a8b117e1ff",
   "metadata": {},
   "outputs": [
    {
     "name": "stdout",
     "output_type": "stream",
     "text": [
      "salary min: 50000, salary max: 132000\n"
     ]
    }
   ],
   "source": [
    "print(f\"salary min: {min(employee_df['salary'])}, salary max: {max(employee_df['salary'])}\")"
   ]
  },
  {
   "cell_type": "code",
   "execution_count": 8,
   "id": "f8fa890b-493a-491c-a124-5e6fff8ee0ee",
   "metadata": {},
   "outputs": [
    {
     "data": {
      "text/plain": [
       "(101, 1)"
      ]
     },
     "execution_count": 8,
     "metadata": {},
     "output_type": "execute_result"
    }
   ],
   "source": [
    "t_salary = employee_df['salary'].values.reshape(-1,1)\n",
    "t_salary.shape"
   ]
  },
  {
   "cell_type": "code",
   "execution_count": 9,
   "id": "8f720040",
   "metadata": {},
   "outputs": [
    {
     "data": {
      "text/html": [
       "<style>#sk-container-id-1 {color: black;background-color: white;}#sk-container-id-1 pre{padding: 0;}#sk-container-id-1 div.sk-toggleable {background-color: white;}#sk-container-id-1 label.sk-toggleable__label {cursor: pointer;display: block;width: 100%;margin-bottom: 0;padding: 0.3em;box-sizing: border-box;text-align: center;}#sk-container-id-1 label.sk-toggleable__label-arrow:before {content: \"▸\";float: left;margin-right: 0.25em;color: #696969;}#sk-container-id-1 label.sk-toggleable__label-arrow:hover:before {color: black;}#sk-container-id-1 div.sk-estimator:hover label.sk-toggleable__label-arrow:before {color: black;}#sk-container-id-1 div.sk-toggleable__content {max-height: 0;max-width: 0;overflow: hidden;text-align: left;background-color: #f0f8ff;}#sk-container-id-1 div.sk-toggleable__content pre {margin: 0.2em;color: black;border-radius: 0.25em;background-color: #f0f8ff;}#sk-container-id-1 input.sk-toggleable__control:checked~div.sk-toggleable__content {max-height: 200px;max-width: 100%;overflow: auto;}#sk-container-id-1 input.sk-toggleable__control:checked~label.sk-toggleable__label-arrow:before {content: \"▾\";}#sk-container-id-1 div.sk-estimator input.sk-toggleable__control:checked~label.sk-toggleable__label {background-color: #d4ebff;}#sk-container-id-1 div.sk-label input.sk-toggleable__control:checked~label.sk-toggleable__label {background-color: #d4ebff;}#sk-container-id-1 input.sk-hidden--visually {border: 0;clip: rect(1px 1px 1px 1px);clip: rect(1px, 1px, 1px, 1px);height: 1px;margin: -1px;overflow: hidden;padding: 0;position: absolute;width: 1px;}#sk-container-id-1 div.sk-estimator {font-family: monospace;background-color: #f0f8ff;border: 1px dotted black;border-radius: 0.25em;box-sizing: border-box;margin-bottom: 0.5em;}#sk-container-id-1 div.sk-estimator:hover {background-color: #d4ebff;}#sk-container-id-1 div.sk-parallel-item::after {content: \"\";width: 100%;border-bottom: 1px solid gray;flex-grow: 1;}#sk-container-id-1 div.sk-label:hover label.sk-toggleable__label {background-color: #d4ebff;}#sk-container-id-1 div.sk-serial::before {content: \"\";position: absolute;border-left: 1px solid gray;box-sizing: border-box;top: 0;bottom: 0;left: 50%;z-index: 0;}#sk-container-id-1 div.sk-serial {display: flex;flex-direction: column;align-items: center;background-color: white;padding-right: 0.2em;padding-left: 0.2em;position: relative;}#sk-container-id-1 div.sk-item {position: relative;z-index: 1;}#sk-container-id-1 div.sk-parallel {display: flex;align-items: stretch;justify-content: center;background-color: white;position: relative;}#sk-container-id-1 div.sk-item::before, #sk-container-id-1 div.sk-parallel-item::before {content: \"\";position: absolute;border-left: 1px solid gray;box-sizing: border-box;top: 0;bottom: 0;left: 50%;z-index: -1;}#sk-container-id-1 div.sk-parallel-item {display: flex;flex-direction: column;z-index: 1;position: relative;background-color: white;}#sk-container-id-1 div.sk-parallel-item:first-child::after {align-self: flex-end;width: 50%;}#sk-container-id-1 div.sk-parallel-item:last-child::after {align-self: flex-start;width: 50%;}#sk-container-id-1 div.sk-parallel-item:only-child::after {width: 0;}#sk-container-id-1 div.sk-dashed-wrapped {border: 1px dashed gray;margin: 0 0.4em 0.5em 0.4em;box-sizing: border-box;padding-bottom: 0.4em;background-color: white;}#sk-container-id-1 div.sk-label label {font-family: monospace;font-weight: bold;display: inline-block;line-height: 1.2em;}#sk-container-id-1 div.sk-label-container {text-align: center;}#sk-container-id-1 div.sk-container {/* jupyter's `normalize.less` sets `[hidden] { display: none; }` but bootstrap.min.css set `[hidden] { display: none !important; }` so we also need the `!important` here to be able to override the default hidden behavior on the sphinx rendered scikit-learn.org. See: https://github.com/scikit-learn/scikit-learn/issues/21755 */display: inline-block !important;position: relative;}#sk-container-id-1 div.sk-text-repr-fallback {display: none;}</style><div id=\"sk-container-id-1\" class=\"sk-top-container\"><div class=\"sk-text-repr-fallback\"><pre>StandardScaler()</pre><b>In a Jupyter environment, please rerun this cell to show the HTML representation or trust the notebook. <br />On GitHub, the HTML representation is unable to render, please try loading this page with nbviewer.org.</b></div><div class=\"sk-container\" hidden><div class=\"sk-item\"><div class=\"sk-estimator sk-toggleable\"><input class=\"sk-toggleable__control sk-hidden--visually\" id=\"sk-estimator-id-1\" type=\"checkbox\" checked><label for=\"sk-estimator-id-1\" class=\"sk-toggleable__label sk-toggleable__label-arrow\">StandardScaler</label><div class=\"sk-toggleable__content\"><pre>StandardScaler()</pre></div></div></div></div></div>"
      ],
      "text/plain": [
       "StandardScaler()"
      ]
     },
     "execution_count": 9,
     "metadata": {},
     "output_type": "execute_result"
    }
   ],
   "source": [
    "scaler.fit(employee_df['salary'].values.reshape(-1,1))"
   ]
  },
  {
   "cell_type": "code",
   "execution_count": 10,
   "id": "acf79a08",
   "metadata": {},
   "outputs": [
    {
     "data": {
      "text/html": [
       "<div>\n",
       "<style scoped>\n",
       "    .dataframe tbody tr th:only-of-type {\n",
       "        vertical-align: middle;\n",
       "    }\n",
       "\n",
       "    .dataframe tbody tr th {\n",
       "        vertical-align: top;\n",
       "    }\n",
       "\n",
       "    .dataframe thead th {\n",
       "        text-align: right;\n",
       "    }\n",
       "</style>\n",
       "<table border=\"1\" class=\"dataframe\">\n",
       "  <thead>\n",
       "    <tr style=\"text-align: right;\">\n",
       "      <th></th>\n",
       "      <th>scaled_salary</th>\n",
       "    </tr>\n",
       "  </thead>\n",
       "  <tbody>\n",
       "    <tr>\n",
       "      <th>count</th>\n",
       "      <td>1.010000e+02</td>\n",
       "    </tr>\n",
       "    <tr>\n",
       "      <th>mean</th>\n",
       "      <td>2.385331e-16</td>\n",
       "    </tr>\n",
       "    <tr>\n",
       "      <th>std</th>\n",
       "      <td>1.004988e+00</td>\n",
       "    </tr>\n",
       "    <tr>\n",
       "      <th>min</th>\n",
       "      <td>-1.672671e+00</td>\n",
       "    </tr>\n",
       "    <tr>\n",
       "      <th>25%</th>\n",
       "      <td>-7.182091e-01</td>\n",
       "    </tr>\n",
       "    <tr>\n",
       "      <th>50%</th>\n",
       "      <td>-1.879524e-01</td>\n",
       "    </tr>\n",
       "    <tr>\n",
       "      <th>75%</th>\n",
       "      <td>5.544070e-01</td>\n",
       "    </tr>\n",
       "    <tr>\n",
       "      <th>max</th>\n",
       "      <td>2.675434e+00</td>\n",
       "    </tr>\n",
       "  </tbody>\n",
       "</table>\n",
       "</div>"
      ],
      "text/plain": [
       "       scaled_salary\n",
       "count   1.010000e+02\n",
       "mean    2.385331e-16\n",
       "std     1.004988e+00\n",
       "min    -1.672671e+00\n",
       "25%    -7.182091e-01\n",
       "50%    -1.879524e-01\n",
       "75%     5.544070e-01\n",
       "max     2.675434e+00"
      ]
     },
     "execution_count": 10,
     "metadata": {},
     "output_type": "execute_result"
    }
   ],
   "source": [
    "employee_df['scaled_salary'] = scaler.transform(employee_df['salary'].values.reshape(-1,1))\n",
    "employee_df[['scaled_salary']].describe()"
   ]
  },
  {
   "cell_type": "code",
   "execution_count": 12,
   "id": "91a586d5-98bf-468a-973a-eed259d2d971",
   "metadata": {},
   "outputs": [
    {
     "name": "stdout",
     "output_type": "stream",
     "text": [
      "salary min: -1.6726711876510414, salary max: 2.6754338896012895\n"
     ]
    }
   ],
   "source": [
    "print(f\"salary min: {min(employee_df['scaled_salary'])}, salary max: {max(employee_df['scaled_salary'])}\")"
   ]
  },
  {
   "cell_type": "code",
   "execution_count": 13,
   "id": "bd8c03f4",
   "metadata": {},
   "outputs": [],
   "source": [
    "from sklearn.preprocessing import MinMaxScaler\n",
    "mmscaler = MinMaxScaler(clip=True)"
   ]
  },
  {
   "cell_type": "code",
   "execution_count": 14,
   "id": "58bbeec0",
   "metadata": {},
   "outputs": [
    {
     "data": {
      "text/html": [
       "<div>\n",
       "<style scoped>\n",
       "    .dataframe tbody tr th:only-of-type {\n",
       "        vertical-align: middle;\n",
       "    }\n",
       "\n",
       "    .dataframe tbody tr th {\n",
       "        vertical-align: top;\n",
       "    }\n",
       "\n",
       "    .dataframe thead th {\n",
       "        text-align: right;\n",
       "    }\n",
       "</style>\n",
       "<table border=\"1\" class=\"dataframe\">\n",
       "  <thead>\n",
       "    <tr style=\"text-align: right;\">\n",
       "      <th></th>\n",
       "      <th>salary_minmax_scaled</th>\n",
       "    </tr>\n",
       "  </thead>\n",
       "  <tbody>\n",
       "    <tr>\n",
       "      <th>count</th>\n",
       "      <td>101.000000</td>\n",
       "    </tr>\n",
       "    <tr>\n",
       "      <th>mean</th>\n",
       "      <td>0.384690</td>\n",
       "    </tr>\n",
       "    <tr>\n",
       "      <th>std</th>\n",
       "      <td>0.231132</td>\n",
       "    </tr>\n",
       "    <tr>\n",
       "      <th>min</th>\n",
       "      <td>0.000000</td>\n",
       "    </tr>\n",
       "    <tr>\n",
       "      <th>25%</th>\n",
       "      <td>0.219512</td>\n",
       "    </tr>\n",
       "    <tr>\n",
       "      <th>50%</th>\n",
       "      <td>0.341463</td>\n",
       "    </tr>\n",
       "    <tr>\n",
       "      <th>75%</th>\n",
       "      <td>0.512195</td>\n",
       "    </tr>\n",
       "    <tr>\n",
       "      <th>max</th>\n",
       "      <td>1.000000</td>\n",
       "    </tr>\n",
       "  </tbody>\n",
       "</table>\n",
       "</div>"
      ],
      "text/plain": [
       "       salary_minmax_scaled\n",
       "count            101.000000\n",
       "mean               0.384690\n",
       "std                0.231132\n",
       "min                0.000000\n",
       "25%                0.219512\n",
       "50%                0.341463\n",
       "75%                0.512195\n",
       "max                1.000000"
      ]
     },
     "execution_count": 14,
     "metadata": {},
     "output_type": "execute_result"
    }
   ],
   "source": [
    "mmscaler.fit(employee_df['salary'].values.reshape(-1,1),)\n",
    "employee_df['salary_minmax_scaled'] = mmscaler.transform(employee_df['salary'].values.reshape(-1,1))\n",
    "employee_df[['salary_minmax_scaled']].describe()"
   ]
  },
  {
   "cell_type": "code",
   "execution_count": 7,
   "id": "3bc8e6f0",
   "metadata": {},
   "outputs": [
    {
     "data": {
      "text/html": [
       "<div>\n",
       "<style scoped>\n",
       "    .dataframe tbody tr th:only-of-type {\n",
       "        vertical-align: middle;\n",
       "    }\n",
       "\n",
       "    .dataframe tbody tr th {\n",
       "        vertical-align: top;\n",
       "    }\n",
       "\n",
       "    .dataframe thead th {\n",
       "        text-align: right;\n",
       "    }\n",
       "</style>\n",
       "<table border=\"1\" class=\"dataframe\">\n",
       "  <thead>\n",
       "    <tr style=\"text-align: right;\">\n",
       "      <th></th>\n",
       "      <th>employee_id</th>\n",
       "      <th>first_name</th>\n",
       "      <th>last_name</th>\n",
       "      <th>age</th>\n",
       "      <th>gender</th>\n",
       "      <th>department</th>\n",
       "      <th>salary</th>\n",
       "      <th>scaled_salary</th>\n",
       "      <th>salary_minmax_scaled</th>\n",
       "    </tr>\n",
       "  </thead>\n",
       "  <tbody>\n",
       "    <tr>\n",
       "      <th>0</th>\n",
       "      <td>1</td>\n",
       "      <td>John</td>\n",
       "      <td>Doe</td>\n",
       "      <td>35</td>\n",
       "      <td>Male</td>\n",
       "      <td>Marketing</td>\n",
       "      <td>50000</td>\n",
       "      <td>-1.672671</td>\n",
       "      <td>0.000000</td>\n",
       "    </tr>\n",
       "    <tr>\n",
       "      <th>1</th>\n",
       "      <td>1</td>\n",
       "      <td>John</td>\n",
       "      <td>Doe</td>\n",
       "      <td>35</td>\n",
       "      <td>Male</td>\n",
       "      <td>Marketing</td>\n",
       "      <td>50000</td>\n",
       "      <td>-1.672671</td>\n",
       "      <td>0.000000</td>\n",
       "    </tr>\n",
       "    <tr>\n",
       "      <th>2</th>\n",
       "      <td>2</td>\n",
       "      <td>Jane</td>\n",
       "      <td>Smith</td>\n",
       "      <td>28</td>\n",
       "      <td>Female</td>\n",
       "      <td>Sales</td>\n",
       "      <td>60000</td>\n",
       "      <td>-1.142414</td>\n",
       "      <td>0.121951</td>\n",
       "    </tr>\n",
       "    <tr>\n",
       "      <th>3</th>\n",
       "      <td>3</td>\n",
       "      <td>Michael</td>\n",
       "      <td>Johnson</td>\n",
       "      <td>42</td>\n",
       "      <td>Male</td>\n",
       "      <td>Finance</td>\n",
       "      <td>70000</td>\n",
       "      <td>-0.612158</td>\n",
       "      <td>0.243902</td>\n",
       "    </tr>\n",
       "    <tr>\n",
       "      <th>4</th>\n",
       "      <td>4</td>\n",
       "      <td>Emily</td>\n",
       "      <td>Williams</td>\n",
       "      <td>31</td>\n",
       "      <td>Female</td>\n",
       "      <td>HR</td>\n",
       "      <td>55000</td>\n",
       "      <td>-1.407543</td>\n",
       "      <td>0.060976</td>\n",
       "    </tr>\n",
       "  </tbody>\n",
       "</table>\n",
       "</div>"
      ],
      "text/plain": [
       "   employee_id first_name last_name  age  gender department  salary  \\\n",
       "0            1       John       Doe   35    Male  Marketing   50000   \n",
       "1            1       John       Doe   35    Male  Marketing   50000   \n",
       "2            2       Jane     Smith   28  Female      Sales   60000   \n",
       "3            3    Michael   Johnson   42    Male    Finance   70000   \n",
       "4            4      Emily  Williams   31  Female         HR   55000   \n",
       "\n",
       "   scaled_salary  salary_minmax_scaled  \n",
       "0      -1.672671              0.000000  \n",
       "1      -1.672671              0.000000  \n",
       "2      -1.142414              0.121951  \n",
       "3      -0.612158              0.243902  \n",
       "4      -1.407543              0.060976  "
      ]
     },
     "execution_count": 7,
     "metadata": {},
     "output_type": "execute_result"
    }
   ],
   "source": [
    "employee_df.head()"
   ]
  },
  {
   "cell_type": "code",
   "execution_count": null,
   "id": "031eeb1b",
   "metadata": {},
   "outputs": [],
   "source": []
  },
  {
   "cell_type": "code",
   "execution_count": null,
   "id": "2b698c3f",
   "metadata": {},
   "outputs": [],
   "source": []
  },
  {
   "cell_type": "code",
   "execution_count": null,
   "id": "8f32cd92",
   "metadata": {},
   "outputs": [],
   "source": []
  },
  {
   "cell_type": "code",
   "execution_count": null,
   "id": "e4643012",
   "metadata": {},
   "outputs": [],
   "source": []
  },
  {
   "cell_type": "code",
   "execution_count": null,
   "id": "e3876243",
   "metadata": {},
   "outputs": [],
   "source": []
  },
  {
   "cell_type": "code",
   "execution_count": null,
   "id": "d63ffcd0",
   "metadata": {},
   "outputs": [],
   "source": []
  },
  {
   "cell_type": "code",
   "execution_count": null,
   "id": "8564eb01",
   "metadata": {},
   "outputs": [],
   "source": []
  },
  {
   "cell_type": "code",
   "execution_count": null,
   "id": "eec3d8f5",
   "metadata": {},
   "outputs": [],
   "source": []
  },
  {
   "cell_type": "code",
   "execution_count": null,
   "id": "88b4632f",
   "metadata": {},
   "outputs": [],
   "source": []
  },
  {
   "cell_type": "code",
   "execution_count": 15,
   "id": "b2c8b4f6",
   "metadata": {},
   "outputs": [],
   "source": [
    "import pandas as pd\n",
    "import numpy as np\n",
    "import matplotlib.pyplot as plt"
   ]
  },
  {
   "cell_type": "code",
   "execution_count": 16,
   "id": "c01c6250",
   "metadata": {},
   "outputs": [
    {
     "data": {
      "text/html": [
       "<div>\n",
       "<style scoped>\n",
       "    .dataframe tbody tr th:only-of-type {\n",
       "        vertical-align: middle;\n",
       "    }\n",
       "\n",
       "    .dataframe tbody tr th {\n",
       "        vertical-align: top;\n",
       "    }\n",
       "\n",
       "    .dataframe thead th {\n",
       "        text-align: right;\n",
       "    }\n",
       "</style>\n",
       "<table border=\"1\" class=\"dataframe\">\n",
       "  <thead>\n",
       "    <tr style=\"text-align: right;\">\n",
       "      <th></th>\n",
       "      <th>employee_id</th>\n",
       "      <th>first_name</th>\n",
       "      <th>last_name</th>\n",
       "      <th>age</th>\n",
       "      <th>gender</th>\n",
       "      <th>department</th>\n",
       "      <th>salary</th>\n",
       "    </tr>\n",
       "  </thead>\n",
       "  <tbody>\n",
       "    <tr>\n",
       "      <th>0</th>\n",
       "      <td>1</td>\n",
       "      <td>John</td>\n",
       "      <td>Doe</td>\n",
       "      <td>35</td>\n",
       "      <td>Male</td>\n",
       "      <td>Marketing</td>\n",
       "      <td>500000</td>\n",
       "    </tr>\n",
       "    <tr>\n",
       "      <th>1</th>\n",
       "      <td>2</td>\n",
       "      <td>Jane</td>\n",
       "      <td>Smith</td>\n",
       "      <td>28</td>\n",
       "      <td>Female</td>\n",
       "      <td>Sales</td>\n",
       "      <td>60000</td>\n",
       "    </tr>\n",
       "    <tr>\n",
       "      <th>2</th>\n",
       "      <td>3</td>\n",
       "      <td>Michael</td>\n",
       "      <td>Johnson</td>\n",
       "      <td>42</td>\n",
       "      <td>Male</td>\n",
       "      <td>Finance</td>\n",
       "      <td>70000</td>\n",
       "    </tr>\n",
       "    <tr>\n",
       "      <th>3</th>\n",
       "      <td>4</td>\n",
       "      <td>Emily</td>\n",
       "      <td>Williams</td>\n",
       "      <td>31</td>\n",
       "      <td>Female</td>\n",
       "      <td>HR</td>\n",
       "      <td>55000</td>\n",
       "    </tr>\n",
       "    <tr>\n",
       "      <th>4</th>\n",
       "      <td>5</td>\n",
       "      <td>James</td>\n",
       "      <td>Brown</td>\n",
       "      <td>37</td>\n",
       "      <td>Male</td>\n",
       "      <td>Operations</td>\n",
       "      <td>65000</td>\n",
       "    </tr>\n",
       "  </tbody>\n",
       "</table>\n",
       "</div>"
      ],
      "text/plain": [
       "   employee_id first_name last_name  age  gender  department  salary\n",
       "0            1       John       Doe   35    Male   Marketing  500000\n",
       "1            2       Jane     Smith   28  Female       Sales   60000\n",
       "2            3    Michael   Johnson   42    Male     Finance   70000\n",
       "3            4      Emily  Williams   31  Female          HR   55000\n",
       "4            5      James     Brown   37    Male  Operations   65000"
      ]
     },
     "execution_count": 16,
     "metadata": {},
     "output_type": "execute_result"
    }
   ],
   "source": [
    "employee_df = pd.read_csv('Employee_transformation.csv')\n",
    "employee_df.head()"
   ]
  },
  {
   "cell_type": "code",
   "execution_count": 17,
   "id": "d11a0700",
   "metadata": {},
   "outputs": [
    {
     "data": {
      "text/plain": [
       "52000"
      ]
     },
     "execution_count": 17,
     "metadata": {},
     "output_type": "execute_result"
    }
   ],
   "source": [
    "np.min(employee_df['salary'])"
   ]
  },
  {
   "cell_type": "code",
   "execution_count": 29,
   "id": "bd3f37cc",
   "metadata": {},
   "outputs": [
    {
     "data": {
      "text/plain": [
       "500000"
      ]
     },
     "execution_count": 29,
     "metadata": {},
     "output_type": "execute_result"
    }
   ],
   "source": [
    "np.max(employee_df['salary'])"
   ]
  },
  {
   "cell_type": "code",
   "execution_count": 18,
   "id": "bd862131",
   "metadata": {},
   "outputs": [
    {
     "data": {
      "text/html": [
       "<div>\n",
       "<style scoped>\n",
       "    .dataframe tbody tr th:only-of-type {\n",
       "        vertical-align: middle;\n",
       "    }\n",
       "\n",
       "    .dataframe tbody tr th {\n",
       "        vertical-align: top;\n",
       "    }\n",
       "\n",
       "    .dataframe thead th {\n",
       "        text-align: right;\n",
       "    }\n",
       "</style>\n",
       "<table border=\"1\" class=\"dataframe\">\n",
       "  <thead>\n",
       "    <tr style=\"text-align: right;\">\n",
       "      <th></th>\n",
       "      <th>employee_id</th>\n",
       "      <th>first_name</th>\n",
       "      <th>last_name</th>\n",
       "      <th>age</th>\n",
       "      <th>gender</th>\n",
       "      <th>department</th>\n",
       "      <th>salary</th>\n",
       "      <th>log_salary</th>\n",
       "    </tr>\n",
       "  </thead>\n",
       "  <tbody>\n",
       "    <tr>\n",
       "      <th>0</th>\n",
       "      <td>1</td>\n",
       "      <td>John</td>\n",
       "      <td>Doe</td>\n",
       "      <td>35</td>\n",
       "      <td>Male</td>\n",
       "      <td>Marketing</td>\n",
       "      <td>500000</td>\n",
       "      <td>13.122363</td>\n",
       "    </tr>\n",
       "    <tr>\n",
       "      <th>1</th>\n",
       "      <td>2</td>\n",
       "      <td>Jane</td>\n",
       "      <td>Smith</td>\n",
       "      <td>28</td>\n",
       "      <td>Female</td>\n",
       "      <td>Sales</td>\n",
       "      <td>60000</td>\n",
       "      <td>11.002100</td>\n",
       "    </tr>\n",
       "    <tr>\n",
       "      <th>2</th>\n",
       "      <td>3</td>\n",
       "      <td>Michael</td>\n",
       "      <td>Johnson</td>\n",
       "      <td>42</td>\n",
       "      <td>Male</td>\n",
       "      <td>Finance</td>\n",
       "      <td>70000</td>\n",
       "      <td>11.156251</td>\n",
       "    </tr>\n",
       "    <tr>\n",
       "      <th>3</th>\n",
       "      <td>4</td>\n",
       "      <td>Emily</td>\n",
       "      <td>Williams</td>\n",
       "      <td>31</td>\n",
       "      <td>Female</td>\n",
       "      <td>HR</td>\n",
       "      <td>55000</td>\n",
       "      <td>10.915088</td>\n",
       "    </tr>\n",
       "    <tr>\n",
       "      <th>4</th>\n",
       "      <td>5</td>\n",
       "      <td>James</td>\n",
       "      <td>Brown</td>\n",
       "      <td>37</td>\n",
       "      <td>Male</td>\n",
       "      <td>Operations</td>\n",
       "      <td>65000</td>\n",
       "      <td>11.082143</td>\n",
       "    </tr>\n",
       "  </tbody>\n",
       "</table>\n",
       "</div>"
      ],
      "text/plain": [
       "   employee_id first_name last_name  age  gender  department  salary  \\\n",
       "0            1       John       Doe   35    Male   Marketing  500000   \n",
       "1            2       Jane     Smith   28  Female       Sales   60000   \n",
       "2            3    Michael   Johnson   42    Male     Finance   70000   \n",
       "3            4      Emily  Williams   31  Female          HR   55000   \n",
       "4            5      James     Brown   37    Male  Operations   65000   \n",
       "\n",
       "   log_salary  \n",
       "0   13.122363  \n",
       "1   11.002100  \n",
       "2   11.156251  \n",
       "3   10.915088  \n",
       "4   11.082143  "
      ]
     },
     "execution_count": 18,
     "metadata": {},
     "output_type": "execute_result"
    }
   ],
   "source": [
    "employee_df['log_salary'] = np.log(employee_df['salary'])\n",
    "employee_df.head()"
   ]
  },
  {
   "cell_type": "code",
   "execution_count": 19,
   "id": "9aac3908",
   "metadata": {},
   "outputs": [
    {
     "data": {
      "text/plain": [
       "10.858998997563564"
      ]
     },
     "execution_count": 19,
     "metadata": {},
     "output_type": "execute_result"
    }
   ],
   "source": [
    "np.min(employee_df['log_salary'])"
   ]
  },
  {
   "cell_type": "code",
   "execution_count": 20,
   "id": "c4d23ec2",
   "metadata": {},
   "outputs": [
    {
     "data": {
      "text/plain": [
       "13.122363377404328"
      ]
     },
     "execution_count": 20,
     "metadata": {},
     "output_type": "execute_result"
    }
   ],
   "source": [
    "np.max(employee_df['log_salary'])"
   ]
  },
  {
   "cell_type": "code",
   "execution_count": 21,
   "id": "76fc0ef0",
   "metadata": {},
   "outputs": [
    {
     "data": {
      "text/plain": [
       "(array([ 6.,  5.,  8.,  7., 13., 10., 10.,  5.,  9.,  4.,  4.,  4.,  4.,\n",
       "         2.,  3.,  1.,  2.,  1.,  0.,  0.,  0.,  0.,  0.,  0.,  0.,  0.,\n",
       "         0.,  0.,  0.,  0.,  0.,  0.,  0.,  0.,  0.,  0.,  0.,  0.,  0.,\n",
       "         0.,  0.,  0.,  0.,  0.,  0.,  0.,  0.,  0.,  0.,  0.,  0.,  0.,\n",
       "         0.,  0.,  0.,  0.,  0.,  0.,  0.,  0.,  0.,  0.,  0.,  0.,  0.,\n",
       "         0.,  0.,  0.,  0.,  0.,  0.,  0.,  0.,  0.,  0.,  0.,  0.,  0.,\n",
       "         0.,  0.,  0.,  0.,  0.,  0.,  0.,  0.,  0.,  0.,  0.,  0.,  0.,\n",
       "         0.,  0.,  0.,  0.,  0.,  0.,  0.,  0.,  1.]),\n",
       " array([ 52000.,  56480.,  60960.,  65440.,  69920.,  74400.,  78880.,\n",
       "         83360.,  87840.,  92320.,  96800., 101280., 105760., 110240.,\n",
       "        114720., 119200., 123680., 128160., 132640., 137120., 141600.,\n",
       "        146080., 150560., 155040., 159520., 164000., 168480., 172960.,\n",
       "        177440., 181920., 186400., 190880., 195360., 199840., 204320.,\n",
       "        208800., 213280., 217760., 222240., 226720., 231200., 235680.,\n",
       "        240160., 244640., 249120., 253600., 258080., 262560., 267040.,\n",
       "        271520., 276000., 280480., 284960., 289440., 293920., 298400.,\n",
       "        302880., 307360., 311840., 316320., 320800., 325280., 329760.,\n",
       "        334240., 338720., 343200., 347680., 352160., 356640., 361120.,\n",
       "        365600., 370080., 374560., 379040., 383520., 388000., 392480.,\n",
       "        396960., 401440., 405920., 410400., 414880., 419360., 423840.,\n",
       "        428320., 432800., 437280., 441760., 446240., 450720., 455200.,\n",
       "        459680., 464160., 468640., 473120., 477600., 482080., 486560.,\n",
       "        491040., 495520., 500000.]),\n",
       " <BarContainer object of 100 artists>)"
      ]
     },
     "execution_count": 21,
     "metadata": {},
     "output_type": "execute_result"
    },
    {
     "data": {
      "image/png": "[encoded data removed]",
      "text/plain": [
       "<Figure size 640x480 with 1 Axes>"
      ]
     },
     "metadata": {},
     "output_type": "display_data"
    }
   ],
   "source": [
    "plt.hist(employee_df['salary'], bins=100)"
   ]
  },
  {
   "cell_type": "code",
   "execution_count": 26,
   "id": "7056f451",
   "metadata": {},
   "outputs": [
    {
     "data": {
      "text/plain": [
       "(array([2., 1., 2., 1., 2., 0., 3., 3., 1., 4., 2., 5., 0., 5., 6., 2., 5.,\n",
       "        5., 1., 5., 4., 3., 2., 3., 2., 4., 3., 4., 1., 2., 0., 2., 3., 3.,\n",
       "        0., 2., 1., 1., 1., 1., 0., 1., 0., 0., 0., 0., 0., 0., 0., 0., 0.,\n",
       "        0., 0., 0., 0., 0., 0., 0., 0., 0., 0., 0., 0., 0., 0., 0., 0., 0.,\n",
       "        0., 0., 0., 0., 0., 0., 0., 0., 0., 0., 0., 0., 0., 0., 0., 0., 0.,\n",
       "        0., 0., 0., 0., 0., 0., 0., 0., 0., 0., 0., 0., 0., 0., 1.]),\n",
       " array([10.858999  , 10.88163264, 10.90426629, 10.92689993, 10.94953357,\n",
       "        10.97216722, 10.99480086, 11.0174345 , 11.04006815, 11.06270179,\n",
       "        11.08533544, 11.10796908, 11.13060272, 11.15323637, 11.17587001,\n",
       "        11.19850365, 11.2211373 , 11.24377094, 11.26640459, 11.28903823,\n",
       "        11.31167187, 11.33430552, 11.35693916, 11.3795728 , 11.40220645,\n",
       "        11.42484009, 11.44747374, 11.47010738, 11.49274102, 11.51537467,\n",
       "        11.53800831, 11.56064196, 11.5832756 , 11.60590924, 11.62854289,\n",
       "        11.65117653, 11.67381017, 11.69644382, 11.71907746, 11.74171111,\n",
       "        11.76434475, 11.78697839, 11.80961204, 11.83224568, 11.85487932,\n",
       "        11.87751297, 11.90014661, 11.92278026, 11.9454139 , 11.96804754,\n",
       "        11.99068119, 12.01331483, 12.03594848, 12.05858212, 12.08121576,\n",
       "        12.10384941, 12.12648305, 12.14911669, 12.17175034, 12.19438398,\n",
       "        12.21701763, 12.23965127, 12.26228491, 12.28491856, 12.3075522 ,\n",
       "        12.33018584, 12.35281949, 12.37545313, 12.39808678, 12.42072042,\n",
       "        12.44335406, 12.46598771, 12.48862135, 12.51125499, 12.53388864,\n",
       "        12.55652228, 12.57915593, 12.60178957, 12.62442321, 12.64705686,\n",
       "        12.6696905 , 12.69232415, 12.71495779, 12.73759143, 12.76022508,\n",
       "        12.78285872, 12.80549236, 12.82812601, 12.85075965, 12.8733933 ,\n",
       "        12.89602694, 12.91866058, 12.94129423, 12.96392787, 12.98656151,\n",
       "        13.00919516, 13.0318288 , 13.05446245, 13.07709609, 13.09972973,\n",
       "        13.12236338]),\n",
       " <BarContainer object of 100 artists>)"
      ]
     },
     "execution_count": 26,
     "metadata": {},
     "output_type": "execute_result"
    },
    {
     "data": {
      "image/png": "[encoded data removed]",
      "text/plain": [
       "<Figure size 640x480 with 1 Axes>"
      ]
     },
     "metadata": {},
     "output_type": "display_data"
    }
   ],
   "source": [
    "plt.hist(employee_df['log_salary'], bins=100)"
   ]
  },
  {
   "cell_type": "code",
   "execution_count": 1,
   "id": "58f87175",
   "metadata": {},
   "outputs": [
    {
     "name": "stderr",
     "output_type": "stream",
     "text": [
      "Matplotlib is building the font cache; this may take a moment.\n"
     ]
    }
   ],
   "source": [
    "import pandas as pd\n",
    "import numpy as np\n",
    "import matplotlib.pyplot as plt"
   ]
  },
  {
   "cell_type": "code",
   "execution_count": 2,
   "id": "fb6da1ce",
   "metadata": {},
   "outputs": [
    {
     "data": {
      "text/html": [
       "<div>\n",
       "<style scoped>\n",
       "    .dataframe tbody tr th:only-of-type {\n",
       "        vertical-align: middle;\n",
       "    }\n",
       "\n",
       "    .dataframe tbody tr th {\n",
       "        vertical-align: top;\n",
       "    }\n",
       "\n",
       "    .dataframe thead th {\n",
       "        text-align: right;\n",
       "    }\n",
       "</style>\n",
       "<table border=\"1\" class=\"dataframe\">\n",
       "  <thead>\n",
       "    <tr style=\"text-align: right;\">\n",
       "      <th></th>\n",
       "      <th>employee_id</th>\n",
       "      <th>first_name</th>\n",
       "      <th>last_name</th>\n",
       "      <th>age</th>\n",
       "      <th>gender</th>\n",
       "      <th>department</th>\n",
       "      <th>salary</th>\n",
       "    </tr>\n",
       "  </thead>\n",
       "  <tbody>\n",
       "    <tr>\n",
       "      <th>0</th>\n",
       "      <td>1</td>\n",
       "      <td>John</td>\n",
       "      <td>Doe</td>\n",
       "      <td>35</td>\n",
       "      <td>Male</td>\n",
       "      <td>Marketing</td>\n",
       "      <td>500000</td>\n",
       "    </tr>\n",
       "    <tr>\n",
       "      <th>1</th>\n",
       "      <td>2</td>\n",
       "      <td>Jane</td>\n",
       "      <td>Smith</td>\n",
       "      <td>28</td>\n",
       "      <td>Female</td>\n",
       "      <td>Sales</td>\n",
       "      <td>60000</td>\n",
       "    </tr>\n",
       "    <tr>\n",
       "      <th>2</th>\n",
       "      <td>3</td>\n",
       "      <td>Michael</td>\n",
       "      <td>Johnson</td>\n",
       "      <td>42</td>\n",
       "      <td>Male</td>\n",
       "      <td>Finance</td>\n",
       "      <td>70000</td>\n",
       "    </tr>\n",
       "    <tr>\n",
       "      <th>3</th>\n",
       "      <td>4</td>\n",
       "      <td>Emily</td>\n",
       "      <td>Williams</td>\n",
       "      <td>31</td>\n",
       "      <td>Female</td>\n",
       "      <td>HR</td>\n",
       "      <td>55000</td>\n",
       "    </tr>\n",
       "    <tr>\n",
       "      <th>4</th>\n",
       "      <td>5</td>\n",
       "      <td>James</td>\n",
       "      <td>Brown</td>\n",
       "      <td>37</td>\n",
       "      <td>Male</td>\n",
       "      <td>Operations</td>\n",
       "      <td>65000</td>\n",
       "    </tr>\n",
       "  </tbody>\n",
       "</table>\n",
       "</div>"
      ],
      "text/plain": [
       "   employee_id first_name last_name  age  gender  department  salary\n",
       "0            1       John       Doe   35    Male   Marketing  500000\n",
       "1            2       Jane     Smith   28  Female       Sales   60000\n",
       "2            3    Michael   Johnson   42    Male     Finance   70000\n",
       "3            4      Emily  Williams   31  Female          HR   55000\n",
       "4            5      James     Brown   37    Male  Operations   65000"
      ]
     },
     "execution_count": 2,
     "metadata": {},
     "output_type": "execute_result"
    }
   ],
   "source": [
    "employee_df = pd.read_csv('Employee_transformation.csv')\n",
    "employee_df.head()"
   ]
  },
  {
   "cell_type": "code",
   "execution_count": 3,
   "id": "ab2780ed",
   "metadata": {},
   "outputs": [
    {
     "data": {
      "text/plain": [
       "52000"
      ]
     },
     "execution_count": 3,
     "metadata": {},
     "output_type": "execute_result"
    }
   ],
   "source": [
    "np.min(employee_df['salary'])"
   ]
  },
  {
   "cell_type": "code",
   "execution_count": 4,
   "id": "0a19075a",
   "metadata": {},
   "outputs": [
    {
     "data": {
      "text/plain": [
       "500000"
      ]
     },
     "execution_count": 4,
     "metadata": {},
     "output_type": "execute_result"
    }
   ],
   "source": [
    "np.max(employee_df['salary'])"
   ]
  },
  {
   "cell_type": "code",
   "execution_count": 5,
   "id": "50859feb",
   "metadata": {},
   "outputs": [
    {
     "data": {
      "text/html": [
       "<div>\n",
       "<style scoped>\n",
       "    .dataframe tbody tr th:only-of-type {\n",
       "        vertical-align: middle;\n",
       "    }\n",
       "\n",
       "    .dataframe tbody tr th {\n",
       "        vertical-align: top;\n",
       "    }\n",
       "\n",
       "    .dataframe thead th {\n",
       "        text-align: right;\n",
       "    }\n",
       "</style>\n",
       "<table border=\"1\" class=\"dataframe\">\n",
       "  <thead>\n",
       "    <tr style=\"text-align: right;\">\n",
       "      <th></th>\n",
       "      <th>employee_id</th>\n",
       "      <th>first_name</th>\n",
       "      <th>last_name</th>\n",
       "      <th>age</th>\n",
       "      <th>gender</th>\n",
       "      <th>department</th>\n",
       "      <th>salary</th>\n",
       "      <th>log_salary</th>\n",
       "    </tr>\n",
       "  </thead>\n",
       "  <tbody>\n",
       "    <tr>\n",
       "      <th>0</th>\n",
       "      <td>1</td>\n",
       "      <td>John</td>\n",
       "      <td>Doe</td>\n",
       "      <td>35</td>\n",
       "      <td>Male</td>\n",
       "      <td>Marketing</td>\n",
       "      <td>500000</td>\n",
       "      <td>13.122363</td>\n",
       "    </tr>\n",
       "    <tr>\n",
       "      <th>1</th>\n",
       "      <td>2</td>\n",
       "      <td>Jane</td>\n",
       "      <td>Smith</td>\n",
       "      <td>28</td>\n",
       "      <td>Female</td>\n",
       "      <td>Sales</td>\n",
       "      <td>60000</td>\n",
       "      <td>11.002100</td>\n",
       "    </tr>\n",
       "    <tr>\n",
       "      <th>2</th>\n",
       "      <td>3</td>\n",
       "      <td>Michael</td>\n",
       "      <td>Johnson</td>\n",
       "      <td>42</td>\n",
       "      <td>Male</td>\n",
       "      <td>Finance</td>\n",
       "      <td>70000</td>\n",
       "      <td>11.156251</td>\n",
       "    </tr>\n",
       "    <tr>\n",
       "      <th>3</th>\n",
       "      <td>4</td>\n",
       "      <td>Emily</td>\n",
       "      <td>Williams</td>\n",
       "      <td>31</td>\n",
       "      <td>Female</td>\n",
       "      <td>HR</td>\n",
       "      <td>55000</td>\n",
       "      <td>10.915088</td>\n",
       "    </tr>\n",
       "    <tr>\n",
       "      <th>4</th>\n",
       "      <td>5</td>\n",
       "      <td>James</td>\n",
       "      <td>Brown</td>\n",
       "      <td>37</td>\n",
       "      <td>Male</td>\n",
       "      <td>Operations</td>\n",
       "      <td>65000</td>\n",
       "      <td>11.082143</td>\n",
       "    </tr>\n",
       "  </tbody>\n",
       "</table>\n",
       "</div>"
      ],
      "text/plain": [
       "   employee_id first_name last_name  age  gender  department  salary  \\\n",
       "0            1       John       Doe   35    Male   Marketing  500000   \n",
       "1            2       Jane     Smith   28  Female       Sales   60000   \n",
       "2            3    Michael   Johnson   42    Male     Finance   70000   \n",
       "3            4      Emily  Williams   31  Female          HR   55000   \n",
       "4            5      James     Brown   37    Male  Operations   65000   \n",
       "\n",
       "   log_salary  \n",
       "0   13.122363  \n",
       "1   11.002100  \n",
       "2   11.156251  \n",
       "3   10.915088  \n",
       "4   11.082143  "
      ]
     },
     "execution_count": 5,
     "metadata": {},
     "output_type": "execute_result"
    }
   ],
   "source": [
    "employee_df['log_salary'] = np.log(employee_df['salary'])\n",
    "employee_df.head()"
   ]
  },
  {
   "cell_type": "code",
   "execution_count": 6,
   "id": "29c1db87",
   "metadata": {},
   "outputs": [
    {
     "data": {
      "text/plain": [
       "10.858998997563564"
      ]
     },
     "execution_count": 6,
     "metadata": {},
     "output_type": "execute_result"
    }
   ],
   "source": [
    "np.min(employee_df['log_salary'])"
   ]
  },
  {
   "cell_type": "code",
   "execution_count": 7,
   "id": "f10c51da",
   "metadata": {},
   "outputs": [
    {
     "data": {
      "text/plain": [
       "13.122363377404328"
      ]
     },
     "execution_count": 7,
     "metadata": {},
     "output_type": "execute_result"
    }
   ],
   "source": [
    "np.max(employee_df['log_salary'])"
   ]
  },
  {
   "cell_type": "code",
   "execution_count": 8,
   "id": "c03c9f89",
   "metadata": {},
   "outputs": [
    {
     "data": {
      "text/plain": [
       "(array([ 6.,  5.,  8.,  7., 13., 10., 10.,  5.,  9.,  4.,  4.,  4.,  4.,\n",
       "         2.,  3.,  1.,  2.,  1.,  0.,  0.,  0.,  0.,  0.,  0.,  0.,  0.,\n",
       "         0.,  0.,  0.,  0.,  0.,  0.,  0.,  0.,  0.,  0.,  0.,  0.,  0.,\n",
       "         0.,  0.,  0.,  0.,  0.,  0.,  0.,  0.,  0.,  0.,  0.,  0.,  0.,\n",
       "         0.,  0.,  0.,  0.,  0.,  0.,  0.,  0.,  0.,  0.,  0.,  0.,  0.,\n",
       "         0.,  0.,  0.,  0.,  0.,  0.,  0.,  0.,  0.,  0.,  0.,  0.,  0.,\n",
       "         0.,  0.,  0.,  0.,  0.,  0.,  0.,  0.,  0.,  0.,  0.,  0.,  0.,\n",
       "         0.,  0.,  0.,  0.,  0.,  0.,  0.,  0.,  1.]),\n",
       " array([ 52000.,  56480.,  60960.,  65440.,  69920.,  74400.,  78880.,\n",
       "         83360.,  87840.,  92320.,  96800., 101280., 105760., 110240.,\n",
       "        114720., 119200., 123680., 128160., 132640., 137120., 141600.,\n",
       "        146080., 150560., 155040., 159520., 164000., 168480., 172960.,\n",
       "        177440., 181920., 186400., 190880., 195360., 199840., 204320.,\n",
       "        208800., 213280., 217760., 222240., 226720., 231200., 235680.,\n",
       "        240160., 244640., 249120., 253600., 258080., 262560., 267040.,\n",
       "        271520., 276000., 280480., 284960., 289440., 293920., 298400.,\n",
       "        302880., 307360., 311840., 316320., 320800., 325280., 329760.,\n",
       "        334240., 338720., 343200., 347680., 352160., 356640., 361120.,\n",
       "        365600., 370080., 374560., 379040., 383520., 388000., 392480.,\n",
       "        396960., 401440., 405920., 410400., 414880., 419360., 423840.,\n",
       "        428320., 432800., 437280., 441760., 446240., 450720., 455200.,\n",
       "        459680., 464160., 468640., 473120., 477600., 482080., 486560.,\n",
       "        491040., 495520., 500000.]),\n",
       " <BarContainer object of 100 artists>)"
      ]
     },
     "execution_count": 8,
     "metadata": {},
     "output_type": "execute_result"
    },
    {
     "data": {
      "image/png": "[encoded data removed]",
      "text/plain": [
       "<Figure size 640x480 with 1 Axes>"
      ]
     },
     "metadata": {},
     "output_type": "display_data"
    }
   ],
   "source": [
    "plt.hist(employee_df['salary'], bins=100)"
   ]
  },
  {
   "cell_type": "code",
   "execution_count": 9,
   "id": "33778157",
   "metadata": {},
   "outputs": [
    {
     "data": {
      "text/plain": [
       "(array([2., 1., 2., 1., 2., 0., 3., 3., 1., 4., 2., 5., 0., 5., 6., 2., 5.,\n",
       "        5., 1., 5., 4., 3., 2., 3., 2., 4., 3., 4., 1., 2., 0., 2., 3., 3.,\n",
       "        0., 2., 1., 1., 1., 1., 0., 1., 0., 0., 0., 0., 0., 0., 0., 0., 0.,\n",
       "        0., 0., 0., 0., 0., 0., 0., 0., 0., 0., 0., 0., 0., 0., 0., 0., 0.,\n",
       "        0., 0., 0., 0., 0., 0., 0., 0., 0., 0., 0., 0., 0., 0., 0., 0., 0.,\n",
       "        0., 0., 0., 0., 0., 0., 0., 0., 0., 0., 0., 0., 0., 0., 1.]),\n",
       " array([10.858999  , 10.88163264, 10.90426629, 10.92689993, 10.94953357,\n",
       "        10.97216722, 10.99480086, 11.0174345 , 11.04006815, 11.06270179,\n",
       "        11.08533544, 11.10796908, 11.13060272, 11.15323637, 11.17587001,\n",
       "        11.19850365, 11.2211373 , 11.24377094, 11.26640459, 11.28903823,\n",
       "        11.31167187, 11.33430552, 11.35693916, 11.3795728 , 11.40220645,\n",
       "        11.42484009, 11.44747374, 11.47010738, 11.49274102, 11.51537467,\n",
       "        11.53800831, 11.56064196, 11.5832756 , 11.60590924, 11.62854289,\n",
       "        11.65117653, 11.67381017, 11.69644382, 11.71907746, 11.74171111,\n",
       "        11.76434475, 11.78697839, 11.80961204, 11.83224568, 11.85487932,\n",
       "        11.87751297, 11.90014661, 11.92278026, 11.9454139 , 11.96804754,\n",
       "        11.99068119, 12.01331483, 12.03594848, 12.05858212, 12.08121576,\n",
       "        12.10384941, 12.12648305, 12.14911669, 12.17175034, 12.19438398,\n",
       "        12.21701763, 12.23965127, 12.26228491, 12.28491856, 12.3075522 ,\n",
       "        12.33018584, 12.35281949, 12.37545313, 12.39808678, 12.42072042,\n",
       "        12.44335406, 12.46598771, 12.48862135, 12.51125499, 12.53388864,\n",
       "        12.55652228, 12.57915593, 12.60178957, 12.62442321, 12.64705686,\n",
       "        12.6696905 , 12.69232415, 12.71495779, 12.73759143, 12.76022508,\n",
       "        12.78285872, 12.80549236, 12.82812601, 12.85075965, 12.8733933 ,\n",
       "        12.89602694, 12.91866058, 12.94129423, 12.96392787, 12.98656151,\n",
       "        13.00919516, 13.0318288 , 13.05446245, 13.07709609, 13.09972973,\n",
       "        13.12236338]),\n",
       " <BarContainer object of 100 artists>)"
      ]
     },
     "execution_count": 9,
     "metadata": {},
     "output_type": "execute_result"
    },
    {
     "data": {
      "image/png": "[encoded data removed]",
      "text/plain": [
       "<Figure size 640x480 with 1 Axes>"
      ]
     },
     "metadata": {},
     "output_type": "display_data"
    }
   ],
   "source": [
    "plt.hist(employee_df['log_salary'], bins=100)"
   ]
  },
  {
   "cell_type": "code",
   "execution_count": null,
   "id": "92d306f7",
   "metadata": {},
   "outputs": [],
   "source": []
  },
  {
   "cell_type": "code",
   "execution_count": null,
   "id": "584634d6",
   "metadata": {},
   "outputs": [],
   "source": []
  },
  {
   "cell_type": "code",
   "execution_count": null,
   "id": "73b34e0d",
   "metadata": {},
   "outputs": [],
   "source": []
  },
  {
   "cell_type": "code",
   "execution_count": null,
   "id": "69677098",
   "metadata": {},
   "outputs": [],
   "source": []
  }
 ],
 "metadata": {
  "kernelspec": {
   "display_name": "Python 3 (ipykernel)",
   "language": "python",
   "name": "python3"
  },
  "language_info": {
   "codemirror_mode": {
    "name": "ipython",
    "version": 3
   },
   "file_extension": ".py",
   "mimetype": "text/x-python",
   "name": "python",
   "nbconvert_exporter": "python",
   "pygments_lexer": "ipython3",
   "version": "3.11.5"
  }
 },
 "nbformat": 4,
 "nbformat_minor": 5
}
