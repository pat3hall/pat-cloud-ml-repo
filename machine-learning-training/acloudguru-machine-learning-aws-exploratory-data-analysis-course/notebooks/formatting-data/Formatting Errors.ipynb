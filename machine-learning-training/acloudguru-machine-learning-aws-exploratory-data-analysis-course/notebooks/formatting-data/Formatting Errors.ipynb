{
 "cells": [
  {
   "cell_type": "code",
   "execution_count": 1,
   "id": "67c3a138",
   "metadata": {},
   "outputs": [],
   "source": [
    "import pandas as pd\n",
    "import numpy as np"
   ]
  },
  {
   "cell_type": "code",
   "execution_count": 2,
   "id": "2428ec49",
   "metadata": {},
   "outputs": [
    {
     "data": {
      "text/html": [
       "<div>\n",
       "<style scoped>\n",
       "    .dataframe tbody tr th:only-of-type {\n",
       "        vertical-align: middle;\n",
       "    }\n",
       "\n",
       "    .dataframe tbody tr th {\n",
       "        vertical-align: top;\n",
       "    }\n",
       "\n",
       "    .dataframe thead th {\n",
       "        text-align: right;\n",
       "    }\n",
       "</style>\n",
       "<table border=\"1\" class=\"dataframe\">\n",
       "  <thead>\n",
       "    <tr style=\"text-align: right;\">\n",
       "      <th></th>\n",
       "      <th>employee_id</th>\n",
       "      <th>first_name</th>\n",
       "      <th>last_name</th>\n",
       "      <th>age</th>\n",
       "      <th>gender</th>\n",
       "      <th>department</th>\n",
       "      <th>salary</th>\n",
       "    </tr>\n",
       "  </thead>\n",
       "  <tbody>\n",
       "    <tr>\n",
       "      <th>0</th>\n",
       "      <td>1</td>\n",
       "      <td>JOHN</td>\n",
       "      <td>DOE</td>\n",
       "      <td>35</td>\n",
       "      <td>Male</td>\n",
       "      <td>marketing</td>\n",
       "      <td>50000.6700</td>\n",
       "    </tr>\n",
       "    <tr>\n",
       "      <th>1</th>\n",
       "      <td>2</td>\n",
       "      <td>ja ne</td>\n",
       "      <td>smith</td>\n",
       "      <td>28</td>\n",
       "      <td>Female</td>\n",
       "      <td>Saless</td>\n",
       "      <td>60000.0000</td>\n",
       "    </tr>\n",
       "    <tr>\n",
       "      <th>2</th>\n",
       "      <td>3</td>\n",
       "      <td>Mic hael</td>\n",
       "      <td>Johnson</td>\n",
       "      <td>42</td>\n",
       "      <td>Male</td>\n",
       "      <td>Finance</td>\n",
       "      <td>70000.6768</td>\n",
       "    </tr>\n",
       "    <tr>\n",
       "      <th>3</th>\n",
       "      <td>4</td>\n",
       "      <td>Emily</td>\n",
       "      <td>williams</td>\n",
       "      <td>31</td>\n",
       "      <td>Female</td>\n",
       "      <td>HR</td>\n",
       "      <td>55000.0000</td>\n",
       "    </tr>\n",
       "    <tr>\n",
       "      <th>4</th>\n",
       "      <td>5</td>\n",
       "      <td>JaMes</td>\n",
       "      <td>BROwn</td>\n",
       "      <td>37</td>\n",
       "      <td>M</td>\n",
       "      <td>Operations</td>\n",
       "      <td>65000.2200</td>\n",
       "    </tr>\n",
       "  </tbody>\n",
       "</table>\n",
       "</div>"
      ],
      "text/plain": [
       "   employee_id  first_name  last_name  age  gender  department      salary\n",
       "0            1       JOHN         DOE   35    Male   marketing  50000.6700\n",
       "1            2       ja ne      smith   28  Female      Saless  60000.0000\n",
       "2            3  Mic hael      Johnson   42    Male     Finance  70000.6768\n",
       "3            4     Emily     williams   31  Female          HR  55000.0000\n",
       "4            5     JaMes        BROwn   37       M  Operations  65000.2200"
      ]
     },
     "execution_count": 2,
     "metadata": {},
     "output_type": "execute_result"
    }
   ],
   "source": [
    "df = pd.read_csv('Employee_errors.csv')\n",
    "df.head()"
   ]
  },
  {
   "cell_type": "code",
   "execution_count": 3,
   "id": "de46de66",
   "metadata": {},
   "outputs": [
    {
     "data": {
      "text/plain": [
       "employee_id      int64\n",
       "first_name      object\n",
       "last_name       object\n",
       "age              int64\n",
       "gender          object\n",
       "department      object\n",
       "salary         float64\n",
       "dtype: object"
      ]
     },
     "execution_count": 3,
     "metadata": {},
     "output_type": "execute_result"
    }
   ],
   "source": [
    "df.dtypes"
   ]
  },
  {
   "cell_type": "code",
   "execution_count": 4,
   "id": "b58d21d5",
   "metadata": {},
   "outputs": [
    {
     "data": {
      "text/plain": [
       "0         john \n",
       "1         ja ne\n",
       "2    mic hael  \n",
       "3       emily  \n",
       "4       james  \n",
       "Name: first_name, dtype: object"
      ]
     },
     "execution_count": 4,
     "metadata": {},
     "output_type": "execute_result"
    }
   ],
   "source": [
    "df['first_name'] = df['first_name'].str.lower()\n",
    "df['first_name'].head()"
   ]
  },
  {
   "cell_type": "code",
   "execution_count": 5,
   "id": "dbfe2474",
   "metadata": {},
   "outputs": [
    {
     "data": {
      "text/plain": [
       "0          doe\n",
       "1        smith\n",
       "2      johnson\n",
       "3     williams\n",
       "4        brown\n",
       "Name: last_name, dtype: object"
      ]
     },
     "execution_count": 5,
     "metadata": {},
     "output_type": "execute_result"
    }
   ],
   "source": [
    "df['last_name'] = df['last_name'].str.lower()\n",
    "df['last_name'].head()"
   ]
  },
  {
   "cell_type": "code",
   "execution_count": 6,
   "id": "9c83f69f",
   "metadata": {},
   "outputs": [
    {
     "data": {
      "text/plain": [
       "0       john\n",
       "1       jane\n",
       "2    michael\n",
       "3      emily\n",
       "4      james\n",
       "Name: first_name, dtype: object"
      ]
     },
     "execution_count": 6,
     "metadata": {},
     "output_type": "execute_result"
    }
   ],
   "source": [
    "df['first_name'] = df['first_name'].str.replace(' ','')\n",
    "df['last_name'] = df['last_name'].str.replace(' ','')\n",
    "df['first_name'].head()"
   ]
  },
  {
   "cell_type": "code",
   "execution_count": 7,
   "id": "62082d50",
   "metadata": {},
   "outputs": [
    {
     "data": {
      "text/plain": [
       "0       john\n",
       "1       jane\n",
       "2    michael\n",
       "3      emily\n",
       "4      james\n",
       "Name: first_name, dtype: object"
      ]
     },
     "execution_count": 7,
     "metadata": {},
     "output_type": "execute_result"
    }
   ],
   "source": [
    "df['first_name'] = df['first_name'].str.strip()\n",
    "df['last_name'] = df['last_name'].str.strip()\n",
    "df['first_name'].head()"
   ]
  },
  {
   "cell_type": "code",
   "execution_count": 8,
   "id": "4a652b2b",
   "metadata": {},
   "outputs": [
    {
     "data": {
      "text/plain": [
       "array(['marketing', 'Saless', 'Finance', 'HR', 'Operations', 'IT',\n",
       "       'Marketting', 'Sales', 'Marketing'], dtype=object)"
      ]
     },
     "execution_count": 8,
     "metadata": {},
     "output_type": "execute_result"
    }
   ],
   "source": [
    "df['department'].unique()"
   ]
  },
  {
   "cell_type": "code",
   "execution_count": 9,
   "id": "4b6d9f4f",
   "metadata": {},
   "outputs": [],
   "source": [
    "def fix_errors(e):\n",
    "    if e == 'marketing':\n",
    "        return 'Marketing'\n",
    "    elif e == 'Saless':\n",
    "        return 'Sales'\n",
    "    elif e == 'Marketting':\n",
    "        return 'Marketing'\n",
    "    else :\n",
    "        return e"
   ]
  },
  {
   "cell_type": "code",
   "execution_count": 10,
   "id": "2bc54668",
   "metadata": {},
   "outputs": [
    {
     "data": {
      "text/plain": [
       "0     Marketing\n",
       "1         Sales\n",
       "2       Finance\n",
       "3            HR\n",
       "4    Operations\n",
       "Name: department, dtype: object"
      ]
     },
     "execution_count": 10,
     "metadata": {},
     "output_type": "execute_result"
    }
   ],
   "source": [
    "df['department'] = df['department'].apply(fix_errors)\n",
    "df['department'].head()\n"
   ]
  },
  {
   "cell_type": "code",
   "execution_count": 11,
   "id": "d2d7b497-b511-482f-ad9c-a6f2217d0ae2",
   "metadata": {},
   "outputs": [
    {
     "data": {
      "text/plain": [
       "array(['Marketing', 'Sales', 'Finance', 'HR', 'Operations', 'IT'],\n",
       "      dtype=object)"
      ]
     },
     "execution_count": 11,
     "metadata": {},
     "output_type": "execute_result"
    }
   ],
   "source": [
    "df['department'].unique()"
   ]
  },
  {
   "cell_type": "code",
   "execution_count": 12,
   "id": "0659f9e2",
   "metadata": {},
   "outputs": [
    {
     "data": {
      "text/plain": [
       "0    M\n",
       "1    F\n",
       "2    M\n",
       "3    F\n",
       "4    M\n",
       "Name: gender, dtype: object"
      ]
     },
     "execution_count": 12,
     "metadata": {},
     "output_type": "execute_result"
    }
   ],
   "source": [
    "gender = {'Male': 'M', 'Female': 'F', 'male': 'M', 'female': 'F', 'unknown': 'U', 'M': 'M', 'F': 'F', 'U': 'U'}\n",
    "df['gender'] = df['gender'].map(gender)\n",
    "df['gender'].head()"
   ]
  },
  {
   "cell_type": "code",
   "execution_count": 15,
   "id": "5bbbf3c7",
   "metadata": {},
   "outputs": [
    {
     "data": {
      "text/plain": [
       "0    50001.0\n",
       "1    60000.0\n",
       "2    70001.0\n",
       "3    55000.0\n",
       "4    65000.0\n",
       "Name: salary, dtype: float64"
      ]
     },
     "execution_count": 15,
     "metadata": {},
     "output_type": "execute_result"
    }
   ],
   "source": [
    "df['salary'] = df['salary'].round()\n",
    "df['salary'].head()"
   ]
  },
  {
   "cell_type": "code",
   "execution_count": 16,
   "id": "fa993dd4",
   "metadata": {},
   "outputs": [
    {
     "data": {
      "text/html": [
       "<div>\n",
       "<style scoped>\n",
       "    .dataframe tbody tr th:only-of-type {\n",
       "        vertical-align: middle;\n",
       "    }\n",
       "\n",
       "    .dataframe tbody tr th {\n",
       "        vertical-align: top;\n",
       "    }\n",
       "\n",
       "    .dataframe thead th {\n",
       "        text-align: right;\n",
       "    }\n",
       "</style>\n",
       "<table border=\"1\" class=\"dataframe\">\n",
       "  <thead>\n",
       "    <tr style=\"text-align: right;\">\n",
       "      <th></th>\n",
       "      <th>employee_id</th>\n",
       "      <th>first_name</th>\n",
       "      <th>last_name</th>\n",
       "      <th>age</th>\n",
       "      <th>gender</th>\n",
       "      <th>department</th>\n",
       "      <th>salary</th>\n",
       "    </tr>\n",
       "  </thead>\n",
       "  <tbody>\n",
       "    <tr>\n",
       "      <th>0</th>\n",
       "      <td>1</td>\n",
       "      <td>john</td>\n",
       "      <td>doe</td>\n",
       "      <td>35</td>\n",
       "      <td>M</td>\n",
       "      <td>Marketing</td>\n",
       "      <td>50001.0</td>\n",
       "    </tr>\n",
       "    <tr>\n",
       "      <th>1</th>\n",
       "      <td>2</td>\n",
       "      <td>jane</td>\n",
       "      <td>smith</td>\n",
       "      <td>28</td>\n",
       "      <td>F</td>\n",
       "      <td>Sales</td>\n",
       "      <td>60000.0</td>\n",
       "    </tr>\n",
       "    <tr>\n",
       "      <th>2</th>\n",
       "      <td>3</td>\n",
       "      <td>michael</td>\n",
       "      <td>johnson</td>\n",
       "      <td>42</td>\n",
       "      <td>M</td>\n",
       "      <td>Finance</td>\n",
       "      <td>70001.0</td>\n",
       "    </tr>\n",
       "    <tr>\n",
       "      <th>3</th>\n",
       "      <td>4</td>\n",
       "      <td>emily</td>\n",
       "      <td>williams</td>\n",
       "      <td>31</td>\n",
       "      <td>F</td>\n",
       "      <td>HR</td>\n",
       "      <td>55000.0</td>\n",
       "    </tr>\n",
       "    <tr>\n",
       "      <th>4</th>\n",
       "      <td>5</td>\n",
       "      <td>james</td>\n",
       "      <td>brown</td>\n",
       "      <td>37</td>\n",
       "      <td>M</td>\n",
       "      <td>Operations</td>\n",
       "      <td>65000.0</td>\n",
       "    </tr>\n",
       "  </tbody>\n",
       "</table>\n",
       "</div>"
      ],
      "text/plain": [
       "   employee_id first_name last_name  age gender  department   salary\n",
       "0            1       john       doe   35      M   Marketing  50001.0\n",
       "1            2       jane     smith   28      F       Sales  60000.0\n",
       "2            3    michael   johnson   42      M     Finance  70001.0\n",
       "3            4      emily  williams   31      F          HR  55000.0\n",
       "4            5      james     brown   37      M  Operations  65000.0"
      ]
     },
     "execution_count": 16,
     "metadata": {},
     "output_type": "execute_result"
    }
   ],
   "source": [
    "df.head()"
   ]
  },
  {
   "cell_type": "code",
   "execution_count": 17,
   "id": "ab7293c8",
   "metadata": {},
   "outputs": [
    {
     "data": {
      "text/plain": [
       "employee_id      int64\n",
       "first_name      object\n",
       "last_name       object\n",
       "age              int64\n",
       "gender          object\n",
       "department      object\n",
       "salary         float64\n",
       "dtype: object"
      ]
     },
     "execution_count": 17,
     "metadata": {},
     "output_type": "execute_result"
    }
   ],
   "source": [
    "df.dtypes"
   ]
  },
  {
   "cell_type": "code",
   "execution_count": null,
   "id": "edbe01a2",
   "metadata": {},
   "outputs": [],
   "source": []
  }
 ],
 "metadata": {
  "kernelspec": {
   "display_name": "Python 3 (ipykernel)",
   "language": "python",
   "name": "python3"
  },
  "language_info": {
   "codemirror_mode": {
    "name": "ipython",
    "version": 3
   },
   "file_extension": ".py",
   "mimetype": "text/x-python",
   "name": "python",
   "nbconvert_exporter": "python",
   "pygments_lexer": "ipython3",
   "version": "3.11.5"
  }
 },
 "nbformat": 4,
 "nbformat_minor": 5
}
